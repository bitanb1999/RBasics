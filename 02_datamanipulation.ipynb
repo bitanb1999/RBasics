{
  "nbformat": 4,
  "nbformat_minor": 0,
  "metadata": {
    "colab": {
      "name": "02_datamanipulation.ipynb",
      "provenance": [],
      "collapsed_sections": [],
      "toc_visible": true,
      "include_colab_link": true
    },
    "kernelspec": {
      "name": "ir",
      "display_name": "R"
    },
    "language_info": {
      "name": "R"
    }
  },
  "cells": [
    {
      "cell_type": "markdown",
      "metadata": {
        "id": "view-in-github",
        "colab_type": "text"
      },
      "source": [
        "<a href=\"https://colab.research.google.com/github/bitanb1999/RBasics/blob/main/02_datamanipulation.ipynb\" target=\"_parent\"><img src=\"https://colab.research.google.com/assets/colab-badge.svg\" alt=\"Open In Colab\"/></a>"
      ]
    },
    {
      "cell_type": "markdown",
      "metadata": {
        "id": "F-pPQdi3BZwb"
      },
      "source": [
        "# Welcome\n",
        "\n",
        "![](https://socialdatascience.network/courses/poster/r.png)\n",
        "\n",
        "**Welcome to the Intro to R Programming Workshop!**\n",
        "\n",
        "This is Part II. For a link to Part I click [here](https://colab.research.google.com/drive/1dLsdGbkvgn1JbWgsy9Z-pFmPd_2MG4Xu?usp=sharing).\n",
        "\n",
        "Link to Slides: https://favstats.github.io/ds3_r_intro/\n",
        "\n",
        "\n"
      ]
    },
    {
      "cell_type": "markdown",
      "metadata": {
        "id": "929d7eb2"
      },
      "source": [
        "\n",
        "# R Packages\n",
        "\n",
        "Packages are at the heart of R: \n",
        "\n",
        "* R packages are basically a collection of functions that you load into your working environment.\n",
        "\n",
        "* They contain code that other R users have prepared for the community.\n",
        "\n",
        "* It's good to know your packages, they can really make your life easier.\n",
        "\n",
        "* I suggest keeping track of package developments either on Twitter via #rstats\n",
        "\n",
        "* Or [postsyoumighthavemissed.com](https://postsyoumighthavemissed.com/posts/)\n",
        "\n"
      ]
    },
    {
      "cell_type": "markdown",
      "metadata": {
        "id": "148db2bf"
      },
      "source": [
        "\n",
        "You can install packages in R like this using the `install.packages` function:"
      ]
    },
    {
      "cell_type": "code",
      "metadata": {
        "eval": false,
        "id": "a02968dd",
        "colab": {
          "base_uri": "https://localhost:8080/"
        },
        "outputId": "4f3fefb3-9554-45cc-e0e5-de44447cca5c"
      },
      "source": [
        "install.packages(\"janitor\")"
      ],
      "execution_count": null,
      "outputs": [
        {
          "output_type": "stream",
          "text": [
            "Installing package into ‘/usr/local/lib/R/site-library’\n",
            "(as ‘lib’ is unspecified)\n",
            "\n",
            "also installing the dependency ‘snakecase’\n",
            "\n",
            "\n"
          ],
          "name": "stderr"
        }
      ]
    },
    {
      "cell_type": "markdown",
      "metadata": {
        "id": "0074f7f4"
      },
      "source": [
        "However, installing is not enough. You also need to load the package via `library`."
      ]
    },
    {
      "cell_type": "code",
      "metadata": {
        "id": "29e21dd6",
        "colab": {
          "base_uri": "https://localhost:8080/"
        },
        "outputId": "21d10abb-5c85-4752-939a-739d2247f880"
      },
      "source": [
        "library(janitor)"
      ],
      "execution_count": null,
      "outputs": [
        {
          "output_type": "stream",
          "text": [
            "Warning message in system(\"timedatectl\", intern = TRUE):\n",
            "“running command 'timedatectl' had status 1”\n",
            "\n",
            "Attaching package: ‘janitor’\n",
            "\n",
            "\n",
            "The following objects are masked from ‘package:stats’:\n",
            "\n",
            "    chisq.test, fisher.test\n",
            "\n",
            "\n"
          ],
          "name": "stderr"
        }
      ]
    },
    {
      "cell_type": "markdown",
      "metadata": {
        "id": "129c4980"
      },
      "source": [
        "Think of `install.packages` as buying a set of tools (for free!) and `library` as pulling out the tools each time you want to work with them."
      ]
    },
    {
      "cell_type": "markdown",
      "metadata": {
        "id": "D-X6OadVNoI7"
      },
      "source": [
        "# The Tidyverse"
      ]
    },
    {
      "cell_type": "markdown",
      "metadata": {
        "id": "d1d85ef3"
      },
      "source": [
        "\n",
        "\n",
        "![](https://predictivehacks.com/wp-content/uploads/2020/11/tidyverse-default.png)\n"
      ]
    },
    {
      "cell_type": "markdown",
      "metadata": {
        "id": "4a6d68a3"
      },
      "source": [
        "## What is the `tidyverse`?\n",
        "\n",
        "The tidyverse describes itself:\n",
        "\n",
        "> The tidyverse is an opinionated **collection of R packages** designed for data science. All packages share an underlying design philosophy, grammar, and data structures."
      ]
    },
    {
      "cell_type": "markdown",
      "metadata": {
        "id": "0280c68c"
      },
      "source": [
        "<center>\n",
        "<img src=\"https://rstudio-education.github.io/tidyverse-cookbook/images/data-science-workflow.png\" style=\"width: 60%\" />\n",
        "</center>\n"
      ]
    },
    {
      "cell_type": "markdown",
      "metadata": {
        "id": "e6c13239"
      },
      "source": [
        "## Core principle: tidy data\n",
        "\n",
        "* Every column is a variable.\n",
        "* Every row is an observation.\n",
        "* Every cell is a single value.\n",
        "\n",
        "We have already seen tidy data:\n",
        "\n",
        "| Animal | Maximum Lifespan | Animal/Human Years Ratio  |\n",
        "|  --- | ---  |  --- |  \n",
        "| Domestic dog | 24.0 | 5.10 |\n",
        "| Domestic cat | 30.0 | 4.08 |\n",
        "| American alligator | 77.0 | 1.59 | \n",
        "| Golden hamster | 3.9 | 31.41 |\n",
        "| King penguin | 26.0 |  4.71 |\n"
      ]
    },
    {
      "cell_type": "markdown",
      "metadata": {
        "id": "cfabc387"
      },
      "source": [
        "### Untidy data I\n",
        "\n",
        "\n",
        "| Animal | Type | Value  |\n",
        "|  --- | ---  |  --- |  \n",
        "| Domestic dog | lifespan | 24.0 |\n",
        "| Domestic dog | ratio | 5.10 |\n",
        "| Domestic cat | lifespan | 30.0 |\n",
        "| Domestic cat | ratio | 4.08 |\n",
        "| American alligator | lifespan | 77.0 | \n",
        "| American alligator | ratio | 1.59 |\n",
        "| Golden hamster | lifespan | 3.9 |\n",
        "| Golden hamster | ratio | 31.41 |\n",
        "| King penguin | lifespan |  26.0 |\n",
        "| King penguin | ratio |  4.71 |\n",
        "\n",
        "\n",
        "The data above has multiple rows with the same observation (animal).\n",
        "\n",
        "= not tidy\n",
        "\n"
      ]
    },
    {
      "cell_type": "markdown",
      "metadata": {
        "id": "b6bd073b"
      },
      "source": [
        "### Untidy data II\n",
        "\n",
        "| Animal | Lifespan/Ratio  |\n",
        "|  --- | ---  | \n",
        "| Domestic dog | 24.0 / 5.10 |\n",
        "| Domestic cat | 30.0 / 4.08 |\n",
        "| American alligator | 77.0 / 1.59 | \n",
        "| Golden hamster | 3.9 / 31.41 |\n",
        "| King penguin | 26.0 /  4.71 |\n",
        "\n",
        "The data above has multiple variables per column.\n",
        "\n",
        "= not tidy\n"
      ]
    },
    {
      "cell_type": "markdown",
      "metadata": {
        "id": "614ec48f"
      },
      "source": [
        "### Core principle: tidy data\n",
        "\n",
        "<center>\n",
        "<img src=\"https://www.openscapes.org/img/blog/tidydata/tidydata_2.jpg\" style=\"width: 80%\" />\n",
        "</center>\n",
        "\n",
        "Artist: [Allison Horst](https://github.com/allisonhorst)"
      ]
    },
    {
      "cell_type": "markdown",
      "metadata": {
        "id": "82e06ea5"
      },
      "source": [
        "\n",
        "Tidy data has two decisive advantages:\n",
        "\n",
        "* Consistently prepared data is easier to read, process, load and save.\n",
        "\n",
        "* Many procedures (or the associated functions) in R require this type of data.\n",
        "\n",
        "<center>\n",
        "<img src=\"https://www.openscapes.org/img/blog/tidydata/tidydata_4.jpg\" style=\"width: 40%\" />\n",
        "</center>\n",
        "\n",
        "Artist: [Allison Horst](https://github.com/allisonhorst)\n"
      ]
    },
    {
      "cell_type": "markdown",
      "metadata": {
        "id": "2d7c1502"
      },
      "source": [
        "## Installing and loading the tidyverse\n",
        "\n",
        "First we install the packages of the tidyverse like this:"
      ]
    },
    {
      "cell_type": "code",
      "metadata": {
        "eval": false,
        "id": "44a7fb9b",
        "colab": {
          "base_uri": "https://localhost:8080/"
        },
        "outputId": "a9a14855-932c-42b2-bc28-ede192abfd4d"
      },
      "source": [
        " install.packages(\"tidyverse\")"
      ],
      "execution_count": null,
      "outputs": [
        {
          "output_type": "stream",
          "text": [
            "Installing package into ‘/usr/local/lib/R/site-library’\n",
            "(as ‘lib’ is unspecified)\n",
            "\n"
          ],
          "name": "stderr"
        }
      ]
    },
    {
      "cell_type": "markdown",
      "metadata": {
        "id": "dd17495f"
      },
      "source": [
        "Then we load them:"
      ]
    },
    {
      "cell_type": "code",
      "metadata": {
        "lines_to_next_cell": 0,
        "id": "6174c050",
        "colab": {
          "base_uri": "https://localhost:8080/"
        },
        "outputId": "66f1d6dd-14d9-4fe5-8792-d0a128df0f8f"
      },
      "source": [
        "library(tidyverse)"
      ],
      "execution_count": null,
      "outputs": [
        {
          "output_type": "stream",
          "text": [
            "── \u001b[1mAttaching packages\u001b[22m ─────────────────────────────────────── tidyverse 1.3.1 ──\n",
            "\n",
            "\u001b[32m✔\u001b[39m \u001b[34mggplot2\u001b[39m 3.3.5     \u001b[32m✔\u001b[39m \u001b[34mpurrr  \u001b[39m 0.3.4\n",
            "\u001b[32m✔\u001b[39m \u001b[34mtibble \u001b[39m 3.1.2     \u001b[32m✔\u001b[39m \u001b[34mdplyr  \u001b[39m 1.0.7\n",
            "\u001b[32m✔\u001b[39m \u001b[34mtidyr  \u001b[39m 1.1.3     \u001b[32m✔\u001b[39m \u001b[34mstringr\u001b[39m 1.4.0\n",
            "\u001b[32m✔\u001b[39m \u001b[34mreadr  \u001b[39m 1.4.0     \u001b[32m✔\u001b[39m \u001b[34mforcats\u001b[39m 0.5.1\n",
            "\n",
            "── \u001b[1mConflicts\u001b[22m ────────────────────────────────────────── tidyverse_conflicts() ──\n",
            "\u001b[31m✖\u001b[39m \u001b[34mdplyr\u001b[39m::\u001b[32mfilter()\u001b[39m masks \u001b[34mstats\u001b[39m::filter()\n",
            "\u001b[31m✖\u001b[39m \u001b[34mdplyr\u001b[39m::\u001b[32mlag()\u001b[39m    masks \u001b[34mstats\u001b[39m::lag()\n",
            "\n"
          ],
          "name": "stderr"
        }
      ]
    },
    {
      "cell_type": "markdown",
      "metadata": {
        "id": "7e62bc39"
      },
      "source": [
        "## A new dataset appears..\n",
        "\n",
        "We are going to work with a new data from here on out.\n",
        "\n",
        "No worries, we will stay within the animal kingdom but we need a dataset that is a little more complex than what we have seen already.\n",
        "\n",
        "**Meet the Palmer Station penguins!**\n",
        "\n",
        "Data were collected and made available by [Dr. Kristen Gorman](https://www.uaf.edu/cfos/people/faculty/detail/kristen-gorman.php) and the [Palmer Station, Antarctica LTER](https://pal.lternet.edu/).\n",
        "\n"
      ]
    },
    {
      "cell_type": "markdown",
      "metadata": {
        "id": "adc2f869"
      },
      "source": [
        "\n",
        "<center>\n",
        "<img src=\"https://github.com/allisonhorst/palmerpenguins/raw/master/man/figures/lter_penguins.png\" style=\"width: 80%\" />\n",
        "</center>\n",
        "\n",
        "<center>\n",
        "<img src=\"https://github.com/allisonhorst/palmerpenguins/raw/master/man/figures/culmen_depth.png\" style=\"width: 80%\" />\n",
        "</center>\n",
        "\n",
        "Artist: [Allison Horst](https://github.com/allisonhorst)\n",
        "\n",
        "\n",
        "\n"
      ]
    },
    {
      "cell_type": "markdown",
      "metadata": {
        "id": "99261aed"
      },
      "source": [
        "### Palmer Penguins\n",
        "\n",
        "We could install the R package `palmerpenguins` and then access the data. \n",
        "\n",
        "However, we are going to use a different method: directly load a .csv file (comma-separated values) into R from the internet.\n",
        "\n",
        "We can use the `readr` package which provides many convenient functions to load data into R. Here we need `read_csv`:"
      ]
    },
    {
      "cell_type": "code",
      "metadata": {
        "lines_to_next_cell": 0,
        "id": "99e21f5f",
        "colab": {
          "base_uri": "https://localhost:8080/"
        },
        "outputId": "c1a8df60-cd96-4d4d-816a-42564302ec5e"
      },
      "source": [
        "penguins_raw <- read_csv(\"https://raw.githubusercontent.com/allisonhorst/palmerpenguins/master/inst/extdata/penguins_raw.csv\")\n"
      ],
      "execution_count": null,
      "outputs": [
        {
          "output_type": "stream",
          "text": [
            "\n",
            "\u001b[36m──\u001b[39m \u001b[1m\u001b[1mColumn specification\u001b[1m\u001b[22m \u001b[36m────────────────────────────────────────────────────────\u001b[39m\n",
            "cols(\n",
            "  studyName = \u001b[31mcol_character()\u001b[39m,\n",
            "  `Sample Number` = \u001b[32mcol_double()\u001b[39m,\n",
            "  Species = \u001b[31mcol_character()\u001b[39m,\n",
            "  Region = \u001b[31mcol_character()\u001b[39m,\n",
            "  Island = \u001b[31mcol_character()\u001b[39m,\n",
            "  Stage = \u001b[31mcol_character()\u001b[39m,\n",
            "  `Individual ID` = \u001b[31mcol_character()\u001b[39m,\n",
            "  `Clutch Completion` = \u001b[31mcol_character()\u001b[39m,\n",
            "  `Date Egg` = \u001b[34mcol_date(format = \"\")\u001b[39m,\n",
            "  `Culmen Length (mm)` = \u001b[32mcol_double()\u001b[39m,\n",
            "  `Culmen Depth (mm)` = \u001b[32mcol_double()\u001b[39m,\n",
            "  `Flipper Length (mm)` = \u001b[32mcol_double()\u001b[39m,\n",
            "  `Body Mass (g)` = \u001b[32mcol_double()\u001b[39m,\n",
            "  Sex = \u001b[31mcol_character()\u001b[39m,\n",
            "  `Delta 15 N (o/oo)` = \u001b[32mcol_double()\u001b[39m,\n",
            "  `Delta 13 C (o/oo)` = \u001b[32mcol_double()\u001b[39m,\n",
            "  Comments = \u001b[31mcol_character()\u001b[39m\n",
            ")\n",
            "\n",
            "\n"
          ],
          "name": "stderr"
        }
      ]
    },
    {
      "cell_type": "code",
      "metadata": {
        "lines_to_next_cell": 0,
        "id": "6a2f35d3",
        "colab": {
          "base_uri": "https://localhost:8080/",
          "height": 1000
        },
        "outputId": "a4618572-cf17-4de0-f5e3-dab4825a0255"
      },
      "source": [
        "penguins_raw"
      ],
      "execution_count": null,
      "outputs": [
        {
          "output_type": "display_data",
          "data": {
            "text/plain": [
              "    studyName Sample Number Species                                   Region\n",
              "1   PAL0708    1            Adelie Penguin (Pygoscelis adeliae)       Anvers\n",
              "2   PAL0708    2            Adelie Penguin (Pygoscelis adeliae)       Anvers\n",
              "3   PAL0708    3            Adelie Penguin (Pygoscelis adeliae)       Anvers\n",
              "4   PAL0708    4            Adelie Penguin (Pygoscelis adeliae)       Anvers\n",
              "5   PAL0708    5            Adelie Penguin (Pygoscelis adeliae)       Anvers\n",
              "6   PAL0708    6            Adelie Penguin (Pygoscelis adeliae)       Anvers\n",
              "7   PAL0708    7            Adelie Penguin (Pygoscelis adeliae)       Anvers\n",
              "8   PAL0708    8            Adelie Penguin (Pygoscelis adeliae)       Anvers\n",
              "9   PAL0708    9            Adelie Penguin (Pygoscelis adeliae)       Anvers\n",
              "10  PAL0708   10            Adelie Penguin (Pygoscelis adeliae)       Anvers\n",
              "11  PAL0708   11            Adelie Penguin (Pygoscelis adeliae)       Anvers\n",
              "12  PAL0708   12            Adelie Penguin (Pygoscelis adeliae)       Anvers\n",
              "13  PAL0708   13            Adelie Penguin (Pygoscelis adeliae)       Anvers\n",
              "14  PAL0708   14            Adelie Penguin (Pygoscelis adeliae)       Anvers\n",
              "15  PAL0708   15            Adelie Penguin (Pygoscelis adeliae)       Anvers\n",
              "16  PAL0708   16            Adelie Penguin (Pygoscelis adeliae)       Anvers\n",
              "17  PAL0708   17            Adelie Penguin (Pygoscelis adeliae)       Anvers\n",
              "18  PAL0708   18            Adelie Penguin (Pygoscelis adeliae)       Anvers\n",
              "19  PAL0708   19            Adelie Penguin (Pygoscelis adeliae)       Anvers\n",
              "20  PAL0708   20            Adelie Penguin (Pygoscelis adeliae)       Anvers\n",
              "21  PAL0708   21            Adelie Penguin (Pygoscelis adeliae)       Anvers\n",
              "22  PAL0708   22            Adelie Penguin (Pygoscelis adeliae)       Anvers\n",
              "23  PAL0708   23            Adelie Penguin (Pygoscelis adeliae)       Anvers\n",
              "24  PAL0708   24            Adelie Penguin (Pygoscelis adeliae)       Anvers\n",
              "25  PAL0708   25            Adelie Penguin (Pygoscelis adeliae)       Anvers\n",
              "26  PAL0708   26            Adelie Penguin (Pygoscelis adeliae)       Anvers\n",
              "27  PAL0708   27            Adelie Penguin (Pygoscelis adeliae)       Anvers\n",
              "28  PAL0708   28            Adelie Penguin (Pygoscelis adeliae)       Anvers\n",
              "29  PAL0708   29            Adelie Penguin (Pygoscelis adeliae)       Anvers\n",
              "30  PAL0708   30            Adelie Penguin (Pygoscelis adeliae)       Anvers\n",
              "⋮   ⋮         ⋮             ⋮                                         ⋮     \n",
              "315 PAL0809   39            Chinstrap penguin (Pygoscelis antarctica) Anvers\n",
              "316 PAL0809   40            Chinstrap penguin (Pygoscelis antarctica) Anvers\n",
              "317 PAL0809   41            Chinstrap penguin (Pygoscelis antarctica) Anvers\n",
              "318 PAL0809   42            Chinstrap penguin (Pygoscelis antarctica) Anvers\n",
              "319 PAL0809   43            Chinstrap penguin (Pygoscelis antarctica) Anvers\n",
              "320 PAL0809   44            Chinstrap penguin (Pygoscelis antarctica) Anvers\n",
              "321 PAL0910   45            Chinstrap penguin (Pygoscelis antarctica) Anvers\n",
              "322 PAL0910   46            Chinstrap penguin (Pygoscelis antarctica) Anvers\n",
              "323 PAL0910   47            Chinstrap penguin (Pygoscelis antarctica) Anvers\n",
              "324 PAL0910   48            Chinstrap penguin (Pygoscelis antarctica) Anvers\n",
              "325 PAL0910   49            Chinstrap penguin (Pygoscelis antarctica) Anvers\n",
              "326 PAL0910   50            Chinstrap penguin (Pygoscelis antarctica) Anvers\n",
              "327 PAL0910   51            Chinstrap penguin (Pygoscelis antarctica) Anvers\n",
              "328 PAL0910   52            Chinstrap penguin (Pygoscelis antarctica) Anvers\n",
              "329 PAL0910   53            Chinstrap penguin (Pygoscelis antarctica) Anvers\n",
              "330 PAL0910   54            Chinstrap penguin (Pygoscelis antarctica) Anvers\n",
              "331 PAL0910   55            Chinstrap penguin (Pygoscelis antarctica) Anvers\n",
              "332 PAL0910   56            Chinstrap penguin (Pygoscelis antarctica) Anvers\n",
              "333 PAL0910   57            Chinstrap penguin (Pygoscelis antarctica) Anvers\n",
              "334 PAL0910   58            Chinstrap penguin (Pygoscelis antarctica) Anvers\n",
              "335 PAL0910   59            Chinstrap penguin (Pygoscelis antarctica) Anvers\n",
              "336 PAL0910   60            Chinstrap penguin (Pygoscelis antarctica) Anvers\n",
              "337 PAL0910   61            Chinstrap penguin (Pygoscelis antarctica) Anvers\n",
              "338 PAL0910   62            Chinstrap penguin (Pygoscelis antarctica) Anvers\n",
              "339 PAL0910   63            Chinstrap penguin (Pygoscelis antarctica) Anvers\n",
              "340 PAL0910   64            Chinstrap penguin (Pygoscelis antarctica) Anvers\n",
              "341 PAL0910   65            Chinstrap penguin (Pygoscelis antarctica) Anvers\n",
              "342 PAL0910   66            Chinstrap penguin (Pygoscelis antarctica) Anvers\n",
              "343 PAL0910   67            Chinstrap penguin (Pygoscelis antarctica) Anvers\n",
              "344 PAL0910   68            Chinstrap penguin (Pygoscelis antarctica) Anvers\n",
              "    Island    Stage              Individual ID Clutch Completion Date Egg  \n",
              "1   Torgersen Adult, 1 Egg Stage N1A1          Yes               2007-11-11\n",
              "2   Torgersen Adult, 1 Egg Stage N1A2          Yes               2007-11-11\n",
              "3   Torgersen Adult, 1 Egg Stage N2A1          Yes               2007-11-16\n",
              "4   Torgersen Adult, 1 Egg Stage N2A2          Yes               2007-11-16\n",
              "5   Torgersen Adult, 1 Egg Stage N3A1          Yes               2007-11-16\n",
              "6   Torgersen Adult, 1 Egg Stage N3A2          Yes               2007-11-16\n",
              "7   Torgersen Adult, 1 Egg Stage N4A1          No                2007-11-15\n",
              "8   Torgersen Adult, 1 Egg Stage N4A2          No                2007-11-15\n",
              "9   Torgersen Adult, 1 Egg Stage N5A1          Yes               2007-11-09\n",
              "10  Torgersen Adult, 1 Egg Stage N5A2          Yes               2007-11-09\n",
              "11  Torgersen Adult, 1 Egg Stage N6A1          Yes               2007-11-09\n",
              "12  Torgersen Adult, 1 Egg Stage N6A2          Yes               2007-11-09\n",
              "13  Torgersen Adult, 1 Egg Stage N7A1          Yes               2007-11-15\n",
              "14  Torgersen Adult, 1 Egg Stage N7A2          Yes               2007-11-15\n",
              "15  Torgersen Adult, 1 Egg Stage N8A1          Yes               2007-11-16\n",
              "16  Torgersen Adult, 1 Egg Stage N8A2          Yes               2007-11-16\n",
              "17  Torgersen Adult, 1 Egg Stage N9A1          Yes               2007-11-12\n",
              "18  Torgersen Adult, 1 Egg Stage N9A2          Yes               2007-11-12\n",
              "19  Torgersen Adult, 1 Egg Stage N10A1         Yes               2007-11-16\n",
              "20  Torgersen Adult, 1 Egg Stage N10A2         Yes               2007-11-16\n",
              "21  Biscoe    Adult, 1 Egg Stage N11A1         Yes               2007-11-12\n",
              "22  Biscoe    Adult, 1 Egg Stage N11A2         Yes               2007-11-12\n",
              "23  Biscoe    Adult, 1 Egg Stage N12A1         Yes               2007-11-12\n",
              "24  Biscoe    Adult, 1 Egg Stage N12A2         Yes               2007-11-12\n",
              "25  Biscoe    Adult, 1 Egg Stage N13A1         Yes               2007-11-10\n",
              "26  Biscoe    Adult, 1 Egg Stage N13A2         Yes               2007-11-10\n",
              "27  Biscoe    Adult, 1 Egg Stage N17A1         Yes               2007-11-12\n",
              "28  Biscoe    Adult, 1 Egg Stage N17A2         Yes               2007-11-12\n",
              "29  Biscoe    Adult, 1 Egg Stage N18A1         No                2007-11-10\n",
              "30  Biscoe    Adult, 1 Egg Stage N18A2         No                2007-11-10\n",
              "⋮   ⋮         ⋮                  ⋮             ⋮                 ⋮         \n",
              "315 Dream     Adult, 1 Egg Stage N72A1         No                2008-11-24\n",
              "316 Dream     Adult, 1 Egg Stage N72A2         No                2008-11-24\n",
              "317 Dream     Adult, 1 Egg Stage N74A1         Yes               2008-11-24\n",
              "318 Dream     Adult, 1 Egg Stage N74A2         Yes               2008-11-24\n",
              "319 Dream     Adult, 1 Egg Stage N75A1         Yes               2008-11-14\n",
              "320 Dream     Adult, 1 Egg Stage N75A2         Yes               2008-11-14\n",
              "321 Dream     Adult, 1 Egg Stage N86A1         Yes               2009-11-17\n",
              "322 Dream     Adult, 1 Egg Stage N86A2         Yes               2009-11-17\n",
              "323 Dream     Adult, 1 Egg Stage N87A1         Yes               2009-11-27\n",
              "324 Dream     Adult, 1 Egg Stage N87A2         Yes               2009-11-27\n",
              "325 Dream     Adult, 1 Egg Stage N88A1         Yes               2009-11-23\n",
              "326 Dream     Adult, 1 Egg Stage N88A2         Yes               2009-11-23\n",
              "327 Dream     Adult, 1 Egg Stage N90A1         Yes               2009-11-21\n",
              "328 Dream     Adult, 1 Egg Stage N90A2         Yes               2009-11-21\n",
              "329 Dream     Adult, 1 Egg Stage N92A1         Yes               2009-11-23\n",
              "330 Dream     Adult, 1 Egg Stage N92A2         Yes               2009-11-23\n",
              "331 Dream     Adult, 1 Egg Stage N93A1         Yes               2009-11-27\n",
              "332 Dream     Adult, 1 Egg Stage N93A2         Yes               2009-11-27\n",
              "333 Dream     Adult, 1 Egg Stage N94A1         Yes               2009-11-21\n",
              "334 Dream     Adult, 1 Egg Stage N94A2         Yes               2009-11-21\n",
              "335 Dream     Adult, 1 Egg Stage N95A1         Yes               2009-11-21\n",
              "336 Dream     Adult, 1 Egg Stage N95A2         Yes               2009-11-21\n",
              "337 Dream     Adult, 1 Egg Stage N96A1         Yes               2009-11-27\n",
              "338 Dream     Adult, 1 Egg Stage N96A2         Yes               2009-11-27\n",
              "339 Dream     Adult, 1 Egg Stage N98A1         Yes               2009-11-19\n",
              "340 Dream     Adult, 1 Egg Stage N98A2         Yes               2009-11-19\n",
              "341 Dream     Adult, 1 Egg Stage N99A1         No                2009-11-21\n",
              "342 Dream     Adult, 1 Egg Stage N99A2         No                2009-11-21\n",
              "343 Dream     Adult, 1 Egg Stage N100A1        Yes               2009-11-21\n",
              "344 Dream     Adult, 1 Egg Stage N100A2        Yes               2009-11-21\n",
              "    Culmen Length (mm) Culmen Depth (mm) Flipper Length (mm) Body Mass (g)\n",
              "1   39.1               18.7              181                 3750         \n",
              "2   39.5               17.4              186                 3800         \n",
              "3   40.3               18.0              195                 3250         \n",
              "4     NA                 NA               NA                   NA         \n",
              "5   36.7               19.3              193                 3450         \n",
              "6   39.3               20.6              190                 3650         \n",
              "7   38.9               17.8              181                 3625         \n",
              "8   39.2               19.6              195                 4675         \n",
              "9   34.1               18.1              193                 3475         \n",
              "10  42.0               20.2              190                 4250         \n",
              "11  37.8               17.1              186                 3300         \n",
              "12  37.8               17.3              180                 3700         \n",
              "13  41.1               17.6              182                 3200         \n",
              "14  38.6               21.2              191                 3800         \n",
              "15  34.6               21.1              198                 4400         \n",
              "16  36.6               17.8              185                 3700         \n",
              "17  38.7               19.0              195                 3450         \n",
              "18  42.5               20.7              197                 4500         \n",
              "19  34.4               18.4              184                 3325         \n",
              "20  46.0               21.5              194                 4200         \n",
              "21  37.8               18.3              174                 3400         \n",
              "22  37.7               18.7              180                 3600         \n",
              "23  35.9               19.2              189                 3800         \n",
              "24  38.2               18.1              185                 3950         \n",
              "25  38.8               17.2              180                 3800         \n",
              "26  35.3               18.9              187                 3800         \n",
              "27  40.6               18.6              183                 3550         \n",
              "28  40.5               17.9              187                 3200         \n",
              "29  37.9               18.6              172                 3150         \n",
              "30  40.5               18.9              180                 3950         \n",
              "⋮   ⋮                  ⋮                 ⋮                   ⋮            \n",
              "315 46.9               16.6              192                 2700         \n",
              "316 53.5               19.9              205                 4500         \n",
              "317 49.0               19.5              210                 3950         \n",
              "318 46.2               17.5              187                 3650         \n",
              "319 50.9               19.1              196                 3550         \n",
              "320 45.5               17.0              196                 3500         \n",
              "321 50.9               17.9              196                 3675         \n",
              "322 50.8               18.5              201                 4450         \n",
              "323 50.1               17.9              190                 3400         \n",
              "324 49.0               19.6              212                 4300         \n",
              "325 51.5               18.7              187                 3250         \n",
              "326 49.8               17.3              198                 3675         \n",
              "327 48.1               16.4              199                 3325         \n",
              "328 51.4               19.0              201                 3950         \n",
              "329 45.7               17.3              193                 3600         \n",
              "330 50.7               19.7              203                 4050         \n",
              "331 42.5               17.3              187                 3350         \n",
              "332 52.2               18.8              197                 3450         \n",
              "333 45.2               16.6              191                 3250         \n",
              "334 49.3               19.9              203                 4050         \n",
              "335 50.2               18.8              202                 3800         \n",
              "336 45.6               19.4              194                 3525         \n",
              "337 51.9               19.5              206                 3950         \n",
              "338 46.8               16.5              189                 3650         \n",
              "339 45.7               17.0              195                 3650         \n",
              "340 55.8               19.8              207                 4000         \n",
              "341 43.5               18.1              202                 3400         \n",
              "342 49.6               18.2              193                 3775         \n",
              "343 50.8               19.0              210                 4100         \n",
              "344 50.2               18.7              198                 3775         \n",
              "    Sex    Delta 15 N (o/oo) Delta 13 C (o/oo)\n",
              "1   MALE        NA                  NA        \n",
              "2   FEMALE 8.94956           -24.69454        \n",
              "3   FEMALE 8.36821           -25.33302        \n",
              "4   NA          NA                  NA        \n",
              "5   FEMALE 8.76651           -25.32426        \n",
              "6   MALE   8.66496           -25.29805        \n",
              "7   FEMALE 9.18718           -25.21799        \n",
              "8   MALE   9.46060           -24.89958        \n",
              "9   NA          NA                  NA        \n",
              "10  NA     9.13362           -25.09368        \n",
              "11  NA     8.63243           -25.21315        \n",
              "12  NA          NA                  NA        \n",
              "13  FEMALE      NA                  NA        \n",
              "14  MALE        NA                  NA        \n",
              "15  MALE   8.55583           -25.22588        \n",
              "16  FEMALE      NA                  NA        \n",
              "17  FEMALE 9.18528           -25.06691        \n",
              "18  MALE   8.67538           -25.13993        \n",
              "19  FEMALE 8.47827           -25.23319        \n",
              "20  MALE   9.11616           -24.77227        \n",
              "21  FEMALE 8.73762           -25.09383        \n",
              "22  MALE   8.66271           -25.06390        \n",
              "23  FEMALE 9.22286           -25.03474        \n",
              "24  MALE   8.43423           -25.22664        \n",
              "25  MALE   9.63954           -25.29856        \n",
              "26  FEMALE 9.21292           -24.36130        \n",
              "27  MALE   8.93997           -25.36288        \n",
              "28  FEMALE 8.08138           -25.49448        \n",
              "29  FEMALE 8.38404           -25.19837        \n",
              "30  MALE   8.90027           -25.11609        \n",
              "⋮   ⋮      ⋮                 ⋮                \n",
              "315 FEMALE  9.80589          -24.73735        \n",
              "316 MALE   10.02544          -24.90816        \n",
              "317 MALE    9.53262          -24.66867        \n",
              "318 FEMALE  9.61734          -24.66188        \n",
              "319 MALE   10.02372          -24.86594        \n",
              "320 FEMALE  9.36493          -24.66259        \n",
              "321 FEMALE  9.43684          -24.16566        \n",
              "322 MALE    9.45827          -24.35575        \n",
              "323 FEMALE  9.46819          -24.45721        \n",
              "324 MALE    9.34089          -24.45189        \n",
              "325 MALE    9.68950          -24.43062        \n",
              "326 FEMALE  9.32169          -24.41562        \n",
              "327 FEMALE  9.46929          -24.48403        \n",
              "328 MALE    9.43782          -24.36202        \n",
              "329 FEMALE  9.41500          -24.80500        \n",
              "330 MALE    9.93727          -24.59066        \n",
              "331 FEMALE  9.56534          -24.60882        \n",
              "332 MALE    9.77528          -24.56481        \n",
              "333 FEMALE  9.62357          -24.78984        \n",
              "334 MALE    9.88809          -24.59513        \n",
              "335 MALE    9.74492          -24.40400        \n",
              "336 FEMALE  9.46985          -24.65786        \n",
              "337 MALE         NA          -23.78767        \n",
              "338 FEMALE  9.65061          -24.48153        \n",
              "339 FEMALE  9.26715          -24.31912        \n",
              "340 MALE    9.70465          -24.53494        \n",
              "341 FEMALE  9.37608          -24.40753        \n",
              "342 MALE    9.46180          -24.70615        \n",
              "343 MALE    9.98044          -24.68741        \n",
              "344 FEMALE  9.39305          -24.25255        \n",
              "    Comments                             \n",
              "1   Not enough blood for isotopes.       \n",
              "2   NA                                   \n",
              "3   NA                                   \n",
              "4   Adult not sampled.                   \n",
              "5   NA                                   \n",
              "6   NA                                   \n",
              "7   Nest never observed with full clutch.\n",
              "8   Nest never observed with full clutch.\n",
              "9   No blood sample obtained.            \n",
              "10  No blood sample obtained for sexing. \n",
              "11  No blood sample obtained for sexing. \n",
              "12  No blood sample obtained.            \n",
              "13  Not enough blood for isotopes.       \n",
              "14  Not enough blood for isotopes.       \n",
              "15  NA                                   \n",
              "16  Not enough blood for isotopes.       \n",
              "17  NA                                   \n",
              "18  NA                                   \n",
              "19  NA                                   \n",
              "20  NA                                   \n",
              "21  NA                                   \n",
              "22  NA                                   \n",
              "23  NA                                   \n",
              "24  NA                                   \n",
              "25  NA                                   \n",
              "26  NA                                   \n",
              "27  NA                                   \n",
              "28  NA                                   \n",
              "29  Nest never observed with full clutch.\n",
              "30  Nest never observed with full clutch.\n",
              "⋮   ⋮                                    \n",
              "315 Nest never observed with full clutch.\n",
              "316 Nest never observed with full clutch.\n",
              "317 NA                                   \n",
              "318 NA                                   \n",
              "319 NA                                   \n",
              "320 NA                                   \n",
              "321 NA                                   \n",
              "322 NA                                   \n",
              "323 NA                                   \n",
              "324 NA                                   \n",
              "325 NA                                   \n",
              "326 NA                                   \n",
              "327 NA                                   \n",
              "328 NA                                   \n",
              "329 NA                                   \n",
              "330 NA                                   \n",
              "331 NA                                   \n",
              "332 NA                                   \n",
              "333 NA                                   \n",
              "334 NA                                   \n",
              "335 NA                                   \n",
              "336 NA                                   \n",
              "337 No delta15N data received from lab.  \n",
              "338 NA                                   \n",
              "339 NA                                   \n",
              "340 NA                                   \n",
              "341 Nest never observed with full clutch.\n",
              "342 Nest never observed with full clutch.\n",
              "343 NA                                   \n",
              "344 NA                                   "
            ],
            "text/latex": "A spec\\_tbl\\_df: 344 × 17\n\\begin{tabular}{lllllllllllllllll}\n studyName & Sample Number & Species & Region & Island & Stage & Individual ID & Clutch Completion & Date Egg & Culmen Length (mm) & Culmen Depth (mm) & Flipper Length (mm) & Body Mass (g) & Sex & Delta 15 N (o/oo) & Delta 13 C (o/oo) & Comments\\\\\n <chr> & <dbl> & <chr> & <chr> & <chr> & <chr> & <chr> & <chr> & <date> & <dbl> & <dbl> & <dbl> & <dbl> & <chr> & <dbl> & <dbl> & <chr>\\\\\n\\hline\n\t PAL0708 &  1 & Adelie Penguin (Pygoscelis adeliae) & Anvers & Torgersen & Adult, 1 Egg Stage & N1A1  & Yes & 2007-11-11 & 39.1 & 18.7 & 181 & 3750 & MALE   &      NA &        NA & Not enough blood for isotopes.       \\\\\n\t PAL0708 &  2 & Adelie Penguin (Pygoscelis adeliae) & Anvers & Torgersen & Adult, 1 Egg Stage & N1A2  & Yes & 2007-11-11 & 39.5 & 17.4 & 186 & 3800 & FEMALE & 8.94956 & -24.69454 & NA                                   \\\\\n\t PAL0708 &  3 & Adelie Penguin (Pygoscelis adeliae) & Anvers & Torgersen & Adult, 1 Egg Stage & N2A1  & Yes & 2007-11-16 & 40.3 & 18.0 & 195 & 3250 & FEMALE & 8.36821 & -25.33302 & NA                                   \\\\\n\t PAL0708 &  4 & Adelie Penguin (Pygoscelis adeliae) & Anvers & Torgersen & Adult, 1 Egg Stage & N2A2  & Yes & 2007-11-16 &   NA &   NA &  NA &   NA & NA     &      NA &        NA & Adult not sampled.                   \\\\\n\t PAL0708 &  5 & Adelie Penguin (Pygoscelis adeliae) & Anvers & Torgersen & Adult, 1 Egg Stage & N3A1  & Yes & 2007-11-16 & 36.7 & 19.3 & 193 & 3450 & FEMALE & 8.76651 & -25.32426 & NA                                   \\\\\n\t PAL0708 &  6 & Adelie Penguin (Pygoscelis adeliae) & Anvers & Torgersen & Adult, 1 Egg Stage & N3A2  & Yes & 2007-11-16 & 39.3 & 20.6 & 190 & 3650 & MALE   & 8.66496 & -25.29805 & NA                                   \\\\\n\t PAL0708 &  7 & Adelie Penguin (Pygoscelis adeliae) & Anvers & Torgersen & Adult, 1 Egg Stage & N4A1  & No  & 2007-11-15 & 38.9 & 17.8 & 181 & 3625 & FEMALE & 9.18718 & -25.21799 & Nest never observed with full clutch.\\\\\n\t PAL0708 &  8 & Adelie Penguin (Pygoscelis adeliae) & Anvers & Torgersen & Adult, 1 Egg Stage & N4A2  & No  & 2007-11-15 & 39.2 & 19.6 & 195 & 4675 & MALE   & 9.46060 & -24.89958 & Nest never observed with full clutch.\\\\\n\t PAL0708 &  9 & Adelie Penguin (Pygoscelis adeliae) & Anvers & Torgersen & Adult, 1 Egg Stage & N5A1  & Yes & 2007-11-09 & 34.1 & 18.1 & 193 & 3475 & NA     &      NA &        NA & No blood sample obtained.            \\\\\n\t PAL0708 & 10 & Adelie Penguin (Pygoscelis adeliae) & Anvers & Torgersen & Adult, 1 Egg Stage & N5A2  & Yes & 2007-11-09 & 42.0 & 20.2 & 190 & 4250 & NA     & 9.13362 & -25.09368 & No blood sample obtained for sexing. \\\\\n\t PAL0708 & 11 & Adelie Penguin (Pygoscelis adeliae) & Anvers & Torgersen & Adult, 1 Egg Stage & N6A1  & Yes & 2007-11-09 & 37.8 & 17.1 & 186 & 3300 & NA     & 8.63243 & -25.21315 & No blood sample obtained for sexing. \\\\\n\t PAL0708 & 12 & Adelie Penguin (Pygoscelis adeliae) & Anvers & Torgersen & Adult, 1 Egg Stage & N6A2  & Yes & 2007-11-09 & 37.8 & 17.3 & 180 & 3700 & NA     &      NA &        NA & No blood sample obtained.            \\\\\n\t PAL0708 & 13 & Adelie Penguin (Pygoscelis adeliae) & Anvers & Torgersen & Adult, 1 Egg Stage & N7A1  & Yes & 2007-11-15 & 41.1 & 17.6 & 182 & 3200 & FEMALE &      NA &        NA & Not enough blood for isotopes.       \\\\\n\t PAL0708 & 14 & Adelie Penguin (Pygoscelis adeliae) & Anvers & Torgersen & Adult, 1 Egg Stage & N7A2  & Yes & 2007-11-15 & 38.6 & 21.2 & 191 & 3800 & MALE   &      NA &        NA & Not enough blood for isotopes.       \\\\\n\t PAL0708 & 15 & Adelie Penguin (Pygoscelis adeliae) & Anvers & Torgersen & Adult, 1 Egg Stage & N8A1  & Yes & 2007-11-16 & 34.6 & 21.1 & 198 & 4400 & MALE   & 8.55583 & -25.22588 & NA                                   \\\\\n\t PAL0708 & 16 & Adelie Penguin (Pygoscelis adeliae) & Anvers & Torgersen & Adult, 1 Egg Stage & N8A2  & Yes & 2007-11-16 & 36.6 & 17.8 & 185 & 3700 & FEMALE &      NA &        NA & Not enough blood for isotopes.       \\\\\n\t PAL0708 & 17 & Adelie Penguin (Pygoscelis adeliae) & Anvers & Torgersen & Adult, 1 Egg Stage & N9A1  & Yes & 2007-11-12 & 38.7 & 19.0 & 195 & 3450 & FEMALE & 9.18528 & -25.06691 & NA                                   \\\\\n\t PAL0708 & 18 & Adelie Penguin (Pygoscelis adeliae) & Anvers & Torgersen & Adult, 1 Egg Stage & N9A2  & Yes & 2007-11-12 & 42.5 & 20.7 & 197 & 4500 & MALE   & 8.67538 & -25.13993 & NA                                   \\\\\n\t PAL0708 & 19 & Adelie Penguin (Pygoscelis adeliae) & Anvers & Torgersen & Adult, 1 Egg Stage & N10A1 & Yes & 2007-11-16 & 34.4 & 18.4 & 184 & 3325 & FEMALE & 8.47827 & -25.23319 & NA                                   \\\\\n\t PAL0708 & 20 & Adelie Penguin (Pygoscelis adeliae) & Anvers & Torgersen & Adult, 1 Egg Stage & N10A2 & Yes & 2007-11-16 & 46.0 & 21.5 & 194 & 4200 & MALE   & 9.11616 & -24.77227 & NA                                   \\\\\n\t PAL0708 & 21 & Adelie Penguin (Pygoscelis adeliae) & Anvers & Biscoe    & Adult, 1 Egg Stage & N11A1 & Yes & 2007-11-12 & 37.8 & 18.3 & 174 & 3400 & FEMALE & 8.73762 & -25.09383 & NA                                   \\\\\n\t PAL0708 & 22 & Adelie Penguin (Pygoscelis adeliae) & Anvers & Biscoe    & Adult, 1 Egg Stage & N11A2 & Yes & 2007-11-12 & 37.7 & 18.7 & 180 & 3600 & MALE   & 8.66271 & -25.06390 & NA                                   \\\\\n\t PAL0708 & 23 & Adelie Penguin (Pygoscelis adeliae) & Anvers & Biscoe    & Adult, 1 Egg Stage & N12A1 & Yes & 2007-11-12 & 35.9 & 19.2 & 189 & 3800 & FEMALE & 9.22286 & -25.03474 & NA                                   \\\\\n\t PAL0708 & 24 & Adelie Penguin (Pygoscelis adeliae) & Anvers & Biscoe    & Adult, 1 Egg Stage & N12A2 & Yes & 2007-11-12 & 38.2 & 18.1 & 185 & 3950 & MALE   & 8.43423 & -25.22664 & NA                                   \\\\\n\t PAL0708 & 25 & Adelie Penguin (Pygoscelis adeliae) & Anvers & Biscoe    & Adult, 1 Egg Stage & N13A1 & Yes & 2007-11-10 & 38.8 & 17.2 & 180 & 3800 & MALE   & 9.63954 & -25.29856 & NA                                   \\\\\n\t PAL0708 & 26 & Adelie Penguin (Pygoscelis adeliae) & Anvers & Biscoe    & Adult, 1 Egg Stage & N13A2 & Yes & 2007-11-10 & 35.3 & 18.9 & 187 & 3800 & FEMALE & 9.21292 & -24.36130 & NA                                   \\\\\n\t PAL0708 & 27 & Adelie Penguin (Pygoscelis adeliae) & Anvers & Biscoe    & Adult, 1 Egg Stage & N17A1 & Yes & 2007-11-12 & 40.6 & 18.6 & 183 & 3550 & MALE   & 8.93997 & -25.36288 & NA                                   \\\\\n\t PAL0708 & 28 & Adelie Penguin (Pygoscelis adeliae) & Anvers & Biscoe    & Adult, 1 Egg Stage & N17A2 & Yes & 2007-11-12 & 40.5 & 17.9 & 187 & 3200 & FEMALE & 8.08138 & -25.49448 & NA                                   \\\\\n\t PAL0708 & 29 & Adelie Penguin (Pygoscelis adeliae) & Anvers & Biscoe    & Adult, 1 Egg Stage & N18A1 & No  & 2007-11-10 & 37.9 & 18.6 & 172 & 3150 & FEMALE & 8.38404 & -25.19837 & Nest never observed with full clutch.\\\\\n\t PAL0708 & 30 & Adelie Penguin (Pygoscelis adeliae) & Anvers & Biscoe    & Adult, 1 Egg Stage & N18A2 & No  & 2007-11-10 & 40.5 & 18.9 & 180 & 3950 & MALE   & 8.90027 & -25.11609 & Nest never observed with full clutch.\\\\\n\t ⋮ & ⋮ & ⋮ & ⋮ & ⋮ & ⋮ & ⋮ & ⋮ & ⋮ & ⋮ & ⋮ & ⋮ & ⋮ & ⋮ & ⋮ & ⋮ & ⋮\\\\\n\t PAL0809 & 39 & Chinstrap penguin (Pygoscelis antarctica) & Anvers & Dream & Adult, 1 Egg Stage & N72A1  & No  & 2008-11-24 & 46.9 & 16.6 & 192 & 2700 & FEMALE &  9.80589 & -24.73735 & Nest never observed with full clutch.\\\\\n\t PAL0809 & 40 & Chinstrap penguin (Pygoscelis antarctica) & Anvers & Dream & Adult, 1 Egg Stage & N72A2  & No  & 2008-11-24 & 53.5 & 19.9 & 205 & 4500 & MALE   & 10.02544 & -24.90816 & Nest never observed with full clutch.\\\\\n\t PAL0809 & 41 & Chinstrap penguin (Pygoscelis antarctica) & Anvers & Dream & Adult, 1 Egg Stage & N74A1  & Yes & 2008-11-24 & 49.0 & 19.5 & 210 & 3950 & MALE   &  9.53262 & -24.66867 & NA                                   \\\\\n\t PAL0809 & 42 & Chinstrap penguin (Pygoscelis antarctica) & Anvers & Dream & Adult, 1 Egg Stage & N74A2  & Yes & 2008-11-24 & 46.2 & 17.5 & 187 & 3650 & FEMALE &  9.61734 & -24.66188 & NA                                   \\\\\n\t PAL0809 & 43 & Chinstrap penguin (Pygoscelis antarctica) & Anvers & Dream & Adult, 1 Egg Stage & N75A1  & Yes & 2008-11-14 & 50.9 & 19.1 & 196 & 3550 & MALE   & 10.02372 & -24.86594 & NA                                   \\\\\n\t PAL0809 & 44 & Chinstrap penguin (Pygoscelis antarctica) & Anvers & Dream & Adult, 1 Egg Stage & N75A2  & Yes & 2008-11-14 & 45.5 & 17.0 & 196 & 3500 & FEMALE &  9.36493 & -24.66259 & NA                                   \\\\\n\t PAL0910 & 45 & Chinstrap penguin (Pygoscelis antarctica) & Anvers & Dream & Adult, 1 Egg Stage & N86A1  & Yes & 2009-11-17 & 50.9 & 17.9 & 196 & 3675 & FEMALE &  9.43684 & -24.16566 & NA                                   \\\\\n\t PAL0910 & 46 & Chinstrap penguin (Pygoscelis antarctica) & Anvers & Dream & Adult, 1 Egg Stage & N86A2  & Yes & 2009-11-17 & 50.8 & 18.5 & 201 & 4450 & MALE   &  9.45827 & -24.35575 & NA                                   \\\\\n\t PAL0910 & 47 & Chinstrap penguin (Pygoscelis antarctica) & Anvers & Dream & Adult, 1 Egg Stage & N87A1  & Yes & 2009-11-27 & 50.1 & 17.9 & 190 & 3400 & FEMALE &  9.46819 & -24.45721 & NA                                   \\\\\n\t PAL0910 & 48 & Chinstrap penguin (Pygoscelis antarctica) & Anvers & Dream & Adult, 1 Egg Stage & N87A2  & Yes & 2009-11-27 & 49.0 & 19.6 & 212 & 4300 & MALE   &  9.34089 & -24.45189 & NA                                   \\\\\n\t PAL0910 & 49 & Chinstrap penguin (Pygoscelis antarctica) & Anvers & Dream & Adult, 1 Egg Stage & N88A1  & Yes & 2009-11-23 & 51.5 & 18.7 & 187 & 3250 & MALE   &  9.68950 & -24.43062 & NA                                   \\\\\n\t PAL0910 & 50 & Chinstrap penguin (Pygoscelis antarctica) & Anvers & Dream & Adult, 1 Egg Stage & N88A2  & Yes & 2009-11-23 & 49.8 & 17.3 & 198 & 3675 & FEMALE &  9.32169 & -24.41562 & NA                                   \\\\\n\t PAL0910 & 51 & Chinstrap penguin (Pygoscelis antarctica) & Anvers & Dream & Adult, 1 Egg Stage & N90A1  & Yes & 2009-11-21 & 48.1 & 16.4 & 199 & 3325 & FEMALE &  9.46929 & -24.48403 & NA                                   \\\\\n\t PAL0910 & 52 & Chinstrap penguin (Pygoscelis antarctica) & Anvers & Dream & Adult, 1 Egg Stage & N90A2  & Yes & 2009-11-21 & 51.4 & 19.0 & 201 & 3950 & MALE   &  9.43782 & -24.36202 & NA                                   \\\\\n\t PAL0910 & 53 & Chinstrap penguin (Pygoscelis antarctica) & Anvers & Dream & Adult, 1 Egg Stage & N92A1  & Yes & 2009-11-23 & 45.7 & 17.3 & 193 & 3600 & FEMALE &  9.41500 & -24.80500 & NA                                   \\\\\n\t PAL0910 & 54 & Chinstrap penguin (Pygoscelis antarctica) & Anvers & Dream & Adult, 1 Egg Stage & N92A2  & Yes & 2009-11-23 & 50.7 & 19.7 & 203 & 4050 & MALE   &  9.93727 & -24.59066 & NA                                   \\\\\n\t PAL0910 & 55 & Chinstrap penguin (Pygoscelis antarctica) & Anvers & Dream & Adult, 1 Egg Stage & N93A1  & Yes & 2009-11-27 & 42.5 & 17.3 & 187 & 3350 & FEMALE &  9.56534 & -24.60882 & NA                                   \\\\\n\t PAL0910 & 56 & Chinstrap penguin (Pygoscelis antarctica) & Anvers & Dream & Adult, 1 Egg Stage & N93A2  & Yes & 2009-11-27 & 52.2 & 18.8 & 197 & 3450 & MALE   &  9.77528 & -24.56481 & NA                                   \\\\\n\t PAL0910 & 57 & Chinstrap penguin (Pygoscelis antarctica) & Anvers & Dream & Adult, 1 Egg Stage & N94A1  & Yes & 2009-11-21 & 45.2 & 16.6 & 191 & 3250 & FEMALE &  9.62357 & -24.78984 & NA                                   \\\\\n\t PAL0910 & 58 & Chinstrap penguin (Pygoscelis antarctica) & Anvers & Dream & Adult, 1 Egg Stage & N94A2  & Yes & 2009-11-21 & 49.3 & 19.9 & 203 & 4050 & MALE   &  9.88809 & -24.59513 & NA                                   \\\\\n\t PAL0910 & 59 & Chinstrap penguin (Pygoscelis antarctica) & Anvers & Dream & Adult, 1 Egg Stage & N95A1  & Yes & 2009-11-21 & 50.2 & 18.8 & 202 & 3800 & MALE   &  9.74492 & -24.40400 & NA                                   \\\\\n\t PAL0910 & 60 & Chinstrap penguin (Pygoscelis antarctica) & Anvers & Dream & Adult, 1 Egg Stage & N95A2  & Yes & 2009-11-21 & 45.6 & 19.4 & 194 & 3525 & FEMALE &  9.46985 & -24.65786 & NA                                   \\\\\n\t PAL0910 & 61 & Chinstrap penguin (Pygoscelis antarctica) & Anvers & Dream & Adult, 1 Egg Stage & N96A1  & Yes & 2009-11-27 & 51.9 & 19.5 & 206 & 3950 & MALE   &       NA & -23.78767 & No delta15N data received from lab.  \\\\\n\t PAL0910 & 62 & Chinstrap penguin (Pygoscelis antarctica) & Anvers & Dream & Adult, 1 Egg Stage & N96A2  & Yes & 2009-11-27 & 46.8 & 16.5 & 189 & 3650 & FEMALE &  9.65061 & -24.48153 & NA                                   \\\\\n\t PAL0910 & 63 & Chinstrap penguin (Pygoscelis antarctica) & Anvers & Dream & Adult, 1 Egg Stage & N98A1  & Yes & 2009-11-19 & 45.7 & 17.0 & 195 & 3650 & FEMALE &  9.26715 & -24.31912 & NA                                   \\\\\n\t PAL0910 & 64 & Chinstrap penguin (Pygoscelis antarctica) & Anvers & Dream & Adult, 1 Egg Stage & N98A2  & Yes & 2009-11-19 & 55.8 & 19.8 & 207 & 4000 & MALE   &  9.70465 & -24.53494 & NA                                   \\\\\n\t PAL0910 & 65 & Chinstrap penguin (Pygoscelis antarctica) & Anvers & Dream & Adult, 1 Egg Stage & N99A1  & No  & 2009-11-21 & 43.5 & 18.1 & 202 & 3400 & FEMALE &  9.37608 & -24.40753 & Nest never observed with full clutch.\\\\\n\t PAL0910 & 66 & Chinstrap penguin (Pygoscelis antarctica) & Anvers & Dream & Adult, 1 Egg Stage & N99A2  & No  & 2009-11-21 & 49.6 & 18.2 & 193 & 3775 & MALE   &  9.46180 & -24.70615 & Nest never observed with full clutch.\\\\\n\t PAL0910 & 67 & Chinstrap penguin (Pygoscelis antarctica) & Anvers & Dream & Adult, 1 Egg Stage & N100A1 & Yes & 2009-11-21 & 50.8 & 19.0 & 210 & 4100 & MALE   &  9.98044 & -24.68741 & NA                                   \\\\\n\t PAL0910 & 68 & Chinstrap penguin (Pygoscelis antarctica) & Anvers & Dream & Adult, 1 Egg Stage & N100A2 & Yes & 2009-11-21 & 50.2 & 18.7 & 198 & 3775 & FEMALE &  9.39305 & -24.25255 & NA                                   \\\\\n\\end{tabular}\n",
            "text/markdown": "\nA spec_tbl_df: 344 × 17\n\n| studyName &lt;chr&gt; | Sample Number &lt;dbl&gt; | Species &lt;chr&gt; | Region &lt;chr&gt; | Island &lt;chr&gt; | Stage &lt;chr&gt; | Individual ID &lt;chr&gt; | Clutch Completion &lt;chr&gt; | Date Egg &lt;date&gt; | Culmen Length (mm) &lt;dbl&gt; | Culmen Depth (mm) &lt;dbl&gt; | Flipper Length (mm) &lt;dbl&gt; | Body Mass (g) &lt;dbl&gt; | Sex &lt;chr&gt; | Delta 15 N (o/oo) &lt;dbl&gt; | Delta 13 C (o/oo) &lt;dbl&gt; | Comments &lt;chr&gt; |\n|---|---|---|---|---|---|---|---|---|---|---|---|---|---|---|---|---|\n| PAL0708 |  1 | Adelie Penguin (Pygoscelis adeliae) | Anvers | Torgersen | Adult, 1 Egg Stage | N1A1  | Yes | 2007-11-11 | 39.1 | 18.7 | 181 | 3750 | MALE   |      NA |        NA | Not enough blood for isotopes.        |\n| PAL0708 |  2 | Adelie Penguin (Pygoscelis adeliae) | Anvers | Torgersen | Adult, 1 Egg Stage | N1A2  | Yes | 2007-11-11 | 39.5 | 17.4 | 186 | 3800 | FEMALE | 8.94956 | -24.69454 | NA                                    |\n| PAL0708 |  3 | Adelie Penguin (Pygoscelis adeliae) | Anvers | Torgersen | Adult, 1 Egg Stage | N2A1  | Yes | 2007-11-16 | 40.3 | 18.0 | 195 | 3250 | FEMALE | 8.36821 | -25.33302 | NA                                    |\n| PAL0708 |  4 | Adelie Penguin (Pygoscelis adeliae) | Anvers | Torgersen | Adult, 1 Egg Stage | N2A2  | Yes | 2007-11-16 |   NA |   NA |  NA |   NA | NA     |      NA |        NA | Adult not sampled.                    |\n| PAL0708 |  5 | Adelie Penguin (Pygoscelis adeliae) | Anvers | Torgersen | Adult, 1 Egg Stage | N3A1  | Yes | 2007-11-16 | 36.7 | 19.3 | 193 | 3450 | FEMALE | 8.76651 | -25.32426 | NA                                    |\n| PAL0708 |  6 | Adelie Penguin (Pygoscelis adeliae) | Anvers | Torgersen | Adult, 1 Egg Stage | N3A2  | Yes | 2007-11-16 | 39.3 | 20.6 | 190 | 3650 | MALE   | 8.66496 | -25.29805 | NA                                    |\n| PAL0708 |  7 | Adelie Penguin (Pygoscelis adeliae) | Anvers | Torgersen | Adult, 1 Egg Stage | N4A1  | No  | 2007-11-15 | 38.9 | 17.8 | 181 | 3625 | FEMALE | 9.18718 | -25.21799 | Nest never observed with full clutch. |\n| PAL0708 |  8 | Adelie Penguin (Pygoscelis adeliae) | Anvers | Torgersen | Adult, 1 Egg Stage | N4A2  | No  | 2007-11-15 | 39.2 | 19.6 | 195 | 4675 | MALE   | 9.46060 | -24.89958 | Nest never observed with full clutch. |\n| PAL0708 |  9 | Adelie Penguin (Pygoscelis adeliae) | Anvers | Torgersen | Adult, 1 Egg Stage | N5A1  | Yes | 2007-11-09 | 34.1 | 18.1 | 193 | 3475 | NA     |      NA |        NA | No blood sample obtained.             |\n| PAL0708 | 10 | Adelie Penguin (Pygoscelis adeliae) | Anvers | Torgersen | Adult, 1 Egg Stage | N5A2  | Yes | 2007-11-09 | 42.0 | 20.2 | 190 | 4250 | NA     | 9.13362 | -25.09368 | No blood sample obtained for sexing.  |\n| PAL0708 | 11 | Adelie Penguin (Pygoscelis adeliae) | Anvers | Torgersen | Adult, 1 Egg Stage | N6A1  | Yes | 2007-11-09 | 37.8 | 17.1 | 186 | 3300 | NA     | 8.63243 | -25.21315 | No blood sample obtained for sexing.  |\n| PAL0708 | 12 | Adelie Penguin (Pygoscelis adeliae) | Anvers | Torgersen | Adult, 1 Egg Stage | N6A2  | Yes | 2007-11-09 | 37.8 | 17.3 | 180 | 3700 | NA     |      NA |        NA | No blood sample obtained.             |\n| PAL0708 | 13 | Adelie Penguin (Pygoscelis adeliae) | Anvers | Torgersen | Adult, 1 Egg Stage | N7A1  | Yes | 2007-11-15 | 41.1 | 17.6 | 182 | 3200 | FEMALE |      NA |        NA | Not enough blood for isotopes.        |\n| PAL0708 | 14 | Adelie Penguin (Pygoscelis adeliae) | Anvers | Torgersen | Adult, 1 Egg Stage | N7A2  | Yes | 2007-11-15 | 38.6 | 21.2 | 191 | 3800 | MALE   |      NA |        NA | Not enough blood for isotopes.        |\n| PAL0708 | 15 | Adelie Penguin (Pygoscelis adeliae) | Anvers | Torgersen | Adult, 1 Egg Stage | N8A1  | Yes | 2007-11-16 | 34.6 | 21.1 | 198 | 4400 | MALE   | 8.55583 | -25.22588 | NA                                    |\n| PAL0708 | 16 | Adelie Penguin (Pygoscelis adeliae) | Anvers | Torgersen | Adult, 1 Egg Stage | N8A2  | Yes | 2007-11-16 | 36.6 | 17.8 | 185 | 3700 | FEMALE |      NA |        NA | Not enough blood for isotopes.        |\n| PAL0708 | 17 | Adelie Penguin (Pygoscelis adeliae) | Anvers | Torgersen | Adult, 1 Egg Stage | N9A1  | Yes | 2007-11-12 | 38.7 | 19.0 | 195 | 3450 | FEMALE | 9.18528 | -25.06691 | NA                                    |\n| PAL0708 | 18 | Adelie Penguin (Pygoscelis adeliae) | Anvers | Torgersen | Adult, 1 Egg Stage | N9A2  | Yes | 2007-11-12 | 42.5 | 20.7 | 197 | 4500 | MALE   | 8.67538 | -25.13993 | NA                                    |\n| PAL0708 | 19 | Adelie Penguin (Pygoscelis adeliae) | Anvers | Torgersen | Adult, 1 Egg Stage | N10A1 | Yes | 2007-11-16 | 34.4 | 18.4 | 184 | 3325 | FEMALE | 8.47827 | -25.23319 | NA                                    |\n| PAL0708 | 20 | Adelie Penguin (Pygoscelis adeliae) | Anvers | Torgersen | Adult, 1 Egg Stage | N10A2 | Yes | 2007-11-16 | 46.0 | 21.5 | 194 | 4200 | MALE   | 9.11616 | -24.77227 | NA                                    |\n| PAL0708 | 21 | Adelie Penguin (Pygoscelis adeliae) | Anvers | Biscoe    | Adult, 1 Egg Stage | N11A1 | Yes | 2007-11-12 | 37.8 | 18.3 | 174 | 3400 | FEMALE | 8.73762 | -25.09383 | NA                                    |\n| PAL0708 | 22 | Adelie Penguin (Pygoscelis adeliae) | Anvers | Biscoe    | Adult, 1 Egg Stage | N11A2 | Yes | 2007-11-12 | 37.7 | 18.7 | 180 | 3600 | MALE   | 8.66271 | -25.06390 | NA                                    |\n| PAL0708 | 23 | Adelie Penguin (Pygoscelis adeliae) | Anvers | Biscoe    | Adult, 1 Egg Stage | N12A1 | Yes | 2007-11-12 | 35.9 | 19.2 | 189 | 3800 | FEMALE | 9.22286 | -25.03474 | NA                                    |\n| PAL0708 | 24 | Adelie Penguin (Pygoscelis adeliae) | Anvers | Biscoe    | Adult, 1 Egg Stage | N12A2 | Yes | 2007-11-12 | 38.2 | 18.1 | 185 | 3950 | MALE   | 8.43423 | -25.22664 | NA                                    |\n| PAL0708 | 25 | Adelie Penguin (Pygoscelis adeliae) | Anvers | Biscoe    | Adult, 1 Egg Stage | N13A1 | Yes | 2007-11-10 | 38.8 | 17.2 | 180 | 3800 | MALE   | 9.63954 | -25.29856 | NA                                    |\n| PAL0708 | 26 | Adelie Penguin (Pygoscelis adeliae) | Anvers | Biscoe    | Adult, 1 Egg Stage | N13A2 | Yes | 2007-11-10 | 35.3 | 18.9 | 187 | 3800 | FEMALE | 9.21292 | -24.36130 | NA                                    |\n| PAL0708 | 27 | Adelie Penguin (Pygoscelis adeliae) | Anvers | Biscoe    | Adult, 1 Egg Stage | N17A1 | Yes | 2007-11-12 | 40.6 | 18.6 | 183 | 3550 | MALE   | 8.93997 | -25.36288 | NA                                    |\n| PAL0708 | 28 | Adelie Penguin (Pygoscelis adeliae) | Anvers | Biscoe    | Adult, 1 Egg Stage | N17A2 | Yes | 2007-11-12 | 40.5 | 17.9 | 187 | 3200 | FEMALE | 8.08138 | -25.49448 | NA                                    |\n| PAL0708 | 29 | Adelie Penguin (Pygoscelis adeliae) | Anvers | Biscoe    | Adult, 1 Egg Stage | N18A1 | No  | 2007-11-10 | 37.9 | 18.6 | 172 | 3150 | FEMALE | 8.38404 | -25.19837 | Nest never observed with full clutch. |\n| PAL0708 | 30 | Adelie Penguin (Pygoscelis adeliae) | Anvers | Biscoe    | Adult, 1 Egg Stage | N18A2 | No  | 2007-11-10 | 40.5 | 18.9 | 180 | 3950 | MALE   | 8.90027 | -25.11609 | Nest never observed with full clutch. |\n| ⋮ | ⋮ | ⋮ | ⋮ | ⋮ | ⋮ | ⋮ | ⋮ | ⋮ | ⋮ | ⋮ | ⋮ | ⋮ | ⋮ | ⋮ | ⋮ | ⋮ |\n| PAL0809 | 39 | Chinstrap penguin (Pygoscelis antarctica) | Anvers | Dream | Adult, 1 Egg Stage | N72A1  | No  | 2008-11-24 | 46.9 | 16.6 | 192 | 2700 | FEMALE |  9.80589 | -24.73735 | Nest never observed with full clutch. |\n| PAL0809 | 40 | Chinstrap penguin (Pygoscelis antarctica) | Anvers | Dream | Adult, 1 Egg Stage | N72A2  | No  | 2008-11-24 | 53.5 | 19.9 | 205 | 4500 | MALE   | 10.02544 | -24.90816 | Nest never observed with full clutch. |\n| PAL0809 | 41 | Chinstrap penguin (Pygoscelis antarctica) | Anvers | Dream | Adult, 1 Egg Stage | N74A1  | Yes | 2008-11-24 | 49.0 | 19.5 | 210 | 3950 | MALE   |  9.53262 | -24.66867 | NA                                    |\n| PAL0809 | 42 | Chinstrap penguin (Pygoscelis antarctica) | Anvers | Dream | Adult, 1 Egg Stage | N74A2  | Yes | 2008-11-24 | 46.2 | 17.5 | 187 | 3650 | FEMALE |  9.61734 | -24.66188 | NA                                    |\n| PAL0809 | 43 | Chinstrap penguin (Pygoscelis antarctica) | Anvers | Dream | Adult, 1 Egg Stage | N75A1  | Yes | 2008-11-14 | 50.9 | 19.1 | 196 | 3550 | MALE   | 10.02372 | -24.86594 | NA                                    |\n| PAL0809 | 44 | Chinstrap penguin (Pygoscelis antarctica) | Anvers | Dream | Adult, 1 Egg Stage | N75A2  | Yes | 2008-11-14 | 45.5 | 17.0 | 196 | 3500 | FEMALE |  9.36493 | -24.66259 | NA                                    |\n| PAL0910 | 45 | Chinstrap penguin (Pygoscelis antarctica) | Anvers | Dream | Adult, 1 Egg Stage | N86A1  | Yes | 2009-11-17 | 50.9 | 17.9 | 196 | 3675 | FEMALE |  9.43684 | -24.16566 | NA                                    |\n| PAL0910 | 46 | Chinstrap penguin (Pygoscelis antarctica) | Anvers | Dream | Adult, 1 Egg Stage | N86A2  | Yes | 2009-11-17 | 50.8 | 18.5 | 201 | 4450 | MALE   |  9.45827 | -24.35575 | NA                                    |\n| PAL0910 | 47 | Chinstrap penguin (Pygoscelis antarctica) | Anvers | Dream | Adult, 1 Egg Stage | N87A1  | Yes | 2009-11-27 | 50.1 | 17.9 | 190 | 3400 | FEMALE |  9.46819 | -24.45721 | NA                                    |\n| PAL0910 | 48 | Chinstrap penguin (Pygoscelis antarctica) | Anvers | Dream | Adult, 1 Egg Stage | N87A2  | Yes | 2009-11-27 | 49.0 | 19.6 | 212 | 4300 | MALE   |  9.34089 | -24.45189 | NA                                    |\n| PAL0910 | 49 | Chinstrap penguin (Pygoscelis antarctica) | Anvers | Dream | Adult, 1 Egg Stage | N88A1  | Yes | 2009-11-23 | 51.5 | 18.7 | 187 | 3250 | MALE   |  9.68950 | -24.43062 | NA                                    |\n| PAL0910 | 50 | Chinstrap penguin (Pygoscelis antarctica) | Anvers | Dream | Adult, 1 Egg Stage | N88A2  | Yes | 2009-11-23 | 49.8 | 17.3 | 198 | 3675 | FEMALE |  9.32169 | -24.41562 | NA                                    |\n| PAL0910 | 51 | Chinstrap penguin (Pygoscelis antarctica) | Anvers | Dream | Adult, 1 Egg Stage | N90A1  | Yes | 2009-11-21 | 48.1 | 16.4 | 199 | 3325 | FEMALE |  9.46929 | -24.48403 | NA                                    |\n| PAL0910 | 52 | Chinstrap penguin (Pygoscelis antarctica) | Anvers | Dream | Adult, 1 Egg Stage | N90A2  | Yes | 2009-11-21 | 51.4 | 19.0 | 201 | 3950 | MALE   |  9.43782 | -24.36202 | NA                                    |\n| PAL0910 | 53 | Chinstrap penguin (Pygoscelis antarctica) | Anvers | Dream | Adult, 1 Egg Stage | N92A1  | Yes | 2009-11-23 | 45.7 | 17.3 | 193 | 3600 | FEMALE |  9.41500 | -24.80500 | NA                                    |\n| PAL0910 | 54 | Chinstrap penguin (Pygoscelis antarctica) | Anvers | Dream | Adult, 1 Egg Stage | N92A2  | Yes | 2009-11-23 | 50.7 | 19.7 | 203 | 4050 | MALE   |  9.93727 | -24.59066 | NA                                    |\n| PAL0910 | 55 | Chinstrap penguin (Pygoscelis antarctica) | Anvers | Dream | Adult, 1 Egg Stage | N93A1  | Yes | 2009-11-27 | 42.5 | 17.3 | 187 | 3350 | FEMALE |  9.56534 | -24.60882 | NA                                    |\n| PAL0910 | 56 | Chinstrap penguin (Pygoscelis antarctica) | Anvers | Dream | Adult, 1 Egg Stage | N93A2  | Yes | 2009-11-27 | 52.2 | 18.8 | 197 | 3450 | MALE   |  9.77528 | -24.56481 | NA                                    |\n| PAL0910 | 57 | Chinstrap penguin (Pygoscelis antarctica) | Anvers | Dream | Adult, 1 Egg Stage | N94A1  | Yes | 2009-11-21 | 45.2 | 16.6 | 191 | 3250 | FEMALE |  9.62357 | -24.78984 | NA                                    |\n| PAL0910 | 58 | Chinstrap penguin (Pygoscelis antarctica) | Anvers | Dream | Adult, 1 Egg Stage | N94A2  | Yes | 2009-11-21 | 49.3 | 19.9 | 203 | 4050 | MALE   |  9.88809 | -24.59513 | NA                                    |\n| PAL0910 | 59 | Chinstrap penguin (Pygoscelis antarctica) | Anvers | Dream | Adult, 1 Egg Stage | N95A1  | Yes | 2009-11-21 | 50.2 | 18.8 | 202 | 3800 | MALE   |  9.74492 | -24.40400 | NA                                    |\n| PAL0910 | 60 | Chinstrap penguin (Pygoscelis antarctica) | Anvers | Dream | Adult, 1 Egg Stage | N95A2  | Yes | 2009-11-21 | 45.6 | 19.4 | 194 | 3525 | FEMALE |  9.46985 | -24.65786 | NA                                    |\n| PAL0910 | 61 | Chinstrap penguin (Pygoscelis antarctica) | Anvers | Dream | Adult, 1 Egg Stage | N96A1  | Yes | 2009-11-27 | 51.9 | 19.5 | 206 | 3950 | MALE   |       NA | -23.78767 | No delta15N data received from lab.   |\n| PAL0910 | 62 | Chinstrap penguin (Pygoscelis antarctica) | Anvers | Dream | Adult, 1 Egg Stage | N96A2  | Yes | 2009-11-27 | 46.8 | 16.5 | 189 | 3650 | FEMALE |  9.65061 | -24.48153 | NA                                    |\n| PAL0910 | 63 | Chinstrap penguin (Pygoscelis antarctica) | Anvers | Dream | Adult, 1 Egg Stage | N98A1  | Yes | 2009-11-19 | 45.7 | 17.0 | 195 | 3650 | FEMALE |  9.26715 | -24.31912 | NA                                    |\n| PAL0910 | 64 | Chinstrap penguin (Pygoscelis antarctica) | Anvers | Dream | Adult, 1 Egg Stage | N98A2  | Yes | 2009-11-19 | 55.8 | 19.8 | 207 | 4000 | MALE   |  9.70465 | -24.53494 | NA                                    |\n| PAL0910 | 65 | Chinstrap penguin (Pygoscelis antarctica) | Anvers | Dream | Adult, 1 Egg Stage | N99A1  | No  | 2009-11-21 | 43.5 | 18.1 | 202 | 3400 | FEMALE |  9.37608 | -24.40753 | Nest never observed with full clutch. |\n| PAL0910 | 66 | Chinstrap penguin (Pygoscelis antarctica) | Anvers | Dream | Adult, 1 Egg Stage | N99A2  | No  | 2009-11-21 | 49.6 | 18.2 | 193 | 3775 | MALE   |  9.46180 | -24.70615 | Nest never observed with full clutch. |\n| PAL0910 | 67 | Chinstrap penguin (Pygoscelis antarctica) | Anvers | Dream | Adult, 1 Egg Stage | N100A1 | Yes | 2009-11-21 | 50.8 | 19.0 | 210 | 4100 | MALE   |  9.98044 | -24.68741 | NA                                    |\n| PAL0910 | 68 | Chinstrap penguin (Pygoscelis antarctica) | Anvers | Dream | Adult, 1 Egg Stage | N100A2 | Yes | 2009-11-21 | 50.2 | 18.7 | 198 | 3775 | FEMALE |  9.39305 | -24.25255 | NA                                    |\n\n",
            "text/html": [
              "<table class=\"dataframe\">\n",
              "<caption>A spec_tbl_df: 344 × 17</caption>\n",
              "<thead>\n",
              "\t<tr><th scope=col>studyName</th><th scope=col>Sample Number</th><th scope=col>Species</th><th scope=col>Region</th><th scope=col>Island</th><th scope=col>Stage</th><th scope=col>Individual ID</th><th scope=col>Clutch Completion</th><th scope=col>Date Egg</th><th scope=col>Culmen Length (mm)</th><th scope=col>Culmen Depth (mm)</th><th scope=col>Flipper Length (mm)</th><th scope=col>Body Mass (g)</th><th scope=col>Sex</th><th scope=col>Delta 15 N (o/oo)</th><th scope=col>Delta 13 C (o/oo)</th><th scope=col>Comments</th></tr>\n",
              "\t<tr><th scope=col>&lt;chr&gt;</th><th scope=col>&lt;dbl&gt;</th><th scope=col>&lt;chr&gt;</th><th scope=col>&lt;chr&gt;</th><th scope=col>&lt;chr&gt;</th><th scope=col>&lt;chr&gt;</th><th scope=col>&lt;chr&gt;</th><th scope=col>&lt;chr&gt;</th><th scope=col>&lt;date&gt;</th><th scope=col>&lt;dbl&gt;</th><th scope=col>&lt;dbl&gt;</th><th scope=col>&lt;dbl&gt;</th><th scope=col>&lt;dbl&gt;</th><th scope=col>&lt;chr&gt;</th><th scope=col>&lt;dbl&gt;</th><th scope=col>&lt;dbl&gt;</th><th scope=col>&lt;chr&gt;</th></tr>\n",
              "</thead>\n",
              "<tbody>\n",
              "\t<tr><td>PAL0708</td><td> 1</td><td>Adelie Penguin (Pygoscelis adeliae)</td><td>Anvers</td><td>Torgersen</td><td>Adult, 1 Egg Stage</td><td>N1A1 </td><td>Yes</td><td>2007-11-11</td><td>39.1</td><td>18.7</td><td>181</td><td>3750</td><td>MALE  </td><td>     NA</td><td>       NA</td><td>Not enough blood for isotopes.       </td></tr>\n",
              "\t<tr><td>PAL0708</td><td> 2</td><td>Adelie Penguin (Pygoscelis adeliae)</td><td>Anvers</td><td>Torgersen</td><td>Adult, 1 Egg Stage</td><td>N1A2 </td><td>Yes</td><td>2007-11-11</td><td>39.5</td><td>17.4</td><td>186</td><td>3800</td><td>FEMALE</td><td>8.94956</td><td>-24.69454</td><td>NA                                   </td></tr>\n",
              "\t<tr><td>PAL0708</td><td> 3</td><td>Adelie Penguin (Pygoscelis adeliae)</td><td>Anvers</td><td>Torgersen</td><td>Adult, 1 Egg Stage</td><td>N2A1 </td><td>Yes</td><td>2007-11-16</td><td>40.3</td><td>18.0</td><td>195</td><td>3250</td><td>FEMALE</td><td>8.36821</td><td>-25.33302</td><td>NA                                   </td></tr>\n",
              "\t<tr><td>PAL0708</td><td> 4</td><td>Adelie Penguin (Pygoscelis adeliae)</td><td>Anvers</td><td>Torgersen</td><td>Adult, 1 Egg Stage</td><td>N2A2 </td><td>Yes</td><td>2007-11-16</td><td>  NA</td><td>  NA</td><td> NA</td><td>  NA</td><td>NA    </td><td>     NA</td><td>       NA</td><td>Adult not sampled.                   </td></tr>\n",
              "\t<tr><td>PAL0708</td><td> 5</td><td>Adelie Penguin (Pygoscelis adeliae)</td><td>Anvers</td><td>Torgersen</td><td>Adult, 1 Egg Stage</td><td>N3A1 </td><td>Yes</td><td>2007-11-16</td><td>36.7</td><td>19.3</td><td>193</td><td>3450</td><td>FEMALE</td><td>8.76651</td><td>-25.32426</td><td>NA                                   </td></tr>\n",
              "\t<tr><td>PAL0708</td><td> 6</td><td>Adelie Penguin (Pygoscelis adeliae)</td><td>Anvers</td><td>Torgersen</td><td>Adult, 1 Egg Stage</td><td>N3A2 </td><td>Yes</td><td>2007-11-16</td><td>39.3</td><td>20.6</td><td>190</td><td>3650</td><td>MALE  </td><td>8.66496</td><td>-25.29805</td><td>NA                                   </td></tr>\n",
              "\t<tr><td>PAL0708</td><td> 7</td><td>Adelie Penguin (Pygoscelis adeliae)</td><td>Anvers</td><td>Torgersen</td><td>Adult, 1 Egg Stage</td><td>N4A1 </td><td>No </td><td>2007-11-15</td><td>38.9</td><td>17.8</td><td>181</td><td>3625</td><td>FEMALE</td><td>9.18718</td><td>-25.21799</td><td>Nest never observed with full clutch.</td></tr>\n",
              "\t<tr><td>PAL0708</td><td> 8</td><td>Adelie Penguin (Pygoscelis adeliae)</td><td>Anvers</td><td>Torgersen</td><td>Adult, 1 Egg Stage</td><td>N4A2 </td><td>No </td><td>2007-11-15</td><td>39.2</td><td>19.6</td><td>195</td><td>4675</td><td>MALE  </td><td>9.46060</td><td>-24.89958</td><td>Nest never observed with full clutch.</td></tr>\n",
              "\t<tr><td>PAL0708</td><td> 9</td><td>Adelie Penguin (Pygoscelis adeliae)</td><td>Anvers</td><td>Torgersen</td><td>Adult, 1 Egg Stage</td><td>N5A1 </td><td>Yes</td><td>2007-11-09</td><td>34.1</td><td>18.1</td><td>193</td><td>3475</td><td>NA    </td><td>     NA</td><td>       NA</td><td>No blood sample obtained.            </td></tr>\n",
              "\t<tr><td>PAL0708</td><td>10</td><td>Adelie Penguin (Pygoscelis adeliae)</td><td>Anvers</td><td>Torgersen</td><td>Adult, 1 Egg Stage</td><td>N5A2 </td><td>Yes</td><td>2007-11-09</td><td>42.0</td><td>20.2</td><td>190</td><td>4250</td><td>NA    </td><td>9.13362</td><td>-25.09368</td><td>No blood sample obtained for sexing. </td></tr>\n",
              "\t<tr><td>PAL0708</td><td>11</td><td>Adelie Penguin (Pygoscelis adeliae)</td><td>Anvers</td><td>Torgersen</td><td>Adult, 1 Egg Stage</td><td>N6A1 </td><td>Yes</td><td>2007-11-09</td><td>37.8</td><td>17.1</td><td>186</td><td>3300</td><td>NA    </td><td>8.63243</td><td>-25.21315</td><td>No blood sample obtained for sexing. </td></tr>\n",
              "\t<tr><td>PAL0708</td><td>12</td><td>Adelie Penguin (Pygoscelis adeliae)</td><td>Anvers</td><td>Torgersen</td><td>Adult, 1 Egg Stage</td><td>N6A2 </td><td>Yes</td><td>2007-11-09</td><td>37.8</td><td>17.3</td><td>180</td><td>3700</td><td>NA    </td><td>     NA</td><td>       NA</td><td>No blood sample obtained.            </td></tr>\n",
              "\t<tr><td>PAL0708</td><td>13</td><td>Adelie Penguin (Pygoscelis adeliae)</td><td>Anvers</td><td>Torgersen</td><td>Adult, 1 Egg Stage</td><td>N7A1 </td><td>Yes</td><td>2007-11-15</td><td>41.1</td><td>17.6</td><td>182</td><td>3200</td><td>FEMALE</td><td>     NA</td><td>       NA</td><td>Not enough blood for isotopes.       </td></tr>\n",
              "\t<tr><td>PAL0708</td><td>14</td><td>Adelie Penguin (Pygoscelis adeliae)</td><td>Anvers</td><td>Torgersen</td><td>Adult, 1 Egg Stage</td><td>N7A2 </td><td>Yes</td><td>2007-11-15</td><td>38.6</td><td>21.2</td><td>191</td><td>3800</td><td>MALE  </td><td>     NA</td><td>       NA</td><td>Not enough blood for isotopes.       </td></tr>\n",
              "\t<tr><td>PAL0708</td><td>15</td><td>Adelie Penguin (Pygoscelis adeliae)</td><td>Anvers</td><td>Torgersen</td><td>Adult, 1 Egg Stage</td><td>N8A1 </td><td>Yes</td><td>2007-11-16</td><td>34.6</td><td>21.1</td><td>198</td><td>4400</td><td>MALE  </td><td>8.55583</td><td>-25.22588</td><td>NA                                   </td></tr>\n",
              "\t<tr><td>PAL0708</td><td>16</td><td>Adelie Penguin (Pygoscelis adeliae)</td><td>Anvers</td><td>Torgersen</td><td>Adult, 1 Egg Stage</td><td>N8A2 </td><td>Yes</td><td>2007-11-16</td><td>36.6</td><td>17.8</td><td>185</td><td>3700</td><td>FEMALE</td><td>     NA</td><td>       NA</td><td>Not enough blood for isotopes.       </td></tr>\n",
              "\t<tr><td>PAL0708</td><td>17</td><td>Adelie Penguin (Pygoscelis adeliae)</td><td>Anvers</td><td>Torgersen</td><td>Adult, 1 Egg Stage</td><td>N9A1 </td><td>Yes</td><td>2007-11-12</td><td>38.7</td><td>19.0</td><td>195</td><td>3450</td><td>FEMALE</td><td>9.18528</td><td>-25.06691</td><td>NA                                   </td></tr>\n",
              "\t<tr><td>PAL0708</td><td>18</td><td>Adelie Penguin (Pygoscelis adeliae)</td><td>Anvers</td><td>Torgersen</td><td>Adult, 1 Egg Stage</td><td>N9A2 </td><td>Yes</td><td>2007-11-12</td><td>42.5</td><td>20.7</td><td>197</td><td>4500</td><td>MALE  </td><td>8.67538</td><td>-25.13993</td><td>NA                                   </td></tr>\n",
              "\t<tr><td>PAL0708</td><td>19</td><td>Adelie Penguin (Pygoscelis adeliae)</td><td>Anvers</td><td>Torgersen</td><td>Adult, 1 Egg Stage</td><td>N10A1</td><td>Yes</td><td>2007-11-16</td><td>34.4</td><td>18.4</td><td>184</td><td>3325</td><td>FEMALE</td><td>8.47827</td><td>-25.23319</td><td>NA                                   </td></tr>\n",
              "\t<tr><td>PAL0708</td><td>20</td><td>Adelie Penguin (Pygoscelis adeliae)</td><td>Anvers</td><td>Torgersen</td><td>Adult, 1 Egg Stage</td><td>N10A2</td><td>Yes</td><td>2007-11-16</td><td>46.0</td><td>21.5</td><td>194</td><td>4200</td><td>MALE  </td><td>9.11616</td><td>-24.77227</td><td>NA                                   </td></tr>\n",
              "\t<tr><td>PAL0708</td><td>21</td><td>Adelie Penguin (Pygoscelis adeliae)</td><td>Anvers</td><td>Biscoe   </td><td>Adult, 1 Egg Stage</td><td>N11A1</td><td>Yes</td><td>2007-11-12</td><td>37.8</td><td>18.3</td><td>174</td><td>3400</td><td>FEMALE</td><td>8.73762</td><td>-25.09383</td><td>NA                                   </td></tr>\n",
              "\t<tr><td>PAL0708</td><td>22</td><td>Adelie Penguin (Pygoscelis adeliae)</td><td>Anvers</td><td>Biscoe   </td><td>Adult, 1 Egg Stage</td><td>N11A2</td><td>Yes</td><td>2007-11-12</td><td>37.7</td><td>18.7</td><td>180</td><td>3600</td><td>MALE  </td><td>8.66271</td><td>-25.06390</td><td>NA                                   </td></tr>\n",
              "\t<tr><td>PAL0708</td><td>23</td><td>Adelie Penguin (Pygoscelis adeliae)</td><td>Anvers</td><td>Biscoe   </td><td>Adult, 1 Egg Stage</td><td>N12A1</td><td>Yes</td><td>2007-11-12</td><td>35.9</td><td>19.2</td><td>189</td><td>3800</td><td>FEMALE</td><td>9.22286</td><td>-25.03474</td><td>NA                                   </td></tr>\n",
              "\t<tr><td>PAL0708</td><td>24</td><td>Adelie Penguin (Pygoscelis adeliae)</td><td>Anvers</td><td>Biscoe   </td><td>Adult, 1 Egg Stage</td><td>N12A2</td><td>Yes</td><td>2007-11-12</td><td>38.2</td><td>18.1</td><td>185</td><td>3950</td><td>MALE  </td><td>8.43423</td><td>-25.22664</td><td>NA                                   </td></tr>\n",
              "\t<tr><td>PAL0708</td><td>25</td><td>Adelie Penguin (Pygoscelis adeliae)</td><td>Anvers</td><td>Biscoe   </td><td>Adult, 1 Egg Stage</td><td>N13A1</td><td>Yes</td><td>2007-11-10</td><td>38.8</td><td>17.2</td><td>180</td><td>3800</td><td>MALE  </td><td>9.63954</td><td>-25.29856</td><td>NA                                   </td></tr>\n",
              "\t<tr><td>PAL0708</td><td>26</td><td>Adelie Penguin (Pygoscelis adeliae)</td><td>Anvers</td><td>Biscoe   </td><td>Adult, 1 Egg Stage</td><td>N13A2</td><td>Yes</td><td>2007-11-10</td><td>35.3</td><td>18.9</td><td>187</td><td>3800</td><td>FEMALE</td><td>9.21292</td><td>-24.36130</td><td>NA                                   </td></tr>\n",
              "\t<tr><td>PAL0708</td><td>27</td><td>Adelie Penguin (Pygoscelis adeliae)</td><td>Anvers</td><td>Biscoe   </td><td>Adult, 1 Egg Stage</td><td>N17A1</td><td>Yes</td><td>2007-11-12</td><td>40.6</td><td>18.6</td><td>183</td><td>3550</td><td>MALE  </td><td>8.93997</td><td>-25.36288</td><td>NA                                   </td></tr>\n",
              "\t<tr><td>PAL0708</td><td>28</td><td>Adelie Penguin (Pygoscelis adeliae)</td><td>Anvers</td><td>Biscoe   </td><td>Adult, 1 Egg Stage</td><td>N17A2</td><td>Yes</td><td>2007-11-12</td><td>40.5</td><td>17.9</td><td>187</td><td>3200</td><td>FEMALE</td><td>8.08138</td><td>-25.49448</td><td>NA                                   </td></tr>\n",
              "\t<tr><td>PAL0708</td><td>29</td><td>Adelie Penguin (Pygoscelis adeliae)</td><td>Anvers</td><td>Biscoe   </td><td>Adult, 1 Egg Stage</td><td>N18A1</td><td>No </td><td>2007-11-10</td><td>37.9</td><td>18.6</td><td>172</td><td>3150</td><td>FEMALE</td><td>8.38404</td><td>-25.19837</td><td>Nest never observed with full clutch.</td></tr>\n",
              "\t<tr><td>PAL0708</td><td>30</td><td>Adelie Penguin (Pygoscelis adeliae)</td><td>Anvers</td><td>Biscoe   </td><td>Adult, 1 Egg Stage</td><td>N18A2</td><td>No </td><td>2007-11-10</td><td>40.5</td><td>18.9</td><td>180</td><td>3950</td><td>MALE  </td><td>8.90027</td><td>-25.11609</td><td>Nest never observed with full clutch.</td></tr>\n",
              "\t<tr><td>⋮</td><td>⋮</td><td>⋮</td><td>⋮</td><td>⋮</td><td>⋮</td><td>⋮</td><td>⋮</td><td>⋮</td><td>⋮</td><td>⋮</td><td>⋮</td><td>⋮</td><td>⋮</td><td>⋮</td><td>⋮</td><td>⋮</td></tr>\n",
              "\t<tr><td>PAL0809</td><td>39</td><td>Chinstrap penguin (Pygoscelis antarctica)</td><td>Anvers</td><td>Dream</td><td>Adult, 1 Egg Stage</td><td>N72A1 </td><td>No </td><td>2008-11-24</td><td>46.9</td><td>16.6</td><td>192</td><td>2700</td><td>FEMALE</td><td> 9.80589</td><td>-24.73735</td><td>Nest never observed with full clutch.</td></tr>\n",
              "\t<tr><td>PAL0809</td><td>40</td><td>Chinstrap penguin (Pygoscelis antarctica)</td><td>Anvers</td><td>Dream</td><td>Adult, 1 Egg Stage</td><td>N72A2 </td><td>No </td><td>2008-11-24</td><td>53.5</td><td>19.9</td><td>205</td><td>4500</td><td>MALE  </td><td>10.02544</td><td>-24.90816</td><td>Nest never observed with full clutch.</td></tr>\n",
              "\t<tr><td>PAL0809</td><td>41</td><td>Chinstrap penguin (Pygoscelis antarctica)</td><td>Anvers</td><td>Dream</td><td>Adult, 1 Egg Stage</td><td>N74A1 </td><td>Yes</td><td>2008-11-24</td><td>49.0</td><td>19.5</td><td>210</td><td>3950</td><td>MALE  </td><td> 9.53262</td><td>-24.66867</td><td>NA                                   </td></tr>\n",
              "\t<tr><td>PAL0809</td><td>42</td><td>Chinstrap penguin (Pygoscelis antarctica)</td><td>Anvers</td><td>Dream</td><td>Adult, 1 Egg Stage</td><td>N74A2 </td><td>Yes</td><td>2008-11-24</td><td>46.2</td><td>17.5</td><td>187</td><td>3650</td><td>FEMALE</td><td> 9.61734</td><td>-24.66188</td><td>NA                                   </td></tr>\n",
              "\t<tr><td>PAL0809</td><td>43</td><td>Chinstrap penguin (Pygoscelis antarctica)</td><td>Anvers</td><td>Dream</td><td>Adult, 1 Egg Stage</td><td>N75A1 </td><td>Yes</td><td>2008-11-14</td><td>50.9</td><td>19.1</td><td>196</td><td>3550</td><td>MALE  </td><td>10.02372</td><td>-24.86594</td><td>NA                                   </td></tr>\n",
              "\t<tr><td>PAL0809</td><td>44</td><td>Chinstrap penguin (Pygoscelis antarctica)</td><td>Anvers</td><td>Dream</td><td>Adult, 1 Egg Stage</td><td>N75A2 </td><td>Yes</td><td>2008-11-14</td><td>45.5</td><td>17.0</td><td>196</td><td>3500</td><td>FEMALE</td><td> 9.36493</td><td>-24.66259</td><td>NA                                   </td></tr>\n",
              "\t<tr><td>PAL0910</td><td>45</td><td>Chinstrap penguin (Pygoscelis antarctica)</td><td>Anvers</td><td>Dream</td><td>Adult, 1 Egg Stage</td><td>N86A1 </td><td>Yes</td><td>2009-11-17</td><td>50.9</td><td>17.9</td><td>196</td><td>3675</td><td>FEMALE</td><td> 9.43684</td><td>-24.16566</td><td>NA                                   </td></tr>\n",
              "\t<tr><td>PAL0910</td><td>46</td><td>Chinstrap penguin (Pygoscelis antarctica)</td><td>Anvers</td><td>Dream</td><td>Adult, 1 Egg Stage</td><td>N86A2 </td><td>Yes</td><td>2009-11-17</td><td>50.8</td><td>18.5</td><td>201</td><td>4450</td><td>MALE  </td><td> 9.45827</td><td>-24.35575</td><td>NA                                   </td></tr>\n",
              "\t<tr><td>PAL0910</td><td>47</td><td>Chinstrap penguin (Pygoscelis antarctica)</td><td>Anvers</td><td>Dream</td><td>Adult, 1 Egg Stage</td><td>N87A1 </td><td>Yes</td><td>2009-11-27</td><td>50.1</td><td>17.9</td><td>190</td><td>3400</td><td>FEMALE</td><td> 9.46819</td><td>-24.45721</td><td>NA                                   </td></tr>\n",
              "\t<tr><td>PAL0910</td><td>48</td><td>Chinstrap penguin (Pygoscelis antarctica)</td><td>Anvers</td><td>Dream</td><td>Adult, 1 Egg Stage</td><td>N87A2 </td><td>Yes</td><td>2009-11-27</td><td>49.0</td><td>19.6</td><td>212</td><td>4300</td><td>MALE  </td><td> 9.34089</td><td>-24.45189</td><td>NA                                   </td></tr>\n",
              "\t<tr><td>PAL0910</td><td>49</td><td>Chinstrap penguin (Pygoscelis antarctica)</td><td>Anvers</td><td>Dream</td><td>Adult, 1 Egg Stage</td><td>N88A1 </td><td>Yes</td><td>2009-11-23</td><td>51.5</td><td>18.7</td><td>187</td><td>3250</td><td>MALE  </td><td> 9.68950</td><td>-24.43062</td><td>NA                                   </td></tr>\n",
              "\t<tr><td>PAL0910</td><td>50</td><td>Chinstrap penguin (Pygoscelis antarctica)</td><td>Anvers</td><td>Dream</td><td>Adult, 1 Egg Stage</td><td>N88A2 </td><td>Yes</td><td>2009-11-23</td><td>49.8</td><td>17.3</td><td>198</td><td>3675</td><td>FEMALE</td><td> 9.32169</td><td>-24.41562</td><td>NA                                   </td></tr>\n",
              "\t<tr><td>PAL0910</td><td>51</td><td>Chinstrap penguin (Pygoscelis antarctica)</td><td>Anvers</td><td>Dream</td><td>Adult, 1 Egg Stage</td><td>N90A1 </td><td>Yes</td><td>2009-11-21</td><td>48.1</td><td>16.4</td><td>199</td><td>3325</td><td>FEMALE</td><td> 9.46929</td><td>-24.48403</td><td>NA                                   </td></tr>\n",
              "\t<tr><td>PAL0910</td><td>52</td><td>Chinstrap penguin (Pygoscelis antarctica)</td><td>Anvers</td><td>Dream</td><td>Adult, 1 Egg Stage</td><td>N90A2 </td><td>Yes</td><td>2009-11-21</td><td>51.4</td><td>19.0</td><td>201</td><td>3950</td><td>MALE  </td><td> 9.43782</td><td>-24.36202</td><td>NA                                   </td></tr>\n",
              "\t<tr><td>PAL0910</td><td>53</td><td>Chinstrap penguin (Pygoscelis antarctica)</td><td>Anvers</td><td>Dream</td><td>Adult, 1 Egg Stage</td><td>N92A1 </td><td>Yes</td><td>2009-11-23</td><td>45.7</td><td>17.3</td><td>193</td><td>3600</td><td>FEMALE</td><td> 9.41500</td><td>-24.80500</td><td>NA                                   </td></tr>\n",
              "\t<tr><td>PAL0910</td><td>54</td><td>Chinstrap penguin (Pygoscelis antarctica)</td><td>Anvers</td><td>Dream</td><td>Adult, 1 Egg Stage</td><td>N92A2 </td><td>Yes</td><td>2009-11-23</td><td>50.7</td><td>19.7</td><td>203</td><td>4050</td><td>MALE  </td><td> 9.93727</td><td>-24.59066</td><td>NA                                   </td></tr>\n",
              "\t<tr><td>PAL0910</td><td>55</td><td>Chinstrap penguin (Pygoscelis antarctica)</td><td>Anvers</td><td>Dream</td><td>Adult, 1 Egg Stage</td><td>N93A1 </td><td>Yes</td><td>2009-11-27</td><td>42.5</td><td>17.3</td><td>187</td><td>3350</td><td>FEMALE</td><td> 9.56534</td><td>-24.60882</td><td>NA                                   </td></tr>\n",
              "\t<tr><td>PAL0910</td><td>56</td><td>Chinstrap penguin (Pygoscelis antarctica)</td><td>Anvers</td><td>Dream</td><td>Adult, 1 Egg Stage</td><td>N93A2 </td><td>Yes</td><td>2009-11-27</td><td>52.2</td><td>18.8</td><td>197</td><td>3450</td><td>MALE  </td><td> 9.77528</td><td>-24.56481</td><td>NA                                   </td></tr>\n",
              "\t<tr><td>PAL0910</td><td>57</td><td>Chinstrap penguin (Pygoscelis antarctica)</td><td>Anvers</td><td>Dream</td><td>Adult, 1 Egg Stage</td><td>N94A1 </td><td>Yes</td><td>2009-11-21</td><td>45.2</td><td>16.6</td><td>191</td><td>3250</td><td>FEMALE</td><td> 9.62357</td><td>-24.78984</td><td>NA                                   </td></tr>\n",
              "\t<tr><td>PAL0910</td><td>58</td><td>Chinstrap penguin (Pygoscelis antarctica)</td><td>Anvers</td><td>Dream</td><td>Adult, 1 Egg Stage</td><td>N94A2 </td><td>Yes</td><td>2009-11-21</td><td>49.3</td><td>19.9</td><td>203</td><td>4050</td><td>MALE  </td><td> 9.88809</td><td>-24.59513</td><td>NA                                   </td></tr>\n",
              "\t<tr><td>PAL0910</td><td>59</td><td>Chinstrap penguin (Pygoscelis antarctica)</td><td>Anvers</td><td>Dream</td><td>Adult, 1 Egg Stage</td><td>N95A1 </td><td>Yes</td><td>2009-11-21</td><td>50.2</td><td>18.8</td><td>202</td><td>3800</td><td>MALE  </td><td> 9.74492</td><td>-24.40400</td><td>NA                                   </td></tr>\n",
              "\t<tr><td>PAL0910</td><td>60</td><td>Chinstrap penguin (Pygoscelis antarctica)</td><td>Anvers</td><td>Dream</td><td>Adult, 1 Egg Stage</td><td>N95A2 </td><td>Yes</td><td>2009-11-21</td><td>45.6</td><td>19.4</td><td>194</td><td>3525</td><td>FEMALE</td><td> 9.46985</td><td>-24.65786</td><td>NA                                   </td></tr>\n",
              "\t<tr><td>PAL0910</td><td>61</td><td>Chinstrap penguin (Pygoscelis antarctica)</td><td>Anvers</td><td>Dream</td><td>Adult, 1 Egg Stage</td><td>N96A1 </td><td>Yes</td><td>2009-11-27</td><td>51.9</td><td>19.5</td><td>206</td><td>3950</td><td>MALE  </td><td>      NA</td><td>-23.78767</td><td>No delta15N data received from lab.  </td></tr>\n",
              "\t<tr><td>PAL0910</td><td>62</td><td>Chinstrap penguin (Pygoscelis antarctica)</td><td>Anvers</td><td>Dream</td><td>Adult, 1 Egg Stage</td><td>N96A2 </td><td>Yes</td><td>2009-11-27</td><td>46.8</td><td>16.5</td><td>189</td><td>3650</td><td>FEMALE</td><td> 9.65061</td><td>-24.48153</td><td>NA                                   </td></tr>\n",
              "\t<tr><td>PAL0910</td><td>63</td><td>Chinstrap penguin (Pygoscelis antarctica)</td><td>Anvers</td><td>Dream</td><td>Adult, 1 Egg Stage</td><td>N98A1 </td><td>Yes</td><td>2009-11-19</td><td>45.7</td><td>17.0</td><td>195</td><td>3650</td><td>FEMALE</td><td> 9.26715</td><td>-24.31912</td><td>NA                                   </td></tr>\n",
              "\t<tr><td>PAL0910</td><td>64</td><td>Chinstrap penguin (Pygoscelis antarctica)</td><td>Anvers</td><td>Dream</td><td>Adult, 1 Egg Stage</td><td>N98A2 </td><td>Yes</td><td>2009-11-19</td><td>55.8</td><td>19.8</td><td>207</td><td>4000</td><td>MALE  </td><td> 9.70465</td><td>-24.53494</td><td>NA                                   </td></tr>\n",
              "\t<tr><td>PAL0910</td><td>65</td><td>Chinstrap penguin (Pygoscelis antarctica)</td><td>Anvers</td><td>Dream</td><td>Adult, 1 Egg Stage</td><td>N99A1 </td><td>No </td><td>2009-11-21</td><td>43.5</td><td>18.1</td><td>202</td><td>3400</td><td>FEMALE</td><td> 9.37608</td><td>-24.40753</td><td>Nest never observed with full clutch.</td></tr>\n",
              "\t<tr><td>PAL0910</td><td>66</td><td>Chinstrap penguin (Pygoscelis antarctica)</td><td>Anvers</td><td>Dream</td><td>Adult, 1 Egg Stage</td><td>N99A2 </td><td>No </td><td>2009-11-21</td><td>49.6</td><td>18.2</td><td>193</td><td>3775</td><td>MALE  </td><td> 9.46180</td><td>-24.70615</td><td>Nest never observed with full clutch.</td></tr>\n",
              "\t<tr><td>PAL0910</td><td>67</td><td>Chinstrap penguin (Pygoscelis antarctica)</td><td>Anvers</td><td>Dream</td><td>Adult, 1 Egg Stage</td><td>N100A1</td><td>Yes</td><td>2009-11-21</td><td>50.8</td><td>19.0</td><td>210</td><td>4100</td><td>MALE  </td><td> 9.98044</td><td>-24.68741</td><td>NA                                   </td></tr>\n",
              "\t<tr><td>PAL0910</td><td>68</td><td>Chinstrap penguin (Pygoscelis antarctica)</td><td>Anvers</td><td>Dream</td><td>Adult, 1 Egg Stage</td><td>N100A2</td><td>Yes</td><td>2009-11-21</td><td>50.2</td><td>18.7</td><td>198</td><td>3775</td><td>FEMALE</td><td> 9.39305</td><td>-24.25255</td><td>NA                                   </td></tr>\n",
              "</tbody>\n",
              "</table>\n"
            ]
          },
          "metadata": {
            "tags": []
          }
        }
      ]
    },
    {
      "cell_type": "markdown",
      "metadata": {
        "id": "40442731"
      },
      "source": [
        "### take a `glimpse`\n",
        "\n",
        "We can also take a look at data set using the `glimpse` function from `dplyr`."
      ]
    },
    {
      "cell_type": "code",
      "metadata": {
        "lines_to_next_cell": 0,
        "id": "29b1022b",
        "colab": {
          "base_uri": "https://localhost:8080/"
        },
        "outputId": "44bd7586-a850-457d-84e0-79f6ec532823"
      },
      "source": [
        "glimpse(penguins_raw)"
      ],
      "execution_count": null,
      "outputs": [
        {
          "output_type": "stream",
          "text": [
            "Rows: 344\n",
            "Columns: 17\n",
            "$ studyName             \u001b[3m\u001b[90m<chr>\u001b[39m\u001b[23m \"PAL0708\", \"PAL0708\", \"PAL0708\", \"PAL0708\", \"PAL…\n",
            "$ `Sample Number`       \u001b[3m\u001b[90m<dbl>\u001b[39m\u001b[23m 1, 2, 3, 4, 5, 6, 7, 8, 9, 10, 11, 12, 13, 14, 1…\n",
            "$ Species               \u001b[3m\u001b[90m<chr>\u001b[39m\u001b[23m \"Adelie Penguin (Pygoscelis adeliae)\", \"Adelie P…\n",
            "$ Region                \u001b[3m\u001b[90m<chr>\u001b[39m\u001b[23m \"Anvers\", \"Anvers\", \"Anvers\", \"Anvers\", \"Anvers\"…\n",
            "$ Island                \u001b[3m\u001b[90m<chr>\u001b[39m\u001b[23m \"Torgersen\", \"Torgersen\", \"Torgersen\", \"Torgerse…\n",
            "$ Stage                 \u001b[3m\u001b[90m<chr>\u001b[39m\u001b[23m \"Adult, 1 Egg Stage\", \"Adult, 1 Egg Stage\", \"Adu…\n",
            "$ `Individual ID`       \u001b[3m\u001b[90m<chr>\u001b[39m\u001b[23m \"N1A1\", \"N1A2\", \"N2A1\", \"N2A2\", \"N3A1\", \"N3A2\", …\n",
            "$ `Clutch Completion`   \u001b[3m\u001b[90m<chr>\u001b[39m\u001b[23m \"Yes\", \"Yes\", \"Yes\", \"Yes\", \"Yes\", \"Yes\", \"No\", …\n",
            "$ `Date Egg`            \u001b[3m\u001b[90m<date>\u001b[39m\u001b[23m 2007-11-11, 2007-11-11, 2007-11-16, 2007-11-16,…\n",
            "$ `Culmen Length (mm)`  \u001b[3m\u001b[90m<dbl>\u001b[39m\u001b[23m 39.1, 39.5, 40.3, NA, 36.7, 39.3, 38.9, 39.2, 34…\n",
            "$ `Culmen Depth (mm)`   \u001b[3m\u001b[90m<dbl>\u001b[39m\u001b[23m 18.7, 17.4, 18.0, NA, 19.3, 20.6, 17.8, 19.6, 18…\n",
            "$ `Flipper Length (mm)` \u001b[3m\u001b[90m<dbl>\u001b[39m\u001b[23m 181, 186, 195, NA, 193, 190, 181, 195, 193, 190,…\n",
            "$ `Body Mass (g)`       \u001b[3m\u001b[90m<dbl>\u001b[39m\u001b[23m 3750, 3800, 3250, NA, 3450, 3650, 3625, 4675, 34…\n",
            "$ Sex                   \u001b[3m\u001b[90m<chr>\u001b[39m\u001b[23m \"MALE\", \"FEMALE\", \"FEMALE\", NA, \"FEMALE\", \"MALE\"…\n",
            "$ `Delta 15 N (o/oo)`   \u001b[3m\u001b[90m<dbl>\u001b[39m\u001b[23m NA, 8.94956, 8.36821, NA, 8.76651, 8.66496, 9.18…\n",
            "$ `Delta 13 C (o/oo)`   \u001b[3m\u001b[90m<dbl>\u001b[39m\u001b[23m NA, -24.69454, -25.33302, NA, -25.32426, -25.298…\n",
            "$ Comments              \u001b[3m\u001b[90m<chr>\u001b[39m\u001b[23m \"Not enough blood for isotopes.\", NA, NA, \"Adult…\n"
          ],
          "name": "stdout"
        }
      ]
    },
    {
      "cell_type": "markdown",
      "metadata": {
        "id": "be9aa70a"
      },
      "source": [
        "\n",
        "\n",
        "## initial data cleaning using `janitor`"
      ]
    },
    {
      "cell_type": "markdown",
      "metadata": {
        "id": "c5d234c2"
      },
      "source": [
        "<center>\n",
        "<img src=\"https://github.com/sfirke/janitor/raw/main/man/figures/logo_small.png\" style=\"width: 20%\" />\n",
        "</center>\n",
        "\n"
      ]
    },
    {
      "cell_type": "markdown",
      "metadata": {
        "id": "5c0785ac"
      },
      "source": [
        "\n",
        "\n",
        "`janitor` is not offically part of the tidyverse package compilation but in my view it is incredibly important to know.\n",
        "\n",
        "Provides some convenient functions for basic cleaning of the data.\n",
        "\n",
        "Just like any tidverse-style package it fullfills the following criteria for its functions:\n",
        "\n",
        "> The data is always the first argument.\n",
        "\n",
        "This helps us to match by position.\n"
      ]
    },
    {
      "cell_type": "code",
      "metadata": {
        "id": "Xd2p7CDQPTLM",
        "colab": {
          "base_uri": "https://localhost:8080/"
        },
        "outputId": "864fd8f6-cb0f-4acb-dd84-d500f1dc9340"
      },
      "source": [
        "install.packages(\"janitor\")\n",
        "\n",
        "library(janitor)"
      ],
      "execution_count": null,
      "outputs": [
        {
          "output_type": "stream",
          "text": [
            "Installing package into ‘/usr/local/lib/R/site-library’\n",
            "(as ‘lib’ is unspecified)\n",
            "\n"
          ],
          "name": "stderr"
        }
      ]
    },
    {
      "cell_type": "markdown",
      "metadata": {
        "id": "d90a3e09"
      },
      "source": [
        "### `clean_names()`\n",
        "\n",
        "One annoyance with the `penguins_raw` data is that it has spaces in the variable names. Urgh! \n",
        "\n",
        "R has to put quotes around the variable names that have spaces:"
      ]
    },
    {
      "cell_type": "code",
      "metadata": {
        "eval": false,
        "id": "cd228f26",
        "colab": {
          "base_uri": "https://localhost:8080/",
          "height": 554
        },
        "outputId": "e294e697-bcf1-495a-ae24-197303eb1e35"
      },
      "source": [
        "penguins_raw$`Delta 15 N (o/oo)`\n",
        "penguins_raw$`Flipper Length (mm)`\n"
      ],
      "execution_count": null,
      "outputs": [
        {
          "output_type": "display_data",
          "data": {
            "text/plain": [
              "  [1]       NA  8.94956  8.36821       NA  8.76651  8.66496  9.18718  9.46060\n",
              "  [9]       NA  9.13362  8.63243       NA       NA       NA  8.55583       NA\n",
              " [17]  9.18528  8.67538  8.47827  9.11616  8.73762  8.66271  9.22286  8.43423\n",
              " [25]  9.63954  9.21292  8.93997  8.08138  8.38404  8.90027  9.69756  9.72764\n",
              " [33]  9.66523  8.79665  9.17847  9.15308  9.18985  8.04787  9.41131       NA\n",
              " [41]  9.68933       NA  9.50772  9.23720  9.36392  9.49106       NA       NA\n",
              " [49]  9.51784  8.87988  8.46616  8.51362  8.19539  8.48095  8.41837  8.35396\n",
              " [57]  8.57199  8.56674  9.07878  9.10800  8.96472  8.74802  8.58063  8.62264\n",
              " [65]  8.62623  8.85562  8.56192  8.71078  8.47781  8.86853  7.88863  9.29808\n",
              " [73]  8.33524  8.18658  8.70642  8.29930  8.47257  8.35540  7.82381  9.05736\n",
              " [81]  7.69778  8.63259  7.88494  8.90002  8.32718  9.14863  8.57087  8.59147\n",
              " [89]  9.07826  8.36936  8.46531  8.77018  8.01485  8.49915  8.90723  8.48204\n",
              " [97]  8.10277  8.39459  9.04218  8.97025  8.84451  9.01079  9.21510  9.51929\n",
              "[105]  9.02642  8.85699  8.77322  9.59245  9.79532  9.31735  8.43951  8.65466\n",
              "[113]  9.02657  8.80186  8.80967  8.91434  9.18021  9.49645  8.96436  9.32277\n",
              "[121]  9.04296  9.11066  9.30722  9.59462  8.81668  9.22537  8.88098  8.52566\n",
              "[129]  9.19031  9.10702  8.98460  8.86495  8.98705  8.56708  8.71700  8.94365\n",
              "[137]  8.75984  8.95998  8.61651  9.25769  9.28810  9.23408  8.79787  9.05674\n",
              "[145]  9.06829  9.22033  9.11006  8.68744  8.94332  8.97533  8.93465  8.89640\n",
              "[153]  7.99300  8.14756  8.14705  8.25540  8.23450  7.99530  8.24515  8.22673\n",
              "[161]  8.13643  8.16310  8.19579  8.10417  7.77672  7.82080  7.79958  8.07137\n",
              "[169]  7.63884  8.27376  7.84057  7.96491  7.89620  7.63220  7.90436  7.90971\n",
              "[177]  7.68528  7.83733  7.96621  7.92358  7.68870  8.30515       NA  7.63452\n",
              "[185]  7.97408  7.76843  7.89744  8.03659  7.96935  8.13746  8.01979  8.14776\n",
              "[193]  8.14567  8.38324  8.37615  8.26548  8.46894  8.27141  8.47829  8.65803\n",
              "[201]  8.45167  8.55868  8.38289  8.39867  8.51951  8.50153  8.48789  8.63488\n",
              "[209]  8.58319  8.63604  8.48367  8.74647  8.65015  8.60092  8.62870  8.49662\n",
              "[217]  8.60447  8.47067  8.24253  8.49854  8.64931  8.63551  8.53018  8.35078\n",
              "[225]  8.24651  8.58487  8.47938  8.59640  8.39299  8.40327  8.24694  8.19749\n",
              "[233]  8.35802  8.28601  8.19101  8.20042  8.11238  8.27428  8.23468  8.15426\n",
              "[241]  8.12691  8.27595  8.29671  8.36701  8.15566  8.83352  8.20106  8.27102\n",
              "[249]  8.03624  7.88810  8.16582  8.20660  8.10231  8.31180  8.30817  8.65914\n",
              "[257]  8.25818  8.32359  8.12311  8.41017  8.42070  8.45738  8.24691  8.29226\n",
              "[265]  8.21634  8.78557  8.30231  8.08354  8.04111  8.33825  7.99184       NA\n",
              "[273]  8.41151  8.30166  8.24246  8.36390  9.03935  8.92069  9.29078  8.64701\n",
              "[281]  9.00642  8.88942  8.85664  8.63701  8.47173  8.79581  8.95063  8.68747\n",
              "[289]  8.72037  9.02330  9.12277  9.80590 10.02019  9.14382  9.32105  9.27158\n",
              "[297]  9.35138  9.42666  9.35416  9.28153  9.74144  9.36799  8.93990  9.63074\n",
              "[305]  9.37369  9.25177  9.08458  9.49283  9.36668  9.23196  9.75486  9.07825\n",
              "[313]  8.83502  9.43146  9.80589 10.02544  9.53262  9.61734 10.02372  9.36493\n",
              "[321]  9.43684  9.45827  9.46819  9.34089  9.68950  9.32169  9.46929  9.43782\n",
              "[329]  9.41500  9.93727  9.56534  9.77528  9.62357  9.88809  9.74492  9.46985\n",
              "[337]       NA  9.65061  9.26715  9.70465  9.37608  9.46180  9.98044  9.39305"
            ],
            "text/latex": "\\begin{enumerate*}\n\\item <NA>\n\\item 8.94956\n\\item 8.36821\n\\item <NA>\n\\item 8.76651\n\\item 8.66496\n\\item 9.18718\n\\item 9.4606\n\\item <NA>\n\\item 9.13362\n\\item 8.63243\n\\item <NA>\n\\item <NA>\n\\item <NA>\n\\item 8.55583\n\\item <NA>\n\\item 9.18528\n\\item 8.67538\n\\item 8.47827\n\\item 9.11616\n\\item 8.73762\n\\item 8.66271\n\\item 9.22286\n\\item 8.43423\n\\item 9.63954\n\\item 9.21292\n\\item 8.93997\n\\item 8.08138\n\\item 8.38404\n\\item 8.90027\n\\item 9.69756\n\\item 9.72764\n\\item 9.66523\n\\item 8.79665\n\\item 9.17847\n\\item 9.15308\n\\item 9.18985\n\\item 8.04787\n\\item 9.41131\n\\item <NA>\n\\item 9.68933\n\\item <NA>\n\\item 9.50772\n\\item 9.2372\n\\item 9.36392\n\\item 9.49106\n\\item <NA>\n\\item <NA>\n\\item 9.51784\n\\item 8.87988\n\\item 8.46616\n\\item 8.51362\n\\item 8.19539\n\\item 8.48095\n\\item 8.41837\n\\item 8.35396\n\\item 8.57199\n\\item 8.56674\n\\item 9.07878\n\\item 9.108\n\\item 8.96472\n\\item 8.74802\n\\item 8.58063\n\\item 8.62264\n\\item 8.62623\n\\item 8.85562\n\\item 8.56192\n\\item 8.71078\n\\item 8.47781\n\\item 8.86853\n\\item 7.88863\n\\item 9.29808\n\\item 8.33524\n\\item 8.18658\n\\item 8.70642\n\\item 8.2993\n\\item 8.47257\n\\item 8.3554\n\\item 7.82381\n\\item 9.05736\n\\item 7.69778\n\\item 8.63259\n\\item 7.88494\n\\item 8.90002\n\\item 8.32718\n\\item 9.14863\n\\item 8.57087\n\\item 8.59147\n\\item 9.07826\n\\item 8.36936\n\\item 8.46531\n\\item 8.77018\n\\item 8.01485\n\\item 8.49915\n\\item 8.90723\n\\item 8.48204\n\\item 8.10277\n\\item 8.39459\n\\item 9.04218\n\\item 8.97025\n\\item 8.84451\n\\item 9.01079\n\\item 9.2151\n\\item 9.51929\n\\item 9.02642\n\\item 8.85699\n\\item 8.77322\n\\item 9.59245\n\\item 9.79532\n\\item 9.31735\n\\item 8.43951\n\\item 8.65466\n\\item 9.02657\n\\item 8.80186\n\\item 8.80967\n\\item 8.91434\n\\item 9.18021\n\\item 9.49645\n\\item 8.96436\n\\item 9.32277\n\\item 9.04296\n\\item 9.11066\n\\item 9.30722\n\\item 9.59462\n\\item 8.81668\n\\item 9.22537\n\\item 8.88098\n\\item 8.52566\n\\item 9.19031\n\\item 9.10702\n\\item 8.9846\n\\item 8.86495\n\\item 8.98705\n\\item 8.56708\n\\item 8.717\n\\item 8.94365\n\\item 8.75984\n\\item 8.95998\n\\item 8.61651\n\\item 9.25769\n\\item 9.2881\n\\item 9.23408\n\\item 8.79787\n\\item 9.05674\n\\item 9.06829\n\\item 9.22033\n\\item 9.11006\n\\item 8.68744\n\\item 8.94332\n\\item 8.97533\n\\item 8.93465\n\\item 8.8964\n\\item 7.993\n\\item 8.14756\n\\item 8.14705\n\\item 8.2554\n\\item 8.2345\n\\item 7.9953\n\\item 8.24515\n\\item 8.22673\n\\item 8.13643\n\\item 8.1631\n\\item 8.19579\n\\item 8.10417\n\\item 7.77672\n\\item 7.8208\n\\item 7.79958\n\\item 8.07137\n\\item 7.63884\n\\item 8.27376\n\\item 7.84057\n\\item 7.96491\n\\item 7.8962\n\\item 7.6322\n\\item 7.90436\n\\item 7.90971\n\\item 7.68528\n\\item 7.83733\n\\item 7.96621\n\\item 7.92358\n\\item 7.6887\n\\item 8.30515\n\\item <NA>\n\\item 7.63452\n\\item 7.97408\n\\item 7.76843\n\\item 7.89744\n\\item 8.03659\n\\item 7.96935\n\\item 8.13746\n\\item 8.01979\n\\item 8.14776\n\\item 8.14567\n\\item 8.38324\n\\item 8.37615\n\\item 8.26548\n\\item 8.46894\n\\item 8.27141\n\\item 8.47829\n\\item 8.65803\n\\item 8.45167\n\\item 8.55868\n\\item 8.38289\n\\item 8.39867\n\\item 8.51951\n\\item 8.50153\n\\item 8.48789\n\\item 8.63488\n\\item 8.58319\n\\item 8.63604\n\\item 8.48367\n\\item 8.74647\n\\item 8.65015\n\\item 8.60092\n\\item 8.6287\n\\item 8.49662\n\\item 8.60447\n\\item 8.47067\n\\item 8.24253\n\\item 8.49854\n\\item 8.64931\n\\item 8.63551\n\\item 8.53018\n\\item 8.35078\n\\item 8.24651\n\\item 8.58487\n\\item 8.47938\n\\item 8.5964\n\\item 8.39299\n\\item 8.40327\n\\item 8.24694\n\\item 8.19749\n\\item 8.35802\n\\item 8.28601\n\\item 8.19101\n\\item 8.20042\n\\item 8.11238\n\\item 8.27428\n\\item 8.23468\n\\item 8.15426\n\\item 8.12691\n\\item 8.27595\n\\item 8.29671\n\\item 8.36701\n\\item 8.15566\n\\item 8.83352\n\\item 8.20106\n\\item 8.27102\n\\item 8.03624\n\\item 7.8881\n\\item 8.16582\n\\item 8.2066\n\\item 8.10231\n\\item 8.3118\n\\item 8.30817\n\\item 8.65914\n\\item 8.25818\n\\item 8.32359\n\\item 8.12311\n\\item 8.41017\n\\item 8.4207\n\\item 8.45738\n\\item 8.24691\n\\item 8.29226\n\\item 8.21634\n\\item 8.78557\n\\item 8.30231\n\\item 8.08354\n\\item 8.04111\n\\item 8.33825\n\\item 7.99184\n\\item <NA>\n\\item 8.41151\n\\item 8.30166\n\\item 8.24246\n\\item 8.3639\n\\item 9.03935\n\\item 8.92069\n\\item 9.29078\n\\item 8.64701\n\\item 9.00642\n\\item 8.88942\n\\item 8.85664\n\\item 8.63701\n\\item 8.47173\n\\item 8.79581\n\\item 8.95063\n\\item 8.68747\n\\item 8.72037\n\\item 9.0233\n\\item 9.12277\n\\item 9.8059\n\\item 10.02019\n\\item 9.14382\n\\item 9.32105\n\\item 9.27158\n\\item 9.35138\n\\item 9.42666\n\\item 9.35416\n\\item 9.28153\n\\item 9.74144\n\\item 9.36799\n\\item 8.9399\n\\item 9.63074\n\\item 9.37369\n\\item 9.25177\n\\item 9.08458\n\\item 9.49283\n\\item 9.36668\n\\item 9.23196\n\\item 9.75486\n\\item 9.07825\n\\item 8.83502\n\\item 9.43146\n\\item 9.80589\n\\item 10.02544\n\\item 9.53262\n\\item 9.61734\n\\item 10.02372\n\\item 9.36493\n\\item 9.43684\n\\item 9.45827\n\\item 9.46819\n\\item 9.34089\n\\item 9.6895\n\\item 9.32169\n\\item 9.46929\n\\item 9.43782\n\\item 9.415\n\\item 9.93727\n\\item 9.56534\n\\item 9.77528\n\\item 9.62357\n\\item 9.88809\n\\item 9.74492\n\\item 9.46985\n\\item <NA>\n\\item 9.65061\n\\item 9.26715\n\\item 9.70465\n\\item 9.37608\n\\item 9.4618\n\\item 9.98044\n\\item 9.39305\n\\end{enumerate*}\n",
            "text/markdown": "1. &lt;NA&gt;\n2. 8.94956\n3. 8.36821\n4. &lt;NA&gt;\n5. 8.76651\n6. 8.66496\n7. 9.18718\n8. 9.4606\n9. &lt;NA&gt;\n10. 9.13362\n11. 8.63243\n12. &lt;NA&gt;\n13. &lt;NA&gt;\n14. &lt;NA&gt;\n15. 8.55583\n16. &lt;NA&gt;\n17. 9.18528\n18. 8.67538\n19. 8.47827\n20. 9.11616\n21. 8.73762\n22. 8.66271\n23. 9.22286\n24. 8.43423\n25. 9.63954\n26. 9.21292\n27. 8.93997\n28. 8.08138\n29. 8.38404\n30. 8.90027\n31. 9.69756\n32. 9.72764\n33. 9.66523\n34. 8.79665\n35. 9.17847\n36. 9.15308\n37. 9.18985\n38. 8.04787\n39. 9.41131\n40. &lt;NA&gt;\n41. 9.68933\n42. &lt;NA&gt;\n43. 9.50772\n44. 9.2372\n45. 9.36392\n46. 9.49106\n47. &lt;NA&gt;\n48. &lt;NA&gt;\n49. 9.51784\n50. 8.87988\n51. 8.46616\n52. 8.51362\n53. 8.19539\n54. 8.48095\n55. 8.41837\n56. 8.35396\n57. 8.57199\n58. 8.56674\n59. 9.07878\n60. 9.108\n61. 8.96472\n62. 8.74802\n63. 8.58063\n64. 8.62264\n65. 8.62623\n66. 8.85562\n67. 8.56192\n68. 8.71078\n69. 8.47781\n70. 8.86853\n71. 7.88863\n72. 9.29808\n73. 8.33524\n74. 8.18658\n75. 8.70642\n76. 8.2993\n77. 8.47257\n78. 8.3554\n79. 7.82381\n80. 9.05736\n81. 7.69778\n82. 8.63259\n83. 7.88494\n84. 8.90002\n85. 8.32718\n86. 9.14863\n87. 8.57087\n88. 8.59147\n89. 9.07826\n90. 8.36936\n91. 8.46531\n92. 8.77018\n93. 8.01485\n94. 8.49915\n95. 8.90723\n96. 8.48204\n97. 8.10277\n98. 8.39459\n99. 9.04218\n100. 8.97025\n101. 8.84451\n102. 9.01079\n103. 9.2151\n104. 9.51929\n105. 9.02642\n106. 8.85699\n107. 8.77322\n108. 9.59245\n109. 9.79532\n110. 9.31735\n111. 8.43951\n112. 8.65466\n113. 9.02657\n114. 8.80186\n115. 8.80967\n116. 8.91434\n117. 9.18021\n118. 9.49645\n119. 8.96436\n120. 9.32277\n121. 9.04296\n122. 9.11066\n123. 9.30722\n124. 9.59462\n125. 8.81668\n126. 9.22537\n127. 8.88098\n128. 8.52566\n129. 9.19031\n130. 9.10702\n131. 8.9846\n132. 8.86495\n133. 8.98705\n134. 8.56708\n135. 8.717\n136. 8.94365\n137. 8.75984\n138. 8.95998\n139. 8.61651\n140. 9.25769\n141. 9.2881\n142. 9.23408\n143. 8.79787\n144. 9.05674\n145. 9.06829\n146. 9.22033\n147. 9.11006\n148. 8.68744\n149. 8.94332\n150. 8.97533\n151. 8.93465\n152. 8.8964\n153. 7.993\n154. 8.14756\n155. 8.14705\n156. 8.2554\n157. 8.2345\n158. 7.9953\n159. 8.24515\n160. 8.22673\n161. 8.13643\n162. 8.1631\n163. 8.19579\n164. 8.10417\n165. 7.77672\n166. 7.8208\n167. 7.79958\n168. 8.07137\n169. 7.63884\n170. 8.27376\n171. 7.84057\n172. 7.96491\n173. 7.8962\n174. 7.6322\n175. 7.90436\n176. 7.90971\n177. 7.68528\n178. 7.83733\n179. 7.96621\n180. 7.92358\n181. 7.6887\n182. 8.30515\n183. &lt;NA&gt;\n184. 7.63452\n185. 7.97408\n186. 7.76843\n187. 7.89744\n188. 8.03659\n189. 7.96935\n190. 8.13746\n191. 8.01979\n192. 8.14776\n193. 8.14567\n194. 8.38324\n195. 8.37615\n196. 8.26548\n197. 8.46894\n198. 8.27141\n199. 8.47829\n200. 8.65803\n201. 8.45167\n202. 8.55868\n203. 8.38289\n204. 8.39867\n205. 8.51951\n206. 8.50153\n207. 8.48789\n208. 8.63488\n209. 8.58319\n210. 8.63604\n211. 8.48367\n212. 8.74647\n213. 8.65015\n214. 8.60092\n215. 8.6287\n216. 8.49662\n217. 8.60447\n218. 8.47067\n219. 8.24253\n220. 8.49854\n221. 8.64931\n222. 8.63551\n223. 8.53018\n224. 8.35078\n225. 8.24651\n226. 8.58487\n227. 8.47938\n228. 8.5964\n229. 8.39299\n230. 8.40327\n231. 8.24694\n232. 8.19749\n233. 8.35802\n234. 8.28601\n235. 8.19101\n236. 8.20042\n237. 8.11238\n238. 8.27428\n239. 8.23468\n240. 8.15426\n241. 8.12691\n242. 8.27595\n243. 8.29671\n244. 8.36701\n245. 8.15566\n246. 8.83352\n247. 8.20106\n248. 8.27102\n249. 8.03624\n250. 7.8881\n251. 8.16582\n252. 8.2066\n253. 8.10231\n254. 8.3118\n255. 8.30817\n256. 8.65914\n257. 8.25818\n258. 8.32359\n259. 8.12311\n260. 8.41017\n261. 8.4207\n262. 8.45738\n263. 8.24691\n264. 8.29226\n265. 8.21634\n266. 8.78557\n267. 8.30231\n268. 8.08354\n269. 8.04111\n270. 8.33825\n271. 7.99184\n272. &lt;NA&gt;\n273. 8.41151\n274. 8.30166\n275. 8.24246\n276. 8.3639\n277. 9.03935\n278. 8.92069\n279. 9.29078\n280. 8.64701\n281. 9.00642\n282. 8.88942\n283. 8.85664\n284. 8.63701\n285. 8.47173\n286. 8.79581\n287. 8.95063\n288. 8.68747\n289. 8.72037\n290. 9.0233\n291. 9.12277\n292. 9.8059\n293. 10.02019\n294. 9.14382\n295. 9.32105\n296. 9.27158\n297. 9.35138\n298. 9.42666\n299. 9.35416\n300. 9.28153\n301. 9.74144\n302. 9.36799\n303. 8.9399\n304. 9.63074\n305. 9.37369\n306. 9.25177\n307. 9.08458\n308. 9.49283\n309. 9.36668\n310. 9.23196\n311. 9.75486\n312. 9.07825\n313. 8.83502\n314. 9.43146\n315. 9.80589\n316. 10.02544\n317. 9.53262\n318. 9.61734\n319. 10.02372\n320. 9.36493\n321. 9.43684\n322. 9.45827\n323. 9.46819\n324. 9.34089\n325. 9.6895\n326. 9.32169\n327. 9.46929\n328. 9.43782\n329. 9.415\n330. 9.93727\n331. 9.56534\n332. 9.77528\n333. 9.62357\n334. 9.88809\n335. 9.74492\n336. 9.46985\n337. &lt;NA&gt;\n338. 9.65061\n339. 9.26715\n340. 9.70465\n341. 9.37608\n342. 9.4618\n343. 9.98044\n344. 9.39305\n\n\n",
            "text/html": [
              "<style>\n",
              ".list-inline {list-style: none; margin:0; padding: 0}\n",
              ".list-inline>li {display: inline-block}\n",
              ".list-inline>li:not(:last-child)::after {content: \"\\00b7\"; padding: 0 .5ex}\n",
              "</style>\n",
              "<ol class=list-inline><li>&lt;NA&gt;</li><li>8.94956</li><li>8.36821</li><li>&lt;NA&gt;</li><li>8.76651</li><li>8.66496</li><li>9.18718</li><li>9.4606</li><li>&lt;NA&gt;</li><li>9.13362</li><li>8.63243</li><li>&lt;NA&gt;</li><li>&lt;NA&gt;</li><li>&lt;NA&gt;</li><li>8.55583</li><li>&lt;NA&gt;</li><li>9.18528</li><li>8.67538</li><li>8.47827</li><li>9.11616</li><li>8.73762</li><li>8.66271</li><li>9.22286</li><li>8.43423</li><li>9.63954</li><li>9.21292</li><li>8.93997</li><li>8.08138</li><li>8.38404</li><li>8.90027</li><li>9.69756</li><li>9.72764</li><li>9.66523</li><li>8.79665</li><li>9.17847</li><li>9.15308</li><li>9.18985</li><li>8.04787</li><li>9.41131</li><li>&lt;NA&gt;</li><li>9.68933</li><li>&lt;NA&gt;</li><li>9.50772</li><li>9.2372</li><li>9.36392</li><li>9.49106</li><li>&lt;NA&gt;</li><li>&lt;NA&gt;</li><li>9.51784</li><li>8.87988</li><li>8.46616</li><li>8.51362</li><li>8.19539</li><li>8.48095</li><li>8.41837</li><li>8.35396</li><li>8.57199</li><li>8.56674</li><li>9.07878</li><li>9.108</li><li>8.96472</li><li>8.74802</li><li>8.58063</li><li>8.62264</li><li>8.62623</li><li>8.85562</li><li>8.56192</li><li>8.71078</li><li>8.47781</li><li>8.86853</li><li>7.88863</li><li>9.29808</li><li>8.33524</li><li>8.18658</li><li>8.70642</li><li>8.2993</li><li>8.47257</li><li>8.3554</li><li>7.82381</li><li>9.05736</li><li>7.69778</li><li>8.63259</li><li>7.88494</li><li>8.90002</li><li>8.32718</li><li>9.14863</li><li>8.57087</li><li>8.59147</li><li>9.07826</li><li>8.36936</li><li>8.46531</li><li>8.77018</li><li>8.01485</li><li>8.49915</li><li>8.90723</li><li>8.48204</li><li>8.10277</li><li>8.39459</li><li>9.04218</li><li>8.97025</li><li>8.84451</li><li>9.01079</li><li>9.2151</li><li>9.51929</li><li>9.02642</li><li>8.85699</li><li>8.77322</li><li>9.59245</li><li>9.79532</li><li>9.31735</li><li>8.43951</li><li>8.65466</li><li>9.02657</li><li>8.80186</li><li>8.80967</li><li>8.91434</li><li>9.18021</li><li>9.49645</li><li>8.96436</li><li>9.32277</li><li>9.04296</li><li>9.11066</li><li>9.30722</li><li>9.59462</li><li>8.81668</li><li>9.22537</li><li>8.88098</li><li>8.52566</li><li>9.19031</li><li>9.10702</li><li>8.9846</li><li>8.86495</li><li>8.98705</li><li>8.56708</li><li>8.717</li><li>8.94365</li><li>8.75984</li><li>8.95998</li><li>8.61651</li><li>9.25769</li><li>9.2881</li><li>9.23408</li><li>8.79787</li><li>9.05674</li><li>9.06829</li><li>9.22033</li><li>9.11006</li><li>8.68744</li><li>8.94332</li><li>8.97533</li><li>8.93465</li><li>8.8964</li><li>7.993</li><li>8.14756</li><li>8.14705</li><li>8.2554</li><li>8.2345</li><li>7.9953</li><li>8.24515</li><li>8.22673</li><li>8.13643</li><li>8.1631</li><li>8.19579</li><li>8.10417</li><li>7.77672</li><li>7.8208</li><li>7.79958</li><li>8.07137</li><li>7.63884</li><li>8.27376</li><li>7.84057</li><li>7.96491</li><li>7.8962</li><li>7.6322</li><li>7.90436</li><li>7.90971</li><li>7.68528</li><li>7.83733</li><li>7.96621</li><li>7.92358</li><li>7.6887</li><li>8.30515</li><li>&lt;NA&gt;</li><li>7.63452</li><li>7.97408</li><li>7.76843</li><li>7.89744</li><li>8.03659</li><li>7.96935</li><li>8.13746</li><li>8.01979</li><li>8.14776</li><li>8.14567</li><li>8.38324</li><li>8.37615</li><li>8.26548</li><li>8.46894</li><li>8.27141</li><li>8.47829</li><li>8.65803</li><li>8.45167</li><li>8.55868</li><li>8.38289</li><li>8.39867</li><li>8.51951</li><li>8.50153</li><li>8.48789</li><li>8.63488</li><li>8.58319</li><li>8.63604</li><li>8.48367</li><li>8.74647</li><li>8.65015</li><li>8.60092</li><li>8.6287</li><li>8.49662</li><li>8.60447</li><li>8.47067</li><li>8.24253</li><li>8.49854</li><li>8.64931</li><li>8.63551</li><li>8.53018</li><li>8.35078</li><li>8.24651</li><li>8.58487</li><li>8.47938</li><li>8.5964</li><li>8.39299</li><li>8.40327</li><li>8.24694</li><li>8.19749</li><li>8.35802</li><li>8.28601</li><li>8.19101</li><li>8.20042</li><li>8.11238</li><li>8.27428</li><li>8.23468</li><li>8.15426</li><li>8.12691</li><li>8.27595</li><li>8.29671</li><li>8.36701</li><li>8.15566</li><li>8.83352</li><li>8.20106</li><li>8.27102</li><li>8.03624</li><li>7.8881</li><li>8.16582</li><li>8.2066</li><li>8.10231</li><li>8.3118</li><li>8.30817</li><li>8.65914</li><li>8.25818</li><li>8.32359</li><li>8.12311</li><li>8.41017</li><li>8.4207</li><li>8.45738</li><li>8.24691</li><li>8.29226</li><li>8.21634</li><li>8.78557</li><li>8.30231</li><li>8.08354</li><li>8.04111</li><li>8.33825</li><li>7.99184</li><li>&lt;NA&gt;</li><li>8.41151</li><li>8.30166</li><li>8.24246</li><li>8.3639</li><li>9.03935</li><li>8.92069</li><li>9.29078</li><li>8.64701</li><li>9.00642</li><li>8.88942</li><li>8.85664</li><li>8.63701</li><li>8.47173</li><li>8.79581</li><li>8.95063</li><li>8.68747</li><li>8.72037</li><li>9.0233</li><li>9.12277</li><li>9.8059</li><li>10.02019</li><li>9.14382</li><li>9.32105</li><li>9.27158</li><li>9.35138</li><li>9.42666</li><li>9.35416</li><li>9.28153</li><li>9.74144</li><li>9.36799</li><li>8.9399</li><li>9.63074</li><li>9.37369</li><li>9.25177</li><li>9.08458</li><li>9.49283</li><li>9.36668</li><li>9.23196</li><li>9.75486</li><li>9.07825</li><li>8.83502</li><li>9.43146</li><li>9.80589</li><li>10.02544</li><li>9.53262</li><li>9.61734</li><li>10.02372</li><li>9.36493</li><li>9.43684</li><li>9.45827</li><li>9.46819</li><li>9.34089</li><li>9.6895</li><li>9.32169</li><li>9.46929</li><li>9.43782</li><li>9.415</li><li>9.93727</li><li>9.56534</li><li>9.77528</li><li>9.62357</li><li>9.88809</li><li>9.74492</li><li>9.46985</li><li>&lt;NA&gt;</li><li>9.65061</li><li>9.26715</li><li>9.70465</li><li>9.37608</li><li>9.4618</li><li>9.98044</li><li>9.39305</li></ol>\n"
            ]
          },
          "metadata": {
            "tags": []
          }
        },
        {
          "output_type": "display_data",
          "data": {
            "text/plain": [
              "  [1] 181 186 195  NA 193 190 181 195 193 190 186 180 182 191 198 185 195 197\n",
              " [19] 184 194 174 180 189 185 180 187 183 187 172 180 178 178 188 184 195 196\n",
              " [37] 190 180 181 184 182 195 186 196 185 190 182 179 190 191 186 188 190 200\n",
              " [55] 187 191 186 193 181 194 185 195 185 192 184 192 195 188 190 198 190 190\n",
              " [73] 196 197 190 195 191 184 187 195 189 196 187 193 191 194 190 189 189 190\n",
              " [91] 202 205 185 186 187 208 190 196 178 192 192 203 183 190 193 184 199 190\n",
              "[109] 181 197 198 191 193 197 191 196 188 199 189 189 187 198 176 202 186 199\n",
              "[127] 191 195 191 210 190 197 193 199 187 190 191 200 185 193 193 187 188 190\n",
              "[145] 192 185 190 184 195 193 187 201 211 230 210 218 215 210 211 219 209 215\n",
              "[163] 214 216 214 213 210 217 210 221 209 222 218 215 213 215 215 215 216 215\n",
              "[181] 210 220 222 209 207 230 220 220 213 219 208 208 208 225 210 216 222 217\n",
              "[199] 210 225 213 215 210 220 210 225 217 220 208 220 208 224 208 221 214 231\n",
              "[217] 219 230 214 229 220 223 216 221 221 217 216 230 209 220 215 223 212 221\n",
              "[235] 212 224 212 228 218 218 212 230 218 228 212 224 214 226 216 222 203 225\n",
              "[253] 219 228 215 228 216 215 210 219 208 209 216 229 213 230 217 230 217 222\n",
              "[271] 214  NA 215 222 212 213 192 196 193 188 197 198 178 197 195 198 193 194\n",
              "[289] 185 201 190 201 197 181 190 195 181 191 187 193 195 197 200 200 191 205\n",
              "[307] 187 201 187 203 195 199 195 210 192 205 210 187 196 196 196 201 190 212\n",
              "[325] 187 198 199 201 193 203 187 197 191 203 202 194 206 189 195 207 202 193\n",
              "[343] 210 198"
            ],
            "text/latex": "\\begin{enumerate*}\n\\item 181\n\\item 186\n\\item 195\n\\item <NA>\n\\item 193\n\\item 190\n\\item 181\n\\item 195\n\\item 193\n\\item 190\n\\item 186\n\\item 180\n\\item 182\n\\item 191\n\\item 198\n\\item 185\n\\item 195\n\\item 197\n\\item 184\n\\item 194\n\\item 174\n\\item 180\n\\item 189\n\\item 185\n\\item 180\n\\item 187\n\\item 183\n\\item 187\n\\item 172\n\\item 180\n\\item 178\n\\item 178\n\\item 188\n\\item 184\n\\item 195\n\\item 196\n\\item 190\n\\item 180\n\\item 181\n\\item 184\n\\item 182\n\\item 195\n\\item 186\n\\item 196\n\\item 185\n\\item 190\n\\item 182\n\\item 179\n\\item 190\n\\item 191\n\\item 186\n\\item 188\n\\item 190\n\\item 200\n\\item 187\n\\item 191\n\\item 186\n\\item 193\n\\item 181\n\\item 194\n\\item 185\n\\item 195\n\\item 185\n\\item 192\n\\item 184\n\\item 192\n\\item 195\n\\item 188\n\\item 190\n\\item 198\n\\item 190\n\\item 190\n\\item 196\n\\item 197\n\\item 190\n\\item 195\n\\item 191\n\\item 184\n\\item 187\n\\item 195\n\\item 189\n\\item 196\n\\item 187\n\\item 193\n\\item 191\n\\item 194\n\\item 190\n\\item 189\n\\item 189\n\\item 190\n\\item 202\n\\item 205\n\\item 185\n\\item 186\n\\item 187\n\\item 208\n\\item 190\n\\item 196\n\\item 178\n\\item 192\n\\item 192\n\\item 203\n\\item 183\n\\item 190\n\\item 193\n\\item 184\n\\item 199\n\\item 190\n\\item 181\n\\item 197\n\\item 198\n\\item 191\n\\item 193\n\\item 197\n\\item 191\n\\item 196\n\\item 188\n\\item 199\n\\item 189\n\\item 189\n\\item 187\n\\item 198\n\\item 176\n\\item 202\n\\item 186\n\\item 199\n\\item 191\n\\item 195\n\\item 191\n\\item 210\n\\item 190\n\\item 197\n\\item 193\n\\item 199\n\\item 187\n\\item 190\n\\item 191\n\\item 200\n\\item 185\n\\item 193\n\\item 193\n\\item 187\n\\item 188\n\\item 190\n\\item 192\n\\item 185\n\\item 190\n\\item 184\n\\item 195\n\\item 193\n\\item 187\n\\item 201\n\\item 211\n\\item 230\n\\item 210\n\\item 218\n\\item 215\n\\item 210\n\\item 211\n\\item 219\n\\item 209\n\\item 215\n\\item 214\n\\item 216\n\\item 214\n\\item 213\n\\item 210\n\\item 217\n\\item 210\n\\item 221\n\\item 209\n\\item 222\n\\item 218\n\\item 215\n\\item 213\n\\item 215\n\\item 215\n\\item 215\n\\item 216\n\\item 215\n\\item 210\n\\item 220\n\\item 222\n\\item 209\n\\item 207\n\\item 230\n\\item 220\n\\item 220\n\\item 213\n\\item 219\n\\item 208\n\\item 208\n\\item 208\n\\item 225\n\\item 210\n\\item 216\n\\item 222\n\\item 217\n\\item 210\n\\item 225\n\\item 213\n\\item 215\n\\item 210\n\\item 220\n\\item 210\n\\item 225\n\\item 217\n\\item 220\n\\item 208\n\\item 220\n\\item 208\n\\item 224\n\\item 208\n\\item 221\n\\item 214\n\\item 231\n\\item 219\n\\item 230\n\\item 214\n\\item 229\n\\item 220\n\\item 223\n\\item 216\n\\item 221\n\\item 221\n\\item 217\n\\item 216\n\\item 230\n\\item 209\n\\item 220\n\\item 215\n\\item 223\n\\item 212\n\\item 221\n\\item 212\n\\item 224\n\\item 212\n\\item 228\n\\item 218\n\\item 218\n\\item 212\n\\item 230\n\\item 218\n\\item 228\n\\item 212\n\\item 224\n\\item 214\n\\item 226\n\\item 216\n\\item 222\n\\item 203\n\\item 225\n\\item 219\n\\item 228\n\\item 215\n\\item 228\n\\item 216\n\\item 215\n\\item 210\n\\item 219\n\\item 208\n\\item 209\n\\item 216\n\\item 229\n\\item 213\n\\item 230\n\\item 217\n\\item 230\n\\item 217\n\\item 222\n\\item 214\n\\item <NA>\n\\item 215\n\\item 222\n\\item 212\n\\item 213\n\\item 192\n\\item 196\n\\item 193\n\\item 188\n\\item 197\n\\item 198\n\\item 178\n\\item 197\n\\item 195\n\\item 198\n\\item 193\n\\item 194\n\\item 185\n\\item 201\n\\item 190\n\\item 201\n\\item 197\n\\item 181\n\\item 190\n\\item 195\n\\item 181\n\\item 191\n\\item 187\n\\item 193\n\\item 195\n\\item 197\n\\item 200\n\\item 200\n\\item 191\n\\item 205\n\\item 187\n\\item 201\n\\item 187\n\\item 203\n\\item 195\n\\item 199\n\\item 195\n\\item 210\n\\item 192\n\\item 205\n\\item 210\n\\item 187\n\\item 196\n\\item 196\n\\item 196\n\\item 201\n\\item 190\n\\item 212\n\\item 187\n\\item 198\n\\item 199\n\\item 201\n\\item 193\n\\item 203\n\\item 187\n\\item 197\n\\item 191\n\\item 203\n\\item 202\n\\item 194\n\\item 206\n\\item 189\n\\item 195\n\\item 207\n\\item 202\n\\item 193\n\\item 210\n\\item 198\n\\end{enumerate*}\n",
            "text/markdown": "1. 181\n2. 186\n3. 195\n4. &lt;NA&gt;\n5. 193\n6. 190\n7. 181\n8. 195\n9. 193\n10. 190\n11. 186\n12. 180\n13. 182\n14. 191\n15. 198\n16. 185\n17. 195\n18. 197\n19. 184\n20. 194\n21. 174\n22. 180\n23. 189\n24. 185\n25. 180\n26. 187\n27. 183\n28. 187\n29. 172\n30. 180\n31. 178\n32. 178\n33. 188\n34. 184\n35. 195\n36. 196\n37. 190\n38. 180\n39. 181\n40. 184\n41. 182\n42. 195\n43. 186\n44. 196\n45. 185\n46. 190\n47. 182\n48. 179\n49. 190\n50. 191\n51. 186\n52. 188\n53. 190\n54. 200\n55. 187\n56. 191\n57. 186\n58. 193\n59. 181\n60. 194\n61. 185\n62. 195\n63. 185\n64. 192\n65. 184\n66. 192\n67. 195\n68. 188\n69. 190\n70. 198\n71. 190\n72. 190\n73. 196\n74. 197\n75. 190\n76. 195\n77. 191\n78. 184\n79. 187\n80. 195\n81. 189\n82. 196\n83. 187\n84. 193\n85. 191\n86. 194\n87. 190\n88. 189\n89. 189\n90. 190\n91. 202\n92. 205\n93. 185\n94. 186\n95. 187\n96. 208\n97. 190\n98. 196\n99. 178\n100. 192\n101. 192\n102. 203\n103. 183\n104. 190\n105. 193\n106. 184\n107. 199\n108. 190\n109. 181\n110. 197\n111. 198\n112. 191\n113. 193\n114. 197\n115. 191\n116. 196\n117. 188\n118. 199\n119. 189\n120. 189\n121. 187\n122. 198\n123. 176\n124. 202\n125. 186\n126. 199\n127. 191\n128. 195\n129. 191\n130. 210\n131. 190\n132. 197\n133. 193\n134. 199\n135. 187\n136. 190\n137. 191\n138. 200\n139. 185\n140. 193\n141. 193\n142. 187\n143. 188\n144. 190\n145. 192\n146. 185\n147. 190\n148. 184\n149. 195\n150. 193\n151. 187\n152. 201\n153. 211\n154. 230\n155. 210\n156. 218\n157. 215\n158. 210\n159. 211\n160. 219\n161. 209\n162. 215\n163. 214\n164. 216\n165. 214\n166. 213\n167. 210\n168. 217\n169. 210\n170. 221\n171. 209\n172. 222\n173. 218\n174. 215\n175. 213\n176. 215\n177. 215\n178. 215\n179. 216\n180. 215\n181. 210\n182. 220\n183. 222\n184. 209\n185. 207\n186. 230\n187. 220\n188. 220\n189. 213\n190. 219\n191. 208\n192. 208\n193. 208\n194. 225\n195. 210\n196. 216\n197. 222\n198. 217\n199. 210\n200. 225\n201. 213\n202. 215\n203. 210\n204. 220\n205. 210\n206. 225\n207. 217\n208. 220\n209. 208\n210. 220\n211. 208\n212. 224\n213. 208\n214. 221\n215. 214\n216. 231\n217. 219\n218. 230\n219. 214\n220. 229\n221. 220\n222. 223\n223. 216\n224. 221\n225. 221\n226. 217\n227. 216\n228. 230\n229. 209\n230. 220\n231. 215\n232. 223\n233. 212\n234. 221\n235. 212\n236. 224\n237. 212\n238. 228\n239. 218\n240. 218\n241. 212\n242. 230\n243. 218\n244. 228\n245. 212\n246. 224\n247. 214\n248. 226\n249. 216\n250. 222\n251. 203\n252. 225\n253. 219\n254. 228\n255. 215\n256. 228\n257. 216\n258. 215\n259. 210\n260. 219\n261. 208\n262. 209\n263. 216\n264. 229\n265. 213\n266. 230\n267. 217\n268. 230\n269. 217\n270. 222\n271. 214\n272. &lt;NA&gt;\n273. 215\n274. 222\n275. 212\n276. 213\n277. 192\n278. 196\n279. 193\n280. 188\n281. 197\n282. 198\n283. 178\n284. 197\n285. 195\n286. 198\n287. 193\n288. 194\n289. 185\n290. 201\n291. 190\n292. 201\n293. 197\n294. 181\n295. 190\n296. 195\n297. 181\n298. 191\n299. 187\n300. 193\n301. 195\n302. 197\n303. 200\n304. 200\n305. 191\n306. 205\n307. 187\n308. 201\n309. 187\n310. 203\n311. 195\n312. 199\n313. 195\n314. 210\n315. 192\n316. 205\n317. 210\n318. 187\n319. 196\n320. 196\n321. 196\n322. 201\n323. 190\n324. 212\n325. 187\n326. 198\n327. 199\n328. 201\n329. 193\n330. 203\n331. 187\n332. 197\n333. 191\n334. 203\n335. 202\n336. 194\n337. 206\n338. 189\n339. 195\n340. 207\n341. 202\n342. 193\n343. 210\n344. 198\n\n\n",
            "text/html": [
              "<style>\n",
              ".list-inline {list-style: none; margin:0; padding: 0}\n",
              ".list-inline>li {display: inline-block}\n",
              ".list-inline>li:not(:last-child)::after {content: \"\\00b7\"; padding: 0 .5ex}\n",
              "</style>\n",
              "<ol class=list-inline><li>181</li><li>186</li><li>195</li><li>&lt;NA&gt;</li><li>193</li><li>190</li><li>181</li><li>195</li><li>193</li><li>190</li><li>186</li><li>180</li><li>182</li><li>191</li><li>198</li><li>185</li><li>195</li><li>197</li><li>184</li><li>194</li><li>174</li><li>180</li><li>189</li><li>185</li><li>180</li><li>187</li><li>183</li><li>187</li><li>172</li><li>180</li><li>178</li><li>178</li><li>188</li><li>184</li><li>195</li><li>196</li><li>190</li><li>180</li><li>181</li><li>184</li><li>182</li><li>195</li><li>186</li><li>196</li><li>185</li><li>190</li><li>182</li><li>179</li><li>190</li><li>191</li><li>186</li><li>188</li><li>190</li><li>200</li><li>187</li><li>191</li><li>186</li><li>193</li><li>181</li><li>194</li><li>185</li><li>195</li><li>185</li><li>192</li><li>184</li><li>192</li><li>195</li><li>188</li><li>190</li><li>198</li><li>190</li><li>190</li><li>196</li><li>197</li><li>190</li><li>195</li><li>191</li><li>184</li><li>187</li><li>195</li><li>189</li><li>196</li><li>187</li><li>193</li><li>191</li><li>194</li><li>190</li><li>189</li><li>189</li><li>190</li><li>202</li><li>205</li><li>185</li><li>186</li><li>187</li><li>208</li><li>190</li><li>196</li><li>178</li><li>192</li><li>192</li><li>203</li><li>183</li><li>190</li><li>193</li><li>184</li><li>199</li><li>190</li><li>181</li><li>197</li><li>198</li><li>191</li><li>193</li><li>197</li><li>191</li><li>196</li><li>188</li><li>199</li><li>189</li><li>189</li><li>187</li><li>198</li><li>176</li><li>202</li><li>186</li><li>199</li><li>191</li><li>195</li><li>191</li><li>210</li><li>190</li><li>197</li><li>193</li><li>199</li><li>187</li><li>190</li><li>191</li><li>200</li><li>185</li><li>193</li><li>193</li><li>187</li><li>188</li><li>190</li><li>192</li><li>185</li><li>190</li><li>184</li><li>195</li><li>193</li><li>187</li><li>201</li><li>211</li><li>230</li><li>210</li><li>218</li><li>215</li><li>210</li><li>211</li><li>219</li><li>209</li><li>215</li><li>214</li><li>216</li><li>214</li><li>213</li><li>210</li><li>217</li><li>210</li><li>221</li><li>209</li><li>222</li><li>218</li><li>215</li><li>213</li><li>215</li><li>215</li><li>215</li><li>216</li><li>215</li><li>210</li><li>220</li><li>222</li><li>209</li><li>207</li><li>230</li><li>220</li><li>220</li><li>213</li><li>219</li><li>208</li><li>208</li><li>208</li><li>225</li><li>210</li><li>216</li><li>222</li><li>217</li><li>210</li><li>225</li><li>213</li><li>215</li><li>210</li><li>220</li><li>210</li><li>225</li><li>217</li><li>220</li><li>208</li><li>220</li><li>208</li><li>224</li><li>208</li><li>221</li><li>214</li><li>231</li><li>219</li><li>230</li><li>214</li><li>229</li><li>220</li><li>223</li><li>216</li><li>221</li><li>221</li><li>217</li><li>216</li><li>230</li><li>209</li><li>220</li><li>215</li><li>223</li><li>212</li><li>221</li><li>212</li><li>224</li><li>212</li><li>228</li><li>218</li><li>218</li><li>212</li><li>230</li><li>218</li><li>228</li><li>212</li><li>224</li><li>214</li><li>226</li><li>216</li><li>222</li><li>203</li><li>225</li><li>219</li><li>228</li><li>215</li><li>228</li><li>216</li><li>215</li><li>210</li><li>219</li><li>208</li><li>209</li><li>216</li><li>229</li><li>213</li><li>230</li><li>217</li><li>230</li><li>217</li><li>222</li><li>214</li><li>&lt;NA&gt;</li><li>215</li><li>222</li><li>212</li><li>213</li><li>192</li><li>196</li><li>193</li><li>188</li><li>197</li><li>198</li><li>178</li><li>197</li><li>195</li><li>198</li><li>193</li><li>194</li><li>185</li><li>201</li><li>190</li><li>201</li><li>197</li><li>181</li><li>190</li><li>195</li><li>181</li><li>191</li><li>187</li><li>193</li><li>195</li><li>197</li><li>200</li><li>200</li><li>191</li><li>205</li><li>187</li><li>201</li><li>187</li><li>203</li><li>195</li><li>199</li><li>195</li><li>210</li><li>192</li><li>205</li><li>210</li><li>187</li><li>196</li><li>196</li><li>196</li><li>201</li><li>190</li><li>212</li><li>187</li><li>198</li><li>199</li><li>201</li><li>193</li><li>203</li><li>187</li><li>197</li><li>191</li><li>203</li><li>202</li><li>194</li><li>206</li><li>189</li><li>195</li><li>207</li><li>202</li><li>193</li><li>210</li><li>198</li></ol>\n"
            ]
          },
          "metadata": {
            "tags": []
          }
        }
      ]
    },
    {
      "cell_type": "markdown",
      "metadata": {
        "id": "440b2abc"
      },
      "source": [
        "`janitor` can help with that: \n",
        "\n",
        "using a function called `clean_names()`\n",
        "\n"
      ]
    },
    {
      "cell_type": "markdown",
      "metadata": {
        "id": "fe309f30"
      },
      "source": [
        "\n",
        "`clean_names()` just magically turns all our messy column names into readable lower-case snake case:"
      ]
    },
    {
      "cell_type": "code",
      "metadata": {
        "id": "3dc22d56"
      },
      "source": [
        "\n",
        "penguins_clean <- clean_names(penguins_raw) \n"
      ],
      "execution_count": null,
      "outputs": []
    },
    {
      "cell_type": "markdown",
      "metadata": {
        "id": "cdd997ed"
      },
      "source": [
        "That is how the variables look like now:"
      ]
    },
    {
      "cell_type": "code",
      "metadata": {
        "lines_to_next_cell": 0,
        "id": "b12ef6dc",
        "colab": {
          "base_uri": "https://localhost:8080/"
        },
        "outputId": "401b33f9-2211-4544-d5f7-d86a1c159c17"
      },
      "source": [
        "glimpse(penguins_clean)\n"
      ],
      "execution_count": null,
      "outputs": [
        {
          "output_type": "stream",
          "text": [
            "Rows: 344\n",
            "Columns: 17\n",
            "$ study_name        \u001b[3m\u001b[90m<chr>\u001b[39m\u001b[23m \"PAL0708\", \"PAL0708\", \"PAL0708\", \"PAL0708\", \"PAL0708…\n",
            "$ sample_number     \u001b[3m\u001b[90m<dbl>\u001b[39m\u001b[23m 1, 2, 3, 4, 5, 6, 7, 8, 9, 10, 11, 12, 13, 14, 15, 1…\n",
            "$ species           \u001b[3m\u001b[90m<chr>\u001b[39m\u001b[23m \"Adelie Penguin (Pygoscelis adeliae)\", \"Adelie Pengu…\n",
            "$ region            \u001b[3m\u001b[90m<chr>\u001b[39m\u001b[23m \"Anvers\", \"Anvers\", \"Anvers\", \"Anvers\", \"Anvers\", \"A…\n",
            "$ island            \u001b[3m\u001b[90m<chr>\u001b[39m\u001b[23m \"Torgersen\", \"Torgersen\", \"Torgersen\", \"Torgersen\", …\n",
            "$ stage             \u001b[3m\u001b[90m<chr>\u001b[39m\u001b[23m \"Adult, 1 Egg Stage\", \"Adult, 1 Egg Stage\", \"Adult, …\n",
            "$ individual_id     \u001b[3m\u001b[90m<chr>\u001b[39m\u001b[23m \"N1A1\", \"N1A2\", \"N2A1\", \"N2A2\", \"N3A1\", \"N3A2\", \"N4A…\n",
            "$ clutch_completion \u001b[3m\u001b[90m<chr>\u001b[39m\u001b[23m \"Yes\", \"Yes\", \"Yes\", \"Yes\", \"Yes\", \"Yes\", \"No\", \"No\"…\n",
            "$ date_egg          \u001b[3m\u001b[90m<date>\u001b[39m\u001b[23m 2007-11-11, 2007-11-11, 2007-11-16, 2007-11-16, 200…\n",
            "$ culmen_length_mm  \u001b[3m\u001b[90m<dbl>\u001b[39m\u001b[23m 39.1, 39.5, 40.3, NA, 36.7, 39.3, 38.9, 39.2, 34.1, …\n",
            "$ culmen_depth_mm   \u001b[3m\u001b[90m<dbl>\u001b[39m\u001b[23m 18.7, 17.4, 18.0, NA, 19.3, 20.6, 17.8, 19.6, 18.1, …\n",
            "$ flipper_length_mm \u001b[3m\u001b[90m<dbl>\u001b[39m\u001b[23m 181, 186, 195, NA, 193, 190, 181, 195, 193, 190, 186…\n",
            "$ body_mass_g       \u001b[3m\u001b[90m<dbl>\u001b[39m\u001b[23m 3750, 3800, 3250, NA, 3450, 3650, 3625, 4675, 3475, …\n",
            "$ sex               \u001b[3m\u001b[90m<chr>\u001b[39m\u001b[23m \"MALE\", \"FEMALE\", \"FEMALE\", NA, \"FEMALE\", \"MALE\", \"F…\n",
            "$ delta_15_n_o_oo   \u001b[3m\u001b[90m<dbl>\u001b[39m\u001b[23m NA, 8.94956, 8.36821, NA, 8.76651, 8.66496, 9.18718,…\n",
            "$ delta_13_c_o_oo   \u001b[3m\u001b[90m<dbl>\u001b[39m\u001b[23m NA, -24.69454, -25.33302, NA, -25.32426, -25.29805, …\n",
            "$ comments          \u001b[3m\u001b[90m<chr>\u001b[39m\u001b[23m \"Not enough blood for isotopes.\", NA, NA, \"Adult not…\n"
          ],
          "name": "stdout"
        }
      ]
    },
    {
      "cell_type": "markdown",
      "metadata": {
        "id": "4702b540"
      },
      "source": [
        "### `remove_constant()`\n",
        "\n",
        "Now we have another problem. Not all variables in the `penguins_clean` data set are that useful. \n",
        "\n",
        "Some of them are the same across all observations. We don't need those variables, like `region`."
      ]
    },
    {
      "cell_type": "code",
      "metadata": {
        "id": "add7e8c3",
        "colab": {
          "base_uri": "https://localhost:8080/",
          "height": 67
        },
        "outputId": "3abf5869-ba08-431c-8d2c-d962edf8d630"
      },
      "source": [
        "table(penguins_clean$region)"
      ],
      "execution_count": null,
      "outputs": [
        {
          "output_type": "display_data",
          "data": {
            "text/plain": [
              "\n",
              "Anvers \n",
              "   344 "
            ]
          },
          "metadata": {
            "tags": []
          }
        }
      ]
    },
    {
      "cell_type": "markdown",
      "metadata": {
        "id": "06ea7832"
      },
      "source": [
        "We can use the base R function `table` to quickly get some tabulations of our variable.\n"
      ]
    },
    {
      "cell_type": "markdown",
      "metadata": {
        "id": "761fb442"
      },
      "source": [
        "\n",
        "\n",
        "Here to help get rid of these *constant* columns is the function `remove_constant()`."
      ]
    },
    {
      "cell_type": "code",
      "metadata": {
        "message": true,
        "id": "fe24a98c",
        "colab": {
          "base_uri": "https://localhost:8080/"
        },
        "outputId": "ed116f37-b588-4bc8-c5fa-24c2cd6c72d4"
      },
      "source": [
        "penguins_clean <- remove_constant(penguins_clean, quiet = F)"
      ],
      "execution_count": null,
      "outputs": [
        {
          "output_type": "stream",
          "text": [
            "Removing 2 constant columns of 17 columns total (Removed: region, stage).\n",
            "\n"
          ],
          "name": "stderr"
        }
      ]
    },
    {
      "cell_type": "markdown",
      "metadata": {
        "id": "ad306dbd"
      },
      "source": [
        "When we set `quiet = F` we even get some input as to what exactly was removed. Neat!"
      ]
    },
    {
      "cell_type": "markdown",
      "metadata": {
        "id": "f3803c89"
      },
      "source": [
        "Another useful function in `janitor` is `remove_empty()` which removes all rows or columns that just consist of missing values (i.e. `NA`)\n",
        "\n",
        "\n"
      ]
    },
    {
      "cell_type": "markdown",
      "metadata": {
        "id": "XTVTIe9UeV5d"
      },
      "source": [
        "## Data cleaning using `tidyr`\n",
        "\n",
        "![](https://tidyr.tidyverse.org/logo.png)"
      ]
    },
    {
      "cell_type": "markdown",
      "metadata": {
        "id": "a54l92iqep9j"
      },
      "source": [
        "Now we are already fairly advanced in our tidying.\n",
        "\n",
        "But our dataset is still not entirely tidy yet.\n",
        "\n",
        "Consider the `species` variable:"
      ]
    },
    {
      "cell_type": "code",
      "metadata": {
        "colab": {
          "base_uri": "https://localhost:8080/",
          "height": 134
        },
        "id": "Yq2GA5RzehFL",
        "outputId": "97f78157-e104-44d5-85e8-76c554b3df7d"
      },
      "source": [
        "table(penguins_clean$species)"
      ],
      "execution_count": null,
      "outputs": [
        {
          "output_type": "display_data",
          "data": {
            "text/plain": [
              "\n",
              "      Adelie Penguin (Pygoscelis adeliae) \n",
              "                                      152 \n",
              "Chinstrap penguin (Pygoscelis antarctica) \n",
              "                                       68 \n",
              "        Gentoo penguin (Pygoscelis papua) \n",
              "                                      124 "
            ]
          },
          "metadata": {
            "tags": []
          }
        }
      ]
    },
    {
      "cell_type": "markdown",
      "metadata": {
        "id": "Au-SoTKve5Wi"
      },
      "source": [
        "This variable violates the tidy rule that each cell should include a single value. \n",
        "\n",
        "Species hold both the *common name* and the *latin name* of the penguin.\n",
        "\n",
        "### `separate()`\n",
        "\n",
        "We can use a `tidyr` function called `separate()` to turn this into two variables.\n",
        "\n",
        "Two arguments are important for that:\n",
        "\n",
        "+ `sep`: specifies by which character the value should be split\n",
        "+ `into`: a vector which specifies the resulting new variable names\n",
        "\n",
        "In our case we want to split by an empty space and opening bracket ` \\\\(` and will name our variables `species` and `latin_name`:"
      ]
    },
    {
      "cell_type": "code",
      "metadata": {
        "id": "4nbyOz3EfiCM"
      },
      "source": [
        "penguins_clean <- separate(penguins_clean, species, sep = \" \\\\(\", into = c(\"species\", \"latin_name\"))"
      ],
      "execution_count": null,
      "outputs": []
    },
    {
      "cell_type": "code",
      "metadata": {
        "id": "QP5apUf-gQzk",
        "colab": {
          "base_uri": "https://localhost:8080/",
          "height": 1000
        },
        "outputId": "fd313cd2-4e16-4f9d-cade-c4e088e9e133"
      },
      "source": [
        "penguins_clean"
      ],
      "execution_count": null,
      "outputs": [
        {
          "output_type": "display_data",
          "data": {
            "text/plain": [
              "    study_name sample_number species           latin_name             island   \n",
              "1   PAL0708     1            Adelie Penguin    Pygoscelis adeliae)    Torgersen\n",
              "2   PAL0708     2            Adelie Penguin    Pygoscelis adeliae)    Torgersen\n",
              "3   PAL0708     3            Adelie Penguin    Pygoscelis adeliae)    Torgersen\n",
              "4   PAL0708     4            Adelie Penguin    Pygoscelis adeliae)    Torgersen\n",
              "5   PAL0708     5            Adelie Penguin    Pygoscelis adeliae)    Torgersen\n",
              "6   PAL0708     6            Adelie Penguin    Pygoscelis adeliae)    Torgersen\n",
              "7   PAL0708     7            Adelie Penguin    Pygoscelis adeliae)    Torgersen\n",
              "8   PAL0708     8            Adelie Penguin    Pygoscelis adeliae)    Torgersen\n",
              "9   PAL0708     9            Adelie Penguin    Pygoscelis adeliae)    Torgersen\n",
              "10  PAL0708    10            Adelie Penguin    Pygoscelis adeliae)    Torgersen\n",
              "11  PAL0708    11            Adelie Penguin    Pygoscelis adeliae)    Torgersen\n",
              "12  PAL0708    12            Adelie Penguin    Pygoscelis adeliae)    Torgersen\n",
              "13  PAL0708    13            Adelie Penguin    Pygoscelis adeliae)    Torgersen\n",
              "14  PAL0708    14            Adelie Penguin    Pygoscelis adeliae)    Torgersen\n",
              "15  PAL0708    15            Adelie Penguin    Pygoscelis adeliae)    Torgersen\n",
              "16  PAL0708    16            Adelie Penguin    Pygoscelis adeliae)    Torgersen\n",
              "17  PAL0708    17            Adelie Penguin    Pygoscelis adeliae)    Torgersen\n",
              "18  PAL0708    18            Adelie Penguin    Pygoscelis adeliae)    Torgersen\n",
              "19  PAL0708    19            Adelie Penguin    Pygoscelis adeliae)    Torgersen\n",
              "20  PAL0708    20            Adelie Penguin    Pygoscelis adeliae)    Torgersen\n",
              "21  PAL0708    21            Adelie Penguin    Pygoscelis adeliae)    Biscoe   \n",
              "22  PAL0708    22            Adelie Penguin    Pygoscelis adeliae)    Biscoe   \n",
              "23  PAL0708    23            Adelie Penguin    Pygoscelis adeliae)    Biscoe   \n",
              "24  PAL0708    24            Adelie Penguin    Pygoscelis adeliae)    Biscoe   \n",
              "25  PAL0708    25            Adelie Penguin    Pygoscelis adeliae)    Biscoe   \n",
              "26  PAL0708    26            Adelie Penguin    Pygoscelis adeliae)    Biscoe   \n",
              "27  PAL0708    27            Adelie Penguin    Pygoscelis adeliae)    Biscoe   \n",
              "28  PAL0708    28            Adelie Penguin    Pygoscelis adeliae)    Biscoe   \n",
              "29  PAL0708    29            Adelie Penguin    Pygoscelis adeliae)    Biscoe   \n",
              "30  PAL0708    30            Adelie Penguin    Pygoscelis adeliae)    Biscoe   \n",
              "⋮   ⋮          ⋮             ⋮                 ⋮                      ⋮        \n",
              "315 PAL0809    39            Chinstrap penguin Pygoscelis antarctica) Dream    \n",
              "316 PAL0809    40            Chinstrap penguin Pygoscelis antarctica) Dream    \n",
              "317 PAL0809    41            Chinstrap penguin Pygoscelis antarctica) Dream    \n",
              "318 PAL0809    42            Chinstrap penguin Pygoscelis antarctica) Dream    \n",
              "319 PAL0809    43            Chinstrap penguin Pygoscelis antarctica) Dream    \n",
              "320 PAL0809    44            Chinstrap penguin Pygoscelis antarctica) Dream    \n",
              "321 PAL0910    45            Chinstrap penguin Pygoscelis antarctica) Dream    \n",
              "322 PAL0910    46            Chinstrap penguin Pygoscelis antarctica) Dream    \n",
              "323 PAL0910    47            Chinstrap penguin Pygoscelis antarctica) Dream    \n",
              "324 PAL0910    48            Chinstrap penguin Pygoscelis antarctica) Dream    \n",
              "325 PAL0910    49            Chinstrap penguin Pygoscelis antarctica) Dream    \n",
              "326 PAL0910    50            Chinstrap penguin Pygoscelis antarctica) Dream    \n",
              "327 PAL0910    51            Chinstrap penguin Pygoscelis antarctica) Dream    \n",
              "328 PAL0910    52            Chinstrap penguin Pygoscelis antarctica) Dream    \n",
              "329 PAL0910    53            Chinstrap penguin Pygoscelis antarctica) Dream    \n",
              "330 PAL0910    54            Chinstrap penguin Pygoscelis antarctica) Dream    \n",
              "331 PAL0910    55            Chinstrap penguin Pygoscelis antarctica) Dream    \n",
              "332 PAL0910    56            Chinstrap penguin Pygoscelis antarctica) Dream    \n",
              "333 PAL0910    57            Chinstrap penguin Pygoscelis antarctica) Dream    \n",
              "334 PAL0910    58            Chinstrap penguin Pygoscelis antarctica) Dream    \n",
              "335 PAL0910    59            Chinstrap penguin Pygoscelis antarctica) Dream    \n",
              "336 PAL0910    60            Chinstrap penguin Pygoscelis antarctica) Dream    \n",
              "337 PAL0910    61            Chinstrap penguin Pygoscelis antarctica) Dream    \n",
              "338 PAL0910    62            Chinstrap penguin Pygoscelis antarctica) Dream    \n",
              "339 PAL0910    63            Chinstrap penguin Pygoscelis antarctica) Dream    \n",
              "340 PAL0910    64            Chinstrap penguin Pygoscelis antarctica) Dream    \n",
              "341 PAL0910    65            Chinstrap penguin Pygoscelis antarctica) Dream    \n",
              "342 PAL0910    66            Chinstrap penguin Pygoscelis antarctica) Dream    \n",
              "343 PAL0910    67            Chinstrap penguin Pygoscelis antarctica) Dream    \n",
              "344 PAL0910    68            Chinstrap penguin Pygoscelis antarctica) Dream    \n",
              "    individual_id clutch_completion date_egg   culmen_length_mm culmen_depth_mm\n",
              "1   N1A1          Yes               2007-11-11 39.1             18.7           \n",
              "2   N1A2          Yes               2007-11-11 39.5             17.4           \n",
              "3   N2A1          Yes               2007-11-16 40.3             18.0           \n",
              "4   N2A2          Yes               2007-11-16   NA               NA           \n",
              "5   N3A1          Yes               2007-11-16 36.7             19.3           \n",
              "6   N3A2          Yes               2007-11-16 39.3             20.6           \n",
              "7   N4A1          No                2007-11-15 38.9             17.8           \n",
              "8   N4A2          No                2007-11-15 39.2             19.6           \n",
              "9   N5A1          Yes               2007-11-09 34.1             18.1           \n",
              "10  N5A2          Yes               2007-11-09 42.0             20.2           \n",
              "11  N6A1          Yes               2007-11-09 37.8             17.1           \n",
              "12  N6A2          Yes               2007-11-09 37.8             17.3           \n",
              "13  N7A1          Yes               2007-11-15 41.1             17.6           \n",
              "14  N7A2          Yes               2007-11-15 38.6             21.2           \n",
              "15  N8A1          Yes               2007-11-16 34.6             21.1           \n",
              "16  N8A2          Yes               2007-11-16 36.6             17.8           \n",
              "17  N9A1          Yes               2007-11-12 38.7             19.0           \n",
              "18  N9A2          Yes               2007-11-12 42.5             20.7           \n",
              "19  N10A1         Yes               2007-11-16 34.4             18.4           \n",
              "20  N10A2         Yes               2007-11-16 46.0             21.5           \n",
              "21  N11A1         Yes               2007-11-12 37.8             18.3           \n",
              "22  N11A2         Yes               2007-11-12 37.7             18.7           \n",
              "23  N12A1         Yes               2007-11-12 35.9             19.2           \n",
              "24  N12A2         Yes               2007-11-12 38.2             18.1           \n",
              "25  N13A1         Yes               2007-11-10 38.8             17.2           \n",
              "26  N13A2         Yes               2007-11-10 35.3             18.9           \n",
              "27  N17A1         Yes               2007-11-12 40.6             18.6           \n",
              "28  N17A2         Yes               2007-11-12 40.5             17.9           \n",
              "29  N18A1         No                2007-11-10 37.9             18.6           \n",
              "30  N18A2         No                2007-11-10 40.5             18.9           \n",
              "⋮   ⋮             ⋮                 ⋮          ⋮                ⋮              \n",
              "315 N72A1         No                2008-11-24 46.9             16.6           \n",
              "316 N72A2         No                2008-11-24 53.5             19.9           \n",
              "317 N74A1         Yes               2008-11-24 49.0             19.5           \n",
              "318 N74A2         Yes               2008-11-24 46.2             17.5           \n",
              "319 N75A1         Yes               2008-11-14 50.9             19.1           \n",
              "320 N75A2         Yes               2008-11-14 45.5             17.0           \n",
              "321 N86A1         Yes               2009-11-17 50.9             17.9           \n",
              "322 N86A2         Yes               2009-11-17 50.8             18.5           \n",
              "323 N87A1         Yes               2009-11-27 50.1             17.9           \n",
              "324 N87A2         Yes               2009-11-27 49.0             19.6           \n",
              "325 N88A1         Yes               2009-11-23 51.5             18.7           \n",
              "326 N88A2         Yes               2009-11-23 49.8             17.3           \n",
              "327 N90A1         Yes               2009-11-21 48.1             16.4           \n",
              "328 N90A2         Yes               2009-11-21 51.4             19.0           \n",
              "329 N92A1         Yes               2009-11-23 45.7             17.3           \n",
              "330 N92A2         Yes               2009-11-23 50.7             19.7           \n",
              "331 N93A1         Yes               2009-11-27 42.5             17.3           \n",
              "332 N93A2         Yes               2009-11-27 52.2             18.8           \n",
              "333 N94A1         Yes               2009-11-21 45.2             16.6           \n",
              "334 N94A2         Yes               2009-11-21 49.3             19.9           \n",
              "335 N95A1         Yes               2009-11-21 50.2             18.8           \n",
              "336 N95A2         Yes               2009-11-21 45.6             19.4           \n",
              "337 N96A1         Yes               2009-11-27 51.9             19.5           \n",
              "338 N96A2         Yes               2009-11-27 46.8             16.5           \n",
              "339 N98A1         Yes               2009-11-19 45.7             17.0           \n",
              "340 N98A2         Yes               2009-11-19 55.8             19.8           \n",
              "341 N99A1         No                2009-11-21 43.5             18.1           \n",
              "342 N99A2         No                2009-11-21 49.6             18.2           \n",
              "343 N100A1        Yes               2009-11-21 50.8             19.0           \n",
              "344 N100A2        Yes               2009-11-21 50.2             18.7           \n",
              "    flipper_length_mm body_mass_g sex    delta_15_n_o_oo delta_13_c_o_oo\n",
              "1   181               3750        MALE        NA                NA      \n",
              "2   186               3800        FEMALE 8.94956         -24.69454      \n",
              "3   195               3250        FEMALE 8.36821         -25.33302      \n",
              "4    NA                 NA        NA          NA                NA      \n",
              "5   193               3450        FEMALE 8.76651         -25.32426      \n",
              "6   190               3650        MALE   8.66496         -25.29805      \n",
              "7   181               3625        FEMALE 9.18718         -25.21799      \n",
              "8   195               4675        MALE   9.46060         -24.89958      \n",
              "9   193               3475        NA          NA                NA      \n",
              "10  190               4250        NA     9.13362         -25.09368      \n",
              "11  186               3300        NA     8.63243         -25.21315      \n",
              "12  180               3700        NA          NA                NA      \n",
              "13  182               3200        FEMALE      NA                NA      \n",
              "14  191               3800        MALE        NA                NA      \n",
              "15  198               4400        MALE   8.55583         -25.22588      \n",
              "16  185               3700        FEMALE      NA                NA      \n",
              "17  195               3450        FEMALE 9.18528         -25.06691      \n",
              "18  197               4500        MALE   8.67538         -25.13993      \n",
              "19  184               3325        FEMALE 8.47827         -25.23319      \n",
              "20  194               4200        MALE   9.11616         -24.77227      \n",
              "21  174               3400        FEMALE 8.73762         -25.09383      \n",
              "22  180               3600        MALE   8.66271         -25.06390      \n",
              "23  189               3800        FEMALE 9.22286         -25.03474      \n",
              "24  185               3950        MALE   8.43423         -25.22664      \n",
              "25  180               3800        MALE   9.63954         -25.29856      \n",
              "26  187               3800        FEMALE 9.21292         -24.36130      \n",
              "27  183               3550        MALE   8.93997         -25.36288      \n",
              "28  187               3200        FEMALE 8.08138         -25.49448      \n",
              "29  172               3150        FEMALE 8.38404         -25.19837      \n",
              "30  180               3950        MALE   8.90027         -25.11609      \n",
              "⋮   ⋮                 ⋮           ⋮      ⋮               ⋮              \n",
              "315 192               2700        FEMALE  9.80589        -24.73735      \n",
              "316 205               4500        MALE   10.02544        -24.90816      \n",
              "317 210               3950        MALE    9.53262        -24.66867      \n",
              "318 187               3650        FEMALE  9.61734        -24.66188      \n",
              "319 196               3550        MALE   10.02372        -24.86594      \n",
              "320 196               3500        FEMALE  9.36493        -24.66259      \n",
              "321 196               3675        FEMALE  9.43684        -24.16566      \n",
              "322 201               4450        MALE    9.45827        -24.35575      \n",
              "323 190               3400        FEMALE  9.46819        -24.45721      \n",
              "324 212               4300        MALE    9.34089        -24.45189      \n",
              "325 187               3250        MALE    9.68950        -24.43062      \n",
              "326 198               3675        FEMALE  9.32169        -24.41562      \n",
              "327 199               3325        FEMALE  9.46929        -24.48403      \n",
              "328 201               3950        MALE    9.43782        -24.36202      \n",
              "329 193               3600        FEMALE  9.41500        -24.80500      \n",
              "330 203               4050        MALE    9.93727        -24.59066      \n",
              "331 187               3350        FEMALE  9.56534        -24.60882      \n",
              "332 197               3450        MALE    9.77528        -24.56481      \n",
              "333 191               3250        FEMALE  9.62357        -24.78984      \n",
              "334 203               4050        MALE    9.88809        -24.59513      \n",
              "335 202               3800        MALE    9.74492        -24.40400      \n",
              "336 194               3525        FEMALE  9.46985        -24.65786      \n",
              "337 206               3950        MALE         NA        -23.78767      \n",
              "338 189               3650        FEMALE  9.65061        -24.48153      \n",
              "339 195               3650        FEMALE  9.26715        -24.31912      \n",
              "340 207               4000        MALE    9.70465        -24.53494      \n",
              "341 202               3400        FEMALE  9.37608        -24.40753      \n",
              "342 193               3775        MALE    9.46180        -24.70615      \n",
              "343 210               4100        MALE    9.98044        -24.68741      \n",
              "344 198               3775        FEMALE  9.39305        -24.25255      \n",
              "    comments                             \n",
              "1   Not enough blood for isotopes.       \n",
              "2   NA                                   \n",
              "3   NA                                   \n",
              "4   Adult not sampled.                   \n",
              "5   NA                                   \n",
              "6   NA                                   \n",
              "7   Nest never observed with full clutch.\n",
              "8   Nest never observed with full clutch.\n",
              "9   No blood sample obtained.            \n",
              "10  No blood sample obtained for sexing. \n",
              "11  No blood sample obtained for sexing. \n",
              "12  No blood sample obtained.            \n",
              "13  Not enough blood for isotopes.       \n",
              "14  Not enough blood for isotopes.       \n",
              "15  NA                                   \n",
              "16  Not enough blood for isotopes.       \n",
              "17  NA                                   \n",
              "18  NA                                   \n",
              "19  NA                                   \n",
              "20  NA                                   \n",
              "21  NA                                   \n",
              "22  NA                                   \n",
              "23  NA                                   \n",
              "24  NA                                   \n",
              "25  NA                                   \n",
              "26  NA                                   \n",
              "27  NA                                   \n",
              "28  NA                                   \n",
              "29  Nest never observed with full clutch.\n",
              "30  Nest never observed with full clutch.\n",
              "⋮   ⋮                                    \n",
              "315 Nest never observed with full clutch.\n",
              "316 Nest never observed with full clutch.\n",
              "317 NA                                   \n",
              "318 NA                                   \n",
              "319 NA                                   \n",
              "320 NA                                   \n",
              "321 NA                                   \n",
              "322 NA                                   \n",
              "323 NA                                   \n",
              "324 NA                                   \n",
              "325 NA                                   \n",
              "326 NA                                   \n",
              "327 NA                                   \n",
              "328 NA                                   \n",
              "329 NA                                   \n",
              "330 NA                                   \n",
              "331 NA                                   \n",
              "332 NA                                   \n",
              "333 NA                                   \n",
              "334 NA                                   \n",
              "335 NA                                   \n",
              "336 NA                                   \n",
              "337 No delta15N data received from lab.  \n",
              "338 NA                                   \n",
              "339 NA                                   \n",
              "340 NA                                   \n",
              "341 Nest never observed with full clutch.\n",
              "342 Nest never observed with full clutch.\n",
              "343 NA                                   \n",
              "344 NA                                   "
            ],
            "text/latex": "A tibble: 344 × 16\n\\begin{tabular}{llllllllllllllll}\n study\\_name & sample\\_number & species & latin\\_name & island & individual\\_id & clutch\\_completion & date\\_egg & culmen\\_length\\_mm & culmen\\_depth\\_mm & flipper\\_length\\_mm & body\\_mass\\_g & sex & delta\\_15\\_n\\_o\\_oo & delta\\_13\\_c\\_o\\_oo & comments\\\\\n <chr> & <dbl> & <chr> & <chr> & <chr> & <chr> & <chr> & <date> & <dbl> & <dbl> & <dbl> & <dbl> & <chr> & <dbl> & <dbl> & <chr>\\\\\n\\hline\n\t PAL0708 &  1 & Adelie Penguin & Pygoscelis adeliae) & Torgersen & N1A1  & Yes & 2007-11-11 & 39.1 & 18.7 & 181 & 3750 & MALE   &      NA &        NA & Not enough blood for isotopes.       \\\\\n\t PAL0708 &  2 & Adelie Penguin & Pygoscelis adeliae) & Torgersen & N1A2  & Yes & 2007-11-11 & 39.5 & 17.4 & 186 & 3800 & FEMALE & 8.94956 & -24.69454 & NA                                   \\\\\n\t PAL0708 &  3 & Adelie Penguin & Pygoscelis adeliae) & Torgersen & N2A1  & Yes & 2007-11-16 & 40.3 & 18.0 & 195 & 3250 & FEMALE & 8.36821 & -25.33302 & NA                                   \\\\\n\t PAL0708 &  4 & Adelie Penguin & Pygoscelis adeliae) & Torgersen & N2A2  & Yes & 2007-11-16 &   NA &   NA &  NA &   NA & NA     &      NA &        NA & Adult not sampled.                   \\\\\n\t PAL0708 &  5 & Adelie Penguin & Pygoscelis adeliae) & Torgersen & N3A1  & Yes & 2007-11-16 & 36.7 & 19.3 & 193 & 3450 & FEMALE & 8.76651 & -25.32426 & NA                                   \\\\\n\t PAL0708 &  6 & Adelie Penguin & Pygoscelis adeliae) & Torgersen & N3A2  & Yes & 2007-11-16 & 39.3 & 20.6 & 190 & 3650 & MALE   & 8.66496 & -25.29805 & NA                                   \\\\\n\t PAL0708 &  7 & Adelie Penguin & Pygoscelis adeliae) & Torgersen & N4A1  & No  & 2007-11-15 & 38.9 & 17.8 & 181 & 3625 & FEMALE & 9.18718 & -25.21799 & Nest never observed with full clutch.\\\\\n\t PAL0708 &  8 & Adelie Penguin & Pygoscelis adeliae) & Torgersen & N4A2  & No  & 2007-11-15 & 39.2 & 19.6 & 195 & 4675 & MALE   & 9.46060 & -24.89958 & Nest never observed with full clutch.\\\\\n\t PAL0708 &  9 & Adelie Penguin & Pygoscelis adeliae) & Torgersen & N5A1  & Yes & 2007-11-09 & 34.1 & 18.1 & 193 & 3475 & NA     &      NA &        NA & No blood sample obtained.            \\\\\n\t PAL0708 & 10 & Adelie Penguin & Pygoscelis adeliae) & Torgersen & N5A2  & Yes & 2007-11-09 & 42.0 & 20.2 & 190 & 4250 & NA     & 9.13362 & -25.09368 & No blood sample obtained for sexing. \\\\\n\t PAL0708 & 11 & Adelie Penguin & Pygoscelis adeliae) & Torgersen & N6A1  & Yes & 2007-11-09 & 37.8 & 17.1 & 186 & 3300 & NA     & 8.63243 & -25.21315 & No blood sample obtained for sexing. \\\\\n\t PAL0708 & 12 & Adelie Penguin & Pygoscelis adeliae) & Torgersen & N6A2  & Yes & 2007-11-09 & 37.8 & 17.3 & 180 & 3700 & NA     &      NA &        NA & No blood sample obtained.            \\\\\n\t PAL0708 & 13 & Adelie Penguin & Pygoscelis adeliae) & Torgersen & N7A1  & Yes & 2007-11-15 & 41.1 & 17.6 & 182 & 3200 & FEMALE &      NA &        NA & Not enough blood for isotopes.       \\\\\n\t PAL0708 & 14 & Adelie Penguin & Pygoscelis adeliae) & Torgersen & N7A2  & Yes & 2007-11-15 & 38.6 & 21.2 & 191 & 3800 & MALE   &      NA &        NA & Not enough blood for isotopes.       \\\\\n\t PAL0708 & 15 & Adelie Penguin & Pygoscelis adeliae) & Torgersen & N8A1  & Yes & 2007-11-16 & 34.6 & 21.1 & 198 & 4400 & MALE   & 8.55583 & -25.22588 & NA                                   \\\\\n\t PAL0708 & 16 & Adelie Penguin & Pygoscelis adeliae) & Torgersen & N8A2  & Yes & 2007-11-16 & 36.6 & 17.8 & 185 & 3700 & FEMALE &      NA &        NA & Not enough blood for isotopes.       \\\\\n\t PAL0708 & 17 & Adelie Penguin & Pygoscelis adeliae) & Torgersen & N9A1  & Yes & 2007-11-12 & 38.7 & 19.0 & 195 & 3450 & FEMALE & 9.18528 & -25.06691 & NA                                   \\\\\n\t PAL0708 & 18 & Adelie Penguin & Pygoscelis adeliae) & Torgersen & N9A2  & Yes & 2007-11-12 & 42.5 & 20.7 & 197 & 4500 & MALE   & 8.67538 & -25.13993 & NA                                   \\\\\n\t PAL0708 & 19 & Adelie Penguin & Pygoscelis adeliae) & Torgersen & N10A1 & Yes & 2007-11-16 & 34.4 & 18.4 & 184 & 3325 & FEMALE & 8.47827 & -25.23319 & NA                                   \\\\\n\t PAL0708 & 20 & Adelie Penguin & Pygoscelis adeliae) & Torgersen & N10A2 & Yes & 2007-11-16 & 46.0 & 21.5 & 194 & 4200 & MALE   & 9.11616 & -24.77227 & NA                                   \\\\\n\t PAL0708 & 21 & Adelie Penguin & Pygoscelis adeliae) & Biscoe    & N11A1 & Yes & 2007-11-12 & 37.8 & 18.3 & 174 & 3400 & FEMALE & 8.73762 & -25.09383 & NA                                   \\\\\n\t PAL0708 & 22 & Adelie Penguin & Pygoscelis adeliae) & Biscoe    & N11A2 & Yes & 2007-11-12 & 37.7 & 18.7 & 180 & 3600 & MALE   & 8.66271 & -25.06390 & NA                                   \\\\\n\t PAL0708 & 23 & Adelie Penguin & Pygoscelis adeliae) & Biscoe    & N12A1 & Yes & 2007-11-12 & 35.9 & 19.2 & 189 & 3800 & FEMALE & 9.22286 & -25.03474 & NA                                   \\\\\n\t PAL0708 & 24 & Adelie Penguin & Pygoscelis adeliae) & Biscoe    & N12A2 & Yes & 2007-11-12 & 38.2 & 18.1 & 185 & 3950 & MALE   & 8.43423 & -25.22664 & NA                                   \\\\\n\t PAL0708 & 25 & Adelie Penguin & Pygoscelis adeliae) & Biscoe    & N13A1 & Yes & 2007-11-10 & 38.8 & 17.2 & 180 & 3800 & MALE   & 9.63954 & -25.29856 & NA                                   \\\\\n\t PAL0708 & 26 & Adelie Penguin & Pygoscelis adeliae) & Biscoe    & N13A2 & Yes & 2007-11-10 & 35.3 & 18.9 & 187 & 3800 & FEMALE & 9.21292 & -24.36130 & NA                                   \\\\\n\t PAL0708 & 27 & Adelie Penguin & Pygoscelis adeliae) & Biscoe    & N17A1 & Yes & 2007-11-12 & 40.6 & 18.6 & 183 & 3550 & MALE   & 8.93997 & -25.36288 & NA                                   \\\\\n\t PAL0708 & 28 & Adelie Penguin & Pygoscelis adeliae) & Biscoe    & N17A2 & Yes & 2007-11-12 & 40.5 & 17.9 & 187 & 3200 & FEMALE & 8.08138 & -25.49448 & NA                                   \\\\\n\t PAL0708 & 29 & Adelie Penguin & Pygoscelis adeliae) & Biscoe    & N18A1 & No  & 2007-11-10 & 37.9 & 18.6 & 172 & 3150 & FEMALE & 8.38404 & -25.19837 & Nest never observed with full clutch.\\\\\n\t PAL0708 & 30 & Adelie Penguin & Pygoscelis adeliae) & Biscoe    & N18A2 & No  & 2007-11-10 & 40.5 & 18.9 & 180 & 3950 & MALE   & 8.90027 & -25.11609 & Nest never observed with full clutch.\\\\\n\t ⋮ & ⋮ & ⋮ & ⋮ & ⋮ & ⋮ & ⋮ & ⋮ & ⋮ & ⋮ & ⋮ & ⋮ & ⋮ & ⋮ & ⋮ & ⋮\\\\\n\t PAL0809 & 39 & Chinstrap penguin & Pygoscelis antarctica) & Dream & N72A1  & No  & 2008-11-24 & 46.9 & 16.6 & 192 & 2700 & FEMALE &  9.80589 & -24.73735 & Nest never observed with full clutch.\\\\\n\t PAL0809 & 40 & Chinstrap penguin & Pygoscelis antarctica) & Dream & N72A2  & No  & 2008-11-24 & 53.5 & 19.9 & 205 & 4500 & MALE   & 10.02544 & -24.90816 & Nest never observed with full clutch.\\\\\n\t PAL0809 & 41 & Chinstrap penguin & Pygoscelis antarctica) & Dream & N74A1  & Yes & 2008-11-24 & 49.0 & 19.5 & 210 & 3950 & MALE   &  9.53262 & -24.66867 & NA                                   \\\\\n\t PAL0809 & 42 & Chinstrap penguin & Pygoscelis antarctica) & Dream & N74A2  & Yes & 2008-11-24 & 46.2 & 17.5 & 187 & 3650 & FEMALE &  9.61734 & -24.66188 & NA                                   \\\\\n\t PAL0809 & 43 & Chinstrap penguin & Pygoscelis antarctica) & Dream & N75A1  & Yes & 2008-11-14 & 50.9 & 19.1 & 196 & 3550 & MALE   & 10.02372 & -24.86594 & NA                                   \\\\\n\t PAL0809 & 44 & Chinstrap penguin & Pygoscelis antarctica) & Dream & N75A2  & Yes & 2008-11-14 & 45.5 & 17.0 & 196 & 3500 & FEMALE &  9.36493 & -24.66259 & NA                                   \\\\\n\t PAL0910 & 45 & Chinstrap penguin & Pygoscelis antarctica) & Dream & N86A1  & Yes & 2009-11-17 & 50.9 & 17.9 & 196 & 3675 & FEMALE &  9.43684 & -24.16566 & NA                                   \\\\\n\t PAL0910 & 46 & Chinstrap penguin & Pygoscelis antarctica) & Dream & N86A2  & Yes & 2009-11-17 & 50.8 & 18.5 & 201 & 4450 & MALE   &  9.45827 & -24.35575 & NA                                   \\\\\n\t PAL0910 & 47 & Chinstrap penguin & Pygoscelis antarctica) & Dream & N87A1  & Yes & 2009-11-27 & 50.1 & 17.9 & 190 & 3400 & FEMALE &  9.46819 & -24.45721 & NA                                   \\\\\n\t PAL0910 & 48 & Chinstrap penguin & Pygoscelis antarctica) & Dream & N87A2  & Yes & 2009-11-27 & 49.0 & 19.6 & 212 & 4300 & MALE   &  9.34089 & -24.45189 & NA                                   \\\\\n\t PAL0910 & 49 & Chinstrap penguin & Pygoscelis antarctica) & Dream & N88A1  & Yes & 2009-11-23 & 51.5 & 18.7 & 187 & 3250 & MALE   &  9.68950 & -24.43062 & NA                                   \\\\\n\t PAL0910 & 50 & Chinstrap penguin & Pygoscelis antarctica) & Dream & N88A2  & Yes & 2009-11-23 & 49.8 & 17.3 & 198 & 3675 & FEMALE &  9.32169 & -24.41562 & NA                                   \\\\\n\t PAL0910 & 51 & Chinstrap penguin & Pygoscelis antarctica) & Dream & N90A1  & Yes & 2009-11-21 & 48.1 & 16.4 & 199 & 3325 & FEMALE &  9.46929 & -24.48403 & NA                                   \\\\\n\t PAL0910 & 52 & Chinstrap penguin & Pygoscelis antarctica) & Dream & N90A2  & Yes & 2009-11-21 & 51.4 & 19.0 & 201 & 3950 & MALE   &  9.43782 & -24.36202 & NA                                   \\\\\n\t PAL0910 & 53 & Chinstrap penguin & Pygoscelis antarctica) & Dream & N92A1  & Yes & 2009-11-23 & 45.7 & 17.3 & 193 & 3600 & FEMALE &  9.41500 & -24.80500 & NA                                   \\\\\n\t PAL0910 & 54 & Chinstrap penguin & Pygoscelis antarctica) & Dream & N92A2  & Yes & 2009-11-23 & 50.7 & 19.7 & 203 & 4050 & MALE   &  9.93727 & -24.59066 & NA                                   \\\\\n\t PAL0910 & 55 & Chinstrap penguin & Pygoscelis antarctica) & Dream & N93A1  & Yes & 2009-11-27 & 42.5 & 17.3 & 187 & 3350 & FEMALE &  9.56534 & -24.60882 & NA                                   \\\\\n\t PAL0910 & 56 & Chinstrap penguin & Pygoscelis antarctica) & Dream & N93A2  & Yes & 2009-11-27 & 52.2 & 18.8 & 197 & 3450 & MALE   &  9.77528 & -24.56481 & NA                                   \\\\\n\t PAL0910 & 57 & Chinstrap penguin & Pygoscelis antarctica) & Dream & N94A1  & Yes & 2009-11-21 & 45.2 & 16.6 & 191 & 3250 & FEMALE &  9.62357 & -24.78984 & NA                                   \\\\\n\t PAL0910 & 58 & Chinstrap penguin & Pygoscelis antarctica) & Dream & N94A2  & Yes & 2009-11-21 & 49.3 & 19.9 & 203 & 4050 & MALE   &  9.88809 & -24.59513 & NA                                   \\\\\n\t PAL0910 & 59 & Chinstrap penguin & Pygoscelis antarctica) & Dream & N95A1  & Yes & 2009-11-21 & 50.2 & 18.8 & 202 & 3800 & MALE   &  9.74492 & -24.40400 & NA                                   \\\\\n\t PAL0910 & 60 & Chinstrap penguin & Pygoscelis antarctica) & Dream & N95A2  & Yes & 2009-11-21 & 45.6 & 19.4 & 194 & 3525 & FEMALE &  9.46985 & -24.65786 & NA                                   \\\\\n\t PAL0910 & 61 & Chinstrap penguin & Pygoscelis antarctica) & Dream & N96A1  & Yes & 2009-11-27 & 51.9 & 19.5 & 206 & 3950 & MALE   &       NA & -23.78767 & No delta15N data received from lab.  \\\\\n\t PAL0910 & 62 & Chinstrap penguin & Pygoscelis antarctica) & Dream & N96A2  & Yes & 2009-11-27 & 46.8 & 16.5 & 189 & 3650 & FEMALE &  9.65061 & -24.48153 & NA                                   \\\\\n\t PAL0910 & 63 & Chinstrap penguin & Pygoscelis antarctica) & Dream & N98A1  & Yes & 2009-11-19 & 45.7 & 17.0 & 195 & 3650 & FEMALE &  9.26715 & -24.31912 & NA                                   \\\\\n\t PAL0910 & 64 & Chinstrap penguin & Pygoscelis antarctica) & Dream & N98A2  & Yes & 2009-11-19 & 55.8 & 19.8 & 207 & 4000 & MALE   &  9.70465 & -24.53494 & NA                                   \\\\\n\t PAL0910 & 65 & Chinstrap penguin & Pygoscelis antarctica) & Dream & N99A1  & No  & 2009-11-21 & 43.5 & 18.1 & 202 & 3400 & FEMALE &  9.37608 & -24.40753 & Nest never observed with full clutch.\\\\\n\t PAL0910 & 66 & Chinstrap penguin & Pygoscelis antarctica) & Dream & N99A2  & No  & 2009-11-21 & 49.6 & 18.2 & 193 & 3775 & MALE   &  9.46180 & -24.70615 & Nest never observed with full clutch.\\\\\n\t PAL0910 & 67 & Chinstrap penguin & Pygoscelis antarctica) & Dream & N100A1 & Yes & 2009-11-21 & 50.8 & 19.0 & 210 & 4100 & MALE   &  9.98044 & -24.68741 & NA                                   \\\\\n\t PAL0910 & 68 & Chinstrap penguin & Pygoscelis antarctica) & Dream & N100A2 & Yes & 2009-11-21 & 50.2 & 18.7 & 198 & 3775 & FEMALE &  9.39305 & -24.25255 & NA                                   \\\\\n\\end{tabular}\n",
            "text/markdown": "\nA tibble: 344 × 16\n\n| study_name &lt;chr&gt; | sample_number &lt;dbl&gt; | species &lt;chr&gt; | latin_name &lt;chr&gt; | island &lt;chr&gt; | individual_id &lt;chr&gt; | clutch_completion &lt;chr&gt; | date_egg &lt;date&gt; | culmen_length_mm &lt;dbl&gt; | culmen_depth_mm &lt;dbl&gt; | flipper_length_mm &lt;dbl&gt; | body_mass_g &lt;dbl&gt; | sex &lt;chr&gt; | delta_15_n_o_oo &lt;dbl&gt; | delta_13_c_o_oo &lt;dbl&gt; | comments &lt;chr&gt; |\n|---|---|---|---|---|---|---|---|---|---|---|---|---|---|---|---|\n| PAL0708 |  1 | Adelie Penguin | Pygoscelis adeliae) | Torgersen | N1A1  | Yes | 2007-11-11 | 39.1 | 18.7 | 181 | 3750 | MALE   |      NA |        NA | Not enough blood for isotopes.        |\n| PAL0708 |  2 | Adelie Penguin | Pygoscelis adeliae) | Torgersen | N1A2  | Yes | 2007-11-11 | 39.5 | 17.4 | 186 | 3800 | FEMALE | 8.94956 | -24.69454 | NA                                    |\n| PAL0708 |  3 | Adelie Penguin | Pygoscelis adeliae) | Torgersen | N2A1  | Yes | 2007-11-16 | 40.3 | 18.0 | 195 | 3250 | FEMALE | 8.36821 | -25.33302 | NA                                    |\n| PAL0708 |  4 | Adelie Penguin | Pygoscelis adeliae) | Torgersen | N2A2  | Yes | 2007-11-16 |   NA |   NA |  NA |   NA | NA     |      NA |        NA | Adult not sampled.                    |\n| PAL0708 |  5 | Adelie Penguin | Pygoscelis adeliae) | Torgersen | N3A1  | Yes | 2007-11-16 | 36.7 | 19.3 | 193 | 3450 | FEMALE | 8.76651 | -25.32426 | NA                                    |\n| PAL0708 |  6 | Adelie Penguin | Pygoscelis adeliae) | Torgersen | N3A2  | Yes | 2007-11-16 | 39.3 | 20.6 | 190 | 3650 | MALE   | 8.66496 | -25.29805 | NA                                    |\n| PAL0708 |  7 | Adelie Penguin | Pygoscelis adeliae) | Torgersen | N4A1  | No  | 2007-11-15 | 38.9 | 17.8 | 181 | 3625 | FEMALE | 9.18718 | -25.21799 | Nest never observed with full clutch. |\n| PAL0708 |  8 | Adelie Penguin | Pygoscelis adeliae) | Torgersen | N4A2  | No  | 2007-11-15 | 39.2 | 19.6 | 195 | 4675 | MALE   | 9.46060 | -24.89958 | Nest never observed with full clutch. |\n| PAL0708 |  9 | Adelie Penguin | Pygoscelis adeliae) | Torgersen | N5A1  | Yes | 2007-11-09 | 34.1 | 18.1 | 193 | 3475 | NA     |      NA |        NA | No blood sample obtained.             |\n| PAL0708 | 10 | Adelie Penguin | Pygoscelis adeliae) | Torgersen | N5A2  | Yes | 2007-11-09 | 42.0 | 20.2 | 190 | 4250 | NA     | 9.13362 | -25.09368 | No blood sample obtained for sexing.  |\n| PAL0708 | 11 | Adelie Penguin | Pygoscelis adeliae) | Torgersen | N6A1  | Yes | 2007-11-09 | 37.8 | 17.1 | 186 | 3300 | NA     | 8.63243 | -25.21315 | No blood sample obtained for sexing.  |\n| PAL0708 | 12 | Adelie Penguin | Pygoscelis adeliae) | Torgersen | N6A2  | Yes | 2007-11-09 | 37.8 | 17.3 | 180 | 3700 | NA     |      NA |        NA | No blood sample obtained.             |\n| PAL0708 | 13 | Adelie Penguin | Pygoscelis adeliae) | Torgersen | N7A1  | Yes | 2007-11-15 | 41.1 | 17.6 | 182 | 3200 | FEMALE |      NA |        NA | Not enough blood for isotopes.        |\n| PAL0708 | 14 | Adelie Penguin | Pygoscelis adeliae) | Torgersen | N7A2  | Yes | 2007-11-15 | 38.6 | 21.2 | 191 | 3800 | MALE   |      NA |        NA | Not enough blood for isotopes.        |\n| PAL0708 | 15 | Adelie Penguin | Pygoscelis adeliae) | Torgersen | N8A1  | Yes | 2007-11-16 | 34.6 | 21.1 | 198 | 4400 | MALE   | 8.55583 | -25.22588 | NA                                    |\n| PAL0708 | 16 | Adelie Penguin | Pygoscelis adeliae) | Torgersen | N8A2  | Yes | 2007-11-16 | 36.6 | 17.8 | 185 | 3700 | FEMALE |      NA |        NA | Not enough blood for isotopes.        |\n| PAL0708 | 17 | Adelie Penguin | Pygoscelis adeliae) | Torgersen | N9A1  | Yes | 2007-11-12 | 38.7 | 19.0 | 195 | 3450 | FEMALE | 9.18528 | -25.06691 | NA                                    |\n| PAL0708 | 18 | Adelie Penguin | Pygoscelis adeliae) | Torgersen | N9A2  | Yes | 2007-11-12 | 42.5 | 20.7 | 197 | 4500 | MALE   | 8.67538 | -25.13993 | NA                                    |\n| PAL0708 | 19 | Adelie Penguin | Pygoscelis adeliae) | Torgersen | N10A1 | Yes | 2007-11-16 | 34.4 | 18.4 | 184 | 3325 | FEMALE | 8.47827 | -25.23319 | NA                                    |\n| PAL0708 | 20 | Adelie Penguin | Pygoscelis adeliae) | Torgersen | N10A2 | Yes | 2007-11-16 | 46.0 | 21.5 | 194 | 4200 | MALE   | 9.11616 | -24.77227 | NA                                    |\n| PAL0708 | 21 | Adelie Penguin | Pygoscelis adeliae) | Biscoe    | N11A1 | Yes | 2007-11-12 | 37.8 | 18.3 | 174 | 3400 | FEMALE | 8.73762 | -25.09383 | NA                                    |\n| PAL0708 | 22 | Adelie Penguin | Pygoscelis adeliae) | Biscoe    | N11A2 | Yes | 2007-11-12 | 37.7 | 18.7 | 180 | 3600 | MALE   | 8.66271 | -25.06390 | NA                                    |\n| PAL0708 | 23 | Adelie Penguin | Pygoscelis adeliae) | Biscoe    | N12A1 | Yes | 2007-11-12 | 35.9 | 19.2 | 189 | 3800 | FEMALE | 9.22286 | -25.03474 | NA                                    |\n| PAL0708 | 24 | Adelie Penguin | Pygoscelis adeliae) | Biscoe    | N12A2 | Yes | 2007-11-12 | 38.2 | 18.1 | 185 | 3950 | MALE   | 8.43423 | -25.22664 | NA                                    |\n| PAL0708 | 25 | Adelie Penguin | Pygoscelis adeliae) | Biscoe    | N13A1 | Yes | 2007-11-10 | 38.8 | 17.2 | 180 | 3800 | MALE   | 9.63954 | -25.29856 | NA                                    |\n| PAL0708 | 26 | Adelie Penguin | Pygoscelis adeliae) | Biscoe    | N13A2 | Yes | 2007-11-10 | 35.3 | 18.9 | 187 | 3800 | FEMALE | 9.21292 | -24.36130 | NA                                    |\n| PAL0708 | 27 | Adelie Penguin | Pygoscelis adeliae) | Biscoe    | N17A1 | Yes | 2007-11-12 | 40.6 | 18.6 | 183 | 3550 | MALE   | 8.93997 | -25.36288 | NA                                    |\n| PAL0708 | 28 | Adelie Penguin | Pygoscelis adeliae) | Biscoe    | N17A2 | Yes | 2007-11-12 | 40.5 | 17.9 | 187 | 3200 | FEMALE | 8.08138 | -25.49448 | NA                                    |\n| PAL0708 | 29 | Adelie Penguin | Pygoscelis adeliae) | Biscoe    | N18A1 | No  | 2007-11-10 | 37.9 | 18.6 | 172 | 3150 | FEMALE | 8.38404 | -25.19837 | Nest never observed with full clutch. |\n| PAL0708 | 30 | Adelie Penguin | Pygoscelis adeliae) | Biscoe    | N18A2 | No  | 2007-11-10 | 40.5 | 18.9 | 180 | 3950 | MALE   | 8.90027 | -25.11609 | Nest never observed with full clutch. |\n| ⋮ | ⋮ | ⋮ | ⋮ | ⋮ | ⋮ | ⋮ | ⋮ | ⋮ | ⋮ | ⋮ | ⋮ | ⋮ | ⋮ | ⋮ | ⋮ |\n| PAL0809 | 39 | Chinstrap penguin | Pygoscelis antarctica) | Dream | N72A1  | No  | 2008-11-24 | 46.9 | 16.6 | 192 | 2700 | FEMALE |  9.80589 | -24.73735 | Nest never observed with full clutch. |\n| PAL0809 | 40 | Chinstrap penguin | Pygoscelis antarctica) | Dream | N72A2  | No  | 2008-11-24 | 53.5 | 19.9 | 205 | 4500 | MALE   | 10.02544 | -24.90816 | Nest never observed with full clutch. |\n| PAL0809 | 41 | Chinstrap penguin | Pygoscelis antarctica) | Dream | N74A1  | Yes | 2008-11-24 | 49.0 | 19.5 | 210 | 3950 | MALE   |  9.53262 | -24.66867 | NA                                    |\n| PAL0809 | 42 | Chinstrap penguin | Pygoscelis antarctica) | Dream | N74A2  | Yes | 2008-11-24 | 46.2 | 17.5 | 187 | 3650 | FEMALE |  9.61734 | -24.66188 | NA                                    |\n| PAL0809 | 43 | Chinstrap penguin | Pygoscelis antarctica) | Dream | N75A1  | Yes | 2008-11-14 | 50.9 | 19.1 | 196 | 3550 | MALE   | 10.02372 | -24.86594 | NA                                    |\n| PAL0809 | 44 | Chinstrap penguin | Pygoscelis antarctica) | Dream | N75A2  | Yes | 2008-11-14 | 45.5 | 17.0 | 196 | 3500 | FEMALE |  9.36493 | -24.66259 | NA                                    |\n| PAL0910 | 45 | Chinstrap penguin | Pygoscelis antarctica) | Dream | N86A1  | Yes | 2009-11-17 | 50.9 | 17.9 | 196 | 3675 | FEMALE |  9.43684 | -24.16566 | NA                                    |\n| PAL0910 | 46 | Chinstrap penguin | Pygoscelis antarctica) | Dream | N86A2  | Yes | 2009-11-17 | 50.8 | 18.5 | 201 | 4450 | MALE   |  9.45827 | -24.35575 | NA                                    |\n| PAL0910 | 47 | Chinstrap penguin | Pygoscelis antarctica) | Dream | N87A1  | Yes | 2009-11-27 | 50.1 | 17.9 | 190 | 3400 | FEMALE |  9.46819 | -24.45721 | NA                                    |\n| PAL0910 | 48 | Chinstrap penguin | Pygoscelis antarctica) | Dream | N87A2  | Yes | 2009-11-27 | 49.0 | 19.6 | 212 | 4300 | MALE   |  9.34089 | -24.45189 | NA                                    |\n| PAL0910 | 49 | Chinstrap penguin | Pygoscelis antarctica) | Dream | N88A1  | Yes | 2009-11-23 | 51.5 | 18.7 | 187 | 3250 | MALE   |  9.68950 | -24.43062 | NA                                    |\n| PAL0910 | 50 | Chinstrap penguin | Pygoscelis antarctica) | Dream | N88A2  | Yes | 2009-11-23 | 49.8 | 17.3 | 198 | 3675 | FEMALE |  9.32169 | -24.41562 | NA                                    |\n| PAL0910 | 51 | Chinstrap penguin | Pygoscelis antarctica) | Dream | N90A1  | Yes | 2009-11-21 | 48.1 | 16.4 | 199 | 3325 | FEMALE |  9.46929 | -24.48403 | NA                                    |\n| PAL0910 | 52 | Chinstrap penguin | Pygoscelis antarctica) | Dream | N90A2  | Yes | 2009-11-21 | 51.4 | 19.0 | 201 | 3950 | MALE   |  9.43782 | -24.36202 | NA                                    |\n| PAL0910 | 53 | Chinstrap penguin | Pygoscelis antarctica) | Dream | N92A1  | Yes | 2009-11-23 | 45.7 | 17.3 | 193 | 3600 | FEMALE |  9.41500 | -24.80500 | NA                                    |\n| PAL0910 | 54 | Chinstrap penguin | Pygoscelis antarctica) | Dream | N92A2  | Yes | 2009-11-23 | 50.7 | 19.7 | 203 | 4050 | MALE   |  9.93727 | -24.59066 | NA                                    |\n| PAL0910 | 55 | Chinstrap penguin | Pygoscelis antarctica) | Dream | N93A1  | Yes | 2009-11-27 | 42.5 | 17.3 | 187 | 3350 | FEMALE |  9.56534 | -24.60882 | NA                                    |\n| PAL0910 | 56 | Chinstrap penguin | Pygoscelis antarctica) | Dream | N93A2  | Yes | 2009-11-27 | 52.2 | 18.8 | 197 | 3450 | MALE   |  9.77528 | -24.56481 | NA                                    |\n| PAL0910 | 57 | Chinstrap penguin | Pygoscelis antarctica) | Dream | N94A1  | Yes | 2009-11-21 | 45.2 | 16.6 | 191 | 3250 | FEMALE |  9.62357 | -24.78984 | NA                                    |\n| PAL0910 | 58 | Chinstrap penguin | Pygoscelis antarctica) | Dream | N94A2  | Yes | 2009-11-21 | 49.3 | 19.9 | 203 | 4050 | MALE   |  9.88809 | -24.59513 | NA                                    |\n| PAL0910 | 59 | Chinstrap penguin | Pygoscelis antarctica) | Dream | N95A1  | Yes | 2009-11-21 | 50.2 | 18.8 | 202 | 3800 | MALE   |  9.74492 | -24.40400 | NA                                    |\n| PAL0910 | 60 | Chinstrap penguin | Pygoscelis antarctica) | Dream | N95A2  | Yes | 2009-11-21 | 45.6 | 19.4 | 194 | 3525 | FEMALE |  9.46985 | -24.65786 | NA                                    |\n| PAL0910 | 61 | Chinstrap penguin | Pygoscelis antarctica) | Dream | N96A1  | Yes | 2009-11-27 | 51.9 | 19.5 | 206 | 3950 | MALE   |       NA | -23.78767 | No delta15N data received from lab.   |\n| PAL0910 | 62 | Chinstrap penguin | Pygoscelis antarctica) | Dream | N96A2  | Yes | 2009-11-27 | 46.8 | 16.5 | 189 | 3650 | FEMALE |  9.65061 | -24.48153 | NA                                    |\n| PAL0910 | 63 | Chinstrap penguin | Pygoscelis antarctica) | Dream | N98A1  | Yes | 2009-11-19 | 45.7 | 17.0 | 195 | 3650 | FEMALE |  9.26715 | -24.31912 | NA                                    |\n| PAL0910 | 64 | Chinstrap penguin | Pygoscelis antarctica) | Dream | N98A2  | Yes | 2009-11-19 | 55.8 | 19.8 | 207 | 4000 | MALE   |  9.70465 | -24.53494 | NA                                    |\n| PAL0910 | 65 | Chinstrap penguin | Pygoscelis antarctica) | Dream | N99A1  | No  | 2009-11-21 | 43.5 | 18.1 | 202 | 3400 | FEMALE |  9.37608 | -24.40753 | Nest never observed with full clutch. |\n| PAL0910 | 66 | Chinstrap penguin | Pygoscelis antarctica) | Dream | N99A2  | No  | 2009-11-21 | 49.6 | 18.2 | 193 | 3775 | MALE   |  9.46180 | -24.70615 | Nest never observed with full clutch. |\n| PAL0910 | 67 | Chinstrap penguin | Pygoscelis antarctica) | Dream | N100A1 | Yes | 2009-11-21 | 50.8 | 19.0 | 210 | 4100 | MALE   |  9.98044 | -24.68741 | NA                                    |\n| PAL0910 | 68 | Chinstrap penguin | Pygoscelis antarctica) | Dream | N100A2 | Yes | 2009-11-21 | 50.2 | 18.7 | 198 | 3775 | FEMALE |  9.39305 | -24.25255 | NA                                    |\n\n",
            "text/html": [
              "<table class=\"dataframe\">\n",
              "<caption>A tibble: 344 × 16</caption>\n",
              "<thead>\n",
              "\t<tr><th scope=col>study_name</th><th scope=col>sample_number</th><th scope=col>species</th><th scope=col>latin_name</th><th scope=col>island</th><th scope=col>individual_id</th><th scope=col>clutch_completion</th><th scope=col>date_egg</th><th scope=col>culmen_length_mm</th><th scope=col>culmen_depth_mm</th><th scope=col>flipper_length_mm</th><th scope=col>body_mass_g</th><th scope=col>sex</th><th scope=col>delta_15_n_o_oo</th><th scope=col>delta_13_c_o_oo</th><th scope=col>comments</th></tr>\n",
              "\t<tr><th scope=col>&lt;chr&gt;</th><th scope=col>&lt;dbl&gt;</th><th scope=col>&lt;chr&gt;</th><th scope=col>&lt;chr&gt;</th><th scope=col>&lt;chr&gt;</th><th scope=col>&lt;chr&gt;</th><th scope=col>&lt;chr&gt;</th><th scope=col>&lt;date&gt;</th><th scope=col>&lt;dbl&gt;</th><th scope=col>&lt;dbl&gt;</th><th scope=col>&lt;dbl&gt;</th><th scope=col>&lt;dbl&gt;</th><th scope=col>&lt;chr&gt;</th><th scope=col>&lt;dbl&gt;</th><th scope=col>&lt;dbl&gt;</th><th scope=col>&lt;chr&gt;</th></tr>\n",
              "</thead>\n",
              "<tbody>\n",
              "\t<tr><td>PAL0708</td><td> 1</td><td>Adelie Penguin</td><td>Pygoscelis adeliae)</td><td>Torgersen</td><td>N1A1 </td><td>Yes</td><td>2007-11-11</td><td>39.1</td><td>18.7</td><td>181</td><td>3750</td><td>MALE  </td><td>     NA</td><td>       NA</td><td>Not enough blood for isotopes.       </td></tr>\n",
              "\t<tr><td>PAL0708</td><td> 2</td><td>Adelie Penguin</td><td>Pygoscelis adeliae)</td><td>Torgersen</td><td>N1A2 </td><td>Yes</td><td>2007-11-11</td><td>39.5</td><td>17.4</td><td>186</td><td>3800</td><td>FEMALE</td><td>8.94956</td><td>-24.69454</td><td>NA                                   </td></tr>\n",
              "\t<tr><td>PAL0708</td><td> 3</td><td>Adelie Penguin</td><td>Pygoscelis adeliae)</td><td>Torgersen</td><td>N2A1 </td><td>Yes</td><td>2007-11-16</td><td>40.3</td><td>18.0</td><td>195</td><td>3250</td><td>FEMALE</td><td>8.36821</td><td>-25.33302</td><td>NA                                   </td></tr>\n",
              "\t<tr><td>PAL0708</td><td> 4</td><td>Adelie Penguin</td><td>Pygoscelis adeliae)</td><td>Torgersen</td><td>N2A2 </td><td>Yes</td><td>2007-11-16</td><td>  NA</td><td>  NA</td><td> NA</td><td>  NA</td><td>NA    </td><td>     NA</td><td>       NA</td><td>Adult not sampled.                   </td></tr>\n",
              "\t<tr><td>PAL0708</td><td> 5</td><td>Adelie Penguin</td><td>Pygoscelis adeliae)</td><td>Torgersen</td><td>N3A1 </td><td>Yes</td><td>2007-11-16</td><td>36.7</td><td>19.3</td><td>193</td><td>3450</td><td>FEMALE</td><td>8.76651</td><td>-25.32426</td><td>NA                                   </td></tr>\n",
              "\t<tr><td>PAL0708</td><td> 6</td><td>Adelie Penguin</td><td>Pygoscelis adeliae)</td><td>Torgersen</td><td>N3A2 </td><td>Yes</td><td>2007-11-16</td><td>39.3</td><td>20.6</td><td>190</td><td>3650</td><td>MALE  </td><td>8.66496</td><td>-25.29805</td><td>NA                                   </td></tr>\n",
              "\t<tr><td>PAL0708</td><td> 7</td><td>Adelie Penguin</td><td>Pygoscelis adeliae)</td><td>Torgersen</td><td>N4A1 </td><td>No </td><td>2007-11-15</td><td>38.9</td><td>17.8</td><td>181</td><td>3625</td><td>FEMALE</td><td>9.18718</td><td>-25.21799</td><td>Nest never observed with full clutch.</td></tr>\n",
              "\t<tr><td>PAL0708</td><td> 8</td><td>Adelie Penguin</td><td>Pygoscelis adeliae)</td><td>Torgersen</td><td>N4A2 </td><td>No </td><td>2007-11-15</td><td>39.2</td><td>19.6</td><td>195</td><td>4675</td><td>MALE  </td><td>9.46060</td><td>-24.89958</td><td>Nest never observed with full clutch.</td></tr>\n",
              "\t<tr><td>PAL0708</td><td> 9</td><td>Adelie Penguin</td><td>Pygoscelis adeliae)</td><td>Torgersen</td><td>N5A1 </td><td>Yes</td><td>2007-11-09</td><td>34.1</td><td>18.1</td><td>193</td><td>3475</td><td>NA    </td><td>     NA</td><td>       NA</td><td>No blood sample obtained.            </td></tr>\n",
              "\t<tr><td>PAL0708</td><td>10</td><td>Adelie Penguin</td><td>Pygoscelis adeliae)</td><td>Torgersen</td><td>N5A2 </td><td>Yes</td><td>2007-11-09</td><td>42.0</td><td>20.2</td><td>190</td><td>4250</td><td>NA    </td><td>9.13362</td><td>-25.09368</td><td>No blood sample obtained for sexing. </td></tr>\n",
              "\t<tr><td>PAL0708</td><td>11</td><td>Adelie Penguin</td><td>Pygoscelis adeliae)</td><td>Torgersen</td><td>N6A1 </td><td>Yes</td><td>2007-11-09</td><td>37.8</td><td>17.1</td><td>186</td><td>3300</td><td>NA    </td><td>8.63243</td><td>-25.21315</td><td>No blood sample obtained for sexing. </td></tr>\n",
              "\t<tr><td>PAL0708</td><td>12</td><td>Adelie Penguin</td><td>Pygoscelis adeliae)</td><td>Torgersen</td><td>N6A2 </td><td>Yes</td><td>2007-11-09</td><td>37.8</td><td>17.3</td><td>180</td><td>3700</td><td>NA    </td><td>     NA</td><td>       NA</td><td>No blood sample obtained.            </td></tr>\n",
              "\t<tr><td>PAL0708</td><td>13</td><td>Adelie Penguin</td><td>Pygoscelis adeliae)</td><td>Torgersen</td><td>N7A1 </td><td>Yes</td><td>2007-11-15</td><td>41.1</td><td>17.6</td><td>182</td><td>3200</td><td>FEMALE</td><td>     NA</td><td>       NA</td><td>Not enough blood for isotopes.       </td></tr>\n",
              "\t<tr><td>PAL0708</td><td>14</td><td>Adelie Penguin</td><td>Pygoscelis adeliae)</td><td>Torgersen</td><td>N7A2 </td><td>Yes</td><td>2007-11-15</td><td>38.6</td><td>21.2</td><td>191</td><td>3800</td><td>MALE  </td><td>     NA</td><td>       NA</td><td>Not enough blood for isotopes.       </td></tr>\n",
              "\t<tr><td>PAL0708</td><td>15</td><td>Adelie Penguin</td><td>Pygoscelis adeliae)</td><td>Torgersen</td><td>N8A1 </td><td>Yes</td><td>2007-11-16</td><td>34.6</td><td>21.1</td><td>198</td><td>4400</td><td>MALE  </td><td>8.55583</td><td>-25.22588</td><td>NA                                   </td></tr>\n",
              "\t<tr><td>PAL0708</td><td>16</td><td>Adelie Penguin</td><td>Pygoscelis adeliae)</td><td>Torgersen</td><td>N8A2 </td><td>Yes</td><td>2007-11-16</td><td>36.6</td><td>17.8</td><td>185</td><td>3700</td><td>FEMALE</td><td>     NA</td><td>       NA</td><td>Not enough blood for isotopes.       </td></tr>\n",
              "\t<tr><td>PAL0708</td><td>17</td><td>Adelie Penguin</td><td>Pygoscelis adeliae)</td><td>Torgersen</td><td>N9A1 </td><td>Yes</td><td>2007-11-12</td><td>38.7</td><td>19.0</td><td>195</td><td>3450</td><td>FEMALE</td><td>9.18528</td><td>-25.06691</td><td>NA                                   </td></tr>\n",
              "\t<tr><td>PAL0708</td><td>18</td><td>Adelie Penguin</td><td>Pygoscelis adeliae)</td><td>Torgersen</td><td>N9A2 </td><td>Yes</td><td>2007-11-12</td><td>42.5</td><td>20.7</td><td>197</td><td>4500</td><td>MALE  </td><td>8.67538</td><td>-25.13993</td><td>NA                                   </td></tr>\n",
              "\t<tr><td>PAL0708</td><td>19</td><td>Adelie Penguin</td><td>Pygoscelis adeliae)</td><td>Torgersen</td><td>N10A1</td><td>Yes</td><td>2007-11-16</td><td>34.4</td><td>18.4</td><td>184</td><td>3325</td><td>FEMALE</td><td>8.47827</td><td>-25.23319</td><td>NA                                   </td></tr>\n",
              "\t<tr><td>PAL0708</td><td>20</td><td>Adelie Penguin</td><td>Pygoscelis adeliae)</td><td>Torgersen</td><td>N10A2</td><td>Yes</td><td>2007-11-16</td><td>46.0</td><td>21.5</td><td>194</td><td>4200</td><td>MALE  </td><td>9.11616</td><td>-24.77227</td><td>NA                                   </td></tr>\n",
              "\t<tr><td>PAL0708</td><td>21</td><td>Adelie Penguin</td><td>Pygoscelis adeliae)</td><td>Biscoe   </td><td>N11A1</td><td>Yes</td><td>2007-11-12</td><td>37.8</td><td>18.3</td><td>174</td><td>3400</td><td>FEMALE</td><td>8.73762</td><td>-25.09383</td><td>NA                                   </td></tr>\n",
              "\t<tr><td>PAL0708</td><td>22</td><td>Adelie Penguin</td><td>Pygoscelis adeliae)</td><td>Biscoe   </td><td>N11A2</td><td>Yes</td><td>2007-11-12</td><td>37.7</td><td>18.7</td><td>180</td><td>3600</td><td>MALE  </td><td>8.66271</td><td>-25.06390</td><td>NA                                   </td></tr>\n",
              "\t<tr><td>PAL0708</td><td>23</td><td>Adelie Penguin</td><td>Pygoscelis adeliae)</td><td>Biscoe   </td><td>N12A1</td><td>Yes</td><td>2007-11-12</td><td>35.9</td><td>19.2</td><td>189</td><td>3800</td><td>FEMALE</td><td>9.22286</td><td>-25.03474</td><td>NA                                   </td></tr>\n",
              "\t<tr><td>PAL0708</td><td>24</td><td>Adelie Penguin</td><td>Pygoscelis adeliae)</td><td>Biscoe   </td><td>N12A2</td><td>Yes</td><td>2007-11-12</td><td>38.2</td><td>18.1</td><td>185</td><td>3950</td><td>MALE  </td><td>8.43423</td><td>-25.22664</td><td>NA                                   </td></tr>\n",
              "\t<tr><td>PAL0708</td><td>25</td><td>Adelie Penguin</td><td>Pygoscelis adeliae)</td><td>Biscoe   </td><td>N13A1</td><td>Yes</td><td>2007-11-10</td><td>38.8</td><td>17.2</td><td>180</td><td>3800</td><td>MALE  </td><td>9.63954</td><td>-25.29856</td><td>NA                                   </td></tr>\n",
              "\t<tr><td>PAL0708</td><td>26</td><td>Adelie Penguin</td><td>Pygoscelis adeliae)</td><td>Biscoe   </td><td>N13A2</td><td>Yes</td><td>2007-11-10</td><td>35.3</td><td>18.9</td><td>187</td><td>3800</td><td>FEMALE</td><td>9.21292</td><td>-24.36130</td><td>NA                                   </td></tr>\n",
              "\t<tr><td>PAL0708</td><td>27</td><td>Adelie Penguin</td><td>Pygoscelis adeliae)</td><td>Biscoe   </td><td>N17A1</td><td>Yes</td><td>2007-11-12</td><td>40.6</td><td>18.6</td><td>183</td><td>3550</td><td>MALE  </td><td>8.93997</td><td>-25.36288</td><td>NA                                   </td></tr>\n",
              "\t<tr><td>PAL0708</td><td>28</td><td>Adelie Penguin</td><td>Pygoscelis adeliae)</td><td>Biscoe   </td><td>N17A2</td><td>Yes</td><td>2007-11-12</td><td>40.5</td><td>17.9</td><td>187</td><td>3200</td><td>FEMALE</td><td>8.08138</td><td>-25.49448</td><td>NA                                   </td></tr>\n",
              "\t<tr><td>PAL0708</td><td>29</td><td>Adelie Penguin</td><td>Pygoscelis adeliae)</td><td>Biscoe   </td><td>N18A1</td><td>No </td><td>2007-11-10</td><td>37.9</td><td>18.6</td><td>172</td><td>3150</td><td>FEMALE</td><td>8.38404</td><td>-25.19837</td><td>Nest never observed with full clutch.</td></tr>\n",
              "\t<tr><td>PAL0708</td><td>30</td><td>Adelie Penguin</td><td>Pygoscelis adeliae)</td><td>Biscoe   </td><td>N18A2</td><td>No </td><td>2007-11-10</td><td>40.5</td><td>18.9</td><td>180</td><td>3950</td><td>MALE  </td><td>8.90027</td><td>-25.11609</td><td>Nest never observed with full clutch.</td></tr>\n",
              "\t<tr><td>⋮</td><td>⋮</td><td>⋮</td><td>⋮</td><td>⋮</td><td>⋮</td><td>⋮</td><td>⋮</td><td>⋮</td><td>⋮</td><td>⋮</td><td>⋮</td><td>⋮</td><td>⋮</td><td>⋮</td><td>⋮</td></tr>\n",
              "\t<tr><td>PAL0809</td><td>39</td><td>Chinstrap penguin</td><td>Pygoscelis antarctica)</td><td>Dream</td><td>N72A1 </td><td>No </td><td>2008-11-24</td><td>46.9</td><td>16.6</td><td>192</td><td>2700</td><td>FEMALE</td><td> 9.80589</td><td>-24.73735</td><td>Nest never observed with full clutch.</td></tr>\n",
              "\t<tr><td>PAL0809</td><td>40</td><td>Chinstrap penguin</td><td>Pygoscelis antarctica)</td><td>Dream</td><td>N72A2 </td><td>No </td><td>2008-11-24</td><td>53.5</td><td>19.9</td><td>205</td><td>4500</td><td>MALE  </td><td>10.02544</td><td>-24.90816</td><td>Nest never observed with full clutch.</td></tr>\n",
              "\t<tr><td>PAL0809</td><td>41</td><td>Chinstrap penguin</td><td>Pygoscelis antarctica)</td><td>Dream</td><td>N74A1 </td><td>Yes</td><td>2008-11-24</td><td>49.0</td><td>19.5</td><td>210</td><td>3950</td><td>MALE  </td><td> 9.53262</td><td>-24.66867</td><td>NA                                   </td></tr>\n",
              "\t<tr><td>PAL0809</td><td>42</td><td>Chinstrap penguin</td><td>Pygoscelis antarctica)</td><td>Dream</td><td>N74A2 </td><td>Yes</td><td>2008-11-24</td><td>46.2</td><td>17.5</td><td>187</td><td>3650</td><td>FEMALE</td><td> 9.61734</td><td>-24.66188</td><td>NA                                   </td></tr>\n",
              "\t<tr><td>PAL0809</td><td>43</td><td>Chinstrap penguin</td><td>Pygoscelis antarctica)</td><td>Dream</td><td>N75A1 </td><td>Yes</td><td>2008-11-14</td><td>50.9</td><td>19.1</td><td>196</td><td>3550</td><td>MALE  </td><td>10.02372</td><td>-24.86594</td><td>NA                                   </td></tr>\n",
              "\t<tr><td>PAL0809</td><td>44</td><td>Chinstrap penguin</td><td>Pygoscelis antarctica)</td><td>Dream</td><td>N75A2 </td><td>Yes</td><td>2008-11-14</td><td>45.5</td><td>17.0</td><td>196</td><td>3500</td><td>FEMALE</td><td> 9.36493</td><td>-24.66259</td><td>NA                                   </td></tr>\n",
              "\t<tr><td>PAL0910</td><td>45</td><td>Chinstrap penguin</td><td>Pygoscelis antarctica)</td><td>Dream</td><td>N86A1 </td><td>Yes</td><td>2009-11-17</td><td>50.9</td><td>17.9</td><td>196</td><td>3675</td><td>FEMALE</td><td> 9.43684</td><td>-24.16566</td><td>NA                                   </td></tr>\n",
              "\t<tr><td>PAL0910</td><td>46</td><td>Chinstrap penguin</td><td>Pygoscelis antarctica)</td><td>Dream</td><td>N86A2 </td><td>Yes</td><td>2009-11-17</td><td>50.8</td><td>18.5</td><td>201</td><td>4450</td><td>MALE  </td><td> 9.45827</td><td>-24.35575</td><td>NA                                   </td></tr>\n",
              "\t<tr><td>PAL0910</td><td>47</td><td>Chinstrap penguin</td><td>Pygoscelis antarctica)</td><td>Dream</td><td>N87A1 </td><td>Yes</td><td>2009-11-27</td><td>50.1</td><td>17.9</td><td>190</td><td>3400</td><td>FEMALE</td><td> 9.46819</td><td>-24.45721</td><td>NA                                   </td></tr>\n",
              "\t<tr><td>PAL0910</td><td>48</td><td>Chinstrap penguin</td><td>Pygoscelis antarctica)</td><td>Dream</td><td>N87A2 </td><td>Yes</td><td>2009-11-27</td><td>49.0</td><td>19.6</td><td>212</td><td>4300</td><td>MALE  </td><td> 9.34089</td><td>-24.45189</td><td>NA                                   </td></tr>\n",
              "\t<tr><td>PAL0910</td><td>49</td><td>Chinstrap penguin</td><td>Pygoscelis antarctica)</td><td>Dream</td><td>N88A1 </td><td>Yes</td><td>2009-11-23</td><td>51.5</td><td>18.7</td><td>187</td><td>3250</td><td>MALE  </td><td> 9.68950</td><td>-24.43062</td><td>NA                                   </td></tr>\n",
              "\t<tr><td>PAL0910</td><td>50</td><td>Chinstrap penguin</td><td>Pygoscelis antarctica)</td><td>Dream</td><td>N88A2 </td><td>Yes</td><td>2009-11-23</td><td>49.8</td><td>17.3</td><td>198</td><td>3675</td><td>FEMALE</td><td> 9.32169</td><td>-24.41562</td><td>NA                                   </td></tr>\n",
              "\t<tr><td>PAL0910</td><td>51</td><td>Chinstrap penguin</td><td>Pygoscelis antarctica)</td><td>Dream</td><td>N90A1 </td><td>Yes</td><td>2009-11-21</td><td>48.1</td><td>16.4</td><td>199</td><td>3325</td><td>FEMALE</td><td> 9.46929</td><td>-24.48403</td><td>NA                                   </td></tr>\n",
              "\t<tr><td>PAL0910</td><td>52</td><td>Chinstrap penguin</td><td>Pygoscelis antarctica)</td><td>Dream</td><td>N90A2 </td><td>Yes</td><td>2009-11-21</td><td>51.4</td><td>19.0</td><td>201</td><td>3950</td><td>MALE  </td><td> 9.43782</td><td>-24.36202</td><td>NA                                   </td></tr>\n",
              "\t<tr><td>PAL0910</td><td>53</td><td>Chinstrap penguin</td><td>Pygoscelis antarctica)</td><td>Dream</td><td>N92A1 </td><td>Yes</td><td>2009-11-23</td><td>45.7</td><td>17.3</td><td>193</td><td>3600</td><td>FEMALE</td><td> 9.41500</td><td>-24.80500</td><td>NA                                   </td></tr>\n",
              "\t<tr><td>PAL0910</td><td>54</td><td>Chinstrap penguin</td><td>Pygoscelis antarctica)</td><td>Dream</td><td>N92A2 </td><td>Yes</td><td>2009-11-23</td><td>50.7</td><td>19.7</td><td>203</td><td>4050</td><td>MALE  </td><td> 9.93727</td><td>-24.59066</td><td>NA                                   </td></tr>\n",
              "\t<tr><td>PAL0910</td><td>55</td><td>Chinstrap penguin</td><td>Pygoscelis antarctica)</td><td>Dream</td><td>N93A1 </td><td>Yes</td><td>2009-11-27</td><td>42.5</td><td>17.3</td><td>187</td><td>3350</td><td>FEMALE</td><td> 9.56534</td><td>-24.60882</td><td>NA                                   </td></tr>\n",
              "\t<tr><td>PAL0910</td><td>56</td><td>Chinstrap penguin</td><td>Pygoscelis antarctica)</td><td>Dream</td><td>N93A2 </td><td>Yes</td><td>2009-11-27</td><td>52.2</td><td>18.8</td><td>197</td><td>3450</td><td>MALE  </td><td> 9.77528</td><td>-24.56481</td><td>NA                                   </td></tr>\n",
              "\t<tr><td>PAL0910</td><td>57</td><td>Chinstrap penguin</td><td>Pygoscelis antarctica)</td><td>Dream</td><td>N94A1 </td><td>Yes</td><td>2009-11-21</td><td>45.2</td><td>16.6</td><td>191</td><td>3250</td><td>FEMALE</td><td> 9.62357</td><td>-24.78984</td><td>NA                                   </td></tr>\n",
              "\t<tr><td>PAL0910</td><td>58</td><td>Chinstrap penguin</td><td>Pygoscelis antarctica)</td><td>Dream</td><td>N94A2 </td><td>Yes</td><td>2009-11-21</td><td>49.3</td><td>19.9</td><td>203</td><td>4050</td><td>MALE  </td><td> 9.88809</td><td>-24.59513</td><td>NA                                   </td></tr>\n",
              "\t<tr><td>PAL0910</td><td>59</td><td>Chinstrap penguin</td><td>Pygoscelis antarctica)</td><td>Dream</td><td>N95A1 </td><td>Yes</td><td>2009-11-21</td><td>50.2</td><td>18.8</td><td>202</td><td>3800</td><td>MALE  </td><td> 9.74492</td><td>-24.40400</td><td>NA                                   </td></tr>\n",
              "\t<tr><td>PAL0910</td><td>60</td><td>Chinstrap penguin</td><td>Pygoscelis antarctica)</td><td>Dream</td><td>N95A2 </td><td>Yes</td><td>2009-11-21</td><td>45.6</td><td>19.4</td><td>194</td><td>3525</td><td>FEMALE</td><td> 9.46985</td><td>-24.65786</td><td>NA                                   </td></tr>\n",
              "\t<tr><td>PAL0910</td><td>61</td><td>Chinstrap penguin</td><td>Pygoscelis antarctica)</td><td>Dream</td><td>N96A1 </td><td>Yes</td><td>2009-11-27</td><td>51.9</td><td>19.5</td><td>206</td><td>3950</td><td>MALE  </td><td>      NA</td><td>-23.78767</td><td>No delta15N data received from lab.  </td></tr>\n",
              "\t<tr><td>PAL0910</td><td>62</td><td>Chinstrap penguin</td><td>Pygoscelis antarctica)</td><td>Dream</td><td>N96A2 </td><td>Yes</td><td>2009-11-27</td><td>46.8</td><td>16.5</td><td>189</td><td>3650</td><td>FEMALE</td><td> 9.65061</td><td>-24.48153</td><td>NA                                   </td></tr>\n",
              "\t<tr><td>PAL0910</td><td>63</td><td>Chinstrap penguin</td><td>Pygoscelis antarctica)</td><td>Dream</td><td>N98A1 </td><td>Yes</td><td>2009-11-19</td><td>45.7</td><td>17.0</td><td>195</td><td>3650</td><td>FEMALE</td><td> 9.26715</td><td>-24.31912</td><td>NA                                   </td></tr>\n",
              "\t<tr><td>PAL0910</td><td>64</td><td>Chinstrap penguin</td><td>Pygoscelis antarctica)</td><td>Dream</td><td>N98A2 </td><td>Yes</td><td>2009-11-19</td><td>55.8</td><td>19.8</td><td>207</td><td>4000</td><td>MALE  </td><td> 9.70465</td><td>-24.53494</td><td>NA                                   </td></tr>\n",
              "\t<tr><td>PAL0910</td><td>65</td><td>Chinstrap penguin</td><td>Pygoscelis antarctica)</td><td>Dream</td><td>N99A1 </td><td>No </td><td>2009-11-21</td><td>43.5</td><td>18.1</td><td>202</td><td>3400</td><td>FEMALE</td><td> 9.37608</td><td>-24.40753</td><td>Nest never observed with full clutch.</td></tr>\n",
              "\t<tr><td>PAL0910</td><td>66</td><td>Chinstrap penguin</td><td>Pygoscelis antarctica)</td><td>Dream</td><td>N99A2 </td><td>No </td><td>2009-11-21</td><td>49.6</td><td>18.2</td><td>193</td><td>3775</td><td>MALE  </td><td> 9.46180</td><td>-24.70615</td><td>Nest never observed with full clutch.</td></tr>\n",
              "\t<tr><td>PAL0910</td><td>67</td><td>Chinstrap penguin</td><td>Pygoscelis antarctica)</td><td>Dream</td><td>N100A1</td><td>Yes</td><td>2009-11-21</td><td>50.8</td><td>19.0</td><td>210</td><td>4100</td><td>MALE  </td><td> 9.98044</td><td>-24.68741</td><td>NA                                   </td></tr>\n",
              "\t<tr><td>PAL0910</td><td>68</td><td>Chinstrap penguin</td><td>Pygoscelis antarctica)</td><td>Dream</td><td>N100A2</td><td>Yes</td><td>2009-11-21</td><td>50.2</td><td>18.7</td><td>198</td><td>3775</td><td>FEMALE</td><td> 9.39305</td><td>-24.25255</td><td>NA                                   </td></tr>\n",
              "</tbody>\n",
              "</table>\n"
            ]
          },
          "metadata": {
            "tags": []
          }
        }
      ]
    },
    {
      "cell_type": "markdown",
      "metadata": {
        "id": "iKCMqygJjbGn"
      },
      "source": [
        "There is a also a function called `unite()` which works in the opposite direction."
      ]
    },
    {
      "cell_type": "markdown",
      "metadata": {
        "id": "zdTKiwd6gZWO"
      },
      "source": [
        "Now our data is in tidy format!\n",
        "\n",
        "We were in luck because the data pretty much already came in a format that was: 1 observation per row.\n",
        "\n",
        "But what if that is not the case?\n",
        "\n"
      ]
    },
    {
      "cell_type": "markdown",
      "metadata": {
        "id": "TgzScaQvhKwR"
      },
      "source": [
        "### `pivot_wider()` and `pivot_longer()`\n",
        "\n",
        "`tidyr` also comes equipped to deal with data that has more that one observation per row. \n",
        "\n",
        "The function to use here is called `pivot_wider`.\n",
        "\n",
        "Now our `penguin_clean` data is already tidy.\n",
        "\n",
        "But we can just read in a dataset that isn't:\n"
      ]
    },
    {
      "cell_type": "code",
      "metadata": {
        "colab": {
          "base_uri": "https://localhost:8080/",
          "height": 556
        },
        "id": "ym9X1KMblzcz",
        "outputId": "76fabb94-a397-4c76-e142-37b206278ef2"
      },
      "source": [
        "untidy_animals <- read_csv(\"https://github.com/favstats/ds3_r_intro/blob/main/data/untidy_animals.csv?raw=true\")\n",
        "untidy_animals"
      ],
      "execution_count": null,
      "outputs": [
        {
          "output_type": "stream",
          "text": [
            "\n",
            "\u001b[36m──\u001b[39m \u001b[1m\u001b[1mColumn specification\u001b[1m\u001b[22m \u001b[36m────────────────────────────────────────────────────────\u001b[39m\n",
            "cols(\n",
            "  Animal = \u001b[31mcol_character()\u001b[39m,\n",
            "  Type = \u001b[31mcol_character()\u001b[39m,\n",
            "  Value = \u001b[32mcol_double()\u001b[39m\n",
            ")\n",
            "\n",
            "\n"
          ],
          "name": "stderr"
        },
        {
          "output_type": "display_data",
          "data": {
            "text/plain": [
              "   Animal             Type     Value\n",
              "1  Domestic dog       lifespan 24.00\n",
              "2  Domestic dog       ratio     5.10\n",
              "3  Domestic cat       lifespan 30.00\n",
              "4  Domestic cat       ratio     4.08\n",
              "5  American alligator lifespan 77.00\n",
              "6  American alligator ratio     1.59\n",
              "7  Golden hamster     lifespan  3.90\n",
              "8  Golden hamster     ratio    31.41\n",
              "9  King penguin       lifespan 26.00\n",
              "10 King penguin       ratio     4.71"
            ],
            "text/latex": "A spec\\_tbl\\_df: 10 × 3\n\\begin{tabular}{lll}\n Animal & Type & Value\\\\\n <chr> & <chr> & <dbl>\\\\\n\\hline\n\t Domestic dog       & lifespan & 24.00\\\\\n\t Domestic dog       & ratio    &  5.10\\\\\n\t Domestic cat       & lifespan & 30.00\\\\\n\t Domestic cat       & ratio    &  4.08\\\\\n\t American alligator & lifespan & 77.00\\\\\n\t American alligator & ratio    &  1.59\\\\\n\t Golden hamster     & lifespan &  3.90\\\\\n\t Golden hamster     & ratio    & 31.41\\\\\n\t King penguin       & lifespan & 26.00\\\\\n\t King penguin       & ratio    &  4.71\\\\\n\\end{tabular}\n",
            "text/markdown": "\nA spec_tbl_df: 10 × 3\n\n| Animal &lt;chr&gt; | Type &lt;chr&gt; | Value &lt;dbl&gt; |\n|---|---|---|\n| Domestic dog       | lifespan | 24.00 |\n| Domestic dog       | ratio    |  5.10 |\n| Domestic cat       | lifespan | 30.00 |\n| Domestic cat       | ratio    |  4.08 |\n| American alligator | lifespan | 77.00 |\n| American alligator | ratio    |  1.59 |\n| Golden hamster     | lifespan |  3.90 |\n| Golden hamster     | ratio    | 31.41 |\n| King penguin       | lifespan | 26.00 |\n| King penguin       | ratio    |  4.71 |\n\n",
            "text/html": [
              "<table class=\"dataframe\">\n",
              "<caption>A spec_tbl_df: 10 × 3</caption>\n",
              "<thead>\n",
              "\t<tr><th scope=col>Animal</th><th scope=col>Type</th><th scope=col>Value</th></tr>\n",
              "\t<tr><th scope=col>&lt;chr&gt;</th><th scope=col>&lt;chr&gt;</th><th scope=col>&lt;dbl&gt;</th></tr>\n",
              "</thead>\n",
              "<tbody>\n",
              "\t<tr><td>Domestic dog      </td><td>lifespan</td><td>24.00</td></tr>\n",
              "\t<tr><td>Domestic dog      </td><td>ratio   </td><td> 5.10</td></tr>\n",
              "\t<tr><td>Domestic cat      </td><td>lifespan</td><td>30.00</td></tr>\n",
              "\t<tr><td>Domestic cat      </td><td>ratio   </td><td> 4.08</td></tr>\n",
              "\t<tr><td>American alligator</td><td>lifespan</td><td>77.00</td></tr>\n",
              "\t<tr><td>American alligator</td><td>ratio   </td><td> 1.59</td></tr>\n",
              "\t<tr><td>Golden hamster    </td><td>lifespan</td><td> 3.90</td></tr>\n",
              "\t<tr><td>Golden hamster    </td><td>ratio   </td><td>31.41</td></tr>\n",
              "\t<tr><td>King penguin      </td><td>lifespan</td><td>26.00</td></tr>\n",
              "\t<tr><td>King penguin      </td><td>ratio   </td><td> 4.71</td></tr>\n",
              "</tbody>\n",
              "</table>\n"
            ]
          },
          "metadata": {
            "tags": []
          }
        }
      ]
    },
    {
      "cell_type": "markdown",
      "metadata": {
        "id": "CbnB_ymQn0EJ"
      },
      "source": [
        "You may recognize this data from the subsection *Untidy data I*\n",
        "\n",
        "Now let's use `pivot_wider` to make every row an observation.\n",
        "\n",
        "We need two main arguments for that:\n",
        "\n",
        "1. `names_from`: tells the function where the new column names come from\n",
        "2. `values_from`: tells the function where the values should come from\n",
        "\n"
      ]
    },
    {
      "cell_type": "code",
      "metadata": {
        "colab": {
          "base_uri": "https://localhost:8080/",
          "height": 250
        },
        "id": "svPQMWZEnw6V",
        "outputId": "6cf24cbe-2750-4b72-aab4-b10d97798ce4"
      },
      "source": [
        "tidy_animals <- pivot_wider(untidy_animals,  names_from = Type, values_from = Value)\n",
        "tidy_animals"
      ],
      "execution_count": null,
      "outputs": [
        {
          "output_type": "display_data",
          "data": {
            "text/plain": [
              "  Animal             lifespan ratio\n",
              "1 Domestic dog       24.0      5.10\n",
              "2 Domestic cat       30.0      4.08\n",
              "3 American alligator 77.0      1.59\n",
              "4 Golden hamster      3.9     31.41\n",
              "5 King penguin       26.0      4.71"
            ],
            "text/latex": "A tibble: 5 × 3\n\\begin{tabular}{lll}\n Animal & lifespan & ratio\\\\\n <chr> & <dbl> & <dbl>\\\\\n\\hline\n\t Domestic dog       & 24.0 &  5.10\\\\\n\t Domestic cat       & 30.0 &  4.08\\\\\n\t American alligator & 77.0 &  1.59\\\\\n\t Golden hamster     &  3.9 & 31.41\\\\\n\t King penguin       & 26.0 &  4.71\\\\\n\\end{tabular}\n",
            "text/markdown": "\nA tibble: 5 × 3\n\n| Animal &lt;chr&gt; | lifespan &lt;dbl&gt; | ratio &lt;dbl&gt; |\n|---|---|---|\n| Domestic dog       | 24.0 |  5.10 |\n| Domestic cat       | 30.0 |  4.08 |\n| American alligator | 77.0 |  1.59 |\n| Golden hamster     |  3.9 | 31.41 |\n| King penguin       | 26.0 |  4.71 |\n\n",
            "text/html": [
              "<table class=\"dataframe\">\n",
              "<caption>A tibble: 5 × 3</caption>\n",
              "<thead>\n",
              "\t<tr><th scope=col>Animal</th><th scope=col>lifespan</th><th scope=col>ratio</th></tr>\n",
              "\t<tr><th scope=col>&lt;chr&gt;</th><th scope=col>&lt;dbl&gt;</th><th scope=col>&lt;dbl&gt;</th></tr>\n",
              "</thead>\n",
              "<tbody>\n",
              "\t<tr><td>Domestic dog      </td><td>24.0</td><td> 5.10</td></tr>\n",
              "\t<tr><td>Domestic cat      </td><td>30.0</td><td> 4.08</td></tr>\n",
              "\t<tr><td>American alligator</td><td>77.0</td><td> 1.59</td></tr>\n",
              "\t<tr><td>Golden hamster    </td><td> 3.9</td><td>31.41</td></tr>\n",
              "\t<tr><td>King penguin      </td><td>26.0</td><td> 4.71</td></tr>\n",
              "</tbody>\n",
              "</table>\n"
            ]
          },
          "metadata": {
            "tags": []
          }
        }
      ]
    },
    {
      "cell_type": "markdown",
      "metadata": {
        "id": "BsQbcSPuomwA"
      },
      "source": [
        "`pivot_longer` can untidy our data again\n",
        "\n",
        "The argument `cols = ` tells the function which variables to turn into long format:"
      ]
    },
    {
      "cell_type": "code",
      "metadata": {
        "colab": {
          "base_uri": "https://localhost:8080/",
          "height": 405
        },
        "id": "cLtEJlqroqk9",
        "outputId": "6849aee1-85c7-402c-9c24-b9c61c9d7372"
      },
      "source": [
        "pivot_longer(tidy_animals,  cols = c(lifespan, ratio))"
      ],
      "execution_count": null,
      "outputs": [
        {
          "output_type": "display_data",
          "data": {
            "text/plain": [
              "   Animal             name     value\n",
              "1  Domestic dog       lifespan 24.00\n",
              "2  Domestic dog       ratio     5.10\n",
              "3  Domestic cat       lifespan 30.00\n",
              "4  Domestic cat       ratio     4.08\n",
              "5  American alligator lifespan 77.00\n",
              "6  American alligator ratio     1.59\n",
              "7  Golden hamster     lifespan  3.90\n",
              "8  Golden hamster     ratio    31.41\n",
              "9  King penguin       lifespan 26.00\n",
              "10 King penguin       ratio     4.71"
            ],
            "text/latex": "A tibble: 10 × 3\n\\begin{tabular}{lll}\n Animal & name & value\\\\\n <chr> & <chr> & <dbl>\\\\\n\\hline\n\t Domestic dog       & lifespan & 24.00\\\\\n\t Domestic dog       & ratio    &  5.10\\\\\n\t Domestic cat       & lifespan & 30.00\\\\\n\t Domestic cat       & ratio    &  4.08\\\\\n\t American alligator & lifespan & 77.00\\\\\n\t American alligator & ratio    &  1.59\\\\\n\t Golden hamster     & lifespan &  3.90\\\\\n\t Golden hamster     & ratio    & 31.41\\\\\n\t King penguin       & lifespan & 26.00\\\\\n\t King penguin       & ratio    &  4.71\\\\\n\\end{tabular}\n",
            "text/markdown": "\nA tibble: 10 × 3\n\n| Animal &lt;chr&gt; | name &lt;chr&gt; | value &lt;dbl&gt; |\n|---|---|---|\n| Domestic dog       | lifespan | 24.00 |\n| Domestic dog       | ratio    |  5.10 |\n| Domestic cat       | lifespan | 30.00 |\n| Domestic cat       | ratio    |  4.08 |\n| American alligator | lifespan | 77.00 |\n| American alligator | ratio    |  1.59 |\n| Golden hamster     | lifespan |  3.90 |\n| Golden hamster     | ratio    | 31.41 |\n| King penguin       | lifespan | 26.00 |\n| King penguin       | ratio    |  4.71 |\n\n",
            "text/html": [
              "<table class=\"dataframe\">\n",
              "<caption>A tibble: 10 × 3</caption>\n",
              "<thead>\n",
              "\t<tr><th scope=col>Animal</th><th scope=col>name</th><th scope=col>value</th></tr>\n",
              "\t<tr><th scope=col>&lt;chr&gt;</th><th scope=col>&lt;chr&gt;</th><th scope=col>&lt;dbl&gt;</th></tr>\n",
              "</thead>\n",
              "<tbody>\n",
              "\t<tr><td>Domestic dog      </td><td>lifespan</td><td>24.00</td></tr>\n",
              "\t<tr><td>Domestic dog      </td><td>ratio   </td><td> 5.10</td></tr>\n",
              "\t<tr><td>Domestic cat      </td><td>lifespan</td><td>30.00</td></tr>\n",
              "\t<tr><td>Domestic cat      </td><td>ratio   </td><td> 4.08</td></tr>\n",
              "\t<tr><td>American alligator</td><td>lifespan</td><td>77.00</td></tr>\n",
              "\t<tr><td>American alligator</td><td>ratio   </td><td> 1.59</td></tr>\n",
              "\t<tr><td>Golden hamster    </td><td>lifespan</td><td> 3.90</td></tr>\n",
              "\t<tr><td>Golden hamster    </td><td>ratio   </td><td>31.41</td></tr>\n",
              "\t<tr><td>King penguin      </td><td>lifespan</td><td>26.00</td></tr>\n",
              "\t<tr><td>King penguin      </td><td>ratio   </td><td> 4.71</td></tr>\n",
              "</tbody>\n",
              "</table>\n"
            ]
          },
          "metadata": {
            "tags": []
          }
        }
      ]
    },
    {
      "cell_type": "markdown",
      "metadata": {
        "id": "e531ec83"
      },
      "source": [
        "\n",
        "\n",
        "## Data manipulation using `dplyr`\n",
        "\n",
        "<center>\n",
        "<img src=\"https://github.com/allisonhorst/stats-illustrations/blob/master/rstats-artwork/dplyr_wrangling.png?raw=true\" style=\"width: 62%\" />\n",
        "</center>"
      ]
    },
    {
      "cell_type": "markdown",
      "metadata": {
        "id": "aecfec0b"
      },
      "source": [
        "Artist: [Allison Horst](https://github.com/allisonhorst)\n"
      ]
    },
    {
      "cell_type": "markdown",
      "metadata": {
        "id": "a4af7eef"
      },
      "source": [
        "\n",
        "\n",
        "### `select()`\n",
        "\n",
        "helps you select variables\n",
        "\n",
        "\n",
        "\n"
      ]
    },
    {
      "cell_type": "markdown",
      "metadata": {
        "id": "128d19e3"
      },
      "source": [
        "\n",
        "\n",
        "![](https://favstats.shinyapps.io/r_intro/_w_bfa1a45e/images/select.png)\n",
        "\n",
        "`select()` is part of the dplyr package and helps you select variables\n",
        "\n",
        "Remember: with tidyverse-style functions, **data is always the first argument**.\n"
      ]
    },
    {
      "cell_type": "markdown",
      "metadata": {
        "id": "b08b2309"
      },
      "source": [
        "#### Select variables\n",
        "\n",
        "Here we only keep `individual_id`, `sex` and `species`."
      ]
    },
    {
      "cell_type": "code",
      "metadata": {
        "lines_to_next_cell": 0,
        "id": "1815048e",
        "colab": {
          "base_uri": "https://localhost:8080/",
          "height": 1000
        },
        "outputId": "b07ada92-47a4-4bf3-a898-bcfd63ca0b55"
      },
      "source": [
        "select(penguins_clean, individual_id, sex, species)"
      ],
      "execution_count": null,
      "outputs": [
        {
          "output_type": "display_data",
          "data": {
            "text/plain": [
              "    individual_id sex    species          \n",
              "1   N1A1          MALE   Adelie Penguin   \n",
              "2   N1A2          FEMALE Adelie Penguin   \n",
              "3   N2A1          FEMALE Adelie Penguin   \n",
              "4   N2A2          NA     Adelie Penguin   \n",
              "5   N3A1          FEMALE Adelie Penguin   \n",
              "6   N3A2          MALE   Adelie Penguin   \n",
              "7   N4A1          FEMALE Adelie Penguin   \n",
              "8   N4A2          MALE   Adelie Penguin   \n",
              "9   N5A1          NA     Adelie Penguin   \n",
              "10  N5A2          NA     Adelie Penguin   \n",
              "11  N6A1          NA     Adelie Penguin   \n",
              "12  N6A2          NA     Adelie Penguin   \n",
              "13  N7A1          FEMALE Adelie Penguin   \n",
              "14  N7A2          MALE   Adelie Penguin   \n",
              "15  N8A1          MALE   Adelie Penguin   \n",
              "16  N8A2          FEMALE Adelie Penguin   \n",
              "17  N9A1          FEMALE Adelie Penguin   \n",
              "18  N9A2          MALE   Adelie Penguin   \n",
              "19  N10A1         FEMALE Adelie Penguin   \n",
              "20  N10A2         MALE   Adelie Penguin   \n",
              "21  N11A1         FEMALE Adelie Penguin   \n",
              "22  N11A2         MALE   Adelie Penguin   \n",
              "23  N12A1         FEMALE Adelie Penguin   \n",
              "24  N12A2         MALE   Adelie Penguin   \n",
              "25  N13A1         MALE   Adelie Penguin   \n",
              "26  N13A2         FEMALE Adelie Penguin   \n",
              "27  N17A1         MALE   Adelie Penguin   \n",
              "28  N17A2         FEMALE Adelie Penguin   \n",
              "29  N18A1         FEMALE Adelie Penguin   \n",
              "30  N18A2         MALE   Adelie Penguin   \n",
              "⋮   ⋮             ⋮      ⋮                \n",
              "315 N72A1         FEMALE Chinstrap penguin\n",
              "316 N72A2         MALE   Chinstrap penguin\n",
              "317 N74A1         MALE   Chinstrap penguin\n",
              "318 N74A2         FEMALE Chinstrap penguin\n",
              "319 N75A1         MALE   Chinstrap penguin\n",
              "320 N75A2         FEMALE Chinstrap penguin\n",
              "321 N86A1         FEMALE Chinstrap penguin\n",
              "322 N86A2         MALE   Chinstrap penguin\n",
              "323 N87A1         FEMALE Chinstrap penguin\n",
              "324 N87A2         MALE   Chinstrap penguin\n",
              "325 N88A1         MALE   Chinstrap penguin\n",
              "326 N88A2         FEMALE Chinstrap penguin\n",
              "327 N90A1         FEMALE Chinstrap penguin\n",
              "328 N90A2         MALE   Chinstrap penguin\n",
              "329 N92A1         FEMALE Chinstrap penguin\n",
              "330 N92A2         MALE   Chinstrap penguin\n",
              "331 N93A1         FEMALE Chinstrap penguin\n",
              "332 N93A2         MALE   Chinstrap penguin\n",
              "333 N94A1         FEMALE Chinstrap penguin\n",
              "334 N94A2         MALE   Chinstrap penguin\n",
              "335 N95A1         MALE   Chinstrap penguin\n",
              "336 N95A2         FEMALE Chinstrap penguin\n",
              "337 N96A1         MALE   Chinstrap penguin\n",
              "338 N96A2         FEMALE Chinstrap penguin\n",
              "339 N98A1         FEMALE Chinstrap penguin\n",
              "340 N98A2         MALE   Chinstrap penguin\n",
              "341 N99A1         FEMALE Chinstrap penguin\n",
              "342 N99A2         MALE   Chinstrap penguin\n",
              "343 N100A1        MALE   Chinstrap penguin\n",
              "344 N100A2        FEMALE Chinstrap penguin"
            ],
            "text/latex": "A tibble: 344 × 3\n\\begin{tabular}{lll}\n individual\\_id & sex & species\\\\\n <chr> & <chr> & <chr>\\\\\n\\hline\n\t N1A1  & MALE   & Adelie Penguin\\\\\n\t N1A2  & FEMALE & Adelie Penguin\\\\\n\t N2A1  & FEMALE & Adelie Penguin\\\\\n\t N2A2  & NA     & Adelie Penguin\\\\\n\t N3A1  & FEMALE & Adelie Penguin\\\\\n\t N3A2  & MALE   & Adelie Penguin\\\\\n\t N4A1  & FEMALE & Adelie Penguin\\\\\n\t N4A2  & MALE   & Adelie Penguin\\\\\n\t N5A1  & NA     & Adelie Penguin\\\\\n\t N5A2  & NA     & Adelie Penguin\\\\\n\t N6A1  & NA     & Adelie Penguin\\\\\n\t N6A2  & NA     & Adelie Penguin\\\\\n\t N7A1  & FEMALE & Adelie Penguin\\\\\n\t N7A2  & MALE   & Adelie Penguin\\\\\n\t N8A1  & MALE   & Adelie Penguin\\\\\n\t N8A2  & FEMALE & Adelie Penguin\\\\\n\t N9A1  & FEMALE & Adelie Penguin\\\\\n\t N9A2  & MALE   & Adelie Penguin\\\\\n\t N10A1 & FEMALE & Adelie Penguin\\\\\n\t N10A2 & MALE   & Adelie Penguin\\\\\n\t N11A1 & FEMALE & Adelie Penguin\\\\\n\t N11A2 & MALE   & Adelie Penguin\\\\\n\t N12A1 & FEMALE & Adelie Penguin\\\\\n\t N12A2 & MALE   & Adelie Penguin\\\\\n\t N13A1 & MALE   & Adelie Penguin\\\\\n\t N13A2 & FEMALE & Adelie Penguin\\\\\n\t N17A1 & MALE   & Adelie Penguin\\\\\n\t N17A2 & FEMALE & Adelie Penguin\\\\\n\t N18A1 & FEMALE & Adelie Penguin\\\\\n\t N18A2 & MALE   & Adelie Penguin\\\\\n\t ⋮ & ⋮ & ⋮\\\\\n\t N72A1  & FEMALE & Chinstrap penguin\\\\\n\t N72A2  & MALE   & Chinstrap penguin\\\\\n\t N74A1  & MALE   & Chinstrap penguin\\\\\n\t N74A2  & FEMALE & Chinstrap penguin\\\\\n\t N75A1  & MALE   & Chinstrap penguin\\\\\n\t N75A2  & FEMALE & Chinstrap penguin\\\\\n\t N86A1  & FEMALE & Chinstrap penguin\\\\\n\t N86A2  & MALE   & Chinstrap penguin\\\\\n\t N87A1  & FEMALE & Chinstrap penguin\\\\\n\t N87A2  & MALE   & Chinstrap penguin\\\\\n\t N88A1  & MALE   & Chinstrap penguin\\\\\n\t N88A2  & FEMALE & Chinstrap penguin\\\\\n\t N90A1  & FEMALE & Chinstrap penguin\\\\\n\t N90A2  & MALE   & Chinstrap penguin\\\\\n\t N92A1  & FEMALE & Chinstrap penguin\\\\\n\t N92A2  & MALE   & Chinstrap penguin\\\\\n\t N93A1  & FEMALE & Chinstrap penguin\\\\\n\t N93A2  & MALE   & Chinstrap penguin\\\\\n\t N94A1  & FEMALE & Chinstrap penguin\\\\\n\t N94A2  & MALE   & Chinstrap penguin\\\\\n\t N95A1  & MALE   & Chinstrap penguin\\\\\n\t N95A2  & FEMALE & Chinstrap penguin\\\\\n\t N96A1  & MALE   & Chinstrap penguin\\\\\n\t N96A2  & FEMALE & Chinstrap penguin\\\\\n\t N98A1  & FEMALE & Chinstrap penguin\\\\\n\t N98A2  & MALE   & Chinstrap penguin\\\\\n\t N99A1  & FEMALE & Chinstrap penguin\\\\\n\t N99A2  & MALE   & Chinstrap penguin\\\\\n\t N100A1 & MALE   & Chinstrap penguin\\\\\n\t N100A2 & FEMALE & Chinstrap penguin\\\\\n\\end{tabular}\n",
            "text/markdown": "\nA tibble: 344 × 3\n\n| individual_id &lt;chr&gt; | sex &lt;chr&gt; | species &lt;chr&gt; |\n|---|---|---|\n| N1A1  | MALE   | Adelie Penguin |\n| N1A2  | FEMALE | Adelie Penguin |\n| N2A1  | FEMALE | Adelie Penguin |\n| N2A2  | NA     | Adelie Penguin |\n| N3A1  | FEMALE | Adelie Penguin |\n| N3A2  | MALE   | Adelie Penguin |\n| N4A1  | FEMALE | Adelie Penguin |\n| N4A2  | MALE   | Adelie Penguin |\n| N5A1  | NA     | Adelie Penguin |\n| N5A2  | NA     | Adelie Penguin |\n| N6A1  | NA     | Adelie Penguin |\n| N6A2  | NA     | Adelie Penguin |\n| N7A1  | FEMALE | Adelie Penguin |\n| N7A2  | MALE   | Adelie Penguin |\n| N8A1  | MALE   | Adelie Penguin |\n| N8A2  | FEMALE | Adelie Penguin |\n| N9A1  | FEMALE | Adelie Penguin |\n| N9A2  | MALE   | Adelie Penguin |\n| N10A1 | FEMALE | Adelie Penguin |\n| N10A2 | MALE   | Adelie Penguin |\n| N11A1 | FEMALE | Adelie Penguin |\n| N11A2 | MALE   | Adelie Penguin |\n| N12A1 | FEMALE | Adelie Penguin |\n| N12A2 | MALE   | Adelie Penguin |\n| N13A1 | MALE   | Adelie Penguin |\n| N13A2 | FEMALE | Adelie Penguin |\n| N17A1 | MALE   | Adelie Penguin |\n| N17A2 | FEMALE | Adelie Penguin |\n| N18A1 | FEMALE | Adelie Penguin |\n| N18A2 | MALE   | Adelie Penguin |\n| ⋮ | ⋮ | ⋮ |\n| N72A1  | FEMALE | Chinstrap penguin |\n| N72A2  | MALE   | Chinstrap penguin |\n| N74A1  | MALE   | Chinstrap penguin |\n| N74A2  | FEMALE | Chinstrap penguin |\n| N75A1  | MALE   | Chinstrap penguin |\n| N75A2  | FEMALE | Chinstrap penguin |\n| N86A1  | FEMALE | Chinstrap penguin |\n| N86A2  | MALE   | Chinstrap penguin |\n| N87A1  | FEMALE | Chinstrap penguin |\n| N87A2  | MALE   | Chinstrap penguin |\n| N88A1  | MALE   | Chinstrap penguin |\n| N88A2  | FEMALE | Chinstrap penguin |\n| N90A1  | FEMALE | Chinstrap penguin |\n| N90A2  | MALE   | Chinstrap penguin |\n| N92A1  | FEMALE | Chinstrap penguin |\n| N92A2  | MALE   | Chinstrap penguin |\n| N93A1  | FEMALE | Chinstrap penguin |\n| N93A2  | MALE   | Chinstrap penguin |\n| N94A1  | FEMALE | Chinstrap penguin |\n| N94A2  | MALE   | Chinstrap penguin |\n| N95A1  | MALE   | Chinstrap penguin |\n| N95A2  | FEMALE | Chinstrap penguin |\n| N96A1  | MALE   | Chinstrap penguin |\n| N96A2  | FEMALE | Chinstrap penguin |\n| N98A1  | FEMALE | Chinstrap penguin |\n| N98A2  | MALE   | Chinstrap penguin |\n| N99A1  | FEMALE | Chinstrap penguin |\n| N99A2  | MALE   | Chinstrap penguin |\n| N100A1 | MALE   | Chinstrap penguin |\n| N100A2 | FEMALE | Chinstrap penguin |\n\n",
            "text/html": [
              "<table class=\"dataframe\">\n",
              "<caption>A tibble: 344 × 3</caption>\n",
              "<thead>\n",
              "\t<tr><th scope=col>individual_id</th><th scope=col>sex</th><th scope=col>species</th></tr>\n",
              "\t<tr><th scope=col>&lt;chr&gt;</th><th scope=col>&lt;chr&gt;</th><th scope=col>&lt;chr&gt;</th></tr>\n",
              "</thead>\n",
              "<tbody>\n",
              "\t<tr><td>N1A1 </td><td>MALE  </td><td>Adelie Penguin</td></tr>\n",
              "\t<tr><td>N1A2 </td><td>FEMALE</td><td>Adelie Penguin</td></tr>\n",
              "\t<tr><td>N2A1 </td><td>FEMALE</td><td>Adelie Penguin</td></tr>\n",
              "\t<tr><td>N2A2 </td><td>NA    </td><td>Adelie Penguin</td></tr>\n",
              "\t<tr><td>N3A1 </td><td>FEMALE</td><td>Adelie Penguin</td></tr>\n",
              "\t<tr><td>N3A2 </td><td>MALE  </td><td>Adelie Penguin</td></tr>\n",
              "\t<tr><td>N4A1 </td><td>FEMALE</td><td>Adelie Penguin</td></tr>\n",
              "\t<tr><td>N4A2 </td><td>MALE  </td><td>Adelie Penguin</td></tr>\n",
              "\t<tr><td>N5A1 </td><td>NA    </td><td>Adelie Penguin</td></tr>\n",
              "\t<tr><td>N5A2 </td><td>NA    </td><td>Adelie Penguin</td></tr>\n",
              "\t<tr><td>N6A1 </td><td>NA    </td><td>Adelie Penguin</td></tr>\n",
              "\t<tr><td>N6A2 </td><td>NA    </td><td>Adelie Penguin</td></tr>\n",
              "\t<tr><td>N7A1 </td><td>FEMALE</td><td>Adelie Penguin</td></tr>\n",
              "\t<tr><td>N7A2 </td><td>MALE  </td><td>Adelie Penguin</td></tr>\n",
              "\t<tr><td>N8A1 </td><td>MALE  </td><td>Adelie Penguin</td></tr>\n",
              "\t<tr><td>N8A2 </td><td>FEMALE</td><td>Adelie Penguin</td></tr>\n",
              "\t<tr><td>N9A1 </td><td>FEMALE</td><td>Adelie Penguin</td></tr>\n",
              "\t<tr><td>N9A2 </td><td>MALE  </td><td>Adelie Penguin</td></tr>\n",
              "\t<tr><td>N10A1</td><td>FEMALE</td><td>Adelie Penguin</td></tr>\n",
              "\t<tr><td>N10A2</td><td>MALE  </td><td>Adelie Penguin</td></tr>\n",
              "\t<tr><td>N11A1</td><td>FEMALE</td><td>Adelie Penguin</td></tr>\n",
              "\t<tr><td>N11A2</td><td>MALE  </td><td>Adelie Penguin</td></tr>\n",
              "\t<tr><td>N12A1</td><td>FEMALE</td><td>Adelie Penguin</td></tr>\n",
              "\t<tr><td>N12A2</td><td>MALE  </td><td>Adelie Penguin</td></tr>\n",
              "\t<tr><td>N13A1</td><td>MALE  </td><td>Adelie Penguin</td></tr>\n",
              "\t<tr><td>N13A2</td><td>FEMALE</td><td>Adelie Penguin</td></tr>\n",
              "\t<tr><td>N17A1</td><td>MALE  </td><td>Adelie Penguin</td></tr>\n",
              "\t<tr><td>N17A2</td><td>FEMALE</td><td>Adelie Penguin</td></tr>\n",
              "\t<tr><td>N18A1</td><td>FEMALE</td><td>Adelie Penguin</td></tr>\n",
              "\t<tr><td>N18A2</td><td>MALE  </td><td>Adelie Penguin</td></tr>\n",
              "\t<tr><td>⋮</td><td>⋮</td><td>⋮</td></tr>\n",
              "\t<tr><td>N72A1 </td><td>FEMALE</td><td>Chinstrap penguin</td></tr>\n",
              "\t<tr><td>N72A2 </td><td>MALE  </td><td>Chinstrap penguin</td></tr>\n",
              "\t<tr><td>N74A1 </td><td>MALE  </td><td>Chinstrap penguin</td></tr>\n",
              "\t<tr><td>N74A2 </td><td>FEMALE</td><td>Chinstrap penguin</td></tr>\n",
              "\t<tr><td>N75A1 </td><td>MALE  </td><td>Chinstrap penguin</td></tr>\n",
              "\t<tr><td>N75A2 </td><td>FEMALE</td><td>Chinstrap penguin</td></tr>\n",
              "\t<tr><td>N86A1 </td><td>FEMALE</td><td>Chinstrap penguin</td></tr>\n",
              "\t<tr><td>N86A2 </td><td>MALE  </td><td>Chinstrap penguin</td></tr>\n",
              "\t<tr><td>N87A1 </td><td>FEMALE</td><td>Chinstrap penguin</td></tr>\n",
              "\t<tr><td>N87A2 </td><td>MALE  </td><td>Chinstrap penguin</td></tr>\n",
              "\t<tr><td>N88A1 </td><td>MALE  </td><td>Chinstrap penguin</td></tr>\n",
              "\t<tr><td>N88A2 </td><td>FEMALE</td><td>Chinstrap penguin</td></tr>\n",
              "\t<tr><td>N90A1 </td><td>FEMALE</td><td>Chinstrap penguin</td></tr>\n",
              "\t<tr><td>N90A2 </td><td>MALE  </td><td>Chinstrap penguin</td></tr>\n",
              "\t<tr><td>N92A1 </td><td>FEMALE</td><td>Chinstrap penguin</td></tr>\n",
              "\t<tr><td>N92A2 </td><td>MALE  </td><td>Chinstrap penguin</td></tr>\n",
              "\t<tr><td>N93A1 </td><td>FEMALE</td><td>Chinstrap penguin</td></tr>\n",
              "\t<tr><td>N93A2 </td><td>MALE  </td><td>Chinstrap penguin</td></tr>\n",
              "\t<tr><td>N94A1 </td><td>FEMALE</td><td>Chinstrap penguin</td></tr>\n",
              "\t<tr><td>N94A2 </td><td>MALE  </td><td>Chinstrap penguin</td></tr>\n",
              "\t<tr><td>N95A1 </td><td>MALE  </td><td>Chinstrap penguin</td></tr>\n",
              "\t<tr><td>N95A2 </td><td>FEMALE</td><td>Chinstrap penguin</td></tr>\n",
              "\t<tr><td>N96A1 </td><td>MALE  </td><td>Chinstrap penguin</td></tr>\n",
              "\t<tr><td>N96A2 </td><td>FEMALE</td><td>Chinstrap penguin</td></tr>\n",
              "\t<tr><td>N98A1 </td><td>FEMALE</td><td>Chinstrap penguin</td></tr>\n",
              "\t<tr><td>N98A2 </td><td>MALE  </td><td>Chinstrap penguin</td></tr>\n",
              "\t<tr><td>N99A1 </td><td>FEMALE</td><td>Chinstrap penguin</td></tr>\n",
              "\t<tr><td>N99A2 </td><td>MALE  </td><td>Chinstrap penguin</td></tr>\n",
              "\t<tr><td>N100A1</td><td>MALE  </td><td>Chinstrap penguin</td></tr>\n",
              "\t<tr><td>N100A2</td><td>FEMALE</td><td>Chinstrap penguin</td></tr>\n",
              "</tbody>\n",
              "</table>\n"
            ]
          },
          "metadata": {
            "tags": []
          }
        }
      ]
    },
    {
      "cell_type": "markdown",
      "metadata": {
        "id": "lhRNtPdKVITj"
      },
      "source": [
        "But `select()` is more powerful than that.\n",
        "\n",
        "#### Remove variables\n",
        "\n",
        "We can also **remove** variables with a **`-`** (minus).\n",
        "\n",
        "Here we remove `individual_id`, `sex` and `species`."
      ]
    },
    {
      "cell_type": "code",
      "metadata": {
        "id": "rTJ_rxOHVUrH",
        "colab": {
          "base_uri": "https://localhost:8080/",
          "height": 1000
        },
        "outputId": "a753151a-89d0-4f78-b227-95ed0f52148d"
      },
      "source": [
        "select(penguins_clean, -individual_id, -sex, -species)"
      ],
      "execution_count": null,
      "outputs": [
        {
          "output_type": "display_data",
          "data": {
            "text/plain": [
              "    study_name sample_number latin_name             island    clutch_completion\n",
              "1   PAL0708     1            Pygoscelis adeliae)    Torgersen Yes              \n",
              "2   PAL0708     2            Pygoscelis adeliae)    Torgersen Yes              \n",
              "3   PAL0708     3            Pygoscelis adeliae)    Torgersen Yes              \n",
              "4   PAL0708     4            Pygoscelis adeliae)    Torgersen Yes              \n",
              "5   PAL0708     5            Pygoscelis adeliae)    Torgersen Yes              \n",
              "6   PAL0708     6            Pygoscelis adeliae)    Torgersen Yes              \n",
              "7   PAL0708     7            Pygoscelis adeliae)    Torgersen No               \n",
              "8   PAL0708     8            Pygoscelis adeliae)    Torgersen No               \n",
              "9   PAL0708     9            Pygoscelis adeliae)    Torgersen Yes              \n",
              "10  PAL0708    10            Pygoscelis adeliae)    Torgersen Yes              \n",
              "11  PAL0708    11            Pygoscelis adeliae)    Torgersen Yes              \n",
              "12  PAL0708    12            Pygoscelis adeliae)    Torgersen Yes              \n",
              "13  PAL0708    13            Pygoscelis adeliae)    Torgersen Yes              \n",
              "14  PAL0708    14            Pygoscelis adeliae)    Torgersen Yes              \n",
              "15  PAL0708    15            Pygoscelis adeliae)    Torgersen Yes              \n",
              "16  PAL0708    16            Pygoscelis adeliae)    Torgersen Yes              \n",
              "17  PAL0708    17            Pygoscelis adeliae)    Torgersen Yes              \n",
              "18  PAL0708    18            Pygoscelis adeliae)    Torgersen Yes              \n",
              "19  PAL0708    19            Pygoscelis adeliae)    Torgersen Yes              \n",
              "20  PAL0708    20            Pygoscelis adeliae)    Torgersen Yes              \n",
              "21  PAL0708    21            Pygoscelis adeliae)    Biscoe    Yes              \n",
              "22  PAL0708    22            Pygoscelis adeliae)    Biscoe    Yes              \n",
              "23  PAL0708    23            Pygoscelis adeliae)    Biscoe    Yes              \n",
              "24  PAL0708    24            Pygoscelis adeliae)    Biscoe    Yes              \n",
              "25  PAL0708    25            Pygoscelis adeliae)    Biscoe    Yes              \n",
              "26  PAL0708    26            Pygoscelis adeliae)    Biscoe    Yes              \n",
              "27  PAL0708    27            Pygoscelis adeliae)    Biscoe    Yes              \n",
              "28  PAL0708    28            Pygoscelis adeliae)    Biscoe    Yes              \n",
              "29  PAL0708    29            Pygoscelis adeliae)    Biscoe    No               \n",
              "30  PAL0708    30            Pygoscelis adeliae)    Biscoe    No               \n",
              "⋮   ⋮          ⋮             ⋮                      ⋮         ⋮                \n",
              "315 PAL0809    39            Pygoscelis antarctica) Dream     No               \n",
              "316 PAL0809    40            Pygoscelis antarctica) Dream     No               \n",
              "317 PAL0809    41            Pygoscelis antarctica) Dream     Yes              \n",
              "318 PAL0809    42            Pygoscelis antarctica) Dream     Yes              \n",
              "319 PAL0809    43            Pygoscelis antarctica) Dream     Yes              \n",
              "320 PAL0809    44            Pygoscelis antarctica) Dream     Yes              \n",
              "321 PAL0910    45            Pygoscelis antarctica) Dream     Yes              \n",
              "322 PAL0910    46            Pygoscelis antarctica) Dream     Yes              \n",
              "323 PAL0910    47            Pygoscelis antarctica) Dream     Yes              \n",
              "324 PAL0910    48            Pygoscelis antarctica) Dream     Yes              \n",
              "325 PAL0910    49            Pygoscelis antarctica) Dream     Yes              \n",
              "326 PAL0910    50            Pygoscelis antarctica) Dream     Yes              \n",
              "327 PAL0910    51            Pygoscelis antarctica) Dream     Yes              \n",
              "328 PAL0910    52            Pygoscelis antarctica) Dream     Yes              \n",
              "329 PAL0910    53            Pygoscelis antarctica) Dream     Yes              \n",
              "330 PAL0910    54            Pygoscelis antarctica) Dream     Yes              \n",
              "331 PAL0910    55            Pygoscelis antarctica) Dream     Yes              \n",
              "332 PAL0910    56            Pygoscelis antarctica) Dream     Yes              \n",
              "333 PAL0910    57            Pygoscelis antarctica) Dream     Yes              \n",
              "334 PAL0910    58            Pygoscelis antarctica) Dream     Yes              \n",
              "335 PAL0910    59            Pygoscelis antarctica) Dream     Yes              \n",
              "336 PAL0910    60            Pygoscelis antarctica) Dream     Yes              \n",
              "337 PAL0910    61            Pygoscelis antarctica) Dream     Yes              \n",
              "338 PAL0910    62            Pygoscelis antarctica) Dream     Yes              \n",
              "339 PAL0910    63            Pygoscelis antarctica) Dream     Yes              \n",
              "340 PAL0910    64            Pygoscelis antarctica) Dream     Yes              \n",
              "341 PAL0910    65            Pygoscelis antarctica) Dream     No               \n",
              "342 PAL0910    66            Pygoscelis antarctica) Dream     No               \n",
              "343 PAL0910    67            Pygoscelis antarctica) Dream     Yes              \n",
              "344 PAL0910    68            Pygoscelis antarctica) Dream     Yes              \n",
              "    date_egg   culmen_length_mm culmen_depth_mm flipper_length_mm body_mass_g\n",
              "1   2007-11-11 39.1             18.7            181               3750       \n",
              "2   2007-11-11 39.5             17.4            186               3800       \n",
              "3   2007-11-16 40.3             18.0            195               3250       \n",
              "4   2007-11-16   NA               NA             NA                 NA       \n",
              "5   2007-11-16 36.7             19.3            193               3450       \n",
              "6   2007-11-16 39.3             20.6            190               3650       \n",
              "7   2007-11-15 38.9             17.8            181               3625       \n",
              "8   2007-11-15 39.2             19.6            195               4675       \n",
              "9   2007-11-09 34.1             18.1            193               3475       \n",
              "10  2007-11-09 42.0             20.2            190               4250       \n",
              "11  2007-11-09 37.8             17.1            186               3300       \n",
              "12  2007-11-09 37.8             17.3            180               3700       \n",
              "13  2007-11-15 41.1             17.6            182               3200       \n",
              "14  2007-11-15 38.6             21.2            191               3800       \n",
              "15  2007-11-16 34.6             21.1            198               4400       \n",
              "16  2007-11-16 36.6             17.8            185               3700       \n",
              "17  2007-11-12 38.7             19.0            195               3450       \n",
              "18  2007-11-12 42.5             20.7            197               4500       \n",
              "19  2007-11-16 34.4             18.4            184               3325       \n",
              "20  2007-11-16 46.0             21.5            194               4200       \n",
              "21  2007-11-12 37.8             18.3            174               3400       \n",
              "22  2007-11-12 37.7             18.7            180               3600       \n",
              "23  2007-11-12 35.9             19.2            189               3800       \n",
              "24  2007-11-12 38.2             18.1            185               3950       \n",
              "25  2007-11-10 38.8             17.2            180               3800       \n",
              "26  2007-11-10 35.3             18.9            187               3800       \n",
              "27  2007-11-12 40.6             18.6            183               3550       \n",
              "28  2007-11-12 40.5             17.9            187               3200       \n",
              "29  2007-11-10 37.9             18.6            172               3150       \n",
              "30  2007-11-10 40.5             18.9            180               3950       \n",
              "⋮   ⋮          ⋮                ⋮               ⋮                 ⋮          \n",
              "315 2008-11-24 46.9             16.6            192               2700       \n",
              "316 2008-11-24 53.5             19.9            205               4500       \n",
              "317 2008-11-24 49.0             19.5            210               3950       \n",
              "318 2008-11-24 46.2             17.5            187               3650       \n",
              "319 2008-11-14 50.9             19.1            196               3550       \n",
              "320 2008-11-14 45.5             17.0            196               3500       \n",
              "321 2009-11-17 50.9             17.9            196               3675       \n",
              "322 2009-11-17 50.8             18.5            201               4450       \n",
              "323 2009-11-27 50.1             17.9            190               3400       \n",
              "324 2009-11-27 49.0             19.6            212               4300       \n",
              "325 2009-11-23 51.5             18.7            187               3250       \n",
              "326 2009-11-23 49.8             17.3            198               3675       \n",
              "327 2009-11-21 48.1             16.4            199               3325       \n",
              "328 2009-11-21 51.4             19.0            201               3950       \n",
              "329 2009-11-23 45.7             17.3            193               3600       \n",
              "330 2009-11-23 50.7             19.7            203               4050       \n",
              "331 2009-11-27 42.5             17.3            187               3350       \n",
              "332 2009-11-27 52.2             18.8            197               3450       \n",
              "333 2009-11-21 45.2             16.6            191               3250       \n",
              "334 2009-11-21 49.3             19.9            203               4050       \n",
              "335 2009-11-21 50.2             18.8            202               3800       \n",
              "336 2009-11-21 45.6             19.4            194               3525       \n",
              "337 2009-11-27 51.9             19.5            206               3950       \n",
              "338 2009-11-27 46.8             16.5            189               3650       \n",
              "339 2009-11-19 45.7             17.0            195               3650       \n",
              "340 2009-11-19 55.8             19.8            207               4000       \n",
              "341 2009-11-21 43.5             18.1            202               3400       \n",
              "342 2009-11-21 49.6             18.2            193               3775       \n",
              "343 2009-11-21 50.8             19.0            210               4100       \n",
              "344 2009-11-21 50.2             18.7            198               3775       \n",
              "    delta_15_n_o_oo delta_13_c_o_oo comments                             \n",
              "1        NA                NA       Not enough blood for isotopes.       \n",
              "2   8.94956         -24.69454       NA                                   \n",
              "3   8.36821         -25.33302       NA                                   \n",
              "4        NA                NA       Adult not sampled.                   \n",
              "5   8.76651         -25.32426       NA                                   \n",
              "6   8.66496         -25.29805       NA                                   \n",
              "7   9.18718         -25.21799       Nest never observed with full clutch.\n",
              "8   9.46060         -24.89958       Nest never observed with full clutch.\n",
              "9        NA                NA       No blood sample obtained.            \n",
              "10  9.13362         -25.09368       No blood sample obtained for sexing. \n",
              "11  8.63243         -25.21315       No blood sample obtained for sexing. \n",
              "12       NA                NA       No blood sample obtained.            \n",
              "13       NA                NA       Not enough blood for isotopes.       \n",
              "14       NA                NA       Not enough blood for isotopes.       \n",
              "15  8.55583         -25.22588       NA                                   \n",
              "16       NA                NA       Not enough blood for isotopes.       \n",
              "17  9.18528         -25.06691       NA                                   \n",
              "18  8.67538         -25.13993       NA                                   \n",
              "19  8.47827         -25.23319       NA                                   \n",
              "20  9.11616         -24.77227       NA                                   \n",
              "21  8.73762         -25.09383       NA                                   \n",
              "22  8.66271         -25.06390       NA                                   \n",
              "23  9.22286         -25.03474       NA                                   \n",
              "24  8.43423         -25.22664       NA                                   \n",
              "25  9.63954         -25.29856       NA                                   \n",
              "26  9.21292         -24.36130       NA                                   \n",
              "27  8.93997         -25.36288       NA                                   \n",
              "28  8.08138         -25.49448       NA                                   \n",
              "29  8.38404         -25.19837       Nest never observed with full clutch.\n",
              "30  8.90027         -25.11609       Nest never observed with full clutch.\n",
              "⋮   ⋮               ⋮               ⋮                                    \n",
              "315  9.80589        -24.73735       Nest never observed with full clutch.\n",
              "316 10.02544        -24.90816       Nest never observed with full clutch.\n",
              "317  9.53262        -24.66867       NA                                   \n",
              "318  9.61734        -24.66188       NA                                   \n",
              "319 10.02372        -24.86594       NA                                   \n",
              "320  9.36493        -24.66259       NA                                   \n",
              "321  9.43684        -24.16566       NA                                   \n",
              "322  9.45827        -24.35575       NA                                   \n",
              "323  9.46819        -24.45721       NA                                   \n",
              "324  9.34089        -24.45189       NA                                   \n",
              "325  9.68950        -24.43062       NA                                   \n",
              "326  9.32169        -24.41562       NA                                   \n",
              "327  9.46929        -24.48403       NA                                   \n",
              "328  9.43782        -24.36202       NA                                   \n",
              "329  9.41500        -24.80500       NA                                   \n",
              "330  9.93727        -24.59066       NA                                   \n",
              "331  9.56534        -24.60882       NA                                   \n",
              "332  9.77528        -24.56481       NA                                   \n",
              "333  9.62357        -24.78984       NA                                   \n",
              "334  9.88809        -24.59513       NA                                   \n",
              "335  9.74492        -24.40400       NA                                   \n",
              "336  9.46985        -24.65786       NA                                   \n",
              "337       NA        -23.78767       No delta15N data received from lab.  \n",
              "338  9.65061        -24.48153       NA                                   \n",
              "339  9.26715        -24.31912       NA                                   \n",
              "340  9.70465        -24.53494       NA                                   \n",
              "341  9.37608        -24.40753       Nest never observed with full clutch.\n",
              "342  9.46180        -24.70615       Nest never observed with full clutch.\n",
              "343  9.98044        -24.68741       NA                                   \n",
              "344  9.39305        -24.25255       NA                                   "
            ],
            "text/latex": "A tibble: 344 × 13\n\\begin{tabular}{lllllllllllll}\n study\\_name & sample\\_number & latin\\_name & island & clutch\\_completion & date\\_egg & culmen\\_length\\_mm & culmen\\_depth\\_mm & flipper\\_length\\_mm & body\\_mass\\_g & delta\\_15\\_n\\_o\\_oo & delta\\_13\\_c\\_o\\_oo & comments\\\\\n <chr> & <dbl> & <chr> & <chr> & <chr> & <date> & <dbl> & <dbl> & <dbl> & <dbl> & <dbl> & <dbl> & <chr>\\\\\n\\hline\n\t PAL0708 &  1 & Pygoscelis adeliae) & Torgersen & Yes & 2007-11-11 & 39.1 & 18.7 & 181 & 3750 &      NA &        NA & Not enough blood for isotopes.       \\\\\n\t PAL0708 &  2 & Pygoscelis adeliae) & Torgersen & Yes & 2007-11-11 & 39.5 & 17.4 & 186 & 3800 & 8.94956 & -24.69454 & NA                                   \\\\\n\t PAL0708 &  3 & Pygoscelis adeliae) & Torgersen & Yes & 2007-11-16 & 40.3 & 18.0 & 195 & 3250 & 8.36821 & -25.33302 & NA                                   \\\\\n\t PAL0708 &  4 & Pygoscelis adeliae) & Torgersen & Yes & 2007-11-16 &   NA &   NA &  NA &   NA &      NA &        NA & Adult not sampled.                   \\\\\n\t PAL0708 &  5 & Pygoscelis adeliae) & Torgersen & Yes & 2007-11-16 & 36.7 & 19.3 & 193 & 3450 & 8.76651 & -25.32426 & NA                                   \\\\\n\t PAL0708 &  6 & Pygoscelis adeliae) & Torgersen & Yes & 2007-11-16 & 39.3 & 20.6 & 190 & 3650 & 8.66496 & -25.29805 & NA                                   \\\\\n\t PAL0708 &  7 & Pygoscelis adeliae) & Torgersen & No  & 2007-11-15 & 38.9 & 17.8 & 181 & 3625 & 9.18718 & -25.21799 & Nest never observed with full clutch.\\\\\n\t PAL0708 &  8 & Pygoscelis adeliae) & Torgersen & No  & 2007-11-15 & 39.2 & 19.6 & 195 & 4675 & 9.46060 & -24.89958 & Nest never observed with full clutch.\\\\\n\t PAL0708 &  9 & Pygoscelis adeliae) & Torgersen & Yes & 2007-11-09 & 34.1 & 18.1 & 193 & 3475 &      NA &        NA & No blood sample obtained.            \\\\\n\t PAL0708 & 10 & Pygoscelis adeliae) & Torgersen & Yes & 2007-11-09 & 42.0 & 20.2 & 190 & 4250 & 9.13362 & -25.09368 & No blood sample obtained for sexing. \\\\\n\t PAL0708 & 11 & Pygoscelis adeliae) & Torgersen & Yes & 2007-11-09 & 37.8 & 17.1 & 186 & 3300 & 8.63243 & -25.21315 & No blood sample obtained for sexing. \\\\\n\t PAL0708 & 12 & Pygoscelis adeliae) & Torgersen & Yes & 2007-11-09 & 37.8 & 17.3 & 180 & 3700 &      NA &        NA & No blood sample obtained.            \\\\\n\t PAL0708 & 13 & Pygoscelis adeliae) & Torgersen & Yes & 2007-11-15 & 41.1 & 17.6 & 182 & 3200 &      NA &        NA & Not enough blood for isotopes.       \\\\\n\t PAL0708 & 14 & Pygoscelis adeliae) & Torgersen & Yes & 2007-11-15 & 38.6 & 21.2 & 191 & 3800 &      NA &        NA & Not enough blood for isotopes.       \\\\\n\t PAL0708 & 15 & Pygoscelis adeliae) & Torgersen & Yes & 2007-11-16 & 34.6 & 21.1 & 198 & 4400 & 8.55583 & -25.22588 & NA                                   \\\\\n\t PAL0708 & 16 & Pygoscelis adeliae) & Torgersen & Yes & 2007-11-16 & 36.6 & 17.8 & 185 & 3700 &      NA &        NA & Not enough blood for isotopes.       \\\\\n\t PAL0708 & 17 & Pygoscelis adeliae) & Torgersen & Yes & 2007-11-12 & 38.7 & 19.0 & 195 & 3450 & 9.18528 & -25.06691 & NA                                   \\\\\n\t PAL0708 & 18 & Pygoscelis adeliae) & Torgersen & Yes & 2007-11-12 & 42.5 & 20.7 & 197 & 4500 & 8.67538 & -25.13993 & NA                                   \\\\\n\t PAL0708 & 19 & Pygoscelis adeliae) & Torgersen & Yes & 2007-11-16 & 34.4 & 18.4 & 184 & 3325 & 8.47827 & -25.23319 & NA                                   \\\\\n\t PAL0708 & 20 & Pygoscelis adeliae) & Torgersen & Yes & 2007-11-16 & 46.0 & 21.5 & 194 & 4200 & 9.11616 & -24.77227 & NA                                   \\\\\n\t PAL0708 & 21 & Pygoscelis adeliae) & Biscoe    & Yes & 2007-11-12 & 37.8 & 18.3 & 174 & 3400 & 8.73762 & -25.09383 & NA                                   \\\\\n\t PAL0708 & 22 & Pygoscelis adeliae) & Biscoe    & Yes & 2007-11-12 & 37.7 & 18.7 & 180 & 3600 & 8.66271 & -25.06390 & NA                                   \\\\\n\t PAL0708 & 23 & Pygoscelis adeliae) & Biscoe    & Yes & 2007-11-12 & 35.9 & 19.2 & 189 & 3800 & 9.22286 & -25.03474 & NA                                   \\\\\n\t PAL0708 & 24 & Pygoscelis adeliae) & Biscoe    & Yes & 2007-11-12 & 38.2 & 18.1 & 185 & 3950 & 8.43423 & -25.22664 & NA                                   \\\\\n\t PAL0708 & 25 & Pygoscelis adeliae) & Biscoe    & Yes & 2007-11-10 & 38.8 & 17.2 & 180 & 3800 & 9.63954 & -25.29856 & NA                                   \\\\\n\t PAL0708 & 26 & Pygoscelis adeliae) & Biscoe    & Yes & 2007-11-10 & 35.3 & 18.9 & 187 & 3800 & 9.21292 & -24.36130 & NA                                   \\\\\n\t PAL0708 & 27 & Pygoscelis adeliae) & Biscoe    & Yes & 2007-11-12 & 40.6 & 18.6 & 183 & 3550 & 8.93997 & -25.36288 & NA                                   \\\\\n\t PAL0708 & 28 & Pygoscelis adeliae) & Biscoe    & Yes & 2007-11-12 & 40.5 & 17.9 & 187 & 3200 & 8.08138 & -25.49448 & NA                                   \\\\\n\t PAL0708 & 29 & Pygoscelis adeliae) & Biscoe    & No  & 2007-11-10 & 37.9 & 18.6 & 172 & 3150 & 8.38404 & -25.19837 & Nest never observed with full clutch.\\\\\n\t PAL0708 & 30 & Pygoscelis adeliae) & Biscoe    & No  & 2007-11-10 & 40.5 & 18.9 & 180 & 3950 & 8.90027 & -25.11609 & Nest never observed with full clutch.\\\\\n\t ⋮ & ⋮ & ⋮ & ⋮ & ⋮ & ⋮ & ⋮ & ⋮ & ⋮ & ⋮ & ⋮ & ⋮ & ⋮\\\\\n\t PAL0809 & 39 & Pygoscelis antarctica) & Dream & No  & 2008-11-24 & 46.9 & 16.6 & 192 & 2700 &  9.80589 & -24.73735 & Nest never observed with full clutch.\\\\\n\t PAL0809 & 40 & Pygoscelis antarctica) & Dream & No  & 2008-11-24 & 53.5 & 19.9 & 205 & 4500 & 10.02544 & -24.90816 & Nest never observed with full clutch.\\\\\n\t PAL0809 & 41 & Pygoscelis antarctica) & Dream & Yes & 2008-11-24 & 49.0 & 19.5 & 210 & 3950 &  9.53262 & -24.66867 & NA                                   \\\\\n\t PAL0809 & 42 & Pygoscelis antarctica) & Dream & Yes & 2008-11-24 & 46.2 & 17.5 & 187 & 3650 &  9.61734 & -24.66188 & NA                                   \\\\\n\t PAL0809 & 43 & Pygoscelis antarctica) & Dream & Yes & 2008-11-14 & 50.9 & 19.1 & 196 & 3550 & 10.02372 & -24.86594 & NA                                   \\\\\n\t PAL0809 & 44 & Pygoscelis antarctica) & Dream & Yes & 2008-11-14 & 45.5 & 17.0 & 196 & 3500 &  9.36493 & -24.66259 & NA                                   \\\\\n\t PAL0910 & 45 & Pygoscelis antarctica) & Dream & Yes & 2009-11-17 & 50.9 & 17.9 & 196 & 3675 &  9.43684 & -24.16566 & NA                                   \\\\\n\t PAL0910 & 46 & Pygoscelis antarctica) & Dream & Yes & 2009-11-17 & 50.8 & 18.5 & 201 & 4450 &  9.45827 & -24.35575 & NA                                   \\\\\n\t PAL0910 & 47 & Pygoscelis antarctica) & Dream & Yes & 2009-11-27 & 50.1 & 17.9 & 190 & 3400 &  9.46819 & -24.45721 & NA                                   \\\\\n\t PAL0910 & 48 & Pygoscelis antarctica) & Dream & Yes & 2009-11-27 & 49.0 & 19.6 & 212 & 4300 &  9.34089 & -24.45189 & NA                                   \\\\\n\t PAL0910 & 49 & Pygoscelis antarctica) & Dream & Yes & 2009-11-23 & 51.5 & 18.7 & 187 & 3250 &  9.68950 & -24.43062 & NA                                   \\\\\n\t PAL0910 & 50 & Pygoscelis antarctica) & Dream & Yes & 2009-11-23 & 49.8 & 17.3 & 198 & 3675 &  9.32169 & -24.41562 & NA                                   \\\\\n\t PAL0910 & 51 & Pygoscelis antarctica) & Dream & Yes & 2009-11-21 & 48.1 & 16.4 & 199 & 3325 &  9.46929 & -24.48403 & NA                                   \\\\\n\t PAL0910 & 52 & Pygoscelis antarctica) & Dream & Yes & 2009-11-21 & 51.4 & 19.0 & 201 & 3950 &  9.43782 & -24.36202 & NA                                   \\\\\n\t PAL0910 & 53 & Pygoscelis antarctica) & Dream & Yes & 2009-11-23 & 45.7 & 17.3 & 193 & 3600 &  9.41500 & -24.80500 & NA                                   \\\\\n\t PAL0910 & 54 & Pygoscelis antarctica) & Dream & Yes & 2009-11-23 & 50.7 & 19.7 & 203 & 4050 &  9.93727 & -24.59066 & NA                                   \\\\\n\t PAL0910 & 55 & Pygoscelis antarctica) & Dream & Yes & 2009-11-27 & 42.5 & 17.3 & 187 & 3350 &  9.56534 & -24.60882 & NA                                   \\\\\n\t PAL0910 & 56 & Pygoscelis antarctica) & Dream & Yes & 2009-11-27 & 52.2 & 18.8 & 197 & 3450 &  9.77528 & -24.56481 & NA                                   \\\\\n\t PAL0910 & 57 & Pygoscelis antarctica) & Dream & Yes & 2009-11-21 & 45.2 & 16.6 & 191 & 3250 &  9.62357 & -24.78984 & NA                                   \\\\\n\t PAL0910 & 58 & Pygoscelis antarctica) & Dream & Yes & 2009-11-21 & 49.3 & 19.9 & 203 & 4050 &  9.88809 & -24.59513 & NA                                   \\\\\n\t PAL0910 & 59 & Pygoscelis antarctica) & Dream & Yes & 2009-11-21 & 50.2 & 18.8 & 202 & 3800 &  9.74492 & -24.40400 & NA                                   \\\\\n\t PAL0910 & 60 & Pygoscelis antarctica) & Dream & Yes & 2009-11-21 & 45.6 & 19.4 & 194 & 3525 &  9.46985 & -24.65786 & NA                                   \\\\\n\t PAL0910 & 61 & Pygoscelis antarctica) & Dream & Yes & 2009-11-27 & 51.9 & 19.5 & 206 & 3950 &       NA & -23.78767 & No delta15N data received from lab.  \\\\\n\t PAL0910 & 62 & Pygoscelis antarctica) & Dream & Yes & 2009-11-27 & 46.8 & 16.5 & 189 & 3650 &  9.65061 & -24.48153 & NA                                   \\\\\n\t PAL0910 & 63 & Pygoscelis antarctica) & Dream & Yes & 2009-11-19 & 45.7 & 17.0 & 195 & 3650 &  9.26715 & -24.31912 & NA                                   \\\\\n\t PAL0910 & 64 & Pygoscelis antarctica) & Dream & Yes & 2009-11-19 & 55.8 & 19.8 & 207 & 4000 &  9.70465 & -24.53494 & NA                                   \\\\\n\t PAL0910 & 65 & Pygoscelis antarctica) & Dream & No  & 2009-11-21 & 43.5 & 18.1 & 202 & 3400 &  9.37608 & -24.40753 & Nest never observed with full clutch.\\\\\n\t PAL0910 & 66 & Pygoscelis antarctica) & Dream & No  & 2009-11-21 & 49.6 & 18.2 & 193 & 3775 &  9.46180 & -24.70615 & Nest never observed with full clutch.\\\\\n\t PAL0910 & 67 & Pygoscelis antarctica) & Dream & Yes & 2009-11-21 & 50.8 & 19.0 & 210 & 4100 &  9.98044 & -24.68741 & NA                                   \\\\\n\t PAL0910 & 68 & Pygoscelis antarctica) & Dream & Yes & 2009-11-21 & 50.2 & 18.7 & 198 & 3775 &  9.39305 & -24.25255 & NA                                   \\\\\n\\end{tabular}\n",
            "text/markdown": "\nA tibble: 344 × 13\n\n| study_name &lt;chr&gt; | sample_number &lt;dbl&gt; | latin_name &lt;chr&gt; | island &lt;chr&gt; | clutch_completion &lt;chr&gt; | date_egg &lt;date&gt; | culmen_length_mm &lt;dbl&gt; | culmen_depth_mm &lt;dbl&gt; | flipper_length_mm &lt;dbl&gt; | body_mass_g &lt;dbl&gt; | delta_15_n_o_oo &lt;dbl&gt; | delta_13_c_o_oo &lt;dbl&gt; | comments &lt;chr&gt; |\n|---|---|---|---|---|---|---|---|---|---|---|---|---|\n| PAL0708 |  1 | Pygoscelis adeliae) | Torgersen | Yes | 2007-11-11 | 39.1 | 18.7 | 181 | 3750 |      NA |        NA | Not enough blood for isotopes.        |\n| PAL0708 |  2 | Pygoscelis adeliae) | Torgersen | Yes | 2007-11-11 | 39.5 | 17.4 | 186 | 3800 | 8.94956 | -24.69454 | NA                                    |\n| PAL0708 |  3 | Pygoscelis adeliae) | Torgersen | Yes | 2007-11-16 | 40.3 | 18.0 | 195 | 3250 | 8.36821 | -25.33302 | NA                                    |\n| PAL0708 |  4 | Pygoscelis adeliae) | Torgersen | Yes | 2007-11-16 |   NA |   NA |  NA |   NA |      NA |        NA | Adult not sampled.                    |\n| PAL0708 |  5 | Pygoscelis adeliae) | Torgersen | Yes | 2007-11-16 | 36.7 | 19.3 | 193 | 3450 | 8.76651 | -25.32426 | NA                                    |\n| PAL0708 |  6 | Pygoscelis adeliae) | Torgersen | Yes | 2007-11-16 | 39.3 | 20.6 | 190 | 3650 | 8.66496 | -25.29805 | NA                                    |\n| PAL0708 |  7 | Pygoscelis adeliae) | Torgersen | No  | 2007-11-15 | 38.9 | 17.8 | 181 | 3625 | 9.18718 | -25.21799 | Nest never observed with full clutch. |\n| PAL0708 |  8 | Pygoscelis adeliae) | Torgersen | No  | 2007-11-15 | 39.2 | 19.6 | 195 | 4675 | 9.46060 | -24.89958 | Nest never observed with full clutch. |\n| PAL0708 |  9 | Pygoscelis adeliae) | Torgersen | Yes | 2007-11-09 | 34.1 | 18.1 | 193 | 3475 |      NA |        NA | No blood sample obtained.             |\n| PAL0708 | 10 | Pygoscelis adeliae) | Torgersen | Yes | 2007-11-09 | 42.0 | 20.2 | 190 | 4250 | 9.13362 | -25.09368 | No blood sample obtained for sexing.  |\n| PAL0708 | 11 | Pygoscelis adeliae) | Torgersen | Yes | 2007-11-09 | 37.8 | 17.1 | 186 | 3300 | 8.63243 | -25.21315 | No blood sample obtained for sexing.  |\n| PAL0708 | 12 | Pygoscelis adeliae) | Torgersen | Yes | 2007-11-09 | 37.8 | 17.3 | 180 | 3700 |      NA |        NA | No blood sample obtained.             |\n| PAL0708 | 13 | Pygoscelis adeliae) | Torgersen | Yes | 2007-11-15 | 41.1 | 17.6 | 182 | 3200 |      NA |        NA | Not enough blood for isotopes.        |\n| PAL0708 | 14 | Pygoscelis adeliae) | Torgersen | Yes | 2007-11-15 | 38.6 | 21.2 | 191 | 3800 |      NA |        NA | Not enough blood for isotopes.        |\n| PAL0708 | 15 | Pygoscelis adeliae) | Torgersen | Yes | 2007-11-16 | 34.6 | 21.1 | 198 | 4400 | 8.55583 | -25.22588 | NA                                    |\n| PAL0708 | 16 | Pygoscelis adeliae) | Torgersen | Yes | 2007-11-16 | 36.6 | 17.8 | 185 | 3700 |      NA |        NA | Not enough blood for isotopes.        |\n| PAL0708 | 17 | Pygoscelis adeliae) | Torgersen | Yes | 2007-11-12 | 38.7 | 19.0 | 195 | 3450 | 9.18528 | -25.06691 | NA                                    |\n| PAL0708 | 18 | Pygoscelis adeliae) | Torgersen | Yes | 2007-11-12 | 42.5 | 20.7 | 197 | 4500 | 8.67538 | -25.13993 | NA                                    |\n| PAL0708 | 19 | Pygoscelis adeliae) | Torgersen | Yes | 2007-11-16 | 34.4 | 18.4 | 184 | 3325 | 8.47827 | -25.23319 | NA                                    |\n| PAL0708 | 20 | Pygoscelis adeliae) | Torgersen | Yes | 2007-11-16 | 46.0 | 21.5 | 194 | 4200 | 9.11616 | -24.77227 | NA                                    |\n| PAL0708 | 21 | Pygoscelis adeliae) | Biscoe    | Yes | 2007-11-12 | 37.8 | 18.3 | 174 | 3400 | 8.73762 | -25.09383 | NA                                    |\n| PAL0708 | 22 | Pygoscelis adeliae) | Biscoe    | Yes | 2007-11-12 | 37.7 | 18.7 | 180 | 3600 | 8.66271 | -25.06390 | NA                                    |\n| PAL0708 | 23 | Pygoscelis adeliae) | Biscoe    | Yes | 2007-11-12 | 35.9 | 19.2 | 189 | 3800 | 9.22286 | -25.03474 | NA                                    |\n| PAL0708 | 24 | Pygoscelis adeliae) | Biscoe    | Yes | 2007-11-12 | 38.2 | 18.1 | 185 | 3950 | 8.43423 | -25.22664 | NA                                    |\n| PAL0708 | 25 | Pygoscelis adeliae) | Biscoe    | Yes | 2007-11-10 | 38.8 | 17.2 | 180 | 3800 | 9.63954 | -25.29856 | NA                                    |\n| PAL0708 | 26 | Pygoscelis adeliae) | Biscoe    | Yes | 2007-11-10 | 35.3 | 18.9 | 187 | 3800 | 9.21292 | -24.36130 | NA                                    |\n| PAL0708 | 27 | Pygoscelis adeliae) | Biscoe    | Yes | 2007-11-12 | 40.6 | 18.6 | 183 | 3550 | 8.93997 | -25.36288 | NA                                    |\n| PAL0708 | 28 | Pygoscelis adeliae) | Biscoe    | Yes | 2007-11-12 | 40.5 | 17.9 | 187 | 3200 | 8.08138 | -25.49448 | NA                                    |\n| PAL0708 | 29 | Pygoscelis adeliae) | Biscoe    | No  | 2007-11-10 | 37.9 | 18.6 | 172 | 3150 | 8.38404 | -25.19837 | Nest never observed with full clutch. |\n| PAL0708 | 30 | Pygoscelis adeliae) | Biscoe    | No  | 2007-11-10 | 40.5 | 18.9 | 180 | 3950 | 8.90027 | -25.11609 | Nest never observed with full clutch. |\n| ⋮ | ⋮ | ⋮ | ⋮ | ⋮ | ⋮ | ⋮ | ⋮ | ⋮ | ⋮ | ⋮ | ⋮ | ⋮ |\n| PAL0809 | 39 | Pygoscelis antarctica) | Dream | No  | 2008-11-24 | 46.9 | 16.6 | 192 | 2700 |  9.80589 | -24.73735 | Nest never observed with full clutch. |\n| PAL0809 | 40 | Pygoscelis antarctica) | Dream | No  | 2008-11-24 | 53.5 | 19.9 | 205 | 4500 | 10.02544 | -24.90816 | Nest never observed with full clutch. |\n| PAL0809 | 41 | Pygoscelis antarctica) | Dream | Yes | 2008-11-24 | 49.0 | 19.5 | 210 | 3950 |  9.53262 | -24.66867 | NA                                    |\n| PAL0809 | 42 | Pygoscelis antarctica) | Dream | Yes | 2008-11-24 | 46.2 | 17.5 | 187 | 3650 |  9.61734 | -24.66188 | NA                                    |\n| PAL0809 | 43 | Pygoscelis antarctica) | Dream | Yes | 2008-11-14 | 50.9 | 19.1 | 196 | 3550 | 10.02372 | -24.86594 | NA                                    |\n| PAL0809 | 44 | Pygoscelis antarctica) | Dream | Yes | 2008-11-14 | 45.5 | 17.0 | 196 | 3500 |  9.36493 | -24.66259 | NA                                    |\n| PAL0910 | 45 | Pygoscelis antarctica) | Dream | Yes | 2009-11-17 | 50.9 | 17.9 | 196 | 3675 |  9.43684 | -24.16566 | NA                                    |\n| PAL0910 | 46 | Pygoscelis antarctica) | Dream | Yes | 2009-11-17 | 50.8 | 18.5 | 201 | 4450 |  9.45827 | -24.35575 | NA                                    |\n| PAL0910 | 47 | Pygoscelis antarctica) | Dream | Yes | 2009-11-27 | 50.1 | 17.9 | 190 | 3400 |  9.46819 | -24.45721 | NA                                    |\n| PAL0910 | 48 | Pygoscelis antarctica) | Dream | Yes | 2009-11-27 | 49.0 | 19.6 | 212 | 4300 |  9.34089 | -24.45189 | NA                                    |\n| PAL0910 | 49 | Pygoscelis antarctica) | Dream | Yes | 2009-11-23 | 51.5 | 18.7 | 187 | 3250 |  9.68950 | -24.43062 | NA                                    |\n| PAL0910 | 50 | Pygoscelis antarctica) | Dream | Yes | 2009-11-23 | 49.8 | 17.3 | 198 | 3675 |  9.32169 | -24.41562 | NA                                    |\n| PAL0910 | 51 | Pygoscelis antarctica) | Dream | Yes | 2009-11-21 | 48.1 | 16.4 | 199 | 3325 |  9.46929 | -24.48403 | NA                                    |\n| PAL0910 | 52 | Pygoscelis antarctica) | Dream | Yes | 2009-11-21 | 51.4 | 19.0 | 201 | 3950 |  9.43782 | -24.36202 | NA                                    |\n| PAL0910 | 53 | Pygoscelis antarctica) | Dream | Yes | 2009-11-23 | 45.7 | 17.3 | 193 | 3600 |  9.41500 | -24.80500 | NA                                    |\n| PAL0910 | 54 | Pygoscelis antarctica) | Dream | Yes | 2009-11-23 | 50.7 | 19.7 | 203 | 4050 |  9.93727 | -24.59066 | NA                                    |\n| PAL0910 | 55 | Pygoscelis antarctica) | Dream | Yes | 2009-11-27 | 42.5 | 17.3 | 187 | 3350 |  9.56534 | -24.60882 | NA                                    |\n| PAL0910 | 56 | Pygoscelis antarctica) | Dream | Yes | 2009-11-27 | 52.2 | 18.8 | 197 | 3450 |  9.77528 | -24.56481 | NA                                    |\n| PAL0910 | 57 | Pygoscelis antarctica) | Dream | Yes | 2009-11-21 | 45.2 | 16.6 | 191 | 3250 |  9.62357 | -24.78984 | NA                                    |\n| PAL0910 | 58 | Pygoscelis antarctica) | Dream | Yes | 2009-11-21 | 49.3 | 19.9 | 203 | 4050 |  9.88809 | -24.59513 | NA                                    |\n| PAL0910 | 59 | Pygoscelis antarctica) | Dream | Yes | 2009-11-21 | 50.2 | 18.8 | 202 | 3800 |  9.74492 | -24.40400 | NA                                    |\n| PAL0910 | 60 | Pygoscelis antarctica) | Dream | Yes | 2009-11-21 | 45.6 | 19.4 | 194 | 3525 |  9.46985 | -24.65786 | NA                                    |\n| PAL0910 | 61 | Pygoscelis antarctica) | Dream | Yes | 2009-11-27 | 51.9 | 19.5 | 206 | 3950 |       NA | -23.78767 | No delta15N data received from lab.   |\n| PAL0910 | 62 | Pygoscelis antarctica) | Dream | Yes | 2009-11-27 | 46.8 | 16.5 | 189 | 3650 |  9.65061 | -24.48153 | NA                                    |\n| PAL0910 | 63 | Pygoscelis antarctica) | Dream | Yes | 2009-11-19 | 45.7 | 17.0 | 195 | 3650 |  9.26715 | -24.31912 | NA                                    |\n| PAL0910 | 64 | Pygoscelis antarctica) | Dream | Yes | 2009-11-19 | 55.8 | 19.8 | 207 | 4000 |  9.70465 | -24.53494 | NA                                    |\n| PAL0910 | 65 | Pygoscelis antarctica) | Dream | No  | 2009-11-21 | 43.5 | 18.1 | 202 | 3400 |  9.37608 | -24.40753 | Nest never observed with full clutch. |\n| PAL0910 | 66 | Pygoscelis antarctica) | Dream | No  | 2009-11-21 | 49.6 | 18.2 | 193 | 3775 |  9.46180 | -24.70615 | Nest never observed with full clutch. |\n| PAL0910 | 67 | Pygoscelis antarctica) | Dream | Yes | 2009-11-21 | 50.8 | 19.0 | 210 | 4100 |  9.98044 | -24.68741 | NA                                    |\n| PAL0910 | 68 | Pygoscelis antarctica) | Dream | Yes | 2009-11-21 | 50.2 | 18.7 | 198 | 3775 |  9.39305 | -24.25255 | NA                                    |\n\n",
            "text/html": [
              "<table class=\"dataframe\">\n",
              "<caption>A tibble: 344 × 13</caption>\n",
              "<thead>\n",
              "\t<tr><th scope=col>study_name</th><th scope=col>sample_number</th><th scope=col>latin_name</th><th scope=col>island</th><th scope=col>clutch_completion</th><th scope=col>date_egg</th><th scope=col>culmen_length_mm</th><th scope=col>culmen_depth_mm</th><th scope=col>flipper_length_mm</th><th scope=col>body_mass_g</th><th scope=col>delta_15_n_o_oo</th><th scope=col>delta_13_c_o_oo</th><th scope=col>comments</th></tr>\n",
              "\t<tr><th scope=col>&lt;chr&gt;</th><th scope=col>&lt;dbl&gt;</th><th scope=col>&lt;chr&gt;</th><th scope=col>&lt;chr&gt;</th><th scope=col>&lt;chr&gt;</th><th scope=col>&lt;date&gt;</th><th scope=col>&lt;dbl&gt;</th><th scope=col>&lt;dbl&gt;</th><th scope=col>&lt;dbl&gt;</th><th scope=col>&lt;dbl&gt;</th><th scope=col>&lt;dbl&gt;</th><th scope=col>&lt;dbl&gt;</th><th scope=col>&lt;chr&gt;</th></tr>\n",
              "</thead>\n",
              "<tbody>\n",
              "\t<tr><td>PAL0708</td><td> 1</td><td>Pygoscelis adeliae)</td><td>Torgersen</td><td>Yes</td><td>2007-11-11</td><td>39.1</td><td>18.7</td><td>181</td><td>3750</td><td>     NA</td><td>       NA</td><td>Not enough blood for isotopes.       </td></tr>\n",
              "\t<tr><td>PAL0708</td><td> 2</td><td>Pygoscelis adeliae)</td><td>Torgersen</td><td>Yes</td><td>2007-11-11</td><td>39.5</td><td>17.4</td><td>186</td><td>3800</td><td>8.94956</td><td>-24.69454</td><td>NA                                   </td></tr>\n",
              "\t<tr><td>PAL0708</td><td> 3</td><td>Pygoscelis adeliae)</td><td>Torgersen</td><td>Yes</td><td>2007-11-16</td><td>40.3</td><td>18.0</td><td>195</td><td>3250</td><td>8.36821</td><td>-25.33302</td><td>NA                                   </td></tr>\n",
              "\t<tr><td>PAL0708</td><td> 4</td><td>Pygoscelis adeliae)</td><td>Torgersen</td><td>Yes</td><td>2007-11-16</td><td>  NA</td><td>  NA</td><td> NA</td><td>  NA</td><td>     NA</td><td>       NA</td><td>Adult not sampled.                   </td></tr>\n",
              "\t<tr><td>PAL0708</td><td> 5</td><td>Pygoscelis adeliae)</td><td>Torgersen</td><td>Yes</td><td>2007-11-16</td><td>36.7</td><td>19.3</td><td>193</td><td>3450</td><td>8.76651</td><td>-25.32426</td><td>NA                                   </td></tr>\n",
              "\t<tr><td>PAL0708</td><td> 6</td><td>Pygoscelis adeliae)</td><td>Torgersen</td><td>Yes</td><td>2007-11-16</td><td>39.3</td><td>20.6</td><td>190</td><td>3650</td><td>8.66496</td><td>-25.29805</td><td>NA                                   </td></tr>\n",
              "\t<tr><td>PAL0708</td><td> 7</td><td>Pygoscelis adeliae)</td><td>Torgersen</td><td>No </td><td>2007-11-15</td><td>38.9</td><td>17.8</td><td>181</td><td>3625</td><td>9.18718</td><td>-25.21799</td><td>Nest never observed with full clutch.</td></tr>\n",
              "\t<tr><td>PAL0708</td><td> 8</td><td>Pygoscelis adeliae)</td><td>Torgersen</td><td>No </td><td>2007-11-15</td><td>39.2</td><td>19.6</td><td>195</td><td>4675</td><td>9.46060</td><td>-24.89958</td><td>Nest never observed with full clutch.</td></tr>\n",
              "\t<tr><td>PAL0708</td><td> 9</td><td>Pygoscelis adeliae)</td><td>Torgersen</td><td>Yes</td><td>2007-11-09</td><td>34.1</td><td>18.1</td><td>193</td><td>3475</td><td>     NA</td><td>       NA</td><td>No blood sample obtained.            </td></tr>\n",
              "\t<tr><td>PAL0708</td><td>10</td><td>Pygoscelis adeliae)</td><td>Torgersen</td><td>Yes</td><td>2007-11-09</td><td>42.0</td><td>20.2</td><td>190</td><td>4250</td><td>9.13362</td><td>-25.09368</td><td>No blood sample obtained for sexing. </td></tr>\n",
              "\t<tr><td>PAL0708</td><td>11</td><td>Pygoscelis adeliae)</td><td>Torgersen</td><td>Yes</td><td>2007-11-09</td><td>37.8</td><td>17.1</td><td>186</td><td>3300</td><td>8.63243</td><td>-25.21315</td><td>No blood sample obtained for sexing. </td></tr>\n",
              "\t<tr><td>PAL0708</td><td>12</td><td>Pygoscelis adeliae)</td><td>Torgersen</td><td>Yes</td><td>2007-11-09</td><td>37.8</td><td>17.3</td><td>180</td><td>3700</td><td>     NA</td><td>       NA</td><td>No blood sample obtained.            </td></tr>\n",
              "\t<tr><td>PAL0708</td><td>13</td><td>Pygoscelis adeliae)</td><td>Torgersen</td><td>Yes</td><td>2007-11-15</td><td>41.1</td><td>17.6</td><td>182</td><td>3200</td><td>     NA</td><td>       NA</td><td>Not enough blood for isotopes.       </td></tr>\n",
              "\t<tr><td>PAL0708</td><td>14</td><td>Pygoscelis adeliae)</td><td>Torgersen</td><td>Yes</td><td>2007-11-15</td><td>38.6</td><td>21.2</td><td>191</td><td>3800</td><td>     NA</td><td>       NA</td><td>Not enough blood for isotopes.       </td></tr>\n",
              "\t<tr><td>PAL0708</td><td>15</td><td>Pygoscelis adeliae)</td><td>Torgersen</td><td>Yes</td><td>2007-11-16</td><td>34.6</td><td>21.1</td><td>198</td><td>4400</td><td>8.55583</td><td>-25.22588</td><td>NA                                   </td></tr>\n",
              "\t<tr><td>PAL0708</td><td>16</td><td>Pygoscelis adeliae)</td><td>Torgersen</td><td>Yes</td><td>2007-11-16</td><td>36.6</td><td>17.8</td><td>185</td><td>3700</td><td>     NA</td><td>       NA</td><td>Not enough blood for isotopes.       </td></tr>\n",
              "\t<tr><td>PAL0708</td><td>17</td><td>Pygoscelis adeliae)</td><td>Torgersen</td><td>Yes</td><td>2007-11-12</td><td>38.7</td><td>19.0</td><td>195</td><td>3450</td><td>9.18528</td><td>-25.06691</td><td>NA                                   </td></tr>\n",
              "\t<tr><td>PAL0708</td><td>18</td><td>Pygoscelis adeliae)</td><td>Torgersen</td><td>Yes</td><td>2007-11-12</td><td>42.5</td><td>20.7</td><td>197</td><td>4500</td><td>8.67538</td><td>-25.13993</td><td>NA                                   </td></tr>\n",
              "\t<tr><td>PAL0708</td><td>19</td><td>Pygoscelis adeliae)</td><td>Torgersen</td><td>Yes</td><td>2007-11-16</td><td>34.4</td><td>18.4</td><td>184</td><td>3325</td><td>8.47827</td><td>-25.23319</td><td>NA                                   </td></tr>\n",
              "\t<tr><td>PAL0708</td><td>20</td><td>Pygoscelis adeliae)</td><td>Torgersen</td><td>Yes</td><td>2007-11-16</td><td>46.0</td><td>21.5</td><td>194</td><td>4200</td><td>9.11616</td><td>-24.77227</td><td>NA                                   </td></tr>\n",
              "\t<tr><td>PAL0708</td><td>21</td><td>Pygoscelis adeliae)</td><td>Biscoe   </td><td>Yes</td><td>2007-11-12</td><td>37.8</td><td>18.3</td><td>174</td><td>3400</td><td>8.73762</td><td>-25.09383</td><td>NA                                   </td></tr>\n",
              "\t<tr><td>PAL0708</td><td>22</td><td>Pygoscelis adeliae)</td><td>Biscoe   </td><td>Yes</td><td>2007-11-12</td><td>37.7</td><td>18.7</td><td>180</td><td>3600</td><td>8.66271</td><td>-25.06390</td><td>NA                                   </td></tr>\n",
              "\t<tr><td>PAL0708</td><td>23</td><td>Pygoscelis adeliae)</td><td>Biscoe   </td><td>Yes</td><td>2007-11-12</td><td>35.9</td><td>19.2</td><td>189</td><td>3800</td><td>9.22286</td><td>-25.03474</td><td>NA                                   </td></tr>\n",
              "\t<tr><td>PAL0708</td><td>24</td><td>Pygoscelis adeliae)</td><td>Biscoe   </td><td>Yes</td><td>2007-11-12</td><td>38.2</td><td>18.1</td><td>185</td><td>3950</td><td>8.43423</td><td>-25.22664</td><td>NA                                   </td></tr>\n",
              "\t<tr><td>PAL0708</td><td>25</td><td>Pygoscelis adeliae)</td><td>Biscoe   </td><td>Yes</td><td>2007-11-10</td><td>38.8</td><td>17.2</td><td>180</td><td>3800</td><td>9.63954</td><td>-25.29856</td><td>NA                                   </td></tr>\n",
              "\t<tr><td>PAL0708</td><td>26</td><td>Pygoscelis adeliae)</td><td>Biscoe   </td><td>Yes</td><td>2007-11-10</td><td>35.3</td><td>18.9</td><td>187</td><td>3800</td><td>9.21292</td><td>-24.36130</td><td>NA                                   </td></tr>\n",
              "\t<tr><td>PAL0708</td><td>27</td><td>Pygoscelis adeliae)</td><td>Biscoe   </td><td>Yes</td><td>2007-11-12</td><td>40.6</td><td>18.6</td><td>183</td><td>3550</td><td>8.93997</td><td>-25.36288</td><td>NA                                   </td></tr>\n",
              "\t<tr><td>PAL0708</td><td>28</td><td>Pygoscelis adeliae)</td><td>Biscoe   </td><td>Yes</td><td>2007-11-12</td><td>40.5</td><td>17.9</td><td>187</td><td>3200</td><td>8.08138</td><td>-25.49448</td><td>NA                                   </td></tr>\n",
              "\t<tr><td>PAL0708</td><td>29</td><td>Pygoscelis adeliae)</td><td>Biscoe   </td><td>No </td><td>2007-11-10</td><td>37.9</td><td>18.6</td><td>172</td><td>3150</td><td>8.38404</td><td>-25.19837</td><td>Nest never observed with full clutch.</td></tr>\n",
              "\t<tr><td>PAL0708</td><td>30</td><td>Pygoscelis adeliae)</td><td>Biscoe   </td><td>No </td><td>2007-11-10</td><td>40.5</td><td>18.9</td><td>180</td><td>3950</td><td>8.90027</td><td>-25.11609</td><td>Nest never observed with full clutch.</td></tr>\n",
              "\t<tr><td>⋮</td><td>⋮</td><td>⋮</td><td>⋮</td><td>⋮</td><td>⋮</td><td>⋮</td><td>⋮</td><td>⋮</td><td>⋮</td><td>⋮</td><td>⋮</td><td>⋮</td></tr>\n",
              "\t<tr><td>PAL0809</td><td>39</td><td>Pygoscelis antarctica)</td><td>Dream</td><td>No </td><td>2008-11-24</td><td>46.9</td><td>16.6</td><td>192</td><td>2700</td><td> 9.80589</td><td>-24.73735</td><td>Nest never observed with full clutch.</td></tr>\n",
              "\t<tr><td>PAL0809</td><td>40</td><td>Pygoscelis antarctica)</td><td>Dream</td><td>No </td><td>2008-11-24</td><td>53.5</td><td>19.9</td><td>205</td><td>4500</td><td>10.02544</td><td>-24.90816</td><td>Nest never observed with full clutch.</td></tr>\n",
              "\t<tr><td>PAL0809</td><td>41</td><td>Pygoscelis antarctica)</td><td>Dream</td><td>Yes</td><td>2008-11-24</td><td>49.0</td><td>19.5</td><td>210</td><td>3950</td><td> 9.53262</td><td>-24.66867</td><td>NA                                   </td></tr>\n",
              "\t<tr><td>PAL0809</td><td>42</td><td>Pygoscelis antarctica)</td><td>Dream</td><td>Yes</td><td>2008-11-24</td><td>46.2</td><td>17.5</td><td>187</td><td>3650</td><td> 9.61734</td><td>-24.66188</td><td>NA                                   </td></tr>\n",
              "\t<tr><td>PAL0809</td><td>43</td><td>Pygoscelis antarctica)</td><td>Dream</td><td>Yes</td><td>2008-11-14</td><td>50.9</td><td>19.1</td><td>196</td><td>3550</td><td>10.02372</td><td>-24.86594</td><td>NA                                   </td></tr>\n",
              "\t<tr><td>PAL0809</td><td>44</td><td>Pygoscelis antarctica)</td><td>Dream</td><td>Yes</td><td>2008-11-14</td><td>45.5</td><td>17.0</td><td>196</td><td>3500</td><td> 9.36493</td><td>-24.66259</td><td>NA                                   </td></tr>\n",
              "\t<tr><td>PAL0910</td><td>45</td><td>Pygoscelis antarctica)</td><td>Dream</td><td>Yes</td><td>2009-11-17</td><td>50.9</td><td>17.9</td><td>196</td><td>3675</td><td> 9.43684</td><td>-24.16566</td><td>NA                                   </td></tr>\n",
              "\t<tr><td>PAL0910</td><td>46</td><td>Pygoscelis antarctica)</td><td>Dream</td><td>Yes</td><td>2009-11-17</td><td>50.8</td><td>18.5</td><td>201</td><td>4450</td><td> 9.45827</td><td>-24.35575</td><td>NA                                   </td></tr>\n",
              "\t<tr><td>PAL0910</td><td>47</td><td>Pygoscelis antarctica)</td><td>Dream</td><td>Yes</td><td>2009-11-27</td><td>50.1</td><td>17.9</td><td>190</td><td>3400</td><td> 9.46819</td><td>-24.45721</td><td>NA                                   </td></tr>\n",
              "\t<tr><td>PAL0910</td><td>48</td><td>Pygoscelis antarctica)</td><td>Dream</td><td>Yes</td><td>2009-11-27</td><td>49.0</td><td>19.6</td><td>212</td><td>4300</td><td> 9.34089</td><td>-24.45189</td><td>NA                                   </td></tr>\n",
              "\t<tr><td>PAL0910</td><td>49</td><td>Pygoscelis antarctica)</td><td>Dream</td><td>Yes</td><td>2009-11-23</td><td>51.5</td><td>18.7</td><td>187</td><td>3250</td><td> 9.68950</td><td>-24.43062</td><td>NA                                   </td></tr>\n",
              "\t<tr><td>PAL0910</td><td>50</td><td>Pygoscelis antarctica)</td><td>Dream</td><td>Yes</td><td>2009-11-23</td><td>49.8</td><td>17.3</td><td>198</td><td>3675</td><td> 9.32169</td><td>-24.41562</td><td>NA                                   </td></tr>\n",
              "\t<tr><td>PAL0910</td><td>51</td><td>Pygoscelis antarctica)</td><td>Dream</td><td>Yes</td><td>2009-11-21</td><td>48.1</td><td>16.4</td><td>199</td><td>3325</td><td> 9.46929</td><td>-24.48403</td><td>NA                                   </td></tr>\n",
              "\t<tr><td>PAL0910</td><td>52</td><td>Pygoscelis antarctica)</td><td>Dream</td><td>Yes</td><td>2009-11-21</td><td>51.4</td><td>19.0</td><td>201</td><td>3950</td><td> 9.43782</td><td>-24.36202</td><td>NA                                   </td></tr>\n",
              "\t<tr><td>PAL0910</td><td>53</td><td>Pygoscelis antarctica)</td><td>Dream</td><td>Yes</td><td>2009-11-23</td><td>45.7</td><td>17.3</td><td>193</td><td>3600</td><td> 9.41500</td><td>-24.80500</td><td>NA                                   </td></tr>\n",
              "\t<tr><td>PAL0910</td><td>54</td><td>Pygoscelis antarctica)</td><td>Dream</td><td>Yes</td><td>2009-11-23</td><td>50.7</td><td>19.7</td><td>203</td><td>4050</td><td> 9.93727</td><td>-24.59066</td><td>NA                                   </td></tr>\n",
              "\t<tr><td>PAL0910</td><td>55</td><td>Pygoscelis antarctica)</td><td>Dream</td><td>Yes</td><td>2009-11-27</td><td>42.5</td><td>17.3</td><td>187</td><td>3350</td><td> 9.56534</td><td>-24.60882</td><td>NA                                   </td></tr>\n",
              "\t<tr><td>PAL0910</td><td>56</td><td>Pygoscelis antarctica)</td><td>Dream</td><td>Yes</td><td>2009-11-27</td><td>52.2</td><td>18.8</td><td>197</td><td>3450</td><td> 9.77528</td><td>-24.56481</td><td>NA                                   </td></tr>\n",
              "\t<tr><td>PAL0910</td><td>57</td><td>Pygoscelis antarctica)</td><td>Dream</td><td>Yes</td><td>2009-11-21</td><td>45.2</td><td>16.6</td><td>191</td><td>3250</td><td> 9.62357</td><td>-24.78984</td><td>NA                                   </td></tr>\n",
              "\t<tr><td>PAL0910</td><td>58</td><td>Pygoscelis antarctica)</td><td>Dream</td><td>Yes</td><td>2009-11-21</td><td>49.3</td><td>19.9</td><td>203</td><td>4050</td><td> 9.88809</td><td>-24.59513</td><td>NA                                   </td></tr>\n",
              "\t<tr><td>PAL0910</td><td>59</td><td>Pygoscelis antarctica)</td><td>Dream</td><td>Yes</td><td>2009-11-21</td><td>50.2</td><td>18.8</td><td>202</td><td>3800</td><td> 9.74492</td><td>-24.40400</td><td>NA                                   </td></tr>\n",
              "\t<tr><td>PAL0910</td><td>60</td><td>Pygoscelis antarctica)</td><td>Dream</td><td>Yes</td><td>2009-11-21</td><td>45.6</td><td>19.4</td><td>194</td><td>3525</td><td> 9.46985</td><td>-24.65786</td><td>NA                                   </td></tr>\n",
              "\t<tr><td>PAL0910</td><td>61</td><td>Pygoscelis antarctica)</td><td>Dream</td><td>Yes</td><td>2009-11-27</td><td>51.9</td><td>19.5</td><td>206</td><td>3950</td><td>      NA</td><td>-23.78767</td><td>No delta15N data received from lab.  </td></tr>\n",
              "\t<tr><td>PAL0910</td><td>62</td><td>Pygoscelis antarctica)</td><td>Dream</td><td>Yes</td><td>2009-11-27</td><td>46.8</td><td>16.5</td><td>189</td><td>3650</td><td> 9.65061</td><td>-24.48153</td><td>NA                                   </td></tr>\n",
              "\t<tr><td>PAL0910</td><td>63</td><td>Pygoscelis antarctica)</td><td>Dream</td><td>Yes</td><td>2009-11-19</td><td>45.7</td><td>17.0</td><td>195</td><td>3650</td><td> 9.26715</td><td>-24.31912</td><td>NA                                   </td></tr>\n",
              "\t<tr><td>PAL0910</td><td>64</td><td>Pygoscelis antarctica)</td><td>Dream</td><td>Yes</td><td>2009-11-19</td><td>55.8</td><td>19.8</td><td>207</td><td>4000</td><td> 9.70465</td><td>-24.53494</td><td>NA                                   </td></tr>\n",
              "\t<tr><td>PAL0910</td><td>65</td><td>Pygoscelis antarctica)</td><td>Dream</td><td>No </td><td>2009-11-21</td><td>43.5</td><td>18.1</td><td>202</td><td>3400</td><td> 9.37608</td><td>-24.40753</td><td>Nest never observed with full clutch.</td></tr>\n",
              "\t<tr><td>PAL0910</td><td>66</td><td>Pygoscelis antarctica)</td><td>Dream</td><td>No </td><td>2009-11-21</td><td>49.6</td><td>18.2</td><td>193</td><td>3775</td><td> 9.46180</td><td>-24.70615</td><td>Nest never observed with full clutch.</td></tr>\n",
              "\t<tr><td>PAL0910</td><td>67</td><td>Pygoscelis antarctica)</td><td>Dream</td><td>Yes</td><td>2009-11-21</td><td>50.8</td><td>19.0</td><td>210</td><td>4100</td><td> 9.98044</td><td>-24.68741</td><td>NA                                   </td></tr>\n",
              "\t<tr><td>PAL0910</td><td>68</td><td>Pygoscelis antarctica)</td><td>Dream</td><td>Yes</td><td>2009-11-21</td><td>50.2</td><td>18.7</td><td>198</td><td>3775</td><td> 9.39305</td><td>-24.25255</td><td>NA                                   </td></tr>\n",
              "</tbody>\n",
              "</table>\n"
            ]
          },
          "metadata": {
            "tags": []
          }
        }
      ]
    },
    {
      "cell_type": "markdown",
      "metadata": {
        "id": "2R5aUe5xWUf6"
      },
      "source": [
        "#### Selection helpers\n",
        "\n",
        "These *selection helpers* match variables according to a given pattern.\n",
        "\n",
        "`starts_with()`: Starts with a prefix.\n",
        "\n",
        "`ends_with()`: Ends with a suffix.\n",
        "\n",
        "`contains()`: Contains a literal string.\n",
        "\n",
        "`matches()`: Matches a regular expression.\n",
        "\n",
        "\n",
        "For example: let's keep all variables that start with `s`:\n"
      ]
    },
    {
      "cell_type": "code",
      "metadata": {
        "id": "LnxuWoaPWm4E",
        "colab": {
          "base_uri": "https://localhost:8080/",
          "height": 1000
        },
        "outputId": "603f6f6f-b741-4305-dcc4-06453920e40c"
      },
      "source": [
        "select(penguins_clean, starts_with(\"s\"))"
      ],
      "execution_count": null,
      "outputs": [
        {
          "output_type": "display_data",
          "data": {
            "text/plain": [
              "    study_name sample_number species           sex   \n",
              "1   PAL0708     1            Adelie Penguin    MALE  \n",
              "2   PAL0708     2            Adelie Penguin    FEMALE\n",
              "3   PAL0708     3            Adelie Penguin    FEMALE\n",
              "4   PAL0708     4            Adelie Penguin    NA    \n",
              "5   PAL0708     5            Adelie Penguin    FEMALE\n",
              "6   PAL0708     6            Adelie Penguin    MALE  \n",
              "7   PAL0708     7            Adelie Penguin    FEMALE\n",
              "8   PAL0708     8            Adelie Penguin    MALE  \n",
              "9   PAL0708     9            Adelie Penguin    NA    \n",
              "10  PAL0708    10            Adelie Penguin    NA    \n",
              "11  PAL0708    11            Adelie Penguin    NA    \n",
              "12  PAL0708    12            Adelie Penguin    NA    \n",
              "13  PAL0708    13            Adelie Penguin    FEMALE\n",
              "14  PAL0708    14            Adelie Penguin    MALE  \n",
              "15  PAL0708    15            Adelie Penguin    MALE  \n",
              "16  PAL0708    16            Adelie Penguin    FEMALE\n",
              "17  PAL0708    17            Adelie Penguin    FEMALE\n",
              "18  PAL0708    18            Adelie Penguin    MALE  \n",
              "19  PAL0708    19            Adelie Penguin    FEMALE\n",
              "20  PAL0708    20            Adelie Penguin    MALE  \n",
              "21  PAL0708    21            Adelie Penguin    FEMALE\n",
              "22  PAL0708    22            Adelie Penguin    MALE  \n",
              "23  PAL0708    23            Adelie Penguin    FEMALE\n",
              "24  PAL0708    24            Adelie Penguin    MALE  \n",
              "25  PAL0708    25            Adelie Penguin    MALE  \n",
              "26  PAL0708    26            Adelie Penguin    FEMALE\n",
              "27  PAL0708    27            Adelie Penguin    MALE  \n",
              "28  PAL0708    28            Adelie Penguin    FEMALE\n",
              "29  PAL0708    29            Adelie Penguin    FEMALE\n",
              "30  PAL0708    30            Adelie Penguin    MALE  \n",
              "⋮   ⋮          ⋮             ⋮                 ⋮     \n",
              "315 PAL0809    39            Chinstrap penguin FEMALE\n",
              "316 PAL0809    40            Chinstrap penguin MALE  \n",
              "317 PAL0809    41            Chinstrap penguin MALE  \n",
              "318 PAL0809    42            Chinstrap penguin FEMALE\n",
              "319 PAL0809    43            Chinstrap penguin MALE  \n",
              "320 PAL0809    44            Chinstrap penguin FEMALE\n",
              "321 PAL0910    45            Chinstrap penguin FEMALE\n",
              "322 PAL0910    46            Chinstrap penguin MALE  \n",
              "323 PAL0910    47            Chinstrap penguin FEMALE\n",
              "324 PAL0910    48            Chinstrap penguin MALE  \n",
              "325 PAL0910    49            Chinstrap penguin MALE  \n",
              "326 PAL0910    50            Chinstrap penguin FEMALE\n",
              "327 PAL0910    51            Chinstrap penguin FEMALE\n",
              "328 PAL0910    52            Chinstrap penguin MALE  \n",
              "329 PAL0910    53            Chinstrap penguin FEMALE\n",
              "330 PAL0910    54            Chinstrap penguin MALE  \n",
              "331 PAL0910    55            Chinstrap penguin FEMALE\n",
              "332 PAL0910    56            Chinstrap penguin MALE  \n",
              "333 PAL0910    57            Chinstrap penguin FEMALE\n",
              "334 PAL0910    58            Chinstrap penguin MALE  \n",
              "335 PAL0910    59            Chinstrap penguin MALE  \n",
              "336 PAL0910    60            Chinstrap penguin FEMALE\n",
              "337 PAL0910    61            Chinstrap penguin MALE  \n",
              "338 PAL0910    62            Chinstrap penguin FEMALE\n",
              "339 PAL0910    63            Chinstrap penguin FEMALE\n",
              "340 PAL0910    64            Chinstrap penguin MALE  \n",
              "341 PAL0910    65            Chinstrap penguin FEMALE\n",
              "342 PAL0910    66            Chinstrap penguin MALE  \n",
              "343 PAL0910    67            Chinstrap penguin MALE  \n",
              "344 PAL0910    68            Chinstrap penguin FEMALE"
            ],
            "text/latex": "A tibble: 344 × 4\n\\begin{tabular}{llll}\n study\\_name & sample\\_number & species & sex\\\\\n <chr> & <dbl> & <chr> & <chr>\\\\\n\\hline\n\t PAL0708 &  1 & Adelie Penguin & MALE  \\\\\n\t PAL0708 &  2 & Adelie Penguin & FEMALE\\\\\n\t PAL0708 &  3 & Adelie Penguin & FEMALE\\\\\n\t PAL0708 &  4 & Adelie Penguin & NA    \\\\\n\t PAL0708 &  5 & Adelie Penguin & FEMALE\\\\\n\t PAL0708 &  6 & Adelie Penguin & MALE  \\\\\n\t PAL0708 &  7 & Adelie Penguin & FEMALE\\\\\n\t PAL0708 &  8 & Adelie Penguin & MALE  \\\\\n\t PAL0708 &  9 & Adelie Penguin & NA    \\\\\n\t PAL0708 & 10 & Adelie Penguin & NA    \\\\\n\t PAL0708 & 11 & Adelie Penguin & NA    \\\\\n\t PAL0708 & 12 & Adelie Penguin & NA    \\\\\n\t PAL0708 & 13 & Adelie Penguin & FEMALE\\\\\n\t PAL0708 & 14 & Adelie Penguin & MALE  \\\\\n\t PAL0708 & 15 & Adelie Penguin & MALE  \\\\\n\t PAL0708 & 16 & Adelie Penguin & FEMALE\\\\\n\t PAL0708 & 17 & Adelie Penguin & FEMALE\\\\\n\t PAL0708 & 18 & Adelie Penguin & MALE  \\\\\n\t PAL0708 & 19 & Adelie Penguin & FEMALE\\\\\n\t PAL0708 & 20 & Adelie Penguin & MALE  \\\\\n\t PAL0708 & 21 & Adelie Penguin & FEMALE\\\\\n\t PAL0708 & 22 & Adelie Penguin & MALE  \\\\\n\t PAL0708 & 23 & Adelie Penguin & FEMALE\\\\\n\t PAL0708 & 24 & Adelie Penguin & MALE  \\\\\n\t PAL0708 & 25 & Adelie Penguin & MALE  \\\\\n\t PAL0708 & 26 & Adelie Penguin & FEMALE\\\\\n\t PAL0708 & 27 & Adelie Penguin & MALE  \\\\\n\t PAL0708 & 28 & Adelie Penguin & FEMALE\\\\\n\t PAL0708 & 29 & Adelie Penguin & FEMALE\\\\\n\t PAL0708 & 30 & Adelie Penguin & MALE  \\\\\n\t ⋮ & ⋮ & ⋮ & ⋮\\\\\n\t PAL0809 & 39 & Chinstrap penguin & FEMALE\\\\\n\t PAL0809 & 40 & Chinstrap penguin & MALE  \\\\\n\t PAL0809 & 41 & Chinstrap penguin & MALE  \\\\\n\t PAL0809 & 42 & Chinstrap penguin & FEMALE\\\\\n\t PAL0809 & 43 & Chinstrap penguin & MALE  \\\\\n\t PAL0809 & 44 & Chinstrap penguin & FEMALE\\\\\n\t PAL0910 & 45 & Chinstrap penguin & FEMALE\\\\\n\t PAL0910 & 46 & Chinstrap penguin & MALE  \\\\\n\t PAL0910 & 47 & Chinstrap penguin & FEMALE\\\\\n\t PAL0910 & 48 & Chinstrap penguin & MALE  \\\\\n\t PAL0910 & 49 & Chinstrap penguin & MALE  \\\\\n\t PAL0910 & 50 & Chinstrap penguin & FEMALE\\\\\n\t PAL0910 & 51 & Chinstrap penguin & FEMALE\\\\\n\t PAL0910 & 52 & Chinstrap penguin & MALE  \\\\\n\t PAL0910 & 53 & Chinstrap penguin & FEMALE\\\\\n\t PAL0910 & 54 & Chinstrap penguin & MALE  \\\\\n\t PAL0910 & 55 & Chinstrap penguin & FEMALE\\\\\n\t PAL0910 & 56 & Chinstrap penguin & MALE  \\\\\n\t PAL0910 & 57 & Chinstrap penguin & FEMALE\\\\\n\t PAL0910 & 58 & Chinstrap penguin & MALE  \\\\\n\t PAL0910 & 59 & Chinstrap penguin & MALE  \\\\\n\t PAL0910 & 60 & Chinstrap penguin & FEMALE\\\\\n\t PAL0910 & 61 & Chinstrap penguin & MALE  \\\\\n\t PAL0910 & 62 & Chinstrap penguin & FEMALE\\\\\n\t PAL0910 & 63 & Chinstrap penguin & FEMALE\\\\\n\t PAL0910 & 64 & Chinstrap penguin & MALE  \\\\\n\t PAL0910 & 65 & Chinstrap penguin & FEMALE\\\\\n\t PAL0910 & 66 & Chinstrap penguin & MALE  \\\\\n\t PAL0910 & 67 & Chinstrap penguin & MALE  \\\\\n\t PAL0910 & 68 & Chinstrap penguin & FEMALE\\\\\n\\end{tabular}\n",
            "text/markdown": "\nA tibble: 344 × 4\n\n| study_name &lt;chr&gt; | sample_number &lt;dbl&gt; | species &lt;chr&gt; | sex &lt;chr&gt; |\n|---|---|---|---|\n| PAL0708 |  1 | Adelie Penguin | MALE   |\n| PAL0708 |  2 | Adelie Penguin | FEMALE |\n| PAL0708 |  3 | Adelie Penguin | FEMALE |\n| PAL0708 |  4 | Adelie Penguin | NA     |\n| PAL0708 |  5 | Adelie Penguin | FEMALE |\n| PAL0708 |  6 | Adelie Penguin | MALE   |\n| PAL0708 |  7 | Adelie Penguin | FEMALE |\n| PAL0708 |  8 | Adelie Penguin | MALE   |\n| PAL0708 |  9 | Adelie Penguin | NA     |\n| PAL0708 | 10 | Adelie Penguin | NA     |\n| PAL0708 | 11 | Adelie Penguin | NA     |\n| PAL0708 | 12 | Adelie Penguin | NA     |\n| PAL0708 | 13 | Adelie Penguin | FEMALE |\n| PAL0708 | 14 | Adelie Penguin | MALE   |\n| PAL0708 | 15 | Adelie Penguin | MALE   |\n| PAL0708 | 16 | Adelie Penguin | FEMALE |\n| PAL0708 | 17 | Adelie Penguin | FEMALE |\n| PAL0708 | 18 | Adelie Penguin | MALE   |\n| PAL0708 | 19 | Adelie Penguin | FEMALE |\n| PAL0708 | 20 | Adelie Penguin | MALE   |\n| PAL0708 | 21 | Adelie Penguin | FEMALE |\n| PAL0708 | 22 | Adelie Penguin | MALE   |\n| PAL0708 | 23 | Adelie Penguin | FEMALE |\n| PAL0708 | 24 | Adelie Penguin | MALE   |\n| PAL0708 | 25 | Adelie Penguin | MALE   |\n| PAL0708 | 26 | Adelie Penguin | FEMALE |\n| PAL0708 | 27 | Adelie Penguin | MALE   |\n| PAL0708 | 28 | Adelie Penguin | FEMALE |\n| PAL0708 | 29 | Adelie Penguin | FEMALE |\n| PAL0708 | 30 | Adelie Penguin | MALE   |\n| ⋮ | ⋮ | ⋮ | ⋮ |\n| PAL0809 | 39 | Chinstrap penguin | FEMALE |\n| PAL0809 | 40 | Chinstrap penguin | MALE   |\n| PAL0809 | 41 | Chinstrap penguin | MALE   |\n| PAL0809 | 42 | Chinstrap penguin | FEMALE |\n| PAL0809 | 43 | Chinstrap penguin | MALE   |\n| PAL0809 | 44 | Chinstrap penguin | FEMALE |\n| PAL0910 | 45 | Chinstrap penguin | FEMALE |\n| PAL0910 | 46 | Chinstrap penguin | MALE   |\n| PAL0910 | 47 | Chinstrap penguin | FEMALE |\n| PAL0910 | 48 | Chinstrap penguin | MALE   |\n| PAL0910 | 49 | Chinstrap penguin | MALE   |\n| PAL0910 | 50 | Chinstrap penguin | FEMALE |\n| PAL0910 | 51 | Chinstrap penguin | FEMALE |\n| PAL0910 | 52 | Chinstrap penguin | MALE   |\n| PAL0910 | 53 | Chinstrap penguin | FEMALE |\n| PAL0910 | 54 | Chinstrap penguin | MALE   |\n| PAL0910 | 55 | Chinstrap penguin | FEMALE |\n| PAL0910 | 56 | Chinstrap penguin | MALE   |\n| PAL0910 | 57 | Chinstrap penguin | FEMALE |\n| PAL0910 | 58 | Chinstrap penguin | MALE   |\n| PAL0910 | 59 | Chinstrap penguin | MALE   |\n| PAL0910 | 60 | Chinstrap penguin | FEMALE |\n| PAL0910 | 61 | Chinstrap penguin | MALE   |\n| PAL0910 | 62 | Chinstrap penguin | FEMALE |\n| PAL0910 | 63 | Chinstrap penguin | FEMALE |\n| PAL0910 | 64 | Chinstrap penguin | MALE   |\n| PAL0910 | 65 | Chinstrap penguin | FEMALE |\n| PAL0910 | 66 | Chinstrap penguin | MALE   |\n| PAL0910 | 67 | Chinstrap penguin | MALE   |\n| PAL0910 | 68 | Chinstrap penguin | FEMALE |\n\n",
            "text/html": [
              "<table class=\"dataframe\">\n",
              "<caption>A tibble: 344 × 4</caption>\n",
              "<thead>\n",
              "\t<tr><th scope=col>study_name</th><th scope=col>sample_number</th><th scope=col>species</th><th scope=col>sex</th></tr>\n",
              "\t<tr><th scope=col>&lt;chr&gt;</th><th scope=col>&lt;dbl&gt;</th><th scope=col>&lt;chr&gt;</th><th scope=col>&lt;chr&gt;</th></tr>\n",
              "</thead>\n",
              "<tbody>\n",
              "\t<tr><td>PAL0708</td><td> 1</td><td>Adelie Penguin</td><td>MALE  </td></tr>\n",
              "\t<tr><td>PAL0708</td><td> 2</td><td>Adelie Penguin</td><td>FEMALE</td></tr>\n",
              "\t<tr><td>PAL0708</td><td> 3</td><td>Adelie Penguin</td><td>FEMALE</td></tr>\n",
              "\t<tr><td>PAL0708</td><td> 4</td><td>Adelie Penguin</td><td>NA    </td></tr>\n",
              "\t<tr><td>PAL0708</td><td> 5</td><td>Adelie Penguin</td><td>FEMALE</td></tr>\n",
              "\t<tr><td>PAL0708</td><td> 6</td><td>Adelie Penguin</td><td>MALE  </td></tr>\n",
              "\t<tr><td>PAL0708</td><td> 7</td><td>Adelie Penguin</td><td>FEMALE</td></tr>\n",
              "\t<tr><td>PAL0708</td><td> 8</td><td>Adelie Penguin</td><td>MALE  </td></tr>\n",
              "\t<tr><td>PAL0708</td><td> 9</td><td>Adelie Penguin</td><td>NA    </td></tr>\n",
              "\t<tr><td>PAL0708</td><td>10</td><td>Adelie Penguin</td><td>NA    </td></tr>\n",
              "\t<tr><td>PAL0708</td><td>11</td><td>Adelie Penguin</td><td>NA    </td></tr>\n",
              "\t<tr><td>PAL0708</td><td>12</td><td>Adelie Penguin</td><td>NA    </td></tr>\n",
              "\t<tr><td>PAL0708</td><td>13</td><td>Adelie Penguin</td><td>FEMALE</td></tr>\n",
              "\t<tr><td>PAL0708</td><td>14</td><td>Adelie Penguin</td><td>MALE  </td></tr>\n",
              "\t<tr><td>PAL0708</td><td>15</td><td>Adelie Penguin</td><td>MALE  </td></tr>\n",
              "\t<tr><td>PAL0708</td><td>16</td><td>Adelie Penguin</td><td>FEMALE</td></tr>\n",
              "\t<tr><td>PAL0708</td><td>17</td><td>Adelie Penguin</td><td>FEMALE</td></tr>\n",
              "\t<tr><td>PAL0708</td><td>18</td><td>Adelie Penguin</td><td>MALE  </td></tr>\n",
              "\t<tr><td>PAL0708</td><td>19</td><td>Adelie Penguin</td><td>FEMALE</td></tr>\n",
              "\t<tr><td>PAL0708</td><td>20</td><td>Adelie Penguin</td><td>MALE  </td></tr>\n",
              "\t<tr><td>PAL0708</td><td>21</td><td>Adelie Penguin</td><td>FEMALE</td></tr>\n",
              "\t<tr><td>PAL0708</td><td>22</td><td>Adelie Penguin</td><td>MALE  </td></tr>\n",
              "\t<tr><td>PAL0708</td><td>23</td><td>Adelie Penguin</td><td>FEMALE</td></tr>\n",
              "\t<tr><td>PAL0708</td><td>24</td><td>Adelie Penguin</td><td>MALE  </td></tr>\n",
              "\t<tr><td>PAL0708</td><td>25</td><td>Adelie Penguin</td><td>MALE  </td></tr>\n",
              "\t<tr><td>PAL0708</td><td>26</td><td>Adelie Penguin</td><td>FEMALE</td></tr>\n",
              "\t<tr><td>PAL0708</td><td>27</td><td>Adelie Penguin</td><td>MALE  </td></tr>\n",
              "\t<tr><td>PAL0708</td><td>28</td><td>Adelie Penguin</td><td>FEMALE</td></tr>\n",
              "\t<tr><td>PAL0708</td><td>29</td><td>Adelie Penguin</td><td>FEMALE</td></tr>\n",
              "\t<tr><td>PAL0708</td><td>30</td><td>Adelie Penguin</td><td>MALE  </td></tr>\n",
              "\t<tr><td>⋮</td><td>⋮</td><td>⋮</td><td>⋮</td></tr>\n",
              "\t<tr><td>PAL0809</td><td>39</td><td>Chinstrap penguin</td><td>FEMALE</td></tr>\n",
              "\t<tr><td>PAL0809</td><td>40</td><td>Chinstrap penguin</td><td>MALE  </td></tr>\n",
              "\t<tr><td>PAL0809</td><td>41</td><td>Chinstrap penguin</td><td>MALE  </td></tr>\n",
              "\t<tr><td>PAL0809</td><td>42</td><td>Chinstrap penguin</td><td>FEMALE</td></tr>\n",
              "\t<tr><td>PAL0809</td><td>43</td><td>Chinstrap penguin</td><td>MALE  </td></tr>\n",
              "\t<tr><td>PAL0809</td><td>44</td><td>Chinstrap penguin</td><td>FEMALE</td></tr>\n",
              "\t<tr><td>PAL0910</td><td>45</td><td>Chinstrap penguin</td><td>FEMALE</td></tr>\n",
              "\t<tr><td>PAL0910</td><td>46</td><td>Chinstrap penguin</td><td>MALE  </td></tr>\n",
              "\t<tr><td>PAL0910</td><td>47</td><td>Chinstrap penguin</td><td>FEMALE</td></tr>\n",
              "\t<tr><td>PAL0910</td><td>48</td><td>Chinstrap penguin</td><td>MALE  </td></tr>\n",
              "\t<tr><td>PAL0910</td><td>49</td><td>Chinstrap penguin</td><td>MALE  </td></tr>\n",
              "\t<tr><td>PAL0910</td><td>50</td><td>Chinstrap penguin</td><td>FEMALE</td></tr>\n",
              "\t<tr><td>PAL0910</td><td>51</td><td>Chinstrap penguin</td><td>FEMALE</td></tr>\n",
              "\t<tr><td>PAL0910</td><td>52</td><td>Chinstrap penguin</td><td>MALE  </td></tr>\n",
              "\t<tr><td>PAL0910</td><td>53</td><td>Chinstrap penguin</td><td>FEMALE</td></tr>\n",
              "\t<tr><td>PAL0910</td><td>54</td><td>Chinstrap penguin</td><td>MALE  </td></tr>\n",
              "\t<tr><td>PAL0910</td><td>55</td><td>Chinstrap penguin</td><td>FEMALE</td></tr>\n",
              "\t<tr><td>PAL0910</td><td>56</td><td>Chinstrap penguin</td><td>MALE  </td></tr>\n",
              "\t<tr><td>PAL0910</td><td>57</td><td>Chinstrap penguin</td><td>FEMALE</td></tr>\n",
              "\t<tr><td>PAL0910</td><td>58</td><td>Chinstrap penguin</td><td>MALE  </td></tr>\n",
              "\t<tr><td>PAL0910</td><td>59</td><td>Chinstrap penguin</td><td>MALE  </td></tr>\n",
              "\t<tr><td>PAL0910</td><td>60</td><td>Chinstrap penguin</td><td>FEMALE</td></tr>\n",
              "\t<tr><td>PAL0910</td><td>61</td><td>Chinstrap penguin</td><td>MALE  </td></tr>\n",
              "\t<tr><td>PAL0910</td><td>62</td><td>Chinstrap penguin</td><td>FEMALE</td></tr>\n",
              "\t<tr><td>PAL0910</td><td>63</td><td>Chinstrap penguin</td><td>FEMALE</td></tr>\n",
              "\t<tr><td>PAL0910</td><td>64</td><td>Chinstrap penguin</td><td>MALE  </td></tr>\n",
              "\t<tr><td>PAL0910</td><td>65</td><td>Chinstrap penguin</td><td>FEMALE</td></tr>\n",
              "\t<tr><td>PAL0910</td><td>66</td><td>Chinstrap penguin</td><td>MALE  </td></tr>\n",
              "\t<tr><td>PAL0910</td><td>67</td><td>Chinstrap penguin</td><td>MALE  </td></tr>\n",
              "\t<tr><td>PAL0910</td><td>68</td><td>Chinstrap penguin</td><td>FEMALE</td></tr>\n",
              "</tbody>\n",
              "</table>\n"
            ]
          },
          "metadata": {
            "tags": []
          }
        }
      ]
    },
    {
      "cell_type": "markdown",
      "metadata": {
        "id": "_BkoGUq_jwrY"
      },
      "source": [
        "#### Even more ways to select\n",
        "\n",
        "Select the first 5 variables:"
      ]
    },
    {
      "cell_type": "code",
      "metadata": {
        "id": "d-I90fcKjzfb",
        "colab": {
          "base_uri": "https://localhost:8080/",
          "height": 1000
        },
        "outputId": "cb9a3210-86fa-416c-b508-953d83062ace"
      },
      "source": [
        "select(penguins_clean, 1:5)"
      ],
      "execution_count": null,
      "outputs": [
        {
          "output_type": "display_data",
          "data": {
            "text/plain": [
              "    study_name sample_number species           latin_name             island   \n",
              "1   PAL0708     1            Adelie Penguin    Pygoscelis adeliae)    Torgersen\n",
              "2   PAL0708     2            Adelie Penguin    Pygoscelis adeliae)    Torgersen\n",
              "3   PAL0708     3            Adelie Penguin    Pygoscelis adeliae)    Torgersen\n",
              "4   PAL0708     4            Adelie Penguin    Pygoscelis adeliae)    Torgersen\n",
              "5   PAL0708     5            Adelie Penguin    Pygoscelis adeliae)    Torgersen\n",
              "6   PAL0708     6            Adelie Penguin    Pygoscelis adeliae)    Torgersen\n",
              "7   PAL0708     7            Adelie Penguin    Pygoscelis adeliae)    Torgersen\n",
              "8   PAL0708     8            Adelie Penguin    Pygoscelis adeliae)    Torgersen\n",
              "9   PAL0708     9            Adelie Penguin    Pygoscelis adeliae)    Torgersen\n",
              "10  PAL0708    10            Adelie Penguin    Pygoscelis adeliae)    Torgersen\n",
              "11  PAL0708    11            Adelie Penguin    Pygoscelis adeliae)    Torgersen\n",
              "12  PAL0708    12            Adelie Penguin    Pygoscelis adeliae)    Torgersen\n",
              "13  PAL0708    13            Adelie Penguin    Pygoscelis adeliae)    Torgersen\n",
              "14  PAL0708    14            Adelie Penguin    Pygoscelis adeliae)    Torgersen\n",
              "15  PAL0708    15            Adelie Penguin    Pygoscelis adeliae)    Torgersen\n",
              "16  PAL0708    16            Adelie Penguin    Pygoscelis adeliae)    Torgersen\n",
              "17  PAL0708    17            Adelie Penguin    Pygoscelis adeliae)    Torgersen\n",
              "18  PAL0708    18            Adelie Penguin    Pygoscelis adeliae)    Torgersen\n",
              "19  PAL0708    19            Adelie Penguin    Pygoscelis adeliae)    Torgersen\n",
              "20  PAL0708    20            Adelie Penguin    Pygoscelis adeliae)    Torgersen\n",
              "21  PAL0708    21            Adelie Penguin    Pygoscelis adeliae)    Biscoe   \n",
              "22  PAL0708    22            Adelie Penguin    Pygoscelis adeliae)    Biscoe   \n",
              "23  PAL0708    23            Adelie Penguin    Pygoscelis adeliae)    Biscoe   \n",
              "24  PAL0708    24            Adelie Penguin    Pygoscelis adeliae)    Biscoe   \n",
              "25  PAL0708    25            Adelie Penguin    Pygoscelis adeliae)    Biscoe   \n",
              "26  PAL0708    26            Adelie Penguin    Pygoscelis adeliae)    Biscoe   \n",
              "27  PAL0708    27            Adelie Penguin    Pygoscelis adeliae)    Biscoe   \n",
              "28  PAL0708    28            Adelie Penguin    Pygoscelis adeliae)    Biscoe   \n",
              "29  PAL0708    29            Adelie Penguin    Pygoscelis adeliae)    Biscoe   \n",
              "30  PAL0708    30            Adelie Penguin    Pygoscelis adeliae)    Biscoe   \n",
              "⋮   ⋮          ⋮             ⋮                 ⋮                      ⋮        \n",
              "315 PAL0809    39            Chinstrap penguin Pygoscelis antarctica) Dream    \n",
              "316 PAL0809    40            Chinstrap penguin Pygoscelis antarctica) Dream    \n",
              "317 PAL0809    41            Chinstrap penguin Pygoscelis antarctica) Dream    \n",
              "318 PAL0809    42            Chinstrap penguin Pygoscelis antarctica) Dream    \n",
              "319 PAL0809    43            Chinstrap penguin Pygoscelis antarctica) Dream    \n",
              "320 PAL0809    44            Chinstrap penguin Pygoscelis antarctica) Dream    \n",
              "321 PAL0910    45            Chinstrap penguin Pygoscelis antarctica) Dream    \n",
              "322 PAL0910    46            Chinstrap penguin Pygoscelis antarctica) Dream    \n",
              "323 PAL0910    47            Chinstrap penguin Pygoscelis antarctica) Dream    \n",
              "324 PAL0910    48            Chinstrap penguin Pygoscelis antarctica) Dream    \n",
              "325 PAL0910    49            Chinstrap penguin Pygoscelis antarctica) Dream    \n",
              "326 PAL0910    50            Chinstrap penguin Pygoscelis antarctica) Dream    \n",
              "327 PAL0910    51            Chinstrap penguin Pygoscelis antarctica) Dream    \n",
              "328 PAL0910    52            Chinstrap penguin Pygoscelis antarctica) Dream    \n",
              "329 PAL0910    53            Chinstrap penguin Pygoscelis antarctica) Dream    \n",
              "330 PAL0910    54            Chinstrap penguin Pygoscelis antarctica) Dream    \n",
              "331 PAL0910    55            Chinstrap penguin Pygoscelis antarctica) Dream    \n",
              "332 PAL0910    56            Chinstrap penguin Pygoscelis antarctica) Dream    \n",
              "333 PAL0910    57            Chinstrap penguin Pygoscelis antarctica) Dream    \n",
              "334 PAL0910    58            Chinstrap penguin Pygoscelis antarctica) Dream    \n",
              "335 PAL0910    59            Chinstrap penguin Pygoscelis antarctica) Dream    \n",
              "336 PAL0910    60            Chinstrap penguin Pygoscelis antarctica) Dream    \n",
              "337 PAL0910    61            Chinstrap penguin Pygoscelis antarctica) Dream    \n",
              "338 PAL0910    62            Chinstrap penguin Pygoscelis antarctica) Dream    \n",
              "339 PAL0910    63            Chinstrap penguin Pygoscelis antarctica) Dream    \n",
              "340 PAL0910    64            Chinstrap penguin Pygoscelis antarctica) Dream    \n",
              "341 PAL0910    65            Chinstrap penguin Pygoscelis antarctica) Dream    \n",
              "342 PAL0910    66            Chinstrap penguin Pygoscelis antarctica) Dream    \n",
              "343 PAL0910    67            Chinstrap penguin Pygoscelis antarctica) Dream    \n",
              "344 PAL0910    68            Chinstrap penguin Pygoscelis antarctica) Dream    "
            ],
            "text/latex": "A tibble: 344 × 5\n\\begin{tabular}{lllll}\n study\\_name & sample\\_number & species & latin\\_name & island\\\\\n <chr> & <dbl> & <chr> & <chr> & <chr>\\\\\n\\hline\n\t PAL0708 &  1 & Adelie Penguin & Pygoscelis adeliae) & Torgersen\\\\\n\t PAL0708 &  2 & Adelie Penguin & Pygoscelis adeliae) & Torgersen\\\\\n\t PAL0708 &  3 & Adelie Penguin & Pygoscelis adeliae) & Torgersen\\\\\n\t PAL0708 &  4 & Adelie Penguin & Pygoscelis adeliae) & Torgersen\\\\\n\t PAL0708 &  5 & Adelie Penguin & Pygoscelis adeliae) & Torgersen\\\\\n\t PAL0708 &  6 & Adelie Penguin & Pygoscelis adeliae) & Torgersen\\\\\n\t PAL0708 &  7 & Adelie Penguin & Pygoscelis adeliae) & Torgersen\\\\\n\t PAL0708 &  8 & Adelie Penguin & Pygoscelis adeliae) & Torgersen\\\\\n\t PAL0708 &  9 & Adelie Penguin & Pygoscelis adeliae) & Torgersen\\\\\n\t PAL0708 & 10 & Adelie Penguin & Pygoscelis adeliae) & Torgersen\\\\\n\t PAL0708 & 11 & Adelie Penguin & Pygoscelis adeliae) & Torgersen\\\\\n\t PAL0708 & 12 & Adelie Penguin & Pygoscelis adeliae) & Torgersen\\\\\n\t PAL0708 & 13 & Adelie Penguin & Pygoscelis adeliae) & Torgersen\\\\\n\t PAL0708 & 14 & Adelie Penguin & Pygoscelis adeliae) & Torgersen\\\\\n\t PAL0708 & 15 & Adelie Penguin & Pygoscelis adeliae) & Torgersen\\\\\n\t PAL0708 & 16 & Adelie Penguin & Pygoscelis adeliae) & Torgersen\\\\\n\t PAL0708 & 17 & Adelie Penguin & Pygoscelis adeliae) & Torgersen\\\\\n\t PAL0708 & 18 & Adelie Penguin & Pygoscelis adeliae) & Torgersen\\\\\n\t PAL0708 & 19 & Adelie Penguin & Pygoscelis adeliae) & Torgersen\\\\\n\t PAL0708 & 20 & Adelie Penguin & Pygoscelis adeliae) & Torgersen\\\\\n\t PAL0708 & 21 & Adelie Penguin & Pygoscelis adeliae) & Biscoe   \\\\\n\t PAL0708 & 22 & Adelie Penguin & Pygoscelis adeliae) & Biscoe   \\\\\n\t PAL0708 & 23 & Adelie Penguin & Pygoscelis adeliae) & Biscoe   \\\\\n\t PAL0708 & 24 & Adelie Penguin & Pygoscelis adeliae) & Biscoe   \\\\\n\t PAL0708 & 25 & Adelie Penguin & Pygoscelis adeliae) & Biscoe   \\\\\n\t PAL0708 & 26 & Adelie Penguin & Pygoscelis adeliae) & Biscoe   \\\\\n\t PAL0708 & 27 & Adelie Penguin & Pygoscelis adeliae) & Biscoe   \\\\\n\t PAL0708 & 28 & Adelie Penguin & Pygoscelis adeliae) & Biscoe   \\\\\n\t PAL0708 & 29 & Adelie Penguin & Pygoscelis adeliae) & Biscoe   \\\\\n\t PAL0708 & 30 & Adelie Penguin & Pygoscelis adeliae) & Biscoe   \\\\\n\t ⋮ & ⋮ & ⋮ & ⋮ & ⋮\\\\\n\t PAL0809 & 39 & Chinstrap penguin & Pygoscelis antarctica) & Dream\\\\\n\t PAL0809 & 40 & Chinstrap penguin & Pygoscelis antarctica) & Dream\\\\\n\t PAL0809 & 41 & Chinstrap penguin & Pygoscelis antarctica) & Dream\\\\\n\t PAL0809 & 42 & Chinstrap penguin & Pygoscelis antarctica) & Dream\\\\\n\t PAL0809 & 43 & Chinstrap penguin & Pygoscelis antarctica) & Dream\\\\\n\t PAL0809 & 44 & Chinstrap penguin & Pygoscelis antarctica) & Dream\\\\\n\t PAL0910 & 45 & Chinstrap penguin & Pygoscelis antarctica) & Dream\\\\\n\t PAL0910 & 46 & Chinstrap penguin & Pygoscelis antarctica) & Dream\\\\\n\t PAL0910 & 47 & Chinstrap penguin & Pygoscelis antarctica) & Dream\\\\\n\t PAL0910 & 48 & Chinstrap penguin & Pygoscelis antarctica) & Dream\\\\\n\t PAL0910 & 49 & Chinstrap penguin & Pygoscelis antarctica) & Dream\\\\\n\t PAL0910 & 50 & Chinstrap penguin & Pygoscelis antarctica) & Dream\\\\\n\t PAL0910 & 51 & Chinstrap penguin & Pygoscelis antarctica) & Dream\\\\\n\t PAL0910 & 52 & Chinstrap penguin & Pygoscelis antarctica) & Dream\\\\\n\t PAL0910 & 53 & Chinstrap penguin & Pygoscelis antarctica) & Dream\\\\\n\t PAL0910 & 54 & Chinstrap penguin & Pygoscelis antarctica) & Dream\\\\\n\t PAL0910 & 55 & Chinstrap penguin & Pygoscelis antarctica) & Dream\\\\\n\t PAL0910 & 56 & Chinstrap penguin & Pygoscelis antarctica) & Dream\\\\\n\t PAL0910 & 57 & Chinstrap penguin & Pygoscelis antarctica) & Dream\\\\\n\t PAL0910 & 58 & Chinstrap penguin & Pygoscelis antarctica) & Dream\\\\\n\t PAL0910 & 59 & Chinstrap penguin & Pygoscelis antarctica) & Dream\\\\\n\t PAL0910 & 60 & Chinstrap penguin & Pygoscelis antarctica) & Dream\\\\\n\t PAL0910 & 61 & Chinstrap penguin & Pygoscelis antarctica) & Dream\\\\\n\t PAL0910 & 62 & Chinstrap penguin & Pygoscelis antarctica) & Dream\\\\\n\t PAL0910 & 63 & Chinstrap penguin & Pygoscelis antarctica) & Dream\\\\\n\t PAL0910 & 64 & Chinstrap penguin & Pygoscelis antarctica) & Dream\\\\\n\t PAL0910 & 65 & Chinstrap penguin & Pygoscelis antarctica) & Dream\\\\\n\t PAL0910 & 66 & Chinstrap penguin & Pygoscelis antarctica) & Dream\\\\\n\t PAL0910 & 67 & Chinstrap penguin & Pygoscelis antarctica) & Dream\\\\\n\t PAL0910 & 68 & Chinstrap penguin & Pygoscelis antarctica) & Dream\\\\\n\\end{tabular}\n",
            "text/markdown": "\nA tibble: 344 × 5\n\n| study_name &lt;chr&gt; | sample_number &lt;dbl&gt; | species &lt;chr&gt; | latin_name &lt;chr&gt; | island &lt;chr&gt; |\n|---|---|---|---|---|\n| PAL0708 |  1 | Adelie Penguin | Pygoscelis adeliae) | Torgersen |\n| PAL0708 |  2 | Adelie Penguin | Pygoscelis adeliae) | Torgersen |\n| PAL0708 |  3 | Adelie Penguin | Pygoscelis adeliae) | Torgersen |\n| PAL0708 |  4 | Adelie Penguin | Pygoscelis adeliae) | Torgersen |\n| PAL0708 |  5 | Adelie Penguin | Pygoscelis adeliae) | Torgersen |\n| PAL0708 |  6 | Adelie Penguin | Pygoscelis adeliae) | Torgersen |\n| PAL0708 |  7 | Adelie Penguin | Pygoscelis adeliae) | Torgersen |\n| PAL0708 |  8 | Adelie Penguin | Pygoscelis adeliae) | Torgersen |\n| PAL0708 |  9 | Adelie Penguin | Pygoscelis adeliae) | Torgersen |\n| PAL0708 | 10 | Adelie Penguin | Pygoscelis adeliae) | Torgersen |\n| PAL0708 | 11 | Adelie Penguin | Pygoscelis adeliae) | Torgersen |\n| PAL0708 | 12 | Adelie Penguin | Pygoscelis adeliae) | Torgersen |\n| PAL0708 | 13 | Adelie Penguin | Pygoscelis adeliae) | Torgersen |\n| PAL0708 | 14 | Adelie Penguin | Pygoscelis adeliae) | Torgersen |\n| PAL0708 | 15 | Adelie Penguin | Pygoscelis adeliae) | Torgersen |\n| PAL0708 | 16 | Adelie Penguin | Pygoscelis adeliae) | Torgersen |\n| PAL0708 | 17 | Adelie Penguin | Pygoscelis adeliae) | Torgersen |\n| PAL0708 | 18 | Adelie Penguin | Pygoscelis adeliae) | Torgersen |\n| PAL0708 | 19 | Adelie Penguin | Pygoscelis adeliae) | Torgersen |\n| PAL0708 | 20 | Adelie Penguin | Pygoscelis adeliae) | Torgersen |\n| PAL0708 | 21 | Adelie Penguin | Pygoscelis adeliae) | Biscoe    |\n| PAL0708 | 22 | Adelie Penguin | Pygoscelis adeliae) | Biscoe    |\n| PAL0708 | 23 | Adelie Penguin | Pygoscelis adeliae) | Biscoe    |\n| PAL0708 | 24 | Adelie Penguin | Pygoscelis adeliae) | Biscoe    |\n| PAL0708 | 25 | Adelie Penguin | Pygoscelis adeliae) | Biscoe    |\n| PAL0708 | 26 | Adelie Penguin | Pygoscelis adeliae) | Biscoe    |\n| PAL0708 | 27 | Adelie Penguin | Pygoscelis adeliae) | Biscoe    |\n| PAL0708 | 28 | Adelie Penguin | Pygoscelis adeliae) | Biscoe    |\n| PAL0708 | 29 | Adelie Penguin | Pygoscelis adeliae) | Biscoe    |\n| PAL0708 | 30 | Adelie Penguin | Pygoscelis adeliae) | Biscoe    |\n| ⋮ | ⋮ | ⋮ | ⋮ | ⋮ |\n| PAL0809 | 39 | Chinstrap penguin | Pygoscelis antarctica) | Dream |\n| PAL0809 | 40 | Chinstrap penguin | Pygoscelis antarctica) | Dream |\n| PAL0809 | 41 | Chinstrap penguin | Pygoscelis antarctica) | Dream |\n| PAL0809 | 42 | Chinstrap penguin | Pygoscelis antarctica) | Dream |\n| PAL0809 | 43 | Chinstrap penguin | Pygoscelis antarctica) | Dream |\n| PAL0809 | 44 | Chinstrap penguin | Pygoscelis antarctica) | Dream |\n| PAL0910 | 45 | Chinstrap penguin | Pygoscelis antarctica) | Dream |\n| PAL0910 | 46 | Chinstrap penguin | Pygoscelis antarctica) | Dream |\n| PAL0910 | 47 | Chinstrap penguin | Pygoscelis antarctica) | Dream |\n| PAL0910 | 48 | Chinstrap penguin | Pygoscelis antarctica) | Dream |\n| PAL0910 | 49 | Chinstrap penguin | Pygoscelis antarctica) | Dream |\n| PAL0910 | 50 | Chinstrap penguin | Pygoscelis antarctica) | Dream |\n| PAL0910 | 51 | Chinstrap penguin | Pygoscelis antarctica) | Dream |\n| PAL0910 | 52 | Chinstrap penguin | Pygoscelis antarctica) | Dream |\n| PAL0910 | 53 | Chinstrap penguin | Pygoscelis antarctica) | Dream |\n| PAL0910 | 54 | Chinstrap penguin | Pygoscelis antarctica) | Dream |\n| PAL0910 | 55 | Chinstrap penguin | Pygoscelis antarctica) | Dream |\n| PAL0910 | 56 | Chinstrap penguin | Pygoscelis antarctica) | Dream |\n| PAL0910 | 57 | Chinstrap penguin | Pygoscelis antarctica) | Dream |\n| PAL0910 | 58 | Chinstrap penguin | Pygoscelis antarctica) | Dream |\n| PAL0910 | 59 | Chinstrap penguin | Pygoscelis antarctica) | Dream |\n| PAL0910 | 60 | Chinstrap penguin | Pygoscelis antarctica) | Dream |\n| PAL0910 | 61 | Chinstrap penguin | Pygoscelis antarctica) | Dream |\n| PAL0910 | 62 | Chinstrap penguin | Pygoscelis antarctica) | Dream |\n| PAL0910 | 63 | Chinstrap penguin | Pygoscelis antarctica) | Dream |\n| PAL0910 | 64 | Chinstrap penguin | Pygoscelis antarctica) | Dream |\n| PAL0910 | 65 | Chinstrap penguin | Pygoscelis antarctica) | Dream |\n| PAL0910 | 66 | Chinstrap penguin | Pygoscelis antarctica) | Dream |\n| PAL0910 | 67 | Chinstrap penguin | Pygoscelis antarctica) | Dream |\n| PAL0910 | 68 | Chinstrap penguin | Pygoscelis antarctica) | Dream |\n\n",
            "text/html": [
              "<table class=\"dataframe\">\n",
              "<caption>A tibble: 344 × 5</caption>\n",
              "<thead>\n",
              "\t<tr><th scope=col>study_name</th><th scope=col>sample_number</th><th scope=col>species</th><th scope=col>latin_name</th><th scope=col>island</th></tr>\n",
              "\t<tr><th scope=col>&lt;chr&gt;</th><th scope=col>&lt;dbl&gt;</th><th scope=col>&lt;chr&gt;</th><th scope=col>&lt;chr&gt;</th><th scope=col>&lt;chr&gt;</th></tr>\n",
              "</thead>\n",
              "<tbody>\n",
              "\t<tr><td>PAL0708</td><td> 1</td><td>Adelie Penguin</td><td>Pygoscelis adeliae)</td><td>Torgersen</td></tr>\n",
              "\t<tr><td>PAL0708</td><td> 2</td><td>Adelie Penguin</td><td>Pygoscelis adeliae)</td><td>Torgersen</td></tr>\n",
              "\t<tr><td>PAL0708</td><td> 3</td><td>Adelie Penguin</td><td>Pygoscelis adeliae)</td><td>Torgersen</td></tr>\n",
              "\t<tr><td>PAL0708</td><td> 4</td><td>Adelie Penguin</td><td>Pygoscelis adeliae)</td><td>Torgersen</td></tr>\n",
              "\t<tr><td>PAL0708</td><td> 5</td><td>Adelie Penguin</td><td>Pygoscelis adeliae)</td><td>Torgersen</td></tr>\n",
              "\t<tr><td>PAL0708</td><td> 6</td><td>Adelie Penguin</td><td>Pygoscelis adeliae)</td><td>Torgersen</td></tr>\n",
              "\t<tr><td>PAL0708</td><td> 7</td><td>Adelie Penguin</td><td>Pygoscelis adeliae)</td><td>Torgersen</td></tr>\n",
              "\t<tr><td>PAL0708</td><td> 8</td><td>Adelie Penguin</td><td>Pygoscelis adeliae)</td><td>Torgersen</td></tr>\n",
              "\t<tr><td>PAL0708</td><td> 9</td><td>Adelie Penguin</td><td>Pygoscelis adeliae)</td><td>Torgersen</td></tr>\n",
              "\t<tr><td>PAL0708</td><td>10</td><td>Adelie Penguin</td><td>Pygoscelis adeliae)</td><td>Torgersen</td></tr>\n",
              "\t<tr><td>PAL0708</td><td>11</td><td>Adelie Penguin</td><td>Pygoscelis adeliae)</td><td>Torgersen</td></tr>\n",
              "\t<tr><td>PAL0708</td><td>12</td><td>Adelie Penguin</td><td>Pygoscelis adeliae)</td><td>Torgersen</td></tr>\n",
              "\t<tr><td>PAL0708</td><td>13</td><td>Adelie Penguin</td><td>Pygoscelis adeliae)</td><td>Torgersen</td></tr>\n",
              "\t<tr><td>PAL0708</td><td>14</td><td>Adelie Penguin</td><td>Pygoscelis adeliae)</td><td>Torgersen</td></tr>\n",
              "\t<tr><td>PAL0708</td><td>15</td><td>Adelie Penguin</td><td>Pygoscelis adeliae)</td><td>Torgersen</td></tr>\n",
              "\t<tr><td>PAL0708</td><td>16</td><td>Adelie Penguin</td><td>Pygoscelis adeliae)</td><td>Torgersen</td></tr>\n",
              "\t<tr><td>PAL0708</td><td>17</td><td>Adelie Penguin</td><td>Pygoscelis adeliae)</td><td>Torgersen</td></tr>\n",
              "\t<tr><td>PAL0708</td><td>18</td><td>Adelie Penguin</td><td>Pygoscelis adeliae)</td><td>Torgersen</td></tr>\n",
              "\t<tr><td>PAL0708</td><td>19</td><td>Adelie Penguin</td><td>Pygoscelis adeliae)</td><td>Torgersen</td></tr>\n",
              "\t<tr><td>PAL0708</td><td>20</td><td>Adelie Penguin</td><td>Pygoscelis adeliae)</td><td>Torgersen</td></tr>\n",
              "\t<tr><td>PAL0708</td><td>21</td><td>Adelie Penguin</td><td>Pygoscelis adeliae)</td><td>Biscoe   </td></tr>\n",
              "\t<tr><td>PAL0708</td><td>22</td><td>Adelie Penguin</td><td>Pygoscelis adeliae)</td><td>Biscoe   </td></tr>\n",
              "\t<tr><td>PAL0708</td><td>23</td><td>Adelie Penguin</td><td>Pygoscelis adeliae)</td><td>Biscoe   </td></tr>\n",
              "\t<tr><td>PAL0708</td><td>24</td><td>Adelie Penguin</td><td>Pygoscelis adeliae)</td><td>Biscoe   </td></tr>\n",
              "\t<tr><td>PAL0708</td><td>25</td><td>Adelie Penguin</td><td>Pygoscelis adeliae)</td><td>Biscoe   </td></tr>\n",
              "\t<tr><td>PAL0708</td><td>26</td><td>Adelie Penguin</td><td>Pygoscelis adeliae)</td><td>Biscoe   </td></tr>\n",
              "\t<tr><td>PAL0708</td><td>27</td><td>Adelie Penguin</td><td>Pygoscelis adeliae)</td><td>Biscoe   </td></tr>\n",
              "\t<tr><td>PAL0708</td><td>28</td><td>Adelie Penguin</td><td>Pygoscelis adeliae)</td><td>Biscoe   </td></tr>\n",
              "\t<tr><td>PAL0708</td><td>29</td><td>Adelie Penguin</td><td>Pygoscelis adeliae)</td><td>Biscoe   </td></tr>\n",
              "\t<tr><td>PAL0708</td><td>30</td><td>Adelie Penguin</td><td>Pygoscelis adeliae)</td><td>Biscoe   </td></tr>\n",
              "\t<tr><td>⋮</td><td>⋮</td><td>⋮</td><td>⋮</td><td>⋮</td></tr>\n",
              "\t<tr><td>PAL0809</td><td>39</td><td>Chinstrap penguin</td><td>Pygoscelis antarctica)</td><td>Dream</td></tr>\n",
              "\t<tr><td>PAL0809</td><td>40</td><td>Chinstrap penguin</td><td>Pygoscelis antarctica)</td><td>Dream</td></tr>\n",
              "\t<tr><td>PAL0809</td><td>41</td><td>Chinstrap penguin</td><td>Pygoscelis antarctica)</td><td>Dream</td></tr>\n",
              "\t<tr><td>PAL0809</td><td>42</td><td>Chinstrap penguin</td><td>Pygoscelis antarctica)</td><td>Dream</td></tr>\n",
              "\t<tr><td>PAL0809</td><td>43</td><td>Chinstrap penguin</td><td>Pygoscelis antarctica)</td><td>Dream</td></tr>\n",
              "\t<tr><td>PAL0809</td><td>44</td><td>Chinstrap penguin</td><td>Pygoscelis antarctica)</td><td>Dream</td></tr>\n",
              "\t<tr><td>PAL0910</td><td>45</td><td>Chinstrap penguin</td><td>Pygoscelis antarctica)</td><td>Dream</td></tr>\n",
              "\t<tr><td>PAL0910</td><td>46</td><td>Chinstrap penguin</td><td>Pygoscelis antarctica)</td><td>Dream</td></tr>\n",
              "\t<tr><td>PAL0910</td><td>47</td><td>Chinstrap penguin</td><td>Pygoscelis antarctica)</td><td>Dream</td></tr>\n",
              "\t<tr><td>PAL0910</td><td>48</td><td>Chinstrap penguin</td><td>Pygoscelis antarctica)</td><td>Dream</td></tr>\n",
              "\t<tr><td>PAL0910</td><td>49</td><td>Chinstrap penguin</td><td>Pygoscelis antarctica)</td><td>Dream</td></tr>\n",
              "\t<tr><td>PAL0910</td><td>50</td><td>Chinstrap penguin</td><td>Pygoscelis antarctica)</td><td>Dream</td></tr>\n",
              "\t<tr><td>PAL0910</td><td>51</td><td>Chinstrap penguin</td><td>Pygoscelis antarctica)</td><td>Dream</td></tr>\n",
              "\t<tr><td>PAL0910</td><td>52</td><td>Chinstrap penguin</td><td>Pygoscelis antarctica)</td><td>Dream</td></tr>\n",
              "\t<tr><td>PAL0910</td><td>53</td><td>Chinstrap penguin</td><td>Pygoscelis antarctica)</td><td>Dream</td></tr>\n",
              "\t<tr><td>PAL0910</td><td>54</td><td>Chinstrap penguin</td><td>Pygoscelis antarctica)</td><td>Dream</td></tr>\n",
              "\t<tr><td>PAL0910</td><td>55</td><td>Chinstrap penguin</td><td>Pygoscelis antarctica)</td><td>Dream</td></tr>\n",
              "\t<tr><td>PAL0910</td><td>56</td><td>Chinstrap penguin</td><td>Pygoscelis antarctica)</td><td>Dream</td></tr>\n",
              "\t<tr><td>PAL0910</td><td>57</td><td>Chinstrap penguin</td><td>Pygoscelis antarctica)</td><td>Dream</td></tr>\n",
              "\t<tr><td>PAL0910</td><td>58</td><td>Chinstrap penguin</td><td>Pygoscelis antarctica)</td><td>Dream</td></tr>\n",
              "\t<tr><td>PAL0910</td><td>59</td><td>Chinstrap penguin</td><td>Pygoscelis antarctica)</td><td>Dream</td></tr>\n",
              "\t<tr><td>PAL0910</td><td>60</td><td>Chinstrap penguin</td><td>Pygoscelis antarctica)</td><td>Dream</td></tr>\n",
              "\t<tr><td>PAL0910</td><td>61</td><td>Chinstrap penguin</td><td>Pygoscelis antarctica)</td><td>Dream</td></tr>\n",
              "\t<tr><td>PAL0910</td><td>62</td><td>Chinstrap penguin</td><td>Pygoscelis antarctica)</td><td>Dream</td></tr>\n",
              "\t<tr><td>PAL0910</td><td>63</td><td>Chinstrap penguin</td><td>Pygoscelis antarctica)</td><td>Dream</td></tr>\n",
              "\t<tr><td>PAL0910</td><td>64</td><td>Chinstrap penguin</td><td>Pygoscelis antarctica)</td><td>Dream</td></tr>\n",
              "\t<tr><td>PAL0910</td><td>65</td><td>Chinstrap penguin</td><td>Pygoscelis antarctica)</td><td>Dream</td></tr>\n",
              "\t<tr><td>PAL0910</td><td>66</td><td>Chinstrap penguin</td><td>Pygoscelis antarctica)</td><td>Dream</td></tr>\n",
              "\t<tr><td>PAL0910</td><td>67</td><td>Chinstrap penguin</td><td>Pygoscelis antarctica)</td><td>Dream</td></tr>\n",
              "\t<tr><td>PAL0910</td><td>68</td><td>Chinstrap penguin</td><td>Pygoscelis antarctica)</td><td>Dream</td></tr>\n",
              "</tbody>\n",
              "</table>\n"
            ]
          },
          "metadata": {
            "tags": []
          }
        }
      ]
    },
    {
      "cell_type": "markdown",
      "metadata": {
        "id": "5z7QBlT1j6zU"
      },
      "source": [
        "Select everything from `individual_id` to `flipper_length_mm`.\n",
        "\n",
        "\n"
      ]
    },
    {
      "cell_type": "code",
      "metadata": {
        "id": "EUkMbVUtkCNM",
        "colab": {
          "base_uri": "https://localhost:8080/",
          "height": 1000
        },
        "outputId": "cc498db3-19f7-4c56-b9d9-97d504918341"
      },
      "source": [
        "select(penguins_clean, individual_id:flipper_length_mm)"
      ],
      "execution_count": null,
      "outputs": [
        {
          "output_type": "display_data",
          "data": {
            "text/plain": [
              "    individual_id clutch_completion date_egg   culmen_length_mm culmen_depth_mm\n",
              "1   N1A1          Yes               2007-11-11 39.1             18.7           \n",
              "2   N1A2          Yes               2007-11-11 39.5             17.4           \n",
              "3   N2A1          Yes               2007-11-16 40.3             18.0           \n",
              "4   N2A2          Yes               2007-11-16   NA               NA           \n",
              "5   N3A1          Yes               2007-11-16 36.7             19.3           \n",
              "6   N3A2          Yes               2007-11-16 39.3             20.6           \n",
              "7   N4A1          No                2007-11-15 38.9             17.8           \n",
              "8   N4A2          No                2007-11-15 39.2             19.6           \n",
              "9   N5A1          Yes               2007-11-09 34.1             18.1           \n",
              "10  N5A2          Yes               2007-11-09 42.0             20.2           \n",
              "11  N6A1          Yes               2007-11-09 37.8             17.1           \n",
              "12  N6A2          Yes               2007-11-09 37.8             17.3           \n",
              "13  N7A1          Yes               2007-11-15 41.1             17.6           \n",
              "14  N7A2          Yes               2007-11-15 38.6             21.2           \n",
              "15  N8A1          Yes               2007-11-16 34.6             21.1           \n",
              "16  N8A2          Yes               2007-11-16 36.6             17.8           \n",
              "17  N9A1          Yes               2007-11-12 38.7             19.0           \n",
              "18  N9A2          Yes               2007-11-12 42.5             20.7           \n",
              "19  N10A1         Yes               2007-11-16 34.4             18.4           \n",
              "20  N10A2         Yes               2007-11-16 46.0             21.5           \n",
              "21  N11A1         Yes               2007-11-12 37.8             18.3           \n",
              "22  N11A2         Yes               2007-11-12 37.7             18.7           \n",
              "23  N12A1         Yes               2007-11-12 35.9             19.2           \n",
              "24  N12A2         Yes               2007-11-12 38.2             18.1           \n",
              "25  N13A1         Yes               2007-11-10 38.8             17.2           \n",
              "26  N13A2         Yes               2007-11-10 35.3             18.9           \n",
              "27  N17A1         Yes               2007-11-12 40.6             18.6           \n",
              "28  N17A2         Yes               2007-11-12 40.5             17.9           \n",
              "29  N18A1         No                2007-11-10 37.9             18.6           \n",
              "30  N18A2         No                2007-11-10 40.5             18.9           \n",
              "⋮   ⋮             ⋮                 ⋮          ⋮                ⋮              \n",
              "315 N72A1         No                2008-11-24 46.9             16.6           \n",
              "316 N72A2         No                2008-11-24 53.5             19.9           \n",
              "317 N74A1         Yes               2008-11-24 49.0             19.5           \n",
              "318 N74A2         Yes               2008-11-24 46.2             17.5           \n",
              "319 N75A1         Yes               2008-11-14 50.9             19.1           \n",
              "320 N75A2         Yes               2008-11-14 45.5             17.0           \n",
              "321 N86A1         Yes               2009-11-17 50.9             17.9           \n",
              "322 N86A2         Yes               2009-11-17 50.8             18.5           \n",
              "323 N87A1         Yes               2009-11-27 50.1             17.9           \n",
              "324 N87A2         Yes               2009-11-27 49.0             19.6           \n",
              "325 N88A1         Yes               2009-11-23 51.5             18.7           \n",
              "326 N88A2         Yes               2009-11-23 49.8             17.3           \n",
              "327 N90A1         Yes               2009-11-21 48.1             16.4           \n",
              "328 N90A2         Yes               2009-11-21 51.4             19.0           \n",
              "329 N92A1         Yes               2009-11-23 45.7             17.3           \n",
              "330 N92A2         Yes               2009-11-23 50.7             19.7           \n",
              "331 N93A1         Yes               2009-11-27 42.5             17.3           \n",
              "332 N93A2         Yes               2009-11-27 52.2             18.8           \n",
              "333 N94A1         Yes               2009-11-21 45.2             16.6           \n",
              "334 N94A2         Yes               2009-11-21 49.3             19.9           \n",
              "335 N95A1         Yes               2009-11-21 50.2             18.8           \n",
              "336 N95A2         Yes               2009-11-21 45.6             19.4           \n",
              "337 N96A1         Yes               2009-11-27 51.9             19.5           \n",
              "338 N96A2         Yes               2009-11-27 46.8             16.5           \n",
              "339 N98A1         Yes               2009-11-19 45.7             17.0           \n",
              "340 N98A2         Yes               2009-11-19 55.8             19.8           \n",
              "341 N99A1         No                2009-11-21 43.5             18.1           \n",
              "342 N99A2         No                2009-11-21 49.6             18.2           \n",
              "343 N100A1        Yes               2009-11-21 50.8             19.0           \n",
              "344 N100A2        Yes               2009-11-21 50.2             18.7           \n",
              "    flipper_length_mm\n",
              "1   181              \n",
              "2   186              \n",
              "3   195              \n",
              "4    NA              \n",
              "5   193              \n",
              "6   190              \n",
              "7   181              \n",
              "8   195              \n",
              "9   193              \n",
              "10  190              \n",
              "11  186              \n",
              "12  180              \n",
              "13  182              \n",
              "14  191              \n",
              "15  198              \n",
              "16  185              \n",
              "17  195              \n",
              "18  197              \n",
              "19  184              \n",
              "20  194              \n",
              "21  174              \n",
              "22  180              \n",
              "23  189              \n",
              "24  185              \n",
              "25  180              \n",
              "26  187              \n",
              "27  183              \n",
              "28  187              \n",
              "29  172              \n",
              "30  180              \n",
              "⋮   ⋮                \n",
              "315 192              \n",
              "316 205              \n",
              "317 210              \n",
              "318 187              \n",
              "319 196              \n",
              "320 196              \n",
              "321 196              \n",
              "322 201              \n",
              "323 190              \n",
              "324 212              \n",
              "325 187              \n",
              "326 198              \n",
              "327 199              \n",
              "328 201              \n",
              "329 193              \n",
              "330 203              \n",
              "331 187              \n",
              "332 197              \n",
              "333 191              \n",
              "334 203              \n",
              "335 202              \n",
              "336 194              \n",
              "337 206              \n",
              "338 189              \n",
              "339 195              \n",
              "340 207              \n",
              "341 202              \n",
              "342 193              \n",
              "343 210              \n",
              "344 198              "
            ],
            "text/latex": "A tibble: 344 × 6\n\\begin{tabular}{llllll}\n individual\\_id & clutch\\_completion & date\\_egg & culmen\\_length\\_mm & culmen\\_depth\\_mm & flipper\\_length\\_mm\\\\\n <chr> & <chr> & <date> & <dbl> & <dbl> & <dbl>\\\\\n\\hline\n\t N1A1  & Yes & 2007-11-11 & 39.1 & 18.7 & 181\\\\\n\t N1A2  & Yes & 2007-11-11 & 39.5 & 17.4 & 186\\\\\n\t N2A1  & Yes & 2007-11-16 & 40.3 & 18.0 & 195\\\\\n\t N2A2  & Yes & 2007-11-16 &   NA &   NA &  NA\\\\\n\t N3A1  & Yes & 2007-11-16 & 36.7 & 19.3 & 193\\\\\n\t N3A2  & Yes & 2007-11-16 & 39.3 & 20.6 & 190\\\\\n\t N4A1  & No  & 2007-11-15 & 38.9 & 17.8 & 181\\\\\n\t N4A2  & No  & 2007-11-15 & 39.2 & 19.6 & 195\\\\\n\t N5A1  & Yes & 2007-11-09 & 34.1 & 18.1 & 193\\\\\n\t N5A2  & Yes & 2007-11-09 & 42.0 & 20.2 & 190\\\\\n\t N6A1  & Yes & 2007-11-09 & 37.8 & 17.1 & 186\\\\\n\t N6A2  & Yes & 2007-11-09 & 37.8 & 17.3 & 180\\\\\n\t N7A1  & Yes & 2007-11-15 & 41.1 & 17.6 & 182\\\\\n\t N7A2  & Yes & 2007-11-15 & 38.6 & 21.2 & 191\\\\\n\t N8A1  & Yes & 2007-11-16 & 34.6 & 21.1 & 198\\\\\n\t N8A2  & Yes & 2007-11-16 & 36.6 & 17.8 & 185\\\\\n\t N9A1  & Yes & 2007-11-12 & 38.7 & 19.0 & 195\\\\\n\t N9A2  & Yes & 2007-11-12 & 42.5 & 20.7 & 197\\\\\n\t N10A1 & Yes & 2007-11-16 & 34.4 & 18.4 & 184\\\\\n\t N10A2 & Yes & 2007-11-16 & 46.0 & 21.5 & 194\\\\\n\t N11A1 & Yes & 2007-11-12 & 37.8 & 18.3 & 174\\\\\n\t N11A2 & Yes & 2007-11-12 & 37.7 & 18.7 & 180\\\\\n\t N12A1 & Yes & 2007-11-12 & 35.9 & 19.2 & 189\\\\\n\t N12A2 & Yes & 2007-11-12 & 38.2 & 18.1 & 185\\\\\n\t N13A1 & Yes & 2007-11-10 & 38.8 & 17.2 & 180\\\\\n\t N13A2 & Yes & 2007-11-10 & 35.3 & 18.9 & 187\\\\\n\t N17A1 & Yes & 2007-11-12 & 40.6 & 18.6 & 183\\\\\n\t N17A2 & Yes & 2007-11-12 & 40.5 & 17.9 & 187\\\\\n\t N18A1 & No  & 2007-11-10 & 37.9 & 18.6 & 172\\\\\n\t N18A2 & No  & 2007-11-10 & 40.5 & 18.9 & 180\\\\\n\t ⋮ & ⋮ & ⋮ & ⋮ & ⋮ & ⋮\\\\\n\t N72A1  & No  & 2008-11-24 & 46.9 & 16.6 & 192\\\\\n\t N72A2  & No  & 2008-11-24 & 53.5 & 19.9 & 205\\\\\n\t N74A1  & Yes & 2008-11-24 & 49.0 & 19.5 & 210\\\\\n\t N74A2  & Yes & 2008-11-24 & 46.2 & 17.5 & 187\\\\\n\t N75A1  & Yes & 2008-11-14 & 50.9 & 19.1 & 196\\\\\n\t N75A2  & Yes & 2008-11-14 & 45.5 & 17.0 & 196\\\\\n\t N86A1  & Yes & 2009-11-17 & 50.9 & 17.9 & 196\\\\\n\t N86A2  & Yes & 2009-11-17 & 50.8 & 18.5 & 201\\\\\n\t N87A1  & Yes & 2009-11-27 & 50.1 & 17.9 & 190\\\\\n\t N87A2  & Yes & 2009-11-27 & 49.0 & 19.6 & 212\\\\\n\t N88A1  & Yes & 2009-11-23 & 51.5 & 18.7 & 187\\\\\n\t N88A2  & Yes & 2009-11-23 & 49.8 & 17.3 & 198\\\\\n\t N90A1  & Yes & 2009-11-21 & 48.1 & 16.4 & 199\\\\\n\t N90A2  & Yes & 2009-11-21 & 51.4 & 19.0 & 201\\\\\n\t N92A1  & Yes & 2009-11-23 & 45.7 & 17.3 & 193\\\\\n\t N92A2  & Yes & 2009-11-23 & 50.7 & 19.7 & 203\\\\\n\t N93A1  & Yes & 2009-11-27 & 42.5 & 17.3 & 187\\\\\n\t N93A2  & Yes & 2009-11-27 & 52.2 & 18.8 & 197\\\\\n\t N94A1  & Yes & 2009-11-21 & 45.2 & 16.6 & 191\\\\\n\t N94A2  & Yes & 2009-11-21 & 49.3 & 19.9 & 203\\\\\n\t N95A1  & Yes & 2009-11-21 & 50.2 & 18.8 & 202\\\\\n\t N95A2  & Yes & 2009-11-21 & 45.6 & 19.4 & 194\\\\\n\t N96A1  & Yes & 2009-11-27 & 51.9 & 19.5 & 206\\\\\n\t N96A2  & Yes & 2009-11-27 & 46.8 & 16.5 & 189\\\\\n\t N98A1  & Yes & 2009-11-19 & 45.7 & 17.0 & 195\\\\\n\t N98A2  & Yes & 2009-11-19 & 55.8 & 19.8 & 207\\\\\n\t N99A1  & No  & 2009-11-21 & 43.5 & 18.1 & 202\\\\\n\t N99A2  & No  & 2009-11-21 & 49.6 & 18.2 & 193\\\\\n\t N100A1 & Yes & 2009-11-21 & 50.8 & 19.0 & 210\\\\\n\t N100A2 & Yes & 2009-11-21 & 50.2 & 18.7 & 198\\\\\n\\end{tabular}\n",
            "text/markdown": "\nA tibble: 344 × 6\n\n| individual_id &lt;chr&gt; | clutch_completion &lt;chr&gt; | date_egg &lt;date&gt; | culmen_length_mm &lt;dbl&gt; | culmen_depth_mm &lt;dbl&gt; | flipper_length_mm &lt;dbl&gt; |\n|---|---|---|---|---|---|\n| N1A1  | Yes | 2007-11-11 | 39.1 | 18.7 | 181 |\n| N1A2  | Yes | 2007-11-11 | 39.5 | 17.4 | 186 |\n| N2A1  | Yes | 2007-11-16 | 40.3 | 18.0 | 195 |\n| N2A2  | Yes | 2007-11-16 |   NA |   NA |  NA |\n| N3A1  | Yes | 2007-11-16 | 36.7 | 19.3 | 193 |\n| N3A2  | Yes | 2007-11-16 | 39.3 | 20.6 | 190 |\n| N4A1  | No  | 2007-11-15 | 38.9 | 17.8 | 181 |\n| N4A2  | No  | 2007-11-15 | 39.2 | 19.6 | 195 |\n| N5A1  | Yes | 2007-11-09 | 34.1 | 18.1 | 193 |\n| N5A2  | Yes | 2007-11-09 | 42.0 | 20.2 | 190 |\n| N6A1  | Yes | 2007-11-09 | 37.8 | 17.1 | 186 |\n| N6A2  | Yes | 2007-11-09 | 37.8 | 17.3 | 180 |\n| N7A1  | Yes | 2007-11-15 | 41.1 | 17.6 | 182 |\n| N7A2  | Yes | 2007-11-15 | 38.6 | 21.2 | 191 |\n| N8A1  | Yes | 2007-11-16 | 34.6 | 21.1 | 198 |\n| N8A2  | Yes | 2007-11-16 | 36.6 | 17.8 | 185 |\n| N9A1  | Yes | 2007-11-12 | 38.7 | 19.0 | 195 |\n| N9A2  | Yes | 2007-11-12 | 42.5 | 20.7 | 197 |\n| N10A1 | Yes | 2007-11-16 | 34.4 | 18.4 | 184 |\n| N10A2 | Yes | 2007-11-16 | 46.0 | 21.5 | 194 |\n| N11A1 | Yes | 2007-11-12 | 37.8 | 18.3 | 174 |\n| N11A2 | Yes | 2007-11-12 | 37.7 | 18.7 | 180 |\n| N12A1 | Yes | 2007-11-12 | 35.9 | 19.2 | 189 |\n| N12A2 | Yes | 2007-11-12 | 38.2 | 18.1 | 185 |\n| N13A1 | Yes | 2007-11-10 | 38.8 | 17.2 | 180 |\n| N13A2 | Yes | 2007-11-10 | 35.3 | 18.9 | 187 |\n| N17A1 | Yes | 2007-11-12 | 40.6 | 18.6 | 183 |\n| N17A2 | Yes | 2007-11-12 | 40.5 | 17.9 | 187 |\n| N18A1 | No  | 2007-11-10 | 37.9 | 18.6 | 172 |\n| N18A2 | No  | 2007-11-10 | 40.5 | 18.9 | 180 |\n| ⋮ | ⋮ | ⋮ | ⋮ | ⋮ | ⋮ |\n| N72A1  | No  | 2008-11-24 | 46.9 | 16.6 | 192 |\n| N72A2  | No  | 2008-11-24 | 53.5 | 19.9 | 205 |\n| N74A1  | Yes | 2008-11-24 | 49.0 | 19.5 | 210 |\n| N74A2  | Yes | 2008-11-24 | 46.2 | 17.5 | 187 |\n| N75A1  | Yes | 2008-11-14 | 50.9 | 19.1 | 196 |\n| N75A2  | Yes | 2008-11-14 | 45.5 | 17.0 | 196 |\n| N86A1  | Yes | 2009-11-17 | 50.9 | 17.9 | 196 |\n| N86A2  | Yes | 2009-11-17 | 50.8 | 18.5 | 201 |\n| N87A1  | Yes | 2009-11-27 | 50.1 | 17.9 | 190 |\n| N87A2  | Yes | 2009-11-27 | 49.0 | 19.6 | 212 |\n| N88A1  | Yes | 2009-11-23 | 51.5 | 18.7 | 187 |\n| N88A2  | Yes | 2009-11-23 | 49.8 | 17.3 | 198 |\n| N90A1  | Yes | 2009-11-21 | 48.1 | 16.4 | 199 |\n| N90A2  | Yes | 2009-11-21 | 51.4 | 19.0 | 201 |\n| N92A1  | Yes | 2009-11-23 | 45.7 | 17.3 | 193 |\n| N92A2  | Yes | 2009-11-23 | 50.7 | 19.7 | 203 |\n| N93A1  | Yes | 2009-11-27 | 42.5 | 17.3 | 187 |\n| N93A2  | Yes | 2009-11-27 | 52.2 | 18.8 | 197 |\n| N94A1  | Yes | 2009-11-21 | 45.2 | 16.6 | 191 |\n| N94A2  | Yes | 2009-11-21 | 49.3 | 19.9 | 203 |\n| N95A1  | Yes | 2009-11-21 | 50.2 | 18.8 | 202 |\n| N95A2  | Yes | 2009-11-21 | 45.6 | 19.4 | 194 |\n| N96A1  | Yes | 2009-11-27 | 51.9 | 19.5 | 206 |\n| N96A2  | Yes | 2009-11-27 | 46.8 | 16.5 | 189 |\n| N98A1  | Yes | 2009-11-19 | 45.7 | 17.0 | 195 |\n| N98A2  | Yes | 2009-11-19 | 55.8 | 19.8 | 207 |\n| N99A1  | No  | 2009-11-21 | 43.5 | 18.1 | 202 |\n| N99A2  | No  | 2009-11-21 | 49.6 | 18.2 | 193 |\n| N100A1 | Yes | 2009-11-21 | 50.8 | 19.0 | 210 |\n| N100A2 | Yes | 2009-11-21 | 50.2 | 18.7 | 198 |\n\n",
            "text/html": [
              "<table class=\"dataframe\">\n",
              "<caption>A tibble: 344 × 6</caption>\n",
              "<thead>\n",
              "\t<tr><th scope=col>individual_id</th><th scope=col>clutch_completion</th><th scope=col>date_egg</th><th scope=col>culmen_length_mm</th><th scope=col>culmen_depth_mm</th><th scope=col>flipper_length_mm</th></tr>\n",
              "\t<tr><th scope=col>&lt;chr&gt;</th><th scope=col>&lt;chr&gt;</th><th scope=col>&lt;date&gt;</th><th scope=col>&lt;dbl&gt;</th><th scope=col>&lt;dbl&gt;</th><th scope=col>&lt;dbl&gt;</th></tr>\n",
              "</thead>\n",
              "<tbody>\n",
              "\t<tr><td>N1A1 </td><td>Yes</td><td>2007-11-11</td><td>39.1</td><td>18.7</td><td>181</td></tr>\n",
              "\t<tr><td>N1A2 </td><td>Yes</td><td>2007-11-11</td><td>39.5</td><td>17.4</td><td>186</td></tr>\n",
              "\t<tr><td>N2A1 </td><td>Yes</td><td>2007-11-16</td><td>40.3</td><td>18.0</td><td>195</td></tr>\n",
              "\t<tr><td>N2A2 </td><td>Yes</td><td>2007-11-16</td><td>  NA</td><td>  NA</td><td> NA</td></tr>\n",
              "\t<tr><td>N3A1 </td><td>Yes</td><td>2007-11-16</td><td>36.7</td><td>19.3</td><td>193</td></tr>\n",
              "\t<tr><td>N3A2 </td><td>Yes</td><td>2007-11-16</td><td>39.3</td><td>20.6</td><td>190</td></tr>\n",
              "\t<tr><td>N4A1 </td><td>No </td><td>2007-11-15</td><td>38.9</td><td>17.8</td><td>181</td></tr>\n",
              "\t<tr><td>N4A2 </td><td>No </td><td>2007-11-15</td><td>39.2</td><td>19.6</td><td>195</td></tr>\n",
              "\t<tr><td>N5A1 </td><td>Yes</td><td>2007-11-09</td><td>34.1</td><td>18.1</td><td>193</td></tr>\n",
              "\t<tr><td>N5A2 </td><td>Yes</td><td>2007-11-09</td><td>42.0</td><td>20.2</td><td>190</td></tr>\n",
              "\t<tr><td>N6A1 </td><td>Yes</td><td>2007-11-09</td><td>37.8</td><td>17.1</td><td>186</td></tr>\n",
              "\t<tr><td>N6A2 </td><td>Yes</td><td>2007-11-09</td><td>37.8</td><td>17.3</td><td>180</td></tr>\n",
              "\t<tr><td>N7A1 </td><td>Yes</td><td>2007-11-15</td><td>41.1</td><td>17.6</td><td>182</td></tr>\n",
              "\t<tr><td>N7A2 </td><td>Yes</td><td>2007-11-15</td><td>38.6</td><td>21.2</td><td>191</td></tr>\n",
              "\t<tr><td>N8A1 </td><td>Yes</td><td>2007-11-16</td><td>34.6</td><td>21.1</td><td>198</td></tr>\n",
              "\t<tr><td>N8A2 </td><td>Yes</td><td>2007-11-16</td><td>36.6</td><td>17.8</td><td>185</td></tr>\n",
              "\t<tr><td>N9A1 </td><td>Yes</td><td>2007-11-12</td><td>38.7</td><td>19.0</td><td>195</td></tr>\n",
              "\t<tr><td>N9A2 </td><td>Yes</td><td>2007-11-12</td><td>42.5</td><td>20.7</td><td>197</td></tr>\n",
              "\t<tr><td>N10A1</td><td>Yes</td><td>2007-11-16</td><td>34.4</td><td>18.4</td><td>184</td></tr>\n",
              "\t<tr><td>N10A2</td><td>Yes</td><td>2007-11-16</td><td>46.0</td><td>21.5</td><td>194</td></tr>\n",
              "\t<tr><td>N11A1</td><td>Yes</td><td>2007-11-12</td><td>37.8</td><td>18.3</td><td>174</td></tr>\n",
              "\t<tr><td>N11A2</td><td>Yes</td><td>2007-11-12</td><td>37.7</td><td>18.7</td><td>180</td></tr>\n",
              "\t<tr><td>N12A1</td><td>Yes</td><td>2007-11-12</td><td>35.9</td><td>19.2</td><td>189</td></tr>\n",
              "\t<tr><td>N12A2</td><td>Yes</td><td>2007-11-12</td><td>38.2</td><td>18.1</td><td>185</td></tr>\n",
              "\t<tr><td>N13A1</td><td>Yes</td><td>2007-11-10</td><td>38.8</td><td>17.2</td><td>180</td></tr>\n",
              "\t<tr><td>N13A2</td><td>Yes</td><td>2007-11-10</td><td>35.3</td><td>18.9</td><td>187</td></tr>\n",
              "\t<tr><td>N17A1</td><td>Yes</td><td>2007-11-12</td><td>40.6</td><td>18.6</td><td>183</td></tr>\n",
              "\t<tr><td>N17A2</td><td>Yes</td><td>2007-11-12</td><td>40.5</td><td>17.9</td><td>187</td></tr>\n",
              "\t<tr><td>N18A1</td><td>No </td><td>2007-11-10</td><td>37.9</td><td>18.6</td><td>172</td></tr>\n",
              "\t<tr><td>N18A2</td><td>No </td><td>2007-11-10</td><td>40.5</td><td>18.9</td><td>180</td></tr>\n",
              "\t<tr><td>⋮</td><td>⋮</td><td>⋮</td><td>⋮</td><td>⋮</td><td>⋮</td></tr>\n",
              "\t<tr><td>N72A1 </td><td>No </td><td>2008-11-24</td><td>46.9</td><td>16.6</td><td>192</td></tr>\n",
              "\t<tr><td>N72A2 </td><td>No </td><td>2008-11-24</td><td>53.5</td><td>19.9</td><td>205</td></tr>\n",
              "\t<tr><td>N74A1 </td><td>Yes</td><td>2008-11-24</td><td>49.0</td><td>19.5</td><td>210</td></tr>\n",
              "\t<tr><td>N74A2 </td><td>Yes</td><td>2008-11-24</td><td>46.2</td><td>17.5</td><td>187</td></tr>\n",
              "\t<tr><td>N75A1 </td><td>Yes</td><td>2008-11-14</td><td>50.9</td><td>19.1</td><td>196</td></tr>\n",
              "\t<tr><td>N75A2 </td><td>Yes</td><td>2008-11-14</td><td>45.5</td><td>17.0</td><td>196</td></tr>\n",
              "\t<tr><td>N86A1 </td><td>Yes</td><td>2009-11-17</td><td>50.9</td><td>17.9</td><td>196</td></tr>\n",
              "\t<tr><td>N86A2 </td><td>Yes</td><td>2009-11-17</td><td>50.8</td><td>18.5</td><td>201</td></tr>\n",
              "\t<tr><td>N87A1 </td><td>Yes</td><td>2009-11-27</td><td>50.1</td><td>17.9</td><td>190</td></tr>\n",
              "\t<tr><td>N87A2 </td><td>Yes</td><td>2009-11-27</td><td>49.0</td><td>19.6</td><td>212</td></tr>\n",
              "\t<tr><td>N88A1 </td><td>Yes</td><td>2009-11-23</td><td>51.5</td><td>18.7</td><td>187</td></tr>\n",
              "\t<tr><td>N88A2 </td><td>Yes</td><td>2009-11-23</td><td>49.8</td><td>17.3</td><td>198</td></tr>\n",
              "\t<tr><td>N90A1 </td><td>Yes</td><td>2009-11-21</td><td>48.1</td><td>16.4</td><td>199</td></tr>\n",
              "\t<tr><td>N90A2 </td><td>Yes</td><td>2009-11-21</td><td>51.4</td><td>19.0</td><td>201</td></tr>\n",
              "\t<tr><td>N92A1 </td><td>Yes</td><td>2009-11-23</td><td>45.7</td><td>17.3</td><td>193</td></tr>\n",
              "\t<tr><td>N92A2 </td><td>Yes</td><td>2009-11-23</td><td>50.7</td><td>19.7</td><td>203</td></tr>\n",
              "\t<tr><td>N93A1 </td><td>Yes</td><td>2009-11-27</td><td>42.5</td><td>17.3</td><td>187</td></tr>\n",
              "\t<tr><td>N93A2 </td><td>Yes</td><td>2009-11-27</td><td>52.2</td><td>18.8</td><td>197</td></tr>\n",
              "\t<tr><td>N94A1 </td><td>Yes</td><td>2009-11-21</td><td>45.2</td><td>16.6</td><td>191</td></tr>\n",
              "\t<tr><td>N94A2 </td><td>Yes</td><td>2009-11-21</td><td>49.3</td><td>19.9</td><td>203</td></tr>\n",
              "\t<tr><td>N95A1 </td><td>Yes</td><td>2009-11-21</td><td>50.2</td><td>18.8</td><td>202</td></tr>\n",
              "\t<tr><td>N95A2 </td><td>Yes</td><td>2009-11-21</td><td>45.6</td><td>19.4</td><td>194</td></tr>\n",
              "\t<tr><td>N96A1 </td><td>Yes</td><td>2009-11-27</td><td>51.9</td><td>19.5</td><td>206</td></tr>\n",
              "\t<tr><td>N96A2 </td><td>Yes</td><td>2009-11-27</td><td>46.8</td><td>16.5</td><td>189</td></tr>\n",
              "\t<tr><td>N98A1 </td><td>Yes</td><td>2009-11-19</td><td>45.7</td><td>17.0</td><td>195</td></tr>\n",
              "\t<tr><td>N98A2 </td><td>Yes</td><td>2009-11-19</td><td>55.8</td><td>19.8</td><td>207</td></tr>\n",
              "\t<tr><td>N99A1 </td><td>No </td><td>2009-11-21</td><td>43.5</td><td>18.1</td><td>202</td></tr>\n",
              "\t<tr><td>N99A2 </td><td>No </td><td>2009-11-21</td><td>49.6</td><td>18.2</td><td>193</td></tr>\n",
              "\t<tr><td>N100A1</td><td>Yes</td><td>2009-11-21</td><td>50.8</td><td>19.0</td><td>210</td></tr>\n",
              "\t<tr><td>N100A2</td><td>Yes</td><td>2009-11-21</td><td>50.2</td><td>18.7</td><td>198</td></tr>\n",
              "</tbody>\n",
              "</table>\n"
            ]
          },
          "metadata": {
            "tags": []
          }
        }
      ]
    },
    {
      "cell_type": "markdown",
      "metadata": {
        "id": "0732a27f"
      },
      "source": [
        "\n",
        "\n",
        "### `filter()`\n",
        "\n",
        "helps you filter rows\n",
        "\n"
      ]
    },
    {
      "cell_type": "markdown",
      "metadata": {
        "id": "324f245f"
      },
      "source": [
        "\n",
        "\n",
        "![](https://favstats.shinyapps.io/r_intro/_w_bfa1a45e/images/filter.png)\n",
        "\n",
        "Here we only keep penguins from the Island `Dream`."
      ]
    },
    {
      "cell_type": "code",
      "metadata": {
        "lines_to_next_cell": 0,
        "id": "bcf93f38",
        "colab": {
          "base_uri": "https://localhost:8080/",
          "height": 1000
        },
        "outputId": "f9b48a6b-ac13-40f6-d4b1-00fe449f8f40"
      },
      "source": [
        "filter(penguins_clean, island == \"Dream\")"
      ],
      "execution_count": null,
      "outputs": [
        {
          "output_type": "display_data",
          "data": {
            "text/plain": [
              "    study_name sample_number species           latin_name             island\n",
              "1   PAL0708    31            Adelie Penguin    Pygoscelis adeliae)    Dream \n",
              "2   PAL0708    32            Adelie Penguin    Pygoscelis adeliae)    Dream \n",
              "3   PAL0708    33            Adelie Penguin    Pygoscelis adeliae)    Dream \n",
              "4   PAL0708    34            Adelie Penguin    Pygoscelis adeliae)    Dream \n",
              "5   PAL0708    35            Adelie Penguin    Pygoscelis adeliae)    Dream \n",
              "6   PAL0708    36            Adelie Penguin    Pygoscelis adeliae)    Dream \n",
              "7   PAL0708    37            Adelie Penguin    Pygoscelis adeliae)    Dream \n",
              "8   PAL0708    38            Adelie Penguin    Pygoscelis adeliae)    Dream \n",
              "9   PAL0708    39            Adelie Penguin    Pygoscelis adeliae)    Dream \n",
              "10  PAL0708    40            Adelie Penguin    Pygoscelis adeliae)    Dream \n",
              "11  PAL0708    41            Adelie Penguin    Pygoscelis adeliae)    Dream \n",
              "12  PAL0708    42            Adelie Penguin    Pygoscelis adeliae)    Dream \n",
              "13  PAL0708    43            Adelie Penguin    Pygoscelis adeliae)    Dream \n",
              "14  PAL0708    44            Adelie Penguin    Pygoscelis adeliae)    Dream \n",
              "15  PAL0708    45            Adelie Penguin    Pygoscelis adeliae)    Dream \n",
              "16  PAL0708    46            Adelie Penguin    Pygoscelis adeliae)    Dream \n",
              "17  PAL0708    47            Adelie Penguin    Pygoscelis adeliae)    Dream \n",
              "18  PAL0708    48            Adelie Penguin    Pygoscelis adeliae)    Dream \n",
              "19  PAL0708    49            Adelie Penguin    Pygoscelis adeliae)    Dream \n",
              "20  PAL0708    50            Adelie Penguin    Pygoscelis adeliae)    Dream \n",
              "21  PAL0809    85            Adelie Penguin    Pygoscelis adeliae)    Dream \n",
              "22  PAL0809    86            Adelie Penguin    Pygoscelis adeliae)    Dream \n",
              "23  PAL0809    87            Adelie Penguin    Pygoscelis adeliae)    Dream \n",
              "24  PAL0809    88            Adelie Penguin    Pygoscelis adeliae)    Dream \n",
              "25  PAL0809    89            Adelie Penguin    Pygoscelis adeliae)    Dream \n",
              "26  PAL0809    90            Adelie Penguin    Pygoscelis adeliae)    Dream \n",
              "27  PAL0809    91            Adelie Penguin    Pygoscelis adeliae)    Dream \n",
              "28  PAL0809    92            Adelie Penguin    Pygoscelis adeliae)    Dream \n",
              "29  PAL0809    93            Adelie Penguin    Pygoscelis adeliae)    Dream \n",
              "30  PAL0809    94            Adelie Penguin    Pygoscelis adeliae)    Dream \n",
              "⋮   ⋮          ⋮             ⋮                 ⋮                      ⋮     \n",
              "95  PAL0809    39            Chinstrap penguin Pygoscelis antarctica) Dream \n",
              "96  PAL0809    40            Chinstrap penguin Pygoscelis antarctica) Dream \n",
              "97  PAL0809    41            Chinstrap penguin Pygoscelis antarctica) Dream \n",
              "98  PAL0809    42            Chinstrap penguin Pygoscelis antarctica) Dream \n",
              "99  PAL0809    43            Chinstrap penguin Pygoscelis antarctica) Dream \n",
              "100 PAL0809    44            Chinstrap penguin Pygoscelis antarctica) Dream \n",
              "101 PAL0910    45            Chinstrap penguin Pygoscelis antarctica) Dream \n",
              "102 PAL0910    46            Chinstrap penguin Pygoscelis antarctica) Dream \n",
              "103 PAL0910    47            Chinstrap penguin Pygoscelis antarctica) Dream \n",
              "104 PAL0910    48            Chinstrap penguin Pygoscelis antarctica) Dream \n",
              "105 PAL0910    49            Chinstrap penguin Pygoscelis antarctica) Dream \n",
              "106 PAL0910    50            Chinstrap penguin Pygoscelis antarctica) Dream \n",
              "107 PAL0910    51            Chinstrap penguin Pygoscelis antarctica) Dream \n",
              "108 PAL0910    52            Chinstrap penguin Pygoscelis antarctica) Dream \n",
              "109 PAL0910    53            Chinstrap penguin Pygoscelis antarctica) Dream \n",
              "110 PAL0910    54            Chinstrap penguin Pygoscelis antarctica) Dream \n",
              "111 PAL0910    55            Chinstrap penguin Pygoscelis antarctica) Dream \n",
              "112 PAL0910    56            Chinstrap penguin Pygoscelis antarctica) Dream \n",
              "113 PAL0910    57            Chinstrap penguin Pygoscelis antarctica) Dream \n",
              "114 PAL0910    58            Chinstrap penguin Pygoscelis antarctica) Dream \n",
              "115 PAL0910    59            Chinstrap penguin Pygoscelis antarctica) Dream \n",
              "116 PAL0910    60            Chinstrap penguin Pygoscelis antarctica) Dream \n",
              "117 PAL0910    61            Chinstrap penguin Pygoscelis antarctica) Dream \n",
              "118 PAL0910    62            Chinstrap penguin Pygoscelis antarctica) Dream \n",
              "119 PAL0910    63            Chinstrap penguin Pygoscelis antarctica) Dream \n",
              "120 PAL0910    64            Chinstrap penguin Pygoscelis antarctica) Dream \n",
              "121 PAL0910    65            Chinstrap penguin Pygoscelis antarctica) Dream \n",
              "122 PAL0910    66            Chinstrap penguin Pygoscelis antarctica) Dream \n",
              "123 PAL0910    67            Chinstrap penguin Pygoscelis antarctica) Dream \n",
              "124 PAL0910    68            Chinstrap penguin Pygoscelis antarctica) Dream \n",
              "    individual_id clutch_completion date_egg   culmen_length_mm culmen_depth_mm\n",
              "1   N21A1         Yes               2007-11-09 39.5             16.7           \n",
              "2   N21A2         Yes               2007-11-09 37.2             18.1           \n",
              "3   N22A1         Yes               2007-11-09 39.5             17.8           \n",
              "4   N22A2         Yes               2007-11-09 40.9             18.9           \n",
              "5   N23A1         Yes               2007-11-16 36.4             17.0           \n",
              "6   N23A2         Yes               2007-11-16 39.2             21.1           \n",
              "7   N24A1         Yes               2007-11-16 38.8             20.0           \n",
              "8   N24A2         Yes               2007-11-16 42.2             18.5           \n",
              "9   N25A1         No                2007-11-13 37.6             19.3           \n",
              "10  N25A2         No                2007-11-13 39.8             19.1           \n",
              "11  N26A1         Yes               2007-11-16 36.5             18.0           \n",
              "12  N26A2         Yes               2007-11-16 40.8             18.4           \n",
              "13  N27A1         Yes               2007-11-19 36.0             18.5           \n",
              "14  N27A2         Yes               2007-11-19 44.1             19.7           \n",
              "15  N28A1         Yes               2007-11-16 37.0             16.9           \n",
              "16  N28A2         Yes               2007-11-16 39.6             18.8           \n",
              "17  N29A1         Yes               2007-11-13 41.1             19.0           \n",
              "18  N29A2         Yes               2007-11-13 37.5             18.9           \n",
              "19  N30A1         Yes               2007-11-13 36.0             17.9           \n",
              "20  N30A2         Yes               2007-11-13 42.3             21.2           \n",
              "21  N41A1         Yes               2008-11-17 37.3             17.8           \n",
              "22  N41A2         Yes               2008-11-17 41.3             20.3           \n",
              "23  N42A1         Yes               2008-11-08 36.3             19.5           \n",
              "24  N42A2         Yes               2008-11-08 36.9             18.6           \n",
              "25  N44A1         Yes               2008-11-08 38.3             19.2           \n",
              "26  N44A2         Yes               2008-11-08 38.9             18.8           \n",
              "27  N45A1         Yes               2008-11-14 35.7             18.0           \n",
              "28  N45A2         Yes               2008-11-14 41.1             18.1           \n",
              "29  N46A1         Yes               2008-11-05 34.0             17.1           \n",
              "30  N46A2         Yes               2008-11-05 39.6             18.1           \n",
              "⋮   ⋮             ⋮                 ⋮          ⋮                ⋮              \n",
              "95  N72A1         No                2008-11-24 46.9             16.6           \n",
              "96  N72A2         No                2008-11-24 53.5             19.9           \n",
              "97  N74A1         Yes               2008-11-24 49.0             19.5           \n",
              "98  N74A2         Yes               2008-11-24 46.2             17.5           \n",
              "99  N75A1         Yes               2008-11-14 50.9             19.1           \n",
              "100 N75A2         Yes               2008-11-14 45.5             17.0           \n",
              "101 N86A1         Yes               2009-11-17 50.9             17.9           \n",
              "102 N86A2         Yes               2009-11-17 50.8             18.5           \n",
              "103 N87A1         Yes               2009-11-27 50.1             17.9           \n",
              "104 N87A2         Yes               2009-11-27 49.0             19.6           \n",
              "105 N88A1         Yes               2009-11-23 51.5             18.7           \n",
              "106 N88A2         Yes               2009-11-23 49.8             17.3           \n",
              "107 N90A1         Yes               2009-11-21 48.1             16.4           \n",
              "108 N90A2         Yes               2009-11-21 51.4             19.0           \n",
              "109 N92A1         Yes               2009-11-23 45.7             17.3           \n",
              "110 N92A2         Yes               2009-11-23 50.7             19.7           \n",
              "111 N93A1         Yes               2009-11-27 42.5             17.3           \n",
              "112 N93A2         Yes               2009-11-27 52.2             18.8           \n",
              "113 N94A1         Yes               2009-11-21 45.2             16.6           \n",
              "114 N94A2         Yes               2009-11-21 49.3             19.9           \n",
              "115 N95A1         Yes               2009-11-21 50.2             18.8           \n",
              "116 N95A2         Yes               2009-11-21 45.6             19.4           \n",
              "117 N96A1         Yes               2009-11-27 51.9             19.5           \n",
              "118 N96A2         Yes               2009-11-27 46.8             16.5           \n",
              "119 N98A1         Yes               2009-11-19 45.7             17.0           \n",
              "120 N98A2         Yes               2009-11-19 55.8             19.8           \n",
              "121 N99A1         No                2009-11-21 43.5             18.1           \n",
              "122 N99A2         No                2009-11-21 49.6             18.2           \n",
              "123 N100A1        Yes               2009-11-21 50.8             19.0           \n",
              "124 N100A2        Yes               2009-11-21 50.2             18.7           \n",
              "    flipper_length_mm body_mass_g sex    delta_15_n_o_oo delta_13_c_o_oo\n",
              "1   178               3250        FEMALE 9.69756         -25.11223      \n",
              "2   178               3900        MALE   9.72764         -25.01020      \n",
              "3   188               3300        FEMALE 9.66523         -25.06020      \n",
              "4   184               3900        MALE   8.79665         -25.14591      \n",
              "5   195               3325        FEMALE 9.17847         -25.23061      \n",
              "6   196               4150        MALE   9.15308         -25.03469      \n",
              "7   190               3950        MALE   9.18985         -25.12255      \n",
              "8   180               3550        FEMALE 8.04787         -25.49523      \n",
              "9   181               3300        FEMALE 9.41131         -25.04169      \n",
              "10  184               4650        MALE        NA                NA      \n",
              "11  182               3150        FEMALE 9.68933         -24.42280      \n",
              "12  195               3900        MALE        NA                NA      \n",
              "13  186               3100        FEMALE 9.50772         -25.03492      \n",
              "14  196               4400        MALE   9.23720         -24.52698      \n",
              "15  185               3000        FEMALE 9.36392         -25.01745      \n",
              "16  190               4600        MALE   9.49106         -24.10255      \n",
              "17  182               3425        MALE        NA                NA      \n",
              "18  179               2975        NA          NA                NA      \n",
              "19  190               3450        FEMALE 9.51784         -25.07683      \n",
              "20  191               4150        MALE   8.87988         -25.18543      \n",
              "21  191               3350        FEMALE 8.32718         -26.38396      \n",
              "22  194               3550        MALE   9.14863         -26.09635      \n",
              "23  190               3800        MALE   8.57087         -26.22227      \n",
              "24  189               3500        FEMALE 8.59147         -26.08165      \n",
              "25  189               3950        MALE   9.07826         -26.12417      \n",
              "26  190               3600        FEMALE 8.36936         -26.11199      \n",
              "27  202               3550        FEMALE 8.46531         -26.05621      \n",
              "28  205               4300        MALE   8.77018         -25.83352      \n",
              "29  185               3400        FEMALE 8.01485         -26.69543      \n",
              "30  186               4450        MALE   8.49915         -26.42406      \n",
              "⋮   ⋮                 ⋮           ⋮      ⋮               ⋮              \n",
              "95  192               2700        FEMALE  9.80589        -24.73735      \n",
              "96  205               4500        MALE   10.02544        -24.90816      \n",
              "97  210               3950        MALE    9.53262        -24.66867      \n",
              "98  187               3650        FEMALE  9.61734        -24.66188      \n",
              "99  196               3550        MALE   10.02372        -24.86594      \n",
              "100 196               3500        FEMALE  9.36493        -24.66259      \n",
              "101 196               3675        FEMALE  9.43684        -24.16566      \n",
              "102 201               4450        MALE    9.45827        -24.35575      \n",
              "103 190               3400        FEMALE  9.46819        -24.45721      \n",
              "104 212               4300        MALE    9.34089        -24.45189      \n",
              "105 187               3250        MALE    9.68950        -24.43062      \n",
              "106 198               3675        FEMALE  9.32169        -24.41562      \n",
              "107 199               3325        FEMALE  9.46929        -24.48403      \n",
              "108 201               3950        MALE    9.43782        -24.36202      \n",
              "109 193               3600        FEMALE  9.41500        -24.80500      \n",
              "110 203               4050        MALE    9.93727        -24.59066      \n",
              "111 187               3350        FEMALE  9.56534        -24.60882      \n",
              "112 197               3450        MALE    9.77528        -24.56481      \n",
              "113 191               3250        FEMALE  9.62357        -24.78984      \n",
              "114 203               4050        MALE    9.88809        -24.59513      \n",
              "115 202               3800        MALE    9.74492        -24.40400      \n",
              "116 194               3525        FEMALE  9.46985        -24.65786      \n",
              "117 206               3950        MALE         NA        -23.78767      \n",
              "118 189               3650        FEMALE  9.65061        -24.48153      \n",
              "119 195               3650        FEMALE  9.26715        -24.31912      \n",
              "120 207               4000        MALE    9.70465        -24.53494      \n",
              "121 202               3400        FEMALE  9.37608        -24.40753      \n",
              "122 193               3775        MALE    9.46180        -24.70615      \n",
              "123 210               4100        MALE    9.98044        -24.68741      \n",
              "124 198               3775        FEMALE  9.39305        -24.25255      \n",
              "    comments                                                            \n",
              "1   NA                                                                  \n",
              "2   NA                                                                  \n",
              "3   NA                                                                  \n",
              "4   NA                                                                  \n",
              "5   NA                                                                  \n",
              "6   NA                                                                  \n",
              "7   NA                                                                  \n",
              "8   NA                                                                  \n",
              "9   Nest never observed with full clutch.                               \n",
              "10  Nest never observed with full clutch. Not enough blood for isotopes.\n",
              "11  NA                                                                  \n",
              "12  Not enough blood for isotopes.                                      \n",
              "13  NA                                                                  \n",
              "14  NA                                                                  \n",
              "15  NA                                                                  \n",
              "16  NA                                                                  \n",
              "17  Not enough blood for isotopes.                                      \n",
              "18  Sexing primers did not amplify. Not enough blood for isotopes.      \n",
              "19  NA                                                                  \n",
              "20  NA                                                                  \n",
              "21  NA                                                                  \n",
              "22  NA                                                                  \n",
              "23  NA                                                                  \n",
              "24  NA                                                                  \n",
              "25  NA                                                                  \n",
              "26  NA                                                                  \n",
              "27  NA                                                                  \n",
              "28  NA                                                                  \n",
              "29  NA                                                                  \n",
              "30  NA                                                                  \n",
              "⋮   ⋮                                                                   \n",
              "95  Nest never observed with full clutch.                               \n",
              "96  Nest never observed with full clutch.                               \n",
              "97  NA                                                                  \n",
              "98  NA                                                                  \n",
              "99  NA                                                                  \n",
              "100 NA                                                                  \n",
              "101 NA                                                                  \n",
              "102 NA                                                                  \n",
              "103 NA                                                                  \n",
              "104 NA                                                                  \n",
              "105 NA                                                                  \n",
              "106 NA                                                                  \n",
              "107 NA                                                                  \n",
              "108 NA                                                                  \n",
              "109 NA                                                                  \n",
              "110 NA                                                                  \n",
              "111 NA                                                                  \n",
              "112 NA                                                                  \n",
              "113 NA                                                                  \n",
              "114 NA                                                                  \n",
              "115 NA                                                                  \n",
              "116 NA                                                                  \n",
              "117 No delta15N data received from lab.                                 \n",
              "118 NA                                                                  \n",
              "119 NA                                                                  \n",
              "120 NA                                                                  \n",
              "121 Nest never observed with full clutch.                               \n",
              "122 Nest never observed with full clutch.                               \n",
              "123 NA                                                                  \n",
              "124 NA                                                                  "
            ],
            "text/latex": "A tibble: 124 × 16\n\\begin{tabular}{llllllllllllllll}\n study\\_name & sample\\_number & species & latin\\_name & island & individual\\_id & clutch\\_completion & date\\_egg & culmen\\_length\\_mm & culmen\\_depth\\_mm & flipper\\_length\\_mm & body\\_mass\\_g & sex & delta\\_15\\_n\\_o\\_oo & delta\\_13\\_c\\_o\\_oo & comments\\\\\n <chr> & <dbl> & <chr> & <chr> & <chr> & <chr> & <chr> & <date> & <dbl> & <dbl> & <dbl> & <dbl> & <chr> & <dbl> & <dbl> & <chr>\\\\\n\\hline\n\t PAL0708 & 31 & Adelie Penguin & Pygoscelis adeliae) & Dream & N21A1 & Yes & 2007-11-09 & 39.5 & 16.7 & 178 & 3250 & FEMALE & 9.69756 & -25.11223 & NA                                                                  \\\\\n\t PAL0708 & 32 & Adelie Penguin & Pygoscelis adeliae) & Dream & N21A2 & Yes & 2007-11-09 & 37.2 & 18.1 & 178 & 3900 & MALE   & 9.72764 & -25.01020 & NA                                                                  \\\\\n\t PAL0708 & 33 & Adelie Penguin & Pygoscelis adeliae) & Dream & N22A1 & Yes & 2007-11-09 & 39.5 & 17.8 & 188 & 3300 & FEMALE & 9.66523 & -25.06020 & NA                                                                  \\\\\n\t PAL0708 & 34 & Adelie Penguin & Pygoscelis adeliae) & Dream & N22A2 & Yes & 2007-11-09 & 40.9 & 18.9 & 184 & 3900 & MALE   & 8.79665 & -25.14591 & NA                                                                  \\\\\n\t PAL0708 & 35 & Adelie Penguin & Pygoscelis adeliae) & Dream & N23A1 & Yes & 2007-11-16 & 36.4 & 17.0 & 195 & 3325 & FEMALE & 9.17847 & -25.23061 & NA                                                                  \\\\\n\t PAL0708 & 36 & Adelie Penguin & Pygoscelis adeliae) & Dream & N23A2 & Yes & 2007-11-16 & 39.2 & 21.1 & 196 & 4150 & MALE   & 9.15308 & -25.03469 & NA                                                                  \\\\\n\t PAL0708 & 37 & Adelie Penguin & Pygoscelis adeliae) & Dream & N24A1 & Yes & 2007-11-16 & 38.8 & 20.0 & 190 & 3950 & MALE   & 9.18985 & -25.12255 & NA                                                                  \\\\\n\t PAL0708 & 38 & Adelie Penguin & Pygoscelis adeliae) & Dream & N24A2 & Yes & 2007-11-16 & 42.2 & 18.5 & 180 & 3550 & FEMALE & 8.04787 & -25.49523 & NA                                                                  \\\\\n\t PAL0708 & 39 & Adelie Penguin & Pygoscelis adeliae) & Dream & N25A1 & No  & 2007-11-13 & 37.6 & 19.3 & 181 & 3300 & FEMALE & 9.41131 & -25.04169 & Nest never observed with full clutch.                               \\\\\n\t PAL0708 & 40 & Adelie Penguin & Pygoscelis adeliae) & Dream & N25A2 & No  & 2007-11-13 & 39.8 & 19.1 & 184 & 4650 & MALE   &      NA &        NA & Nest never observed with full clutch. Not enough blood for isotopes.\\\\\n\t PAL0708 & 41 & Adelie Penguin & Pygoscelis adeliae) & Dream & N26A1 & Yes & 2007-11-16 & 36.5 & 18.0 & 182 & 3150 & FEMALE & 9.68933 & -24.42280 & NA                                                                  \\\\\n\t PAL0708 & 42 & Adelie Penguin & Pygoscelis adeliae) & Dream & N26A2 & Yes & 2007-11-16 & 40.8 & 18.4 & 195 & 3900 & MALE   &      NA &        NA & Not enough blood for isotopes.                                      \\\\\n\t PAL0708 & 43 & Adelie Penguin & Pygoscelis adeliae) & Dream & N27A1 & Yes & 2007-11-19 & 36.0 & 18.5 & 186 & 3100 & FEMALE & 9.50772 & -25.03492 & NA                                                                  \\\\\n\t PAL0708 & 44 & Adelie Penguin & Pygoscelis adeliae) & Dream & N27A2 & Yes & 2007-11-19 & 44.1 & 19.7 & 196 & 4400 & MALE   & 9.23720 & -24.52698 & NA                                                                  \\\\\n\t PAL0708 & 45 & Adelie Penguin & Pygoscelis adeliae) & Dream & N28A1 & Yes & 2007-11-16 & 37.0 & 16.9 & 185 & 3000 & FEMALE & 9.36392 & -25.01745 & NA                                                                  \\\\\n\t PAL0708 & 46 & Adelie Penguin & Pygoscelis adeliae) & Dream & N28A2 & Yes & 2007-11-16 & 39.6 & 18.8 & 190 & 4600 & MALE   & 9.49106 & -24.10255 & NA                                                                  \\\\\n\t PAL0708 & 47 & Adelie Penguin & Pygoscelis adeliae) & Dream & N29A1 & Yes & 2007-11-13 & 41.1 & 19.0 & 182 & 3425 & MALE   &      NA &        NA & Not enough blood for isotopes.                                      \\\\\n\t PAL0708 & 48 & Adelie Penguin & Pygoscelis adeliae) & Dream & N29A2 & Yes & 2007-11-13 & 37.5 & 18.9 & 179 & 2975 & NA     &      NA &        NA & Sexing primers did not amplify. Not enough blood for isotopes.      \\\\\n\t PAL0708 & 49 & Adelie Penguin & Pygoscelis adeliae) & Dream & N30A1 & Yes & 2007-11-13 & 36.0 & 17.9 & 190 & 3450 & FEMALE & 9.51784 & -25.07683 & NA                                                                  \\\\\n\t PAL0708 & 50 & Adelie Penguin & Pygoscelis adeliae) & Dream & N30A2 & Yes & 2007-11-13 & 42.3 & 21.2 & 191 & 4150 & MALE   & 8.87988 & -25.18543 & NA                                                                  \\\\\n\t PAL0809 & 85 & Adelie Penguin & Pygoscelis adeliae) & Dream & N41A1 & Yes & 2008-11-17 & 37.3 & 17.8 & 191 & 3350 & FEMALE & 8.32718 & -26.38396 & NA                                                                  \\\\\n\t PAL0809 & 86 & Adelie Penguin & Pygoscelis adeliae) & Dream & N41A2 & Yes & 2008-11-17 & 41.3 & 20.3 & 194 & 3550 & MALE   & 9.14863 & -26.09635 & NA                                                                  \\\\\n\t PAL0809 & 87 & Adelie Penguin & Pygoscelis adeliae) & Dream & N42A1 & Yes & 2008-11-08 & 36.3 & 19.5 & 190 & 3800 & MALE   & 8.57087 & -26.22227 & NA                                                                  \\\\\n\t PAL0809 & 88 & Adelie Penguin & Pygoscelis adeliae) & Dream & N42A2 & Yes & 2008-11-08 & 36.9 & 18.6 & 189 & 3500 & FEMALE & 8.59147 & -26.08165 & NA                                                                  \\\\\n\t PAL0809 & 89 & Adelie Penguin & Pygoscelis adeliae) & Dream & N44A1 & Yes & 2008-11-08 & 38.3 & 19.2 & 189 & 3950 & MALE   & 9.07826 & -26.12417 & NA                                                                  \\\\\n\t PAL0809 & 90 & Adelie Penguin & Pygoscelis adeliae) & Dream & N44A2 & Yes & 2008-11-08 & 38.9 & 18.8 & 190 & 3600 & FEMALE & 8.36936 & -26.11199 & NA                                                                  \\\\\n\t PAL0809 & 91 & Adelie Penguin & Pygoscelis adeliae) & Dream & N45A1 & Yes & 2008-11-14 & 35.7 & 18.0 & 202 & 3550 & FEMALE & 8.46531 & -26.05621 & NA                                                                  \\\\\n\t PAL0809 & 92 & Adelie Penguin & Pygoscelis adeliae) & Dream & N45A2 & Yes & 2008-11-14 & 41.1 & 18.1 & 205 & 4300 & MALE   & 8.77018 & -25.83352 & NA                                                                  \\\\\n\t PAL0809 & 93 & Adelie Penguin & Pygoscelis adeliae) & Dream & N46A1 & Yes & 2008-11-05 & 34.0 & 17.1 & 185 & 3400 & FEMALE & 8.01485 & -26.69543 & NA                                                                  \\\\\n\t PAL0809 & 94 & Adelie Penguin & Pygoscelis adeliae) & Dream & N46A2 & Yes & 2008-11-05 & 39.6 & 18.1 & 186 & 4450 & MALE   & 8.49915 & -26.42406 & NA                                                                  \\\\\n\t ⋮ & ⋮ & ⋮ & ⋮ & ⋮ & ⋮ & ⋮ & ⋮ & ⋮ & ⋮ & ⋮ & ⋮ & ⋮ & ⋮ & ⋮ & ⋮\\\\\n\t PAL0809 & 39 & Chinstrap penguin & Pygoscelis antarctica) & Dream & N72A1  & No  & 2008-11-24 & 46.9 & 16.6 & 192 & 2700 & FEMALE &  9.80589 & -24.73735 & Nest never observed with full clutch.\\\\\n\t PAL0809 & 40 & Chinstrap penguin & Pygoscelis antarctica) & Dream & N72A2  & No  & 2008-11-24 & 53.5 & 19.9 & 205 & 4500 & MALE   & 10.02544 & -24.90816 & Nest never observed with full clutch.\\\\\n\t PAL0809 & 41 & Chinstrap penguin & Pygoscelis antarctica) & Dream & N74A1  & Yes & 2008-11-24 & 49.0 & 19.5 & 210 & 3950 & MALE   &  9.53262 & -24.66867 & NA                                   \\\\\n\t PAL0809 & 42 & Chinstrap penguin & Pygoscelis antarctica) & Dream & N74A2  & Yes & 2008-11-24 & 46.2 & 17.5 & 187 & 3650 & FEMALE &  9.61734 & -24.66188 & NA                                   \\\\\n\t PAL0809 & 43 & Chinstrap penguin & Pygoscelis antarctica) & Dream & N75A1  & Yes & 2008-11-14 & 50.9 & 19.1 & 196 & 3550 & MALE   & 10.02372 & -24.86594 & NA                                   \\\\\n\t PAL0809 & 44 & Chinstrap penguin & Pygoscelis antarctica) & Dream & N75A2  & Yes & 2008-11-14 & 45.5 & 17.0 & 196 & 3500 & FEMALE &  9.36493 & -24.66259 & NA                                   \\\\\n\t PAL0910 & 45 & Chinstrap penguin & Pygoscelis antarctica) & Dream & N86A1  & Yes & 2009-11-17 & 50.9 & 17.9 & 196 & 3675 & FEMALE &  9.43684 & -24.16566 & NA                                   \\\\\n\t PAL0910 & 46 & Chinstrap penguin & Pygoscelis antarctica) & Dream & N86A2  & Yes & 2009-11-17 & 50.8 & 18.5 & 201 & 4450 & MALE   &  9.45827 & -24.35575 & NA                                   \\\\\n\t PAL0910 & 47 & Chinstrap penguin & Pygoscelis antarctica) & Dream & N87A1  & Yes & 2009-11-27 & 50.1 & 17.9 & 190 & 3400 & FEMALE &  9.46819 & -24.45721 & NA                                   \\\\\n\t PAL0910 & 48 & Chinstrap penguin & Pygoscelis antarctica) & Dream & N87A2  & Yes & 2009-11-27 & 49.0 & 19.6 & 212 & 4300 & MALE   &  9.34089 & -24.45189 & NA                                   \\\\\n\t PAL0910 & 49 & Chinstrap penguin & Pygoscelis antarctica) & Dream & N88A1  & Yes & 2009-11-23 & 51.5 & 18.7 & 187 & 3250 & MALE   &  9.68950 & -24.43062 & NA                                   \\\\\n\t PAL0910 & 50 & Chinstrap penguin & Pygoscelis antarctica) & Dream & N88A2  & Yes & 2009-11-23 & 49.8 & 17.3 & 198 & 3675 & FEMALE &  9.32169 & -24.41562 & NA                                   \\\\\n\t PAL0910 & 51 & Chinstrap penguin & Pygoscelis antarctica) & Dream & N90A1  & Yes & 2009-11-21 & 48.1 & 16.4 & 199 & 3325 & FEMALE &  9.46929 & -24.48403 & NA                                   \\\\\n\t PAL0910 & 52 & Chinstrap penguin & Pygoscelis antarctica) & Dream & N90A2  & Yes & 2009-11-21 & 51.4 & 19.0 & 201 & 3950 & MALE   &  9.43782 & -24.36202 & NA                                   \\\\\n\t PAL0910 & 53 & Chinstrap penguin & Pygoscelis antarctica) & Dream & N92A1  & Yes & 2009-11-23 & 45.7 & 17.3 & 193 & 3600 & FEMALE &  9.41500 & -24.80500 & NA                                   \\\\\n\t PAL0910 & 54 & Chinstrap penguin & Pygoscelis antarctica) & Dream & N92A2  & Yes & 2009-11-23 & 50.7 & 19.7 & 203 & 4050 & MALE   &  9.93727 & -24.59066 & NA                                   \\\\\n\t PAL0910 & 55 & Chinstrap penguin & Pygoscelis antarctica) & Dream & N93A1  & Yes & 2009-11-27 & 42.5 & 17.3 & 187 & 3350 & FEMALE &  9.56534 & -24.60882 & NA                                   \\\\\n\t PAL0910 & 56 & Chinstrap penguin & Pygoscelis antarctica) & Dream & N93A2  & Yes & 2009-11-27 & 52.2 & 18.8 & 197 & 3450 & MALE   &  9.77528 & -24.56481 & NA                                   \\\\\n\t PAL0910 & 57 & Chinstrap penguin & Pygoscelis antarctica) & Dream & N94A1  & Yes & 2009-11-21 & 45.2 & 16.6 & 191 & 3250 & FEMALE &  9.62357 & -24.78984 & NA                                   \\\\\n\t PAL0910 & 58 & Chinstrap penguin & Pygoscelis antarctica) & Dream & N94A2  & Yes & 2009-11-21 & 49.3 & 19.9 & 203 & 4050 & MALE   &  9.88809 & -24.59513 & NA                                   \\\\\n\t PAL0910 & 59 & Chinstrap penguin & Pygoscelis antarctica) & Dream & N95A1  & Yes & 2009-11-21 & 50.2 & 18.8 & 202 & 3800 & MALE   &  9.74492 & -24.40400 & NA                                   \\\\\n\t PAL0910 & 60 & Chinstrap penguin & Pygoscelis antarctica) & Dream & N95A2  & Yes & 2009-11-21 & 45.6 & 19.4 & 194 & 3525 & FEMALE &  9.46985 & -24.65786 & NA                                   \\\\\n\t PAL0910 & 61 & Chinstrap penguin & Pygoscelis antarctica) & Dream & N96A1  & Yes & 2009-11-27 & 51.9 & 19.5 & 206 & 3950 & MALE   &       NA & -23.78767 & No delta15N data received from lab.  \\\\\n\t PAL0910 & 62 & Chinstrap penguin & Pygoscelis antarctica) & Dream & N96A2  & Yes & 2009-11-27 & 46.8 & 16.5 & 189 & 3650 & FEMALE &  9.65061 & -24.48153 & NA                                   \\\\\n\t PAL0910 & 63 & Chinstrap penguin & Pygoscelis antarctica) & Dream & N98A1  & Yes & 2009-11-19 & 45.7 & 17.0 & 195 & 3650 & FEMALE &  9.26715 & -24.31912 & NA                                   \\\\\n\t PAL0910 & 64 & Chinstrap penguin & Pygoscelis antarctica) & Dream & N98A2  & Yes & 2009-11-19 & 55.8 & 19.8 & 207 & 4000 & MALE   &  9.70465 & -24.53494 & NA                                   \\\\\n\t PAL0910 & 65 & Chinstrap penguin & Pygoscelis antarctica) & Dream & N99A1  & No  & 2009-11-21 & 43.5 & 18.1 & 202 & 3400 & FEMALE &  9.37608 & -24.40753 & Nest never observed with full clutch.\\\\\n\t PAL0910 & 66 & Chinstrap penguin & Pygoscelis antarctica) & Dream & N99A2  & No  & 2009-11-21 & 49.6 & 18.2 & 193 & 3775 & MALE   &  9.46180 & -24.70615 & Nest never observed with full clutch.\\\\\n\t PAL0910 & 67 & Chinstrap penguin & Pygoscelis antarctica) & Dream & N100A1 & Yes & 2009-11-21 & 50.8 & 19.0 & 210 & 4100 & MALE   &  9.98044 & -24.68741 & NA                                   \\\\\n\t PAL0910 & 68 & Chinstrap penguin & Pygoscelis antarctica) & Dream & N100A2 & Yes & 2009-11-21 & 50.2 & 18.7 & 198 & 3775 & FEMALE &  9.39305 & -24.25255 & NA                                   \\\\\n\\end{tabular}\n",
            "text/markdown": "\nA tibble: 124 × 16\n\n| study_name &lt;chr&gt; | sample_number &lt;dbl&gt; | species &lt;chr&gt; | latin_name &lt;chr&gt; | island &lt;chr&gt; | individual_id &lt;chr&gt; | clutch_completion &lt;chr&gt; | date_egg &lt;date&gt; | culmen_length_mm &lt;dbl&gt; | culmen_depth_mm &lt;dbl&gt; | flipper_length_mm &lt;dbl&gt; | body_mass_g &lt;dbl&gt; | sex &lt;chr&gt; | delta_15_n_o_oo &lt;dbl&gt; | delta_13_c_o_oo &lt;dbl&gt; | comments &lt;chr&gt; |\n|---|---|---|---|---|---|---|---|---|---|---|---|---|---|---|---|\n| PAL0708 | 31 | Adelie Penguin | Pygoscelis adeliae) | Dream | N21A1 | Yes | 2007-11-09 | 39.5 | 16.7 | 178 | 3250 | FEMALE | 9.69756 | -25.11223 | NA                                                                   |\n| PAL0708 | 32 | Adelie Penguin | Pygoscelis adeliae) | Dream | N21A2 | Yes | 2007-11-09 | 37.2 | 18.1 | 178 | 3900 | MALE   | 9.72764 | -25.01020 | NA                                                                   |\n| PAL0708 | 33 | Adelie Penguin | Pygoscelis adeliae) | Dream | N22A1 | Yes | 2007-11-09 | 39.5 | 17.8 | 188 | 3300 | FEMALE | 9.66523 | -25.06020 | NA                                                                   |\n| PAL0708 | 34 | Adelie Penguin | Pygoscelis adeliae) | Dream | N22A2 | Yes | 2007-11-09 | 40.9 | 18.9 | 184 | 3900 | MALE   | 8.79665 | -25.14591 | NA                                                                   |\n| PAL0708 | 35 | Adelie Penguin | Pygoscelis adeliae) | Dream | N23A1 | Yes | 2007-11-16 | 36.4 | 17.0 | 195 | 3325 | FEMALE | 9.17847 | -25.23061 | NA                                                                   |\n| PAL0708 | 36 | Adelie Penguin | Pygoscelis adeliae) | Dream | N23A2 | Yes | 2007-11-16 | 39.2 | 21.1 | 196 | 4150 | MALE   | 9.15308 | -25.03469 | NA                                                                   |\n| PAL0708 | 37 | Adelie Penguin | Pygoscelis adeliae) | Dream | N24A1 | Yes | 2007-11-16 | 38.8 | 20.0 | 190 | 3950 | MALE   | 9.18985 | -25.12255 | NA                                                                   |\n| PAL0708 | 38 | Adelie Penguin | Pygoscelis adeliae) | Dream | N24A2 | Yes | 2007-11-16 | 42.2 | 18.5 | 180 | 3550 | FEMALE | 8.04787 | -25.49523 | NA                                                                   |\n| PAL0708 | 39 | Adelie Penguin | Pygoscelis adeliae) | Dream | N25A1 | No  | 2007-11-13 | 37.6 | 19.3 | 181 | 3300 | FEMALE | 9.41131 | -25.04169 | Nest never observed with full clutch.                                |\n| PAL0708 | 40 | Adelie Penguin | Pygoscelis adeliae) | Dream | N25A2 | No  | 2007-11-13 | 39.8 | 19.1 | 184 | 4650 | MALE   |      NA |        NA | Nest never observed with full clutch. Not enough blood for isotopes. |\n| PAL0708 | 41 | Adelie Penguin | Pygoscelis adeliae) | Dream | N26A1 | Yes | 2007-11-16 | 36.5 | 18.0 | 182 | 3150 | FEMALE | 9.68933 | -24.42280 | NA                                                                   |\n| PAL0708 | 42 | Adelie Penguin | Pygoscelis adeliae) | Dream | N26A2 | Yes | 2007-11-16 | 40.8 | 18.4 | 195 | 3900 | MALE   |      NA |        NA | Not enough blood for isotopes.                                       |\n| PAL0708 | 43 | Adelie Penguin | Pygoscelis adeliae) | Dream | N27A1 | Yes | 2007-11-19 | 36.0 | 18.5 | 186 | 3100 | FEMALE | 9.50772 | -25.03492 | NA                                                                   |\n| PAL0708 | 44 | Adelie Penguin | Pygoscelis adeliae) | Dream | N27A2 | Yes | 2007-11-19 | 44.1 | 19.7 | 196 | 4400 | MALE   | 9.23720 | -24.52698 | NA                                                                   |\n| PAL0708 | 45 | Adelie Penguin | Pygoscelis adeliae) | Dream | N28A1 | Yes | 2007-11-16 | 37.0 | 16.9 | 185 | 3000 | FEMALE | 9.36392 | -25.01745 | NA                                                                   |\n| PAL0708 | 46 | Adelie Penguin | Pygoscelis adeliae) | Dream | N28A2 | Yes | 2007-11-16 | 39.6 | 18.8 | 190 | 4600 | MALE   | 9.49106 | -24.10255 | NA                                                                   |\n| PAL0708 | 47 | Adelie Penguin | Pygoscelis adeliae) | Dream | N29A1 | Yes | 2007-11-13 | 41.1 | 19.0 | 182 | 3425 | MALE   |      NA |        NA | Not enough blood for isotopes.                                       |\n| PAL0708 | 48 | Adelie Penguin | Pygoscelis adeliae) | Dream | N29A2 | Yes | 2007-11-13 | 37.5 | 18.9 | 179 | 2975 | NA     |      NA |        NA | Sexing primers did not amplify. Not enough blood for isotopes.       |\n| PAL0708 | 49 | Adelie Penguin | Pygoscelis adeliae) | Dream | N30A1 | Yes | 2007-11-13 | 36.0 | 17.9 | 190 | 3450 | FEMALE | 9.51784 | -25.07683 | NA                                                                   |\n| PAL0708 | 50 | Adelie Penguin | Pygoscelis adeliae) | Dream | N30A2 | Yes | 2007-11-13 | 42.3 | 21.2 | 191 | 4150 | MALE   | 8.87988 | -25.18543 | NA                                                                   |\n| PAL0809 | 85 | Adelie Penguin | Pygoscelis adeliae) | Dream | N41A1 | Yes | 2008-11-17 | 37.3 | 17.8 | 191 | 3350 | FEMALE | 8.32718 | -26.38396 | NA                                                                   |\n| PAL0809 | 86 | Adelie Penguin | Pygoscelis adeliae) | Dream | N41A2 | Yes | 2008-11-17 | 41.3 | 20.3 | 194 | 3550 | MALE   | 9.14863 | -26.09635 | NA                                                                   |\n| PAL0809 | 87 | Adelie Penguin | Pygoscelis adeliae) | Dream | N42A1 | Yes | 2008-11-08 | 36.3 | 19.5 | 190 | 3800 | MALE   | 8.57087 | -26.22227 | NA                                                                   |\n| PAL0809 | 88 | Adelie Penguin | Pygoscelis adeliae) | Dream | N42A2 | Yes | 2008-11-08 | 36.9 | 18.6 | 189 | 3500 | FEMALE | 8.59147 | -26.08165 | NA                                                                   |\n| PAL0809 | 89 | Adelie Penguin | Pygoscelis adeliae) | Dream | N44A1 | Yes | 2008-11-08 | 38.3 | 19.2 | 189 | 3950 | MALE   | 9.07826 | -26.12417 | NA                                                                   |\n| PAL0809 | 90 | Adelie Penguin | Pygoscelis adeliae) | Dream | N44A2 | Yes | 2008-11-08 | 38.9 | 18.8 | 190 | 3600 | FEMALE | 8.36936 | -26.11199 | NA                                                                   |\n| PAL0809 | 91 | Adelie Penguin | Pygoscelis adeliae) | Dream | N45A1 | Yes | 2008-11-14 | 35.7 | 18.0 | 202 | 3550 | FEMALE | 8.46531 | -26.05621 | NA                                                                   |\n| PAL0809 | 92 | Adelie Penguin | Pygoscelis adeliae) | Dream | N45A2 | Yes | 2008-11-14 | 41.1 | 18.1 | 205 | 4300 | MALE   | 8.77018 | -25.83352 | NA                                                                   |\n| PAL0809 | 93 | Adelie Penguin | Pygoscelis adeliae) | Dream | N46A1 | Yes | 2008-11-05 | 34.0 | 17.1 | 185 | 3400 | FEMALE | 8.01485 | -26.69543 | NA                                                                   |\n| PAL0809 | 94 | Adelie Penguin | Pygoscelis adeliae) | Dream | N46A2 | Yes | 2008-11-05 | 39.6 | 18.1 | 186 | 4450 | MALE   | 8.49915 | -26.42406 | NA                                                                   |\n| ⋮ | ⋮ | ⋮ | ⋮ | ⋮ | ⋮ | ⋮ | ⋮ | ⋮ | ⋮ | ⋮ | ⋮ | ⋮ | ⋮ | ⋮ | ⋮ |\n| PAL0809 | 39 | Chinstrap penguin | Pygoscelis antarctica) | Dream | N72A1  | No  | 2008-11-24 | 46.9 | 16.6 | 192 | 2700 | FEMALE |  9.80589 | -24.73735 | Nest never observed with full clutch. |\n| PAL0809 | 40 | Chinstrap penguin | Pygoscelis antarctica) | Dream | N72A2  | No  | 2008-11-24 | 53.5 | 19.9 | 205 | 4500 | MALE   | 10.02544 | -24.90816 | Nest never observed with full clutch. |\n| PAL0809 | 41 | Chinstrap penguin | Pygoscelis antarctica) | Dream | N74A1  | Yes | 2008-11-24 | 49.0 | 19.5 | 210 | 3950 | MALE   |  9.53262 | -24.66867 | NA                                    |\n| PAL0809 | 42 | Chinstrap penguin | Pygoscelis antarctica) | Dream | N74A2  | Yes | 2008-11-24 | 46.2 | 17.5 | 187 | 3650 | FEMALE |  9.61734 | -24.66188 | NA                                    |\n| PAL0809 | 43 | Chinstrap penguin | Pygoscelis antarctica) | Dream | N75A1  | Yes | 2008-11-14 | 50.9 | 19.1 | 196 | 3550 | MALE   | 10.02372 | -24.86594 | NA                                    |\n| PAL0809 | 44 | Chinstrap penguin | Pygoscelis antarctica) | Dream | N75A2  | Yes | 2008-11-14 | 45.5 | 17.0 | 196 | 3500 | FEMALE |  9.36493 | -24.66259 | NA                                    |\n| PAL0910 | 45 | Chinstrap penguin | Pygoscelis antarctica) | Dream | N86A1  | Yes | 2009-11-17 | 50.9 | 17.9 | 196 | 3675 | FEMALE |  9.43684 | -24.16566 | NA                                    |\n| PAL0910 | 46 | Chinstrap penguin | Pygoscelis antarctica) | Dream | N86A2  | Yes | 2009-11-17 | 50.8 | 18.5 | 201 | 4450 | MALE   |  9.45827 | -24.35575 | NA                                    |\n| PAL0910 | 47 | Chinstrap penguin | Pygoscelis antarctica) | Dream | N87A1  | Yes | 2009-11-27 | 50.1 | 17.9 | 190 | 3400 | FEMALE |  9.46819 | -24.45721 | NA                                    |\n| PAL0910 | 48 | Chinstrap penguin | Pygoscelis antarctica) | Dream | N87A2  | Yes | 2009-11-27 | 49.0 | 19.6 | 212 | 4300 | MALE   |  9.34089 | -24.45189 | NA                                    |\n| PAL0910 | 49 | Chinstrap penguin | Pygoscelis antarctica) | Dream | N88A1  | Yes | 2009-11-23 | 51.5 | 18.7 | 187 | 3250 | MALE   |  9.68950 | -24.43062 | NA                                    |\n| PAL0910 | 50 | Chinstrap penguin | Pygoscelis antarctica) | Dream | N88A2  | Yes | 2009-11-23 | 49.8 | 17.3 | 198 | 3675 | FEMALE |  9.32169 | -24.41562 | NA                                    |\n| PAL0910 | 51 | Chinstrap penguin | Pygoscelis antarctica) | Dream | N90A1  | Yes | 2009-11-21 | 48.1 | 16.4 | 199 | 3325 | FEMALE |  9.46929 | -24.48403 | NA                                    |\n| PAL0910 | 52 | Chinstrap penguin | Pygoscelis antarctica) | Dream | N90A2  | Yes | 2009-11-21 | 51.4 | 19.0 | 201 | 3950 | MALE   |  9.43782 | -24.36202 | NA                                    |\n| PAL0910 | 53 | Chinstrap penguin | Pygoscelis antarctica) | Dream | N92A1  | Yes | 2009-11-23 | 45.7 | 17.3 | 193 | 3600 | FEMALE |  9.41500 | -24.80500 | NA                                    |\n| PAL0910 | 54 | Chinstrap penguin | Pygoscelis antarctica) | Dream | N92A2  | Yes | 2009-11-23 | 50.7 | 19.7 | 203 | 4050 | MALE   |  9.93727 | -24.59066 | NA                                    |\n| PAL0910 | 55 | Chinstrap penguin | Pygoscelis antarctica) | Dream | N93A1  | Yes | 2009-11-27 | 42.5 | 17.3 | 187 | 3350 | FEMALE |  9.56534 | -24.60882 | NA                                    |\n| PAL0910 | 56 | Chinstrap penguin | Pygoscelis antarctica) | Dream | N93A2  | Yes | 2009-11-27 | 52.2 | 18.8 | 197 | 3450 | MALE   |  9.77528 | -24.56481 | NA                                    |\n| PAL0910 | 57 | Chinstrap penguin | Pygoscelis antarctica) | Dream | N94A1  | Yes | 2009-11-21 | 45.2 | 16.6 | 191 | 3250 | FEMALE |  9.62357 | -24.78984 | NA                                    |\n| PAL0910 | 58 | Chinstrap penguin | Pygoscelis antarctica) | Dream | N94A2  | Yes | 2009-11-21 | 49.3 | 19.9 | 203 | 4050 | MALE   |  9.88809 | -24.59513 | NA                                    |\n| PAL0910 | 59 | Chinstrap penguin | Pygoscelis antarctica) | Dream | N95A1  | Yes | 2009-11-21 | 50.2 | 18.8 | 202 | 3800 | MALE   |  9.74492 | -24.40400 | NA                                    |\n| PAL0910 | 60 | Chinstrap penguin | Pygoscelis antarctica) | Dream | N95A2  | Yes | 2009-11-21 | 45.6 | 19.4 | 194 | 3525 | FEMALE |  9.46985 | -24.65786 | NA                                    |\n| PAL0910 | 61 | Chinstrap penguin | Pygoscelis antarctica) | Dream | N96A1  | Yes | 2009-11-27 | 51.9 | 19.5 | 206 | 3950 | MALE   |       NA | -23.78767 | No delta15N data received from lab.   |\n| PAL0910 | 62 | Chinstrap penguin | Pygoscelis antarctica) | Dream | N96A2  | Yes | 2009-11-27 | 46.8 | 16.5 | 189 | 3650 | FEMALE |  9.65061 | -24.48153 | NA                                    |\n| PAL0910 | 63 | Chinstrap penguin | Pygoscelis antarctica) | Dream | N98A1  | Yes | 2009-11-19 | 45.7 | 17.0 | 195 | 3650 | FEMALE |  9.26715 | -24.31912 | NA                                    |\n| PAL0910 | 64 | Chinstrap penguin | Pygoscelis antarctica) | Dream | N98A2  | Yes | 2009-11-19 | 55.8 | 19.8 | 207 | 4000 | MALE   |  9.70465 | -24.53494 | NA                                    |\n| PAL0910 | 65 | Chinstrap penguin | Pygoscelis antarctica) | Dream | N99A1  | No  | 2009-11-21 | 43.5 | 18.1 | 202 | 3400 | FEMALE |  9.37608 | -24.40753 | Nest never observed with full clutch. |\n| PAL0910 | 66 | Chinstrap penguin | Pygoscelis antarctica) | Dream | N99A2  | No  | 2009-11-21 | 49.6 | 18.2 | 193 | 3775 | MALE   |  9.46180 | -24.70615 | Nest never observed with full clutch. |\n| PAL0910 | 67 | Chinstrap penguin | Pygoscelis antarctica) | Dream | N100A1 | Yes | 2009-11-21 | 50.8 | 19.0 | 210 | 4100 | MALE   |  9.98044 | -24.68741 | NA                                    |\n| PAL0910 | 68 | Chinstrap penguin | Pygoscelis antarctica) | Dream | N100A2 | Yes | 2009-11-21 | 50.2 | 18.7 | 198 | 3775 | FEMALE |  9.39305 | -24.25255 | NA                                    |\n\n",
            "text/html": [
              "<table class=\"dataframe\">\n",
              "<caption>A tibble: 124 × 16</caption>\n",
              "<thead>\n",
              "\t<tr><th scope=col>study_name</th><th scope=col>sample_number</th><th scope=col>species</th><th scope=col>latin_name</th><th scope=col>island</th><th scope=col>individual_id</th><th scope=col>clutch_completion</th><th scope=col>date_egg</th><th scope=col>culmen_length_mm</th><th scope=col>culmen_depth_mm</th><th scope=col>flipper_length_mm</th><th scope=col>body_mass_g</th><th scope=col>sex</th><th scope=col>delta_15_n_o_oo</th><th scope=col>delta_13_c_o_oo</th><th scope=col>comments</th></tr>\n",
              "\t<tr><th scope=col>&lt;chr&gt;</th><th scope=col>&lt;dbl&gt;</th><th scope=col>&lt;chr&gt;</th><th scope=col>&lt;chr&gt;</th><th scope=col>&lt;chr&gt;</th><th scope=col>&lt;chr&gt;</th><th scope=col>&lt;chr&gt;</th><th scope=col>&lt;date&gt;</th><th scope=col>&lt;dbl&gt;</th><th scope=col>&lt;dbl&gt;</th><th scope=col>&lt;dbl&gt;</th><th scope=col>&lt;dbl&gt;</th><th scope=col>&lt;chr&gt;</th><th scope=col>&lt;dbl&gt;</th><th scope=col>&lt;dbl&gt;</th><th scope=col>&lt;chr&gt;</th></tr>\n",
              "</thead>\n",
              "<tbody>\n",
              "\t<tr><td>PAL0708</td><td>31</td><td>Adelie Penguin</td><td>Pygoscelis adeliae)</td><td>Dream</td><td>N21A1</td><td>Yes</td><td>2007-11-09</td><td>39.5</td><td>16.7</td><td>178</td><td>3250</td><td>FEMALE</td><td>9.69756</td><td>-25.11223</td><td>NA                                                                  </td></tr>\n",
              "\t<tr><td>PAL0708</td><td>32</td><td>Adelie Penguin</td><td>Pygoscelis adeliae)</td><td>Dream</td><td>N21A2</td><td>Yes</td><td>2007-11-09</td><td>37.2</td><td>18.1</td><td>178</td><td>3900</td><td>MALE  </td><td>9.72764</td><td>-25.01020</td><td>NA                                                                  </td></tr>\n",
              "\t<tr><td>PAL0708</td><td>33</td><td>Adelie Penguin</td><td>Pygoscelis adeliae)</td><td>Dream</td><td>N22A1</td><td>Yes</td><td>2007-11-09</td><td>39.5</td><td>17.8</td><td>188</td><td>3300</td><td>FEMALE</td><td>9.66523</td><td>-25.06020</td><td>NA                                                                  </td></tr>\n",
              "\t<tr><td>PAL0708</td><td>34</td><td>Adelie Penguin</td><td>Pygoscelis adeliae)</td><td>Dream</td><td>N22A2</td><td>Yes</td><td>2007-11-09</td><td>40.9</td><td>18.9</td><td>184</td><td>3900</td><td>MALE  </td><td>8.79665</td><td>-25.14591</td><td>NA                                                                  </td></tr>\n",
              "\t<tr><td>PAL0708</td><td>35</td><td>Adelie Penguin</td><td>Pygoscelis adeliae)</td><td>Dream</td><td>N23A1</td><td>Yes</td><td>2007-11-16</td><td>36.4</td><td>17.0</td><td>195</td><td>3325</td><td>FEMALE</td><td>9.17847</td><td>-25.23061</td><td>NA                                                                  </td></tr>\n",
              "\t<tr><td>PAL0708</td><td>36</td><td>Adelie Penguin</td><td>Pygoscelis adeliae)</td><td>Dream</td><td>N23A2</td><td>Yes</td><td>2007-11-16</td><td>39.2</td><td>21.1</td><td>196</td><td>4150</td><td>MALE  </td><td>9.15308</td><td>-25.03469</td><td>NA                                                                  </td></tr>\n",
              "\t<tr><td>PAL0708</td><td>37</td><td>Adelie Penguin</td><td>Pygoscelis adeliae)</td><td>Dream</td><td>N24A1</td><td>Yes</td><td>2007-11-16</td><td>38.8</td><td>20.0</td><td>190</td><td>3950</td><td>MALE  </td><td>9.18985</td><td>-25.12255</td><td>NA                                                                  </td></tr>\n",
              "\t<tr><td>PAL0708</td><td>38</td><td>Adelie Penguin</td><td>Pygoscelis adeliae)</td><td>Dream</td><td>N24A2</td><td>Yes</td><td>2007-11-16</td><td>42.2</td><td>18.5</td><td>180</td><td>3550</td><td>FEMALE</td><td>8.04787</td><td>-25.49523</td><td>NA                                                                  </td></tr>\n",
              "\t<tr><td>PAL0708</td><td>39</td><td>Adelie Penguin</td><td>Pygoscelis adeliae)</td><td>Dream</td><td>N25A1</td><td>No </td><td>2007-11-13</td><td>37.6</td><td>19.3</td><td>181</td><td>3300</td><td>FEMALE</td><td>9.41131</td><td>-25.04169</td><td>Nest never observed with full clutch.                               </td></tr>\n",
              "\t<tr><td>PAL0708</td><td>40</td><td>Adelie Penguin</td><td>Pygoscelis adeliae)</td><td>Dream</td><td>N25A2</td><td>No </td><td>2007-11-13</td><td>39.8</td><td>19.1</td><td>184</td><td>4650</td><td>MALE  </td><td>     NA</td><td>       NA</td><td>Nest never observed with full clutch. Not enough blood for isotopes.</td></tr>\n",
              "\t<tr><td>PAL0708</td><td>41</td><td>Adelie Penguin</td><td>Pygoscelis adeliae)</td><td>Dream</td><td>N26A1</td><td>Yes</td><td>2007-11-16</td><td>36.5</td><td>18.0</td><td>182</td><td>3150</td><td>FEMALE</td><td>9.68933</td><td>-24.42280</td><td>NA                                                                  </td></tr>\n",
              "\t<tr><td>PAL0708</td><td>42</td><td>Adelie Penguin</td><td>Pygoscelis adeliae)</td><td>Dream</td><td>N26A2</td><td>Yes</td><td>2007-11-16</td><td>40.8</td><td>18.4</td><td>195</td><td>3900</td><td>MALE  </td><td>     NA</td><td>       NA</td><td>Not enough blood for isotopes.                                      </td></tr>\n",
              "\t<tr><td>PAL0708</td><td>43</td><td>Adelie Penguin</td><td>Pygoscelis adeliae)</td><td>Dream</td><td>N27A1</td><td>Yes</td><td>2007-11-19</td><td>36.0</td><td>18.5</td><td>186</td><td>3100</td><td>FEMALE</td><td>9.50772</td><td>-25.03492</td><td>NA                                                                  </td></tr>\n",
              "\t<tr><td>PAL0708</td><td>44</td><td>Adelie Penguin</td><td>Pygoscelis adeliae)</td><td>Dream</td><td>N27A2</td><td>Yes</td><td>2007-11-19</td><td>44.1</td><td>19.7</td><td>196</td><td>4400</td><td>MALE  </td><td>9.23720</td><td>-24.52698</td><td>NA                                                                  </td></tr>\n",
              "\t<tr><td>PAL0708</td><td>45</td><td>Adelie Penguin</td><td>Pygoscelis adeliae)</td><td>Dream</td><td>N28A1</td><td>Yes</td><td>2007-11-16</td><td>37.0</td><td>16.9</td><td>185</td><td>3000</td><td>FEMALE</td><td>9.36392</td><td>-25.01745</td><td>NA                                                                  </td></tr>\n",
              "\t<tr><td>PAL0708</td><td>46</td><td>Adelie Penguin</td><td>Pygoscelis adeliae)</td><td>Dream</td><td>N28A2</td><td>Yes</td><td>2007-11-16</td><td>39.6</td><td>18.8</td><td>190</td><td>4600</td><td>MALE  </td><td>9.49106</td><td>-24.10255</td><td>NA                                                                  </td></tr>\n",
              "\t<tr><td>PAL0708</td><td>47</td><td>Adelie Penguin</td><td>Pygoscelis adeliae)</td><td>Dream</td><td>N29A1</td><td>Yes</td><td>2007-11-13</td><td>41.1</td><td>19.0</td><td>182</td><td>3425</td><td>MALE  </td><td>     NA</td><td>       NA</td><td>Not enough blood for isotopes.                                      </td></tr>\n",
              "\t<tr><td>PAL0708</td><td>48</td><td>Adelie Penguin</td><td>Pygoscelis adeliae)</td><td>Dream</td><td>N29A2</td><td>Yes</td><td>2007-11-13</td><td>37.5</td><td>18.9</td><td>179</td><td>2975</td><td>NA    </td><td>     NA</td><td>       NA</td><td>Sexing primers did not amplify. Not enough blood for isotopes.      </td></tr>\n",
              "\t<tr><td>PAL0708</td><td>49</td><td>Adelie Penguin</td><td>Pygoscelis adeliae)</td><td>Dream</td><td>N30A1</td><td>Yes</td><td>2007-11-13</td><td>36.0</td><td>17.9</td><td>190</td><td>3450</td><td>FEMALE</td><td>9.51784</td><td>-25.07683</td><td>NA                                                                  </td></tr>\n",
              "\t<tr><td>PAL0708</td><td>50</td><td>Adelie Penguin</td><td>Pygoscelis adeliae)</td><td>Dream</td><td>N30A2</td><td>Yes</td><td>2007-11-13</td><td>42.3</td><td>21.2</td><td>191</td><td>4150</td><td>MALE  </td><td>8.87988</td><td>-25.18543</td><td>NA                                                                  </td></tr>\n",
              "\t<tr><td>PAL0809</td><td>85</td><td>Adelie Penguin</td><td>Pygoscelis adeliae)</td><td>Dream</td><td>N41A1</td><td>Yes</td><td>2008-11-17</td><td>37.3</td><td>17.8</td><td>191</td><td>3350</td><td>FEMALE</td><td>8.32718</td><td>-26.38396</td><td>NA                                                                  </td></tr>\n",
              "\t<tr><td>PAL0809</td><td>86</td><td>Adelie Penguin</td><td>Pygoscelis adeliae)</td><td>Dream</td><td>N41A2</td><td>Yes</td><td>2008-11-17</td><td>41.3</td><td>20.3</td><td>194</td><td>3550</td><td>MALE  </td><td>9.14863</td><td>-26.09635</td><td>NA                                                                  </td></tr>\n",
              "\t<tr><td>PAL0809</td><td>87</td><td>Adelie Penguin</td><td>Pygoscelis adeliae)</td><td>Dream</td><td>N42A1</td><td>Yes</td><td>2008-11-08</td><td>36.3</td><td>19.5</td><td>190</td><td>3800</td><td>MALE  </td><td>8.57087</td><td>-26.22227</td><td>NA                                                                  </td></tr>\n",
              "\t<tr><td>PAL0809</td><td>88</td><td>Adelie Penguin</td><td>Pygoscelis adeliae)</td><td>Dream</td><td>N42A2</td><td>Yes</td><td>2008-11-08</td><td>36.9</td><td>18.6</td><td>189</td><td>3500</td><td>FEMALE</td><td>8.59147</td><td>-26.08165</td><td>NA                                                                  </td></tr>\n",
              "\t<tr><td>PAL0809</td><td>89</td><td>Adelie Penguin</td><td>Pygoscelis adeliae)</td><td>Dream</td><td>N44A1</td><td>Yes</td><td>2008-11-08</td><td>38.3</td><td>19.2</td><td>189</td><td>3950</td><td>MALE  </td><td>9.07826</td><td>-26.12417</td><td>NA                                                                  </td></tr>\n",
              "\t<tr><td>PAL0809</td><td>90</td><td>Adelie Penguin</td><td>Pygoscelis adeliae)</td><td>Dream</td><td>N44A2</td><td>Yes</td><td>2008-11-08</td><td>38.9</td><td>18.8</td><td>190</td><td>3600</td><td>FEMALE</td><td>8.36936</td><td>-26.11199</td><td>NA                                                                  </td></tr>\n",
              "\t<tr><td>PAL0809</td><td>91</td><td>Adelie Penguin</td><td>Pygoscelis adeliae)</td><td>Dream</td><td>N45A1</td><td>Yes</td><td>2008-11-14</td><td>35.7</td><td>18.0</td><td>202</td><td>3550</td><td>FEMALE</td><td>8.46531</td><td>-26.05621</td><td>NA                                                                  </td></tr>\n",
              "\t<tr><td>PAL0809</td><td>92</td><td>Adelie Penguin</td><td>Pygoscelis adeliae)</td><td>Dream</td><td>N45A2</td><td>Yes</td><td>2008-11-14</td><td>41.1</td><td>18.1</td><td>205</td><td>4300</td><td>MALE  </td><td>8.77018</td><td>-25.83352</td><td>NA                                                                  </td></tr>\n",
              "\t<tr><td>PAL0809</td><td>93</td><td>Adelie Penguin</td><td>Pygoscelis adeliae)</td><td>Dream</td><td>N46A1</td><td>Yes</td><td>2008-11-05</td><td>34.0</td><td>17.1</td><td>185</td><td>3400</td><td>FEMALE</td><td>8.01485</td><td>-26.69543</td><td>NA                                                                  </td></tr>\n",
              "\t<tr><td>PAL0809</td><td>94</td><td>Adelie Penguin</td><td>Pygoscelis adeliae)</td><td>Dream</td><td>N46A2</td><td>Yes</td><td>2008-11-05</td><td>39.6</td><td>18.1</td><td>186</td><td>4450</td><td>MALE  </td><td>8.49915</td><td>-26.42406</td><td>NA                                                                  </td></tr>\n",
              "\t<tr><td>⋮</td><td>⋮</td><td>⋮</td><td>⋮</td><td>⋮</td><td>⋮</td><td>⋮</td><td>⋮</td><td>⋮</td><td>⋮</td><td>⋮</td><td>⋮</td><td>⋮</td><td>⋮</td><td>⋮</td><td>⋮</td></tr>\n",
              "\t<tr><td>PAL0809</td><td>39</td><td>Chinstrap penguin</td><td>Pygoscelis antarctica)</td><td>Dream</td><td>N72A1 </td><td>No </td><td>2008-11-24</td><td>46.9</td><td>16.6</td><td>192</td><td>2700</td><td>FEMALE</td><td> 9.80589</td><td>-24.73735</td><td>Nest never observed with full clutch.</td></tr>\n",
              "\t<tr><td>PAL0809</td><td>40</td><td>Chinstrap penguin</td><td>Pygoscelis antarctica)</td><td>Dream</td><td>N72A2 </td><td>No </td><td>2008-11-24</td><td>53.5</td><td>19.9</td><td>205</td><td>4500</td><td>MALE  </td><td>10.02544</td><td>-24.90816</td><td>Nest never observed with full clutch.</td></tr>\n",
              "\t<tr><td>PAL0809</td><td>41</td><td>Chinstrap penguin</td><td>Pygoscelis antarctica)</td><td>Dream</td><td>N74A1 </td><td>Yes</td><td>2008-11-24</td><td>49.0</td><td>19.5</td><td>210</td><td>3950</td><td>MALE  </td><td> 9.53262</td><td>-24.66867</td><td>NA                                   </td></tr>\n",
              "\t<tr><td>PAL0809</td><td>42</td><td>Chinstrap penguin</td><td>Pygoscelis antarctica)</td><td>Dream</td><td>N74A2 </td><td>Yes</td><td>2008-11-24</td><td>46.2</td><td>17.5</td><td>187</td><td>3650</td><td>FEMALE</td><td> 9.61734</td><td>-24.66188</td><td>NA                                   </td></tr>\n",
              "\t<tr><td>PAL0809</td><td>43</td><td>Chinstrap penguin</td><td>Pygoscelis antarctica)</td><td>Dream</td><td>N75A1 </td><td>Yes</td><td>2008-11-14</td><td>50.9</td><td>19.1</td><td>196</td><td>3550</td><td>MALE  </td><td>10.02372</td><td>-24.86594</td><td>NA                                   </td></tr>\n",
              "\t<tr><td>PAL0809</td><td>44</td><td>Chinstrap penguin</td><td>Pygoscelis antarctica)</td><td>Dream</td><td>N75A2 </td><td>Yes</td><td>2008-11-14</td><td>45.5</td><td>17.0</td><td>196</td><td>3500</td><td>FEMALE</td><td> 9.36493</td><td>-24.66259</td><td>NA                                   </td></tr>\n",
              "\t<tr><td>PAL0910</td><td>45</td><td>Chinstrap penguin</td><td>Pygoscelis antarctica)</td><td>Dream</td><td>N86A1 </td><td>Yes</td><td>2009-11-17</td><td>50.9</td><td>17.9</td><td>196</td><td>3675</td><td>FEMALE</td><td> 9.43684</td><td>-24.16566</td><td>NA                                   </td></tr>\n",
              "\t<tr><td>PAL0910</td><td>46</td><td>Chinstrap penguin</td><td>Pygoscelis antarctica)</td><td>Dream</td><td>N86A2 </td><td>Yes</td><td>2009-11-17</td><td>50.8</td><td>18.5</td><td>201</td><td>4450</td><td>MALE  </td><td> 9.45827</td><td>-24.35575</td><td>NA                                   </td></tr>\n",
              "\t<tr><td>PAL0910</td><td>47</td><td>Chinstrap penguin</td><td>Pygoscelis antarctica)</td><td>Dream</td><td>N87A1 </td><td>Yes</td><td>2009-11-27</td><td>50.1</td><td>17.9</td><td>190</td><td>3400</td><td>FEMALE</td><td> 9.46819</td><td>-24.45721</td><td>NA                                   </td></tr>\n",
              "\t<tr><td>PAL0910</td><td>48</td><td>Chinstrap penguin</td><td>Pygoscelis antarctica)</td><td>Dream</td><td>N87A2 </td><td>Yes</td><td>2009-11-27</td><td>49.0</td><td>19.6</td><td>212</td><td>4300</td><td>MALE  </td><td> 9.34089</td><td>-24.45189</td><td>NA                                   </td></tr>\n",
              "\t<tr><td>PAL0910</td><td>49</td><td>Chinstrap penguin</td><td>Pygoscelis antarctica)</td><td>Dream</td><td>N88A1 </td><td>Yes</td><td>2009-11-23</td><td>51.5</td><td>18.7</td><td>187</td><td>3250</td><td>MALE  </td><td> 9.68950</td><td>-24.43062</td><td>NA                                   </td></tr>\n",
              "\t<tr><td>PAL0910</td><td>50</td><td>Chinstrap penguin</td><td>Pygoscelis antarctica)</td><td>Dream</td><td>N88A2 </td><td>Yes</td><td>2009-11-23</td><td>49.8</td><td>17.3</td><td>198</td><td>3675</td><td>FEMALE</td><td> 9.32169</td><td>-24.41562</td><td>NA                                   </td></tr>\n",
              "\t<tr><td>PAL0910</td><td>51</td><td>Chinstrap penguin</td><td>Pygoscelis antarctica)</td><td>Dream</td><td>N90A1 </td><td>Yes</td><td>2009-11-21</td><td>48.1</td><td>16.4</td><td>199</td><td>3325</td><td>FEMALE</td><td> 9.46929</td><td>-24.48403</td><td>NA                                   </td></tr>\n",
              "\t<tr><td>PAL0910</td><td>52</td><td>Chinstrap penguin</td><td>Pygoscelis antarctica)</td><td>Dream</td><td>N90A2 </td><td>Yes</td><td>2009-11-21</td><td>51.4</td><td>19.0</td><td>201</td><td>3950</td><td>MALE  </td><td> 9.43782</td><td>-24.36202</td><td>NA                                   </td></tr>\n",
              "\t<tr><td>PAL0910</td><td>53</td><td>Chinstrap penguin</td><td>Pygoscelis antarctica)</td><td>Dream</td><td>N92A1 </td><td>Yes</td><td>2009-11-23</td><td>45.7</td><td>17.3</td><td>193</td><td>3600</td><td>FEMALE</td><td> 9.41500</td><td>-24.80500</td><td>NA                                   </td></tr>\n",
              "\t<tr><td>PAL0910</td><td>54</td><td>Chinstrap penguin</td><td>Pygoscelis antarctica)</td><td>Dream</td><td>N92A2 </td><td>Yes</td><td>2009-11-23</td><td>50.7</td><td>19.7</td><td>203</td><td>4050</td><td>MALE  </td><td> 9.93727</td><td>-24.59066</td><td>NA                                   </td></tr>\n",
              "\t<tr><td>PAL0910</td><td>55</td><td>Chinstrap penguin</td><td>Pygoscelis antarctica)</td><td>Dream</td><td>N93A1 </td><td>Yes</td><td>2009-11-27</td><td>42.5</td><td>17.3</td><td>187</td><td>3350</td><td>FEMALE</td><td> 9.56534</td><td>-24.60882</td><td>NA                                   </td></tr>\n",
              "\t<tr><td>PAL0910</td><td>56</td><td>Chinstrap penguin</td><td>Pygoscelis antarctica)</td><td>Dream</td><td>N93A2 </td><td>Yes</td><td>2009-11-27</td><td>52.2</td><td>18.8</td><td>197</td><td>3450</td><td>MALE  </td><td> 9.77528</td><td>-24.56481</td><td>NA                                   </td></tr>\n",
              "\t<tr><td>PAL0910</td><td>57</td><td>Chinstrap penguin</td><td>Pygoscelis antarctica)</td><td>Dream</td><td>N94A1 </td><td>Yes</td><td>2009-11-21</td><td>45.2</td><td>16.6</td><td>191</td><td>3250</td><td>FEMALE</td><td> 9.62357</td><td>-24.78984</td><td>NA                                   </td></tr>\n",
              "\t<tr><td>PAL0910</td><td>58</td><td>Chinstrap penguin</td><td>Pygoscelis antarctica)</td><td>Dream</td><td>N94A2 </td><td>Yes</td><td>2009-11-21</td><td>49.3</td><td>19.9</td><td>203</td><td>4050</td><td>MALE  </td><td> 9.88809</td><td>-24.59513</td><td>NA                                   </td></tr>\n",
              "\t<tr><td>PAL0910</td><td>59</td><td>Chinstrap penguin</td><td>Pygoscelis antarctica)</td><td>Dream</td><td>N95A1 </td><td>Yes</td><td>2009-11-21</td><td>50.2</td><td>18.8</td><td>202</td><td>3800</td><td>MALE  </td><td> 9.74492</td><td>-24.40400</td><td>NA                                   </td></tr>\n",
              "\t<tr><td>PAL0910</td><td>60</td><td>Chinstrap penguin</td><td>Pygoscelis antarctica)</td><td>Dream</td><td>N95A2 </td><td>Yes</td><td>2009-11-21</td><td>45.6</td><td>19.4</td><td>194</td><td>3525</td><td>FEMALE</td><td> 9.46985</td><td>-24.65786</td><td>NA                                   </td></tr>\n",
              "\t<tr><td>PAL0910</td><td>61</td><td>Chinstrap penguin</td><td>Pygoscelis antarctica)</td><td>Dream</td><td>N96A1 </td><td>Yes</td><td>2009-11-27</td><td>51.9</td><td>19.5</td><td>206</td><td>3950</td><td>MALE  </td><td>      NA</td><td>-23.78767</td><td>No delta15N data received from lab.  </td></tr>\n",
              "\t<tr><td>PAL0910</td><td>62</td><td>Chinstrap penguin</td><td>Pygoscelis antarctica)</td><td>Dream</td><td>N96A2 </td><td>Yes</td><td>2009-11-27</td><td>46.8</td><td>16.5</td><td>189</td><td>3650</td><td>FEMALE</td><td> 9.65061</td><td>-24.48153</td><td>NA                                   </td></tr>\n",
              "\t<tr><td>PAL0910</td><td>63</td><td>Chinstrap penguin</td><td>Pygoscelis antarctica)</td><td>Dream</td><td>N98A1 </td><td>Yes</td><td>2009-11-19</td><td>45.7</td><td>17.0</td><td>195</td><td>3650</td><td>FEMALE</td><td> 9.26715</td><td>-24.31912</td><td>NA                                   </td></tr>\n",
              "\t<tr><td>PAL0910</td><td>64</td><td>Chinstrap penguin</td><td>Pygoscelis antarctica)</td><td>Dream</td><td>N98A2 </td><td>Yes</td><td>2009-11-19</td><td>55.8</td><td>19.8</td><td>207</td><td>4000</td><td>MALE  </td><td> 9.70465</td><td>-24.53494</td><td>NA                                   </td></tr>\n",
              "\t<tr><td>PAL0910</td><td>65</td><td>Chinstrap penguin</td><td>Pygoscelis antarctica)</td><td>Dream</td><td>N99A1 </td><td>No </td><td>2009-11-21</td><td>43.5</td><td>18.1</td><td>202</td><td>3400</td><td>FEMALE</td><td> 9.37608</td><td>-24.40753</td><td>Nest never observed with full clutch.</td></tr>\n",
              "\t<tr><td>PAL0910</td><td>66</td><td>Chinstrap penguin</td><td>Pygoscelis antarctica)</td><td>Dream</td><td>N99A2 </td><td>No </td><td>2009-11-21</td><td>49.6</td><td>18.2</td><td>193</td><td>3775</td><td>MALE  </td><td> 9.46180</td><td>-24.70615</td><td>Nest never observed with full clutch.</td></tr>\n",
              "\t<tr><td>PAL0910</td><td>67</td><td>Chinstrap penguin</td><td>Pygoscelis antarctica)</td><td>Dream</td><td>N100A1</td><td>Yes</td><td>2009-11-21</td><td>50.8</td><td>19.0</td><td>210</td><td>4100</td><td>MALE  </td><td> 9.98044</td><td>-24.68741</td><td>NA                                   </td></tr>\n",
              "\t<tr><td>PAL0910</td><td>68</td><td>Chinstrap penguin</td><td>Pygoscelis antarctica)</td><td>Dream</td><td>N100A2</td><td>Yes</td><td>2009-11-21</td><td>50.2</td><td>18.7</td><td>198</td><td>3775</td><td>FEMALE</td><td> 9.39305</td><td>-24.25255</td><td>NA                                   </td></tr>\n",
              "</tbody>\n",
              "</table>\n"
            ]
          },
          "metadata": {
            "tags": []
          }
        }
      ]
    },
    {
      "cell_type": "markdown",
      "metadata": {
        "id": "68ffc22a"
      },
      "source": [
        "#### `%in%`\n",
        "\n",
        "\n",
        "Here the **`%in%`** operator can come in handy again if we want to filter more than one island:"
      ]
    },
    {
      "cell_type": "code",
      "metadata": {
        "lines_to_next_cell": 0,
        "id": "3109c068",
        "colab": {
          "base_uri": "https://localhost:8080/",
          "height": 1000
        },
        "outputId": "8e9d81e1-7caf-4d7c-8619-c01a5f1eabec"
      },
      "source": [
        "islands_to_keep <- c(\"Dream\", \"Biscoe\")\n",
        "\n",
        "filter(penguins_clean, island %in% islands_to_keep)"
      ],
      "execution_count": null,
      "outputs": [
        {
          "output_type": "display_data",
          "data": {
            "text/plain": [
              "    study_name sample_number species           latin_name             island\n",
              "1   PAL0708    21            Adelie Penguin    Pygoscelis adeliae)    Biscoe\n",
              "2   PAL0708    22            Adelie Penguin    Pygoscelis adeliae)    Biscoe\n",
              "3   PAL0708    23            Adelie Penguin    Pygoscelis adeliae)    Biscoe\n",
              "4   PAL0708    24            Adelie Penguin    Pygoscelis adeliae)    Biscoe\n",
              "5   PAL0708    25            Adelie Penguin    Pygoscelis adeliae)    Biscoe\n",
              "6   PAL0708    26            Adelie Penguin    Pygoscelis adeliae)    Biscoe\n",
              "7   PAL0708    27            Adelie Penguin    Pygoscelis adeliae)    Biscoe\n",
              "8   PAL0708    28            Adelie Penguin    Pygoscelis adeliae)    Biscoe\n",
              "9   PAL0708    29            Adelie Penguin    Pygoscelis adeliae)    Biscoe\n",
              "10  PAL0708    30            Adelie Penguin    Pygoscelis adeliae)    Biscoe\n",
              "11  PAL0708    31            Adelie Penguin    Pygoscelis adeliae)    Dream \n",
              "12  PAL0708    32            Adelie Penguin    Pygoscelis adeliae)    Dream \n",
              "13  PAL0708    33            Adelie Penguin    Pygoscelis adeliae)    Dream \n",
              "14  PAL0708    34            Adelie Penguin    Pygoscelis adeliae)    Dream \n",
              "15  PAL0708    35            Adelie Penguin    Pygoscelis adeliae)    Dream \n",
              "16  PAL0708    36            Adelie Penguin    Pygoscelis adeliae)    Dream \n",
              "17  PAL0708    37            Adelie Penguin    Pygoscelis adeliae)    Dream \n",
              "18  PAL0708    38            Adelie Penguin    Pygoscelis adeliae)    Dream \n",
              "19  PAL0708    39            Adelie Penguin    Pygoscelis adeliae)    Dream \n",
              "20  PAL0708    40            Adelie Penguin    Pygoscelis adeliae)    Dream \n",
              "21  PAL0708    41            Adelie Penguin    Pygoscelis adeliae)    Dream \n",
              "22  PAL0708    42            Adelie Penguin    Pygoscelis adeliae)    Dream \n",
              "23  PAL0708    43            Adelie Penguin    Pygoscelis adeliae)    Dream \n",
              "24  PAL0708    44            Adelie Penguin    Pygoscelis adeliae)    Dream \n",
              "25  PAL0708    45            Adelie Penguin    Pygoscelis adeliae)    Dream \n",
              "26  PAL0708    46            Adelie Penguin    Pygoscelis adeliae)    Dream \n",
              "27  PAL0708    47            Adelie Penguin    Pygoscelis adeliae)    Dream \n",
              "28  PAL0708    48            Adelie Penguin    Pygoscelis adeliae)    Dream \n",
              "29  PAL0708    49            Adelie Penguin    Pygoscelis adeliae)    Dream \n",
              "30  PAL0708    50            Adelie Penguin    Pygoscelis adeliae)    Dream \n",
              "⋮   ⋮          ⋮             ⋮                 ⋮                      ⋮     \n",
              "263 PAL0809    39            Chinstrap penguin Pygoscelis antarctica) Dream \n",
              "264 PAL0809    40            Chinstrap penguin Pygoscelis antarctica) Dream \n",
              "265 PAL0809    41            Chinstrap penguin Pygoscelis antarctica) Dream \n",
              "266 PAL0809    42            Chinstrap penguin Pygoscelis antarctica) Dream \n",
              "267 PAL0809    43            Chinstrap penguin Pygoscelis antarctica) Dream \n",
              "268 PAL0809    44            Chinstrap penguin Pygoscelis antarctica) Dream \n",
              "269 PAL0910    45            Chinstrap penguin Pygoscelis antarctica) Dream \n",
              "270 PAL0910    46            Chinstrap penguin Pygoscelis antarctica) Dream \n",
              "271 PAL0910    47            Chinstrap penguin Pygoscelis antarctica) Dream \n",
              "272 PAL0910    48            Chinstrap penguin Pygoscelis antarctica) Dream \n",
              "273 PAL0910    49            Chinstrap penguin Pygoscelis antarctica) Dream \n",
              "274 PAL0910    50            Chinstrap penguin Pygoscelis antarctica) Dream \n",
              "275 PAL0910    51            Chinstrap penguin Pygoscelis antarctica) Dream \n",
              "276 PAL0910    52            Chinstrap penguin Pygoscelis antarctica) Dream \n",
              "277 PAL0910    53            Chinstrap penguin Pygoscelis antarctica) Dream \n",
              "278 PAL0910    54            Chinstrap penguin Pygoscelis antarctica) Dream \n",
              "279 PAL0910    55            Chinstrap penguin Pygoscelis antarctica) Dream \n",
              "280 PAL0910    56            Chinstrap penguin Pygoscelis antarctica) Dream \n",
              "281 PAL0910    57            Chinstrap penguin Pygoscelis antarctica) Dream \n",
              "282 PAL0910    58            Chinstrap penguin Pygoscelis antarctica) Dream \n",
              "283 PAL0910    59            Chinstrap penguin Pygoscelis antarctica) Dream \n",
              "284 PAL0910    60            Chinstrap penguin Pygoscelis antarctica) Dream \n",
              "285 PAL0910    61            Chinstrap penguin Pygoscelis antarctica) Dream \n",
              "286 PAL0910    62            Chinstrap penguin Pygoscelis antarctica) Dream \n",
              "287 PAL0910    63            Chinstrap penguin Pygoscelis antarctica) Dream \n",
              "288 PAL0910    64            Chinstrap penguin Pygoscelis antarctica) Dream \n",
              "289 PAL0910    65            Chinstrap penguin Pygoscelis antarctica) Dream \n",
              "290 PAL0910    66            Chinstrap penguin Pygoscelis antarctica) Dream \n",
              "291 PAL0910    67            Chinstrap penguin Pygoscelis antarctica) Dream \n",
              "292 PAL0910    68            Chinstrap penguin Pygoscelis antarctica) Dream \n",
              "    individual_id clutch_completion date_egg   culmen_length_mm culmen_depth_mm\n",
              "1   N11A1         Yes               2007-11-12 37.8             18.3           \n",
              "2   N11A2         Yes               2007-11-12 37.7             18.7           \n",
              "3   N12A1         Yes               2007-11-12 35.9             19.2           \n",
              "4   N12A2         Yes               2007-11-12 38.2             18.1           \n",
              "5   N13A1         Yes               2007-11-10 38.8             17.2           \n",
              "6   N13A2         Yes               2007-11-10 35.3             18.9           \n",
              "7   N17A1         Yes               2007-11-12 40.6             18.6           \n",
              "8   N17A2         Yes               2007-11-12 40.5             17.9           \n",
              "9   N18A1         No                2007-11-10 37.9             18.6           \n",
              "10  N18A2         No                2007-11-10 40.5             18.9           \n",
              "11  N21A1         Yes               2007-11-09 39.5             16.7           \n",
              "12  N21A2         Yes               2007-11-09 37.2             18.1           \n",
              "13  N22A1         Yes               2007-11-09 39.5             17.8           \n",
              "14  N22A2         Yes               2007-11-09 40.9             18.9           \n",
              "15  N23A1         Yes               2007-11-16 36.4             17.0           \n",
              "16  N23A2         Yes               2007-11-16 39.2             21.1           \n",
              "17  N24A1         Yes               2007-11-16 38.8             20.0           \n",
              "18  N24A2         Yes               2007-11-16 42.2             18.5           \n",
              "19  N25A1         No                2007-11-13 37.6             19.3           \n",
              "20  N25A2         No                2007-11-13 39.8             19.1           \n",
              "21  N26A1         Yes               2007-11-16 36.5             18.0           \n",
              "22  N26A2         Yes               2007-11-16 40.8             18.4           \n",
              "23  N27A1         Yes               2007-11-19 36.0             18.5           \n",
              "24  N27A2         Yes               2007-11-19 44.1             19.7           \n",
              "25  N28A1         Yes               2007-11-16 37.0             16.9           \n",
              "26  N28A2         Yes               2007-11-16 39.6             18.8           \n",
              "27  N29A1         Yes               2007-11-13 41.1             19.0           \n",
              "28  N29A2         Yes               2007-11-13 37.5             18.9           \n",
              "29  N30A1         Yes               2007-11-13 36.0             17.9           \n",
              "30  N30A2         Yes               2007-11-13 42.3             21.2           \n",
              "⋮   ⋮             ⋮                 ⋮          ⋮                ⋮              \n",
              "263 N72A1         No                2008-11-24 46.9             16.6           \n",
              "264 N72A2         No                2008-11-24 53.5             19.9           \n",
              "265 N74A1         Yes               2008-11-24 49.0             19.5           \n",
              "266 N74A2         Yes               2008-11-24 46.2             17.5           \n",
              "267 N75A1         Yes               2008-11-14 50.9             19.1           \n",
              "268 N75A2         Yes               2008-11-14 45.5             17.0           \n",
              "269 N86A1         Yes               2009-11-17 50.9             17.9           \n",
              "270 N86A2         Yes               2009-11-17 50.8             18.5           \n",
              "271 N87A1         Yes               2009-11-27 50.1             17.9           \n",
              "272 N87A2         Yes               2009-11-27 49.0             19.6           \n",
              "273 N88A1         Yes               2009-11-23 51.5             18.7           \n",
              "274 N88A2         Yes               2009-11-23 49.8             17.3           \n",
              "275 N90A1         Yes               2009-11-21 48.1             16.4           \n",
              "276 N90A2         Yes               2009-11-21 51.4             19.0           \n",
              "277 N92A1         Yes               2009-11-23 45.7             17.3           \n",
              "278 N92A2         Yes               2009-11-23 50.7             19.7           \n",
              "279 N93A1         Yes               2009-11-27 42.5             17.3           \n",
              "280 N93A2         Yes               2009-11-27 52.2             18.8           \n",
              "281 N94A1         Yes               2009-11-21 45.2             16.6           \n",
              "282 N94A2         Yes               2009-11-21 49.3             19.9           \n",
              "283 N95A1         Yes               2009-11-21 50.2             18.8           \n",
              "284 N95A2         Yes               2009-11-21 45.6             19.4           \n",
              "285 N96A1         Yes               2009-11-27 51.9             19.5           \n",
              "286 N96A2         Yes               2009-11-27 46.8             16.5           \n",
              "287 N98A1         Yes               2009-11-19 45.7             17.0           \n",
              "288 N98A2         Yes               2009-11-19 55.8             19.8           \n",
              "289 N99A1         No                2009-11-21 43.5             18.1           \n",
              "290 N99A2         No                2009-11-21 49.6             18.2           \n",
              "291 N100A1        Yes               2009-11-21 50.8             19.0           \n",
              "292 N100A2        Yes               2009-11-21 50.2             18.7           \n",
              "    flipper_length_mm body_mass_g sex    delta_15_n_o_oo delta_13_c_o_oo\n",
              "1   174               3400        FEMALE 8.73762         -25.09383      \n",
              "2   180               3600        MALE   8.66271         -25.06390      \n",
              "3   189               3800        FEMALE 9.22286         -25.03474      \n",
              "4   185               3950        MALE   8.43423         -25.22664      \n",
              "5   180               3800        MALE   9.63954         -25.29856      \n",
              "6   187               3800        FEMALE 9.21292         -24.36130      \n",
              "7   183               3550        MALE   8.93997         -25.36288      \n",
              "8   187               3200        FEMALE 8.08138         -25.49448      \n",
              "9   172               3150        FEMALE 8.38404         -25.19837      \n",
              "10  180               3950        MALE   8.90027         -25.11609      \n",
              "11  178               3250        FEMALE 9.69756         -25.11223      \n",
              "12  178               3900        MALE   9.72764         -25.01020      \n",
              "13  188               3300        FEMALE 9.66523         -25.06020      \n",
              "14  184               3900        MALE   8.79665         -25.14591      \n",
              "15  195               3325        FEMALE 9.17847         -25.23061      \n",
              "16  196               4150        MALE   9.15308         -25.03469      \n",
              "17  190               3950        MALE   9.18985         -25.12255      \n",
              "18  180               3550        FEMALE 8.04787         -25.49523      \n",
              "19  181               3300        FEMALE 9.41131         -25.04169      \n",
              "20  184               4650        MALE        NA                NA      \n",
              "21  182               3150        FEMALE 9.68933         -24.42280      \n",
              "22  195               3900        MALE        NA                NA      \n",
              "23  186               3100        FEMALE 9.50772         -25.03492      \n",
              "24  196               4400        MALE   9.23720         -24.52698      \n",
              "25  185               3000        FEMALE 9.36392         -25.01745      \n",
              "26  190               4600        MALE   9.49106         -24.10255      \n",
              "27  182               3425        MALE        NA                NA      \n",
              "28  179               2975        NA          NA                NA      \n",
              "29  190               3450        FEMALE 9.51784         -25.07683      \n",
              "30  191               4150        MALE   8.87988         -25.18543      \n",
              "⋮   ⋮                 ⋮           ⋮      ⋮               ⋮              \n",
              "263 192               2700        FEMALE  9.80589        -24.73735      \n",
              "264 205               4500        MALE   10.02544        -24.90816      \n",
              "265 210               3950        MALE    9.53262        -24.66867      \n",
              "266 187               3650        FEMALE  9.61734        -24.66188      \n",
              "267 196               3550        MALE   10.02372        -24.86594      \n",
              "268 196               3500        FEMALE  9.36493        -24.66259      \n",
              "269 196               3675        FEMALE  9.43684        -24.16566      \n",
              "270 201               4450        MALE    9.45827        -24.35575      \n",
              "271 190               3400        FEMALE  9.46819        -24.45721      \n",
              "272 212               4300        MALE    9.34089        -24.45189      \n",
              "273 187               3250        MALE    9.68950        -24.43062      \n",
              "274 198               3675        FEMALE  9.32169        -24.41562      \n",
              "275 199               3325        FEMALE  9.46929        -24.48403      \n",
              "276 201               3950        MALE    9.43782        -24.36202      \n",
              "277 193               3600        FEMALE  9.41500        -24.80500      \n",
              "278 203               4050        MALE    9.93727        -24.59066      \n",
              "279 187               3350        FEMALE  9.56534        -24.60882      \n",
              "280 197               3450        MALE    9.77528        -24.56481      \n",
              "281 191               3250        FEMALE  9.62357        -24.78984      \n",
              "282 203               4050        MALE    9.88809        -24.59513      \n",
              "283 202               3800        MALE    9.74492        -24.40400      \n",
              "284 194               3525        FEMALE  9.46985        -24.65786      \n",
              "285 206               3950        MALE         NA        -23.78767      \n",
              "286 189               3650        FEMALE  9.65061        -24.48153      \n",
              "287 195               3650        FEMALE  9.26715        -24.31912      \n",
              "288 207               4000        MALE    9.70465        -24.53494      \n",
              "289 202               3400        FEMALE  9.37608        -24.40753      \n",
              "290 193               3775        MALE    9.46180        -24.70615      \n",
              "291 210               4100        MALE    9.98044        -24.68741      \n",
              "292 198               3775        FEMALE  9.39305        -24.25255      \n",
              "    comments                                                            \n",
              "1   NA                                                                  \n",
              "2   NA                                                                  \n",
              "3   NA                                                                  \n",
              "4   NA                                                                  \n",
              "5   NA                                                                  \n",
              "6   NA                                                                  \n",
              "7   NA                                                                  \n",
              "8   NA                                                                  \n",
              "9   Nest never observed with full clutch.                               \n",
              "10  Nest never observed with full clutch.                               \n",
              "11  NA                                                                  \n",
              "12  NA                                                                  \n",
              "13  NA                                                                  \n",
              "14  NA                                                                  \n",
              "15  NA                                                                  \n",
              "16  NA                                                                  \n",
              "17  NA                                                                  \n",
              "18  NA                                                                  \n",
              "19  Nest never observed with full clutch.                               \n",
              "20  Nest never observed with full clutch. Not enough blood for isotopes.\n",
              "21  NA                                                                  \n",
              "22  Not enough blood for isotopes.                                      \n",
              "23  NA                                                                  \n",
              "24  NA                                                                  \n",
              "25  NA                                                                  \n",
              "26  NA                                                                  \n",
              "27  Not enough blood for isotopes.                                      \n",
              "28  Sexing primers did not amplify. Not enough blood for isotopes.      \n",
              "29  NA                                                                  \n",
              "30  NA                                                                  \n",
              "⋮   ⋮                                                                   \n",
              "263 Nest never observed with full clutch.                               \n",
              "264 Nest never observed with full clutch.                               \n",
              "265 NA                                                                  \n",
              "266 NA                                                                  \n",
              "267 NA                                                                  \n",
              "268 NA                                                                  \n",
              "269 NA                                                                  \n",
              "270 NA                                                                  \n",
              "271 NA                                                                  \n",
              "272 NA                                                                  \n",
              "273 NA                                                                  \n",
              "274 NA                                                                  \n",
              "275 NA                                                                  \n",
              "276 NA                                                                  \n",
              "277 NA                                                                  \n",
              "278 NA                                                                  \n",
              "279 NA                                                                  \n",
              "280 NA                                                                  \n",
              "281 NA                                                                  \n",
              "282 NA                                                                  \n",
              "283 NA                                                                  \n",
              "284 NA                                                                  \n",
              "285 No delta15N data received from lab.                                 \n",
              "286 NA                                                                  \n",
              "287 NA                                                                  \n",
              "288 NA                                                                  \n",
              "289 Nest never observed with full clutch.                               \n",
              "290 Nest never observed with full clutch.                               \n",
              "291 NA                                                                  \n",
              "292 NA                                                                  "
            ],
            "text/latex": "A tibble: 292 × 16\n\\begin{tabular}{llllllllllllllll}\n study\\_name & sample\\_number & species & latin\\_name & island & individual\\_id & clutch\\_completion & date\\_egg & culmen\\_length\\_mm & culmen\\_depth\\_mm & flipper\\_length\\_mm & body\\_mass\\_g & sex & delta\\_15\\_n\\_o\\_oo & delta\\_13\\_c\\_o\\_oo & comments\\\\\n <chr> & <dbl> & <chr> & <chr> & <chr> & <chr> & <chr> & <date> & <dbl> & <dbl> & <dbl> & <dbl> & <chr> & <dbl> & <dbl> & <chr>\\\\\n\\hline\n\t PAL0708 & 21 & Adelie Penguin & Pygoscelis adeliae) & Biscoe & N11A1 & Yes & 2007-11-12 & 37.8 & 18.3 & 174 & 3400 & FEMALE & 8.73762 & -25.09383 & NA                                                                  \\\\\n\t PAL0708 & 22 & Adelie Penguin & Pygoscelis adeliae) & Biscoe & N11A2 & Yes & 2007-11-12 & 37.7 & 18.7 & 180 & 3600 & MALE   & 8.66271 & -25.06390 & NA                                                                  \\\\\n\t PAL0708 & 23 & Adelie Penguin & Pygoscelis adeliae) & Biscoe & N12A1 & Yes & 2007-11-12 & 35.9 & 19.2 & 189 & 3800 & FEMALE & 9.22286 & -25.03474 & NA                                                                  \\\\\n\t PAL0708 & 24 & Adelie Penguin & Pygoscelis adeliae) & Biscoe & N12A2 & Yes & 2007-11-12 & 38.2 & 18.1 & 185 & 3950 & MALE   & 8.43423 & -25.22664 & NA                                                                  \\\\\n\t PAL0708 & 25 & Adelie Penguin & Pygoscelis adeliae) & Biscoe & N13A1 & Yes & 2007-11-10 & 38.8 & 17.2 & 180 & 3800 & MALE   & 9.63954 & -25.29856 & NA                                                                  \\\\\n\t PAL0708 & 26 & Adelie Penguin & Pygoscelis adeliae) & Biscoe & N13A2 & Yes & 2007-11-10 & 35.3 & 18.9 & 187 & 3800 & FEMALE & 9.21292 & -24.36130 & NA                                                                  \\\\\n\t PAL0708 & 27 & Adelie Penguin & Pygoscelis adeliae) & Biscoe & N17A1 & Yes & 2007-11-12 & 40.6 & 18.6 & 183 & 3550 & MALE   & 8.93997 & -25.36288 & NA                                                                  \\\\\n\t PAL0708 & 28 & Adelie Penguin & Pygoscelis adeliae) & Biscoe & N17A2 & Yes & 2007-11-12 & 40.5 & 17.9 & 187 & 3200 & FEMALE & 8.08138 & -25.49448 & NA                                                                  \\\\\n\t PAL0708 & 29 & Adelie Penguin & Pygoscelis adeliae) & Biscoe & N18A1 & No  & 2007-11-10 & 37.9 & 18.6 & 172 & 3150 & FEMALE & 8.38404 & -25.19837 & Nest never observed with full clutch.                               \\\\\n\t PAL0708 & 30 & Adelie Penguin & Pygoscelis adeliae) & Biscoe & N18A2 & No  & 2007-11-10 & 40.5 & 18.9 & 180 & 3950 & MALE   & 8.90027 & -25.11609 & Nest never observed with full clutch.                               \\\\\n\t PAL0708 & 31 & Adelie Penguin & Pygoscelis adeliae) & Dream  & N21A1 & Yes & 2007-11-09 & 39.5 & 16.7 & 178 & 3250 & FEMALE & 9.69756 & -25.11223 & NA                                                                  \\\\\n\t PAL0708 & 32 & Adelie Penguin & Pygoscelis adeliae) & Dream  & N21A2 & Yes & 2007-11-09 & 37.2 & 18.1 & 178 & 3900 & MALE   & 9.72764 & -25.01020 & NA                                                                  \\\\\n\t PAL0708 & 33 & Adelie Penguin & Pygoscelis adeliae) & Dream  & N22A1 & Yes & 2007-11-09 & 39.5 & 17.8 & 188 & 3300 & FEMALE & 9.66523 & -25.06020 & NA                                                                  \\\\\n\t PAL0708 & 34 & Adelie Penguin & Pygoscelis adeliae) & Dream  & N22A2 & Yes & 2007-11-09 & 40.9 & 18.9 & 184 & 3900 & MALE   & 8.79665 & -25.14591 & NA                                                                  \\\\\n\t PAL0708 & 35 & Adelie Penguin & Pygoscelis adeliae) & Dream  & N23A1 & Yes & 2007-11-16 & 36.4 & 17.0 & 195 & 3325 & FEMALE & 9.17847 & -25.23061 & NA                                                                  \\\\\n\t PAL0708 & 36 & Adelie Penguin & Pygoscelis adeliae) & Dream  & N23A2 & Yes & 2007-11-16 & 39.2 & 21.1 & 196 & 4150 & MALE   & 9.15308 & -25.03469 & NA                                                                  \\\\\n\t PAL0708 & 37 & Adelie Penguin & Pygoscelis adeliae) & Dream  & N24A1 & Yes & 2007-11-16 & 38.8 & 20.0 & 190 & 3950 & MALE   & 9.18985 & -25.12255 & NA                                                                  \\\\\n\t PAL0708 & 38 & Adelie Penguin & Pygoscelis adeliae) & Dream  & N24A2 & Yes & 2007-11-16 & 42.2 & 18.5 & 180 & 3550 & FEMALE & 8.04787 & -25.49523 & NA                                                                  \\\\\n\t PAL0708 & 39 & Adelie Penguin & Pygoscelis adeliae) & Dream  & N25A1 & No  & 2007-11-13 & 37.6 & 19.3 & 181 & 3300 & FEMALE & 9.41131 & -25.04169 & Nest never observed with full clutch.                               \\\\\n\t PAL0708 & 40 & Adelie Penguin & Pygoscelis adeliae) & Dream  & N25A2 & No  & 2007-11-13 & 39.8 & 19.1 & 184 & 4650 & MALE   &      NA &        NA & Nest never observed with full clutch. Not enough blood for isotopes.\\\\\n\t PAL0708 & 41 & Adelie Penguin & Pygoscelis adeliae) & Dream  & N26A1 & Yes & 2007-11-16 & 36.5 & 18.0 & 182 & 3150 & FEMALE & 9.68933 & -24.42280 & NA                                                                  \\\\\n\t PAL0708 & 42 & Adelie Penguin & Pygoscelis adeliae) & Dream  & N26A2 & Yes & 2007-11-16 & 40.8 & 18.4 & 195 & 3900 & MALE   &      NA &        NA & Not enough blood for isotopes.                                      \\\\\n\t PAL0708 & 43 & Adelie Penguin & Pygoscelis adeliae) & Dream  & N27A1 & Yes & 2007-11-19 & 36.0 & 18.5 & 186 & 3100 & FEMALE & 9.50772 & -25.03492 & NA                                                                  \\\\\n\t PAL0708 & 44 & Adelie Penguin & Pygoscelis adeliae) & Dream  & N27A2 & Yes & 2007-11-19 & 44.1 & 19.7 & 196 & 4400 & MALE   & 9.23720 & -24.52698 & NA                                                                  \\\\\n\t PAL0708 & 45 & Adelie Penguin & Pygoscelis adeliae) & Dream  & N28A1 & Yes & 2007-11-16 & 37.0 & 16.9 & 185 & 3000 & FEMALE & 9.36392 & -25.01745 & NA                                                                  \\\\\n\t PAL0708 & 46 & Adelie Penguin & Pygoscelis adeliae) & Dream  & N28A2 & Yes & 2007-11-16 & 39.6 & 18.8 & 190 & 4600 & MALE   & 9.49106 & -24.10255 & NA                                                                  \\\\\n\t PAL0708 & 47 & Adelie Penguin & Pygoscelis adeliae) & Dream  & N29A1 & Yes & 2007-11-13 & 41.1 & 19.0 & 182 & 3425 & MALE   &      NA &        NA & Not enough blood for isotopes.                                      \\\\\n\t PAL0708 & 48 & Adelie Penguin & Pygoscelis adeliae) & Dream  & N29A2 & Yes & 2007-11-13 & 37.5 & 18.9 & 179 & 2975 & NA     &      NA &        NA & Sexing primers did not amplify. Not enough blood for isotopes.      \\\\\n\t PAL0708 & 49 & Adelie Penguin & Pygoscelis adeliae) & Dream  & N30A1 & Yes & 2007-11-13 & 36.0 & 17.9 & 190 & 3450 & FEMALE & 9.51784 & -25.07683 & NA                                                                  \\\\\n\t PAL0708 & 50 & Adelie Penguin & Pygoscelis adeliae) & Dream  & N30A2 & Yes & 2007-11-13 & 42.3 & 21.2 & 191 & 4150 & MALE   & 8.87988 & -25.18543 & NA                                                                  \\\\\n\t ⋮ & ⋮ & ⋮ & ⋮ & ⋮ & ⋮ & ⋮ & ⋮ & ⋮ & ⋮ & ⋮ & ⋮ & ⋮ & ⋮ & ⋮ & ⋮\\\\\n\t PAL0809 & 39 & Chinstrap penguin & Pygoscelis antarctica) & Dream & N72A1  & No  & 2008-11-24 & 46.9 & 16.6 & 192 & 2700 & FEMALE &  9.80589 & -24.73735 & Nest never observed with full clutch.\\\\\n\t PAL0809 & 40 & Chinstrap penguin & Pygoscelis antarctica) & Dream & N72A2  & No  & 2008-11-24 & 53.5 & 19.9 & 205 & 4500 & MALE   & 10.02544 & -24.90816 & Nest never observed with full clutch.\\\\\n\t PAL0809 & 41 & Chinstrap penguin & Pygoscelis antarctica) & Dream & N74A1  & Yes & 2008-11-24 & 49.0 & 19.5 & 210 & 3950 & MALE   &  9.53262 & -24.66867 & NA                                   \\\\\n\t PAL0809 & 42 & Chinstrap penguin & Pygoscelis antarctica) & Dream & N74A2  & Yes & 2008-11-24 & 46.2 & 17.5 & 187 & 3650 & FEMALE &  9.61734 & -24.66188 & NA                                   \\\\\n\t PAL0809 & 43 & Chinstrap penguin & Pygoscelis antarctica) & Dream & N75A1  & Yes & 2008-11-14 & 50.9 & 19.1 & 196 & 3550 & MALE   & 10.02372 & -24.86594 & NA                                   \\\\\n\t PAL0809 & 44 & Chinstrap penguin & Pygoscelis antarctica) & Dream & N75A2  & Yes & 2008-11-14 & 45.5 & 17.0 & 196 & 3500 & FEMALE &  9.36493 & -24.66259 & NA                                   \\\\\n\t PAL0910 & 45 & Chinstrap penguin & Pygoscelis antarctica) & Dream & N86A1  & Yes & 2009-11-17 & 50.9 & 17.9 & 196 & 3675 & FEMALE &  9.43684 & -24.16566 & NA                                   \\\\\n\t PAL0910 & 46 & Chinstrap penguin & Pygoscelis antarctica) & Dream & N86A2  & Yes & 2009-11-17 & 50.8 & 18.5 & 201 & 4450 & MALE   &  9.45827 & -24.35575 & NA                                   \\\\\n\t PAL0910 & 47 & Chinstrap penguin & Pygoscelis antarctica) & Dream & N87A1  & Yes & 2009-11-27 & 50.1 & 17.9 & 190 & 3400 & FEMALE &  9.46819 & -24.45721 & NA                                   \\\\\n\t PAL0910 & 48 & Chinstrap penguin & Pygoscelis antarctica) & Dream & N87A2  & Yes & 2009-11-27 & 49.0 & 19.6 & 212 & 4300 & MALE   &  9.34089 & -24.45189 & NA                                   \\\\\n\t PAL0910 & 49 & Chinstrap penguin & Pygoscelis antarctica) & Dream & N88A1  & Yes & 2009-11-23 & 51.5 & 18.7 & 187 & 3250 & MALE   &  9.68950 & -24.43062 & NA                                   \\\\\n\t PAL0910 & 50 & Chinstrap penguin & Pygoscelis antarctica) & Dream & N88A2  & Yes & 2009-11-23 & 49.8 & 17.3 & 198 & 3675 & FEMALE &  9.32169 & -24.41562 & NA                                   \\\\\n\t PAL0910 & 51 & Chinstrap penguin & Pygoscelis antarctica) & Dream & N90A1  & Yes & 2009-11-21 & 48.1 & 16.4 & 199 & 3325 & FEMALE &  9.46929 & -24.48403 & NA                                   \\\\\n\t PAL0910 & 52 & Chinstrap penguin & Pygoscelis antarctica) & Dream & N90A2  & Yes & 2009-11-21 & 51.4 & 19.0 & 201 & 3950 & MALE   &  9.43782 & -24.36202 & NA                                   \\\\\n\t PAL0910 & 53 & Chinstrap penguin & Pygoscelis antarctica) & Dream & N92A1  & Yes & 2009-11-23 & 45.7 & 17.3 & 193 & 3600 & FEMALE &  9.41500 & -24.80500 & NA                                   \\\\\n\t PAL0910 & 54 & Chinstrap penguin & Pygoscelis antarctica) & Dream & N92A2  & Yes & 2009-11-23 & 50.7 & 19.7 & 203 & 4050 & MALE   &  9.93727 & -24.59066 & NA                                   \\\\\n\t PAL0910 & 55 & Chinstrap penguin & Pygoscelis antarctica) & Dream & N93A1  & Yes & 2009-11-27 & 42.5 & 17.3 & 187 & 3350 & FEMALE &  9.56534 & -24.60882 & NA                                   \\\\\n\t PAL0910 & 56 & Chinstrap penguin & Pygoscelis antarctica) & Dream & N93A2  & Yes & 2009-11-27 & 52.2 & 18.8 & 197 & 3450 & MALE   &  9.77528 & -24.56481 & NA                                   \\\\\n\t PAL0910 & 57 & Chinstrap penguin & Pygoscelis antarctica) & Dream & N94A1  & Yes & 2009-11-21 & 45.2 & 16.6 & 191 & 3250 & FEMALE &  9.62357 & -24.78984 & NA                                   \\\\\n\t PAL0910 & 58 & Chinstrap penguin & Pygoscelis antarctica) & Dream & N94A2  & Yes & 2009-11-21 & 49.3 & 19.9 & 203 & 4050 & MALE   &  9.88809 & -24.59513 & NA                                   \\\\\n\t PAL0910 & 59 & Chinstrap penguin & Pygoscelis antarctica) & Dream & N95A1  & Yes & 2009-11-21 & 50.2 & 18.8 & 202 & 3800 & MALE   &  9.74492 & -24.40400 & NA                                   \\\\\n\t PAL0910 & 60 & Chinstrap penguin & Pygoscelis antarctica) & Dream & N95A2  & Yes & 2009-11-21 & 45.6 & 19.4 & 194 & 3525 & FEMALE &  9.46985 & -24.65786 & NA                                   \\\\\n\t PAL0910 & 61 & Chinstrap penguin & Pygoscelis antarctica) & Dream & N96A1  & Yes & 2009-11-27 & 51.9 & 19.5 & 206 & 3950 & MALE   &       NA & -23.78767 & No delta15N data received from lab.  \\\\\n\t PAL0910 & 62 & Chinstrap penguin & Pygoscelis antarctica) & Dream & N96A2  & Yes & 2009-11-27 & 46.8 & 16.5 & 189 & 3650 & FEMALE &  9.65061 & -24.48153 & NA                                   \\\\\n\t PAL0910 & 63 & Chinstrap penguin & Pygoscelis antarctica) & Dream & N98A1  & Yes & 2009-11-19 & 45.7 & 17.0 & 195 & 3650 & FEMALE &  9.26715 & -24.31912 & NA                                   \\\\\n\t PAL0910 & 64 & Chinstrap penguin & Pygoscelis antarctica) & Dream & N98A2  & Yes & 2009-11-19 & 55.8 & 19.8 & 207 & 4000 & MALE   &  9.70465 & -24.53494 & NA                                   \\\\\n\t PAL0910 & 65 & Chinstrap penguin & Pygoscelis antarctica) & Dream & N99A1  & No  & 2009-11-21 & 43.5 & 18.1 & 202 & 3400 & FEMALE &  9.37608 & -24.40753 & Nest never observed with full clutch.\\\\\n\t PAL0910 & 66 & Chinstrap penguin & Pygoscelis antarctica) & Dream & N99A2  & No  & 2009-11-21 & 49.6 & 18.2 & 193 & 3775 & MALE   &  9.46180 & -24.70615 & Nest never observed with full clutch.\\\\\n\t PAL0910 & 67 & Chinstrap penguin & Pygoscelis antarctica) & Dream & N100A1 & Yes & 2009-11-21 & 50.8 & 19.0 & 210 & 4100 & MALE   &  9.98044 & -24.68741 & NA                                   \\\\\n\t PAL0910 & 68 & Chinstrap penguin & Pygoscelis antarctica) & Dream & N100A2 & Yes & 2009-11-21 & 50.2 & 18.7 & 198 & 3775 & FEMALE &  9.39305 & -24.25255 & NA                                   \\\\\n\\end{tabular}\n",
            "text/markdown": "\nA tibble: 292 × 16\n\n| study_name &lt;chr&gt; | sample_number &lt;dbl&gt; | species &lt;chr&gt; | latin_name &lt;chr&gt; | island &lt;chr&gt; | individual_id &lt;chr&gt; | clutch_completion &lt;chr&gt; | date_egg &lt;date&gt; | culmen_length_mm &lt;dbl&gt; | culmen_depth_mm &lt;dbl&gt; | flipper_length_mm &lt;dbl&gt; | body_mass_g &lt;dbl&gt; | sex &lt;chr&gt; | delta_15_n_o_oo &lt;dbl&gt; | delta_13_c_o_oo &lt;dbl&gt; | comments &lt;chr&gt; |\n|---|---|---|---|---|---|---|---|---|---|---|---|---|---|---|---|\n| PAL0708 | 21 | Adelie Penguin | Pygoscelis adeliae) | Biscoe | N11A1 | Yes | 2007-11-12 | 37.8 | 18.3 | 174 | 3400 | FEMALE | 8.73762 | -25.09383 | NA                                                                   |\n| PAL0708 | 22 | Adelie Penguin | Pygoscelis adeliae) | Biscoe | N11A2 | Yes | 2007-11-12 | 37.7 | 18.7 | 180 | 3600 | MALE   | 8.66271 | -25.06390 | NA                                                                   |\n| PAL0708 | 23 | Adelie Penguin | Pygoscelis adeliae) | Biscoe | N12A1 | Yes | 2007-11-12 | 35.9 | 19.2 | 189 | 3800 | FEMALE | 9.22286 | -25.03474 | NA                                                                   |\n| PAL0708 | 24 | Adelie Penguin | Pygoscelis adeliae) | Biscoe | N12A2 | Yes | 2007-11-12 | 38.2 | 18.1 | 185 | 3950 | MALE   | 8.43423 | -25.22664 | NA                                                                   |\n| PAL0708 | 25 | Adelie Penguin | Pygoscelis adeliae) | Biscoe | N13A1 | Yes | 2007-11-10 | 38.8 | 17.2 | 180 | 3800 | MALE   | 9.63954 | -25.29856 | NA                                                                   |\n| PAL0708 | 26 | Adelie Penguin | Pygoscelis adeliae) | Biscoe | N13A2 | Yes | 2007-11-10 | 35.3 | 18.9 | 187 | 3800 | FEMALE | 9.21292 | -24.36130 | NA                                                                   |\n| PAL0708 | 27 | Adelie Penguin | Pygoscelis adeliae) | Biscoe | N17A1 | Yes | 2007-11-12 | 40.6 | 18.6 | 183 | 3550 | MALE   | 8.93997 | -25.36288 | NA                                                                   |\n| PAL0708 | 28 | Adelie Penguin | Pygoscelis adeliae) | Biscoe | N17A2 | Yes | 2007-11-12 | 40.5 | 17.9 | 187 | 3200 | FEMALE | 8.08138 | -25.49448 | NA                                                                   |\n| PAL0708 | 29 | Adelie Penguin | Pygoscelis adeliae) | Biscoe | N18A1 | No  | 2007-11-10 | 37.9 | 18.6 | 172 | 3150 | FEMALE | 8.38404 | -25.19837 | Nest never observed with full clutch.                                |\n| PAL0708 | 30 | Adelie Penguin | Pygoscelis adeliae) | Biscoe | N18A2 | No  | 2007-11-10 | 40.5 | 18.9 | 180 | 3950 | MALE   | 8.90027 | -25.11609 | Nest never observed with full clutch.                                |\n| PAL0708 | 31 | Adelie Penguin | Pygoscelis adeliae) | Dream  | N21A1 | Yes | 2007-11-09 | 39.5 | 16.7 | 178 | 3250 | FEMALE | 9.69756 | -25.11223 | NA                                                                   |\n| PAL0708 | 32 | Adelie Penguin | Pygoscelis adeliae) | Dream  | N21A2 | Yes | 2007-11-09 | 37.2 | 18.1 | 178 | 3900 | MALE   | 9.72764 | -25.01020 | NA                                                                   |\n| PAL0708 | 33 | Adelie Penguin | Pygoscelis adeliae) | Dream  | N22A1 | Yes | 2007-11-09 | 39.5 | 17.8 | 188 | 3300 | FEMALE | 9.66523 | -25.06020 | NA                                                                   |\n| PAL0708 | 34 | Adelie Penguin | Pygoscelis adeliae) | Dream  | N22A2 | Yes | 2007-11-09 | 40.9 | 18.9 | 184 | 3900 | MALE   | 8.79665 | -25.14591 | NA                                                                   |\n| PAL0708 | 35 | Adelie Penguin | Pygoscelis adeliae) | Dream  | N23A1 | Yes | 2007-11-16 | 36.4 | 17.0 | 195 | 3325 | FEMALE | 9.17847 | -25.23061 | NA                                                                   |\n| PAL0708 | 36 | Adelie Penguin | Pygoscelis adeliae) | Dream  | N23A2 | Yes | 2007-11-16 | 39.2 | 21.1 | 196 | 4150 | MALE   | 9.15308 | -25.03469 | NA                                                                   |\n| PAL0708 | 37 | Adelie Penguin | Pygoscelis adeliae) | Dream  | N24A1 | Yes | 2007-11-16 | 38.8 | 20.0 | 190 | 3950 | MALE   | 9.18985 | -25.12255 | NA                                                                   |\n| PAL0708 | 38 | Adelie Penguin | Pygoscelis adeliae) | Dream  | N24A2 | Yes | 2007-11-16 | 42.2 | 18.5 | 180 | 3550 | FEMALE | 8.04787 | -25.49523 | NA                                                                   |\n| PAL0708 | 39 | Adelie Penguin | Pygoscelis adeliae) | Dream  | N25A1 | No  | 2007-11-13 | 37.6 | 19.3 | 181 | 3300 | FEMALE | 9.41131 | -25.04169 | Nest never observed with full clutch.                                |\n| PAL0708 | 40 | Adelie Penguin | Pygoscelis adeliae) | Dream  | N25A2 | No  | 2007-11-13 | 39.8 | 19.1 | 184 | 4650 | MALE   |      NA |        NA | Nest never observed with full clutch. Not enough blood for isotopes. |\n| PAL0708 | 41 | Adelie Penguin | Pygoscelis adeliae) | Dream  | N26A1 | Yes | 2007-11-16 | 36.5 | 18.0 | 182 | 3150 | FEMALE | 9.68933 | -24.42280 | NA                                                                   |\n| PAL0708 | 42 | Adelie Penguin | Pygoscelis adeliae) | Dream  | N26A2 | Yes | 2007-11-16 | 40.8 | 18.4 | 195 | 3900 | MALE   |      NA |        NA | Not enough blood for isotopes.                                       |\n| PAL0708 | 43 | Adelie Penguin | Pygoscelis adeliae) | Dream  | N27A1 | Yes | 2007-11-19 | 36.0 | 18.5 | 186 | 3100 | FEMALE | 9.50772 | -25.03492 | NA                                                                   |\n| PAL0708 | 44 | Adelie Penguin | Pygoscelis adeliae) | Dream  | N27A2 | Yes | 2007-11-19 | 44.1 | 19.7 | 196 | 4400 | MALE   | 9.23720 | -24.52698 | NA                                                                   |\n| PAL0708 | 45 | Adelie Penguin | Pygoscelis adeliae) | Dream  | N28A1 | Yes | 2007-11-16 | 37.0 | 16.9 | 185 | 3000 | FEMALE | 9.36392 | -25.01745 | NA                                                                   |\n| PAL0708 | 46 | Adelie Penguin | Pygoscelis adeliae) | Dream  | N28A2 | Yes | 2007-11-16 | 39.6 | 18.8 | 190 | 4600 | MALE   | 9.49106 | -24.10255 | NA                                                                   |\n| PAL0708 | 47 | Adelie Penguin | Pygoscelis adeliae) | Dream  | N29A1 | Yes | 2007-11-13 | 41.1 | 19.0 | 182 | 3425 | MALE   |      NA |        NA | Not enough blood for isotopes.                                       |\n| PAL0708 | 48 | Adelie Penguin | Pygoscelis adeliae) | Dream  | N29A2 | Yes | 2007-11-13 | 37.5 | 18.9 | 179 | 2975 | NA     |      NA |        NA | Sexing primers did not amplify. Not enough blood for isotopes.       |\n| PAL0708 | 49 | Adelie Penguin | Pygoscelis adeliae) | Dream  | N30A1 | Yes | 2007-11-13 | 36.0 | 17.9 | 190 | 3450 | FEMALE | 9.51784 | -25.07683 | NA                                                                   |\n| PAL0708 | 50 | Adelie Penguin | Pygoscelis adeliae) | Dream  | N30A2 | Yes | 2007-11-13 | 42.3 | 21.2 | 191 | 4150 | MALE   | 8.87988 | -25.18543 | NA                                                                   |\n| ⋮ | ⋮ | ⋮ | ⋮ | ⋮ | ⋮ | ⋮ | ⋮ | ⋮ | ⋮ | ⋮ | ⋮ | ⋮ | ⋮ | ⋮ | ⋮ |\n| PAL0809 | 39 | Chinstrap penguin | Pygoscelis antarctica) | Dream | N72A1  | No  | 2008-11-24 | 46.9 | 16.6 | 192 | 2700 | FEMALE |  9.80589 | -24.73735 | Nest never observed with full clutch. |\n| PAL0809 | 40 | Chinstrap penguin | Pygoscelis antarctica) | Dream | N72A2  | No  | 2008-11-24 | 53.5 | 19.9 | 205 | 4500 | MALE   | 10.02544 | -24.90816 | Nest never observed with full clutch. |\n| PAL0809 | 41 | Chinstrap penguin | Pygoscelis antarctica) | Dream | N74A1  | Yes | 2008-11-24 | 49.0 | 19.5 | 210 | 3950 | MALE   |  9.53262 | -24.66867 | NA                                    |\n| PAL0809 | 42 | Chinstrap penguin | Pygoscelis antarctica) | Dream | N74A2  | Yes | 2008-11-24 | 46.2 | 17.5 | 187 | 3650 | FEMALE |  9.61734 | -24.66188 | NA                                    |\n| PAL0809 | 43 | Chinstrap penguin | Pygoscelis antarctica) | Dream | N75A1  | Yes | 2008-11-14 | 50.9 | 19.1 | 196 | 3550 | MALE   | 10.02372 | -24.86594 | NA                                    |\n| PAL0809 | 44 | Chinstrap penguin | Pygoscelis antarctica) | Dream | N75A2  | Yes | 2008-11-14 | 45.5 | 17.0 | 196 | 3500 | FEMALE |  9.36493 | -24.66259 | NA                                    |\n| PAL0910 | 45 | Chinstrap penguin | Pygoscelis antarctica) | Dream | N86A1  | Yes | 2009-11-17 | 50.9 | 17.9 | 196 | 3675 | FEMALE |  9.43684 | -24.16566 | NA                                    |\n| PAL0910 | 46 | Chinstrap penguin | Pygoscelis antarctica) | Dream | N86A2  | Yes | 2009-11-17 | 50.8 | 18.5 | 201 | 4450 | MALE   |  9.45827 | -24.35575 | NA                                    |\n| PAL0910 | 47 | Chinstrap penguin | Pygoscelis antarctica) | Dream | N87A1  | Yes | 2009-11-27 | 50.1 | 17.9 | 190 | 3400 | FEMALE |  9.46819 | -24.45721 | NA                                    |\n| PAL0910 | 48 | Chinstrap penguin | Pygoscelis antarctica) | Dream | N87A2  | Yes | 2009-11-27 | 49.0 | 19.6 | 212 | 4300 | MALE   |  9.34089 | -24.45189 | NA                                    |\n| PAL0910 | 49 | Chinstrap penguin | Pygoscelis antarctica) | Dream | N88A1  | Yes | 2009-11-23 | 51.5 | 18.7 | 187 | 3250 | MALE   |  9.68950 | -24.43062 | NA                                    |\n| PAL0910 | 50 | Chinstrap penguin | Pygoscelis antarctica) | Dream | N88A2  | Yes | 2009-11-23 | 49.8 | 17.3 | 198 | 3675 | FEMALE |  9.32169 | -24.41562 | NA                                    |\n| PAL0910 | 51 | Chinstrap penguin | Pygoscelis antarctica) | Dream | N90A1  | Yes | 2009-11-21 | 48.1 | 16.4 | 199 | 3325 | FEMALE |  9.46929 | -24.48403 | NA                                    |\n| PAL0910 | 52 | Chinstrap penguin | Pygoscelis antarctica) | Dream | N90A2  | Yes | 2009-11-21 | 51.4 | 19.0 | 201 | 3950 | MALE   |  9.43782 | -24.36202 | NA                                    |\n| PAL0910 | 53 | Chinstrap penguin | Pygoscelis antarctica) | Dream | N92A1  | Yes | 2009-11-23 | 45.7 | 17.3 | 193 | 3600 | FEMALE |  9.41500 | -24.80500 | NA                                    |\n| PAL0910 | 54 | Chinstrap penguin | Pygoscelis antarctica) | Dream | N92A2  | Yes | 2009-11-23 | 50.7 | 19.7 | 203 | 4050 | MALE   |  9.93727 | -24.59066 | NA                                    |\n| PAL0910 | 55 | Chinstrap penguin | Pygoscelis antarctica) | Dream | N93A1  | Yes | 2009-11-27 | 42.5 | 17.3 | 187 | 3350 | FEMALE |  9.56534 | -24.60882 | NA                                    |\n| PAL0910 | 56 | Chinstrap penguin | Pygoscelis antarctica) | Dream | N93A2  | Yes | 2009-11-27 | 52.2 | 18.8 | 197 | 3450 | MALE   |  9.77528 | -24.56481 | NA                                    |\n| PAL0910 | 57 | Chinstrap penguin | Pygoscelis antarctica) | Dream | N94A1  | Yes | 2009-11-21 | 45.2 | 16.6 | 191 | 3250 | FEMALE |  9.62357 | -24.78984 | NA                                    |\n| PAL0910 | 58 | Chinstrap penguin | Pygoscelis antarctica) | Dream | N94A2  | Yes | 2009-11-21 | 49.3 | 19.9 | 203 | 4050 | MALE   |  9.88809 | -24.59513 | NA                                    |\n| PAL0910 | 59 | Chinstrap penguin | Pygoscelis antarctica) | Dream | N95A1  | Yes | 2009-11-21 | 50.2 | 18.8 | 202 | 3800 | MALE   |  9.74492 | -24.40400 | NA                                    |\n| PAL0910 | 60 | Chinstrap penguin | Pygoscelis antarctica) | Dream | N95A2  | Yes | 2009-11-21 | 45.6 | 19.4 | 194 | 3525 | FEMALE |  9.46985 | -24.65786 | NA                                    |\n| PAL0910 | 61 | Chinstrap penguin | Pygoscelis antarctica) | Dream | N96A1  | Yes | 2009-11-27 | 51.9 | 19.5 | 206 | 3950 | MALE   |       NA | -23.78767 | No delta15N data received from lab.   |\n| PAL0910 | 62 | Chinstrap penguin | Pygoscelis antarctica) | Dream | N96A2  | Yes | 2009-11-27 | 46.8 | 16.5 | 189 | 3650 | FEMALE |  9.65061 | -24.48153 | NA                                    |\n| PAL0910 | 63 | Chinstrap penguin | Pygoscelis antarctica) | Dream | N98A1  | Yes | 2009-11-19 | 45.7 | 17.0 | 195 | 3650 | FEMALE |  9.26715 | -24.31912 | NA                                    |\n| PAL0910 | 64 | Chinstrap penguin | Pygoscelis antarctica) | Dream | N98A2  | Yes | 2009-11-19 | 55.8 | 19.8 | 207 | 4000 | MALE   |  9.70465 | -24.53494 | NA                                    |\n| PAL0910 | 65 | Chinstrap penguin | Pygoscelis antarctica) | Dream | N99A1  | No  | 2009-11-21 | 43.5 | 18.1 | 202 | 3400 | FEMALE |  9.37608 | -24.40753 | Nest never observed with full clutch. |\n| PAL0910 | 66 | Chinstrap penguin | Pygoscelis antarctica) | Dream | N99A2  | No  | 2009-11-21 | 49.6 | 18.2 | 193 | 3775 | MALE   |  9.46180 | -24.70615 | Nest never observed with full clutch. |\n| PAL0910 | 67 | Chinstrap penguin | Pygoscelis antarctica) | Dream | N100A1 | Yes | 2009-11-21 | 50.8 | 19.0 | 210 | 4100 | MALE   |  9.98044 | -24.68741 | NA                                    |\n| PAL0910 | 68 | Chinstrap penguin | Pygoscelis antarctica) | Dream | N100A2 | Yes | 2009-11-21 | 50.2 | 18.7 | 198 | 3775 | FEMALE |  9.39305 | -24.25255 | NA                                    |\n\n",
            "text/html": [
              "<table class=\"dataframe\">\n",
              "<caption>A tibble: 292 × 16</caption>\n",
              "<thead>\n",
              "\t<tr><th scope=col>study_name</th><th scope=col>sample_number</th><th scope=col>species</th><th scope=col>latin_name</th><th scope=col>island</th><th scope=col>individual_id</th><th scope=col>clutch_completion</th><th scope=col>date_egg</th><th scope=col>culmen_length_mm</th><th scope=col>culmen_depth_mm</th><th scope=col>flipper_length_mm</th><th scope=col>body_mass_g</th><th scope=col>sex</th><th scope=col>delta_15_n_o_oo</th><th scope=col>delta_13_c_o_oo</th><th scope=col>comments</th></tr>\n",
              "\t<tr><th scope=col>&lt;chr&gt;</th><th scope=col>&lt;dbl&gt;</th><th scope=col>&lt;chr&gt;</th><th scope=col>&lt;chr&gt;</th><th scope=col>&lt;chr&gt;</th><th scope=col>&lt;chr&gt;</th><th scope=col>&lt;chr&gt;</th><th scope=col>&lt;date&gt;</th><th scope=col>&lt;dbl&gt;</th><th scope=col>&lt;dbl&gt;</th><th scope=col>&lt;dbl&gt;</th><th scope=col>&lt;dbl&gt;</th><th scope=col>&lt;chr&gt;</th><th scope=col>&lt;dbl&gt;</th><th scope=col>&lt;dbl&gt;</th><th scope=col>&lt;chr&gt;</th></tr>\n",
              "</thead>\n",
              "<tbody>\n",
              "\t<tr><td>PAL0708</td><td>21</td><td>Adelie Penguin</td><td>Pygoscelis adeliae)</td><td>Biscoe</td><td>N11A1</td><td>Yes</td><td>2007-11-12</td><td>37.8</td><td>18.3</td><td>174</td><td>3400</td><td>FEMALE</td><td>8.73762</td><td>-25.09383</td><td>NA                                                                  </td></tr>\n",
              "\t<tr><td>PAL0708</td><td>22</td><td>Adelie Penguin</td><td>Pygoscelis adeliae)</td><td>Biscoe</td><td>N11A2</td><td>Yes</td><td>2007-11-12</td><td>37.7</td><td>18.7</td><td>180</td><td>3600</td><td>MALE  </td><td>8.66271</td><td>-25.06390</td><td>NA                                                                  </td></tr>\n",
              "\t<tr><td>PAL0708</td><td>23</td><td>Adelie Penguin</td><td>Pygoscelis adeliae)</td><td>Biscoe</td><td>N12A1</td><td>Yes</td><td>2007-11-12</td><td>35.9</td><td>19.2</td><td>189</td><td>3800</td><td>FEMALE</td><td>9.22286</td><td>-25.03474</td><td>NA                                                                  </td></tr>\n",
              "\t<tr><td>PAL0708</td><td>24</td><td>Adelie Penguin</td><td>Pygoscelis adeliae)</td><td>Biscoe</td><td>N12A2</td><td>Yes</td><td>2007-11-12</td><td>38.2</td><td>18.1</td><td>185</td><td>3950</td><td>MALE  </td><td>8.43423</td><td>-25.22664</td><td>NA                                                                  </td></tr>\n",
              "\t<tr><td>PAL0708</td><td>25</td><td>Adelie Penguin</td><td>Pygoscelis adeliae)</td><td>Biscoe</td><td>N13A1</td><td>Yes</td><td>2007-11-10</td><td>38.8</td><td>17.2</td><td>180</td><td>3800</td><td>MALE  </td><td>9.63954</td><td>-25.29856</td><td>NA                                                                  </td></tr>\n",
              "\t<tr><td>PAL0708</td><td>26</td><td>Adelie Penguin</td><td>Pygoscelis adeliae)</td><td>Biscoe</td><td>N13A2</td><td>Yes</td><td>2007-11-10</td><td>35.3</td><td>18.9</td><td>187</td><td>3800</td><td>FEMALE</td><td>9.21292</td><td>-24.36130</td><td>NA                                                                  </td></tr>\n",
              "\t<tr><td>PAL0708</td><td>27</td><td>Adelie Penguin</td><td>Pygoscelis adeliae)</td><td>Biscoe</td><td>N17A1</td><td>Yes</td><td>2007-11-12</td><td>40.6</td><td>18.6</td><td>183</td><td>3550</td><td>MALE  </td><td>8.93997</td><td>-25.36288</td><td>NA                                                                  </td></tr>\n",
              "\t<tr><td>PAL0708</td><td>28</td><td>Adelie Penguin</td><td>Pygoscelis adeliae)</td><td>Biscoe</td><td>N17A2</td><td>Yes</td><td>2007-11-12</td><td>40.5</td><td>17.9</td><td>187</td><td>3200</td><td>FEMALE</td><td>8.08138</td><td>-25.49448</td><td>NA                                                                  </td></tr>\n",
              "\t<tr><td>PAL0708</td><td>29</td><td>Adelie Penguin</td><td>Pygoscelis adeliae)</td><td>Biscoe</td><td>N18A1</td><td>No </td><td>2007-11-10</td><td>37.9</td><td>18.6</td><td>172</td><td>3150</td><td>FEMALE</td><td>8.38404</td><td>-25.19837</td><td>Nest never observed with full clutch.                               </td></tr>\n",
              "\t<tr><td>PAL0708</td><td>30</td><td>Adelie Penguin</td><td>Pygoscelis adeliae)</td><td>Biscoe</td><td>N18A2</td><td>No </td><td>2007-11-10</td><td>40.5</td><td>18.9</td><td>180</td><td>3950</td><td>MALE  </td><td>8.90027</td><td>-25.11609</td><td>Nest never observed with full clutch.                               </td></tr>\n",
              "\t<tr><td>PAL0708</td><td>31</td><td>Adelie Penguin</td><td>Pygoscelis adeliae)</td><td>Dream </td><td>N21A1</td><td>Yes</td><td>2007-11-09</td><td>39.5</td><td>16.7</td><td>178</td><td>3250</td><td>FEMALE</td><td>9.69756</td><td>-25.11223</td><td>NA                                                                  </td></tr>\n",
              "\t<tr><td>PAL0708</td><td>32</td><td>Adelie Penguin</td><td>Pygoscelis adeliae)</td><td>Dream </td><td>N21A2</td><td>Yes</td><td>2007-11-09</td><td>37.2</td><td>18.1</td><td>178</td><td>3900</td><td>MALE  </td><td>9.72764</td><td>-25.01020</td><td>NA                                                                  </td></tr>\n",
              "\t<tr><td>PAL0708</td><td>33</td><td>Adelie Penguin</td><td>Pygoscelis adeliae)</td><td>Dream </td><td>N22A1</td><td>Yes</td><td>2007-11-09</td><td>39.5</td><td>17.8</td><td>188</td><td>3300</td><td>FEMALE</td><td>9.66523</td><td>-25.06020</td><td>NA                                                                  </td></tr>\n",
              "\t<tr><td>PAL0708</td><td>34</td><td>Adelie Penguin</td><td>Pygoscelis adeliae)</td><td>Dream </td><td>N22A2</td><td>Yes</td><td>2007-11-09</td><td>40.9</td><td>18.9</td><td>184</td><td>3900</td><td>MALE  </td><td>8.79665</td><td>-25.14591</td><td>NA                                                                  </td></tr>\n",
              "\t<tr><td>PAL0708</td><td>35</td><td>Adelie Penguin</td><td>Pygoscelis adeliae)</td><td>Dream </td><td>N23A1</td><td>Yes</td><td>2007-11-16</td><td>36.4</td><td>17.0</td><td>195</td><td>3325</td><td>FEMALE</td><td>9.17847</td><td>-25.23061</td><td>NA                                                                  </td></tr>\n",
              "\t<tr><td>PAL0708</td><td>36</td><td>Adelie Penguin</td><td>Pygoscelis adeliae)</td><td>Dream </td><td>N23A2</td><td>Yes</td><td>2007-11-16</td><td>39.2</td><td>21.1</td><td>196</td><td>4150</td><td>MALE  </td><td>9.15308</td><td>-25.03469</td><td>NA                                                                  </td></tr>\n",
              "\t<tr><td>PAL0708</td><td>37</td><td>Adelie Penguin</td><td>Pygoscelis adeliae)</td><td>Dream </td><td>N24A1</td><td>Yes</td><td>2007-11-16</td><td>38.8</td><td>20.0</td><td>190</td><td>3950</td><td>MALE  </td><td>9.18985</td><td>-25.12255</td><td>NA                                                                  </td></tr>\n",
              "\t<tr><td>PAL0708</td><td>38</td><td>Adelie Penguin</td><td>Pygoscelis adeliae)</td><td>Dream </td><td>N24A2</td><td>Yes</td><td>2007-11-16</td><td>42.2</td><td>18.5</td><td>180</td><td>3550</td><td>FEMALE</td><td>8.04787</td><td>-25.49523</td><td>NA                                                                  </td></tr>\n",
              "\t<tr><td>PAL0708</td><td>39</td><td>Adelie Penguin</td><td>Pygoscelis adeliae)</td><td>Dream </td><td>N25A1</td><td>No </td><td>2007-11-13</td><td>37.6</td><td>19.3</td><td>181</td><td>3300</td><td>FEMALE</td><td>9.41131</td><td>-25.04169</td><td>Nest never observed with full clutch.                               </td></tr>\n",
              "\t<tr><td>PAL0708</td><td>40</td><td>Adelie Penguin</td><td>Pygoscelis adeliae)</td><td>Dream </td><td>N25A2</td><td>No </td><td>2007-11-13</td><td>39.8</td><td>19.1</td><td>184</td><td>4650</td><td>MALE  </td><td>     NA</td><td>       NA</td><td>Nest never observed with full clutch. Not enough blood for isotopes.</td></tr>\n",
              "\t<tr><td>PAL0708</td><td>41</td><td>Adelie Penguin</td><td>Pygoscelis adeliae)</td><td>Dream </td><td>N26A1</td><td>Yes</td><td>2007-11-16</td><td>36.5</td><td>18.0</td><td>182</td><td>3150</td><td>FEMALE</td><td>9.68933</td><td>-24.42280</td><td>NA                                                                  </td></tr>\n",
              "\t<tr><td>PAL0708</td><td>42</td><td>Adelie Penguin</td><td>Pygoscelis adeliae)</td><td>Dream </td><td>N26A2</td><td>Yes</td><td>2007-11-16</td><td>40.8</td><td>18.4</td><td>195</td><td>3900</td><td>MALE  </td><td>     NA</td><td>       NA</td><td>Not enough blood for isotopes.                                      </td></tr>\n",
              "\t<tr><td>PAL0708</td><td>43</td><td>Adelie Penguin</td><td>Pygoscelis adeliae)</td><td>Dream </td><td>N27A1</td><td>Yes</td><td>2007-11-19</td><td>36.0</td><td>18.5</td><td>186</td><td>3100</td><td>FEMALE</td><td>9.50772</td><td>-25.03492</td><td>NA                                                                  </td></tr>\n",
              "\t<tr><td>PAL0708</td><td>44</td><td>Adelie Penguin</td><td>Pygoscelis adeliae)</td><td>Dream </td><td>N27A2</td><td>Yes</td><td>2007-11-19</td><td>44.1</td><td>19.7</td><td>196</td><td>4400</td><td>MALE  </td><td>9.23720</td><td>-24.52698</td><td>NA                                                                  </td></tr>\n",
              "\t<tr><td>PAL0708</td><td>45</td><td>Adelie Penguin</td><td>Pygoscelis adeliae)</td><td>Dream </td><td>N28A1</td><td>Yes</td><td>2007-11-16</td><td>37.0</td><td>16.9</td><td>185</td><td>3000</td><td>FEMALE</td><td>9.36392</td><td>-25.01745</td><td>NA                                                                  </td></tr>\n",
              "\t<tr><td>PAL0708</td><td>46</td><td>Adelie Penguin</td><td>Pygoscelis adeliae)</td><td>Dream </td><td>N28A2</td><td>Yes</td><td>2007-11-16</td><td>39.6</td><td>18.8</td><td>190</td><td>4600</td><td>MALE  </td><td>9.49106</td><td>-24.10255</td><td>NA                                                                  </td></tr>\n",
              "\t<tr><td>PAL0708</td><td>47</td><td>Adelie Penguin</td><td>Pygoscelis adeliae)</td><td>Dream </td><td>N29A1</td><td>Yes</td><td>2007-11-13</td><td>41.1</td><td>19.0</td><td>182</td><td>3425</td><td>MALE  </td><td>     NA</td><td>       NA</td><td>Not enough blood for isotopes.                                      </td></tr>\n",
              "\t<tr><td>PAL0708</td><td>48</td><td>Adelie Penguin</td><td>Pygoscelis adeliae)</td><td>Dream </td><td>N29A2</td><td>Yes</td><td>2007-11-13</td><td>37.5</td><td>18.9</td><td>179</td><td>2975</td><td>NA    </td><td>     NA</td><td>       NA</td><td>Sexing primers did not amplify. Not enough blood for isotopes.      </td></tr>\n",
              "\t<tr><td>PAL0708</td><td>49</td><td>Adelie Penguin</td><td>Pygoscelis adeliae)</td><td>Dream </td><td>N30A1</td><td>Yes</td><td>2007-11-13</td><td>36.0</td><td>17.9</td><td>190</td><td>3450</td><td>FEMALE</td><td>9.51784</td><td>-25.07683</td><td>NA                                                                  </td></tr>\n",
              "\t<tr><td>PAL0708</td><td>50</td><td>Adelie Penguin</td><td>Pygoscelis adeliae)</td><td>Dream </td><td>N30A2</td><td>Yes</td><td>2007-11-13</td><td>42.3</td><td>21.2</td><td>191</td><td>4150</td><td>MALE  </td><td>8.87988</td><td>-25.18543</td><td>NA                                                                  </td></tr>\n",
              "\t<tr><td>⋮</td><td>⋮</td><td>⋮</td><td>⋮</td><td>⋮</td><td>⋮</td><td>⋮</td><td>⋮</td><td>⋮</td><td>⋮</td><td>⋮</td><td>⋮</td><td>⋮</td><td>⋮</td><td>⋮</td><td>⋮</td></tr>\n",
              "\t<tr><td>PAL0809</td><td>39</td><td>Chinstrap penguin</td><td>Pygoscelis antarctica)</td><td>Dream</td><td>N72A1 </td><td>No </td><td>2008-11-24</td><td>46.9</td><td>16.6</td><td>192</td><td>2700</td><td>FEMALE</td><td> 9.80589</td><td>-24.73735</td><td>Nest never observed with full clutch.</td></tr>\n",
              "\t<tr><td>PAL0809</td><td>40</td><td>Chinstrap penguin</td><td>Pygoscelis antarctica)</td><td>Dream</td><td>N72A2 </td><td>No </td><td>2008-11-24</td><td>53.5</td><td>19.9</td><td>205</td><td>4500</td><td>MALE  </td><td>10.02544</td><td>-24.90816</td><td>Nest never observed with full clutch.</td></tr>\n",
              "\t<tr><td>PAL0809</td><td>41</td><td>Chinstrap penguin</td><td>Pygoscelis antarctica)</td><td>Dream</td><td>N74A1 </td><td>Yes</td><td>2008-11-24</td><td>49.0</td><td>19.5</td><td>210</td><td>3950</td><td>MALE  </td><td> 9.53262</td><td>-24.66867</td><td>NA                                   </td></tr>\n",
              "\t<tr><td>PAL0809</td><td>42</td><td>Chinstrap penguin</td><td>Pygoscelis antarctica)</td><td>Dream</td><td>N74A2 </td><td>Yes</td><td>2008-11-24</td><td>46.2</td><td>17.5</td><td>187</td><td>3650</td><td>FEMALE</td><td> 9.61734</td><td>-24.66188</td><td>NA                                   </td></tr>\n",
              "\t<tr><td>PAL0809</td><td>43</td><td>Chinstrap penguin</td><td>Pygoscelis antarctica)</td><td>Dream</td><td>N75A1 </td><td>Yes</td><td>2008-11-14</td><td>50.9</td><td>19.1</td><td>196</td><td>3550</td><td>MALE  </td><td>10.02372</td><td>-24.86594</td><td>NA                                   </td></tr>\n",
              "\t<tr><td>PAL0809</td><td>44</td><td>Chinstrap penguin</td><td>Pygoscelis antarctica)</td><td>Dream</td><td>N75A2 </td><td>Yes</td><td>2008-11-14</td><td>45.5</td><td>17.0</td><td>196</td><td>3500</td><td>FEMALE</td><td> 9.36493</td><td>-24.66259</td><td>NA                                   </td></tr>\n",
              "\t<tr><td>PAL0910</td><td>45</td><td>Chinstrap penguin</td><td>Pygoscelis antarctica)</td><td>Dream</td><td>N86A1 </td><td>Yes</td><td>2009-11-17</td><td>50.9</td><td>17.9</td><td>196</td><td>3675</td><td>FEMALE</td><td> 9.43684</td><td>-24.16566</td><td>NA                                   </td></tr>\n",
              "\t<tr><td>PAL0910</td><td>46</td><td>Chinstrap penguin</td><td>Pygoscelis antarctica)</td><td>Dream</td><td>N86A2 </td><td>Yes</td><td>2009-11-17</td><td>50.8</td><td>18.5</td><td>201</td><td>4450</td><td>MALE  </td><td> 9.45827</td><td>-24.35575</td><td>NA                                   </td></tr>\n",
              "\t<tr><td>PAL0910</td><td>47</td><td>Chinstrap penguin</td><td>Pygoscelis antarctica)</td><td>Dream</td><td>N87A1 </td><td>Yes</td><td>2009-11-27</td><td>50.1</td><td>17.9</td><td>190</td><td>3400</td><td>FEMALE</td><td> 9.46819</td><td>-24.45721</td><td>NA                                   </td></tr>\n",
              "\t<tr><td>PAL0910</td><td>48</td><td>Chinstrap penguin</td><td>Pygoscelis antarctica)</td><td>Dream</td><td>N87A2 </td><td>Yes</td><td>2009-11-27</td><td>49.0</td><td>19.6</td><td>212</td><td>4300</td><td>MALE  </td><td> 9.34089</td><td>-24.45189</td><td>NA                                   </td></tr>\n",
              "\t<tr><td>PAL0910</td><td>49</td><td>Chinstrap penguin</td><td>Pygoscelis antarctica)</td><td>Dream</td><td>N88A1 </td><td>Yes</td><td>2009-11-23</td><td>51.5</td><td>18.7</td><td>187</td><td>3250</td><td>MALE  </td><td> 9.68950</td><td>-24.43062</td><td>NA                                   </td></tr>\n",
              "\t<tr><td>PAL0910</td><td>50</td><td>Chinstrap penguin</td><td>Pygoscelis antarctica)</td><td>Dream</td><td>N88A2 </td><td>Yes</td><td>2009-11-23</td><td>49.8</td><td>17.3</td><td>198</td><td>3675</td><td>FEMALE</td><td> 9.32169</td><td>-24.41562</td><td>NA                                   </td></tr>\n",
              "\t<tr><td>PAL0910</td><td>51</td><td>Chinstrap penguin</td><td>Pygoscelis antarctica)</td><td>Dream</td><td>N90A1 </td><td>Yes</td><td>2009-11-21</td><td>48.1</td><td>16.4</td><td>199</td><td>3325</td><td>FEMALE</td><td> 9.46929</td><td>-24.48403</td><td>NA                                   </td></tr>\n",
              "\t<tr><td>PAL0910</td><td>52</td><td>Chinstrap penguin</td><td>Pygoscelis antarctica)</td><td>Dream</td><td>N90A2 </td><td>Yes</td><td>2009-11-21</td><td>51.4</td><td>19.0</td><td>201</td><td>3950</td><td>MALE  </td><td> 9.43782</td><td>-24.36202</td><td>NA                                   </td></tr>\n",
              "\t<tr><td>PAL0910</td><td>53</td><td>Chinstrap penguin</td><td>Pygoscelis antarctica)</td><td>Dream</td><td>N92A1 </td><td>Yes</td><td>2009-11-23</td><td>45.7</td><td>17.3</td><td>193</td><td>3600</td><td>FEMALE</td><td> 9.41500</td><td>-24.80500</td><td>NA                                   </td></tr>\n",
              "\t<tr><td>PAL0910</td><td>54</td><td>Chinstrap penguin</td><td>Pygoscelis antarctica)</td><td>Dream</td><td>N92A2 </td><td>Yes</td><td>2009-11-23</td><td>50.7</td><td>19.7</td><td>203</td><td>4050</td><td>MALE  </td><td> 9.93727</td><td>-24.59066</td><td>NA                                   </td></tr>\n",
              "\t<tr><td>PAL0910</td><td>55</td><td>Chinstrap penguin</td><td>Pygoscelis antarctica)</td><td>Dream</td><td>N93A1 </td><td>Yes</td><td>2009-11-27</td><td>42.5</td><td>17.3</td><td>187</td><td>3350</td><td>FEMALE</td><td> 9.56534</td><td>-24.60882</td><td>NA                                   </td></tr>\n",
              "\t<tr><td>PAL0910</td><td>56</td><td>Chinstrap penguin</td><td>Pygoscelis antarctica)</td><td>Dream</td><td>N93A2 </td><td>Yes</td><td>2009-11-27</td><td>52.2</td><td>18.8</td><td>197</td><td>3450</td><td>MALE  </td><td> 9.77528</td><td>-24.56481</td><td>NA                                   </td></tr>\n",
              "\t<tr><td>PAL0910</td><td>57</td><td>Chinstrap penguin</td><td>Pygoscelis antarctica)</td><td>Dream</td><td>N94A1 </td><td>Yes</td><td>2009-11-21</td><td>45.2</td><td>16.6</td><td>191</td><td>3250</td><td>FEMALE</td><td> 9.62357</td><td>-24.78984</td><td>NA                                   </td></tr>\n",
              "\t<tr><td>PAL0910</td><td>58</td><td>Chinstrap penguin</td><td>Pygoscelis antarctica)</td><td>Dream</td><td>N94A2 </td><td>Yes</td><td>2009-11-21</td><td>49.3</td><td>19.9</td><td>203</td><td>4050</td><td>MALE  </td><td> 9.88809</td><td>-24.59513</td><td>NA                                   </td></tr>\n",
              "\t<tr><td>PAL0910</td><td>59</td><td>Chinstrap penguin</td><td>Pygoscelis antarctica)</td><td>Dream</td><td>N95A1 </td><td>Yes</td><td>2009-11-21</td><td>50.2</td><td>18.8</td><td>202</td><td>3800</td><td>MALE  </td><td> 9.74492</td><td>-24.40400</td><td>NA                                   </td></tr>\n",
              "\t<tr><td>PAL0910</td><td>60</td><td>Chinstrap penguin</td><td>Pygoscelis antarctica)</td><td>Dream</td><td>N95A2 </td><td>Yes</td><td>2009-11-21</td><td>45.6</td><td>19.4</td><td>194</td><td>3525</td><td>FEMALE</td><td> 9.46985</td><td>-24.65786</td><td>NA                                   </td></tr>\n",
              "\t<tr><td>PAL0910</td><td>61</td><td>Chinstrap penguin</td><td>Pygoscelis antarctica)</td><td>Dream</td><td>N96A1 </td><td>Yes</td><td>2009-11-27</td><td>51.9</td><td>19.5</td><td>206</td><td>3950</td><td>MALE  </td><td>      NA</td><td>-23.78767</td><td>No delta15N data received from lab.  </td></tr>\n",
              "\t<tr><td>PAL0910</td><td>62</td><td>Chinstrap penguin</td><td>Pygoscelis antarctica)</td><td>Dream</td><td>N96A2 </td><td>Yes</td><td>2009-11-27</td><td>46.8</td><td>16.5</td><td>189</td><td>3650</td><td>FEMALE</td><td> 9.65061</td><td>-24.48153</td><td>NA                                   </td></tr>\n",
              "\t<tr><td>PAL0910</td><td>63</td><td>Chinstrap penguin</td><td>Pygoscelis antarctica)</td><td>Dream</td><td>N98A1 </td><td>Yes</td><td>2009-11-19</td><td>45.7</td><td>17.0</td><td>195</td><td>3650</td><td>FEMALE</td><td> 9.26715</td><td>-24.31912</td><td>NA                                   </td></tr>\n",
              "\t<tr><td>PAL0910</td><td>64</td><td>Chinstrap penguin</td><td>Pygoscelis antarctica)</td><td>Dream</td><td>N98A2 </td><td>Yes</td><td>2009-11-19</td><td>55.8</td><td>19.8</td><td>207</td><td>4000</td><td>MALE  </td><td> 9.70465</td><td>-24.53494</td><td>NA                                   </td></tr>\n",
              "\t<tr><td>PAL0910</td><td>65</td><td>Chinstrap penguin</td><td>Pygoscelis antarctica)</td><td>Dream</td><td>N99A1 </td><td>No </td><td>2009-11-21</td><td>43.5</td><td>18.1</td><td>202</td><td>3400</td><td>FEMALE</td><td> 9.37608</td><td>-24.40753</td><td>Nest never observed with full clutch.</td></tr>\n",
              "\t<tr><td>PAL0910</td><td>66</td><td>Chinstrap penguin</td><td>Pygoscelis antarctica)</td><td>Dream</td><td>N99A2 </td><td>No </td><td>2009-11-21</td><td>49.6</td><td>18.2</td><td>193</td><td>3775</td><td>MALE  </td><td> 9.46180</td><td>-24.70615</td><td>Nest never observed with full clutch.</td></tr>\n",
              "\t<tr><td>PAL0910</td><td>67</td><td>Chinstrap penguin</td><td>Pygoscelis antarctica)</td><td>Dream</td><td>N100A1</td><td>Yes</td><td>2009-11-21</td><td>50.8</td><td>19.0</td><td>210</td><td>4100</td><td>MALE  </td><td> 9.98044</td><td>-24.68741</td><td>NA                                   </td></tr>\n",
              "\t<tr><td>PAL0910</td><td>68</td><td>Chinstrap penguin</td><td>Pygoscelis antarctica)</td><td>Dream</td><td>N100A2</td><td>Yes</td><td>2009-11-21</td><td>50.2</td><td>18.7</td><td>198</td><td>3775</td><td>FEMALE</td><td> 9.39305</td><td>-24.25255</td><td>NA                                   </td></tr>\n",
              "</tbody>\n",
              "</table>\n"
            ]
          },
          "metadata": {
            "tags": []
          }
        }
      ]
    },
    {
      "cell_type": "markdown",
      "metadata": {
        "id": "c5369844"
      },
      "source": [
        "\n",
        "\n",
        "### `mutate()`\n",
        "\n",
        "helps you create variables\n",
        "\n"
      ]
    },
    {
      "cell_type": "markdown",
      "metadata": {
        "id": "d26a5104"
      },
      "source": [
        "\n",
        "\n",
        "![](https://favstats.shinyapps.io/r_intro/_w_dfe6b732/images/mutate.png)\n",
        "\n",
        "`mutate` will take a statement like this:\n",
        "\n",
        "`variable_name = some_calculation`\n",
        "\n",
        "and attach `variable_name` at the *end of the dataset*.\n"
      ]
    },
    {
      "cell_type": "markdown",
      "metadata": {
        "id": "286d1508"
      },
      "source": [
        "\n",
        "Let's say we want to calculate penguin bodymass in kg rather than gram.\n",
        "\n",
        "We tale the variable `body_mass_g` and divided by `1000`."
      ]
    },
    {
      "cell_type": "code",
      "metadata": {
        "id": "9efc3c72"
      },
      "source": [
        "pg_new <- mutate(penguins_clean, bodymass_kg = body_mass_g/1000)"
      ],
      "execution_count": null,
      "outputs": []
    },
    {
      "cell_type": "code",
      "metadata": {
        "lines_to_next_cell": 0,
        "id": "27637fd6",
        "colab": {
          "base_uri": "https://localhost:8080/",
          "height": 1000
        },
        "outputId": "33cefebc-f815-4485-c85c-de6670b0a8bc"
      },
      "source": [
        "select(pg_new, bodymass_kg, body_mass_g)"
      ],
      "execution_count": null,
      "outputs": [
        {
          "output_type": "display_data",
          "data": {
            "text/plain": [
              "    bodymass_kg body_mass_g\n",
              "1   3.750       3750       \n",
              "2   3.800       3800       \n",
              "3   3.250       3250       \n",
              "4      NA         NA       \n",
              "5   3.450       3450       \n",
              "6   3.650       3650       \n",
              "7   3.625       3625       \n",
              "8   4.675       4675       \n",
              "9   3.475       3475       \n",
              "10  4.250       4250       \n",
              "11  3.300       3300       \n",
              "12  3.700       3700       \n",
              "13  3.200       3200       \n",
              "14  3.800       3800       \n",
              "15  4.400       4400       \n",
              "16  3.700       3700       \n",
              "17  3.450       3450       \n",
              "18  4.500       4500       \n",
              "19  3.325       3325       \n",
              "20  4.200       4200       \n",
              "21  3.400       3400       \n",
              "22  3.600       3600       \n",
              "23  3.800       3800       \n",
              "24  3.950       3950       \n",
              "25  3.800       3800       \n",
              "26  3.800       3800       \n",
              "27  3.550       3550       \n",
              "28  3.200       3200       \n",
              "29  3.150       3150       \n",
              "30  3.950       3950       \n",
              "⋮   ⋮           ⋮          \n",
              "315 2.700       2700       \n",
              "316 4.500       4500       \n",
              "317 3.950       3950       \n",
              "318 3.650       3650       \n",
              "319 3.550       3550       \n",
              "320 3.500       3500       \n",
              "321 3.675       3675       \n",
              "322 4.450       4450       \n",
              "323 3.400       3400       \n",
              "324 4.300       4300       \n",
              "325 3.250       3250       \n",
              "326 3.675       3675       \n",
              "327 3.325       3325       \n",
              "328 3.950       3950       \n",
              "329 3.600       3600       \n",
              "330 4.050       4050       \n",
              "331 3.350       3350       \n",
              "332 3.450       3450       \n",
              "333 3.250       3250       \n",
              "334 4.050       4050       \n",
              "335 3.800       3800       \n",
              "336 3.525       3525       \n",
              "337 3.950       3950       \n",
              "338 3.650       3650       \n",
              "339 3.650       3650       \n",
              "340 4.000       4000       \n",
              "341 3.400       3400       \n",
              "342 3.775       3775       \n",
              "343 4.100       4100       \n",
              "344 3.775       3775       "
            ],
            "text/latex": "A tibble: 344 × 2\n\\begin{tabular}{ll}\n bodymass\\_kg & body\\_mass\\_g\\\\\n <dbl> & <dbl>\\\\\n\\hline\n\t 3.750 & 3750\\\\\n\t 3.800 & 3800\\\\\n\t 3.250 & 3250\\\\\n\t    NA &   NA\\\\\n\t 3.450 & 3450\\\\\n\t 3.650 & 3650\\\\\n\t 3.625 & 3625\\\\\n\t 4.675 & 4675\\\\\n\t 3.475 & 3475\\\\\n\t 4.250 & 4250\\\\\n\t 3.300 & 3300\\\\\n\t 3.700 & 3700\\\\\n\t 3.200 & 3200\\\\\n\t 3.800 & 3800\\\\\n\t 4.400 & 4400\\\\\n\t 3.700 & 3700\\\\\n\t 3.450 & 3450\\\\\n\t 4.500 & 4500\\\\\n\t 3.325 & 3325\\\\\n\t 4.200 & 4200\\\\\n\t 3.400 & 3400\\\\\n\t 3.600 & 3600\\\\\n\t 3.800 & 3800\\\\\n\t 3.950 & 3950\\\\\n\t 3.800 & 3800\\\\\n\t 3.800 & 3800\\\\\n\t 3.550 & 3550\\\\\n\t 3.200 & 3200\\\\\n\t 3.150 & 3150\\\\\n\t 3.950 & 3950\\\\\n\t ⋮ & ⋮\\\\\n\t 2.700 & 2700\\\\\n\t 4.500 & 4500\\\\\n\t 3.950 & 3950\\\\\n\t 3.650 & 3650\\\\\n\t 3.550 & 3550\\\\\n\t 3.500 & 3500\\\\\n\t 3.675 & 3675\\\\\n\t 4.450 & 4450\\\\\n\t 3.400 & 3400\\\\\n\t 4.300 & 4300\\\\\n\t 3.250 & 3250\\\\\n\t 3.675 & 3675\\\\\n\t 3.325 & 3325\\\\\n\t 3.950 & 3950\\\\\n\t 3.600 & 3600\\\\\n\t 4.050 & 4050\\\\\n\t 3.350 & 3350\\\\\n\t 3.450 & 3450\\\\\n\t 3.250 & 3250\\\\\n\t 4.050 & 4050\\\\\n\t 3.800 & 3800\\\\\n\t 3.525 & 3525\\\\\n\t 3.950 & 3950\\\\\n\t 3.650 & 3650\\\\\n\t 3.650 & 3650\\\\\n\t 4.000 & 4000\\\\\n\t 3.400 & 3400\\\\\n\t 3.775 & 3775\\\\\n\t 4.100 & 4100\\\\\n\t 3.775 & 3775\\\\\n\\end{tabular}\n",
            "text/markdown": "\nA tibble: 344 × 2\n\n| bodymass_kg &lt;dbl&gt; | body_mass_g &lt;dbl&gt; |\n|---|---|\n| 3.750 | 3750 |\n| 3.800 | 3800 |\n| 3.250 | 3250 |\n|    NA |   NA |\n| 3.450 | 3450 |\n| 3.650 | 3650 |\n| 3.625 | 3625 |\n| 4.675 | 4675 |\n| 3.475 | 3475 |\n| 4.250 | 4250 |\n| 3.300 | 3300 |\n| 3.700 | 3700 |\n| 3.200 | 3200 |\n| 3.800 | 3800 |\n| 4.400 | 4400 |\n| 3.700 | 3700 |\n| 3.450 | 3450 |\n| 4.500 | 4500 |\n| 3.325 | 3325 |\n| 4.200 | 4200 |\n| 3.400 | 3400 |\n| 3.600 | 3600 |\n| 3.800 | 3800 |\n| 3.950 | 3950 |\n| 3.800 | 3800 |\n| 3.800 | 3800 |\n| 3.550 | 3550 |\n| 3.200 | 3200 |\n| 3.150 | 3150 |\n| 3.950 | 3950 |\n| ⋮ | ⋮ |\n| 2.700 | 2700 |\n| 4.500 | 4500 |\n| 3.950 | 3950 |\n| 3.650 | 3650 |\n| 3.550 | 3550 |\n| 3.500 | 3500 |\n| 3.675 | 3675 |\n| 4.450 | 4450 |\n| 3.400 | 3400 |\n| 4.300 | 4300 |\n| 3.250 | 3250 |\n| 3.675 | 3675 |\n| 3.325 | 3325 |\n| 3.950 | 3950 |\n| 3.600 | 3600 |\n| 4.050 | 4050 |\n| 3.350 | 3350 |\n| 3.450 | 3450 |\n| 3.250 | 3250 |\n| 4.050 | 4050 |\n| 3.800 | 3800 |\n| 3.525 | 3525 |\n| 3.950 | 3950 |\n| 3.650 | 3650 |\n| 3.650 | 3650 |\n| 4.000 | 4000 |\n| 3.400 | 3400 |\n| 3.775 | 3775 |\n| 4.100 | 4100 |\n| 3.775 | 3775 |\n\n",
            "text/html": [
              "<table class=\"dataframe\">\n",
              "<caption>A tibble: 344 × 2</caption>\n",
              "<thead>\n",
              "\t<tr><th scope=col>bodymass_kg</th><th scope=col>body_mass_g</th></tr>\n",
              "\t<tr><th scope=col>&lt;dbl&gt;</th><th scope=col>&lt;dbl&gt;</th></tr>\n",
              "</thead>\n",
              "<tbody>\n",
              "\t<tr><td>3.750</td><td>3750</td></tr>\n",
              "\t<tr><td>3.800</td><td>3800</td></tr>\n",
              "\t<tr><td>3.250</td><td>3250</td></tr>\n",
              "\t<tr><td>   NA</td><td>  NA</td></tr>\n",
              "\t<tr><td>3.450</td><td>3450</td></tr>\n",
              "\t<tr><td>3.650</td><td>3650</td></tr>\n",
              "\t<tr><td>3.625</td><td>3625</td></tr>\n",
              "\t<tr><td>4.675</td><td>4675</td></tr>\n",
              "\t<tr><td>3.475</td><td>3475</td></tr>\n",
              "\t<tr><td>4.250</td><td>4250</td></tr>\n",
              "\t<tr><td>3.300</td><td>3300</td></tr>\n",
              "\t<tr><td>3.700</td><td>3700</td></tr>\n",
              "\t<tr><td>3.200</td><td>3200</td></tr>\n",
              "\t<tr><td>3.800</td><td>3800</td></tr>\n",
              "\t<tr><td>4.400</td><td>4400</td></tr>\n",
              "\t<tr><td>3.700</td><td>3700</td></tr>\n",
              "\t<tr><td>3.450</td><td>3450</td></tr>\n",
              "\t<tr><td>4.500</td><td>4500</td></tr>\n",
              "\t<tr><td>3.325</td><td>3325</td></tr>\n",
              "\t<tr><td>4.200</td><td>4200</td></tr>\n",
              "\t<tr><td>3.400</td><td>3400</td></tr>\n",
              "\t<tr><td>3.600</td><td>3600</td></tr>\n",
              "\t<tr><td>3.800</td><td>3800</td></tr>\n",
              "\t<tr><td>3.950</td><td>3950</td></tr>\n",
              "\t<tr><td>3.800</td><td>3800</td></tr>\n",
              "\t<tr><td>3.800</td><td>3800</td></tr>\n",
              "\t<tr><td>3.550</td><td>3550</td></tr>\n",
              "\t<tr><td>3.200</td><td>3200</td></tr>\n",
              "\t<tr><td>3.150</td><td>3150</td></tr>\n",
              "\t<tr><td>3.950</td><td>3950</td></tr>\n",
              "\t<tr><td>⋮</td><td>⋮</td></tr>\n",
              "\t<tr><td>2.700</td><td>2700</td></tr>\n",
              "\t<tr><td>4.500</td><td>4500</td></tr>\n",
              "\t<tr><td>3.950</td><td>3950</td></tr>\n",
              "\t<tr><td>3.650</td><td>3650</td></tr>\n",
              "\t<tr><td>3.550</td><td>3550</td></tr>\n",
              "\t<tr><td>3.500</td><td>3500</td></tr>\n",
              "\t<tr><td>3.675</td><td>3675</td></tr>\n",
              "\t<tr><td>4.450</td><td>4450</td></tr>\n",
              "\t<tr><td>3.400</td><td>3400</td></tr>\n",
              "\t<tr><td>4.300</td><td>4300</td></tr>\n",
              "\t<tr><td>3.250</td><td>3250</td></tr>\n",
              "\t<tr><td>3.675</td><td>3675</td></tr>\n",
              "\t<tr><td>3.325</td><td>3325</td></tr>\n",
              "\t<tr><td>3.950</td><td>3950</td></tr>\n",
              "\t<tr><td>3.600</td><td>3600</td></tr>\n",
              "\t<tr><td>4.050</td><td>4050</td></tr>\n",
              "\t<tr><td>3.350</td><td>3350</td></tr>\n",
              "\t<tr><td>3.450</td><td>3450</td></tr>\n",
              "\t<tr><td>3.250</td><td>3250</td></tr>\n",
              "\t<tr><td>4.050</td><td>4050</td></tr>\n",
              "\t<tr><td>3.800</td><td>3800</td></tr>\n",
              "\t<tr><td>3.525</td><td>3525</td></tr>\n",
              "\t<tr><td>3.950</td><td>3950</td></tr>\n",
              "\t<tr><td>3.650</td><td>3650</td></tr>\n",
              "\t<tr><td>3.650</td><td>3650</td></tr>\n",
              "\t<tr><td>4.000</td><td>4000</td></tr>\n",
              "\t<tr><td>3.400</td><td>3400</td></tr>\n",
              "\t<tr><td>3.775</td><td>3775</td></tr>\n",
              "\t<tr><td>4.100</td><td>4100</td></tr>\n",
              "\t<tr><td>3.775</td><td>3775</td></tr>\n",
              "</tbody>\n",
              "</table>\n"
            ]
          },
          "metadata": {
            "tags": []
          }
        }
      ]
    },
    {
      "cell_type": "markdown",
      "metadata": {
        "id": "w5RXaxASJVDP"
      },
      "source": [
        "#### Recoding with `ifelse`\n",
        "\n",
        "`ifelse()` is a very useful function that allows to easily recode variables based on logical tests.\n",
        "\n",
        "It's basic functionality looks like this:\n",
        "\n",
        "$$\\color{red}{\\text{ifelse}}(\\color{orange}{\\text{logical test}},\\color{blue}{\\text{what should happen if TRUE}}, \\color{green}{\\text{what should happen if FALSE}})$$\n",
        "\n",
        "Here is a very basic example:\n"
      ]
    },
    {
      "cell_type": "code",
      "metadata": {
        "colab": {
          "base_uri": "https://localhost:8080/",
          "height": 34
        },
        "id": "5beSOylEKZq3",
        "outputId": "0e5e773e-0a21-46a9-effb-eac5d33730c5"
      },
      "source": [
        "ifelse(1 == 1, \"Pick me if test is TRUE\", \"Pick me if test is FALSE\")"
      ],
      "execution_count": null,
      "outputs": [
        {
          "output_type": "display_data",
          "data": {
            "text/plain": [
              "[1] \"Pick me if test is TRUE\""
            ],
            "text/latex": "'Pick me if test is TRUE'",
            "text/markdown": "'Pick me if test is TRUE'",
            "text/html": [
              "'Pick me if test is TRUE'"
            ]
          },
          "metadata": {
            "tags": []
          }
        }
      ]
    },
    {
      "cell_type": "code",
      "metadata": {
        "colab": {
          "base_uri": "https://localhost:8080/",
          "height": 34
        },
        "id": "xselfwTFLDFc",
        "outputId": "ba27cc78-8b0a-4118-ec69-e260519db633"
      },
      "source": [
        "ifelse(1 != 1, \"Pick me if test is TRUE\", \"Pick me if test is FALSE\")"
      ],
      "execution_count": null,
      "outputs": [
        {
          "output_type": "display_data",
          "data": {
            "text/plain": [
              "[1] \"Pick me if test is FALSE\""
            ],
            "text/latex": "'Pick me if test is FALSE'",
            "text/markdown": "'Pick me if test is FALSE'",
            "text/html": [
              "'Pick me if test is FALSE'"
            ]
          },
          "metadata": {
            "tags": []
          }
        }
      ]
    },
    {
      "cell_type": "markdown",
      "metadata": {
        "id": "yFHFhkAMLLCv"
      },
      "source": [
        "Let's use `ifelse` in combination with `mutate`.\n",
        "\n",
        "Let's create the variable `sex_short` which has a shorter label for sex:"
      ]
    },
    {
      "cell_type": "code",
      "metadata": {
        "id": "FftUhUNELOx1",
        "colab": {
          "base_uri": "https://localhost:8080/",
          "height": 1000
        },
        "outputId": "7dfc0de2-2b63-4c21-a335-b1a5a2a22744"
      },
      "source": [
        "mutate(penguins_clean, sex_short = ifelse(sex == \"MALE\", \"m\", \"f\"))"
      ],
      "execution_count": null,
      "outputs": [
        {
          "output_type": "display_data",
          "data": {
            "text/plain": [
              "    study_name sample_number species           latin_name             island   \n",
              "1   PAL0708     1            Adelie Penguin    Pygoscelis adeliae)    Torgersen\n",
              "2   PAL0708     2            Adelie Penguin    Pygoscelis adeliae)    Torgersen\n",
              "3   PAL0708     3            Adelie Penguin    Pygoscelis adeliae)    Torgersen\n",
              "4   PAL0708     4            Adelie Penguin    Pygoscelis adeliae)    Torgersen\n",
              "5   PAL0708     5            Adelie Penguin    Pygoscelis adeliae)    Torgersen\n",
              "6   PAL0708     6            Adelie Penguin    Pygoscelis adeliae)    Torgersen\n",
              "7   PAL0708     7            Adelie Penguin    Pygoscelis adeliae)    Torgersen\n",
              "8   PAL0708     8            Adelie Penguin    Pygoscelis adeliae)    Torgersen\n",
              "9   PAL0708     9            Adelie Penguin    Pygoscelis adeliae)    Torgersen\n",
              "10  PAL0708    10            Adelie Penguin    Pygoscelis adeliae)    Torgersen\n",
              "11  PAL0708    11            Adelie Penguin    Pygoscelis adeliae)    Torgersen\n",
              "12  PAL0708    12            Adelie Penguin    Pygoscelis adeliae)    Torgersen\n",
              "13  PAL0708    13            Adelie Penguin    Pygoscelis adeliae)    Torgersen\n",
              "14  PAL0708    14            Adelie Penguin    Pygoscelis adeliae)    Torgersen\n",
              "15  PAL0708    15            Adelie Penguin    Pygoscelis adeliae)    Torgersen\n",
              "16  PAL0708    16            Adelie Penguin    Pygoscelis adeliae)    Torgersen\n",
              "17  PAL0708    17            Adelie Penguin    Pygoscelis adeliae)    Torgersen\n",
              "18  PAL0708    18            Adelie Penguin    Pygoscelis adeliae)    Torgersen\n",
              "19  PAL0708    19            Adelie Penguin    Pygoscelis adeliae)    Torgersen\n",
              "20  PAL0708    20            Adelie Penguin    Pygoscelis adeliae)    Torgersen\n",
              "21  PAL0708    21            Adelie Penguin    Pygoscelis adeliae)    Biscoe   \n",
              "22  PAL0708    22            Adelie Penguin    Pygoscelis adeliae)    Biscoe   \n",
              "23  PAL0708    23            Adelie Penguin    Pygoscelis adeliae)    Biscoe   \n",
              "24  PAL0708    24            Adelie Penguin    Pygoscelis adeliae)    Biscoe   \n",
              "25  PAL0708    25            Adelie Penguin    Pygoscelis adeliae)    Biscoe   \n",
              "26  PAL0708    26            Adelie Penguin    Pygoscelis adeliae)    Biscoe   \n",
              "27  PAL0708    27            Adelie Penguin    Pygoscelis adeliae)    Biscoe   \n",
              "28  PAL0708    28            Adelie Penguin    Pygoscelis adeliae)    Biscoe   \n",
              "29  PAL0708    29            Adelie Penguin    Pygoscelis adeliae)    Biscoe   \n",
              "30  PAL0708    30            Adelie Penguin    Pygoscelis adeliae)    Biscoe   \n",
              "⋮   ⋮          ⋮             ⋮                 ⋮                      ⋮        \n",
              "315 PAL0809    39            Chinstrap penguin Pygoscelis antarctica) Dream    \n",
              "316 PAL0809    40            Chinstrap penguin Pygoscelis antarctica) Dream    \n",
              "317 PAL0809    41            Chinstrap penguin Pygoscelis antarctica) Dream    \n",
              "318 PAL0809    42            Chinstrap penguin Pygoscelis antarctica) Dream    \n",
              "319 PAL0809    43            Chinstrap penguin Pygoscelis antarctica) Dream    \n",
              "320 PAL0809    44            Chinstrap penguin Pygoscelis antarctica) Dream    \n",
              "321 PAL0910    45            Chinstrap penguin Pygoscelis antarctica) Dream    \n",
              "322 PAL0910    46            Chinstrap penguin Pygoscelis antarctica) Dream    \n",
              "323 PAL0910    47            Chinstrap penguin Pygoscelis antarctica) Dream    \n",
              "324 PAL0910    48            Chinstrap penguin Pygoscelis antarctica) Dream    \n",
              "325 PAL0910    49            Chinstrap penguin Pygoscelis antarctica) Dream    \n",
              "326 PAL0910    50            Chinstrap penguin Pygoscelis antarctica) Dream    \n",
              "327 PAL0910    51            Chinstrap penguin Pygoscelis antarctica) Dream    \n",
              "328 PAL0910    52            Chinstrap penguin Pygoscelis antarctica) Dream    \n",
              "329 PAL0910    53            Chinstrap penguin Pygoscelis antarctica) Dream    \n",
              "330 PAL0910    54            Chinstrap penguin Pygoscelis antarctica) Dream    \n",
              "331 PAL0910    55            Chinstrap penguin Pygoscelis antarctica) Dream    \n",
              "332 PAL0910    56            Chinstrap penguin Pygoscelis antarctica) Dream    \n",
              "333 PAL0910    57            Chinstrap penguin Pygoscelis antarctica) Dream    \n",
              "334 PAL0910    58            Chinstrap penguin Pygoscelis antarctica) Dream    \n",
              "335 PAL0910    59            Chinstrap penguin Pygoscelis antarctica) Dream    \n",
              "336 PAL0910    60            Chinstrap penguin Pygoscelis antarctica) Dream    \n",
              "337 PAL0910    61            Chinstrap penguin Pygoscelis antarctica) Dream    \n",
              "338 PAL0910    62            Chinstrap penguin Pygoscelis antarctica) Dream    \n",
              "339 PAL0910    63            Chinstrap penguin Pygoscelis antarctica) Dream    \n",
              "340 PAL0910    64            Chinstrap penguin Pygoscelis antarctica) Dream    \n",
              "341 PAL0910    65            Chinstrap penguin Pygoscelis antarctica) Dream    \n",
              "342 PAL0910    66            Chinstrap penguin Pygoscelis antarctica) Dream    \n",
              "343 PAL0910    67            Chinstrap penguin Pygoscelis antarctica) Dream    \n",
              "344 PAL0910    68            Chinstrap penguin Pygoscelis antarctica) Dream    \n",
              "    individual_id clutch_completion date_egg   culmen_length_mm culmen_depth_mm\n",
              "1   N1A1          Yes               2007-11-11 39.1             18.7           \n",
              "2   N1A2          Yes               2007-11-11 39.5             17.4           \n",
              "3   N2A1          Yes               2007-11-16 40.3             18.0           \n",
              "4   N2A2          Yes               2007-11-16   NA               NA           \n",
              "5   N3A1          Yes               2007-11-16 36.7             19.3           \n",
              "6   N3A2          Yes               2007-11-16 39.3             20.6           \n",
              "7   N4A1          No                2007-11-15 38.9             17.8           \n",
              "8   N4A2          No                2007-11-15 39.2             19.6           \n",
              "9   N5A1          Yes               2007-11-09 34.1             18.1           \n",
              "10  N5A2          Yes               2007-11-09 42.0             20.2           \n",
              "11  N6A1          Yes               2007-11-09 37.8             17.1           \n",
              "12  N6A2          Yes               2007-11-09 37.8             17.3           \n",
              "13  N7A1          Yes               2007-11-15 41.1             17.6           \n",
              "14  N7A2          Yes               2007-11-15 38.6             21.2           \n",
              "15  N8A1          Yes               2007-11-16 34.6             21.1           \n",
              "16  N8A2          Yes               2007-11-16 36.6             17.8           \n",
              "17  N9A1          Yes               2007-11-12 38.7             19.0           \n",
              "18  N9A2          Yes               2007-11-12 42.5             20.7           \n",
              "19  N10A1         Yes               2007-11-16 34.4             18.4           \n",
              "20  N10A2         Yes               2007-11-16 46.0             21.5           \n",
              "21  N11A1         Yes               2007-11-12 37.8             18.3           \n",
              "22  N11A2         Yes               2007-11-12 37.7             18.7           \n",
              "23  N12A1         Yes               2007-11-12 35.9             19.2           \n",
              "24  N12A2         Yes               2007-11-12 38.2             18.1           \n",
              "25  N13A1         Yes               2007-11-10 38.8             17.2           \n",
              "26  N13A2         Yes               2007-11-10 35.3             18.9           \n",
              "27  N17A1         Yes               2007-11-12 40.6             18.6           \n",
              "28  N17A2         Yes               2007-11-12 40.5             17.9           \n",
              "29  N18A1         No                2007-11-10 37.9             18.6           \n",
              "30  N18A2         No                2007-11-10 40.5             18.9           \n",
              "⋮   ⋮             ⋮                 ⋮          ⋮                ⋮              \n",
              "315 N72A1         No                2008-11-24 46.9             16.6           \n",
              "316 N72A2         No                2008-11-24 53.5             19.9           \n",
              "317 N74A1         Yes               2008-11-24 49.0             19.5           \n",
              "318 N74A2         Yes               2008-11-24 46.2             17.5           \n",
              "319 N75A1         Yes               2008-11-14 50.9             19.1           \n",
              "320 N75A2         Yes               2008-11-14 45.5             17.0           \n",
              "321 N86A1         Yes               2009-11-17 50.9             17.9           \n",
              "322 N86A2         Yes               2009-11-17 50.8             18.5           \n",
              "323 N87A1         Yes               2009-11-27 50.1             17.9           \n",
              "324 N87A2         Yes               2009-11-27 49.0             19.6           \n",
              "325 N88A1         Yes               2009-11-23 51.5             18.7           \n",
              "326 N88A2         Yes               2009-11-23 49.8             17.3           \n",
              "327 N90A1         Yes               2009-11-21 48.1             16.4           \n",
              "328 N90A2         Yes               2009-11-21 51.4             19.0           \n",
              "329 N92A1         Yes               2009-11-23 45.7             17.3           \n",
              "330 N92A2         Yes               2009-11-23 50.7             19.7           \n",
              "331 N93A1         Yes               2009-11-27 42.5             17.3           \n",
              "332 N93A2         Yes               2009-11-27 52.2             18.8           \n",
              "333 N94A1         Yes               2009-11-21 45.2             16.6           \n",
              "334 N94A2         Yes               2009-11-21 49.3             19.9           \n",
              "335 N95A1         Yes               2009-11-21 50.2             18.8           \n",
              "336 N95A2         Yes               2009-11-21 45.6             19.4           \n",
              "337 N96A1         Yes               2009-11-27 51.9             19.5           \n",
              "338 N96A2         Yes               2009-11-27 46.8             16.5           \n",
              "339 N98A1         Yes               2009-11-19 45.7             17.0           \n",
              "340 N98A2         Yes               2009-11-19 55.8             19.8           \n",
              "341 N99A1         No                2009-11-21 43.5             18.1           \n",
              "342 N99A2         No                2009-11-21 49.6             18.2           \n",
              "343 N100A1        Yes               2009-11-21 50.8             19.0           \n",
              "344 N100A2        Yes               2009-11-21 50.2             18.7           \n",
              "    flipper_length_mm body_mass_g sex    delta_15_n_o_oo delta_13_c_o_oo\n",
              "1   181               3750        MALE        NA                NA      \n",
              "2   186               3800        FEMALE 8.94956         -24.69454      \n",
              "3   195               3250        FEMALE 8.36821         -25.33302      \n",
              "4    NA                 NA        NA          NA                NA      \n",
              "5   193               3450        FEMALE 8.76651         -25.32426      \n",
              "6   190               3650        MALE   8.66496         -25.29805      \n",
              "7   181               3625        FEMALE 9.18718         -25.21799      \n",
              "8   195               4675        MALE   9.46060         -24.89958      \n",
              "9   193               3475        NA          NA                NA      \n",
              "10  190               4250        NA     9.13362         -25.09368      \n",
              "11  186               3300        NA     8.63243         -25.21315      \n",
              "12  180               3700        NA          NA                NA      \n",
              "13  182               3200        FEMALE      NA                NA      \n",
              "14  191               3800        MALE        NA                NA      \n",
              "15  198               4400        MALE   8.55583         -25.22588      \n",
              "16  185               3700        FEMALE      NA                NA      \n",
              "17  195               3450        FEMALE 9.18528         -25.06691      \n",
              "18  197               4500        MALE   8.67538         -25.13993      \n",
              "19  184               3325        FEMALE 8.47827         -25.23319      \n",
              "20  194               4200        MALE   9.11616         -24.77227      \n",
              "21  174               3400        FEMALE 8.73762         -25.09383      \n",
              "22  180               3600        MALE   8.66271         -25.06390      \n",
              "23  189               3800        FEMALE 9.22286         -25.03474      \n",
              "24  185               3950        MALE   8.43423         -25.22664      \n",
              "25  180               3800        MALE   9.63954         -25.29856      \n",
              "26  187               3800        FEMALE 9.21292         -24.36130      \n",
              "27  183               3550        MALE   8.93997         -25.36288      \n",
              "28  187               3200        FEMALE 8.08138         -25.49448      \n",
              "29  172               3150        FEMALE 8.38404         -25.19837      \n",
              "30  180               3950        MALE   8.90027         -25.11609      \n",
              "⋮   ⋮                 ⋮           ⋮      ⋮               ⋮              \n",
              "315 192               2700        FEMALE  9.80589        -24.73735      \n",
              "316 205               4500        MALE   10.02544        -24.90816      \n",
              "317 210               3950        MALE    9.53262        -24.66867      \n",
              "318 187               3650        FEMALE  9.61734        -24.66188      \n",
              "319 196               3550        MALE   10.02372        -24.86594      \n",
              "320 196               3500        FEMALE  9.36493        -24.66259      \n",
              "321 196               3675        FEMALE  9.43684        -24.16566      \n",
              "322 201               4450        MALE    9.45827        -24.35575      \n",
              "323 190               3400        FEMALE  9.46819        -24.45721      \n",
              "324 212               4300        MALE    9.34089        -24.45189      \n",
              "325 187               3250        MALE    9.68950        -24.43062      \n",
              "326 198               3675        FEMALE  9.32169        -24.41562      \n",
              "327 199               3325        FEMALE  9.46929        -24.48403      \n",
              "328 201               3950        MALE    9.43782        -24.36202      \n",
              "329 193               3600        FEMALE  9.41500        -24.80500      \n",
              "330 203               4050        MALE    9.93727        -24.59066      \n",
              "331 187               3350        FEMALE  9.56534        -24.60882      \n",
              "332 197               3450        MALE    9.77528        -24.56481      \n",
              "333 191               3250        FEMALE  9.62357        -24.78984      \n",
              "334 203               4050        MALE    9.88809        -24.59513      \n",
              "335 202               3800        MALE    9.74492        -24.40400      \n",
              "336 194               3525        FEMALE  9.46985        -24.65786      \n",
              "337 206               3950        MALE         NA        -23.78767      \n",
              "338 189               3650        FEMALE  9.65061        -24.48153      \n",
              "339 195               3650        FEMALE  9.26715        -24.31912      \n",
              "340 207               4000        MALE    9.70465        -24.53494      \n",
              "341 202               3400        FEMALE  9.37608        -24.40753      \n",
              "342 193               3775        MALE    9.46180        -24.70615      \n",
              "343 210               4100        MALE    9.98044        -24.68741      \n",
              "344 198               3775        FEMALE  9.39305        -24.25255      \n",
              "    comments                              sex_short\n",
              "1   Not enough blood for isotopes.        m        \n",
              "2   NA                                    f        \n",
              "3   NA                                    f        \n",
              "4   Adult not sampled.                    NA       \n",
              "5   NA                                    f        \n",
              "6   NA                                    m        \n",
              "7   Nest never observed with full clutch. f        \n",
              "8   Nest never observed with full clutch. m        \n",
              "9   No blood sample obtained.             NA       \n",
              "10  No blood sample obtained for sexing.  NA       \n",
              "11  No blood sample obtained for sexing.  NA       \n",
              "12  No blood sample obtained.             NA       \n",
              "13  Not enough blood for isotopes.        f        \n",
              "14  Not enough blood for isotopes.        m        \n",
              "15  NA                                    m        \n",
              "16  Not enough blood for isotopes.        f        \n",
              "17  NA                                    f        \n",
              "18  NA                                    m        \n",
              "19  NA                                    f        \n",
              "20  NA                                    m        \n",
              "21  NA                                    f        \n",
              "22  NA                                    m        \n",
              "23  NA                                    f        \n",
              "24  NA                                    m        \n",
              "25  NA                                    m        \n",
              "26  NA                                    f        \n",
              "27  NA                                    m        \n",
              "28  NA                                    f        \n",
              "29  Nest never observed with full clutch. f        \n",
              "30  Nest never observed with full clutch. m        \n",
              "⋮   ⋮                                     ⋮        \n",
              "315 Nest never observed with full clutch. f        \n",
              "316 Nest never observed with full clutch. m        \n",
              "317 NA                                    m        \n",
              "318 NA                                    f        \n",
              "319 NA                                    m        \n",
              "320 NA                                    f        \n",
              "321 NA                                    f        \n",
              "322 NA                                    m        \n",
              "323 NA                                    f        \n",
              "324 NA                                    m        \n",
              "325 NA                                    m        \n",
              "326 NA                                    f        \n",
              "327 NA                                    f        \n",
              "328 NA                                    m        \n",
              "329 NA                                    f        \n",
              "330 NA                                    m        \n",
              "331 NA                                    f        \n",
              "332 NA                                    m        \n",
              "333 NA                                    f        \n",
              "334 NA                                    m        \n",
              "335 NA                                    m        \n",
              "336 NA                                    f        \n",
              "337 No delta15N data received from lab.   m        \n",
              "338 NA                                    f        \n",
              "339 NA                                    f        \n",
              "340 NA                                    m        \n",
              "341 Nest never observed with full clutch. f        \n",
              "342 Nest never observed with full clutch. m        \n",
              "343 NA                                    m        \n",
              "344 NA                                    f        "
            ],
            "text/latex": "A tibble: 344 × 17\n\\begin{tabular}{lllllllllllllllll}\n study\\_name & sample\\_number & species & latin\\_name & island & individual\\_id & clutch\\_completion & date\\_egg & culmen\\_length\\_mm & culmen\\_depth\\_mm & flipper\\_length\\_mm & body\\_mass\\_g & sex & delta\\_15\\_n\\_o\\_oo & delta\\_13\\_c\\_o\\_oo & comments & sex\\_short\\\\\n <chr> & <dbl> & <chr> & <chr> & <chr> & <chr> & <chr> & <date> & <dbl> & <dbl> & <dbl> & <dbl> & <chr> & <dbl> & <dbl> & <chr> & <chr>\\\\\n\\hline\n\t PAL0708 &  1 & Adelie Penguin & Pygoscelis adeliae) & Torgersen & N1A1  & Yes & 2007-11-11 & 39.1 & 18.7 & 181 & 3750 & MALE   &      NA &        NA & Not enough blood for isotopes.        & m \\\\\n\t PAL0708 &  2 & Adelie Penguin & Pygoscelis adeliae) & Torgersen & N1A2  & Yes & 2007-11-11 & 39.5 & 17.4 & 186 & 3800 & FEMALE & 8.94956 & -24.69454 & NA                                    & f \\\\\n\t PAL0708 &  3 & Adelie Penguin & Pygoscelis adeliae) & Torgersen & N2A1  & Yes & 2007-11-16 & 40.3 & 18.0 & 195 & 3250 & FEMALE & 8.36821 & -25.33302 & NA                                    & f \\\\\n\t PAL0708 &  4 & Adelie Penguin & Pygoscelis adeliae) & Torgersen & N2A2  & Yes & 2007-11-16 &   NA &   NA &  NA &   NA & NA     &      NA &        NA & Adult not sampled.                    & NA\\\\\n\t PAL0708 &  5 & Adelie Penguin & Pygoscelis adeliae) & Torgersen & N3A1  & Yes & 2007-11-16 & 36.7 & 19.3 & 193 & 3450 & FEMALE & 8.76651 & -25.32426 & NA                                    & f \\\\\n\t PAL0708 &  6 & Adelie Penguin & Pygoscelis adeliae) & Torgersen & N3A2  & Yes & 2007-11-16 & 39.3 & 20.6 & 190 & 3650 & MALE   & 8.66496 & -25.29805 & NA                                    & m \\\\\n\t PAL0708 &  7 & Adelie Penguin & Pygoscelis adeliae) & Torgersen & N4A1  & No  & 2007-11-15 & 38.9 & 17.8 & 181 & 3625 & FEMALE & 9.18718 & -25.21799 & Nest never observed with full clutch. & f \\\\\n\t PAL0708 &  8 & Adelie Penguin & Pygoscelis adeliae) & Torgersen & N4A2  & No  & 2007-11-15 & 39.2 & 19.6 & 195 & 4675 & MALE   & 9.46060 & -24.89958 & Nest never observed with full clutch. & m \\\\\n\t PAL0708 &  9 & Adelie Penguin & Pygoscelis adeliae) & Torgersen & N5A1  & Yes & 2007-11-09 & 34.1 & 18.1 & 193 & 3475 & NA     &      NA &        NA & No blood sample obtained.             & NA\\\\\n\t PAL0708 & 10 & Adelie Penguin & Pygoscelis adeliae) & Torgersen & N5A2  & Yes & 2007-11-09 & 42.0 & 20.2 & 190 & 4250 & NA     & 9.13362 & -25.09368 & No blood sample obtained for sexing.  & NA\\\\\n\t PAL0708 & 11 & Adelie Penguin & Pygoscelis adeliae) & Torgersen & N6A1  & Yes & 2007-11-09 & 37.8 & 17.1 & 186 & 3300 & NA     & 8.63243 & -25.21315 & No blood sample obtained for sexing.  & NA\\\\\n\t PAL0708 & 12 & Adelie Penguin & Pygoscelis adeliae) & Torgersen & N6A2  & Yes & 2007-11-09 & 37.8 & 17.3 & 180 & 3700 & NA     &      NA &        NA & No blood sample obtained.             & NA\\\\\n\t PAL0708 & 13 & Adelie Penguin & Pygoscelis adeliae) & Torgersen & N7A1  & Yes & 2007-11-15 & 41.1 & 17.6 & 182 & 3200 & FEMALE &      NA &        NA & Not enough blood for isotopes.        & f \\\\\n\t PAL0708 & 14 & Adelie Penguin & Pygoscelis adeliae) & Torgersen & N7A2  & Yes & 2007-11-15 & 38.6 & 21.2 & 191 & 3800 & MALE   &      NA &        NA & Not enough blood for isotopes.        & m \\\\\n\t PAL0708 & 15 & Adelie Penguin & Pygoscelis adeliae) & Torgersen & N8A1  & Yes & 2007-11-16 & 34.6 & 21.1 & 198 & 4400 & MALE   & 8.55583 & -25.22588 & NA                                    & m \\\\\n\t PAL0708 & 16 & Adelie Penguin & Pygoscelis adeliae) & Torgersen & N8A2  & Yes & 2007-11-16 & 36.6 & 17.8 & 185 & 3700 & FEMALE &      NA &        NA & Not enough blood for isotopes.        & f \\\\\n\t PAL0708 & 17 & Adelie Penguin & Pygoscelis adeliae) & Torgersen & N9A1  & Yes & 2007-11-12 & 38.7 & 19.0 & 195 & 3450 & FEMALE & 9.18528 & -25.06691 & NA                                    & f \\\\\n\t PAL0708 & 18 & Adelie Penguin & Pygoscelis adeliae) & Torgersen & N9A2  & Yes & 2007-11-12 & 42.5 & 20.7 & 197 & 4500 & MALE   & 8.67538 & -25.13993 & NA                                    & m \\\\\n\t PAL0708 & 19 & Adelie Penguin & Pygoscelis adeliae) & Torgersen & N10A1 & Yes & 2007-11-16 & 34.4 & 18.4 & 184 & 3325 & FEMALE & 8.47827 & -25.23319 & NA                                    & f \\\\\n\t PAL0708 & 20 & Adelie Penguin & Pygoscelis adeliae) & Torgersen & N10A2 & Yes & 2007-11-16 & 46.0 & 21.5 & 194 & 4200 & MALE   & 9.11616 & -24.77227 & NA                                    & m \\\\\n\t PAL0708 & 21 & Adelie Penguin & Pygoscelis adeliae) & Biscoe    & N11A1 & Yes & 2007-11-12 & 37.8 & 18.3 & 174 & 3400 & FEMALE & 8.73762 & -25.09383 & NA                                    & f \\\\\n\t PAL0708 & 22 & Adelie Penguin & Pygoscelis adeliae) & Biscoe    & N11A2 & Yes & 2007-11-12 & 37.7 & 18.7 & 180 & 3600 & MALE   & 8.66271 & -25.06390 & NA                                    & m \\\\\n\t PAL0708 & 23 & Adelie Penguin & Pygoscelis adeliae) & Biscoe    & N12A1 & Yes & 2007-11-12 & 35.9 & 19.2 & 189 & 3800 & FEMALE & 9.22286 & -25.03474 & NA                                    & f \\\\\n\t PAL0708 & 24 & Adelie Penguin & Pygoscelis adeliae) & Biscoe    & N12A2 & Yes & 2007-11-12 & 38.2 & 18.1 & 185 & 3950 & MALE   & 8.43423 & -25.22664 & NA                                    & m \\\\\n\t PAL0708 & 25 & Adelie Penguin & Pygoscelis adeliae) & Biscoe    & N13A1 & Yes & 2007-11-10 & 38.8 & 17.2 & 180 & 3800 & MALE   & 9.63954 & -25.29856 & NA                                    & m \\\\\n\t PAL0708 & 26 & Adelie Penguin & Pygoscelis adeliae) & Biscoe    & N13A2 & Yes & 2007-11-10 & 35.3 & 18.9 & 187 & 3800 & FEMALE & 9.21292 & -24.36130 & NA                                    & f \\\\\n\t PAL0708 & 27 & Adelie Penguin & Pygoscelis adeliae) & Biscoe    & N17A1 & Yes & 2007-11-12 & 40.6 & 18.6 & 183 & 3550 & MALE   & 8.93997 & -25.36288 & NA                                    & m \\\\\n\t PAL0708 & 28 & Adelie Penguin & Pygoscelis adeliae) & Biscoe    & N17A2 & Yes & 2007-11-12 & 40.5 & 17.9 & 187 & 3200 & FEMALE & 8.08138 & -25.49448 & NA                                    & f \\\\\n\t PAL0708 & 29 & Adelie Penguin & Pygoscelis adeliae) & Biscoe    & N18A1 & No  & 2007-11-10 & 37.9 & 18.6 & 172 & 3150 & FEMALE & 8.38404 & -25.19837 & Nest never observed with full clutch. & f \\\\\n\t PAL0708 & 30 & Adelie Penguin & Pygoscelis adeliae) & Biscoe    & N18A2 & No  & 2007-11-10 & 40.5 & 18.9 & 180 & 3950 & MALE   & 8.90027 & -25.11609 & Nest never observed with full clutch. & m \\\\\n\t ⋮ & ⋮ & ⋮ & ⋮ & ⋮ & ⋮ & ⋮ & ⋮ & ⋮ & ⋮ & ⋮ & ⋮ & ⋮ & ⋮ & ⋮ & ⋮ & ⋮\\\\\n\t PAL0809 & 39 & Chinstrap penguin & Pygoscelis antarctica) & Dream & N72A1  & No  & 2008-11-24 & 46.9 & 16.6 & 192 & 2700 & FEMALE &  9.80589 & -24.73735 & Nest never observed with full clutch. & f\\\\\n\t PAL0809 & 40 & Chinstrap penguin & Pygoscelis antarctica) & Dream & N72A2  & No  & 2008-11-24 & 53.5 & 19.9 & 205 & 4500 & MALE   & 10.02544 & -24.90816 & Nest never observed with full clutch. & m\\\\\n\t PAL0809 & 41 & Chinstrap penguin & Pygoscelis antarctica) & Dream & N74A1  & Yes & 2008-11-24 & 49.0 & 19.5 & 210 & 3950 & MALE   &  9.53262 & -24.66867 & NA                                    & m\\\\\n\t PAL0809 & 42 & Chinstrap penguin & Pygoscelis antarctica) & Dream & N74A2  & Yes & 2008-11-24 & 46.2 & 17.5 & 187 & 3650 & FEMALE &  9.61734 & -24.66188 & NA                                    & f\\\\\n\t PAL0809 & 43 & Chinstrap penguin & Pygoscelis antarctica) & Dream & N75A1  & Yes & 2008-11-14 & 50.9 & 19.1 & 196 & 3550 & MALE   & 10.02372 & -24.86594 & NA                                    & m\\\\\n\t PAL0809 & 44 & Chinstrap penguin & Pygoscelis antarctica) & Dream & N75A2  & Yes & 2008-11-14 & 45.5 & 17.0 & 196 & 3500 & FEMALE &  9.36493 & -24.66259 & NA                                    & f\\\\\n\t PAL0910 & 45 & Chinstrap penguin & Pygoscelis antarctica) & Dream & N86A1  & Yes & 2009-11-17 & 50.9 & 17.9 & 196 & 3675 & FEMALE &  9.43684 & -24.16566 & NA                                    & f\\\\\n\t PAL0910 & 46 & Chinstrap penguin & Pygoscelis antarctica) & Dream & N86A2  & Yes & 2009-11-17 & 50.8 & 18.5 & 201 & 4450 & MALE   &  9.45827 & -24.35575 & NA                                    & m\\\\\n\t PAL0910 & 47 & Chinstrap penguin & Pygoscelis antarctica) & Dream & N87A1  & Yes & 2009-11-27 & 50.1 & 17.9 & 190 & 3400 & FEMALE &  9.46819 & -24.45721 & NA                                    & f\\\\\n\t PAL0910 & 48 & Chinstrap penguin & Pygoscelis antarctica) & Dream & N87A2  & Yes & 2009-11-27 & 49.0 & 19.6 & 212 & 4300 & MALE   &  9.34089 & -24.45189 & NA                                    & m\\\\\n\t PAL0910 & 49 & Chinstrap penguin & Pygoscelis antarctica) & Dream & N88A1  & Yes & 2009-11-23 & 51.5 & 18.7 & 187 & 3250 & MALE   &  9.68950 & -24.43062 & NA                                    & m\\\\\n\t PAL0910 & 50 & Chinstrap penguin & Pygoscelis antarctica) & Dream & N88A2  & Yes & 2009-11-23 & 49.8 & 17.3 & 198 & 3675 & FEMALE &  9.32169 & -24.41562 & NA                                    & f\\\\\n\t PAL0910 & 51 & Chinstrap penguin & Pygoscelis antarctica) & Dream & N90A1  & Yes & 2009-11-21 & 48.1 & 16.4 & 199 & 3325 & FEMALE &  9.46929 & -24.48403 & NA                                    & f\\\\\n\t PAL0910 & 52 & Chinstrap penguin & Pygoscelis antarctica) & Dream & N90A2  & Yes & 2009-11-21 & 51.4 & 19.0 & 201 & 3950 & MALE   &  9.43782 & -24.36202 & NA                                    & m\\\\\n\t PAL0910 & 53 & Chinstrap penguin & Pygoscelis antarctica) & Dream & N92A1  & Yes & 2009-11-23 & 45.7 & 17.3 & 193 & 3600 & FEMALE &  9.41500 & -24.80500 & NA                                    & f\\\\\n\t PAL0910 & 54 & Chinstrap penguin & Pygoscelis antarctica) & Dream & N92A2  & Yes & 2009-11-23 & 50.7 & 19.7 & 203 & 4050 & MALE   &  9.93727 & -24.59066 & NA                                    & m\\\\\n\t PAL0910 & 55 & Chinstrap penguin & Pygoscelis antarctica) & Dream & N93A1  & Yes & 2009-11-27 & 42.5 & 17.3 & 187 & 3350 & FEMALE &  9.56534 & -24.60882 & NA                                    & f\\\\\n\t PAL0910 & 56 & Chinstrap penguin & Pygoscelis antarctica) & Dream & N93A2  & Yes & 2009-11-27 & 52.2 & 18.8 & 197 & 3450 & MALE   &  9.77528 & -24.56481 & NA                                    & m\\\\\n\t PAL0910 & 57 & Chinstrap penguin & Pygoscelis antarctica) & Dream & N94A1  & Yes & 2009-11-21 & 45.2 & 16.6 & 191 & 3250 & FEMALE &  9.62357 & -24.78984 & NA                                    & f\\\\\n\t PAL0910 & 58 & Chinstrap penguin & Pygoscelis antarctica) & Dream & N94A2  & Yes & 2009-11-21 & 49.3 & 19.9 & 203 & 4050 & MALE   &  9.88809 & -24.59513 & NA                                    & m\\\\\n\t PAL0910 & 59 & Chinstrap penguin & Pygoscelis antarctica) & Dream & N95A1  & Yes & 2009-11-21 & 50.2 & 18.8 & 202 & 3800 & MALE   &  9.74492 & -24.40400 & NA                                    & m\\\\\n\t PAL0910 & 60 & Chinstrap penguin & Pygoscelis antarctica) & Dream & N95A2  & Yes & 2009-11-21 & 45.6 & 19.4 & 194 & 3525 & FEMALE &  9.46985 & -24.65786 & NA                                    & f\\\\\n\t PAL0910 & 61 & Chinstrap penguin & Pygoscelis antarctica) & Dream & N96A1  & Yes & 2009-11-27 & 51.9 & 19.5 & 206 & 3950 & MALE   &       NA & -23.78767 & No delta15N data received from lab.   & m\\\\\n\t PAL0910 & 62 & Chinstrap penguin & Pygoscelis antarctica) & Dream & N96A2  & Yes & 2009-11-27 & 46.8 & 16.5 & 189 & 3650 & FEMALE &  9.65061 & -24.48153 & NA                                    & f\\\\\n\t PAL0910 & 63 & Chinstrap penguin & Pygoscelis antarctica) & Dream & N98A1  & Yes & 2009-11-19 & 45.7 & 17.0 & 195 & 3650 & FEMALE &  9.26715 & -24.31912 & NA                                    & f\\\\\n\t PAL0910 & 64 & Chinstrap penguin & Pygoscelis antarctica) & Dream & N98A2  & Yes & 2009-11-19 & 55.8 & 19.8 & 207 & 4000 & MALE   &  9.70465 & -24.53494 & NA                                    & m\\\\\n\t PAL0910 & 65 & Chinstrap penguin & Pygoscelis antarctica) & Dream & N99A1  & No  & 2009-11-21 & 43.5 & 18.1 & 202 & 3400 & FEMALE &  9.37608 & -24.40753 & Nest never observed with full clutch. & f\\\\\n\t PAL0910 & 66 & Chinstrap penguin & Pygoscelis antarctica) & Dream & N99A2  & No  & 2009-11-21 & 49.6 & 18.2 & 193 & 3775 & MALE   &  9.46180 & -24.70615 & Nest never observed with full clutch. & m\\\\\n\t PAL0910 & 67 & Chinstrap penguin & Pygoscelis antarctica) & Dream & N100A1 & Yes & 2009-11-21 & 50.8 & 19.0 & 210 & 4100 & MALE   &  9.98044 & -24.68741 & NA                                    & m\\\\\n\t PAL0910 & 68 & Chinstrap penguin & Pygoscelis antarctica) & Dream & N100A2 & Yes & 2009-11-21 & 50.2 & 18.7 & 198 & 3775 & FEMALE &  9.39305 & -24.25255 & NA                                    & f\\\\\n\\end{tabular}\n",
            "text/markdown": "\nA tibble: 344 × 17\n\n| study_name &lt;chr&gt; | sample_number &lt;dbl&gt; | species &lt;chr&gt; | latin_name &lt;chr&gt; | island &lt;chr&gt; | individual_id &lt;chr&gt; | clutch_completion &lt;chr&gt; | date_egg &lt;date&gt; | culmen_length_mm &lt;dbl&gt; | culmen_depth_mm &lt;dbl&gt; | flipper_length_mm &lt;dbl&gt; | body_mass_g &lt;dbl&gt; | sex &lt;chr&gt; | delta_15_n_o_oo &lt;dbl&gt; | delta_13_c_o_oo &lt;dbl&gt; | comments &lt;chr&gt; | sex_short &lt;chr&gt; |\n|---|---|---|---|---|---|---|---|---|---|---|---|---|---|---|---|---|\n| PAL0708 |  1 | Adelie Penguin | Pygoscelis adeliae) | Torgersen | N1A1  | Yes | 2007-11-11 | 39.1 | 18.7 | 181 | 3750 | MALE   |      NA |        NA | Not enough blood for isotopes.        | m  |\n| PAL0708 |  2 | Adelie Penguin | Pygoscelis adeliae) | Torgersen | N1A2  | Yes | 2007-11-11 | 39.5 | 17.4 | 186 | 3800 | FEMALE | 8.94956 | -24.69454 | NA                                    | f  |\n| PAL0708 |  3 | Adelie Penguin | Pygoscelis adeliae) | Torgersen | N2A1  | Yes | 2007-11-16 | 40.3 | 18.0 | 195 | 3250 | FEMALE | 8.36821 | -25.33302 | NA                                    | f  |\n| PAL0708 |  4 | Adelie Penguin | Pygoscelis adeliae) | Torgersen | N2A2  | Yes | 2007-11-16 |   NA |   NA |  NA |   NA | NA     |      NA |        NA | Adult not sampled.                    | NA |\n| PAL0708 |  5 | Adelie Penguin | Pygoscelis adeliae) | Torgersen | N3A1  | Yes | 2007-11-16 | 36.7 | 19.3 | 193 | 3450 | FEMALE | 8.76651 | -25.32426 | NA                                    | f  |\n| PAL0708 |  6 | Adelie Penguin | Pygoscelis adeliae) | Torgersen | N3A2  | Yes | 2007-11-16 | 39.3 | 20.6 | 190 | 3650 | MALE   | 8.66496 | -25.29805 | NA                                    | m  |\n| PAL0708 |  7 | Adelie Penguin | Pygoscelis adeliae) | Torgersen | N4A1  | No  | 2007-11-15 | 38.9 | 17.8 | 181 | 3625 | FEMALE | 9.18718 | -25.21799 | Nest never observed with full clutch. | f  |\n| PAL0708 |  8 | Adelie Penguin | Pygoscelis adeliae) | Torgersen | N4A2  | No  | 2007-11-15 | 39.2 | 19.6 | 195 | 4675 | MALE   | 9.46060 | -24.89958 | Nest never observed with full clutch. | m  |\n| PAL0708 |  9 | Adelie Penguin | Pygoscelis adeliae) | Torgersen | N5A1  | Yes | 2007-11-09 | 34.1 | 18.1 | 193 | 3475 | NA     |      NA |        NA | No blood sample obtained.             | NA |\n| PAL0708 | 10 | Adelie Penguin | Pygoscelis adeliae) | Torgersen | N5A2  | Yes | 2007-11-09 | 42.0 | 20.2 | 190 | 4250 | NA     | 9.13362 | -25.09368 | No blood sample obtained for sexing.  | NA |\n| PAL0708 | 11 | Adelie Penguin | Pygoscelis adeliae) | Torgersen | N6A1  | Yes | 2007-11-09 | 37.8 | 17.1 | 186 | 3300 | NA     | 8.63243 | -25.21315 | No blood sample obtained for sexing.  | NA |\n| PAL0708 | 12 | Adelie Penguin | Pygoscelis adeliae) | Torgersen | N6A2  | Yes | 2007-11-09 | 37.8 | 17.3 | 180 | 3700 | NA     |      NA |        NA | No blood sample obtained.             | NA |\n| PAL0708 | 13 | Adelie Penguin | Pygoscelis adeliae) | Torgersen | N7A1  | Yes | 2007-11-15 | 41.1 | 17.6 | 182 | 3200 | FEMALE |      NA |        NA | Not enough blood for isotopes.        | f  |\n| PAL0708 | 14 | Adelie Penguin | Pygoscelis adeliae) | Torgersen | N7A2  | Yes | 2007-11-15 | 38.6 | 21.2 | 191 | 3800 | MALE   |      NA |        NA | Not enough blood for isotopes.        | m  |\n| PAL0708 | 15 | Adelie Penguin | Pygoscelis adeliae) | Torgersen | N8A1  | Yes | 2007-11-16 | 34.6 | 21.1 | 198 | 4400 | MALE   | 8.55583 | -25.22588 | NA                                    | m  |\n| PAL0708 | 16 | Adelie Penguin | Pygoscelis adeliae) | Torgersen | N8A2  | Yes | 2007-11-16 | 36.6 | 17.8 | 185 | 3700 | FEMALE |      NA |        NA | Not enough blood for isotopes.        | f  |\n| PAL0708 | 17 | Adelie Penguin | Pygoscelis adeliae) | Torgersen | N9A1  | Yes | 2007-11-12 | 38.7 | 19.0 | 195 | 3450 | FEMALE | 9.18528 | -25.06691 | NA                                    | f  |\n| PAL0708 | 18 | Adelie Penguin | Pygoscelis adeliae) | Torgersen | N9A2  | Yes | 2007-11-12 | 42.5 | 20.7 | 197 | 4500 | MALE   | 8.67538 | -25.13993 | NA                                    | m  |\n| PAL0708 | 19 | Adelie Penguin | Pygoscelis adeliae) | Torgersen | N10A1 | Yes | 2007-11-16 | 34.4 | 18.4 | 184 | 3325 | FEMALE | 8.47827 | -25.23319 | NA                                    | f  |\n| PAL0708 | 20 | Adelie Penguin | Pygoscelis adeliae) | Torgersen | N10A2 | Yes | 2007-11-16 | 46.0 | 21.5 | 194 | 4200 | MALE   | 9.11616 | -24.77227 | NA                                    | m  |\n| PAL0708 | 21 | Adelie Penguin | Pygoscelis adeliae) | Biscoe    | N11A1 | Yes | 2007-11-12 | 37.8 | 18.3 | 174 | 3400 | FEMALE | 8.73762 | -25.09383 | NA                                    | f  |\n| PAL0708 | 22 | Adelie Penguin | Pygoscelis adeliae) | Biscoe    | N11A2 | Yes | 2007-11-12 | 37.7 | 18.7 | 180 | 3600 | MALE   | 8.66271 | -25.06390 | NA                                    | m  |\n| PAL0708 | 23 | Adelie Penguin | Pygoscelis adeliae) | Biscoe    | N12A1 | Yes | 2007-11-12 | 35.9 | 19.2 | 189 | 3800 | FEMALE | 9.22286 | -25.03474 | NA                                    | f  |\n| PAL0708 | 24 | Adelie Penguin | Pygoscelis adeliae) | Biscoe    | N12A2 | Yes | 2007-11-12 | 38.2 | 18.1 | 185 | 3950 | MALE   | 8.43423 | -25.22664 | NA                                    | m  |\n| PAL0708 | 25 | Adelie Penguin | Pygoscelis adeliae) | Biscoe    | N13A1 | Yes | 2007-11-10 | 38.8 | 17.2 | 180 | 3800 | MALE   | 9.63954 | -25.29856 | NA                                    | m  |\n| PAL0708 | 26 | Adelie Penguin | Pygoscelis adeliae) | Biscoe    | N13A2 | Yes | 2007-11-10 | 35.3 | 18.9 | 187 | 3800 | FEMALE | 9.21292 | -24.36130 | NA                                    | f  |\n| PAL0708 | 27 | Adelie Penguin | Pygoscelis adeliae) | Biscoe    | N17A1 | Yes | 2007-11-12 | 40.6 | 18.6 | 183 | 3550 | MALE   | 8.93997 | -25.36288 | NA                                    | m  |\n| PAL0708 | 28 | Adelie Penguin | Pygoscelis adeliae) | Biscoe    | N17A2 | Yes | 2007-11-12 | 40.5 | 17.9 | 187 | 3200 | FEMALE | 8.08138 | -25.49448 | NA                                    | f  |\n| PAL0708 | 29 | Adelie Penguin | Pygoscelis adeliae) | Biscoe    | N18A1 | No  | 2007-11-10 | 37.9 | 18.6 | 172 | 3150 | FEMALE | 8.38404 | -25.19837 | Nest never observed with full clutch. | f  |\n| PAL0708 | 30 | Adelie Penguin | Pygoscelis adeliae) | Biscoe    | N18A2 | No  | 2007-11-10 | 40.5 | 18.9 | 180 | 3950 | MALE   | 8.90027 | -25.11609 | Nest never observed with full clutch. | m  |\n| ⋮ | ⋮ | ⋮ | ⋮ | ⋮ | ⋮ | ⋮ | ⋮ | ⋮ | ⋮ | ⋮ | ⋮ | ⋮ | ⋮ | ⋮ | ⋮ | ⋮ |\n| PAL0809 | 39 | Chinstrap penguin | Pygoscelis antarctica) | Dream | N72A1  | No  | 2008-11-24 | 46.9 | 16.6 | 192 | 2700 | FEMALE |  9.80589 | -24.73735 | Nest never observed with full clutch. | f |\n| PAL0809 | 40 | Chinstrap penguin | Pygoscelis antarctica) | Dream | N72A2  | No  | 2008-11-24 | 53.5 | 19.9 | 205 | 4500 | MALE   | 10.02544 | -24.90816 | Nest never observed with full clutch. | m |\n| PAL0809 | 41 | Chinstrap penguin | Pygoscelis antarctica) | Dream | N74A1  | Yes | 2008-11-24 | 49.0 | 19.5 | 210 | 3950 | MALE   |  9.53262 | -24.66867 | NA                                    | m |\n| PAL0809 | 42 | Chinstrap penguin | Pygoscelis antarctica) | Dream | N74A2  | Yes | 2008-11-24 | 46.2 | 17.5 | 187 | 3650 | FEMALE |  9.61734 | -24.66188 | NA                                    | f |\n| PAL0809 | 43 | Chinstrap penguin | Pygoscelis antarctica) | Dream | N75A1  | Yes | 2008-11-14 | 50.9 | 19.1 | 196 | 3550 | MALE   | 10.02372 | -24.86594 | NA                                    | m |\n| PAL0809 | 44 | Chinstrap penguin | Pygoscelis antarctica) | Dream | N75A2  | Yes | 2008-11-14 | 45.5 | 17.0 | 196 | 3500 | FEMALE |  9.36493 | -24.66259 | NA                                    | f |\n| PAL0910 | 45 | Chinstrap penguin | Pygoscelis antarctica) | Dream | N86A1  | Yes | 2009-11-17 | 50.9 | 17.9 | 196 | 3675 | FEMALE |  9.43684 | -24.16566 | NA                                    | f |\n| PAL0910 | 46 | Chinstrap penguin | Pygoscelis antarctica) | Dream | N86A2  | Yes | 2009-11-17 | 50.8 | 18.5 | 201 | 4450 | MALE   |  9.45827 | -24.35575 | NA                                    | m |\n| PAL0910 | 47 | Chinstrap penguin | Pygoscelis antarctica) | Dream | N87A1  | Yes | 2009-11-27 | 50.1 | 17.9 | 190 | 3400 | FEMALE |  9.46819 | -24.45721 | NA                                    | f |\n| PAL0910 | 48 | Chinstrap penguin | Pygoscelis antarctica) | Dream | N87A2  | Yes | 2009-11-27 | 49.0 | 19.6 | 212 | 4300 | MALE   |  9.34089 | -24.45189 | NA                                    | m |\n| PAL0910 | 49 | Chinstrap penguin | Pygoscelis antarctica) | Dream | N88A1  | Yes | 2009-11-23 | 51.5 | 18.7 | 187 | 3250 | MALE   |  9.68950 | -24.43062 | NA                                    | m |\n| PAL0910 | 50 | Chinstrap penguin | Pygoscelis antarctica) | Dream | N88A2  | Yes | 2009-11-23 | 49.8 | 17.3 | 198 | 3675 | FEMALE |  9.32169 | -24.41562 | NA                                    | f |\n| PAL0910 | 51 | Chinstrap penguin | Pygoscelis antarctica) | Dream | N90A1  | Yes | 2009-11-21 | 48.1 | 16.4 | 199 | 3325 | FEMALE |  9.46929 | -24.48403 | NA                                    | f |\n| PAL0910 | 52 | Chinstrap penguin | Pygoscelis antarctica) | Dream | N90A2  | Yes | 2009-11-21 | 51.4 | 19.0 | 201 | 3950 | MALE   |  9.43782 | -24.36202 | NA                                    | m |\n| PAL0910 | 53 | Chinstrap penguin | Pygoscelis antarctica) | Dream | N92A1  | Yes | 2009-11-23 | 45.7 | 17.3 | 193 | 3600 | FEMALE |  9.41500 | -24.80500 | NA                                    | f |\n| PAL0910 | 54 | Chinstrap penguin | Pygoscelis antarctica) | Dream | N92A2  | Yes | 2009-11-23 | 50.7 | 19.7 | 203 | 4050 | MALE   |  9.93727 | -24.59066 | NA                                    | m |\n| PAL0910 | 55 | Chinstrap penguin | Pygoscelis antarctica) | Dream | N93A1  | Yes | 2009-11-27 | 42.5 | 17.3 | 187 | 3350 | FEMALE |  9.56534 | -24.60882 | NA                                    | f |\n| PAL0910 | 56 | Chinstrap penguin | Pygoscelis antarctica) | Dream | N93A2  | Yes | 2009-11-27 | 52.2 | 18.8 | 197 | 3450 | MALE   |  9.77528 | -24.56481 | NA                                    | m |\n| PAL0910 | 57 | Chinstrap penguin | Pygoscelis antarctica) | Dream | N94A1  | Yes | 2009-11-21 | 45.2 | 16.6 | 191 | 3250 | FEMALE |  9.62357 | -24.78984 | NA                                    | f |\n| PAL0910 | 58 | Chinstrap penguin | Pygoscelis antarctica) | Dream | N94A2  | Yes | 2009-11-21 | 49.3 | 19.9 | 203 | 4050 | MALE   |  9.88809 | -24.59513 | NA                                    | m |\n| PAL0910 | 59 | Chinstrap penguin | Pygoscelis antarctica) | Dream | N95A1  | Yes | 2009-11-21 | 50.2 | 18.8 | 202 | 3800 | MALE   |  9.74492 | -24.40400 | NA                                    | m |\n| PAL0910 | 60 | Chinstrap penguin | Pygoscelis antarctica) | Dream | N95A2  | Yes | 2009-11-21 | 45.6 | 19.4 | 194 | 3525 | FEMALE |  9.46985 | -24.65786 | NA                                    | f |\n| PAL0910 | 61 | Chinstrap penguin | Pygoscelis antarctica) | Dream | N96A1  | Yes | 2009-11-27 | 51.9 | 19.5 | 206 | 3950 | MALE   |       NA | -23.78767 | No delta15N data received from lab.   | m |\n| PAL0910 | 62 | Chinstrap penguin | Pygoscelis antarctica) | Dream | N96A2  | Yes | 2009-11-27 | 46.8 | 16.5 | 189 | 3650 | FEMALE |  9.65061 | -24.48153 | NA                                    | f |\n| PAL0910 | 63 | Chinstrap penguin | Pygoscelis antarctica) | Dream | N98A1  | Yes | 2009-11-19 | 45.7 | 17.0 | 195 | 3650 | FEMALE |  9.26715 | -24.31912 | NA                                    | f |\n| PAL0910 | 64 | Chinstrap penguin | Pygoscelis antarctica) | Dream | N98A2  | Yes | 2009-11-19 | 55.8 | 19.8 | 207 | 4000 | MALE   |  9.70465 | -24.53494 | NA                                    | m |\n| PAL0910 | 65 | Chinstrap penguin | Pygoscelis antarctica) | Dream | N99A1  | No  | 2009-11-21 | 43.5 | 18.1 | 202 | 3400 | FEMALE |  9.37608 | -24.40753 | Nest never observed with full clutch. | f |\n| PAL0910 | 66 | Chinstrap penguin | Pygoscelis antarctica) | Dream | N99A2  | No  | 2009-11-21 | 49.6 | 18.2 | 193 | 3775 | MALE   |  9.46180 | -24.70615 | Nest never observed with full clutch. | m |\n| PAL0910 | 67 | Chinstrap penguin | Pygoscelis antarctica) | Dream | N100A1 | Yes | 2009-11-21 | 50.8 | 19.0 | 210 | 4100 | MALE   |  9.98044 | -24.68741 | NA                                    | m |\n| PAL0910 | 68 | Chinstrap penguin | Pygoscelis antarctica) | Dream | N100A2 | Yes | 2009-11-21 | 50.2 | 18.7 | 198 | 3775 | FEMALE |  9.39305 | -24.25255 | NA                                    | f |\n\n",
            "text/html": [
              "<table class=\"dataframe\">\n",
              "<caption>A tibble: 344 × 17</caption>\n",
              "<thead>\n",
              "\t<tr><th scope=col>study_name</th><th scope=col>sample_number</th><th scope=col>species</th><th scope=col>latin_name</th><th scope=col>island</th><th scope=col>individual_id</th><th scope=col>clutch_completion</th><th scope=col>date_egg</th><th scope=col>culmen_length_mm</th><th scope=col>culmen_depth_mm</th><th scope=col>flipper_length_mm</th><th scope=col>body_mass_g</th><th scope=col>sex</th><th scope=col>delta_15_n_o_oo</th><th scope=col>delta_13_c_o_oo</th><th scope=col>comments</th><th scope=col>sex_short</th></tr>\n",
              "\t<tr><th scope=col>&lt;chr&gt;</th><th scope=col>&lt;dbl&gt;</th><th scope=col>&lt;chr&gt;</th><th scope=col>&lt;chr&gt;</th><th scope=col>&lt;chr&gt;</th><th scope=col>&lt;chr&gt;</th><th scope=col>&lt;chr&gt;</th><th scope=col>&lt;date&gt;</th><th scope=col>&lt;dbl&gt;</th><th scope=col>&lt;dbl&gt;</th><th scope=col>&lt;dbl&gt;</th><th scope=col>&lt;dbl&gt;</th><th scope=col>&lt;chr&gt;</th><th scope=col>&lt;dbl&gt;</th><th scope=col>&lt;dbl&gt;</th><th scope=col>&lt;chr&gt;</th><th scope=col>&lt;chr&gt;</th></tr>\n",
              "</thead>\n",
              "<tbody>\n",
              "\t<tr><td>PAL0708</td><td> 1</td><td>Adelie Penguin</td><td>Pygoscelis adeliae)</td><td>Torgersen</td><td>N1A1 </td><td>Yes</td><td>2007-11-11</td><td>39.1</td><td>18.7</td><td>181</td><td>3750</td><td>MALE  </td><td>     NA</td><td>       NA</td><td>Not enough blood for isotopes.       </td><td>m </td></tr>\n",
              "\t<tr><td>PAL0708</td><td> 2</td><td>Adelie Penguin</td><td>Pygoscelis adeliae)</td><td>Torgersen</td><td>N1A2 </td><td>Yes</td><td>2007-11-11</td><td>39.5</td><td>17.4</td><td>186</td><td>3800</td><td>FEMALE</td><td>8.94956</td><td>-24.69454</td><td>NA                                   </td><td>f </td></tr>\n",
              "\t<tr><td>PAL0708</td><td> 3</td><td>Adelie Penguin</td><td>Pygoscelis adeliae)</td><td>Torgersen</td><td>N2A1 </td><td>Yes</td><td>2007-11-16</td><td>40.3</td><td>18.0</td><td>195</td><td>3250</td><td>FEMALE</td><td>8.36821</td><td>-25.33302</td><td>NA                                   </td><td>f </td></tr>\n",
              "\t<tr><td>PAL0708</td><td> 4</td><td>Adelie Penguin</td><td>Pygoscelis adeliae)</td><td>Torgersen</td><td>N2A2 </td><td>Yes</td><td>2007-11-16</td><td>  NA</td><td>  NA</td><td> NA</td><td>  NA</td><td>NA    </td><td>     NA</td><td>       NA</td><td>Adult not sampled.                   </td><td>NA</td></tr>\n",
              "\t<tr><td>PAL0708</td><td> 5</td><td>Adelie Penguin</td><td>Pygoscelis adeliae)</td><td>Torgersen</td><td>N3A1 </td><td>Yes</td><td>2007-11-16</td><td>36.7</td><td>19.3</td><td>193</td><td>3450</td><td>FEMALE</td><td>8.76651</td><td>-25.32426</td><td>NA                                   </td><td>f </td></tr>\n",
              "\t<tr><td>PAL0708</td><td> 6</td><td>Adelie Penguin</td><td>Pygoscelis adeliae)</td><td>Torgersen</td><td>N3A2 </td><td>Yes</td><td>2007-11-16</td><td>39.3</td><td>20.6</td><td>190</td><td>3650</td><td>MALE  </td><td>8.66496</td><td>-25.29805</td><td>NA                                   </td><td>m </td></tr>\n",
              "\t<tr><td>PAL0708</td><td> 7</td><td>Adelie Penguin</td><td>Pygoscelis adeliae)</td><td>Torgersen</td><td>N4A1 </td><td>No </td><td>2007-11-15</td><td>38.9</td><td>17.8</td><td>181</td><td>3625</td><td>FEMALE</td><td>9.18718</td><td>-25.21799</td><td>Nest never observed with full clutch.</td><td>f </td></tr>\n",
              "\t<tr><td>PAL0708</td><td> 8</td><td>Adelie Penguin</td><td>Pygoscelis adeliae)</td><td>Torgersen</td><td>N4A2 </td><td>No </td><td>2007-11-15</td><td>39.2</td><td>19.6</td><td>195</td><td>4675</td><td>MALE  </td><td>9.46060</td><td>-24.89958</td><td>Nest never observed with full clutch.</td><td>m </td></tr>\n",
              "\t<tr><td>PAL0708</td><td> 9</td><td>Adelie Penguin</td><td>Pygoscelis adeliae)</td><td>Torgersen</td><td>N5A1 </td><td>Yes</td><td>2007-11-09</td><td>34.1</td><td>18.1</td><td>193</td><td>3475</td><td>NA    </td><td>     NA</td><td>       NA</td><td>No blood sample obtained.            </td><td>NA</td></tr>\n",
              "\t<tr><td>PAL0708</td><td>10</td><td>Adelie Penguin</td><td>Pygoscelis adeliae)</td><td>Torgersen</td><td>N5A2 </td><td>Yes</td><td>2007-11-09</td><td>42.0</td><td>20.2</td><td>190</td><td>4250</td><td>NA    </td><td>9.13362</td><td>-25.09368</td><td>No blood sample obtained for sexing. </td><td>NA</td></tr>\n",
              "\t<tr><td>PAL0708</td><td>11</td><td>Adelie Penguin</td><td>Pygoscelis adeliae)</td><td>Torgersen</td><td>N6A1 </td><td>Yes</td><td>2007-11-09</td><td>37.8</td><td>17.1</td><td>186</td><td>3300</td><td>NA    </td><td>8.63243</td><td>-25.21315</td><td>No blood sample obtained for sexing. </td><td>NA</td></tr>\n",
              "\t<tr><td>PAL0708</td><td>12</td><td>Adelie Penguin</td><td>Pygoscelis adeliae)</td><td>Torgersen</td><td>N6A2 </td><td>Yes</td><td>2007-11-09</td><td>37.8</td><td>17.3</td><td>180</td><td>3700</td><td>NA    </td><td>     NA</td><td>       NA</td><td>No blood sample obtained.            </td><td>NA</td></tr>\n",
              "\t<tr><td>PAL0708</td><td>13</td><td>Adelie Penguin</td><td>Pygoscelis adeliae)</td><td>Torgersen</td><td>N7A1 </td><td>Yes</td><td>2007-11-15</td><td>41.1</td><td>17.6</td><td>182</td><td>3200</td><td>FEMALE</td><td>     NA</td><td>       NA</td><td>Not enough blood for isotopes.       </td><td>f </td></tr>\n",
              "\t<tr><td>PAL0708</td><td>14</td><td>Adelie Penguin</td><td>Pygoscelis adeliae)</td><td>Torgersen</td><td>N7A2 </td><td>Yes</td><td>2007-11-15</td><td>38.6</td><td>21.2</td><td>191</td><td>3800</td><td>MALE  </td><td>     NA</td><td>       NA</td><td>Not enough blood for isotopes.       </td><td>m </td></tr>\n",
              "\t<tr><td>PAL0708</td><td>15</td><td>Adelie Penguin</td><td>Pygoscelis adeliae)</td><td>Torgersen</td><td>N8A1 </td><td>Yes</td><td>2007-11-16</td><td>34.6</td><td>21.1</td><td>198</td><td>4400</td><td>MALE  </td><td>8.55583</td><td>-25.22588</td><td>NA                                   </td><td>m </td></tr>\n",
              "\t<tr><td>PAL0708</td><td>16</td><td>Adelie Penguin</td><td>Pygoscelis adeliae)</td><td>Torgersen</td><td>N8A2 </td><td>Yes</td><td>2007-11-16</td><td>36.6</td><td>17.8</td><td>185</td><td>3700</td><td>FEMALE</td><td>     NA</td><td>       NA</td><td>Not enough blood for isotopes.       </td><td>f </td></tr>\n",
              "\t<tr><td>PAL0708</td><td>17</td><td>Adelie Penguin</td><td>Pygoscelis adeliae)</td><td>Torgersen</td><td>N9A1 </td><td>Yes</td><td>2007-11-12</td><td>38.7</td><td>19.0</td><td>195</td><td>3450</td><td>FEMALE</td><td>9.18528</td><td>-25.06691</td><td>NA                                   </td><td>f </td></tr>\n",
              "\t<tr><td>PAL0708</td><td>18</td><td>Adelie Penguin</td><td>Pygoscelis adeliae)</td><td>Torgersen</td><td>N9A2 </td><td>Yes</td><td>2007-11-12</td><td>42.5</td><td>20.7</td><td>197</td><td>4500</td><td>MALE  </td><td>8.67538</td><td>-25.13993</td><td>NA                                   </td><td>m </td></tr>\n",
              "\t<tr><td>PAL0708</td><td>19</td><td>Adelie Penguin</td><td>Pygoscelis adeliae)</td><td>Torgersen</td><td>N10A1</td><td>Yes</td><td>2007-11-16</td><td>34.4</td><td>18.4</td><td>184</td><td>3325</td><td>FEMALE</td><td>8.47827</td><td>-25.23319</td><td>NA                                   </td><td>f </td></tr>\n",
              "\t<tr><td>PAL0708</td><td>20</td><td>Adelie Penguin</td><td>Pygoscelis adeliae)</td><td>Torgersen</td><td>N10A2</td><td>Yes</td><td>2007-11-16</td><td>46.0</td><td>21.5</td><td>194</td><td>4200</td><td>MALE  </td><td>9.11616</td><td>-24.77227</td><td>NA                                   </td><td>m </td></tr>\n",
              "\t<tr><td>PAL0708</td><td>21</td><td>Adelie Penguin</td><td>Pygoscelis adeliae)</td><td>Biscoe   </td><td>N11A1</td><td>Yes</td><td>2007-11-12</td><td>37.8</td><td>18.3</td><td>174</td><td>3400</td><td>FEMALE</td><td>8.73762</td><td>-25.09383</td><td>NA                                   </td><td>f </td></tr>\n",
              "\t<tr><td>PAL0708</td><td>22</td><td>Adelie Penguin</td><td>Pygoscelis adeliae)</td><td>Biscoe   </td><td>N11A2</td><td>Yes</td><td>2007-11-12</td><td>37.7</td><td>18.7</td><td>180</td><td>3600</td><td>MALE  </td><td>8.66271</td><td>-25.06390</td><td>NA                                   </td><td>m </td></tr>\n",
              "\t<tr><td>PAL0708</td><td>23</td><td>Adelie Penguin</td><td>Pygoscelis adeliae)</td><td>Biscoe   </td><td>N12A1</td><td>Yes</td><td>2007-11-12</td><td>35.9</td><td>19.2</td><td>189</td><td>3800</td><td>FEMALE</td><td>9.22286</td><td>-25.03474</td><td>NA                                   </td><td>f </td></tr>\n",
              "\t<tr><td>PAL0708</td><td>24</td><td>Adelie Penguin</td><td>Pygoscelis adeliae)</td><td>Biscoe   </td><td>N12A2</td><td>Yes</td><td>2007-11-12</td><td>38.2</td><td>18.1</td><td>185</td><td>3950</td><td>MALE  </td><td>8.43423</td><td>-25.22664</td><td>NA                                   </td><td>m </td></tr>\n",
              "\t<tr><td>PAL0708</td><td>25</td><td>Adelie Penguin</td><td>Pygoscelis adeliae)</td><td>Biscoe   </td><td>N13A1</td><td>Yes</td><td>2007-11-10</td><td>38.8</td><td>17.2</td><td>180</td><td>3800</td><td>MALE  </td><td>9.63954</td><td>-25.29856</td><td>NA                                   </td><td>m </td></tr>\n",
              "\t<tr><td>PAL0708</td><td>26</td><td>Adelie Penguin</td><td>Pygoscelis adeliae)</td><td>Biscoe   </td><td>N13A2</td><td>Yes</td><td>2007-11-10</td><td>35.3</td><td>18.9</td><td>187</td><td>3800</td><td>FEMALE</td><td>9.21292</td><td>-24.36130</td><td>NA                                   </td><td>f </td></tr>\n",
              "\t<tr><td>PAL0708</td><td>27</td><td>Adelie Penguin</td><td>Pygoscelis adeliae)</td><td>Biscoe   </td><td>N17A1</td><td>Yes</td><td>2007-11-12</td><td>40.6</td><td>18.6</td><td>183</td><td>3550</td><td>MALE  </td><td>8.93997</td><td>-25.36288</td><td>NA                                   </td><td>m </td></tr>\n",
              "\t<tr><td>PAL0708</td><td>28</td><td>Adelie Penguin</td><td>Pygoscelis adeliae)</td><td>Biscoe   </td><td>N17A2</td><td>Yes</td><td>2007-11-12</td><td>40.5</td><td>17.9</td><td>187</td><td>3200</td><td>FEMALE</td><td>8.08138</td><td>-25.49448</td><td>NA                                   </td><td>f </td></tr>\n",
              "\t<tr><td>PAL0708</td><td>29</td><td>Adelie Penguin</td><td>Pygoscelis adeliae)</td><td>Biscoe   </td><td>N18A1</td><td>No </td><td>2007-11-10</td><td>37.9</td><td>18.6</td><td>172</td><td>3150</td><td>FEMALE</td><td>8.38404</td><td>-25.19837</td><td>Nest never observed with full clutch.</td><td>f </td></tr>\n",
              "\t<tr><td>PAL0708</td><td>30</td><td>Adelie Penguin</td><td>Pygoscelis adeliae)</td><td>Biscoe   </td><td>N18A2</td><td>No </td><td>2007-11-10</td><td>40.5</td><td>18.9</td><td>180</td><td>3950</td><td>MALE  </td><td>8.90027</td><td>-25.11609</td><td>Nest never observed with full clutch.</td><td>m </td></tr>\n",
              "\t<tr><td>⋮</td><td>⋮</td><td>⋮</td><td>⋮</td><td>⋮</td><td>⋮</td><td>⋮</td><td>⋮</td><td>⋮</td><td>⋮</td><td>⋮</td><td>⋮</td><td>⋮</td><td>⋮</td><td>⋮</td><td>⋮</td><td>⋮</td></tr>\n",
              "\t<tr><td>PAL0809</td><td>39</td><td>Chinstrap penguin</td><td>Pygoscelis antarctica)</td><td>Dream</td><td>N72A1 </td><td>No </td><td>2008-11-24</td><td>46.9</td><td>16.6</td><td>192</td><td>2700</td><td>FEMALE</td><td> 9.80589</td><td>-24.73735</td><td>Nest never observed with full clutch.</td><td>f</td></tr>\n",
              "\t<tr><td>PAL0809</td><td>40</td><td>Chinstrap penguin</td><td>Pygoscelis antarctica)</td><td>Dream</td><td>N72A2 </td><td>No </td><td>2008-11-24</td><td>53.5</td><td>19.9</td><td>205</td><td>4500</td><td>MALE  </td><td>10.02544</td><td>-24.90816</td><td>Nest never observed with full clutch.</td><td>m</td></tr>\n",
              "\t<tr><td>PAL0809</td><td>41</td><td>Chinstrap penguin</td><td>Pygoscelis antarctica)</td><td>Dream</td><td>N74A1 </td><td>Yes</td><td>2008-11-24</td><td>49.0</td><td>19.5</td><td>210</td><td>3950</td><td>MALE  </td><td> 9.53262</td><td>-24.66867</td><td>NA                                   </td><td>m</td></tr>\n",
              "\t<tr><td>PAL0809</td><td>42</td><td>Chinstrap penguin</td><td>Pygoscelis antarctica)</td><td>Dream</td><td>N74A2 </td><td>Yes</td><td>2008-11-24</td><td>46.2</td><td>17.5</td><td>187</td><td>3650</td><td>FEMALE</td><td> 9.61734</td><td>-24.66188</td><td>NA                                   </td><td>f</td></tr>\n",
              "\t<tr><td>PAL0809</td><td>43</td><td>Chinstrap penguin</td><td>Pygoscelis antarctica)</td><td>Dream</td><td>N75A1 </td><td>Yes</td><td>2008-11-14</td><td>50.9</td><td>19.1</td><td>196</td><td>3550</td><td>MALE  </td><td>10.02372</td><td>-24.86594</td><td>NA                                   </td><td>m</td></tr>\n",
              "\t<tr><td>PAL0809</td><td>44</td><td>Chinstrap penguin</td><td>Pygoscelis antarctica)</td><td>Dream</td><td>N75A2 </td><td>Yes</td><td>2008-11-14</td><td>45.5</td><td>17.0</td><td>196</td><td>3500</td><td>FEMALE</td><td> 9.36493</td><td>-24.66259</td><td>NA                                   </td><td>f</td></tr>\n",
              "\t<tr><td>PAL0910</td><td>45</td><td>Chinstrap penguin</td><td>Pygoscelis antarctica)</td><td>Dream</td><td>N86A1 </td><td>Yes</td><td>2009-11-17</td><td>50.9</td><td>17.9</td><td>196</td><td>3675</td><td>FEMALE</td><td> 9.43684</td><td>-24.16566</td><td>NA                                   </td><td>f</td></tr>\n",
              "\t<tr><td>PAL0910</td><td>46</td><td>Chinstrap penguin</td><td>Pygoscelis antarctica)</td><td>Dream</td><td>N86A2 </td><td>Yes</td><td>2009-11-17</td><td>50.8</td><td>18.5</td><td>201</td><td>4450</td><td>MALE  </td><td> 9.45827</td><td>-24.35575</td><td>NA                                   </td><td>m</td></tr>\n",
              "\t<tr><td>PAL0910</td><td>47</td><td>Chinstrap penguin</td><td>Pygoscelis antarctica)</td><td>Dream</td><td>N87A1 </td><td>Yes</td><td>2009-11-27</td><td>50.1</td><td>17.9</td><td>190</td><td>3400</td><td>FEMALE</td><td> 9.46819</td><td>-24.45721</td><td>NA                                   </td><td>f</td></tr>\n",
              "\t<tr><td>PAL0910</td><td>48</td><td>Chinstrap penguin</td><td>Pygoscelis antarctica)</td><td>Dream</td><td>N87A2 </td><td>Yes</td><td>2009-11-27</td><td>49.0</td><td>19.6</td><td>212</td><td>4300</td><td>MALE  </td><td> 9.34089</td><td>-24.45189</td><td>NA                                   </td><td>m</td></tr>\n",
              "\t<tr><td>PAL0910</td><td>49</td><td>Chinstrap penguin</td><td>Pygoscelis antarctica)</td><td>Dream</td><td>N88A1 </td><td>Yes</td><td>2009-11-23</td><td>51.5</td><td>18.7</td><td>187</td><td>3250</td><td>MALE  </td><td> 9.68950</td><td>-24.43062</td><td>NA                                   </td><td>m</td></tr>\n",
              "\t<tr><td>PAL0910</td><td>50</td><td>Chinstrap penguin</td><td>Pygoscelis antarctica)</td><td>Dream</td><td>N88A2 </td><td>Yes</td><td>2009-11-23</td><td>49.8</td><td>17.3</td><td>198</td><td>3675</td><td>FEMALE</td><td> 9.32169</td><td>-24.41562</td><td>NA                                   </td><td>f</td></tr>\n",
              "\t<tr><td>PAL0910</td><td>51</td><td>Chinstrap penguin</td><td>Pygoscelis antarctica)</td><td>Dream</td><td>N90A1 </td><td>Yes</td><td>2009-11-21</td><td>48.1</td><td>16.4</td><td>199</td><td>3325</td><td>FEMALE</td><td> 9.46929</td><td>-24.48403</td><td>NA                                   </td><td>f</td></tr>\n",
              "\t<tr><td>PAL0910</td><td>52</td><td>Chinstrap penguin</td><td>Pygoscelis antarctica)</td><td>Dream</td><td>N90A2 </td><td>Yes</td><td>2009-11-21</td><td>51.4</td><td>19.0</td><td>201</td><td>3950</td><td>MALE  </td><td> 9.43782</td><td>-24.36202</td><td>NA                                   </td><td>m</td></tr>\n",
              "\t<tr><td>PAL0910</td><td>53</td><td>Chinstrap penguin</td><td>Pygoscelis antarctica)</td><td>Dream</td><td>N92A1 </td><td>Yes</td><td>2009-11-23</td><td>45.7</td><td>17.3</td><td>193</td><td>3600</td><td>FEMALE</td><td> 9.41500</td><td>-24.80500</td><td>NA                                   </td><td>f</td></tr>\n",
              "\t<tr><td>PAL0910</td><td>54</td><td>Chinstrap penguin</td><td>Pygoscelis antarctica)</td><td>Dream</td><td>N92A2 </td><td>Yes</td><td>2009-11-23</td><td>50.7</td><td>19.7</td><td>203</td><td>4050</td><td>MALE  </td><td> 9.93727</td><td>-24.59066</td><td>NA                                   </td><td>m</td></tr>\n",
              "\t<tr><td>PAL0910</td><td>55</td><td>Chinstrap penguin</td><td>Pygoscelis antarctica)</td><td>Dream</td><td>N93A1 </td><td>Yes</td><td>2009-11-27</td><td>42.5</td><td>17.3</td><td>187</td><td>3350</td><td>FEMALE</td><td> 9.56534</td><td>-24.60882</td><td>NA                                   </td><td>f</td></tr>\n",
              "\t<tr><td>PAL0910</td><td>56</td><td>Chinstrap penguin</td><td>Pygoscelis antarctica)</td><td>Dream</td><td>N93A2 </td><td>Yes</td><td>2009-11-27</td><td>52.2</td><td>18.8</td><td>197</td><td>3450</td><td>MALE  </td><td> 9.77528</td><td>-24.56481</td><td>NA                                   </td><td>m</td></tr>\n",
              "\t<tr><td>PAL0910</td><td>57</td><td>Chinstrap penguin</td><td>Pygoscelis antarctica)</td><td>Dream</td><td>N94A1 </td><td>Yes</td><td>2009-11-21</td><td>45.2</td><td>16.6</td><td>191</td><td>3250</td><td>FEMALE</td><td> 9.62357</td><td>-24.78984</td><td>NA                                   </td><td>f</td></tr>\n",
              "\t<tr><td>PAL0910</td><td>58</td><td>Chinstrap penguin</td><td>Pygoscelis antarctica)</td><td>Dream</td><td>N94A2 </td><td>Yes</td><td>2009-11-21</td><td>49.3</td><td>19.9</td><td>203</td><td>4050</td><td>MALE  </td><td> 9.88809</td><td>-24.59513</td><td>NA                                   </td><td>m</td></tr>\n",
              "\t<tr><td>PAL0910</td><td>59</td><td>Chinstrap penguin</td><td>Pygoscelis antarctica)</td><td>Dream</td><td>N95A1 </td><td>Yes</td><td>2009-11-21</td><td>50.2</td><td>18.8</td><td>202</td><td>3800</td><td>MALE  </td><td> 9.74492</td><td>-24.40400</td><td>NA                                   </td><td>m</td></tr>\n",
              "\t<tr><td>PAL0910</td><td>60</td><td>Chinstrap penguin</td><td>Pygoscelis antarctica)</td><td>Dream</td><td>N95A2 </td><td>Yes</td><td>2009-11-21</td><td>45.6</td><td>19.4</td><td>194</td><td>3525</td><td>FEMALE</td><td> 9.46985</td><td>-24.65786</td><td>NA                                   </td><td>f</td></tr>\n",
              "\t<tr><td>PAL0910</td><td>61</td><td>Chinstrap penguin</td><td>Pygoscelis antarctica)</td><td>Dream</td><td>N96A1 </td><td>Yes</td><td>2009-11-27</td><td>51.9</td><td>19.5</td><td>206</td><td>3950</td><td>MALE  </td><td>      NA</td><td>-23.78767</td><td>No delta15N data received from lab.  </td><td>m</td></tr>\n",
              "\t<tr><td>PAL0910</td><td>62</td><td>Chinstrap penguin</td><td>Pygoscelis antarctica)</td><td>Dream</td><td>N96A2 </td><td>Yes</td><td>2009-11-27</td><td>46.8</td><td>16.5</td><td>189</td><td>3650</td><td>FEMALE</td><td> 9.65061</td><td>-24.48153</td><td>NA                                   </td><td>f</td></tr>\n",
              "\t<tr><td>PAL0910</td><td>63</td><td>Chinstrap penguin</td><td>Pygoscelis antarctica)</td><td>Dream</td><td>N98A1 </td><td>Yes</td><td>2009-11-19</td><td>45.7</td><td>17.0</td><td>195</td><td>3650</td><td>FEMALE</td><td> 9.26715</td><td>-24.31912</td><td>NA                                   </td><td>f</td></tr>\n",
              "\t<tr><td>PAL0910</td><td>64</td><td>Chinstrap penguin</td><td>Pygoscelis antarctica)</td><td>Dream</td><td>N98A2 </td><td>Yes</td><td>2009-11-19</td><td>55.8</td><td>19.8</td><td>207</td><td>4000</td><td>MALE  </td><td> 9.70465</td><td>-24.53494</td><td>NA                                   </td><td>m</td></tr>\n",
              "\t<tr><td>PAL0910</td><td>65</td><td>Chinstrap penguin</td><td>Pygoscelis antarctica)</td><td>Dream</td><td>N99A1 </td><td>No </td><td>2009-11-21</td><td>43.5</td><td>18.1</td><td>202</td><td>3400</td><td>FEMALE</td><td> 9.37608</td><td>-24.40753</td><td>Nest never observed with full clutch.</td><td>f</td></tr>\n",
              "\t<tr><td>PAL0910</td><td>66</td><td>Chinstrap penguin</td><td>Pygoscelis antarctica)</td><td>Dream</td><td>N99A2 </td><td>No </td><td>2009-11-21</td><td>49.6</td><td>18.2</td><td>193</td><td>3775</td><td>MALE  </td><td> 9.46180</td><td>-24.70615</td><td>Nest never observed with full clutch.</td><td>m</td></tr>\n",
              "\t<tr><td>PAL0910</td><td>67</td><td>Chinstrap penguin</td><td>Pygoscelis antarctica)</td><td>Dream</td><td>N100A1</td><td>Yes</td><td>2009-11-21</td><td>50.8</td><td>19.0</td><td>210</td><td>4100</td><td>MALE  </td><td> 9.98044</td><td>-24.68741</td><td>NA                                   </td><td>m</td></tr>\n",
              "\t<tr><td>PAL0910</td><td>68</td><td>Chinstrap penguin</td><td>Pygoscelis antarctica)</td><td>Dream</td><td>N100A2</td><td>Yes</td><td>2009-11-21</td><td>50.2</td><td>18.7</td><td>198</td><td>3775</td><td>FEMALE</td><td> 9.39305</td><td>-24.25255</td><td>NA                                   </td><td>f</td></tr>\n",
              "</tbody>\n",
              "</table>\n"
            ]
          },
          "metadata": {
            "tags": []
          }
        }
      ]
    },
    {
      "cell_type": "markdown",
      "metadata": {
        "id": "6fhCVvfmL3vu"
      },
      "source": [
        "#### Recoding with `case_when`\n",
        "\n",
        "`case_when` (from the `dplyr` package) is like `ifelse` but allows for much more complex combinations.\n",
        "\n",
        "The basic setup for a `case_when` call looks like this:\n",
        "\n",
        "\n",
        "case_when(\n",
        "\n",
        "\n",
        "> $\\color{orange}{\\text{logical test}}$ ~ $\\color{blue}{\\text{what should happen if TRUE}}$,\n",
        "\n",
        "> $\\color{orange}{\\text{logical test}}$ ~ $\\color{blue}{\\text{what should happen if TRUE}}$,\n",
        "\n",
        "\n",
        "> $\\color{orange}{\\text{logical test}}$ ~ $\\color{blue}{\\text{what should happen if TRUE}}$,\n",
        "\n",
        "> $TRUE$ ~ $\\color{green}{\\text{what should happen with everything else}}$,\n",
        "\n",
        ")\n",
        "\n",
        "The following code recodes a numeric vector (1 through 50) into three categorical ones:\n"
      ]
    },
    {
      "cell_type": "code",
      "metadata": {
        "colab": {
          "base_uri": "https://localhost:8080/",
          "height": 101
        },
        "id": "3_SmmpceM8w6",
        "outputId": "c972556a-73a6-4eb5-aaa1-661ff7216dff"
      },
      "source": [
        "x <- 1:50\n",
        "\n",
        "case_when(\n",
        "  x %in% 1:10 ~ \"1 through 10\",\n",
        "  x %in% 11:30 ~ \"11 through 30\",\n",
        "  TRUE ~ \"above 30\"\n",
        ")"
      ],
      "execution_count": null,
      "outputs": [
        {
          "output_type": "display_data",
          "data": {
            "text/plain": [
              " [1] \"1 through 10\"  \"1 through 10\"  \"1 through 10\"  \"1 through 10\" \n",
              " [5] \"1 through 10\"  \"1 through 10\"  \"1 through 10\"  \"1 through 10\" \n",
              " [9] \"1 through 10\"  \"1 through 10\"  \"11 through 30\" \"11 through 30\"\n",
              "[13] \"11 through 30\" \"11 through 30\" \"11 through 30\" \"11 through 30\"\n",
              "[17] \"11 through 30\" \"11 through 30\" \"11 through 30\" \"11 through 30\"\n",
              "[21] \"11 through 30\" \"11 through 30\" \"11 through 30\" \"11 through 30\"\n",
              "[25] \"11 through 30\" \"11 through 30\" \"11 through 30\" \"11 through 30\"\n",
              "[29] \"11 through 30\" \"11 through 30\" \"above 30\"      \"above 30\"     \n",
              "[33] \"above 30\"      \"above 30\"      \"above 30\"      \"above 30\"     \n",
              "[37] \"above 30\"      \"above 30\"      \"above 30\"      \"above 30\"     \n",
              "[41] \"above 30\"      \"above 30\"      \"above 30\"      \"above 30\"     \n",
              "[45] \"above 30\"      \"above 30\"      \"above 30\"      \"above 30\"     \n",
              "[49] \"above 30\"      \"above 30\"     "
            ],
            "text/latex": "\\begin{enumerate*}\n\\item '1 through 10'\n\\item '1 through 10'\n\\item '1 through 10'\n\\item '1 through 10'\n\\item '1 through 10'\n\\item '1 through 10'\n\\item '1 through 10'\n\\item '1 through 10'\n\\item '1 through 10'\n\\item '1 through 10'\n\\item '11 through 30'\n\\item '11 through 30'\n\\item '11 through 30'\n\\item '11 through 30'\n\\item '11 through 30'\n\\item '11 through 30'\n\\item '11 through 30'\n\\item '11 through 30'\n\\item '11 through 30'\n\\item '11 through 30'\n\\item '11 through 30'\n\\item '11 through 30'\n\\item '11 through 30'\n\\item '11 through 30'\n\\item '11 through 30'\n\\item '11 through 30'\n\\item '11 through 30'\n\\item '11 through 30'\n\\item '11 through 30'\n\\item '11 through 30'\n\\item 'above 30'\n\\item 'above 30'\n\\item 'above 30'\n\\item 'above 30'\n\\item 'above 30'\n\\item 'above 30'\n\\item 'above 30'\n\\item 'above 30'\n\\item 'above 30'\n\\item 'above 30'\n\\item 'above 30'\n\\item 'above 30'\n\\item 'above 30'\n\\item 'above 30'\n\\item 'above 30'\n\\item 'above 30'\n\\item 'above 30'\n\\item 'above 30'\n\\item 'above 30'\n\\item 'above 30'\n\\end{enumerate*}\n",
            "text/markdown": "1. '1 through 10'\n2. '1 through 10'\n3. '1 through 10'\n4. '1 through 10'\n5. '1 through 10'\n6. '1 through 10'\n7. '1 through 10'\n8. '1 through 10'\n9. '1 through 10'\n10. '1 through 10'\n11. '11 through 30'\n12. '11 through 30'\n13. '11 through 30'\n14. '11 through 30'\n15. '11 through 30'\n16. '11 through 30'\n17. '11 through 30'\n18. '11 through 30'\n19. '11 through 30'\n20. '11 through 30'\n21. '11 through 30'\n22. '11 through 30'\n23. '11 through 30'\n24. '11 through 30'\n25. '11 through 30'\n26. '11 through 30'\n27. '11 through 30'\n28. '11 through 30'\n29. '11 through 30'\n30. '11 through 30'\n31. 'above 30'\n32. 'above 30'\n33. 'above 30'\n34. 'above 30'\n35. 'above 30'\n36. 'above 30'\n37. 'above 30'\n38. 'above 30'\n39. 'above 30'\n40. 'above 30'\n41. 'above 30'\n42. 'above 30'\n43. 'above 30'\n44. 'above 30'\n45. 'above 30'\n46. 'above 30'\n47. 'above 30'\n48. 'above 30'\n49. 'above 30'\n50. 'above 30'\n\n\n",
            "text/html": [
              "<style>\n",
              ".list-inline {list-style: none; margin:0; padding: 0}\n",
              ".list-inline>li {display: inline-block}\n",
              ".list-inline>li:not(:last-child)::after {content: \"\\00b7\"; padding: 0 .5ex}\n",
              "</style>\n",
              "<ol class=list-inline><li>'1 through 10'</li><li>'1 through 10'</li><li>'1 through 10'</li><li>'1 through 10'</li><li>'1 through 10'</li><li>'1 through 10'</li><li>'1 through 10'</li><li>'1 through 10'</li><li>'1 through 10'</li><li>'1 through 10'</li><li>'11 through 30'</li><li>'11 through 30'</li><li>'11 through 30'</li><li>'11 through 30'</li><li>'11 through 30'</li><li>'11 through 30'</li><li>'11 through 30'</li><li>'11 through 30'</li><li>'11 through 30'</li><li>'11 through 30'</li><li>'11 through 30'</li><li>'11 through 30'</li><li>'11 through 30'</li><li>'11 through 30'</li><li>'11 through 30'</li><li>'11 through 30'</li><li>'11 through 30'</li><li>'11 through 30'</li><li>'11 through 30'</li><li>'11 through 30'</li><li>'above 30'</li><li>'above 30'</li><li>'above 30'</li><li>'above 30'</li><li>'above 30'</li><li>'above 30'</li><li>'above 30'</li><li>'above 30'</li><li>'above 30'</li><li>'above 30'</li><li>'above 30'</li><li>'above 30'</li><li>'above 30'</li><li>'above 30'</li><li>'above 30'</li><li>'above 30'</li><li>'above 30'</li><li>'above 30'</li><li>'above 30'</li><li>'above 30'</li></ol>\n"
            ]
          },
          "metadata": {
            "tags": []
          }
        }
      ]
    },
    {
      "cell_type": "markdown",
      "metadata": {
        "id": "7_Q1iB5YOC2P"
      },
      "source": [
        "Let's use `case_when` in combination with `mutate`.\n",
        "\n",
        "Creating the variable `short_island` which has a shorter label for `island`:\n",
        "\n",
        "\n"
      ]
    },
    {
      "cell_type": "code",
      "metadata": {
        "id": "yeRhbIgvOLDD",
        "colab": {
          "base_uri": "https://localhost:8080/",
          "height": 1000
        },
        "outputId": "ef7ec2ca-c214-491c-d824-f389a88d8750"
      },
      "source": [
        "mutate(penguins_clean, \n",
        "        island_short = case_when(\n",
        "          island == \"Torgersen\" ~ \"T\",\n",
        "          island == \"Biscoe\" ~ \"B\",\n",
        "          island == \"Dream\" ~ \"D\"\n",
        "        ))"
      ],
      "execution_count": null,
      "outputs": [
        {
          "output_type": "display_data",
          "data": {
            "text/plain": [
              "    study_name sample_number species           latin_name             island   \n",
              "1   PAL0708     1            Adelie Penguin    Pygoscelis adeliae)    Torgersen\n",
              "2   PAL0708     2            Adelie Penguin    Pygoscelis adeliae)    Torgersen\n",
              "3   PAL0708     3            Adelie Penguin    Pygoscelis adeliae)    Torgersen\n",
              "4   PAL0708     4            Adelie Penguin    Pygoscelis adeliae)    Torgersen\n",
              "5   PAL0708     5            Adelie Penguin    Pygoscelis adeliae)    Torgersen\n",
              "6   PAL0708     6            Adelie Penguin    Pygoscelis adeliae)    Torgersen\n",
              "7   PAL0708     7            Adelie Penguin    Pygoscelis adeliae)    Torgersen\n",
              "8   PAL0708     8            Adelie Penguin    Pygoscelis adeliae)    Torgersen\n",
              "9   PAL0708     9            Adelie Penguin    Pygoscelis adeliae)    Torgersen\n",
              "10  PAL0708    10            Adelie Penguin    Pygoscelis adeliae)    Torgersen\n",
              "11  PAL0708    11            Adelie Penguin    Pygoscelis adeliae)    Torgersen\n",
              "12  PAL0708    12            Adelie Penguin    Pygoscelis adeliae)    Torgersen\n",
              "13  PAL0708    13            Adelie Penguin    Pygoscelis adeliae)    Torgersen\n",
              "14  PAL0708    14            Adelie Penguin    Pygoscelis adeliae)    Torgersen\n",
              "15  PAL0708    15            Adelie Penguin    Pygoscelis adeliae)    Torgersen\n",
              "16  PAL0708    16            Adelie Penguin    Pygoscelis adeliae)    Torgersen\n",
              "17  PAL0708    17            Adelie Penguin    Pygoscelis adeliae)    Torgersen\n",
              "18  PAL0708    18            Adelie Penguin    Pygoscelis adeliae)    Torgersen\n",
              "19  PAL0708    19            Adelie Penguin    Pygoscelis adeliae)    Torgersen\n",
              "20  PAL0708    20            Adelie Penguin    Pygoscelis adeliae)    Torgersen\n",
              "21  PAL0708    21            Adelie Penguin    Pygoscelis adeliae)    Biscoe   \n",
              "22  PAL0708    22            Adelie Penguin    Pygoscelis adeliae)    Biscoe   \n",
              "23  PAL0708    23            Adelie Penguin    Pygoscelis adeliae)    Biscoe   \n",
              "24  PAL0708    24            Adelie Penguin    Pygoscelis adeliae)    Biscoe   \n",
              "25  PAL0708    25            Adelie Penguin    Pygoscelis adeliae)    Biscoe   \n",
              "26  PAL0708    26            Adelie Penguin    Pygoscelis adeliae)    Biscoe   \n",
              "27  PAL0708    27            Adelie Penguin    Pygoscelis adeliae)    Biscoe   \n",
              "28  PAL0708    28            Adelie Penguin    Pygoscelis adeliae)    Biscoe   \n",
              "29  PAL0708    29            Adelie Penguin    Pygoscelis adeliae)    Biscoe   \n",
              "30  PAL0708    30            Adelie Penguin    Pygoscelis adeliae)    Biscoe   \n",
              "⋮   ⋮          ⋮             ⋮                 ⋮                      ⋮        \n",
              "315 PAL0809    39            Chinstrap penguin Pygoscelis antarctica) Dream    \n",
              "316 PAL0809    40            Chinstrap penguin Pygoscelis antarctica) Dream    \n",
              "317 PAL0809    41            Chinstrap penguin Pygoscelis antarctica) Dream    \n",
              "318 PAL0809    42            Chinstrap penguin Pygoscelis antarctica) Dream    \n",
              "319 PAL0809    43            Chinstrap penguin Pygoscelis antarctica) Dream    \n",
              "320 PAL0809    44            Chinstrap penguin Pygoscelis antarctica) Dream    \n",
              "321 PAL0910    45            Chinstrap penguin Pygoscelis antarctica) Dream    \n",
              "322 PAL0910    46            Chinstrap penguin Pygoscelis antarctica) Dream    \n",
              "323 PAL0910    47            Chinstrap penguin Pygoscelis antarctica) Dream    \n",
              "324 PAL0910    48            Chinstrap penguin Pygoscelis antarctica) Dream    \n",
              "325 PAL0910    49            Chinstrap penguin Pygoscelis antarctica) Dream    \n",
              "326 PAL0910    50            Chinstrap penguin Pygoscelis antarctica) Dream    \n",
              "327 PAL0910    51            Chinstrap penguin Pygoscelis antarctica) Dream    \n",
              "328 PAL0910    52            Chinstrap penguin Pygoscelis antarctica) Dream    \n",
              "329 PAL0910    53            Chinstrap penguin Pygoscelis antarctica) Dream    \n",
              "330 PAL0910    54            Chinstrap penguin Pygoscelis antarctica) Dream    \n",
              "331 PAL0910    55            Chinstrap penguin Pygoscelis antarctica) Dream    \n",
              "332 PAL0910    56            Chinstrap penguin Pygoscelis antarctica) Dream    \n",
              "333 PAL0910    57            Chinstrap penguin Pygoscelis antarctica) Dream    \n",
              "334 PAL0910    58            Chinstrap penguin Pygoscelis antarctica) Dream    \n",
              "335 PAL0910    59            Chinstrap penguin Pygoscelis antarctica) Dream    \n",
              "336 PAL0910    60            Chinstrap penguin Pygoscelis antarctica) Dream    \n",
              "337 PAL0910    61            Chinstrap penguin Pygoscelis antarctica) Dream    \n",
              "338 PAL0910    62            Chinstrap penguin Pygoscelis antarctica) Dream    \n",
              "339 PAL0910    63            Chinstrap penguin Pygoscelis antarctica) Dream    \n",
              "340 PAL0910    64            Chinstrap penguin Pygoscelis antarctica) Dream    \n",
              "341 PAL0910    65            Chinstrap penguin Pygoscelis antarctica) Dream    \n",
              "342 PAL0910    66            Chinstrap penguin Pygoscelis antarctica) Dream    \n",
              "343 PAL0910    67            Chinstrap penguin Pygoscelis antarctica) Dream    \n",
              "344 PAL0910    68            Chinstrap penguin Pygoscelis antarctica) Dream    \n",
              "    individual_id clutch_completion date_egg   culmen_length_mm culmen_depth_mm\n",
              "1   N1A1          Yes               2007-11-11 39.1             18.7           \n",
              "2   N1A2          Yes               2007-11-11 39.5             17.4           \n",
              "3   N2A1          Yes               2007-11-16 40.3             18.0           \n",
              "4   N2A2          Yes               2007-11-16   NA               NA           \n",
              "5   N3A1          Yes               2007-11-16 36.7             19.3           \n",
              "6   N3A2          Yes               2007-11-16 39.3             20.6           \n",
              "7   N4A1          No                2007-11-15 38.9             17.8           \n",
              "8   N4A2          No                2007-11-15 39.2             19.6           \n",
              "9   N5A1          Yes               2007-11-09 34.1             18.1           \n",
              "10  N5A2          Yes               2007-11-09 42.0             20.2           \n",
              "11  N6A1          Yes               2007-11-09 37.8             17.1           \n",
              "12  N6A2          Yes               2007-11-09 37.8             17.3           \n",
              "13  N7A1          Yes               2007-11-15 41.1             17.6           \n",
              "14  N7A2          Yes               2007-11-15 38.6             21.2           \n",
              "15  N8A1          Yes               2007-11-16 34.6             21.1           \n",
              "16  N8A2          Yes               2007-11-16 36.6             17.8           \n",
              "17  N9A1          Yes               2007-11-12 38.7             19.0           \n",
              "18  N9A2          Yes               2007-11-12 42.5             20.7           \n",
              "19  N10A1         Yes               2007-11-16 34.4             18.4           \n",
              "20  N10A2         Yes               2007-11-16 46.0             21.5           \n",
              "21  N11A1         Yes               2007-11-12 37.8             18.3           \n",
              "22  N11A2         Yes               2007-11-12 37.7             18.7           \n",
              "23  N12A1         Yes               2007-11-12 35.9             19.2           \n",
              "24  N12A2         Yes               2007-11-12 38.2             18.1           \n",
              "25  N13A1         Yes               2007-11-10 38.8             17.2           \n",
              "26  N13A2         Yes               2007-11-10 35.3             18.9           \n",
              "27  N17A1         Yes               2007-11-12 40.6             18.6           \n",
              "28  N17A2         Yes               2007-11-12 40.5             17.9           \n",
              "29  N18A1         No                2007-11-10 37.9             18.6           \n",
              "30  N18A2         No                2007-11-10 40.5             18.9           \n",
              "⋮   ⋮             ⋮                 ⋮          ⋮                ⋮              \n",
              "315 N72A1         No                2008-11-24 46.9             16.6           \n",
              "316 N72A2         No                2008-11-24 53.5             19.9           \n",
              "317 N74A1         Yes               2008-11-24 49.0             19.5           \n",
              "318 N74A2         Yes               2008-11-24 46.2             17.5           \n",
              "319 N75A1         Yes               2008-11-14 50.9             19.1           \n",
              "320 N75A2         Yes               2008-11-14 45.5             17.0           \n",
              "321 N86A1         Yes               2009-11-17 50.9             17.9           \n",
              "322 N86A2         Yes               2009-11-17 50.8             18.5           \n",
              "323 N87A1         Yes               2009-11-27 50.1             17.9           \n",
              "324 N87A2         Yes               2009-11-27 49.0             19.6           \n",
              "325 N88A1         Yes               2009-11-23 51.5             18.7           \n",
              "326 N88A2         Yes               2009-11-23 49.8             17.3           \n",
              "327 N90A1         Yes               2009-11-21 48.1             16.4           \n",
              "328 N90A2         Yes               2009-11-21 51.4             19.0           \n",
              "329 N92A1         Yes               2009-11-23 45.7             17.3           \n",
              "330 N92A2         Yes               2009-11-23 50.7             19.7           \n",
              "331 N93A1         Yes               2009-11-27 42.5             17.3           \n",
              "332 N93A2         Yes               2009-11-27 52.2             18.8           \n",
              "333 N94A1         Yes               2009-11-21 45.2             16.6           \n",
              "334 N94A2         Yes               2009-11-21 49.3             19.9           \n",
              "335 N95A1         Yes               2009-11-21 50.2             18.8           \n",
              "336 N95A2         Yes               2009-11-21 45.6             19.4           \n",
              "337 N96A1         Yes               2009-11-27 51.9             19.5           \n",
              "338 N96A2         Yes               2009-11-27 46.8             16.5           \n",
              "339 N98A1         Yes               2009-11-19 45.7             17.0           \n",
              "340 N98A2         Yes               2009-11-19 55.8             19.8           \n",
              "341 N99A1         No                2009-11-21 43.5             18.1           \n",
              "342 N99A2         No                2009-11-21 49.6             18.2           \n",
              "343 N100A1        Yes               2009-11-21 50.8             19.0           \n",
              "344 N100A2        Yes               2009-11-21 50.2             18.7           \n",
              "    flipper_length_mm body_mass_g sex    delta_15_n_o_oo delta_13_c_o_oo\n",
              "1   181               3750        MALE        NA                NA      \n",
              "2   186               3800        FEMALE 8.94956         -24.69454      \n",
              "3   195               3250        FEMALE 8.36821         -25.33302      \n",
              "4    NA                 NA        NA          NA                NA      \n",
              "5   193               3450        FEMALE 8.76651         -25.32426      \n",
              "6   190               3650        MALE   8.66496         -25.29805      \n",
              "7   181               3625        FEMALE 9.18718         -25.21799      \n",
              "8   195               4675        MALE   9.46060         -24.89958      \n",
              "9   193               3475        NA          NA                NA      \n",
              "10  190               4250        NA     9.13362         -25.09368      \n",
              "11  186               3300        NA     8.63243         -25.21315      \n",
              "12  180               3700        NA          NA                NA      \n",
              "13  182               3200        FEMALE      NA                NA      \n",
              "14  191               3800        MALE        NA                NA      \n",
              "15  198               4400        MALE   8.55583         -25.22588      \n",
              "16  185               3700        FEMALE      NA                NA      \n",
              "17  195               3450        FEMALE 9.18528         -25.06691      \n",
              "18  197               4500        MALE   8.67538         -25.13993      \n",
              "19  184               3325        FEMALE 8.47827         -25.23319      \n",
              "20  194               4200        MALE   9.11616         -24.77227      \n",
              "21  174               3400        FEMALE 8.73762         -25.09383      \n",
              "22  180               3600        MALE   8.66271         -25.06390      \n",
              "23  189               3800        FEMALE 9.22286         -25.03474      \n",
              "24  185               3950        MALE   8.43423         -25.22664      \n",
              "25  180               3800        MALE   9.63954         -25.29856      \n",
              "26  187               3800        FEMALE 9.21292         -24.36130      \n",
              "27  183               3550        MALE   8.93997         -25.36288      \n",
              "28  187               3200        FEMALE 8.08138         -25.49448      \n",
              "29  172               3150        FEMALE 8.38404         -25.19837      \n",
              "30  180               3950        MALE   8.90027         -25.11609      \n",
              "⋮   ⋮                 ⋮           ⋮      ⋮               ⋮              \n",
              "315 192               2700        FEMALE  9.80589        -24.73735      \n",
              "316 205               4500        MALE   10.02544        -24.90816      \n",
              "317 210               3950        MALE    9.53262        -24.66867      \n",
              "318 187               3650        FEMALE  9.61734        -24.66188      \n",
              "319 196               3550        MALE   10.02372        -24.86594      \n",
              "320 196               3500        FEMALE  9.36493        -24.66259      \n",
              "321 196               3675        FEMALE  9.43684        -24.16566      \n",
              "322 201               4450        MALE    9.45827        -24.35575      \n",
              "323 190               3400        FEMALE  9.46819        -24.45721      \n",
              "324 212               4300        MALE    9.34089        -24.45189      \n",
              "325 187               3250        MALE    9.68950        -24.43062      \n",
              "326 198               3675        FEMALE  9.32169        -24.41562      \n",
              "327 199               3325        FEMALE  9.46929        -24.48403      \n",
              "328 201               3950        MALE    9.43782        -24.36202      \n",
              "329 193               3600        FEMALE  9.41500        -24.80500      \n",
              "330 203               4050        MALE    9.93727        -24.59066      \n",
              "331 187               3350        FEMALE  9.56534        -24.60882      \n",
              "332 197               3450        MALE    9.77528        -24.56481      \n",
              "333 191               3250        FEMALE  9.62357        -24.78984      \n",
              "334 203               4050        MALE    9.88809        -24.59513      \n",
              "335 202               3800        MALE    9.74492        -24.40400      \n",
              "336 194               3525        FEMALE  9.46985        -24.65786      \n",
              "337 206               3950        MALE         NA        -23.78767      \n",
              "338 189               3650        FEMALE  9.65061        -24.48153      \n",
              "339 195               3650        FEMALE  9.26715        -24.31912      \n",
              "340 207               4000        MALE    9.70465        -24.53494      \n",
              "341 202               3400        FEMALE  9.37608        -24.40753      \n",
              "342 193               3775        MALE    9.46180        -24.70615      \n",
              "343 210               4100        MALE    9.98044        -24.68741      \n",
              "344 198               3775        FEMALE  9.39305        -24.25255      \n",
              "    comments                              island_short\n",
              "1   Not enough blood for isotopes.        T           \n",
              "2   NA                                    T           \n",
              "3   NA                                    T           \n",
              "4   Adult not sampled.                    T           \n",
              "5   NA                                    T           \n",
              "6   NA                                    T           \n",
              "7   Nest never observed with full clutch. T           \n",
              "8   Nest never observed with full clutch. T           \n",
              "9   No blood sample obtained.             T           \n",
              "10  No blood sample obtained for sexing.  T           \n",
              "11  No blood sample obtained for sexing.  T           \n",
              "12  No blood sample obtained.             T           \n",
              "13  Not enough blood for isotopes.        T           \n",
              "14  Not enough blood for isotopes.        T           \n",
              "15  NA                                    T           \n",
              "16  Not enough blood for isotopes.        T           \n",
              "17  NA                                    T           \n",
              "18  NA                                    T           \n",
              "19  NA                                    T           \n",
              "20  NA                                    T           \n",
              "21  NA                                    B           \n",
              "22  NA                                    B           \n",
              "23  NA                                    B           \n",
              "24  NA                                    B           \n",
              "25  NA                                    B           \n",
              "26  NA                                    B           \n",
              "27  NA                                    B           \n",
              "28  NA                                    B           \n",
              "29  Nest never observed with full clutch. B           \n",
              "30  Nest never observed with full clutch. B           \n",
              "⋮   ⋮                                     ⋮           \n",
              "315 Nest never observed with full clutch. D           \n",
              "316 Nest never observed with full clutch. D           \n",
              "317 NA                                    D           \n",
              "318 NA                                    D           \n",
              "319 NA                                    D           \n",
              "320 NA                                    D           \n",
              "321 NA                                    D           \n",
              "322 NA                                    D           \n",
              "323 NA                                    D           \n",
              "324 NA                                    D           \n",
              "325 NA                                    D           \n",
              "326 NA                                    D           \n",
              "327 NA                                    D           \n",
              "328 NA                                    D           \n",
              "329 NA                                    D           \n",
              "330 NA                                    D           \n",
              "331 NA                                    D           \n",
              "332 NA                                    D           \n",
              "333 NA                                    D           \n",
              "334 NA                                    D           \n",
              "335 NA                                    D           \n",
              "336 NA                                    D           \n",
              "337 No delta15N data received from lab.   D           \n",
              "338 NA                                    D           \n",
              "339 NA                                    D           \n",
              "340 NA                                    D           \n",
              "341 Nest never observed with full clutch. D           \n",
              "342 Nest never observed with full clutch. D           \n",
              "343 NA                                    D           \n",
              "344 NA                                    D           "
            ],
            "text/latex": "A tibble: 344 × 17\n\\begin{tabular}{lllllllllllllllll}\n study\\_name & sample\\_number & species & latin\\_name & island & individual\\_id & clutch\\_completion & date\\_egg & culmen\\_length\\_mm & culmen\\_depth\\_mm & flipper\\_length\\_mm & body\\_mass\\_g & sex & delta\\_15\\_n\\_o\\_oo & delta\\_13\\_c\\_o\\_oo & comments & island\\_short\\\\\n <chr> & <dbl> & <chr> & <chr> & <chr> & <chr> & <chr> & <date> & <dbl> & <dbl> & <dbl> & <dbl> & <chr> & <dbl> & <dbl> & <chr> & <chr>\\\\\n\\hline\n\t PAL0708 &  1 & Adelie Penguin & Pygoscelis adeliae) & Torgersen & N1A1  & Yes & 2007-11-11 & 39.1 & 18.7 & 181 & 3750 & MALE   &      NA &        NA & Not enough blood for isotopes.        & T\\\\\n\t PAL0708 &  2 & Adelie Penguin & Pygoscelis adeliae) & Torgersen & N1A2  & Yes & 2007-11-11 & 39.5 & 17.4 & 186 & 3800 & FEMALE & 8.94956 & -24.69454 & NA                                    & T\\\\\n\t PAL0708 &  3 & Adelie Penguin & Pygoscelis adeliae) & Torgersen & N2A1  & Yes & 2007-11-16 & 40.3 & 18.0 & 195 & 3250 & FEMALE & 8.36821 & -25.33302 & NA                                    & T\\\\\n\t PAL0708 &  4 & Adelie Penguin & Pygoscelis adeliae) & Torgersen & N2A2  & Yes & 2007-11-16 &   NA &   NA &  NA &   NA & NA     &      NA &        NA & Adult not sampled.                    & T\\\\\n\t PAL0708 &  5 & Adelie Penguin & Pygoscelis adeliae) & Torgersen & N3A1  & Yes & 2007-11-16 & 36.7 & 19.3 & 193 & 3450 & FEMALE & 8.76651 & -25.32426 & NA                                    & T\\\\\n\t PAL0708 &  6 & Adelie Penguin & Pygoscelis adeliae) & Torgersen & N3A2  & Yes & 2007-11-16 & 39.3 & 20.6 & 190 & 3650 & MALE   & 8.66496 & -25.29805 & NA                                    & T\\\\\n\t PAL0708 &  7 & Adelie Penguin & Pygoscelis adeliae) & Torgersen & N4A1  & No  & 2007-11-15 & 38.9 & 17.8 & 181 & 3625 & FEMALE & 9.18718 & -25.21799 & Nest never observed with full clutch. & T\\\\\n\t PAL0708 &  8 & Adelie Penguin & Pygoscelis adeliae) & Torgersen & N4A2  & No  & 2007-11-15 & 39.2 & 19.6 & 195 & 4675 & MALE   & 9.46060 & -24.89958 & Nest never observed with full clutch. & T\\\\\n\t PAL0708 &  9 & Adelie Penguin & Pygoscelis adeliae) & Torgersen & N5A1  & Yes & 2007-11-09 & 34.1 & 18.1 & 193 & 3475 & NA     &      NA &        NA & No blood sample obtained.             & T\\\\\n\t PAL0708 & 10 & Adelie Penguin & Pygoscelis adeliae) & Torgersen & N5A2  & Yes & 2007-11-09 & 42.0 & 20.2 & 190 & 4250 & NA     & 9.13362 & -25.09368 & No blood sample obtained for sexing.  & T\\\\\n\t PAL0708 & 11 & Adelie Penguin & Pygoscelis adeliae) & Torgersen & N6A1  & Yes & 2007-11-09 & 37.8 & 17.1 & 186 & 3300 & NA     & 8.63243 & -25.21315 & No blood sample obtained for sexing.  & T\\\\\n\t PAL0708 & 12 & Adelie Penguin & Pygoscelis adeliae) & Torgersen & N6A2  & Yes & 2007-11-09 & 37.8 & 17.3 & 180 & 3700 & NA     &      NA &        NA & No blood sample obtained.             & T\\\\\n\t PAL0708 & 13 & Adelie Penguin & Pygoscelis adeliae) & Torgersen & N7A1  & Yes & 2007-11-15 & 41.1 & 17.6 & 182 & 3200 & FEMALE &      NA &        NA & Not enough blood for isotopes.        & T\\\\\n\t PAL0708 & 14 & Adelie Penguin & Pygoscelis adeliae) & Torgersen & N7A2  & Yes & 2007-11-15 & 38.6 & 21.2 & 191 & 3800 & MALE   &      NA &        NA & Not enough blood for isotopes.        & T\\\\\n\t PAL0708 & 15 & Adelie Penguin & Pygoscelis adeliae) & Torgersen & N8A1  & Yes & 2007-11-16 & 34.6 & 21.1 & 198 & 4400 & MALE   & 8.55583 & -25.22588 & NA                                    & T\\\\\n\t PAL0708 & 16 & Adelie Penguin & Pygoscelis adeliae) & Torgersen & N8A2  & Yes & 2007-11-16 & 36.6 & 17.8 & 185 & 3700 & FEMALE &      NA &        NA & Not enough blood for isotopes.        & T\\\\\n\t PAL0708 & 17 & Adelie Penguin & Pygoscelis adeliae) & Torgersen & N9A1  & Yes & 2007-11-12 & 38.7 & 19.0 & 195 & 3450 & FEMALE & 9.18528 & -25.06691 & NA                                    & T\\\\\n\t PAL0708 & 18 & Adelie Penguin & Pygoscelis adeliae) & Torgersen & N9A2  & Yes & 2007-11-12 & 42.5 & 20.7 & 197 & 4500 & MALE   & 8.67538 & -25.13993 & NA                                    & T\\\\\n\t PAL0708 & 19 & Adelie Penguin & Pygoscelis adeliae) & Torgersen & N10A1 & Yes & 2007-11-16 & 34.4 & 18.4 & 184 & 3325 & FEMALE & 8.47827 & -25.23319 & NA                                    & T\\\\\n\t PAL0708 & 20 & Adelie Penguin & Pygoscelis adeliae) & Torgersen & N10A2 & Yes & 2007-11-16 & 46.0 & 21.5 & 194 & 4200 & MALE   & 9.11616 & -24.77227 & NA                                    & T\\\\\n\t PAL0708 & 21 & Adelie Penguin & Pygoscelis adeliae) & Biscoe    & N11A1 & Yes & 2007-11-12 & 37.8 & 18.3 & 174 & 3400 & FEMALE & 8.73762 & -25.09383 & NA                                    & B\\\\\n\t PAL0708 & 22 & Adelie Penguin & Pygoscelis adeliae) & Biscoe    & N11A2 & Yes & 2007-11-12 & 37.7 & 18.7 & 180 & 3600 & MALE   & 8.66271 & -25.06390 & NA                                    & B\\\\\n\t PAL0708 & 23 & Adelie Penguin & Pygoscelis adeliae) & Biscoe    & N12A1 & Yes & 2007-11-12 & 35.9 & 19.2 & 189 & 3800 & FEMALE & 9.22286 & -25.03474 & NA                                    & B\\\\\n\t PAL0708 & 24 & Adelie Penguin & Pygoscelis adeliae) & Biscoe    & N12A2 & Yes & 2007-11-12 & 38.2 & 18.1 & 185 & 3950 & MALE   & 8.43423 & -25.22664 & NA                                    & B\\\\\n\t PAL0708 & 25 & Adelie Penguin & Pygoscelis adeliae) & Biscoe    & N13A1 & Yes & 2007-11-10 & 38.8 & 17.2 & 180 & 3800 & MALE   & 9.63954 & -25.29856 & NA                                    & B\\\\\n\t PAL0708 & 26 & Adelie Penguin & Pygoscelis adeliae) & Biscoe    & N13A2 & Yes & 2007-11-10 & 35.3 & 18.9 & 187 & 3800 & FEMALE & 9.21292 & -24.36130 & NA                                    & B\\\\\n\t PAL0708 & 27 & Adelie Penguin & Pygoscelis adeliae) & Biscoe    & N17A1 & Yes & 2007-11-12 & 40.6 & 18.6 & 183 & 3550 & MALE   & 8.93997 & -25.36288 & NA                                    & B\\\\\n\t PAL0708 & 28 & Adelie Penguin & Pygoscelis adeliae) & Biscoe    & N17A2 & Yes & 2007-11-12 & 40.5 & 17.9 & 187 & 3200 & FEMALE & 8.08138 & -25.49448 & NA                                    & B\\\\\n\t PAL0708 & 29 & Adelie Penguin & Pygoscelis adeliae) & Biscoe    & N18A1 & No  & 2007-11-10 & 37.9 & 18.6 & 172 & 3150 & FEMALE & 8.38404 & -25.19837 & Nest never observed with full clutch. & B\\\\\n\t PAL0708 & 30 & Adelie Penguin & Pygoscelis adeliae) & Biscoe    & N18A2 & No  & 2007-11-10 & 40.5 & 18.9 & 180 & 3950 & MALE   & 8.90027 & -25.11609 & Nest never observed with full clutch. & B\\\\\n\t ⋮ & ⋮ & ⋮ & ⋮ & ⋮ & ⋮ & ⋮ & ⋮ & ⋮ & ⋮ & ⋮ & ⋮ & ⋮ & ⋮ & ⋮ & ⋮ & ⋮\\\\\n\t PAL0809 & 39 & Chinstrap penguin & Pygoscelis antarctica) & Dream & N72A1  & No  & 2008-11-24 & 46.9 & 16.6 & 192 & 2700 & FEMALE &  9.80589 & -24.73735 & Nest never observed with full clutch. & D\\\\\n\t PAL0809 & 40 & Chinstrap penguin & Pygoscelis antarctica) & Dream & N72A2  & No  & 2008-11-24 & 53.5 & 19.9 & 205 & 4500 & MALE   & 10.02544 & -24.90816 & Nest never observed with full clutch. & D\\\\\n\t PAL0809 & 41 & Chinstrap penguin & Pygoscelis antarctica) & Dream & N74A1  & Yes & 2008-11-24 & 49.0 & 19.5 & 210 & 3950 & MALE   &  9.53262 & -24.66867 & NA                                    & D\\\\\n\t PAL0809 & 42 & Chinstrap penguin & Pygoscelis antarctica) & Dream & N74A2  & Yes & 2008-11-24 & 46.2 & 17.5 & 187 & 3650 & FEMALE &  9.61734 & -24.66188 & NA                                    & D\\\\\n\t PAL0809 & 43 & Chinstrap penguin & Pygoscelis antarctica) & Dream & N75A1  & Yes & 2008-11-14 & 50.9 & 19.1 & 196 & 3550 & MALE   & 10.02372 & -24.86594 & NA                                    & D\\\\\n\t PAL0809 & 44 & Chinstrap penguin & Pygoscelis antarctica) & Dream & N75A2  & Yes & 2008-11-14 & 45.5 & 17.0 & 196 & 3500 & FEMALE &  9.36493 & -24.66259 & NA                                    & D\\\\\n\t PAL0910 & 45 & Chinstrap penguin & Pygoscelis antarctica) & Dream & N86A1  & Yes & 2009-11-17 & 50.9 & 17.9 & 196 & 3675 & FEMALE &  9.43684 & -24.16566 & NA                                    & D\\\\\n\t PAL0910 & 46 & Chinstrap penguin & Pygoscelis antarctica) & Dream & N86A2  & Yes & 2009-11-17 & 50.8 & 18.5 & 201 & 4450 & MALE   &  9.45827 & -24.35575 & NA                                    & D\\\\\n\t PAL0910 & 47 & Chinstrap penguin & Pygoscelis antarctica) & Dream & N87A1  & Yes & 2009-11-27 & 50.1 & 17.9 & 190 & 3400 & FEMALE &  9.46819 & -24.45721 & NA                                    & D\\\\\n\t PAL0910 & 48 & Chinstrap penguin & Pygoscelis antarctica) & Dream & N87A2  & Yes & 2009-11-27 & 49.0 & 19.6 & 212 & 4300 & MALE   &  9.34089 & -24.45189 & NA                                    & D\\\\\n\t PAL0910 & 49 & Chinstrap penguin & Pygoscelis antarctica) & Dream & N88A1  & Yes & 2009-11-23 & 51.5 & 18.7 & 187 & 3250 & MALE   &  9.68950 & -24.43062 & NA                                    & D\\\\\n\t PAL0910 & 50 & Chinstrap penguin & Pygoscelis antarctica) & Dream & N88A2  & Yes & 2009-11-23 & 49.8 & 17.3 & 198 & 3675 & FEMALE &  9.32169 & -24.41562 & NA                                    & D\\\\\n\t PAL0910 & 51 & Chinstrap penguin & Pygoscelis antarctica) & Dream & N90A1  & Yes & 2009-11-21 & 48.1 & 16.4 & 199 & 3325 & FEMALE &  9.46929 & -24.48403 & NA                                    & D\\\\\n\t PAL0910 & 52 & Chinstrap penguin & Pygoscelis antarctica) & Dream & N90A2  & Yes & 2009-11-21 & 51.4 & 19.0 & 201 & 3950 & MALE   &  9.43782 & -24.36202 & NA                                    & D\\\\\n\t PAL0910 & 53 & Chinstrap penguin & Pygoscelis antarctica) & Dream & N92A1  & Yes & 2009-11-23 & 45.7 & 17.3 & 193 & 3600 & FEMALE &  9.41500 & -24.80500 & NA                                    & D\\\\\n\t PAL0910 & 54 & Chinstrap penguin & Pygoscelis antarctica) & Dream & N92A2  & Yes & 2009-11-23 & 50.7 & 19.7 & 203 & 4050 & MALE   &  9.93727 & -24.59066 & NA                                    & D\\\\\n\t PAL0910 & 55 & Chinstrap penguin & Pygoscelis antarctica) & Dream & N93A1  & Yes & 2009-11-27 & 42.5 & 17.3 & 187 & 3350 & FEMALE &  9.56534 & -24.60882 & NA                                    & D\\\\\n\t PAL0910 & 56 & Chinstrap penguin & Pygoscelis antarctica) & Dream & N93A2  & Yes & 2009-11-27 & 52.2 & 18.8 & 197 & 3450 & MALE   &  9.77528 & -24.56481 & NA                                    & D\\\\\n\t PAL0910 & 57 & Chinstrap penguin & Pygoscelis antarctica) & Dream & N94A1  & Yes & 2009-11-21 & 45.2 & 16.6 & 191 & 3250 & FEMALE &  9.62357 & -24.78984 & NA                                    & D\\\\\n\t PAL0910 & 58 & Chinstrap penguin & Pygoscelis antarctica) & Dream & N94A2  & Yes & 2009-11-21 & 49.3 & 19.9 & 203 & 4050 & MALE   &  9.88809 & -24.59513 & NA                                    & D\\\\\n\t PAL0910 & 59 & Chinstrap penguin & Pygoscelis antarctica) & Dream & N95A1  & Yes & 2009-11-21 & 50.2 & 18.8 & 202 & 3800 & MALE   &  9.74492 & -24.40400 & NA                                    & D\\\\\n\t PAL0910 & 60 & Chinstrap penguin & Pygoscelis antarctica) & Dream & N95A2  & Yes & 2009-11-21 & 45.6 & 19.4 & 194 & 3525 & FEMALE &  9.46985 & -24.65786 & NA                                    & D\\\\\n\t PAL0910 & 61 & Chinstrap penguin & Pygoscelis antarctica) & Dream & N96A1  & Yes & 2009-11-27 & 51.9 & 19.5 & 206 & 3950 & MALE   &       NA & -23.78767 & No delta15N data received from lab.   & D\\\\\n\t PAL0910 & 62 & Chinstrap penguin & Pygoscelis antarctica) & Dream & N96A2  & Yes & 2009-11-27 & 46.8 & 16.5 & 189 & 3650 & FEMALE &  9.65061 & -24.48153 & NA                                    & D\\\\\n\t PAL0910 & 63 & Chinstrap penguin & Pygoscelis antarctica) & Dream & N98A1  & Yes & 2009-11-19 & 45.7 & 17.0 & 195 & 3650 & FEMALE &  9.26715 & -24.31912 & NA                                    & D\\\\\n\t PAL0910 & 64 & Chinstrap penguin & Pygoscelis antarctica) & Dream & N98A2  & Yes & 2009-11-19 & 55.8 & 19.8 & 207 & 4000 & MALE   &  9.70465 & -24.53494 & NA                                    & D\\\\\n\t PAL0910 & 65 & Chinstrap penguin & Pygoscelis antarctica) & Dream & N99A1  & No  & 2009-11-21 & 43.5 & 18.1 & 202 & 3400 & FEMALE &  9.37608 & -24.40753 & Nest never observed with full clutch. & D\\\\\n\t PAL0910 & 66 & Chinstrap penguin & Pygoscelis antarctica) & Dream & N99A2  & No  & 2009-11-21 & 49.6 & 18.2 & 193 & 3775 & MALE   &  9.46180 & -24.70615 & Nest never observed with full clutch. & D\\\\\n\t PAL0910 & 67 & Chinstrap penguin & Pygoscelis antarctica) & Dream & N100A1 & Yes & 2009-11-21 & 50.8 & 19.0 & 210 & 4100 & MALE   &  9.98044 & -24.68741 & NA                                    & D\\\\\n\t PAL0910 & 68 & Chinstrap penguin & Pygoscelis antarctica) & Dream & N100A2 & Yes & 2009-11-21 & 50.2 & 18.7 & 198 & 3775 & FEMALE &  9.39305 & -24.25255 & NA                                    & D\\\\\n\\end{tabular}\n",
            "text/markdown": "\nA tibble: 344 × 17\n\n| study_name &lt;chr&gt; | sample_number &lt;dbl&gt; | species &lt;chr&gt; | latin_name &lt;chr&gt; | island &lt;chr&gt; | individual_id &lt;chr&gt; | clutch_completion &lt;chr&gt; | date_egg &lt;date&gt; | culmen_length_mm &lt;dbl&gt; | culmen_depth_mm &lt;dbl&gt; | flipper_length_mm &lt;dbl&gt; | body_mass_g &lt;dbl&gt; | sex &lt;chr&gt; | delta_15_n_o_oo &lt;dbl&gt; | delta_13_c_o_oo &lt;dbl&gt; | comments &lt;chr&gt; | island_short &lt;chr&gt; |\n|---|---|---|---|---|---|---|---|---|---|---|---|---|---|---|---|---|\n| PAL0708 |  1 | Adelie Penguin | Pygoscelis adeliae) | Torgersen | N1A1  | Yes | 2007-11-11 | 39.1 | 18.7 | 181 | 3750 | MALE   |      NA |        NA | Not enough blood for isotopes.        | T |\n| PAL0708 |  2 | Adelie Penguin | Pygoscelis adeliae) | Torgersen | N1A2  | Yes | 2007-11-11 | 39.5 | 17.4 | 186 | 3800 | FEMALE | 8.94956 | -24.69454 | NA                                    | T |\n| PAL0708 |  3 | Adelie Penguin | Pygoscelis adeliae) | Torgersen | N2A1  | Yes | 2007-11-16 | 40.3 | 18.0 | 195 | 3250 | FEMALE | 8.36821 | -25.33302 | NA                                    | T |\n| PAL0708 |  4 | Adelie Penguin | Pygoscelis adeliae) | Torgersen | N2A2  | Yes | 2007-11-16 |   NA |   NA |  NA |   NA | NA     |      NA |        NA | Adult not sampled.                    | T |\n| PAL0708 |  5 | Adelie Penguin | Pygoscelis adeliae) | Torgersen | N3A1  | Yes | 2007-11-16 | 36.7 | 19.3 | 193 | 3450 | FEMALE | 8.76651 | -25.32426 | NA                                    | T |\n| PAL0708 |  6 | Adelie Penguin | Pygoscelis adeliae) | Torgersen | N3A2  | Yes | 2007-11-16 | 39.3 | 20.6 | 190 | 3650 | MALE   | 8.66496 | -25.29805 | NA                                    | T |\n| PAL0708 |  7 | Adelie Penguin | Pygoscelis adeliae) | Torgersen | N4A1  | No  | 2007-11-15 | 38.9 | 17.8 | 181 | 3625 | FEMALE | 9.18718 | -25.21799 | Nest never observed with full clutch. | T |\n| PAL0708 |  8 | Adelie Penguin | Pygoscelis adeliae) | Torgersen | N4A2  | No  | 2007-11-15 | 39.2 | 19.6 | 195 | 4675 | MALE   | 9.46060 | -24.89958 | Nest never observed with full clutch. | T |\n| PAL0708 |  9 | Adelie Penguin | Pygoscelis adeliae) | Torgersen | N5A1  | Yes | 2007-11-09 | 34.1 | 18.1 | 193 | 3475 | NA     |      NA |        NA | No blood sample obtained.             | T |\n| PAL0708 | 10 | Adelie Penguin | Pygoscelis adeliae) | Torgersen | N5A2  | Yes | 2007-11-09 | 42.0 | 20.2 | 190 | 4250 | NA     | 9.13362 | -25.09368 | No blood sample obtained for sexing.  | T |\n| PAL0708 | 11 | Adelie Penguin | Pygoscelis adeliae) | Torgersen | N6A1  | Yes | 2007-11-09 | 37.8 | 17.1 | 186 | 3300 | NA     | 8.63243 | -25.21315 | No blood sample obtained for sexing.  | T |\n| PAL0708 | 12 | Adelie Penguin | Pygoscelis adeliae) | Torgersen | N6A2  | Yes | 2007-11-09 | 37.8 | 17.3 | 180 | 3700 | NA     |      NA |        NA | No blood sample obtained.             | T |\n| PAL0708 | 13 | Adelie Penguin | Pygoscelis adeliae) | Torgersen | N7A1  | Yes | 2007-11-15 | 41.1 | 17.6 | 182 | 3200 | FEMALE |      NA |        NA | Not enough blood for isotopes.        | T |\n| PAL0708 | 14 | Adelie Penguin | Pygoscelis adeliae) | Torgersen | N7A2  | Yes | 2007-11-15 | 38.6 | 21.2 | 191 | 3800 | MALE   |      NA |        NA | Not enough blood for isotopes.        | T |\n| PAL0708 | 15 | Adelie Penguin | Pygoscelis adeliae) | Torgersen | N8A1  | Yes | 2007-11-16 | 34.6 | 21.1 | 198 | 4400 | MALE   | 8.55583 | -25.22588 | NA                                    | T |\n| PAL0708 | 16 | Adelie Penguin | Pygoscelis adeliae) | Torgersen | N8A2  | Yes | 2007-11-16 | 36.6 | 17.8 | 185 | 3700 | FEMALE |      NA |        NA | Not enough blood for isotopes.        | T |\n| PAL0708 | 17 | Adelie Penguin | Pygoscelis adeliae) | Torgersen | N9A1  | Yes | 2007-11-12 | 38.7 | 19.0 | 195 | 3450 | FEMALE | 9.18528 | -25.06691 | NA                                    | T |\n| PAL0708 | 18 | Adelie Penguin | Pygoscelis adeliae) | Torgersen | N9A2  | Yes | 2007-11-12 | 42.5 | 20.7 | 197 | 4500 | MALE   | 8.67538 | -25.13993 | NA                                    | T |\n| PAL0708 | 19 | Adelie Penguin | Pygoscelis adeliae) | Torgersen | N10A1 | Yes | 2007-11-16 | 34.4 | 18.4 | 184 | 3325 | FEMALE | 8.47827 | -25.23319 | NA                                    | T |\n| PAL0708 | 20 | Adelie Penguin | Pygoscelis adeliae) | Torgersen | N10A2 | Yes | 2007-11-16 | 46.0 | 21.5 | 194 | 4200 | MALE   | 9.11616 | -24.77227 | NA                                    | T |\n| PAL0708 | 21 | Adelie Penguin | Pygoscelis adeliae) | Biscoe    | N11A1 | Yes | 2007-11-12 | 37.8 | 18.3 | 174 | 3400 | FEMALE | 8.73762 | -25.09383 | NA                                    | B |\n| PAL0708 | 22 | Adelie Penguin | Pygoscelis adeliae) | Biscoe    | N11A2 | Yes | 2007-11-12 | 37.7 | 18.7 | 180 | 3600 | MALE   | 8.66271 | -25.06390 | NA                                    | B |\n| PAL0708 | 23 | Adelie Penguin | Pygoscelis adeliae) | Biscoe    | N12A1 | Yes | 2007-11-12 | 35.9 | 19.2 | 189 | 3800 | FEMALE | 9.22286 | -25.03474 | NA                                    | B |\n| PAL0708 | 24 | Adelie Penguin | Pygoscelis adeliae) | Biscoe    | N12A2 | Yes | 2007-11-12 | 38.2 | 18.1 | 185 | 3950 | MALE   | 8.43423 | -25.22664 | NA                                    | B |\n| PAL0708 | 25 | Adelie Penguin | Pygoscelis adeliae) | Biscoe    | N13A1 | Yes | 2007-11-10 | 38.8 | 17.2 | 180 | 3800 | MALE   | 9.63954 | -25.29856 | NA                                    | B |\n| PAL0708 | 26 | Adelie Penguin | Pygoscelis adeliae) | Biscoe    | N13A2 | Yes | 2007-11-10 | 35.3 | 18.9 | 187 | 3800 | FEMALE | 9.21292 | -24.36130 | NA                                    | B |\n| PAL0708 | 27 | Adelie Penguin | Pygoscelis adeliae) | Biscoe    | N17A1 | Yes | 2007-11-12 | 40.6 | 18.6 | 183 | 3550 | MALE   | 8.93997 | -25.36288 | NA                                    | B |\n| PAL0708 | 28 | Adelie Penguin | Pygoscelis adeliae) | Biscoe    | N17A2 | Yes | 2007-11-12 | 40.5 | 17.9 | 187 | 3200 | FEMALE | 8.08138 | -25.49448 | NA                                    | B |\n| PAL0708 | 29 | Adelie Penguin | Pygoscelis adeliae) | Biscoe    | N18A1 | No  | 2007-11-10 | 37.9 | 18.6 | 172 | 3150 | FEMALE | 8.38404 | -25.19837 | Nest never observed with full clutch. | B |\n| PAL0708 | 30 | Adelie Penguin | Pygoscelis adeliae) | Biscoe    | N18A2 | No  | 2007-11-10 | 40.5 | 18.9 | 180 | 3950 | MALE   | 8.90027 | -25.11609 | Nest never observed with full clutch. | B |\n| ⋮ | ⋮ | ⋮ | ⋮ | ⋮ | ⋮ | ⋮ | ⋮ | ⋮ | ⋮ | ⋮ | ⋮ | ⋮ | ⋮ | ⋮ | ⋮ | ⋮ |\n| PAL0809 | 39 | Chinstrap penguin | Pygoscelis antarctica) | Dream | N72A1  | No  | 2008-11-24 | 46.9 | 16.6 | 192 | 2700 | FEMALE |  9.80589 | -24.73735 | Nest never observed with full clutch. | D |\n| PAL0809 | 40 | Chinstrap penguin | Pygoscelis antarctica) | Dream | N72A2  | No  | 2008-11-24 | 53.5 | 19.9 | 205 | 4500 | MALE   | 10.02544 | -24.90816 | Nest never observed with full clutch. | D |\n| PAL0809 | 41 | Chinstrap penguin | Pygoscelis antarctica) | Dream | N74A1  | Yes | 2008-11-24 | 49.0 | 19.5 | 210 | 3950 | MALE   |  9.53262 | -24.66867 | NA                                    | D |\n| PAL0809 | 42 | Chinstrap penguin | Pygoscelis antarctica) | Dream | N74A2  | Yes | 2008-11-24 | 46.2 | 17.5 | 187 | 3650 | FEMALE |  9.61734 | -24.66188 | NA                                    | D |\n| PAL0809 | 43 | Chinstrap penguin | Pygoscelis antarctica) | Dream | N75A1  | Yes | 2008-11-14 | 50.9 | 19.1 | 196 | 3550 | MALE   | 10.02372 | -24.86594 | NA                                    | D |\n| PAL0809 | 44 | Chinstrap penguin | Pygoscelis antarctica) | Dream | N75A2  | Yes | 2008-11-14 | 45.5 | 17.0 | 196 | 3500 | FEMALE |  9.36493 | -24.66259 | NA                                    | D |\n| PAL0910 | 45 | Chinstrap penguin | Pygoscelis antarctica) | Dream | N86A1  | Yes | 2009-11-17 | 50.9 | 17.9 | 196 | 3675 | FEMALE |  9.43684 | -24.16566 | NA                                    | D |\n| PAL0910 | 46 | Chinstrap penguin | Pygoscelis antarctica) | Dream | N86A2  | Yes | 2009-11-17 | 50.8 | 18.5 | 201 | 4450 | MALE   |  9.45827 | -24.35575 | NA                                    | D |\n| PAL0910 | 47 | Chinstrap penguin | Pygoscelis antarctica) | Dream | N87A1  | Yes | 2009-11-27 | 50.1 | 17.9 | 190 | 3400 | FEMALE |  9.46819 | -24.45721 | NA                                    | D |\n| PAL0910 | 48 | Chinstrap penguin | Pygoscelis antarctica) | Dream | N87A2  | Yes | 2009-11-27 | 49.0 | 19.6 | 212 | 4300 | MALE   |  9.34089 | -24.45189 | NA                                    | D |\n| PAL0910 | 49 | Chinstrap penguin | Pygoscelis antarctica) | Dream | N88A1  | Yes | 2009-11-23 | 51.5 | 18.7 | 187 | 3250 | MALE   |  9.68950 | -24.43062 | NA                                    | D |\n| PAL0910 | 50 | Chinstrap penguin | Pygoscelis antarctica) | Dream | N88A2  | Yes | 2009-11-23 | 49.8 | 17.3 | 198 | 3675 | FEMALE |  9.32169 | -24.41562 | NA                                    | D |\n| PAL0910 | 51 | Chinstrap penguin | Pygoscelis antarctica) | Dream | N90A1  | Yes | 2009-11-21 | 48.1 | 16.4 | 199 | 3325 | FEMALE |  9.46929 | -24.48403 | NA                                    | D |\n| PAL0910 | 52 | Chinstrap penguin | Pygoscelis antarctica) | Dream | N90A2  | Yes | 2009-11-21 | 51.4 | 19.0 | 201 | 3950 | MALE   |  9.43782 | -24.36202 | NA                                    | D |\n| PAL0910 | 53 | Chinstrap penguin | Pygoscelis antarctica) | Dream | N92A1  | Yes | 2009-11-23 | 45.7 | 17.3 | 193 | 3600 | FEMALE |  9.41500 | -24.80500 | NA                                    | D |\n| PAL0910 | 54 | Chinstrap penguin | Pygoscelis antarctica) | Dream | N92A2  | Yes | 2009-11-23 | 50.7 | 19.7 | 203 | 4050 | MALE   |  9.93727 | -24.59066 | NA                                    | D |\n| PAL0910 | 55 | Chinstrap penguin | Pygoscelis antarctica) | Dream | N93A1  | Yes | 2009-11-27 | 42.5 | 17.3 | 187 | 3350 | FEMALE |  9.56534 | -24.60882 | NA                                    | D |\n| PAL0910 | 56 | Chinstrap penguin | Pygoscelis antarctica) | Dream | N93A2  | Yes | 2009-11-27 | 52.2 | 18.8 | 197 | 3450 | MALE   |  9.77528 | -24.56481 | NA                                    | D |\n| PAL0910 | 57 | Chinstrap penguin | Pygoscelis antarctica) | Dream | N94A1  | Yes | 2009-11-21 | 45.2 | 16.6 | 191 | 3250 | FEMALE |  9.62357 | -24.78984 | NA                                    | D |\n| PAL0910 | 58 | Chinstrap penguin | Pygoscelis antarctica) | Dream | N94A2  | Yes | 2009-11-21 | 49.3 | 19.9 | 203 | 4050 | MALE   |  9.88809 | -24.59513 | NA                                    | D |\n| PAL0910 | 59 | Chinstrap penguin | Pygoscelis antarctica) | Dream | N95A1  | Yes | 2009-11-21 | 50.2 | 18.8 | 202 | 3800 | MALE   |  9.74492 | -24.40400 | NA                                    | D |\n| PAL0910 | 60 | Chinstrap penguin | Pygoscelis antarctica) | Dream | N95A2  | Yes | 2009-11-21 | 45.6 | 19.4 | 194 | 3525 | FEMALE |  9.46985 | -24.65786 | NA                                    | D |\n| PAL0910 | 61 | Chinstrap penguin | Pygoscelis antarctica) | Dream | N96A1  | Yes | 2009-11-27 | 51.9 | 19.5 | 206 | 3950 | MALE   |       NA | -23.78767 | No delta15N data received from lab.   | D |\n| PAL0910 | 62 | Chinstrap penguin | Pygoscelis antarctica) | Dream | N96A2  | Yes | 2009-11-27 | 46.8 | 16.5 | 189 | 3650 | FEMALE |  9.65061 | -24.48153 | NA                                    | D |\n| PAL0910 | 63 | Chinstrap penguin | Pygoscelis antarctica) | Dream | N98A1  | Yes | 2009-11-19 | 45.7 | 17.0 | 195 | 3650 | FEMALE |  9.26715 | -24.31912 | NA                                    | D |\n| PAL0910 | 64 | Chinstrap penguin | Pygoscelis antarctica) | Dream | N98A2  | Yes | 2009-11-19 | 55.8 | 19.8 | 207 | 4000 | MALE   |  9.70465 | -24.53494 | NA                                    | D |\n| PAL0910 | 65 | Chinstrap penguin | Pygoscelis antarctica) | Dream | N99A1  | No  | 2009-11-21 | 43.5 | 18.1 | 202 | 3400 | FEMALE |  9.37608 | -24.40753 | Nest never observed with full clutch. | D |\n| PAL0910 | 66 | Chinstrap penguin | Pygoscelis antarctica) | Dream | N99A2  | No  | 2009-11-21 | 49.6 | 18.2 | 193 | 3775 | MALE   |  9.46180 | -24.70615 | Nest never observed with full clutch. | D |\n| PAL0910 | 67 | Chinstrap penguin | Pygoscelis antarctica) | Dream | N100A1 | Yes | 2009-11-21 | 50.8 | 19.0 | 210 | 4100 | MALE   |  9.98044 | -24.68741 | NA                                    | D |\n| PAL0910 | 68 | Chinstrap penguin | Pygoscelis antarctica) | Dream | N100A2 | Yes | 2009-11-21 | 50.2 | 18.7 | 198 | 3775 | FEMALE |  9.39305 | -24.25255 | NA                                    | D |\n\n",
            "text/html": [
              "<table class=\"dataframe\">\n",
              "<caption>A tibble: 344 × 17</caption>\n",
              "<thead>\n",
              "\t<tr><th scope=col>study_name</th><th scope=col>sample_number</th><th scope=col>species</th><th scope=col>latin_name</th><th scope=col>island</th><th scope=col>individual_id</th><th scope=col>clutch_completion</th><th scope=col>date_egg</th><th scope=col>culmen_length_mm</th><th scope=col>culmen_depth_mm</th><th scope=col>flipper_length_mm</th><th scope=col>body_mass_g</th><th scope=col>sex</th><th scope=col>delta_15_n_o_oo</th><th scope=col>delta_13_c_o_oo</th><th scope=col>comments</th><th scope=col>island_short</th></tr>\n",
              "\t<tr><th scope=col>&lt;chr&gt;</th><th scope=col>&lt;dbl&gt;</th><th scope=col>&lt;chr&gt;</th><th scope=col>&lt;chr&gt;</th><th scope=col>&lt;chr&gt;</th><th scope=col>&lt;chr&gt;</th><th scope=col>&lt;chr&gt;</th><th scope=col>&lt;date&gt;</th><th scope=col>&lt;dbl&gt;</th><th scope=col>&lt;dbl&gt;</th><th scope=col>&lt;dbl&gt;</th><th scope=col>&lt;dbl&gt;</th><th scope=col>&lt;chr&gt;</th><th scope=col>&lt;dbl&gt;</th><th scope=col>&lt;dbl&gt;</th><th scope=col>&lt;chr&gt;</th><th scope=col>&lt;chr&gt;</th></tr>\n",
              "</thead>\n",
              "<tbody>\n",
              "\t<tr><td>PAL0708</td><td> 1</td><td>Adelie Penguin</td><td>Pygoscelis adeliae)</td><td>Torgersen</td><td>N1A1 </td><td>Yes</td><td>2007-11-11</td><td>39.1</td><td>18.7</td><td>181</td><td>3750</td><td>MALE  </td><td>     NA</td><td>       NA</td><td>Not enough blood for isotopes.       </td><td>T</td></tr>\n",
              "\t<tr><td>PAL0708</td><td> 2</td><td>Adelie Penguin</td><td>Pygoscelis adeliae)</td><td>Torgersen</td><td>N1A2 </td><td>Yes</td><td>2007-11-11</td><td>39.5</td><td>17.4</td><td>186</td><td>3800</td><td>FEMALE</td><td>8.94956</td><td>-24.69454</td><td>NA                                   </td><td>T</td></tr>\n",
              "\t<tr><td>PAL0708</td><td> 3</td><td>Adelie Penguin</td><td>Pygoscelis adeliae)</td><td>Torgersen</td><td>N2A1 </td><td>Yes</td><td>2007-11-16</td><td>40.3</td><td>18.0</td><td>195</td><td>3250</td><td>FEMALE</td><td>8.36821</td><td>-25.33302</td><td>NA                                   </td><td>T</td></tr>\n",
              "\t<tr><td>PAL0708</td><td> 4</td><td>Adelie Penguin</td><td>Pygoscelis adeliae)</td><td>Torgersen</td><td>N2A2 </td><td>Yes</td><td>2007-11-16</td><td>  NA</td><td>  NA</td><td> NA</td><td>  NA</td><td>NA    </td><td>     NA</td><td>       NA</td><td>Adult not sampled.                   </td><td>T</td></tr>\n",
              "\t<tr><td>PAL0708</td><td> 5</td><td>Adelie Penguin</td><td>Pygoscelis adeliae)</td><td>Torgersen</td><td>N3A1 </td><td>Yes</td><td>2007-11-16</td><td>36.7</td><td>19.3</td><td>193</td><td>3450</td><td>FEMALE</td><td>8.76651</td><td>-25.32426</td><td>NA                                   </td><td>T</td></tr>\n",
              "\t<tr><td>PAL0708</td><td> 6</td><td>Adelie Penguin</td><td>Pygoscelis adeliae)</td><td>Torgersen</td><td>N3A2 </td><td>Yes</td><td>2007-11-16</td><td>39.3</td><td>20.6</td><td>190</td><td>3650</td><td>MALE  </td><td>8.66496</td><td>-25.29805</td><td>NA                                   </td><td>T</td></tr>\n",
              "\t<tr><td>PAL0708</td><td> 7</td><td>Adelie Penguin</td><td>Pygoscelis adeliae)</td><td>Torgersen</td><td>N4A1 </td><td>No </td><td>2007-11-15</td><td>38.9</td><td>17.8</td><td>181</td><td>3625</td><td>FEMALE</td><td>9.18718</td><td>-25.21799</td><td>Nest never observed with full clutch.</td><td>T</td></tr>\n",
              "\t<tr><td>PAL0708</td><td> 8</td><td>Adelie Penguin</td><td>Pygoscelis adeliae)</td><td>Torgersen</td><td>N4A2 </td><td>No </td><td>2007-11-15</td><td>39.2</td><td>19.6</td><td>195</td><td>4675</td><td>MALE  </td><td>9.46060</td><td>-24.89958</td><td>Nest never observed with full clutch.</td><td>T</td></tr>\n",
              "\t<tr><td>PAL0708</td><td> 9</td><td>Adelie Penguin</td><td>Pygoscelis adeliae)</td><td>Torgersen</td><td>N5A1 </td><td>Yes</td><td>2007-11-09</td><td>34.1</td><td>18.1</td><td>193</td><td>3475</td><td>NA    </td><td>     NA</td><td>       NA</td><td>No blood sample obtained.            </td><td>T</td></tr>\n",
              "\t<tr><td>PAL0708</td><td>10</td><td>Adelie Penguin</td><td>Pygoscelis adeliae)</td><td>Torgersen</td><td>N5A2 </td><td>Yes</td><td>2007-11-09</td><td>42.0</td><td>20.2</td><td>190</td><td>4250</td><td>NA    </td><td>9.13362</td><td>-25.09368</td><td>No blood sample obtained for sexing. </td><td>T</td></tr>\n",
              "\t<tr><td>PAL0708</td><td>11</td><td>Adelie Penguin</td><td>Pygoscelis adeliae)</td><td>Torgersen</td><td>N6A1 </td><td>Yes</td><td>2007-11-09</td><td>37.8</td><td>17.1</td><td>186</td><td>3300</td><td>NA    </td><td>8.63243</td><td>-25.21315</td><td>No blood sample obtained for sexing. </td><td>T</td></tr>\n",
              "\t<tr><td>PAL0708</td><td>12</td><td>Adelie Penguin</td><td>Pygoscelis adeliae)</td><td>Torgersen</td><td>N6A2 </td><td>Yes</td><td>2007-11-09</td><td>37.8</td><td>17.3</td><td>180</td><td>3700</td><td>NA    </td><td>     NA</td><td>       NA</td><td>No blood sample obtained.            </td><td>T</td></tr>\n",
              "\t<tr><td>PAL0708</td><td>13</td><td>Adelie Penguin</td><td>Pygoscelis adeliae)</td><td>Torgersen</td><td>N7A1 </td><td>Yes</td><td>2007-11-15</td><td>41.1</td><td>17.6</td><td>182</td><td>3200</td><td>FEMALE</td><td>     NA</td><td>       NA</td><td>Not enough blood for isotopes.       </td><td>T</td></tr>\n",
              "\t<tr><td>PAL0708</td><td>14</td><td>Adelie Penguin</td><td>Pygoscelis adeliae)</td><td>Torgersen</td><td>N7A2 </td><td>Yes</td><td>2007-11-15</td><td>38.6</td><td>21.2</td><td>191</td><td>3800</td><td>MALE  </td><td>     NA</td><td>       NA</td><td>Not enough blood for isotopes.       </td><td>T</td></tr>\n",
              "\t<tr><td>PAL0708</td><td>15</td><td>Adelie Penguin</td><td>Pygoscelis adeliae)</td><td>Torgersen</td><td>N8A1 </td><td>Yes</td><td>2007-11-16</td><td>34.6</td><td>21.1</td><td>198</td><td>4400</td><td>MALE  </td><td>8.55583</td><td>-25.22588</td><td>NA                                   </td><td>T</td></tr>\n",
              "\t<tr><td>PAL0708</td><td>16</td><td>Adelie Penguin</td><td>Pygoscelis adeliae)</td><td>Torgersen</td><td>N8A2 </td><td>Yes</td><td>2007-11-16</td><td>36.6</td><td>17.8</td><td>185</td><td>3700</td><td>FEMALE</td><td>     NA</td><td>       NA</td><td>Not enough blood for isotopes.       </td><td>T</td></tr>\n",
              "\t<tr><td>PAL0708</td><td>17</td><td>Adelie Penguin</td><td>Pygoscelis adeliae)</td><td>Torgersen</td><td>N9A1 </td><td>Yes</td><td>2007-11-12</td><td>38.7</td><td>19.0</td><td>195</td><td>3450</td><td>FEMALE</td><td>9.18528</td><td>-25.06691</td><td>NA                                   </td><td>T</td></tr>\n",
              "\t<tr><td>PAL0708</td><td>18</td><td>Adelie Penguin</td><td>Pygoscelis adeliae)</td><td>Torgersen</td><td>N9A2 </td><td>Yes</td><td>2007-11-12</td><td>42.5</td><td>20.7</td><td>197</td><td>4500</td><td>MALE  </td><td>8.67538</td><td>-25.13993</td><td>NA                                   </td><td>T</td></tr>\n",
              "\t<tr><td>PAL0708</td><td>19</td><td>Adelie Penguin</td><td>Pygoscelis adeliae)</td><td>Torgersen</td><td>N10A1</td><td>Yes</td><td>2007-11-16</td><td>34.4</td><td>18.4</td><td>184</td><td>3325</td><td>FEMALE</td><td>8.47827</td><td>-25.23319</td><td>NA                                   </td><td>T</td></tr>\n",
              "\t<tr><td>PAL0708</td><td>20</td><td>Adelie Penguin</td><td>Pygoscelis adeliae)</td><td>Torgersen</td><td>N10A2</td><td>Yes</td><td>2007-11-16</td><td>46.0</td><td>21.5</td><td>194</td><td>4200</td><td>MALE  </td><td>9.11616</td><td>-24.77227</td><td>NA                                   </td><td>T</td></tr>\n",
              "\t<tr><td>PAL0708</td><td>21</td><td>Adelie Penguin</td><td>Pygoscelis adeliae)</td><td>Biscoe   </td><td>N11A1</td><td>Yes</td><td>2007-11-12</td><td>37.8</td><td>18.3</td><td>174</td><td>3400</td><td>FEMALE</td><td>8.73762</td><td>-25.09383</td><td>NA                                   </td><td>B</td></tr>\n",
              "\t<tr><td>PAL0708</td><td>22</td><td>Adelie Penguin</td><td>Pygoscelis adeliae)</td><td>Biscoe   </td><td>N11A2</td><td>Yes</td><td>2007-11-12</td><td>37.7</td><td>18.7</td><td>180</td><td>3600</td><td>MALE  </td><td>8.66271</td><td>-25.06390</td><td>NA                                   </td><td>B</td></tr>\n",
              "\t<tr><td>PAL0708</td><td>23</td><td>Adelie Penguin</td><td>Pygoscelis adeliae)</td><td>Biscoe   </td><td>N12A1</td><td>Yes</td><td>2007-11-12</td><td>35.9</td><td>19.2</td><td>189</td><td>3800</td><td>FEMALE</td><td>9.22286</td><td>-25.03474</td><td>NA                                   </td><td>B</td></tr>\n",
              "\t<tr><td>PAL0708</td><td>24</td><td>Adelie Penguin</td><td>Pygoscelis adeliae)</td><td>Biscoe   </td><td>N12A2</td><td>Yes</td><td>2007-11-12</td><td>38.2</td><td>18.1</td><td>185</td><td>3950</td><td>MALE  </td><td>8.43423</td><td>-25.22664</td><td>NA                                   </td><td>B</td></tr>\n",
              "\t<tr><td>PAL0708</td><td>25</td><td>Adelie Penguin</td><td>Pygoscelis adeliae)</td><td>Biscoe   </td><td>N13A1</td><td>Yes</td><td>2007-11-10</td><td>38.8</td><td>17.2</td><td>180</td><td>3800</td><td>MALE  </td><td>9.63954</td><td>-25.29856</td><td>NA                                   </td><td>B</td></tr>\n",
              "\t<tr><td>PAL0708</td><td>26</td><td>Adelie Penguin</td><td>Pygoscelis adeliae)</td><td>Biscoe   </td><td>N13A2</td><td>Yes</td><td>2007-11-10</td><td>35.3</td><td>18.9</td><td>187</td><td>3800</td><td>FEMALE</td><td>9.21292</td><td>-24.36130</td><td>NA                                   </td><td>B</td></tr>\n",
              "\t<tr><td>PAL0708</td><td>27</td><td>Adelie Penguin</td><td>Pygoscelis adeliae)</td><td>Biscoe   </td><td>N17A1</td><td>Yes</td><td>2007-11-12</td><td>40.6</td><td>18.6</td><td>183</td><td>3550</td><td>MALE  </td><td>8.93997</td><td>-25.36288</td><td>NA                                   </td><td>B</td></tr>\n",
              "\t<tr><td>PAL0708</td><td>28</td><td>Adelie Penguin</td><td>Pygoscelis adeliae)</td><td>Biscoe   </td><td>N17A2</td><td>Yes</td><td>2007-11-12</td><td>40.5</td><td>17.9</td><td>187</td><td>3200</td><td>FEMALE</td><td>8.08138</td><td>-25.49448</td><td>NA                                   </td><td>B</td></tr>\n",
              "\t<tr><td>PAL0708</td><td>29</td><td>Adelie Penguin</td><td>Pygoscelis adeliae)</td><td>Biscoe   </td><td>N18A1</td><td>No </td><td>2007-11-10</td><td>37.9</td><td>18.6</td><td>172</td><td>3150</td><td>FEMALE</td><td>8.38404</td><td>-25.19837</td><td>Nest never observed with full clutch.</td><td>B</td></tr>\n",
              "\t<tr><td>PAL0708</td><td>30</td><td>Adelie Penguin</td><td>Pygoscelis adeliae)</td><td>Biscoe   </td><td>N18A2</td><td>No </td><td>2007-11-10</td><td>40.5</td><td>18.9</td><td>180</td><td>3950</td><td>MALE  </td><td>8.90027</td><td>-25.11609</td><td>Nest never observed with full clutch.</td><td>B</td></tr>\n",
              "\t<tr><td>⋮</td><td>⋮</td><td>⋮</td><td>⋮</td><td>⋮</td><td>⋮</td><td>⋮</td><td>⋮</td><td>⋮</td><td>⋮</td><td>⋮</td><td>⋮</td><td>⋮</td><td>⋮</td><td>⋮</td><td>⋮</td><td>⋮</td></tr>\n",
              "\t<tr><td>PAL0809</td><td>39</td><td>Chinstrap penguin</td><td>Pygoscelis antarctica)</td><td>Dream</td><td>N72A1 </td><td>No </td><td>2008-11-24</td><td>46.9</td><td>16.6</td><td>192</td><td>2700</td><td>FEMALE</td><td> 9.80589</td><td>-24.73735</td><td>Nest never observed with full clutch.</td><td>D</td></tr>\n",
              "\t<tr><td>PAL0809</td><td>40</td><td>Chinstrap penguin</td><td>Pygoscelis antarctica)</td><td>Dream</td><td>N72A2 </td><td>No </td><td>2008-11-24</td><td>53.5</td><td>19.9</td><td>205</td><td>4500</td><td>MALE  </td><td>10.02544</td><td>-24.90816</td><td>Nest never observed with full clutch.</td><td>D</td></tr>\n",
              "\t<tr><td>PAL0809</td><td>41</td><td>Chinstrap penguin</td><td>Pygoscelis antarctica)</td><td>Dream</td><td>N74A1 </td><td>Yes</td><td>2008-11-24</td><td>49.0</td><td>19.5</td><td>210</td><td>3950</td><td>MALE  </td><td> 9.53262</td><td>-24.66867</td><td>NA                                   </td><td>D</td></tr>\n",
              "\t<tr><td>PAL0809</td><td>42</td><td>Chinstrap penguin</td><td>Pygoscelis antarctica)</td><td>Dream</td><td>N74A2 </td><td>Yes</td><td>2008-11-24</td><td>46.2</td><td>17.5</td><td>187</td><td>3650</td><td>FEMALE</td><td> 9.61734</td><td>-24.66188</td><td>NA                                   </td><td>D</td></tr>\n",
              "\t<tr><td>PAL0809</td><td>43</td><td>Chinstrap penguin</td><td>Pygoscelis antarctica)</td><td>Dream</td><td>N75A1 </td><td>Yes</td><td>2008-11-14</td><td>50.9</td><td>19.1</td><td>196</td><td>3550</td><td>MALE  </td><td>10.02372</td><td>-24.86594</td><td>NA                                   </td><td>D</td></tr>\n",
              "\t<tr><td>PAL0809</td><td>44</td><td>Chinstrap penguin</td><td>Pygoscelis antarctica)</td><td>Dream</td><td>N75A2 </td><td>Yes</td><td>2008-11-14</td><td>45.5</td><td>17.0</td><td>196</td><td>3500</td><td>FEMALE</td><td> 9.36493</td><td>-24.66259</td><td>NA                                   </td><td>D</td></tr>\n",
              "\t<tr><td>PAL0910</td><td>45</td><td>Chinstrap penguin</td><td>Pygoscelis antarctica)</td><td>Dream</td><td>N86A1 </td><td>Yes</td><td>2009-11-17</td><td>50.9</td><td>17.9</td><td>196</td><td>3675</td><td>FEMALE</td><td> 9.43684</td><td>-24.16566</td><td>NA                                   </td><td>D</td></tr>\n",
              "\t<tr><td>PAL0910</td><td>46</td><td>Chinstrap penguin</td><td>Pygoscelis antarctica)</td><td>Dream</td><td>N86A2 </td><td>Yes</td><td>2009-11-17</td><td>50.8</td><td>18.5</td><td>201</td><td>4450</td><td>MALE  </td><td> 9.45827</td><td>-24.35575</td><td>NA                                   </td><td>D</td></tr>\n",
              "\t<tr><td>PAL0910</td><td>47</td><td>Chinstrap penguin</td><td>Pygoscelis antarctica)</td><td>Dream</td><td>N87A1 </td><td>Yes</td><td>2009-11-27</td><td>50.1</td><td>17.9</td><td>190</td><td>3400</td><td>FEMALE</td><td> 9.46819</td><td>-24.45721</td><td>NA                                   </td><td>D</td></tr>\n",
              "\t<tr><td>PAL0910</td><td>48</td><td>Chinstrap penguin</td><td>Pygoscelis antarctica)</td><td>Dream</td><td>N87A2 </td><td>Yes</td><td>2009-11-27</td><td>49.0</td><td>19.6</td><td>212</td><td>4300</td><td>MALE  </td><td> 9.34089</td><td>-24.45189</td><td>NA                                   </td><td>D</td></tr>\n",
              "\t<tr><td>PAL0910</td><td>49</td><td>Chinstrap penguin</td><td>Pygoscelis antarctica)</td><td>Dream</td><td>N88A1 </td><td>Yes</td><td>2009-11-23</td><td>51.5</td><td>18.7</td><td>187</td><td>3250</td><td>MALE  </td><td> 9.68950</td><td>-24.43062</td><td>NA                                   </td><td>D</td></tr>\n",
              "\t<tr><td>PAL0910</td><td>50</td><td>Chinstrap penguin</td><td>Pygoscelis antarctica)</td><td>Dream</td><td>N88A2 </td><td>Yes</td><td>2009-11-23</td><td>49.8</td><td>17.3</td><td>198</td><td>3675</td><td>FEMALE</td><td> 9.32169</td><td>-24.41562</td><td>NA                                   </td><td>D</td></tr>\n",
              "\t<tr><td>PAL0910</td><td>51</td><td>Chinstrap penguin</td><td>Pygoscelis antarctica)</td><td>Dream</td><td>N90A1 </td><td>Yes</td><td>2009-11-21</td><td>48.1</td><td>16.4</td><td>199</td><td>3325</td><td>FEMALE</td><td> 9.46929</td><td>-24.48403</td><td>NA                                   </td><td>D</td></tr>\n",
              "\t<tr><td>PAL0910</td><td>52</td><td>Chinstrap penguin</td><td>Pygoscelis antarctica)</td><td>Dream</td><td>N90A2 </td><td>Yes</td><td>2009-11-21</td><td>51.4</td><td>19.0</td><td>201</td><td>3950</td><td>MALE  </td><td> 9.43782</td><td>-24.36202</td><td>NA                                   </td><td>D</td></tr>\n",
              "\t<tr><td>PAL0910</td><td>53</td><td>Chinstrap penguin</td><td>Pygoscelis antarctica)</td><td>Dream</td><td>N92A1 </td><td>Yes</td><td>2009-11-23</td><td>45.7</td><td>17.3</td><td>193</td><td>3600</td><td>FEMALE</td><td> 9.41500</td><td>-24.80500</td><td>NA                                   </td><td>D</td></tr>\n",
              "\t<tr><td>PAL0910</td><td>54</td><td>Chinstrap penguin</td><td>Pygoscelis antarctica)</td><td>Dream</td><td>N92A2 </td><td>Yes</td><td>2009-11-23</td><td>50.7</td><td>19.7</td><td>203</td><td>4050</td><td>MALE  </td><td> 9.93727</td><td>-24.59066</td><td>NA                                   </td><td>D</td></tr>\n",
              "\t<tr><td>PAL0910</td><td>55</td><td>Chinstrap penguin</td><td>Pygoscelis antarctica)</td><td>Dream</td><td>N93A1 </td><td>Yes</td><td>2009-11-27</td><td>42.5</td><td>17.3</td><td>187</td><td>3350</td><td>FEMALE</td><td> 9.56534</td><td>-24.60882</td><td>NA                                   </td><td>D</td></tr>\n",
              "\t<tr><td>PAL0910</td><td>56</td><td>Chinstrap penguin</td><td>Pygoscelis antarctica)</td><td>Dream</td><td>N93A2 </td><td>Yes</td><td>2009-11-27</td><td>52.2</td><td>18.8</td><td>197</td><td>3450</td><td>MALE  </td><td> 9.77528</td><td>-24.56481</td><td>NA                                   </td><td>D</td></tr>\n",
              "\t<tr><td>PAL0910</td><td>57</td><td>Chinstrap penguin</td><td>Pygoscelis antarctica)</td><td>Dream</td><td>N94A1 </td><td>Yes</td><td>2009-11-21</td><td>45.2</td><td>16.6</td><td>191</td><td>3250</td><td>FEMALE</td><td> 9.62357</td><td>-24.78984</td><td>NA                                   </td><td>D</td></tr>\n",
              "\t<tr><td>PAL0910</td><td>58</td><td>Chinstrap penguin</td><td>Pygoscelis antarctica)</td><td>Dream</td><td>N94A2 </td><td>Yes</td><td>2009-11-21</td><td>49.3</td><td>19.9</td><td>203</td><td>4050</td><td>MALE  </td><td> 9.88809</td><td>-24.59513</td><td>NA                                   </td><td>D</td></tr>\n",
              "\t<tr><td>PAL0910</td><td>59</td><td>Chinstrap penguin</td><td>Pygoscelis antarctica)</td><td>Dream</td><td>N95A1 </td><td>Yes</td><td>2009-11-21</td><td>50.2</td><td>18.8</td><td>202</td><td>3800</td><td>MALE  </td><td> 9.74492</td><td>-24.40400</td><td>NA                                   </td><td>D</td></tr>\n",
              "\t<tr><td>PAL0910</td><td>60</td><td>Chinstrap penguin</td><td>Pygoscelis antarctica)</td><td>Dream</td><td>N95A2 </td><td>Yes</td><td>2009-11-21</td><td>45.6</td><td>19.4</td><td>194</td><td>3525</td><td>FEMALE</td><td> 9.46985</td><td>-24.65786</td><td>NA                                   </td><td>D</td></tr>\n",
              "\t<tr><td>PAL0910</td><td>61</td><td>Chinstrap penguin</td><td>Pygoscelis antarctica)</td><td>Dream</td><td>N96A1 </td><td>Yes</td><td>2009-11-27</td><td>51.9</td><td>19.5</td><td>206</td><td>3950</td><td>MALE  </td><td>      NA</td><td>-23.78767</td><td>No delta15N data received from lab.  </td><td>D</td></tr>\n",
              "\t<tr><td>PAL0910</td><td>62</td><td>Chinstrap penguin</td><td>Pygoscelis antarctica)</td><td>Dream</td><td>N96A2 </td><td>Yes</td><td>2009-11-27</td><td>46.8</td><td>16.5</td><td>189</td><td>3650</td><td>FEMALE</td><td> 9.65061</td><td>-24.48153</td><td>NA                                   </td><td>D</td></tr>\n",
              "\t<tr><td>PAL0910</td><td>63</td><td>Chinstrap penguin</td><td>Pygoscelis antarctica)</td><td>Dream</td><td>N98A1 </td><td>Yes</td><td>2009-11-19</td><td>45.7</td><td>17.0</td><td>195</td><td>3650</td><td>FEMALE</td><td> 9.26715</td><td>-24.31912</td><td>NA                                   </td><td>D</td></tr>\n",
              "\t<tr><td>PAL0910</td><td>64</td><td>Chinstrap penguin</td><td>Pygoscelis antarctica)</td><td>Dream</td><td>N98A2 </td><td>Yes</td><td>2009-11-19</td><td>55.8</td><td>19.8</td><td>207</td><td>4000</td><td>MALE  </td><td> 9.70465</td><td>-24.53494</td><td>NA                                   </td><td>D</td></tr>\n",
              "\t<tr><td>PAL0910</td><td>65</td><td>Chinstrap penguin</td><td>Pygoscelis antarctica)</td><td>Dream</td><td>N99A1 </td><td>No </td><td>2009-11-21</td><td>43.5</td><td>18.1</td><td>202</td><td>3400</td><td>FEMALE</td><td> 9.37608</td><td>-24.40753</td><td>Nest never observed with full clutch.</td><td>D</td></tr>\n",
              "\t<tr><td>PAL0910</td><td>66</td><td>Chinstrap penguin</td><td>Pygoscelis antarctica)</td><td>Dream</td><td>N99A2 </td><td>No </td><td>2009-11-21</td><td>49.6</td><td>18.2</td><td>193</td><td>3775</td><td>MALE  </td><td> 9.46180</td><td>-24.70615</td><td>Nest never observed with full clutch.</td><td>D</td></tr>\n",
              "\t<tr><td>PAL0910</td><td>67</td><td>Chinstrap penguin</td><td>Pygoscelis antarctica)</td><td>Dream</td><td>N100A1</td><td>Yes</td><td>2009-11-21</td><td>50.8</td><td>19.0</td><td>210</td><td>4100</td><td>MALE  </td><td> 9.98044</td><td>-24.68741</td><td>NA                                   </td><td>D</td></tr>\n",
              "\t<tr><td>PAL0910</td><td>68</td><td>Chinstrap penguin</td><td>Pygoscelis antarctica)</td><td>Dream</td><td>N100A2</td><td>Yes</td><td>2009-11-21</td><td>50.2</td><td>18.7</td><td>198</td><td>3775</td><td>FEMALE</td><td> 9.39305</td><td>-24.25255</td><td>NA                                   </td><td>D</td></tr>\n",
              "</tbody>\n",
              "</table>\n"
            ]
          },
          "metadata": {
            "tags": []
          }
        }
      ]
    },
    {
      "cell_type": "markdown",
      "metadata": {
        "id": "ZSN8J25MO8E7"
      },
      "source": [
        "With `case_when` you can also mix different variables making this a very powerful tool!"
      ]
    },
    {
      "cell_type": "markdown",
      "metadata": {
        "id": "6a3f49a8"
      },
      "source": [
        "\n",
        "\n",
        "### `rename()`\n",
        "\n",
        "\n",
        "\n",
        "Just changes the variable name but leaves all else intact:\n"
      ]
    },
    {
      "cell_type": "code",
      "metadata": {
        "lines_to_next_cell": 0,
        "id": "301b8da3",
        "colab": {
          "base_uri": "https://localhost:8080/",
          "height": 1000
        },
        "outputId": "0b1c15b0-8df5-4b1c-dc2b-3e27942ddfa9"
      },
      "source": [
        "rename(penguins_clean, sample = sample_number)"
      ],
      "execution_count": null,
      "outputs": [
        {
          "output_type": "display_data",
          "data": {
            "text/plain": [
              "    study_name sample species           latin_name             island   \n",
              "1   PAL0708     1     Adelie Penguin    Pygoscelis adeliae)    Torgersen\n",
              "2   PAL0708     2     Adelie Penguin    Pygoscelis adeliae)    Torgersen\n",
              "3   PAL0708     3     Adelie Penguin    Pygoscelis adeliae)    Torgersen\n",
              "4   PAL0708     4     Adelie Penguin    Pygoscelis adeliae)    Torgersen\n",
              "5   PAL0708     5     Adelie Penguin    Pygoscelis adeliae)    Torgersen\n",
              "6   PAL0708     6     Adelie Penguin    Pygoscelis adeliae)    Torgersen\n",
              "7   PAL0708     7     Adelie Penguin    Pygoscelis adeliae)    Torgersen\n",
              "8   PAL0708     8     Adelie Penguin    Pygoscelis adeliae)    Torgersen\n",
              "9   PAL0708     9     Adelie Penguin    Pygoscelis adeliae)    Torgersen\n",
              "10  PAL0708    10     Adelie Penguin    Pygoscelis adeliae)    Torgersen\n",
              "11  PAL0708    11     Adelie Penguin    Pygoscelis adeliae)    Torgersen\n",
              "12  PAL0708    12     Adelie Penguin    Pygoscelis adeliae)    Torgersen\n",
              "13  PAL0708    13     Adelie Penguin    Pygoscelis adeliae)    Torgersen\n",
              "14  PAL0708    14     Adelie Penguin    Pygoscelis adeliae)    Torgersen\n",
              "15  PAL0708    15     Adelie Penguin    Pygoscelis adeliae)    Torgersen\n",
              "16  PAL0708    16     Adelie Penguin    Pygoscelis adeliae)    Torgersen\n",
              "17  PAL0708    17     Adelie Penguin    Pygoscelis adeliae)    Torgersen\n",
              "18  PAL0708    18     Adelie Penguin    Pygoscelis adeliae)    Torgersen\n",
              "19  PAL0708    19     Adelie Penguin    Pygoscelis adeliae)    Torgersen\n",
              "20  PAL0708    20     Adelie Penguin    Pygoscelis adeliae)    Torgersen\n",
              "21  PAL0708    21     Adelie Penguin    Pygoscelis adeliae)    Biscoe   \n",
              "22  PAL0708    22     Adelie Penguin    Pygoscelis adeliae)    Biscoe   \n",
              "23  PAL0708    23     Adelie Penguin    Pygoscelis adeliae)    Biscoe   \n",
              "24  PAL0708    24     Adelie Penguin    Pygoscelis adeliae)    Biscoe   \n",
              "25  PAL0708    25     Adelie Penguin    Pygoscelis adeliae)    Biscoe   \n",
              "26  PAL0708    26     Adelie Penguin    Pygoscelis adeliae)    Biscoe   \n",
              "27  PAL0708    27     Adelie Penguin    Pygoscelis adeliae)    Biscoe   \n",
              "28  PAL0708    28     Adelie Penguin    Pygoscelis adeliae)    Biscoe   \n",
              "29  PAL0708    29     Adelie Penguin    Pygoscelis adeliae)    Biscoe   \n",
              "30  PAL0708    30     Adelie Penguin    Pygoscelis adeliae)    Biscoe   \n",
              "⋮   ⋮          ⋮      ⋮                 ⋮                      ⋮        \n",
              "315 PAL0809    39     Chinstrap penguin Pygoscelis antarctica) Dream    \n",
              "316 PAL0809    40     Chinstrap penguin Pygoscelis antarctica) Dream    \n",
              "317 PAL0809    41     Chinstrap penguin Pygoscelis antarctica) Dream    \n",
              "318 PAL0809    42     Chinstrap penguin Pygoscelis antarctica) Dream    \n",
              "319 PAL0809    43     Chinstrap penguin Pygoscelis antarctica) Dream    \n",
              "320 PAL0809    44     Chinstrap penguin Pygoscelis antarctica) Dream    \n",
              "321 PAL0910    45     Chinstrap penguin Pygoscelis antarctica) Dream    \n",
              "322 PAL0910    46     Chinstrap penguin Pygoscelis antarctica) Dream    \n",
              "323 PAL0910    47     Chinstrap penguin Pygoscelis antarctica) Dream    \n",
              "324 PAL0910    48     Chinstrap penguin Pygoscelis antarctica) Dream    \n",
              "325 PAL0910    49     Chinstrap penguin Pygoscelis antarctica) Dream    \n",
              "326 PAL0910    50     Chinstrap penguin Pygoscelis antarctica) Dream    \n",
              "327 PAL0910    51     Chinstrap penguin Pygoscelis antarctica) Dream    \n",
              "328 PAL0910    52     Chinstrap penguin Pygoscelis antarctica) Dream    \n",
              "329 PAL0910    53     Chinstrap penguin Pygoscelis antarctica) Dream    \n",
              "330 PAL0910    54     Chinstrap penguin Pygoscelis antarctica) Dream    \n",
              "331 PAL0910    55     Chinstrap penguin Pygoscelis antarctica) Dream    \n",
              "332 PAL0910    56     Chinstrap penguin Pygoscelis antarctica) Dream    \n",
              "333 PAL0910    57     Chinstrap penguin Pygoscelis antarctica) Dream    \n",
              "334 PAL0910    58     Chinstrap penguin Pygoscelis antarctica) Dream    \n",
              "335 PAL0910    59     Chinstrap penguin Pygoscelis antarctica) Dream    \n",
              "336 PAL0910    60     Chinstrap penguin Pygoscelis antarctica) Dream    \n",
              "337 PAL0910    61     Chinstrap penguin Pygoscelis antarctica) Dream    \n",
              "338 PAL0910    62     Chinstrap penguin Pygoscelis antarctica) Dream    \n",
              "339 PAL0910    63     Chinstrap penguin Pygoscelis antarctica) Dream    \n",
              "340 PAL0910    64     Chinstrap penguin Pygoscelis antarctica) Dream    \n",
              "341 PAL0910    65     Chinstrap penguin Pygoscelis antarctica) Dream    \n",
              "342 PAL0910    66     Chinstrap penguin Pygoscelis antarctica) Dream    \n",
              "343 PAL0910    67     Chinstrap penguin Pygoscelis antarctica) Dream    \n",
              "344 PAL0910    68     Chinstrap penguin Pygoscelis antarctica) Dream    \n",
              "    individual_id clutch_completion date_egg   culmen_length_mm culmen_depth_mm\n",
              "1   N1A1          Yes               2007-11-11 39.1             18.7           \n",
              "2   N1A2          Yes               2007-11-11 39.5             17.4           \n",
              "3   N2A1          Yes               2007-11-16 40.3             18.0           \n",
              "4   N2A2          Yes               2007-11-16   NA               NA           \n",
              "5   N3A1          Yes               2007-11-16 36.7             19.3           \n",
              "6   N3A2          Yes               2007-11-16 39.3             20.6           \n",
              "7   N4A1          No                2007-11-15 38.9             17.8           \n",
              "8   N4A2          No                2007-11-15 39.2             19.6           \n",
              "9   N5A1          Yes               2007-11-09 34.1             18.1           \n",
              "10  N5A2          Yes               2007-11-09 42.0             20.2           \n",
              "11  N6A1          Yes               2007-11-09 37.8             17.1           \n",
              "12  N6A2          Yes               2007-11-09 37.8             17.3           \n",
              "13  N7A1          Yes               2007-11-15 41.1             17.6           \n",
              "14  N7A2          Yes               2007-11-15 38.6             21.2           \n",
              "15  N8A1          Yes               2007-11-16 34.6             21.1           \n",
              "16  N8A2          Yes               2007-11-16 36.6             17.8           \n",
              "17  N9A1          Yes               2007-11-12 38.7             19.0           \n",
              "18  N9A2          Yes               2007-11-12 42.5             20.7           \n",
              "19  N10A1         Yes               2007-11-16 34.4             18.4           \n",
              "20  N10A2         Yes               2007-11-16 46.0             21.5           \n",
              "21  N11A1         Yes               2007-11-12 37.8             18.3           \n",
              "22  N11A2         Yes               2007-11-12 37.7             18.7           \n",
              "23  N12A1         Yes               2007-11-12 35.9             19.2           \n",
              "24  N12A2         Yes               2007-11-12 38.2             18.1           \n",
              "25  N13A1         Yes               2007-11-10 38.8             17.2           \n",
              "26  N13A2         Yes               2007-11-10 35.3             18.9           \n",
              "27  N17A1         Yes               2007-11-12 40.6             18.6           \n",
              "28  N17A2         Yes               2007-11-12 40.5             17.9           \n",
              "29  N18A1         No                2007-11-10 37.9             18.6           \n",
              "30  N18A2         No                2007-11-10 40.5             18.9           \n",
              "⋮   ⋮             ⋮                 ⋮          ⋮                ⋮              \n",
              "315 N72A1         No                2008-11-24 46.9             16.6           \n",
              "316 N72A2         No                2008-11-24 53.5             19.9           \n",
              "317 N74A1         Yes               2008-11-24 49.0             19.5           \n",
              "318 N74A2         Yes               2008-11-24 46.2             17.5           \n",
              "319 N75A1         Yes               2008-11-14 50.9             19.1           \n",
              "320 N75A2         Yes               2008-11-14 45.5             17.0           \n",
              "321 N86A1         Yes               2009-11-17 50.9             17.9           \n",
              "322 N86A2         Yes               2009-11-17 50.8             18.5           \n",
              "323 N87A1         Yes               2009-11-27 50.1             17.9           \n",
              "324 N87A2         Yes               2009-11-27 49.0             19.6           \n",
              "325 N88A1         Yes               2009-11-23 51.5             18.7           \n",
              "326 N88A2         Yes               2009-11-23 49.8             17.3           \n",
              "327 N90A1         Yes               2009-11-21 48.1             16.4           \n",
              "328 N90A2         Yes               2009-11-21 51.4             19.0           \n",
              "329 N92A1         Yes               2009-11-23 45.7             17.3           \n",
              "330 N92A2         Yes               2009-11-23 50.7             19.7           \n",
              "331 N93A1         Yes               2009-11-27 42.5             17.3           \n",
              "332 N93A2         Yes               2009-11-27 52.2             18.8           \n",
              "333 N94A1         Yes               2009-11-21 45.2             16.6           \n",
              "334 N94A2         Yes               2009-11-21 49.3             19.9           \n",
              "335 N95A1         Yes               2009-11-21 50.2             18.8           \n",
              "336 N95A2         Yes               2009-11-21 45.6             19.4           \n",
              "337 N96A1         Yes               2009-11-27 51.9             19.5           \n",
              "338 N96A2         Yes               2009-11-27 46.8             16.5           \n",
              "339 N98A1         Yes               2009-11-19 45.7             17.0           \n",
              "340 N98A2         Yes               2009-11-19 55.8             19.8           \n",
              "341 N99A1         No                2009-11-21 43.5             18.1           \n",
              "342 N99A2         No                2009-11-21 49.6             18.2           \n",
              "343 N100A1        Yes               2009-11-21 50.8             19.0           \n",
              "344 N100A2        Yes               2009-11-21 50.2             18.7           \n",
              "    flipper_length_mm body_mass_g sex    delta_15_n_o_oo delta_13_c_o_oo\n",
              "1   181               3750        MALE        NA                NA      \n",
              "2   186               3800        FEMALE 8.94956         -24.69454      \n",
              "3   195               3250        FEMALE 8.36821         -25.33302      \n",
              "4    NA                 NA        NA          NA                NA      \n",
              "5   193               3450        FEMALE 8.76651         -25.32426      \n",
              "6   190               3650        MALE   8.66496         -25.29805      \n",
              "7   181               3625        FEMALE 9.18718         -25.21799      \n",
              "8   195               4675        MALE   9.46060         -24.89958      \n",
              "9   193               3475        NA          NA                NA      \n",
              "10  190               4250        NA     9.13362         -25.09368      \n",
              "11  186               3300        NA     8.63243         -25.21315      \n",
              "12  180               3700        NA          NA                NA      \n",
              "13  182               3200        FEMALE      NA                NA      \n",
              "14  191               3800        MALE        NA                NA      \n",
              "15  198               4400        MALE   8.55583         -25.22588      \n",
              "16  185               3700        FEMALE      NA                NA      \n",
              "17  195               3450        FEMALE 9.18528         -25.06691      \n",
              "18  197               4500        MALE   8.67538         -25.13993      \n",
              "19  184               3325        FEMALE 8.47827         -25.23319      \n",
              "20  194               4200        MALE   9.11616         -24.77227      \n",
              "21  174               3400        FEMALE 8.73762         -25.09383      \n",
              "22  180               3600        MALE   8.66271         -25.06390      \n",
              "23  189               3800        FEMALE 9.22286         -25.03474      \n",
              "24  185               3950        MALE   8.43423         -25.22664      \n",
              "25  180               3800        MALE   9.63954         -25.29856      \n",
              "26  187               3800        FEMALE 9.21292         -24.36130      \n",
              "27  183               3550        MALE   8.93997         -25.36288      \n",
              "28  187               3200        FEMALE 8.08138         -25.49448      \n",
              "29  172               3150        FEMALE 8.38404         -25.19837      \n",
              "30  180               3950        MALE   8.90027         -25.11609      \n",
              "⋮   ⋮                 ⋮           ⋮      ⋮               ⋮              \n",
              "315 192               2700        FEMALE  9.80589        -24.73735      \n",
              "316 205               4500        MALE   10.02544        -24.90816      \n",
              "317 210               3950        MALE    9.53262        -24.66867      \n",
              "318 187               3650        FEMALE  9.61734        -24.66188      \n",
              "319 196               3550        MALE   10.02372        -24.86594      \n",
              "320 196               3500        FEMALE  9.36493        -24.66259      \n",
              "321 196               3675        FEMALE  9.43684        -24.16566      \n",
              "322 201               4450        MALE    9.45827        -24.35575      \n",
              "323 190               3400        FEMALE  9.46819        -24.45721      \n",
              "324 212               4300        MALE    9.34089        -24.45189      \n",
              "325 187               3250        MALE    9.68950        -24.43062      \n",
              "326 198               3675        FEMALE  9.32169        -24.41562      \n",
              "327 199               3325        FEMALE  9.46929        -24.48403      \n",
              "328 201               3950        MALE    9.43782        -24.36202      \n",
              "329 193               3600        FEMALE  9.41500        -24.80500      \n",
              "330 203               4050        MALE    9.93727        -24.59066      \n",
              "331 187               3350        FEMALE  9.56534        -24.60882      \n",
              "332 197               3450        MALE    9.77528        -24.56481      \n",
              "333 191               3250        FEMALE  9.62357        -24.78984      \n",
              "334 203               4050        MALE    9.88809        -24.59513      \n",
              "335 202               3800        MALE    9.74492        -24.40400      \n",
              "336 194               3525        FEMALE  9.46985        -24.65786      \n",
              "337 206               3950        MALE         NA        -23.78767      \n",
              "338 189               3650        FEMALE  9.65061        -24.48153      \n",
              "339 195               3650        FEMALE  9.26715        -24.31912      \n",
              "340 207               4000        MALE    9.70465        -24.53494      \n",
              "341 202               3400        FEMALE  9.37608        -24.40753      \n",
              "342 193               3775        MALE    9.46180        -24.70615      \n",
              "343 210               4100        MALE    9.98044        -24.68741      \n",
              "344 198               3775        FEMALE  9.39305        -24.25255      \n",
              "    comments                             \n",
              "1   Not enough blood for isotopes.       \n",
              "2   NA                                   \n",
              "3   NA                                   \n",
              "4   Adult not sampled.                   \n",
              "5   NA                                   \n",
              "6   NA                                   \n",
              "7   Nest never observed with full clutch.\n",
              "8   Nest never observed with full clutch.\n",
              "9   No blood sample obtained.            \n",
              "10  No blood sample obtained for sexing. \n",
              "11  No blood sample obtained for sexing. \n",
              "12  No blood sample obtained.            \n",
              "13  Not enough blood for isotopes.       \n",
              "14  Not enough blood for isotopes.       \n",
              "15  NA                                   \n",
              "16  Not enough blood for isotopes.       \n",
              "17  NA                                   \n",
              "18  NA                                   \n",
              "19  NA                                   \n",
              "20  NA                                   \n",
              "21  NA                                   \n",
              "22  NA                                   \n",
              "23  NA                                   \n",
              "24  NA                                   \n",
              "25  NA                                   \n",
              "26  NA                                   \n",
              "27  NA                                   \n",
              "28  NA                                   \n",
              "29  Nest never observed with full clutch.\n",
              "30  Nest never observed with full clutch.\n",
              "⋮   ⋮                                    \n",
              "315 Nest never observed with full clutch.\n",
              "316 Nest never observed with full clutch.\n",
              "317 NA                                   \n",
              "318 NA                                   \n",
              "319 NA                                   \n",
              "320 NA                                   \n",
              "321 NA                                   \n",
              "322 NA                                   \n",
              "323 NA                                   \n",
              "324 NA                                   \n",
              "325 NA                                   \n",
              "326 NA                                   \n",
              "327 NA                                   \n",
              "328 NA                                   \n",
              "329 NA                                   \n",
              "330 NA                                   \n",
              "331 NA                                   \n",
              "332 NA                                   \n",
              "333 NA                                   \n",
              "334 NA                                   \n",
              "335 NA                                   \n",
              "336 NA                                   \n",
              "337 No delta15N data received from lab.  \n",
              "338 NA                                   \n",
              "339 NA                                   \n",
              "340 NA                                   \n",
              "341 Nest never observed with full clutch.\n",
              "342 Nest never observed with full clutch.\n",
              "343 NA                                   \n",
              "344 NA                                   "
            ],
            "text/latex": "A tibble: 344 × 16\n\\begin{tabular}{llllllllllllllll}\n study\\_name & sample & species & latin\\_name & island & individual\\_id & clutch\\_completion & date\\_egg & culmen\\_length\\_mm & culmen\\_depth\\_mm & flipper\\_length\\_mm & body\\_mass\\_g & sex & delta\\_15\\_n\\_o\\_oo & delta\\_13\\_c\\_o\\_oo & comments\\\\\n <chr> & <dbl> & <chr> & <chr> & <chr> & <chr> & <chr> & <date> & <dbl> & <dbl> & <dbl> & <dbl> & <chr> & <dbl> & <dbl> & <chr>\\\\\n\\hline\n\t PAL0708 &  1 & Adelie Penguin & Pygoscelis adeliae) & Torgersen & N1A1  & Yes & 2007-11-11 & 39.1 & 18.7 & 181 & 3750 & MALE   &      NA &        NA & Not enough blood for isotopes.       \\\\\n\t PAL0708 &  2 & Adelie Penguin & Pygoscelis adeliae) & Torgersen & N1A2  & Yes & 2007-11-11 & 39.5 & 17.4 & 186 & 3800 & FEMALE & 8.94956 & -24.69454 & NA                                   \\\\\n\t PAL0708 &  3 & Adelie Penguin & Pygoscelis adeliae) & Torgersen & N2A1  & Yes & 2007-11-16 & 40.3 & 18.0 & 195 & 3250 & FEMALE & 8.36821 & -25.33302 & NA                                   \\\\\n\t PAL0708 &  4 & Adelie Penguin & Pygoscelis adeliae) & Torgersen & N2A2  & Yes & 2007-11-16 &   NA &   NA &  NA &   NA & NA     &      NA &        NA & Adult not sampled.                   \\\\\n\t PAL0708 &  5 & Adelie Penguin & Pygoscelis adeliae) & Torgersen & N3A1  & Yes & 2007-11-16 & 36.7 & 19.3 & 193 & 3450 & FEMALE & 8.76651 & -25.32426 & NA                                   \\\\\n\t PAL0708 &  6 & Adelie Penguin & Pygoscelis adeliae) & Torgersen & N3A2  & Yes & 2007-11-16 & 39.3 & 20.6 & 190 & 3650 & MALE   & 8.66496 & -25.29805 & NA                                   \\\\\n\t PAL0708 &  7 & Adelie Penguin & Pygoscelis adeliae) & Torgersen & N4A1  & No  & 2007-11-15 & 38.9 & 17.8 & 181 & 3625 & FEMALE & 9.18718 & -25.21799 & Nest never observed with full clutch.\\\\\n\t PAL0708 &  8 & Adelie Penguin & Pygoscelis adeliae) & Torgersen & N4A2  & No  & 2007-11-15 & 39.2 & 19.6 & 195 & 4675 & MALE   & 9.46060 & -24.89958 & Nest never observed with full clutch.\\\\\n\t PAL0708 &  9 & Adelie Penguin & Pygoscelis adeliae) & Torgersen & N5A1  & Yes & 2007-11-09 & 34.1 & 18.1 & 193 & 3475 & NA     &      NA &        NA & No blood sample obtained.            \\\\\n\t PAL0708 & 10 & Adelie Penguin & Pygoscelis adeliae) & Torgersen & N5A2  & Yes & 2007-11-09 & 42.0 & 20.2 & 190 & 4250 & NA     & 9.13362 & -25.09368 & No blood sample obtained for sexing. \\\\\n\t PAL0708 & 11 & Adelie Penguin & Pygoscelis adeliae) & Torgersen & N6A1  & Yes & 2007-11-09 & 37.8 & 17.1 & 186 & 3300 & NA     & 8.63243 & -25.21315 & No blood sample obtained for sexing. \\\\\n\t PAL0708 & 12 & Adelie Penguin & Pygoscelis adeliae) & Torgersen & N6A2  & Yes & 2007-11-09 & 37.8 & 17.3 & 180 & 3700 & NA     &      NA &        NA & No blood sample obtained.            \\\\\n\t PAL0708 & 13 & Adelie Penguin & Pygoscelis adeliae) & Torgersen & N7A1  & Yes & 2007-11-15 & 41.1 & 17.6 & 182 & 3200 & FEMALE &      NA &        NA & Not enough blood for isotopes.       \\\\\n\t PAL0708 & 14 & Adelie Penguin & Pygoscelis adeliae) & Torgersen & N7A2  & Yes & 2007-11-15 & 38.6 & 21.2 & 191 & 3800 & MALE   &      NA &        NA & Not enough blood for isotopes.       \\\\\n\t PAL0708 & 15 & Adelie Penguin & Pygoscelis adeliae) & Torgersen & N8A1  & Yes & 2007-11-16 & 34.6 & 21.1 & 198 & 4400 & MALE   & 8.55583 & -25.22588 & NA                                   \\\\\n\t PAL0708 & 16 & Adelie Penguin & Pygoscelis adeliae) & Torgersen & N8A2  & Yes & 2007-11-16 & 36.6 & 17.8 & 185 & 3700 & FEMALE &      NA &        NA & Not enough blood for isotopes.       \\\\\n\t PAL0708 & 17 & Adelie Penguin & Pygoscelis adeliae) & Torgersen & N9A1  & Yes & 2007-11-12 & 38.7 & 19.0 & 195 & 3450 & FEMALE & 9.18528 & -25.06691 & NA                                   \\\\\n\t PAL0708 & 18 & Adelie Penguin & Pygoscelis adeliae) & Torgersen & N9A2  & Yes & 2007-11-12 & 42.5 & 20.7 & 197 & 4500 & MALE   & 8.67538 & -25.13993 & NA                                   \\\\\n\t PAL0708 & 19 & Adelie Penguin & Pygoscelis adeliae) & Torgersen & N10A1 & Yes & 2007-11-16 & 34.4 & 18.4 & 184 & 3325 & FEMALE & 8.47827 & -25.23319 & NA                                   \\\\\n\t PAL0708 & 20 & Adelie Penguin & Pygoscelis adeliae) & Torgersen & N10A2 & Yes & 2007-11-16 & 46.0 & 21.5 & 194 & 4200 & MALE   & 9.11616 & -24.77227 & NA                                   \\\\\n\t PAL0708 & 21 & Adelie Penguin & Pygoscelis adeliae) & Biscoe    & N11A1 & Yes & 2007-11-12 & 37.8 & 18.3 & 174 & 3400 & FEMALE & 8.73762 & -25.09383 & NA                                   \\\\\n\t PAL0708 & 22 & Adelie Penguin & Pygoscelis adeliae) & Biscoe    & N11A2 & Yes & 2007-11-12 & 37.7 & 18.7 & 180 & 3600 & MALE   & 8.66271 & -25.06390 & NA                                   \\\\\n\t PAL0708 & 23 & Adelie Penguin & Pygoscelis adeliae) & Biscoe    & N12A1 & Yes & 2007-11-12 & 35.9 & 19.2 & 189 & 3800 & FEMALE & 9.22286 & -25.03474 & NA                                   \\\\\n\t PAL0708 & 24 & Adelie Penguin & Pygoscelis adeliae) & Biscoe    & N12A2 & Yes & 2007-11-12 & 38.2 & 18.1 & 185 & 3950 & MALE   & 8.43423 & -25.22664 & NA                                   \\\\\n\t PAL0708 & 25 & Adelie Penguin & Pygoscelis adeliae) & Biscoe    & N13A1 & Yes & 2007-11-10 & 38.8 & 17.2 & 180 & 3800 & MALE   & 9.63954 & -25.29856 & NA                                   \\\\\n\t PAL0708 & 26 & Adelie Penguin & Pygoscelis adeliae) & Biscoe    & N13A2 & Yes & 2007-11-10 & 35.3 & 18.9 & 187 & 3800 & FEMALE & 9.21292 & -24.36130 & NA                                   \\\\\n\t PAL0708 & 27 & Adelie Penguin & Pygoscelis adeliae) & Biscoe    & N17A1 & Yes & 2007-11-12 & 40.6 & 18.6 & 183 & 3550 & MALE   & 8.93997 & -25.36288 & NA                                   \\\\\n\t PAL0708 & 28 & Adelie Penguin & Pygoscelis adeliae) & Biscoe    & N17A2 & Yes & 2007-11-12 & 40.5 & 17.9 & 187 & 3200 & FEMALE & 8.08138 & -25.49448 & NA                                   \\\\\n\t PAL0708 & 29 & Adelie Penguin & Pygoscelis adeliae) & Biscoe    & N18A1 & No  & 2007-11-10 & 37.9 & 18.6 & 172 & 3150 & FEMALE & 8.38404 & -25.19837 & Nest never observed with full clutch.\\\\\n\t PAL0708 & 30 & Adelie Penguin & Pygoscelis adeliae) & Biscoe    & N18A2 & No  & 2007-11-10 & 40.5 & 18.9 & 180 & 3950 & MALE   & 8.90027 & -25.11609 & Nest never observed with full clutch.\\\\\n\t ⋮ & ⋮ & ⋮ & ⋮ & ⋮ & ⋮ & ⋮ & ⋮ & ⋮ & ⋮ & ⋮ & ⋮ & ⋮ & ⋮ & ⋮ & ⋮\\\\\n\t PAL0809 & 39 & Chinstrap penguin & Pygoscelis antarctica) & Dream & N72A1  & No  & 2008-11-24 & 46.9 & 16.6 & 192 & 2700 & FEMALE &  9.80589 & -24.73735 & Nest never observed with full clutch.\\\\\n\t PAL0809 & 40 & Chinstrap penguin & Pygoscelis antarctica) & Dream & N72A2  & No  & 2008-11-24 & 53.5 & 19.9 & 205 & 4500 & MALE   & 10.02544 & -24.90816 & Nest never observed with full clutch.\\\\\n\t PAL0809 & 41 & Chinstrap penguin & Pygoscelis antarctica) & Dream & N74A1  & Yes & 2008-11-24 & 49.0 & 19.5 & 210 & 3950 & MALE   &  9.53262 & -24.66867 & NA                                   \\\\\n\t PAL0809 & 42 & Chinstrap penguin & Pygoscelis antarctica) & Dream & N74A2  & Yes & 2008-11-24 & 46.2 & 17.5 & 187 & 3650 & FEMALE &  9.61734 & -24.66188 & NA                                   \\\\\n\t PAL0809 & 43 & Chinstrap penguin & Pygoscelis antarctica) & Dream & N75A1  & Yes & 2008-11-14 & 50.9 & 19.1 & 196 & 3550 & MALE   & 10.02372 & -24.86594 & NA                                   \\\\\n\t PAL0809 & 44 & Chinstrap penguin & Pygoscelis antarctica) & Dream & N75A2  & Yes & 2008-11-14 & 45.5 & 17.0 & 196 & 3500 & FEMALE &  9.36493 & -24.66259 & NA                                   \\\\\n\t PAL0910 & 45 & Chinstrap penguin & Pygoscelis antarctica) & Dream & N86A1  & Yes & 2009-11-17 & 50.9 & 17.9 & 196 & 3675 & FEMALE &  9.43684 & -24.16566 & NA                                   \\\\\n\t PAL0910 & 46 & Chinstrap penguin & Pygoscelis antarctica) & Dream & N86A2  & Yes & 2009-11-17 & 50.8 & 18.5 & 201 & 4450 & MALE   &  9.45827 & -24.35575 & NA                                   \\\\\n\t PAL0910 & 47 & Chinstrap penguin & Pygoscelis antarctica) & Dream & N87A1  & Yes & 2009-11-27 & 50.1 & 17.9 & 190 & 3400 & FEMALE &  9.46819 & -24.45721 & NA                                   \\\\\n\t PAL0910 & 48 & Chinstrap penguin & Pygoscelis antarctica) & Dream & N87A2  & Yes & 2009-11-27 & 49.0 & 19.6 & 212 & 4300 & MALE   &  9.34089 & -24.45189 & NA                                   \\\\\n\t PAL0910 & 49 & Chinstrap penguin & Pygoscelis antarctica) & Dream & N88A1  & Yes & 2009-11-23 & 51.5 & 18.7 & 187 & 3250 & MALE   &  9.68950 & -24.43062 & NA                                   \\\\\n\t PAL0910 & 50 & Chinstrap penguin & Pygoscelis antarctica) & Dream & N88A2  & Yes & 2009-11-23 & 49.8 & 17.3 & 198 & 3675 & FEMALE &  9.32169 & -24.41562 & NA                                   \\\\\n\t PAL0910 & 51 & Chinstrap penguin & Pygoscelis antarctica) & Dream & N90A1  & Yes & 2009-11-21 & 48.1 & 16.4 & 199 & 3325 & FEMALE &  9.46929 & -24.48403 & NA                                   \\\\\n\t PAL0910 & 52 & Chinstrap penguin & Pygoscelis antarctica) & Dream & N90A2  & Yes & 2009-11-21 & 51.4 & 19.0 & 201 & 3950 & MALE   &  9.43782 & -24.36202 & NA                                   \\\\\n\t PAL0910 & 53 & Chinstrap penguin & Pygoscelis antarctica) & Dream & N92A1  & Yes & 2009-11-23 & 45.7 & 17.3 & 193 & 3600 & FEMALE &  9.41500 & -24.80500 & NA                                   \\\\\n\t PAL0910 & 54 & Chinstrap penguin & Pygoscelis antarctica) & Dream & N92A2  & Yes & 2009-11-23 & 50.7 & 19.7 & 203 & 4050 & MALE   &  9.93727 & -24.59066 & NA                                   \\\\\n\t PAL0910 & 55 & Chinstrap penguin & Pygoscelis antarctica) & Dream & N93A1  & Yes & 2009-11-27 & 42.5 & 17.3 & 187 & 3350 & FEMALE &  9.56534 & -24.60882 & NA                                   \\\\\n\t PAL0910 & 56 & Chinstrap penguin & Pygoscelis antarctica) & Dream & N93A2  & Yes & 2009-11-27 & 52.2 & 18.8 & 197 & 3450 & MALE   &  9.77528 & -24.56481 & NA                                   \\\\\n\t PAL0910 & 57 & Chinstrap penguin & Pygoscelis antarctica) & Dream & N94A1  & Yes & 2009-11-21 & 45.2 & 16.6 & 191 & 3250 & FEMALE &  9.62357 & -24.78984 & NA                                   \\\\\n\t PAL0910 & 58 & Chinstrap penguin & Pygoscelis antarctica) & Dream & N94A2  & Yes & 2009-11-21 & 49.3 & 19.9 & 203 & 4050 & MALE   &  9.88809 & -24.59513 & NA                                   \\\\\n\t PAL0910 & 59 & Chinstrap penguin & Pygoscelis antarctica) & Dream & N95A1  & Yes & 2009-11-21 & 50.2 & 18.8 & 202 & 3800 & MALE   &  9.74492 & -24.40400 & NA                                   \\\\\n\t PAL0910 & 60 & Chinstrap penguin & Pygoscelis antarctica) & Dream & N95A2  & Yes & 2009-11-21 & 45.6 & 19.4 & 194 & 3525 & FEMALE &  9.46985 & -24.65786 & NA                                   \\\\\n\t PAL0910 & 61 & Chinstrap penguin & Pygoscelis antarctica) & Dream & N96A1  & Yes & 2009-11-27 & 51.9 & 19.5 & 206 & 3950 & MALE   &       NA & -23.78767 & No delta15N data received from lab.  \\\\\n\t PAL0910 & 62 & Chinstrap penguin & Pygoscelis antarctica) & Dream & N96A2  & Yes & 2009-11-27 & 46.8 & 16.5 & 189 & 3650 & FEMALE &  9.65061 & -24.48153 & NA                                   \\\\\n\t PAL0910 & 63 & Chinstrap penguin & Pygoscelis antarctica) & Dream & N98A1  & Yes & 2009-11-19 & 45.7 & 17.0 & 195 & 3650 & FEMALE &  9.26715 & -24.31912 & NA                                   \\\\\n\t PAL0910 & 64 & Chinstrap penguin & Pygoscelis antarctica) & Dream & N98A2  & Yes & 2009-11-19 & 55.8 & 19.8 & 207 & 4000 & MALE   &  9.70465 & -24.53494 & NA                                   \\\\\n\t PAL0910 & 65 & Chinstrap penguin & Pygoscelis antarctica) & Dream & N99A1  & No  & 2009-11-21 & 43.5 & 18.1 & 202 & 3400 & FEMALE &  9.37608 & -24.40753 & Nest never observed with full clutch.\\\\\n\t PAL0910 & 66 & Chinstrap penguin & Pygoscelis antarctica) & Dream & N99A2  & No  & 2009-11-21 & 49.6 & 18.2 & 193 & 3775 & MALE   &  9.46180 & -24.70615 & Nest never observed with full clutch.\\\\\n\t PAL0910 & 67 & Chinstrap penguin & Pygoscelis antarctica) & Dream & N100A1 & Yes & 2009-11-21 & 50.8 & 19.0 & 210 & 4100 & MALE   &  9.98044 & -24.68741 & NA                                   \\\\\n\t PAL0910 & 68 & Chinstrap penguin & Pygoscelis antarctica) & Dream & N100A2 & Yes & 2009-11-21 & 50.2 & 18.7 & 198 & 3775 & FEMALE &  9.39305 & -24.25255 & NA                                   \\\\\n\\end{tabular}\n",
            "text/markdown": "\nA tibble: 344 × 16\n\n| study_name &lt;chr&gt; | sample &lt;dbl&gt; | species &lt;chr&gt; | latin_name &lt;chr&gt; | island &lt;chr&gt; | individual_id &lt;chr&gt; | clutch_completion &lt;chr&gt; | date_egg &lt;date&gt; | culmen_length_mm &lt;dbl&gt; | culmen_depth_mm &lt;dbl&gt; | flipper_length_mm &lt;dbl&gt; | body_mass_g &lt;dbl&gt; | sex &lt;chr&gt; | delta_15_n_o_oo &lt;dbl&gt; | delta_13_c_o_oo &lt;dbl&gt; | comments &lt;chr&gt; |\n|---|---|---|---|---|---|---|---|---|---|---|---|---|---|---|---|\n| PAL0708 |  1 | Adelie Penguin | Pygoscelis adeliae) | Torgersen | N1A1  | Yes | 2007-11-11 | 39.1 | 18.7 | 181 | 3750 | MALE   |      NA |        NA | Not enough blood for isotopes.        |\n| PAL0708 |  2 | Adelie Penguin | Pygoscelis adeliae) | Torgersen | N1A2  | Yes | 2007-11-11 | 39.5 | 17.4 | 186 | 3800 | FEMALE | 8.94956 | -24.69454 | NA                                    |\n| PAL0708 |  3 | Adelie Penguin | Pygoscelis adeliae) | Torgersen | N2A1  | Yes | 2007-11-16 | 40.3 | 18.0 | 195 | 3250 | FEMALE | 8.36821 | -25.33302 | NA                                    |\n| PAL0708 |  4 | Adelie Penguin | Pygoscelis adeliae) | Torgersen | N2A2  | Yes | 2007-11-16 |   NA |   NA |  NA |   NA | NA     |      NA |        NA | Adult not sampled.                    |\n| PAL0708 |  5 | Adelie Penguin | Pygoscelis adeliae) | Torgersen | N3A1  | Yes | 2007-11-16 | 36.7 | 19.3 | 193 | 3450 | FEMALE | 8.76651 | -25.32426 | NA                                    |\n| PAL0708 |  6 | Adelie Penguin | Pygoscelis adeliae) | Torgersen | N3A2  | Yes | 2007-11-16 | 39.3 | 20.6 | 190 | 3650 | MALE   | 8.66496 | -25.29805 | NA                                    |\n| PAL0708 |  7 | Adelie Penguin | Pygoscelis adeliae) | Torgersen | N4A1  | No  | 2007-11-15 | 38.9 | 17.8 | 181 | 3625 | FEMALE | 9.18718 | -25.21799 | Nest never observed with full clutch. |\n| PAL0708 |  8 | Adelie Penguin | Pygoscelis adeliae) | Torgersen | N4A2  | No  | 2007-11-15 | 39.2 | 19.6 | 195 | 4675 | MALE   | 9.46060 | -24.89958 | Nest never observed with full clutch. |\n| PAL0708 |  9 | Adelie Penguin | Pygoscelis adeliae) | Torgersen | N5A1  | Yes | 2007-11-09 | 34.1 | 18.1 | 193 | 3475 | NA     |      NA |        NA | No blood sample obtained.             |\n| PAL0708 | 10 | Adelie Penguin | Pygoscelis adeliae) | Torgersen | N5A2  | Yes | 2007-11-09 | 42.0 | 20.2 | 190 | 4250 | NA     | 9.13362 | -25.09368 | No blood sample obtained for sexing.  |\n| PAL0708 | 11 | Adelie Penguin | Pygoscelis adeliae) | Torgersen | N6A1  | Yes | 2007-11-09 | 37.8 | 17.1 | 186 | 3300 | NA     | 8.63243 | -25.21315 | No blood sample obtained for sexing.  |\n| PAL0708 | 12 | Adelie Penguin | Pygoscelis adeliae) | Torgersen | N6A2  | Yes | 2007-11-09 | 37.8 | 17.3 | 180 | 3700 | NA     |      NA |        NA | No blood sample obtained.             |\n| PAL0708 | 13 | Adelie Penguin | Pygoscelis adeliae) | Torgersen | N7A1  | Yes | 2007-11-15 | 41.1 | 17.6 | 182 | 3200 | FEMALE |      NA |        NA | Not enough blood for isotopes.        |\n| PAL0708 | 14 | Adelie Penguin | Pygoscelis adeliae) | Torgersen | N7A2  | Yes | 2007-11-15 | 38.6 | 21.2 | 191 | 3800 | MALE   |      NA |        NA | Not enough blood for isotopes.        |\n| PAL0708 | 15 | Adelie Penguin | Pygoscelis adeliae) | Torgersen | N8A1  | Yes | 2007-11-16 | 34.6 | 21.1 | 198 | 4400 | MALE   | 8.55583 | -25.22588 | NA                                    |\n| PAL0708 | 16 | Adelie Penguin | Pygoscelis adeliae) | Torgersen | N8A2  | Yes | 2007-11-16 | 36.6 | 17.8 | 185 | 3700 | FEMALE |      NA |        NA | Not enough blood for isotopes.        |\n| PAL0708 | 17 | Adelie Penguin | Pygoscelis adeliae) | Torgersen | N9A1  | Yes | 2007-11-12 | 38.7 | 19.0 | 195 | 3450 | FEMALE | 9.18528 | -25.06691 | NA                                    |\n| PAL0708 | 18 | Adelie Penguin | Pygoscelis adeliae) | Torgersen | N9A2  | Yes | 2007-11-12 | 42.5 | 20.7 | 197 | 4500 | MALE   | 8.67538 | -25.13993 | NA                                    |\n| PAL0708 | 19 | Adelie Penguin | Pygoscelis adeliae) | Torgersen | N10A1 | Yes | 2007-11-16 | 34.4 | 18.4 | 184 | 3325 | FEMALE | 8.47827 | -25.23319 | NA                                    |\n| PAL0708 | 20 | Adelie Penguin | Pygoscelis adeliae) | Torgersen | N10A2 | Yes | 2007-11-16 | 46.0 | 21.5 | 194 | 4200 | MALE   | 9.11616 | -24.77227 | NA                                    |\n| PAL0708 | 21 | Adelie Penguin | Pygoscelis adeliae) | Biscoe    | N11A1 | Yes | 2007-11-12 | 37.8 | 18.3 | 174 | 3400 | FEMALE | 8.73762 | -25.09383 | NA                                    |\n| PAL0708 | 22 | Adelie Penguin | Pygoscelis adeliae) | Biscoe    | N11A2 | Yes | 2007-11-12 | 37.7 | 18.7 | 180 | 3600 | MALE   | 8.66271 | -25.06390 | NA                                    |\n| PAL0708 | 23 | Adelie Penguin | Pygoscelis adeliae) | Biscoe    | N12A1 | Yes | 2007-11-12 | 35.9 | 19.2 | 189 | 3800 | FEMALE | 9.22286 | -25.03474 | NA                                    |\n| PAL0708 | 24 | Adelie Penguin | Pygoscelis adeliae) | Biscoe    | N12A2 | Yes | 2007-11-12 | 38.2 | 18.1 | 185 | 3950 | MALE   | 8.43423 | -25.22664 | NA                                    |\n| PAL0708 | 25 | Adelie Penguin | Pygoscelis adeliae) | Biscoe    | N13A1 | Yes | 2007-11-10 | 38.8 | 17.2 | 180 | 3800 | MALE   | 9.63954 | -25.29856 | NA                                    |\n| PAL0708 | 26 | Adelie Penguin | Pygoscelis adeliae) | Biscoe    | N13A2 | Yes | 2007-11-10 | 35.3 | 18.9 | 187 | 3800 | FEMALE | 9.21292 | -24.36130 | NA                                    |\n| PAL0708 | 27 | Adelie Penguin | Pygoscelis adeliae) | Biscoe    | N17A1 | Yes | 2007-11-12 | 40.6 | 18.6 | 183 | 3550 | MALE   | 8.93997 | -25.36288 | NA                                    |\n| PAL0708 | 28 | Adelie Penguin | Pygoscelis adeliae) | Biscoe    | N17A2 | Yes | 2007-11-12 | 40.5 | 17.9 | 187 | 3200 | FEMALE | 8.08138 | -25.49448 | NA                                    |\n| PAL0708 | 29 | Adelie Penguin | Pygoscelis adeliae) | Biscoe    | N18A1 | No  | 2007-11-10 | 37.9 | 18.6 | 172 | 3150 | FEMALE | 8.38404 | -25.19837 | Nest never observed with full clutch. |\n| PAL0708 | 30 | Adelie Penguin | Pygoscelis adeliae) | Biscoe    | N18A2 | No  | 2007-11-10 | 40.5 | 18.9 | 180 | 3950 | MALE   | 8.90027 | -25.11609 | Nest never observed with full clutch. |\n| ⋮ | ⋮ | ⋮ | ⋮ | ⋮ | ⋮ | ⋮ | ⋮ | ⋮ | ⋮ | ⋮ | ⋮ | ⋮ | ⋮ | ⋮ | ⋮ |\n| PAL0809 | 39 | Chinstrap penguin | Pygoscelis antarctica) | Dream | N72A1  | No  | 2008-11-24 | 46.9 | 16.6 | 192 | 2700 | FEMALE |  9.80589 | -24.73735 | Nest never observed with full clutch. |\n| PAL0809 | 40 | Chinstrap penguin | Pygoscelis antarctica) | Dream | N72A2  | No  | 2008-11-24 | 53.5 | 19.9 | 205 | 4500 | MALE   | 10.02544 | -24.90816 | Nest never observed with full clutch. |\n| PAL0809 | 41 | Chinstrap penguin | Pygoscelis antarctica) | Dream | N74A1  | Yes | 2008-11-24 | 49.0 | 19.5 | 210 | 3950 | MALE   |  9.53262 | -24.66867 | NA                                    |\n| PAL0809 | 42 | Chinstrap penguin | Pygoscelis antarctica) | Dream | N74A2  | Yes | 2008-11-24 | 46.2 | 17.5 | 187 | 3650 | FEMALE |  9.61734 | -24.66188 | NA                                    |\n| PAL0809 | 43 | Chinstrap penguin | Pygoscelis antarctica) | Dream | N75A1  | Yes | 2008-11-14 | 50.9 | 19.1 | 196 | 3550 | MALE   | 10.02372 | -24.86594 | NA                                    |\n| PAL0809 | 44 | Chinstrap penguin | Pygoscelis antarctica) | Dream | N75A2  | Yes | 2008-11-14 | 45.5 | 17.0 | 196 | 3500 | FEMALE |  9.36493 | -24.66259 | NA                                    |\n| PAL0910 | 45 | Chinstrap penguin | Pygoscelis antarctica) | Dream | N86A1  | Yes | 2009-11-17 | 50.9 | 17.9 | 196 | 3675 | FEMALE |  9.43684 | -24.16566 | NA                                    |\n| PAL0910 | 46 | Chinstrap penguin | Pygoscelis antarctica) | Dream | N86A2  | Yes | 2009-11-17 | 50.8 | 18.5 | 201 | 4450 | MALE   |  9.45827 | -24.35575 | NA                                    |\n| PAL0910 | 47 | Chinstrap penguin | Pygoscelis antarctica) | Dream | N87A1  | Yes | 2009-11-27 | 50.1 | 17.9 | 190 | 3400 | FEMALE |  9.46819 | -24.45721 | NA                                    |\n| PAL0910 | 48 | Chinstrap penguin | Pygoscelis antarctica) | Dream | N87A2  | Yes | 2009-11-27 | 49.0 | 19.6 | 212 | 4300 | MALE   |  9.34089 | -24.45189 | NA                                    |\n| PAL0910 | 49 | Chinstrap penguin | Pygoscelis antarctica) | Dream | N88A1  | Yes | 2009-11-23 | 51.5 | 18.7 | 187 | 3250 | MALE   |  9.68950 | -24.43062 | NA                                    |\n| PAL0910 | 50 | Chinstrap penguin | Pygoscelis antarctica) | Dream | N88A2  | Yes | 2009-11-23 | 49.8 | 17.3 | 198 | 3675 | FEMALE |  9.32169 | -24.41562 | NA                                    |\n| PAL0910 | 51 | Chinstrap penguin | Pygoscelis antarctica) | Dream | N90A1  | Yes | 2009-11-21 | 48.1 | 16.4 | 199 | 3325 | FEMALE |  9.46929 | -24.48403 | NA                                    |\n| PAL0910 | 52 | Chinstrap penguin | Pygoscelis antarctica) | Dream | N90A2  | Yes | 2009-11-21 | 51.4 | 19.0 | 201 | 3950 | MALE   |  9.43782 | -24.36202 | NA                                    |\n| PAL0910 | 53 | Chinstrap penguin | Pygoscelis antarctica) | Dream | N92A1  | Yes | 2009-11-23 | 45.7 | 17.3 | 193 | 3600 | FEMALE |  9.41500 | -24.80500 | NA                                    |\n| PAL0910 | 54 | Chinstrap penguin | Pygoscelis antarctica) | Dream | N92A2  | Yes | 2009-11-23 | 50.7 | 19.7 | 203 | 4050 | MALE   |  9.93727 | -24.59066 | NA                                    |\n| PAL0910 | 55 | Chinstrap penguin | Pygoscelis antarctica) | Dream | N93A1  | Yes | 2009-11-27 | 42.5 | 17.3 | 187 | 3350 | FEMALE |  9.56534 | -24.60882 | NA                                    |\n| PAL0910 | 56 | Chinstrap penguin | Pygoscelis antarctica) | Dream | N93A2  | Yes | 2009-11-27 | 52.2 | 18.8 | 197 | 3450 | MALE   |  9.77528 | -24.56481 | NA                                    |\n| PAL0910 | 57 | Chinstrap penguin | Pygoscelis antarctica) | Dream | N94A1  | Yes | 2009-11-21 | 45.2 | 16.6 | 191 | 3250 | FEMALE |  9.62357 | -24.78984 | NA                                    |\n| PAL0910 | 58 | Chinstrap penguin | Pygoscelis antarctica) | Dream | N94A2  | Yes | 2009-11-21 | 49.3 | 19.9 | 203 | 4050 | MALE   |  9.88809 | -24.59513 | NA                                    |\n| PAL0910 | 59 | Chinstrap penguin | Pygoscelis antarctica) | Dream | N95A1  | Yes | 2009-11-21 | 50.2 | 18.8 | 202 | 3800 | MALE   |  9.74492 | -24.40400 | NA                                    |\n| PAL0910 | 60 | Chinstrap penguin | Pygoscelis antarctica) | Dream | N95A2  | Yes | 2009-11-21 | 45.6 | 19.4 | 194 | 3525 | FEMALE |  9.46985 | -24.65786 | NA                                    |\n| PAL0910 | 61 | Chinstrap penguin | Pygoscelis antarctica) | Dream | N96A1  | Yes | 2009-11-27 | 51.9 | 19.5 | 206 | 3950 | MALE   |       NA | -23.78767 | No delta15N data received from lab.   |\n| PAL0910 | 62 | Chinstrap penguin | Pygoscelis antarctica) | Dream | N96A2  | Yes | 2009-11-27 | 46.8 | 16.5 | 189 | 3650 | FEMALE |  9.65061 | -24.48153 | NA                                    |\n| PAL0910 | 63 | Chinstrap penguin | Pygoscelis antarctica) | Dream | N98A1  | Yes | 2009-11-19 | 45.7 | 17.0 | 195 | 3650 | FEMALE |  9.26715 | -24.31912 | NA                                    |\n| PAL0910 | 64 | Chinstrap penguin | Pygoscelis antarctica) | Dream | N98A2  | Yes | 2009-11-19 | 55.8 | 19.8 | 207 | 4000 | MALE   |  9.70465 | -24.53494 | NA                                    |\n| PAL0910 | 65 | Chinstrap penguin | Pygoscelis antarctica) | Dream | N99A1  | No  | 2009-11-21 | 43.5 | 18.1 | 202 | 3400 | FEMALE |  9.37608 | -24.40753 | Nest never observed with full clutch. |\n| PAL0910 | 66 | Chinstrap penguin | Pygoscelis antarctica) | Dream | N99A2  | No  | 2009-11-21 | 49.6 | 18.2 | 193 | 3775 | MALE   |  9.46180 | -24.70615 | Nest never observed with full clutch. |\n| PAL0910 | 67 | Chinstrap penguin | Pygoscelis antarctica) | Dream | N100A1 | Yes | 2009-11-21 | 50.8 | 19.0 | 210 | 4100 | MALE   |  9.98044 | -24.68741 | NA                                    |\n| PAL0910 | 68 | Chinstrap penguin | Pygoscelis antarctica) | Dream | N100A2 | Yes | 2009-11-21 | 50.2 | 18.7 | 198 | 3775 | FEMALE |  9.39305 | -24.25255 | NA                                    |\n\n",
            "text/html": [
              "<table class=\"dataframe\">\n",
              "<caption>A tibble: 344 × 16</caption>\n",
              "<thead>\n",
              "\t<tr><th scope=col>study_name</th><th scope=col>sample</th><th scope=col>species</th><th scope=col>latin_name</th><th scope=col>island</th><th scope=col>individual_id</th><th scope=col>clutch_completion</th><th scope=col>date_egg</th><th scope=col>culmen_length_mm</th><th scope=col>culmen_depth_mm</th><th scope=col>flipper_length_mm</th><th scope=col>body_mass_g</th><th scope=col>sex</th><th scope=col>delta_15_n_o_oo</th><th scope=col>delta_13_c_o_oo</th><th scope=col>comments</th></tr>\n",
              "\t<tr><th scope=col>&lt;chr&gt;</th><th scope=col>&lt;dbl&gt;</th><th scope=col>&lt;chr&gt;</th><th scope=col>&lt;chr&gt;</th><th scope=col>&lt;chr&gt;</th><th scope=col>&lt;chr&gt;</th><th scope=col>&lt;chr&gt;</th><th scope=col>&lt;date&gt;</th><th scope=col>&lt;dbl&gt;</th><th scope=col>&lt;dbl&gt;</th><th scope=col>&lt;dbl&gt;</th><th scope=col>&lt;dbl&gt;</th><th scope=col>&lt;chr&gt;</th><th scope=col>&lt;dbl&gt;</th><th scope=col>&lt;dbl&gt;</th><th scope=col>&lt;chr&gt;</th></tr>\n",
              "</thead>\n",
              "<tbody>\n",
              "\t<tr><td>PAL0708</td><td> 1</td><td>Adelie Penguin</td><td>Pygoscelis adeliae)</td><td>Torgersen</td><td>N1A1 </td><td>Yes</td><td>2007-11-11</td><td>39.1</td><td>18.7</td><td>181</td><td>3750</td><td>MALE  </td><td>     NA</td><td>       NA</td><td>Not enough blood for isotopes.       </td></tr>\n",
              "\t<tr><td>PAL0708</td><td> 2</td><td>Adelie Penguin</td><td>Pygoscelis adeliae)</td><td>Torgersen</td><td>N1A2 </td><td>Yes</td><td>2007-11-11</td><td>39.5</td><td>17.4</td><td>186</td><td>3800</td><td>FEMALE</td><td>8.94956</td><td>-24.69454</td><td>NA                                   </td></tr>\n",
              "\t<tr><td>PAL0708</td><td> 3</td><td>Adelie Penguin</td><td>Pygoscelis adeliae)</td><td>Torgersen</td><td>N2A1 </td><td>Yes</td><td>2007-11-16</td><td>40.3</td><td>18.0</td><td>195</td><td>3250</td><td>FEMALE</td><td>8.36821</td><td>-25.33302</td><td>NA                                   </td></tr>\n",
              "\t<tr><td>PAL0708</td><td> 4</td><td>Adelie Penguin</td><td>Pygoscelis adeliae)</td><td>Torgersen</td><td>N2A2 </td><td>Yes</td><td>2007-11-16</td><td>  NA</td><td>  NA</td><td> NA</td><td>  NA</td><td>NA    </td><td>     NA</td><td>       NA</td><td>Adult not sampled.                   </td></tr>\n",
              "\t<tr><td>PAL0708</td><td> 5</td><td>Adelie Penguin</td><td>Pygoscelis adeliae)</td><td>Torgersen</td><td>N3A1 </td><td>Yes</td><td>2007-11-16</td><td>36.7</td><td>19.3</td><td>193</td><td>3450</td><td>FEMALE</td><td>8.76651</td><td>-25.32426</td><td>NA                                   </td></tr>\n",
              "\t<tr><td>PAL0708</td><td> 6</td><td>Adelie Penguin</td><td>Pygoscelis adeliae)</td><td>Torgersen</td><td>N3A2 </td><td>Yes</td><td>2007-11-16</td><td>39.3</td><td>20.6</td><td>190</td><td>3650</td><td>MALE  </td><td>8.66496</td><td>-25.29805</td><td>NA                                   </td></tr>\n",
              "\t<tr><td>PAL0708</td><td> 7</td><td>Adelie Penguin</td><td>Pygoscelis adeliae)</td><td>Torgersen</td><td>N4A1 </td><td>No </td><td>2007-11-15</td><td>38.9</td><td>17.8</td><td>181</td><td>3625</td><td>FEMALE</td><td>9.18718</td><td>-25.21799</td><td>Nest never observed with full clutch.</td></tr>\n",
              "\t<tr><td>PAL0708</td><td> 8</td><td>Adelie Penguin</td><td>Pygoscelis adeliae)</td><td>Torgersen</td><td>N4A2 </td><td>No </td><td>2007-11-15</td><td>39.2</td><td>19.6</td><td>195</td><td>4675</td><td>MALE  </td><td>9.46060</td><td>-24.89958</td><td>Nest never observed with full clutch.</td></tr>\n",
              "\t<tr><td>PAL0708</td><td> 9</td><td>Adelie Penguin</td><td>Pygoscelis adeliae)</td><td>Torgersen</td><td>N5A1 </td><td>Yes</td><td>2007-11-09</td><td>34.1</td><td>18.1</td><td>193</td><td>3475</td><td>NA    </td><td>     NA</td><td>       NA</td><td>No blood sample obtained.            </td></tr>\n",
              "\t<tr><td>PAL0708</td><td>10</td><td>Adelie Penguin</td><td>Pygoscelis adeliae)</td><td>Torgersen</td><td>N5A2 </td><td>Yes</td><td>2007-11-09</td><td>42.0</td><td>20.2</td><td>190</td><td>4250</td><td>NA    </td><td>9.13362</td><td>-25.09368</td><td>No blood sample obtained for sexing. </td></tr>\n",
              "\t<tr><td>PAL0708</td><td>11</td><td>Adelie Penguin</td><td>Pygoscelis adeliae)</td><td>Torgersen</td><td>N6A1 </td><td>Yes</td><td>2007-11-09</td><td>37.8</td><td>17.1</td><td>186</td><td>3300</td><td>NA    </td><td>8.63243</td><td>-25.21315</td><td>No blood sample obtained for sexing. </td></tr>\n",
              "\t<tr><td>PAL0708</td><td>12</td><td>Adelie Penguin</td><td>Pygoscelis adeliae)</td><td>Torgersen</td><td>N6A2 </td><td>Yes</td><td>2007-11-09</td><td>37.8</td><td>17.3</td><td>180</td><td>3700</td><td>NA    </td><td>     NA</td><td>       NA</td><td>No blood sample obtained.            </td></tr>\n",
              "\t<tr><td>PAL0708</td><td>13</td><td>Adelie Penguin</td><td>Pygoscelis adeliae)</td><td>Torgersen</td><td>N7A1 </td><td>Yes</td><td>2007-11-15</td><td>41.1</td><td>17.6</td><td>182</td><td>3200</td><td>FEMALE</td><td>     NA</td><td>       NA</td><td>Not enough blood for isotopes.       </td></tr>\n",
              "\t<tr><td>PAL0708</td><td>14</td><td>Adelie Penguin</td><td>Pygoscelis adeliae)</td><td>Torgersen</td><td>N7A2 </td><td>Yes</td><td>2007-11-15</td><td>38.6</td><td>21.2</td><td>191</td><td>3800</td><td>MALE  </td><td>     NA</td><td>       NA</td><td>Not enough blood for isotopes.       </td></tr>\n",
              "\t<tr><td>PAL0708</td><td>15</td><td>Adelie Penguin</td><td>Pygoscelis adeliae)</td><td>Torgersen</td><td>N8A1 </td><td>Yes</td><td>2007-11-16</td><td>34.6</td><td>21.1</td><td>198</td><td>4400</td><td>MALE  </td><td>8.55583</td><td>-25.22588</td><td>NA                                   </td></tr>\n",
              "\t<tr><td>PAL0708</td><td>16</td><td>Adelie Penguin</td><td>Pygoscelis adeliae)</td><td>Torgersen</td><td>N8A2 </td><td>Yes</td><td>2007-11-16</td><td>36.6</td><td>17.8</td><td>185</td><td>3700</td><td>FEMALE</td><td>     NA</td><td>       NA</td><td>Not enough blood for isotopes.       </td></tr>\n",
              "\t<tr><td>PAL0708</td><td>17</td><td>Adelie Penguin</td><td>Pygoscelis adeliae)</td><td>Torgersen</td><td>N9A1 </td><td>Yes</td><td>2007-11-12</td><td>38.7</td><td>19.0</td><td>195</td><td>3450</td><td>FEMALE</td><td>9.18528</td><td>-25.06691</td><td>NA                                   </td></tr>\n",
              "\t<tr><td>PAL0708</td><td>18</td><td>Adelie Penguin</td><td>Pygoscelis adeliae)</td><td>Torgersen</td><td>N9A2 </td><td>Yes</td><td>2007-11-12</td><td>42.5</td><td>20.7</td><td>197</td><td>4500</td><td>MALE  </td><td>8.67538</td><td>-25.13993</td><td>NA                                   </td></tr>\n",
              "\t<tr><td>PAL0708</td><td>19</td><td>Adelie Penguin</td><td>Pygoscelis adeliae)</td><td>Torgersen</td><td>N10A1</td><td>Yes</td><td>2007-11-16</td><td>34.4</td><td>18.4</td><td>184</td><td>3325</td><td>FEMALE</td><td>8.47827</td><td>-25.23319</td><td>NA                                   </td></tr>\n",
              "\t<tr><td>PAL0708</td><td>20</td><td>Adelie Penguin</td><td>Pygoscelis adeliae)</td><td>Torgersen</td><td>N10A2</td><td>Yes</td><td>2007-11-16</td><td>46.0</td><td>21.5</td><td>194</td><td>4200</td><td>MALE  </td><td>9.11616</td><td>-24.77227</td><td>NA                                   </td></tr>\n",
              "\t<tr><td>PAL0708</td><td>21</td><td>Adelie Penguin</td><td>Pygoscelis adeliae)</td><td>Biscoe   </td><td>N11A1</td><td>Yes</td><td>2007-11-12</td><td>37.8</td><td>18.3</td><td>174</td><td>3400</td><td>FEMALE</td><td>8.73762</td><td>-25.09383</td><td>NA                                   </td></tr>\n",
              "\t<tr><td>PAL0708</td><td>22</td><td>Adelie Penguin</td><td>Pygoscelis adeliae)</td><td>Biscoe   </td><td>N11A2</td><td>Yes</td><td>2007-11-12</td><td>37.7</td><td>18.7</td><td>180</td><td>3600</td><td>MALE  </td><td>8.66271</td><td>-25.06390</td><td>NA                                   </td></tr>\n",
              "\t<tr><td>PAL0708</td><td>23</td><td>Adelie Penguin</td><td>Pygoscelis adeliae)</td><td>Biscoe   </td><td>N12A1</td><td>Yes</td><td>2007-11-12</td><td>35.9</td><td>19.2</td><td>189</td><td>3800</td><td>FEMALE</td><td>9.22286</td><td>-25.03474</td><td>NA                                   </td></tr>\n",
              "\t<tr><td>PAL0708</td><td>24</td><td>Adelie Penguin</td><td>Pygoscelis adeliae)</td><td>Biscoe   </td><td>N12A2</td><td>Yes</td><td>2007-11-12</td><td>38.2</td><td>18.1</td><td>185</td><td>3950</td><td>MALE  </td><td>8.43423</td><td>-25.22664</td><td>NA                                   </td></tr>\n",
              "\t<tr><td>PAL0708</td><td>25</td><td>Adelie Penguin</td><td>Pygoscelis adeliae)</td><td>Biscoe   </td><td>N13A1</td><td>Yes</td><td>2007-11-10</td><td>38.8</td><td>17.2</td><td>180</td><td>3800</td><td>MALE  </td><td>9.63954</td><td>-25.29856</td><td>NA                                   </td></tr>\n",
              "\t<tr><td>PAL0708</td><td>26</td><td>Adelie Penguin</td><td>Pygoscelis adeliae)</td><td>Biscoe   </td><td>N13A2</td><td>Yes</td><td>2007-11-10</td><td>35.3</td><td>18.9</td><td>187</td><td>3800</td><td>FEMALE</td><td>9.21292</td><td>-24.36130</td><td>NA                                   </td></tr>\n",
              "\t<tr><td>PAL0708</td><td>27</td><td>Adelie Penguin</td><td>Pygoscelis adeliae)</td><td>Biscoe   </td><td>N17A1</td><td>Yes</td><td>2007-11-12</td><td>40.6</td><td>18.6</td><td>183</td><td>3550</td><td>MALE  </td><td>8.93997</td><td>-25.36288</td><td>NA                                   </td></tr>\n",
              "\t<tr><td>PAL0708</td><td>28</td><td>Adelie Penguin</td><td>Pygoscelis adeliae)</td><td>Biscoe   </td><td>N17A2</td><td>Yes</td><td>2007-11-12</td><td>40.5</td><td>17.9</td><td>187</td><td>3200</td><td>FEMALE</td><td>8.08138</td><td>-25.49448</td><td>NA                                   </td></tr>\n",
              "\t<tr><td>PAL0708</td><td>29</td><td>Adelie Penguin</td><td>Pygoscelis adeliae)</td><td>Biscoe   </td><td>N18A1</td><td>No </td><td>2007-11-10</td><td>37.9</td><td>18.6</td><td>172</td><td>3150</td><td>FEMALE</td><td>8.38404</td><td>-25.19837</td><td>Nest never observed with full clutch.</td></tr>\n",
              "\t<tr><td>PAL0708</td><td>30</td><td>Adelie Penguin</td><td>Pygoscelis adeliae)</td><td>Biscoe   </td><td>N18A2</td><td>No </td><td>2007-11-10</td><td>40.5</td><td>18.9</td><td>180</td><td>3950</td><td>MALE  </td><td>8.90027</td><td>-25.11609</td><td>Nest never observed with full clutch.</td></tr>\n",
              "\t<tr><td>⋮</td><td>⋮</td><td>⋮</td><td>⋮</td><td>⋮</td><td>⋮</td><td>⋮</td><td>⋮</td><td>⋮</td><td>⋮</td><td>⋮</td><td>⋮</td><td>⋮</td><td>⋮</td><td>⋮</td><td>⋮</td></tr>\n",
              "\t<tr><td>PAL0809</td><td>39</td><td>Chinstrap penguin</td><td>Pygoscelis antarctica)</td><td>Dream</td><td>N72A1 </td><td>No </td><td>2008-11-24</td><td>46.9</td><td>16.6</td><td>192</td><td>2700</td><td>FEMALE</td><td> 9.80589</td><td>-24.73735</td><td>Nest never observed with full clutch.</td></tr>\n",
              "\t<tr><td>PAL0809</td><td>40</td><td>Chinstrap penguin</td><td>Pygoscelis antarctica)</td><td>Dream</td><td>N72A2 </td><td>No </td><td>2008-11-24</td><td>53.5</td><td>19.9</td><td>205</td><td>4500</td><td>MALE  </td><td>10.02544</td><td>-24.90816</td><td>Nest never observed with full clutch.</td></tr>\n",
              "\t<tr><td>PAL0809</td><td>41</td><td>Chinstrap penguin</td><td>Pygoscelis antarctica)</td><td>Dream</td><td>N74A1 </td><td>Yes</td><td>2008-11-24</td><td>49.0</td><td>19.5</td><td>210</td><td>3950</td><td>MALE  </td><td> 9.53262</td><td>-24.66867</td><td>NA                                   </td></tr>\n",
              "\t<tr><td>PAL0809</td><td>42</td><td>Chinstrap penguin</td><td>Pygoscelis antarctica)</td><td>Dream</td><td>N74A2 </td><td>Yes</td><td>2008-11-24</td><td>46.2</td><td>17.5</td><td>187</td><td>3650</td><td>FEMALE</td><td> 9.61734</td><td>-24.66188</td><td>NA                                   </td></tr>\n",
              "\t<tr><td>PAL0809</td><td>43</td><td>Chinstrap penguin</td><td>Pygoscelis antarctica)</td><td>Dream</td><td>N75A1 </td><td>Yes</td><td>2008-11-14</td><td>50.9</td><td>19.1</td><td>196</td><td>3550</td><td>MALE  </td><td>10.02372</td><td>-24.86594</td><td>NA                                   </td></tr>\n",
              "\t<tr><td>PAL0809</td><td>44</td><td>Chinstrap penguin</td><td>Pygoscelis antarctica)</td><td>Dream</td><td>N75A2 </td><td>Yes</td><td>2008-11-14</td><td>45.5</td><td>17.0</td><td>196</td><td>3500</td><td>FEMALE</td><td> 9.36493</td><td>-24.66259</td><td>NA                                   </td></tr>\n",
              "\t<tr><td>PAL0910</td><td>45</td><td>Chinstrap penguin</td><td>Pygoscelis antarctica)</td><td>Dream</td><td>N86A1 </td><td>Yes</td><td>2009-11-17</td><td>50.9</td><td>17.9</td><td>196</td><td>3675</td><td>FEMALE</td><td> 9.43684</td><td>-24.16566</td><td>NA                                   </td></tr>\n",
              "\t<tr><td>PAL0910</td><td>46</td><td>Chinstrap penguin</td><td>Pygoscelis antarctica)</td><td>Dream</td><td>N86A2 </td><td>Yes</td><td>2009-11-17</td><td>50.8</td><td>18.5</td><td>201</td><td>4450</td><td>MALE  </td><td> 9.45827</td><td>-24.35575</td><td>NA                                   </td></tr>\n",
              "\t<tr><td>PAL0910</td><td>47</td><td>Chinstrap penguin</td><td>Pygoscelis antarctica)</td><td>Dream</td><td>N87A1 </td><td>Yes</td><td>2009-11-27</td><td>50.1</td><td>17.9</td><td>190</td><td>3400</td><td>FEMALE</td><td> 9.46819</td><td>-24.45721</td><td>NA                                   </td></tr>\n",
              "\t<tr><td>PAL0910</td><td>48</td><td>Chinstrap penguin</td><td>Pygoscelis antarctica)</td><td>Dream</td><td>N87A2 </td><td>Yes</td><td>2009-11-27</td><td>49.0</td><td>19.6</td><td>212</td><td>4300</td><td>MALE  </td><td> 9.34089</td><td>-24.45189</td><td>NA                                   </td></tr>\n",
              "\t<tr><td>PAL0910</td><td>49</td><td>Chinstrap penguin</td><td>Pygoscelis antarctica)</td><td>Dream</td><td>N88A1 </td><td>Yes</td><td>2009-11-23</td><td>51.5</td><td>18.7</td><td>187</td><td>3250</td><td>MALE  </td><td> 9.68950</td><td>-24.43062</td><td>NA                                   </td></tr>\n",
              "\t<tr><td>PAL0910</td><td>50</td><td>Chinstrap penguin</td><td>Pygoscelis antarctica)</td><td>Dream</td><td>N88A2 </td><td>Yes</td><td>2009-11-23</td><td>49.8</td><td>17.3</td><td>198</td><td>3675</td><td>FEMALE</td><td> 9.32169</td><td>-24.41562</td><td>NA                                   </td></tr>\n",
              "\t<tr><td>PAL0910</td><td>51</td><td>Chinstrap penguin</td><td>Pygoscelis antarctica)</td><td>Dream</td><td>N90A1 </td><td>Yes</td><td>2009-11-21</td><td>48.1</td><td>16.4</td><td>199</td><td>3325</td><td>FEMALE</td><td> 9.46929</td><td>-24.48403</td><td>NA                                   </td></tr>\n",
              "\t<tr><td>PAL0910</td><td>52</td><td>Chinstrap penguin</td><td>Pygoscelis antarctica)</td><td>Dream</td><td>N90A2 </td><td>Yes</td><td>2009-11-21</td><td>51.4</td><td>19.0</td><td>201</td><td>3950</td><td>MALE  </td><td> 9.43782</td><td>-24.36202</td><td>NA                                   </td></tr>\n",
              "\t<tr><td>PAL0910</td><td>53</td><td>Chinstrap penguin</td><td>Pygoscelis antarctica)</td><td>Dream</td><td>N92A1 </td><td>Yes</td><td>2009-11-23</td><td>45.7</td><td>17.3</td><td>193</td><td>3600</td><td>FEMALE</td><td> 9.41500</td><td>-24.80500</td><td>NA                                   </td></tr>\n",
              "\t<tr><td>PAL0910</td><td>54</td><td>Chinstrap penguin</td><td>Pygoscelis antarctica)</td><td>Dream</td><td>N92A2 </td><td>Yes</td><td>2009-11-23</td><td>50.7</td><td>19.7</td><td>203</td><td>4050</td><td>MALE  </td><td> 9.93727</td><td>-24.59066</td><td>NA                                   </td></tr>\n",
              "\t<tr><td>PAL0910</td><td>55</td><td>Chinstrap penguin</td><td>Pygoscelis antarctica)</td><td>Dream</td><td>N93A1 </td><td>Yes</td><td>2009-11-27</td><td>42.5</td><td>17.3</td><td>187</td><td>3350</td><td>FEMALE</td><td> 9.56534</td><td>-24.60882</td><td>NA                                   </td></tr>\n",
              "\t<tr><td>PAL0910</td><td>56</td><td>Chinstrap penguin</td><td>Pygoscelis antarctica)</td><td>Dream</td><td>N93A2 </td><td>Yes</td><td>2009-11-27</td><td>52.2</td><td>18.8</td><td>197</td><td>3450</td><td>MALE  </td><td> 9.77528</td><td>-24.56481</td><td>NA                                   </td></tr>\n",
              "\t<tr><td>PAL0910</td><td>57</td><td>Chinstrap penguin</td><td>Pygoscelis antarctica)</td><td>Dream</td><td>N94A1 </td><td>Yes</td><td>2009-11-21</td><td>45.2</td><td>16.6</td><td>191</td><td>3250</td><td>FEMALE</td><td> 9.62357</td><td>-24.78984</td><td>NA                                   </td></tr>\n",
              "\t<tr><td>PAL0910</td><td>58</td><td>Chinstrap penguin</td><td>Pygoscelis antarctica)</td><td>Dream</td><td>N94A2 </td><td>Yes</td><td>2009-11-21</td><td>49.3</td><td>19.9</td><td>203</td><td>4050</td><td>MALE  </td><td> 9.88809</td><td>-24.59513</td><td>NA                                   </td></tr>\n",
              "\t<tr><td>PAL0910</td><td>59</td><td>Chinstrap penguin</td><td>Pygoscelis antarctica)</td><td>Dream</td><td>N95A1 </td><td>Yes</td><td>2009-11-21</td><td>50.2</td><td>18.8</td><td>202</td><td>3800</td><td>MALE  </td><td> 9.74492</td><td>-24.40400</td><td>NA                                   </td></tr>\n",
              "\t<tr><td>PAL0910</td><td>60</td><td>Chinstrap penguin</td><td>Pygoscelis antarctica)</td><td>Dream</td><td>N95A2 </td><td>Yes</td><td>2009-11-21</td><td>45.6</td><td>19.4</td><td>194</td><td>3525</td><td>FEMALE</td><td> 9.46985</td><td>-24.65786</td><td>NA                                   </td></tr>\n",
              "\t<tr><td>PAL0910</td><td>61</td><td>Chinstrap penguin</td><td>Pygoscelis antarctica)</td><td>Dream</td><td>N96A1 </td><td>Yes</td><td>2009-11-27</td><td>51.9</td><td>19.5</td><td>206</td><td>3950</td><td>MALE  </td><td>      NA</td><td>-23.78767</td><td>No delta15N data received from lab.  </td></tr>\n",
              "\t<tr><td>PAL0910</td><td>62</td><td>Chinstrap penguin</td><td>Pygoscelis antarctica)</td><td>Dream</td><td>N96A2 </td><td>Yes</td><td>2009-11-27</td><td>46.8</td><td>16.5</td><td>189</td><td>3650</td><td>FEMALE</td><td> 9.65061</td><td>-24.48153</td><td>NA                                   </td></tr>\n",
              "\t<tr><td>PAL0910</td><td>63</td><td>Chinstrap penguin</td><td>Pygoscelis antarctica)</td><td>Dream</td><td>N98A1 </td><td>Yes</td><td>2009-11-19</td><td>45.7</td><td>17.0</td><td>195</td><td>3650</td><td>FEMALE</td><td> 9.26715</td><td>-24.31912</td><td>NA                                   </td></tr>\n",
              "\t<tr><td>PAL0910</td><td>64</td><td>Chinstrap penguin</td><td>Pygoscelis antarctica)</td><td>Dream</td><td>N98A2 </td><td>Yes</td><td>2009-11-19</td><td>55.8</td><td>19.8</td><td>207</td><td>4000</td><td>MALE  </td><td> 9.70465</td><td>-24.53494</td><td>NA                                   </td></tr>\n",
              "\t<tr><td>PAL0910</td><td>65</td><td>Chinstrap penguin</td><td>Pygoscelis antarctica)</td><td>Dream</td><td>N99A1 </td><td>No </td><td>2009-11-21</td><td>43.5</td><td>18.1</td><td>202</td><td>3400</td><td>FEMALE</td><td> 9.37608</td><td>-24.40753</td><td>Nest never observed with full clutch.</td></tr>\n",
              "\t<tr><td>PAL0910</td><td>66</td><td>Chinstrap penguin</td><td>Pygoscelis antarctica)</td><td>Dream</td><td>N99A2 </td><td>No </td><td>2009-11-21</td><td>49.6</td><td>18.2</td><td>193</td><td>3775</td><td>MALE  </td><td> 9.46180</td><td>-24.70615</td><td>Nest never observed with full clutch.</td></tr>\n",
              "\t<tr><td>PAL0910</td><td>67</td><td>Chinstrap penguin</td><td>Pygoscelis antarctica)</td><td>Dream</td><td>N100A1</td><td>Yes</td><td>2009-11-21</td><td>50.8</td><td>19.0</td><td>210</td><td>4100</td><td>MALE  </td><td> 9.98044</td><td>-24.68741</td><td>NA                                   </td></tr>\n",
              "\t<tr><td>PAL0910</td><td>68</td><td>Chinstrap penguin</td><td>Pygoscelis antarctica)</td><td>Dream</td><td>N100A2</td><td>Yes</td><td>2009-11-21</td><td>50.2</td><td>18.7</td><td>198</td><td>3775</td><td>FEMALE</td><td> 9.39305</td><td>-24.25255</td><td>NA                                   </td></tr>\n",
              "</tbody>\n",
              "</table>\n"
            ]
          },
          "metadata": {
            "tags": []
          }
        }
      ]
    },
    {
      "cell_type": "markdown",
      "metadata": {
        "id": "ikGoQLH6X3mf"
      },
      "source": [
        "\n",
        "### `arrange()`\n",
        "\n",
        "You can order your data to show the highest or lowest value first.\n",
        "\n",
        "Let's order by `flipper_length_mm`.\n",
        "\n",
        "Lowest first:"
      ]
    },
    {
      "cell_type": "code",
      "metadata": {
        "id": "AICmAfpnX5iP",
        "colab": {
          "base_uri": "https://localhost:8080/",
          "height": 1000
        },
        "outputId": "d255bdac-ad67-4944-ae78-a3bb2db1aea7"
      },
      "source": [
        "arrange(penguins_clean, flipper_length_mm)\n"
      ],
      "execution_count": null,
      "outputs": [
        {
          "output_type": "display_data",
          "data": {
            "text/plain": [
              "    study_name sample_number species           latin_name             island   \n",
              "1   PAL0708     29           Adelie Penguin    Pygoscelis adeliae)    Biscoe   \n",
              "2   PAL0708     21           Adelie Penguin    Pygoscelis adeliae)    Biscoe   \n",
              "3   PAL0910    123           Adelie Penguin    Pygoscelis adeliae)    Torgersen\n",
              "4   PAL0708     31           Adelie Penguin    Pygoscelis adeliae)    Dream    \n",
              "5   PAL0708     32           Adelie Penguin    Pygoscelis adeliae)    Dream    \n",
              "6   PAL0809     99           Adelie Penguin    Pygoscelis adeliae)    Dream    \n",
              "7   PAL0708      7           Chinstrap penguin Pygoscelis antarctica) Dream    \n",
              "8   PAL0708     48           Adelie Penguin    Pygoscelis adeliae)    Dream    \n",
              "9   PAL0708     12           Adelie Penguin    Pygoscelis adeliae)    Torgersen\n",
              "10  PAL0708     22           Adelie Penguin    Pygoscelis adeliae)    Biscoe   \n",
              "11  PAL0708     25           Adelie Penguin    Pygoscelis adeliae)    Biscoe   \n",
              "12  PAL0708     30           Adelie Penguin    Pygoscelis adeliae)    Biscoe   \n",
              "13  PAL0708     38           Adelie Penguin    Pygoscelis adeliae)    Dream    \n",
              "14  PAL0708      1           Adelie Penguin    Pygoscelis adeliae)    Torgersen\n",
              "15  PAL0708      7           Adelie Penguin    Pygoscelis adeliae)    Torgersen\n",
              "16  PAL0708     39           Adelie Penguin    Pygoscelis adeliae)    Dream    \n",
              "17  PAL0809     59           Adelie Penguin    Pygoscelis adeliae)    Biscoe   \n",
              "18  PAL0910    109           Adelie Penguin    Pygoscelis adeliae)    Biscoe   \n",
              "19  PAL0708     18           Chinstrap penguin Pygoscelis antarctica) Dream    \n",
              "20  PAL0708     21           Chinstrap penguin Pygoscelis antarctica) Dream    \n",
              "21  PAL0708     13           Adelie Penguin    Pygoscelis adeliae)    Torgersen\n",
              "22  PAL0708     41           Adelie Penguin    Pygoscelis adeliae)    Dream    \n",
              "23  PAL0708     47           Adelie Penguin    Pygoscelis adeliae)    Dream    \n",
              "24  PAL0708     27           Adelie Penguin    Pygoscelis adeliae)    Biscoe   \n",
              "25  PAL0910    103           Adelie Penguin    Pygoscelis adeliae)    Biscoe   \n",
              "26  PAL0708     19           Adelie Penguin    Pygoscelis adeliae)    Torgersen\n",
              "27  PAL0708     34           Adelie Penguin    Pygoscelis adeliae)    Dream    \n",
              "28  PAL0708     40           Adelie Penguin    Pygoscelis adeliae)    Dream    \n",
              "29  PAL0809     65           Adelie Penguin    Pygoscelis adeliae)    Biscoe   \n",
              "30  PAL0809     78           Adelie Penguin    Pygoscelis adeliae)    Torgersen\n",
              "⋮   ⋮          ⋮             ⋮                 ⋮                      ⋮        \n",
              "315 PAL0809     45           Gentoo penguin    Pygoscelis papua)      Biscoe   \n",
              "316 PAL0910     98           Gentoo penguin    Pygoscelis papua)      Biscoe   \n",
              "317 PAL0910    118           Gentoo penguin    Pygoscelis papua)      Biscoe   \n",
              "318 PAL0910    122           Gentoo penguin    Pygoscelis papua)      Biscoe   \n",
              "319 PAL0809     70           Gentoo penguin    Pygoscelis papua)      Biscoe   \n",
              "320 PAL0809     80           Gentoo penguin    Pygoscelis papua)      Biscoe   \n",
              "321 PAL0809     60           Gentoo penguin    Pygoscelis papua)      Biscoe   \n",
              "322 PAL0910     84           Gentoo penguin    Pygoscelis papua)      Biscoe   \n",
              "323 PAL0910     94           Gentoo penguin    Pygoscelis papua)      Biscoe   \n",
              "324 PAL0809     42           Gentoo penguin    Pygoscelis papua)      Biscoe   \n",
              "325 PAL0809     48           Gentoo penguin    Pygoscelis papua)      Biscoe   \n",
              "326 PAL0809     54           Gentoo penguin    Pygoscelis papua)      Biscoe   \n",
              "327 PAL0910    100           Gentoo penguin    Pygoscelis papua)      Biscoe   \n",
              "328 PAL0910     96           Gentoo penguin    Pygoscelis papua)      Biscoe   \n",
              "329 PAL0910     86           Gentoo penguin    Pygoscelis papua)      Biscoe   \n",
              "330 PAL0910     92           Gentoo penguin    Pygoscelis papua)      Biscoe   \n",
              "331 PAL0910    102           Gentoo penguin    Pygoscelis papua)      Biscoe   \n",
              "332 PAL0910    104           Gentoo penguin    Pygoscelis papua)      Biscoe   \n",
              "333 PAL0809     68           Gentoo penguin    Pygoscelis papua)      Biscoe   \n",
              "334 PAL0910    112           Gentoo penguin    Pygoscelis papua)      Biscoe   \n",
              "335 PAL0708      2           Gentoo penguin    Pygoscelis papua)      Biscoe   \n",
              "336 PAL0708     34           Gentoo penguin    Pygoscelis papua)      Biscoe   \n",
              "337 PAL0809     66           Gentoo penguin    Pygoscelis papua)      Biscoe   \n",
              "338 PAL0809     76           Gentoo penguin    Pygoscelis papua)      Biscoe   \n",
              "339 PAL0910     90           Gentoo penguin    Pygoscelis papua)      Biscoe   \n",
              "340 PAL0910    114           Gentoo penguin    Pygoscelis papua)      Biscoe   \n",
              "341 PAL0910    116           Gentoo penguin    Pygoscelis papua)      Biscoe   \n",
              "342 PAL0809     64           Gentoo penguin    Pygoscelis papua)      Biscoe   \n",
              "343 PAL0708      4           Adelie Penguin    Pygoscelis adeliae)    Torgersen\n",
              "344 PAL0910    120           Gentoo penguin    Pygoscelis papua)      Biscoe   \n",
              "    individual_id clutch_completion date_egg   culmen_length_mm culmen_depth_mm\n",
              "1   N18A1         No                2007-11-10 37.9             18.6           \n",
              "2   N11A1         Yes               2007-11-12 37.8             18.3           \n",
              "3   N67A1         Yes               2009-11-16 40.2             17.0           \n",
              "4   N21A1         Yes               2007-11-09 39.5             16.7           \n",
              "5   N21A2         Yes               2007-11-09 37.2             18.1           \n",
              "6   N50A1         Yes               2008-11-10 33.1             16.1           \n",
              "7   N66A1         Yes               2007-11-28 46.1             18.2           \n",
              "8   N29A2         Yes               2007-11-13 37.5             18.9           \n",
              "9   N6A2          Yes               2007-11-09 37.8             17.3           \n",
              "10  N11A2         Yes               2007-11-12 37.7             18.7           \n",
              "11  N13A1         Yes               2007-11-10 38.8             17.2           \n",
              "12  N18A2         No                2007-11-10 40.5             18.9           \n",
              "13  N24A2         Yes               2007-11-16 42.2             18.5           \n",
              "14  N1A1          Yes               2007-11-11 39.1             18.7           \n",
              "15  N4A1          No                2007-11-15 38.9             17.8           \n",
              "16  N25A1         No                2007-11-13 37.6             19.3           \n",
              "17  N25A1         Yes               2008-11-15 36.5             16.6           \n",
              "18  N55A1         Yes               2009-11-20 38.1             17.0           \n",
              "19  N71A2         No                2007-11-30 58.0             17.8           \n",
              "20  N73A1         Yes               2007-12-03 42.4             17.3           \n",
              "21  N7A1          Yes               2007-11-15 41.1             17.6           \n",
              "22  N26A1         Yes               2007-11-16 36.5             18.0           \n",
              "23  N29A1         Yes               2007-11-13 41.1             19.0           \n",
              "24  N17A1         Yes               2007-11-12 40.6             18.6           \n",
              "25  N49A1         Yes               2009-11-15 37.7             16.0           \n",
              "26  N10A1         Yes               2007-11-16 34.4             18.4           \n",
              "27  N22A2         Yes               2007-11-09 40.9             18.9           \n",
              "28  N25A2         No                2007-11-13 39.8             19.1           \n",
              "29  N29A1         Yes               2008-11-13 36.4             17.1           \n",
              "30  N37A2         Yes               2008-11-06 37.2             19.4           \n",
              "⋮   ⋮             ⋮                 ⋮          ⋮                ⋮              \n",
              "315 N8A1          Yes               2008-11-03 50.5             15.9           \n",
              "316 N20A2         Yes               2009-11-18 46.9             14.6           \n",
              "317 N36A2         Yes               2009-12-01 48.8             16.2           \n",
              "318 N39A2         Yes               2009-11-22 50.4             15.7           \n",
              "319 N53A2         Yes               2008-11-13 50.7             15.0           \n",
              "320 N60A2         Yes               2008-11-09 45.2             16.4           \n",
              "321 N17A2         Yes               2008-11-06 50.4             15.3           \n",
              "322 N6A2          Yes               2009-11-15 50.0             15.9           \n",
              "323 N18A2         Yes               2009-12-01 49.5             16.1           \n",
              "324 N6A2          No                2008-11-04 49.6             16.0           \n",
              "325 N11A2         No                2008-11-09 50.5             15.9           \n",
              "326 N14A2         Yes               2008-11-04 50.1             15.0           \n",
              "327 N21A2         Yes               2009-11-18 51.1             16.5           \n",
              "328 N19A2         Yes               2009-11-27 50.8             15.7           \n",
              "329 N8A2          Yes               2009-11-22 50.8             17.3           \n",
              "330 N15A2         Yes               2009-11-25 52.2             17.1           \n",
              "331 N22A2         Yes               2009-11-22 55.9             17.0           \n",
              "332 N23A2         Yes               2009-11-18 49.1             15.0           \n",
              "333 N51A2         Yes               2008-11-09 49.5             16.2           \n",
              "334 N32A2         Yes               2009-11-20 49.8             15.9           \n",
              "335 N31A2         Yes               2007-11-27 50.0             16.3           \n",
              "336 N56A2         Yes               2007-12-03 59.6             17.0           \n",
              "337 N20A2         Yes               2008-11-04 49.8             16.8           \n",
              "338 N56A2         Yes               2008-11-06 48.6             16.0           \n",
              "339 N14A2         Yes               2009-11-25 52.1             17.0           \n",
              "340 N34A2         Yes               2009-11-27 51.5             16.3           \n",
              "341 N35A2         Yes               2009-11-25 55.1             16.0           \n",
              "342 N19A2         Yes               2008-11-13 54.3             15.7           \n",
              "343 N2A2          Yes               2007-11-16   NA               NA           \n",
              "344 N38A2         No                2009-12-01   NA               NA           \n",
              "    flipper_length_mm body_mass_g sex    delta_15_n_o_oo delta_13_c_o_oo\n",
              "1   172               3150        FEMALE 8.38404         -25.19837      \n",
              "2   174               3400        FEMALE 8.73762         -25.09383      \n",
              "3   176               3450        FEMALE 9.30722         -25.61039      \n",
              "4   178               3250        FEMALE 9.69756         -25.11223      \n",
              "5   178               3900        MALE   9.72764         -25.01020      \n",
              "6   178               2900        FEMALE 9.04218         -26.15775      \n",
              "7   178               3250        FEMALE 8.85664         -24.55644      \n",
              "8   179               2975        NA          NA                NA      \n",
              "9   180               3700        NA          NA                NA      \n",
              "10  180               3600        MALE   8.66271         -25.06390      \n",
              "11  180               3800        MALE   9.63954         -25.29856      \n",
              "12  180               3950        MALE   8.90027         -25.11609      \n",
              "13  180               3550        FEMALE 8.04787         -25.49523      \n",
              "14  181               3750        MALE        NA                NA      \n",
              "15  181               3625        FEMALE 9.18718         -25.21799      \n",
              "16  181               3300        FEMALE 9.41131         -25.04169      \n",
              "17  181               2850        FEMALE 9.07878         -25.88156      \n",
              "18  181               3175        FEMALE 9.79532         -25.27385      \n",
              "19  181               3700        FEMALE 9.14382         -24.57994      \n",
              "20  181               3600        FEMALE 9.35138         -24.68790      \n",
              "21  182               3200        FEMALE      NA                NA      \n",
              "22  182               3150        FEMALE 9.68933         -24.42280      \n",
              "23  182               3425        MALE        NA                NA      \n",
              "24  183               3550        MALE   8.93997         -25.36288      \n",
              "25  183               3075        FEMALE 9.21510         -26.22530      \n",
              "26  184               3325        FEMALE 8.47827         -25.23319      \n",
              "27  184               3900        MALE   8.79665         -25.14591      \n",
              "28  184               4650        MALE        NA                NA      \n",
              "29  184               2850        FEMALE 8.62623         -26.11650      \n",
              "30  184               3900        MALE   8.35540         -26.44787      \n",
              "⋮   ⋮                 ⋮           ⋮      ⋮               ⋮              \n",
              "315 222               5550        MALE   8.46894         -26.60436      \n",
              "316 222               4875        FEMALE 7.88810         -26.04726      \n",
              "317 222               6000        MALE   8.33825         -25.88547      \n",
              "318 222               5750        MALE   8.30166         -26.04117      \n",
              "319 223               5550        MALE   8.63551         -26.74249      \n",
              "320 223               5950        MALE   8.19749         -26.65931      \n",
              "321 224               5550        MALE   8.74647         -26.79846      \n",
              "322 224               5350        MALE   8.20042         -26.39677      \n",
              "323 224               5650        MALE   8.83352         -25.69195      \n",
              "324 225               5700        MALE   8.38324         -26.84272      \n",
              "325 225               5400        MALE   8.65803         -26.57585      \n",
              "326 225               5000        MALE   8.50153         -26.61414      \n",
              "327 225               5250        MALE   8.20660         -26.36863      \n",
              "328 226               5200        MALE   8.27102         -26.11244      \n",
              "329 228               5600        MALE   8.27428         -26.30019      \n",
              "330 228               5400        MALE   8.36701         -25.89834      \n",
              "331 228               5600        MALE   8.31180         -26.35425      \n",
              "332 228               5500        MALE   8.65914         -25.79203      \n",
              "333 229               5800        MALE   8.49854         -26.74809      \n",
              "334 229               5950        MALE   8.29226         -26.21019      \n",
              "335 230               5700        MALE   8.14756         -25.39369      \n",
              "336 230               6050        MALE   7.76843         -25.68210      \n",
              "337 230               5700        MALE   8.47067         -26.69166      \n",
              "338 230               5800        MALE   8.59640         -26.71199      \n",
              "339 230               5550        MALE   8.27595         -26.11657      \n",
              "340 230               5500        MALE   8.78557         -25.76147      \n",
              "341 230               5850        MALE   8.08354         -26.18161      \n",
              "342 231               5650        MALE   8.49662         -26.84166      \n",
              "343  NA                 NA        NA          NA                NA      \n",
              "344  NA                 NA        NA          NA                NA      \n",
              "    comments                                                            \n",
              "1   Nest never observed with full clutch.                               \n",
              "2   NA                                                                  \n",
              "3   NA                                                                  \n",
              "4   NA                                                                  \n",
              "5   NA                                                                  \n",
              "6   NA                                                                  \n",
              "7   NA                                                                  \n",
              "8   Sexing primers did not amplify. Not enough blood for isotopes.      \n",
              "9   No blood sample obtained.                                           \n",
              "10  NA                                                                  \n",
              "11  NA                                                                  \n",
              "12  Nest never observed with full clutch.                               \n",
              "13  NA                                                                  \n",
              "14  Not enough blood for isotopes.                                      \n",
              "15  Nest never observed with full clutch.                               \n",
              "16  Nest never observed with full clutch.                               \n",
              "17  NA                                                                  \n",
              "18  NA                                                                  \n",
              "19  Nest never observed with full clutch.                               \n",
              "20  NA                                                                  \n",
              "21  Not enough blood for isotopes.                                      \n",
              "22  NA                                                                  \n",
              "23  Not enough blood for isotopes.                                      \n",
              "24  NA                                                                  \n",
              "25  NA                                                                  \n",
              "26  NA                                                                  \n",
              "27  NA                                                                  \n",
              "28  Nest never observed with full clutch. Not enough blood for isotopes.\n",
              "29  NA                                                                  \n",
              "30  NA                                                                  \n",
              "⋮   ⋮                                                                   \n",
              "315 NA                                                                  \n",
              "316 NA                                                                  \n",
              "317 NA                                                                  \n",
              "318 NA                                                                  \n",
              "319 NA                                                                  \n",
              "320 NA                                                                  \n",
              "321 NA                                                                  \n",
              "322 NA                                                                  \n",
              "323 NA                                                                  \n",
              "324 Nest never observed with full clutch.                               \n",
              "325 Nest never observed with full clutch.                               \n",
              "326 NA                                                                  \n",
              "327 NA                                                                  \n",
              "328 NA                                                                  \n",
              "329 NA                                                                  \n",
              "330 NA                                                                  \n",
              "331 NA                                                                  \n",
              "332 NA                                                                  \n",
              "333 NA                                                                  \n",
              "334 NA                                                                  \n",
              "335 NA                                                                  \n",
              "336 NA                                                                  \n",
              "337 NA                                                                  \n",
              "338 NA                                                                  \n",
              "339 NA                                                                  \n",
              "340 NA                                                                  \n",
              "341 NA                                                                  \n",
              "342 NA                                                                  \n",
              "343 Adult not sampled.                                                  \n",
              "344 Adult not sampled. Nest never observed with full clutch.            "
            ],
            "text/latex": "A tibble: 344 × 16\n\\begin{tabular}{llllllllllllllll}\n study\\_name & sample\\_number & species & latin\\_name & island & individual\\_id & clutch\\_completion & date\\_egg & culmen\\_length\\_mm & culmen\\_depth\\_mm & flipper\\_length\\_mm & body\\_mass\\_g & sex & delta\\_15\\_n\\_o\\_oo & delta\\_13\\_c\\_o\\_oo & comments\\\\\n <chr> & <dbl> & <chr> & <chr> & <chr> & <chr> & <chr> & <date> & <dbl> & <dbl> & <dbl> & <dbl> & <chr> & <dbl> & <dbl> & <chr>\\\\\n\\hline\n\t PAL0708 &  29 & Adelie Penguin    & Pygoscelis adeliae)    & Biscoe    & N18A1 & No  & 2007-11-10 & 37.9 & 18.6 & 172 & 3150 & FEMALE & 8.38404 & -25.19837 & Nest never observed with full clutch.                               \\\\\n\t PAL0708 &  21 & Adelie Penguin    & Pygoscelis adeliae)    & Biscoe    & N11A1 & Yes & 2007-11-12 & 37.8 & 18.3 & 174 & 3400 & FEMALE & 8.73762 & -25.09383 & NA                                                                  \\\\\n\t PAL0910 & 123 & Adelie Penguin    & Pygoscelis adeliae)    & Torgersen & N67A1 & Yes & 2009-11-16 & 40.2 & 17.0 & 176 & 3450 & FEMALE & 9.30722 & -25.61039 & NA                                                                  \\\\\n\t PAL0708 &  31 & Adelie Penguin    & Pygoscelis adeliae)    & Dream     & N21A1 & Yes & 2007-11-09 & 39.5 & 16.7 & 178 & 3250 & FEMALE & 9.69756 & -25.11223 & NA                                                                  \\\\\n\t PAL0708 &  32 & Adelie Penguin    & Pygoscelis adeliae)    & Dream     & N21A2 & Yes & 2007-11-09 & 37.2 & 18.1 & 178 & 3900 & MALE   & 9.72764 & -25.01020 & NA                                                                  \\\\\n\t PAL0809 &  99 & Adelie Penguin    & Pygoscelis adeliae)    & Dream     & N50A1 & Yes & 2008-11-10 & 33.1 & 16.1 & 178 & 2900 & FEMALE & 9.04218 & -26.15775 & NA                                                                  \\\\\n\t PAL0708 &   7 & Chinstrap penguin & Pygoscelis antarctica) & Dream     & N66A1 & Yes & 2007-11-28 & 46.1 & 18.2 & 178 & 3250 & FEMALE & 8.85664 & -24.55644 & NA                                                                  \\\\\n\t PAL0708 &  48 & Adelie Penguin    & Pygoscelis adeliae)    & Dream     & N29A2 & Yes & 2007-11-13 & 37.5 & 18.9 & 179 & 2975 & NA     &      NA &        NA & Sexing primers did not amplify. Not enough blood for isotopes.      \\\\\n\t PAL0708 &  12 & Adelie Penguin    & Pygoscelis adeliae)    & Torgersen & N6A2  & Yes & 2007-11-09 & 37.8 & 17.3 & 180 & 3700 & NA     &      NA &        NA & No blood sample obtained.                                           \\\\\n\t PAL0708 &  22 & Adelie Penguin    & Pygoscelis adeliae)    & Biscoe    & N11A2 & Yes & 2007-11-12 & 37.7 & 18.7 & 180 & 3600 & MALE   & 8.66271 & -25.06390 & NA                                                                  \\\\\n\t PAL0708 &  25 & Adelie Penguin    & Pygoscelis adeliae)    & Biscoe    & N13A1 & Yes & 2007-11-10 & 38.8 & 17.2 & 180 & 3800 & MALE   & 9.63954 & -25.29856 & NA                                                                  \\\\\n\t PAL0708 &  30 & Adelie Penguin    & Pygoscelis adeliae)    & Biscoe    & N18A2 & No  & 2007-11-10 & 40.5 & 18.9 & 180 & 3950 & MALE   & 8.90027 & -25.11609 & Nest never observed with full clutch.                               \\\\\n\t PAL0708 &  38 & Adelie Penguin    & Pygoscelis adeliae)    & Dream     & N24A2 & Yes & 2007-11-16 & 42.2 & 18.5 & 180 & 3550 & FEMALE & 8.04787 & -25.49523 & NA                                                                  \\\\\n\t PAL0708 &   1 & Adelie Penguin    & Pygoscelis adeliae)    & Torgersen & N1A1  & Yes & 2007-11-11 & 39.1 & 18.7 & 181 & 3750 & MALE   &      NA &        NA & Not enough blood for isotopes.                                      \\\\\n\t PAL0708 &   7 & Adelie Penguin    & Pygoscelis adeliae)    & Torgersen & N4A1  & No  & 2007-11-15 & 38.9 & 17.8 & 181 & 3625 & FEMALE & 9.18718 & -25.21799 & Nest never observed with full clutch.                               \\\\\n\t PAL0708 &  39 & Adelie Penguin    & Pygoscelis adeliae)    & Dream     & N25A1 & No  & 2007-11-13 & 37.6 & 19.3 & 181 & 3300 & FEMALE & 9.41131 & -25.04169 & Nest never observed with full clutch.                               \\\\\n\t PAL0809 &  59 & Adelie Penguin    & Pygoscelis adeliae)    & Biscoe    & N25A1 & Yes & 2008-11-15 & 36.5 & 16.6 & 181 & 2850 & FEMALE & 9.07878 & -25.88156 & NA                                                                  \\\\\n\t PAL0910 & 109 & Adelie Penguin    & Pygoscelis adeliae)    & Biscoe    & N55A1 & Yes & 2009-11-20 & 38.1 & 17.0 & 181 & 3175 & FEMALE & 9.79532 & -25.27385 & NA                                                                  \\\\\n\t PAL0708 &  18 & Chinstrap penguin & Pygoscelis antarctica) & Dream     & N71A2 & No  & 2007-11-30 & 58.0 & 17.8 & 181 & 3700 & FEMALE & 9.14382 & -24.57994 & Nest never observed with full clutch.                               \\\\\n\t PAL0708 &  21 & Chinstrap penguin & Pygoscelis antarctica) & Dream     & N73A1 & Yes & 2007-12-03 & 42.4 & 17.3 & 181 & 3600 & FEMALE & 9.35138 & -24.68790 & NA                                                                  \\\\\n\t PAL0708 &  13 & Adelie Penguin    & Pygoscelis adeliae)    & Torgersen & N7A1  & Yes & 2007-11-15 & 41.1 & 17.6 & 182 & 3200 & FEMALE &      NA &        NA & Not enough blood for isotopes.                                      \\\\\n\t PAL0708 &  41 & Adelie Penguin    & Pygoscelis adeliae)    & Dream     & N26A1 & Yes & 2007-11-16 & 36.5 & 18.0 & 182 & 3150 & FEMALE & 9.68933 & -24.42280 & NA                                                                  \\\\\n\t PAL0708 &  47 & Adelie Penguin    & Pygoscelis adeliae)    & Dream     & N29A1 & Yes & 2007-11-13 & 41.1 & 19.0 & 182 & 3425 & MALE   &      NA &        NA & Not enough blood for isotopes.                                      \\\\\n\t PAL0708 &  27 & Adelie Penguin    & Pygoscelis adeliae)    & Biscoe    & N17A1 & Yes & 2007-11-12 & 40.6 & 18.6 & 183 & 3550 & MALE   & 8.93997 & -25.36288 & NA                                                                  \\\\\n\t PAL0910 & 103 & Adelie Penguin    & Pygoscelis adeliae)    & Biscoe    & N49A1 & Yes & 2009-11-15 & 37.7 & 16.0 & 183 & 3075 & FEMALE & 9.21510 & -26.22530 & NA                                                                  \\\\\n\t PAL0708 &  19 & Adelie Penguin    & Pygoscelis adeliae)    & Torgersen & N10A1 & Yes & 2007-11-16 & 34.4 & 18.4 & 184 & 3325 & FEMALE & 8.47827 & -25.23319 & NA                                                                  \\\\\n\t PAL0708 &  34 & Adelie Penguin    & Pygoscelis adeliae)    & Dream     & N22A2 & Yes & 2007-11-09 & 40.9 & 18.9 & 184 & 3900 & MALE   & 8.79665 & -25.14591 & NA                                                                  \\\\\n\t PAL0708 &  40 & Adelie Penguin    & Pygoscelis adeliae)    & Dream     & N25A2 & No  & 2007-11-13 & 39.8 & 19.1 & 184 & 4650 & MALE   &      NA &        NA & Nest never observed with full clutch. Not enough blood for isotopes.\\\\\n\t PAL0809 &  65 & Adelie Penguin    & Pygoscelis adeliae)    & Biscoe    & N29A1 & Yes & 2008-11-13 & 36.4 & 17.1 & 184 & 2850 & FEMALE & 8.62623 & -26.11650 & NA                                                                  \\\\\n\t PAL0809 &  78 & Adelie Penguin    & Pygoscelis adeliae)    & Torgersen & N37A2 & Yes & 2008-11-06 & 37.2 & 19.4 & 184 & 3900 & MALE   & 8.35540 & -26.44787 & NA                                                                  \\\\\n\t ⋮ & ⋮ & ⋮ & ⋮ & ⋮ & ⋮ & ⋮ & ⋮ & ⋮ & ⋮ & ⋮ & ⋮ & ⋮ & ⋮ & ⋮ & ⋮\\\\\n\t PAL0809 &  45 & Gentoo penguin & Pygoscelis papua)   & Biscoe    & N8A1  & Yes & 2008-11-03 & 50.5 & 15.9 & 222 & 5550 & MALE   & 8.46894 & -26.60436 & NA                                                      \\\\\n\t PAL0910 &  98 & Gentoo penguin & Pygoscelis papua)   & Biscoe    & N20A2 & Yes & 2009-11-18 & 46.9 & 14.6 & 222 & 4875 & FEMALE & 7.88810 & -26.04726 & NA                                                      \\\\\n\t PAL0910 & 118 & Gentoo penguin & Pygoscelis papua)   & Biscoe    & N36A2 & Yes & 2009-12-01 & 48.8 & 16.2 & 222 & 6000 & MALE   & 8.33825 & -25.88547 & NA                                                      \\\\\n\t PAL0910 & 122 & Gentoo penguin & Pygoscelis papua)   & Biscoe    & N39A2 & Yes & 2009-11-22 & 50.4 & 15.7 & 222 & 5750 & MALE   & 8.30166 & -26.04117 & NA                                                      \\\\\n\t PAL0809 &  70 & Gentoo penguin & Pygoscelis papua)   & Biscoe    & N53A2 & Yes & 2008-11-13 & 50.7 & 15.0 & 223 & 5550 & MALE   & 8.63551 & -26.74249 & NA                                                      \\\\\n\t PAL0809 &  80 & Gentoo penguin & Pygoscelis papua)   & Biscoe    & N60A2 & Yes & 2008-11-09 & 45.2 & 16.4 & 223 & 5950 & MALE   & 8.19749 & -26.65931 & NA                                                      \\\\\n\t PAL0809 &  60 & Gentoo penguin & Pygoscelis papua)   & Biscoe    & N17A2 & Yes & 2008-11-06 & 50.4 & 15.3 & 224 & 5550 & MALE   & 8.74647 & -26.79846 & NA                                                      \\\\\n\t PAL0910 &  84 & Gentoo penguin & Pygoscelis papua)   & Biscoe    & N6A2  & Yes & 2009-11-15 & 50.0 & 15.9 & 224 & 5350 & MALE   & 8.20042 & -26.39677 & NA                                                      \\\\\n\t PAL0910 &  94 & Gentoo penguin & Pygoscelis papua)   & Biscoe    & N18A2 & Yes & 2009-12-01 & 49.5 & 16.1 & 224 & 5650 & MALE   & 8.83352 & -25.69195 & NA                                                      \\\\\n\t PAL0809 &  42 & Gentoo penguin & Pygoscelis papua)   & Biscoe    & N6A2  & No  & 2008-11-04 & 49.6 & 16.0 & 225 & 5700 & MALE   & 8.38324 & -26.84272 & Nest never observed with full clutch.                   \\\\\n\t PAL0809 &  48 & Gentoo penguin & Pygoscelis papua)   & Biscoe    & N11A2 & No  & 2008-11-09 & 50.5 & 15.9 & 225 & 5400 & MALE   & 8.65803 & -26.57585 & Nest never observed with full clutch.                   \\\\\n\t PAL0809 &  54 & Gentoo penguin & Pygoscelis papua)   & Biscoe    & N14A2 & Yes & 2008-11-04 & 50.1 & 15.0 & 225 & 5000 & MALE   & 8.50153 & -26.61414 & NA                                                      \\\\\n\t PAL0910 & 100 & Gentoo penguin & Pygoscelis papua)   & Biscoe    & N21A2 & Yes & 2009-11-18 & 51.1 & 16.5 & 225 & 5250 & MALE   & 8.20660 & -26.36863 & NA                                                      \\\\\n\t PAL0910 &  96 & Gentoo penguin & Pygoscelis papua)   & Biscoe    & N19A2 & Yes & 2009-11-27 & 50.8 & 15.7 & 226 & 5200 & MALE   & 8.27102 & -26.11244 & NA                                                      \\\\\n\t PAL0910 &  86 & Gentoo penguin & Pygoscelis papua)   & Biscoe    & N8A2  & Yes & 2009-11-22 & 50.8 & 17.3 & 228 & 5600 & MALE   & 8.27428 & -26.30019 & NA                                                      \\\\\n\t PAL0910 &  92 & Gentoo penguin & Pygoscelis papua)   & Biscoe    & N15A2 & Yes & 2009-11-25 & 52.2 & 17.1 & 228 & 5400 & MALE   & 8.36701 & -25.89834 & NA                                                      \\\\\n\t PAL0910 & 102 & Gentoo penguin & Pygoscelis papua)   & Biscoe    & N22A2 & Yes & 2009-11-22 & 55.9 & 17.0 & 228 & 5600 & MALE   & 8.31180 & -26.35425 & NA                                                      \\\\\n\t PAL0910 & 104 & Gentoo penguin & Pygoscelis papua)   & Biscoe    & N23A2 & Yes & 2009-11-18 & 49.1 & 15.0 & 228 & 5500 & MALE   & 8.65914 & -25.79203 & NA                                                      \\\\\n\t PAL0809 &  68 & Gentoo penguin & Pygoscelis papua)   & Biscoe    & N51A2 & Yes & 2008-11-09 & 49.5 & 16.2 & 229 & 5800 & MALE   & 8.49854 & -26.74809 & NA                                                      \\\\\n\t PAL0910 & 112 & Gentoo penguin & Pygoscelis papua)   & Biscoe    & N32A2 & Yes & 2009-11-20 & 49.8 & 15.9 & 229 & 5950 & MALE   & 8.29226 & -26.21019 & NA                                                      \\\\\n\t PAL0708 &   2 & Gentoo penguin & Pygoscelis papua)   & Biscoe    & N31A2 & Yes & 2007-11-27 & 50.0 & 16.3 & 230 & 5700 & MALE   & 8.14756 & -25.39369 & NA                                                      \\\\\n\t PAL0708 &  34 & Gentoo penguin & Pygoscelis papua)   & Biscoe    & N56A2 & Yes & 2007-12-03 & 59.6 & 17.0 & 230 & 6050 & MALE   & 7.76843 & -25.68210 & NA                                                      \\\\\n\t PAL0809 &  66 & Gentoo penguin & Pygoscelis papua)   & Biscoe    & N20A2 & Yes & 2008-11-04 & 49.8 & 16.8 & 230 & 5700 & MALE   & 8.47067 & -26.69166 & NA                                                      \\\\\n\t PAL0809 &  76 & Gentoo penguin & Pygoscelis papua)   & Biscoe    & N56A2 & Yes & 2008-11-06 & 48.6 & 16.0 & 230 & 5800 & MALE   & 8.59640 & -26.71199 & NA                                                      \\\\\n\t PAL0910 &  90 & Gentoo penguin & Pygoscelis papua)   & Biscoe    & N14A2 & Yes & 2009-11-25 & 52.1 & 17.0 & 230 & 5550 & MALE   & 8.27595 & -26.11657 & NA                                                      \\\\\n\t PAL0910 & 114 & Gentoo penguin & Pygoscelis papua)   & Biscoe    & N34A2 & Yes & 2009-11-27 & 51.5 & 16.3 & 230 & 5500 & MALE   & 8.78557 & -25.76147 & NA                                                      \\\\\n\t PAL0910 & 116 & Gentoo penguin & Pygoscelis papua)   & Biscoe    & N35A2 & Yes & 2009-11-25 & 55.1 & 16.0 & 230 & 5850 & MALE   & 8.08354 & -26.18161 & NA                                                      \\\\\n\t PAL0809 &  64 & Gentoo penguin & Pygoscelis papua)   & Biscoe    & N19A2 & Yes & 2008-11-13 & 54.3 & 15.7 & 231 & 5650 & MALE   & 8.49662 & -26.84166 & NA                                                      \\\\\n\t PAL0708 &   4 & Adelie Penguin & Pygoscelis adeliae) & Torgersen & N2A2  & Yes & 2007-11-16 &   NA &   NA &  NA &   NA & NA     &      NA &        NA & Adult not sampled.                                      \\\\\n\t PAL0910 & 120 & Gentoo penguin & Pygoscelis papua)   & Biscoe    & N38A2 & No  & 2009-12-01 &   NA &   NA &  NA &   NA & NA     &      NA &        NA & Adult not sampled. Nest never observed with full clutch.\\\\\n\\end{tabular}\n",
            "text/markdown": "\nA tibble: 344 × 16\n\n| study_name &lt;chr&gt; | sample_number &lt;dbl&gt; | species &lt;chr&gt; | latin_name &lt;chr&gt; | island &lt;chr&gt; | individual_id &lt;chr&gt; | clutch_completion &lt;chr&gt; | date_egg &lt;date&gt; | culmen_length_mm &lt;dbl&gt; | culmen_depth_mm &lt;dbl&gt; | flipper_length_mm &lt;dbl&gt; | body_mass_g &lt;dbl&gt; | sex &lt;chr&gt; | delta_15_n_o_oo &lt;dbl&gt; | delta_13_c_o_oo &lt;dbl&gt; | comments &lt;chr&gt; |\n|---|---|---|---|---|---|---|---|---|---|---|---|---|---|---|---|\n| PAL0708 |  29 | Adelie Penguin    | Pygoscelis adeliae)    | Biscoe    | N18A1 | No  | 2007-11-10 | 37.9 | 18.6 | 172 | 3150 | FEMALE | 8.38404 | -25.19837 | Nest never observed with full clutch.                                |\n| PAL0708 |  21 | Adelie Penguin    | Pygoscelis adeliae)    | Biscoe    | N11A1 | Yes | 2007-11-12 | 37.8 | 18.3 | 174 | 3400 | FEMALE | 8.73762 | -25.09383 | NA                                                                   |\n| PAL0910 | 123 | Adelie Penguin    | Pygoscelis adeliae)    | Torgersen | N67A1 | Yes | 2009-11-16 | 40.2 | 17.0 | 176 | 3450 | FEMALE | 9.30722 | -25.61039 | NA                                                                   |\n| PAL0708 |  31 | Adelie Penguin    | Pygoscelis adeliae)    | Dream     | N21A1 | Yes | 2007-11-09 | 39.5 | 16.7 | 178 | 3250 | FEMALE | 9.69756 | -25.11223 | NA                                                                   |\n| PAL0708 |  32 | Adelie Penguin    | Pygoscelis adeliae)    | Dream     | N21A2 | Yes | 2007-11-09 | 37.2 | 18.1 | 178 | 3900 | MALE   | 9.72764 | -25.01020 | NA                                                                   |\n| PAL0809 |  99 | Adelie Penguin    | Pygoscelis adeliae)    | Dream     | N50A1 | Yes | 2008-11-10 | 33.1 | 16.1 | 178 | 2900 | FEMALE | 9.04218 | -26.15775 | NA                                                                   |\n| PAL0708 |   7 | Chinstrap penguin | Pygoscelis antarctica) | Dream     | N66A1 | Yes | 2007-11-28 | 46.1 | 18.2 | 178 | 3250 | FEMALE | 8.85664 | -24.55644 | NA                                                                   |\n| PAL0708 |  48 | Adelie Penguin    | Pygoscelis adeliae)    | Dream     | N29A2 | Yes | 2007-11-13 | 37.5 | 18.9 | 179 | 2975 | NA     |      NA |        NA | Sexing primers did not amplify. Not enough blood for isotopes.       |\n| PAL0708 |  12 | Adelie Penguin    | Pygoscelis adeliae)    | Torgersen | N6A2  | Yes | 2007-11-09 | 37.8 | 17.3 | 180 | 3700 | NA     |      NA |        NA | No blood sample obtained.                                            |\n| PAL0708 |  22 | Adelie Penguin    | Pygoscelis adeliae)    | Biscoe    | N11A2 | Yes | 2007-11-12 | 37.7 | 18.7 | 180 | 3600 | MALE   | 8.66271 | -25.06390 | NA                                                                   |\n| PAL0708 |  25 | Adelie Penguin    | Pygoscelis adeliae)    | Biscoe    | N13A1 | Yes | 2007-11-10 | 38.8 | 17.2 | 180 | 3800 | MALE   | 9.63954 | -25.29856 | NA                                                                   |\n| PAL0708 |  30 | Adelie Penguin    | Pygoscelis adeliae)    | Biscoe    | N18A2 | No  | 2007-11-10 | 40.5 | 18.9 | 180 | 3950 | MALE   | 8.90027 | -25.11609 | Nest never observed with full clutch.                                |\n| PAL0708 |  38 | Adelie Penguin    | Pygoscelis adeliae)    | Dream     | N24A2 | Yes | 2007-11-16 | 42.2 | 18.5 | 180 | 3550 | FEMALE | 8.04787 | -25.49523 | NA                                                                   |\n| PAL0708 |   1 | Adelie Penguin    | Pygoscelis adeliae)    | Torgersen | N1A1  | Yes | 2007-11-11 | 39.1 | 18.7 | 181 | 3750 | MALE   |      NA |        NA | Not enough blood for isotopes.                                       |\n| PAL0708 |   7 | Adelie Penguin    | Pygoscelis adeliae)    | Torgersen | N4A1  | No  | 2007-11-15 | 38.9 | 17.8 | 181 | 3625 | FEMALE | 9.18718 | -25.21799 | Nest never observed with full clutch.                                |\n| PAL0708 |  39 | Adelie Penguin    | Pygoscelis adeliae)    | Dream     | N25A1 | No  | 2007-11-13 | 37.6 | 19.3 | 181 | 3300 | FEMALE | 9.41131 | -25.04169 | Nest never observed with full clutch.                                |\n| PAL0809 |  59 | Adelie Penguin    | Pygoscelis adeliae)    | Biscoe    | N25A1 | Yes | 2008-11-15 | 36.5 | 16.6 | 181 | 2850 | FEMALE | 9.07878 | -25.88156 | NA                                                                   |\n| PAL0910 | 109 | Adelie Penguin    | Pygoscelis adeliae)    | Biscoe    | N55A1 | Yes | 2009-11-20 | 38.1 | 17.0 | 181 | 3175 | FEMALE | 9.79532 | -25.27385 | NA                                                                   |\n| PAL0708 |  18 | Chinstrap penguin | Pygoscelis antarctica) | Dream     | N71A2 | No  | 2007-11-30 | 58.0 | 17.8 | 181 | 3700 | FEMALE | 9.14382 | -24.57994 | Nest never observed with full clutch.                                |\n| PAL0708 |  21 | Chinstrap penguin | Pygoscelis antarctica) | Dream     | N73A1 | Yes | 2007-12-03 | 42.4 | 17.3 | 181 | 3600 | FEMALE | 9.35138 | -24.68790 | NA                                                                   |\n| PAL0708 |  13 | Adelie Penguin    | Pygoscelis adeliae)    | Torgersen | N7A1  | Yes | 2007-11-15 | 41.1 | 17.6 | 182 | 3200 | FEMALE |      NA |        NA | Not enough blood for isotopes.                                       |\n| PAL0708 |  41 | Adelie Penguin    | Pygoscelis adeliae)    | Dream     | N26A1 | Yes | 2007-11-16 | 36.5 | 18.0 | 182 | 3150 | FEMALE | 9.68933 | -24.42280 | NA                                                                   |\n| PAL0708 |  47 | Adelie Penguin    | Pygoscelis adeliae)    | Dream     | N29A1 | Yes | 2007-11-13 | 41.1 | 19.0 | 182 | 3425 | MALE   |      NA |        NA | Not enough blood for isotopes.                                       |\n| PAL0708 |  27 | Adelie Penguin    | Pygoscelis adeliae)    | Biscoe    | N17A1 | Yes | 2007-11-12 | 40.6 | 18.6 | 183 | 3550 | MALE   | 8.93997 | -25.36288 | NA                                                                   |\n| PAL0910 | 103 | Adelie Penguin    | Pygoscelis adeliae)    | Biscoe    | N49A1 | Yes | 2009-11-15 | 37.7 | 16.0 | 183 | 3075 | FEMALE | 9.21510 | -26.22530 | NA                                                                   |\n| PAL0708 |  19 | Adelie Penguin    | Pygoscelis adeliae)    | Torgersen | N10A1 | Yes | 2007-11-16 | 34.4 | 18.4 | 184 | 3325 | FEMALE | 8.47827 | -25.23319 | NA                                                                   |\n| PAL0708 |  34 | Adelie Penguin    | Pygoscelis adeliae)    | Dream     | N22A2 | Yes | 2007-11-09 | 40.9 | 18.9 | 184 | 3900 | MALE   | 8.79665 | -25.14591 | NA                                                                   |\n| PAL0708 |  40 | Adelie Penguin    | Pygoscelis adeliae)    | Dream     | N25A2 | No  | 2007-11-13 | 39.8 | 19.1 | 184 | 4650 | MALE   |      NA |        NA | Nest never observed with full clutch. Not enough blood for isotopes. |\n| PAL0809 |  65 | Adelie Penguin    | Pygoscelis adeliae)    | Biscoe    | N29A1 | Yes | 2008-11-13 | 36.4 | 17.1 | 184 | 2850 | FEMALE | 8.62623 | -26.11650 | NA                                                                   |\n| PAL0809 |  78 | Adelie Penguin    | Pygoscelis adeliae)    | Torgersen | N37A2 | Yes | 2008-11-06 | 37.2 | 19.4 | 184 | 3900 | MALE   | 8.35540 | -26.44787 | NA                                                                   |\n| ⋮ | ⋮ | ⋮ | ⋮ | ⋮ | ⋮ | ⋮ | ⋮ | ⋮ | ⋮ | ⋮ | ⋮ | ⋮ | ⋮ | ⋮ | ⋮ |\n| PAL0809 |  45 | Gentoo penguin | Pygoscelis papua)   | Biscoe    | N8A1  | Yes | 2008-11-03 | 50.5 | 15.9 | 222 | 5550 | MALE   | 8.46894 | -26.60436 | NA                                                       |\n| PAL0910 |  98 | Gentoo penguin | Pygoscelis papua)   | Biscoe    | N20A2 | Yes | 2009-11-18 | 46.9 | 14.6 | 222 | 4875 | FEMALE | 7.88810 | -26.04726 | NA                                                       |\n| PAL0910 | 118 | Gentoo penguin | Pygoscelis papua)   | Biscoe    | N36A2 | Yes | 2009-12-01 | 48.8 | 16.2 | 222 | 6000 | MALE   | 8.33825 | -25.88547 | NA                                                       |\n| PAL0910 | 122 | Gentoo penguin | Pygoscelis papua)   | Biscoe    | N39A2 | Yes | 2009-11-22 | 50.4 | 15.7 | 222 | 5750 | MALE   | 8.30166 | -26.04117 | NA                                                       |\n| PAL0809 |  70 | Gentoo penguin | Pygoscelis papua)   | Biscoe    | N53A2 | Yes | 2008-11-13 | 50.7 | 15.0 | 223 | 5550 | MALE   | 8.63551 | -26.74249 | NA                                                       |\n| PAL0809 |  80 | Gentoo penguin | Pygoscelis papua)   | Biscoe    | N60A2 | Yes | 2008-11-09 | 45.2 | 16.4 | 223 | 5950 | MALE   | 8.19749 | -26.65931 | NA                                                       |\n| PAL0809 |  60 | Gentoo penguin | Pygoscelis papua)   | Biscoe    | N17A2 | Yes | 2008-11-06 | 50.4 | 15.3 | 224 | 5550 | MALE   | 8.74647 | -26.79846 | NA                                                       |\n| PAL0910 |  84 | Gentoo penguin | Pygoscelis papua)   | Biscoe    | N6A2  | Yes | 2009-11-15 | 50.0 | 15.9 | 224 | 5350 | MALE   | 8.20042 | -26.39677 | NA                                                       |\n| PAL0910 |  94 | Gentoo penguin | Pygoscelis papua)   | Biscoe    | N18A2 | Yes | 2009-12-01 | 49.5 | 16.1 | 224 | 5650 | MALE   | 8.83352 | -25.69195 | NA                                                       |\n| PAL0809 |  42 | Gentoo penguin | Pygoscelis papua)   | Biscoe    | N6A2  | No  | 2008-11-04 | 49.6 | 16.0 | 225 | 5700 | MALE   | 8.38324 | -26.84272 | Nest never observed with full clutch.                    |\n| PAL0809 |  48 | Gentoo penguin | Pygoscelis papua)   | Biscoe    | N11A2 | No  | 2008-11-09 | 50.5 | 15.9 | 225 | 5400 | MALE   | 8.65803 | -26.57585 | Nest never observed with full clutch.                    |\n| PAL0809 |  54 | Gentoo penguin | Pygoscelis papua)   | Biscoe    | N14A2 | Yes | 2008-11-04 | 50.1 | 15.0 | 225 | 5000 | MALE   | 8.50153 | -26.61414 | NA                                                       |\n| PAL0910 | 100 | Gentoo penguin | Pygoscelis papua)   | Biscoe    | N21A2 | Yes | 2009-11-18 | 51.1 | 16.5 | 225 | 5250 | MALE   | 8.20660 | -26.36863 | NA                                                       |\n| PAL0910 |  96 | Gentoo penguin | Pygoscelis papua)   | Biscoe    | N19A2 | Yes | 2009-11-27 | 50.8 | 15.7 | 226 | 5200 | MALE   | 8.27102 | -26.11244 | NA                                                       |\n| PAL0910 |  86 | Gentoo penguin | Pygoscelis papua)   | Biscoe    | N8A2  | Yes | 2009-11-22 | 50.8 | 17.3 | 228 | 5600 | MALE   | 8.27428 | -26.30019 | NA                                                       |\n| PAL0910 |  92 | Gentoo penguin | Pygoscelis papua)   | Biscoe    | N15A2 | Yes | 2009-11-25 | 52.2 | 17.1 | 228 | 5400 | MALE   | 8.36701 | -25.89834 | NA                                                       |\n| PAL0910 | 102 | Gentoo penguin | Pygoscelis papua)   | Biscoe    | N22A2 | Yes | 2009-11-22 | 55.9 | 17.0 | 228 | 5600 | MALE   | 8.31180 | -26.35425 | NA                                                       |\n| PAL0910 | 104 | Gentoo penguin | Pygoscelis papua)   | Biscoe    | N23A2 | Yes | 2009-11-18 | 49.1 | 15.0 | 228 | 5500 | MALE   | 8.65914 | -25.79203 | NA                                                       |\n| PAL0809 |  68 | Gentoo penguin | Pygoscelis papua)   | Biscoe    | N51A2 | Yes | 2008-11-09 | 49.5 | 16.2 | 229 | 5800 | MALE   | 8.49854 | -26.74809 | NA                                                       |\n| PAL0910 | 112 | Gentoo penguin | Pygoscelis papua)   | Biscoe    | N32A2 | Yes | 2009-11-20 | 49.8 | 15.9 | 229 | 5950 | MALE   | 8.29226 | -26.21019 | NA                                                       |\n| PAL0708 |   2 | Gentoo penguin | Pygoscelis papua)   | Biscoe    | N31A2 | Yes | 2007-11-27 | 50.0 | 16.3 | 230 | 5700 | MALE   | 8.14756 | -25.39369 | NA                                                       |\n| PAL0708 |  34 | Gentoo penguin | Pygoscelis papua)   | Biscoe    | N56A2 | Yes | 2007-12-03 | 59.6 | 17.0 | 230 | 6050 | MALE   | 7.76843 | -25.68210 | NA                                                       |\n| PAL0809 |  66 | Gentoo penguin | Pygoscelis papua)   | Biscoe    | N20A2 | Yes | 2008-11-04 | 49.8 | 16.8 | 230 | 5700 | MALE   | 8.47067 | -26.69166 | NA                                                       |\n| PAL0809 |  76 | Gentoo penguin | Pygoscelis papua)   | Biscoe    | N56A2 | Yes | 2008-11-06 | 48.6 | 16.0 | 230 | 5800 | MALE   | 8.59640 | -26.71199 | NA                                                       |\n| PAL0910 |  90 | Gentoo penguin | Pygoscelis papua)   | Biscoe    | N14A2 | Yes | 2009-11-25 | 52.1 | 17.0 | 230 | 5550 | MALE   | 8.27595 | -26.11657 | NA                                                       |\n| PAL0910 | 114 | Gentoo penguin | Pygoscelis papua)   | Biscoe    | N34A2 | Yes | 2009-11-27 | 51.5 | 16.3 | 230 | 5500 | MALE   | 8.78557 | -25.76147 | NA                                                       |\n| PAL0910 | 116 | Gentoo penguin | Pygoscelis papua)   | Biscoe    | N35A2 | Yes | 2009-11-25 | 55.1 | 16.0 | 230 | 5850 | MALE   | 8.08354 | -26.18161 | NA                                                       |\n| PAL0809 |  64 | Gentoo penguin | Pygoscelis papua)   | Biscoe    | N19A2 | Yes | 2008-11-13 | 54.3 | 15.7 | 231 | 5650 | MALE   | 8.49662 | -26.84166 | NA                                                       |\n| PAL0708 |   4 | Adelie Penguin | Pygoscelis adeliae) | Torgersen | N2A2  | Yes | 2007-11-16 |   NA |   NA |  NA |   NA | NA     |      NA |        NA | Adult not sampled.                                       |\n| PAL0910 | 120 | Gentoo penguin | Pygoscelis papua)   | Biscoe    | N38A2 | No  | 2009-12-01 |   NA |   NA |  NA |   NA | NA     |      NA |        NA | Adult not sampled. Nest never observed with full clutch. |\n\n",
            "text/html": [
              "<table class=\"dataframe\">\n",
              "<caption>A tibble: 344 × 16</caption>\n",
              "<thead>\n",
              "\t<tr><th scope=col>study_name</th><th scope=col>sample_number</th><th scope=col>species</th><th scope=col>latin_name</th><th scope=col>island</th><th scope=col>individual_id</th><th scope=col>clutch_completion</th><th scope=col>date_egg</th><th scope=col>culmen_length_mm</th><th scope=col>culmen_depth_mm</th><th scope=col>flipper_length_mm</th><th scope=col>body_mass_g</th><th scope=col>sex</th><th scope=col>delta_15_n_o_oo</th><th scope=col>delta_13_c_o_oo</th><th scope=col>comments</th></tr>\n",
              "\t<tr><th scope=col>&lt;chr&gt;</th><th scope=col>&lt;dbl&gt;</th><th scope=col>&lt;chr&gt;</th><th scope=col>&lt;chr&gt;</th><th scope=col>&lt;chr&gt;</th><th scope=col>&lt;chr&gt;</th><th scope=col>&lt;chr&gt;</th><th scope=col>&lt;date&gt;</th><th scope=col>&lt;dbl&gt;</th><th scope=col>&lt;dbl&gt;</th><th scope=col>&lt;dbl&gt;</th><th scope=col>&lt;dbl&gt;</th><th scope=col>&lt;chr&gt;</th><th scope=col>&lt;dbl&gt;</th><th scope=col>&lt;dbl&gt;</th><th scope=col>&lt;chr&gt;</th></tr>\n",
              "</thead>\n",
              "<tbody>\n",
              "\t<tr><td>PAL0708</td><td> 29</td><td>Adelie Penguin   </td><td>Pygoscelis adeliae)   </td><td>Biscoe   </td><td>N18A1</td><td>No </td><td>2007-11-10</td><td>37.9</td><td>18.6</td><td>172</td><td>3150</td><td>FEMALE</td><td>8.38404</td><td>-25.19837</td><td>Nest never observed with full clutch.                               </td></tr>\n",
              "\t<tr><td>PAL0708</td><td> 21</td><td>Adelie Penguin   </td><td>Pygoscelis adeliae)   </td><td>Biscoe   </td><td>N11A1</td><td>Yes</td><td>2007-11-12</td><td>37.8</td><td>18.3</td><td>174</td><td>3400</td><td>FEMALE</td><td>8.73762</td><td>-25.09383</td><td>NA                                                                  </td></tr>\n",
              "\t<tr><td>PAL0910</td><td>123</td><td>Adelie Penguin   </td><td>Pygoscelis adeliae)   </td><td>Torgersen</td><td>N67A1</td><td>Yes</td><td>2009-11-16</td><td>40.2</td><td>17.0</td><td>176</td><td>3450</td><td>FEMALE</td><td>9.30722</td><td>-25.61039</td><td>NA                                                                  </td></tr>\n",
              "\t<tr><td>PAL0708</td><td> 31</td><td>Adelie Penguin   </td><td>Pygoscelis adeliae)   </td><td>Dream    </td><td>N21A1</td><td>Yes</td><td>2007-11-09</td><td>39.5</td><td>16.7</td><td>178</td><td>3250</td><td>FEMALE</td><td>9.69756</td><td>-25.11223</td><td>NA                                                                  </td></tr>\n",
              "\t<tr><td>PAL0708</td><td> 32</td><td>Adelie Penguin   </td><td>Pygoscelis adeliae)   </td><td>Dream    </td><td>N21A2</td><td>Yes</td><td>2007-11-09</td><td>37.2</td><td>18.1</td><td>178</td><td>3900</td><td>MALE  </td><td>9.72764</td><td>-25.01020</td><td>NA                                                                  </td></tr>\n",
              "\t<tr><td>PAL0809</td><td> 99</td><td>Adelie Penguin   </td><td>Pygoscelis adeliae)   </td><td>Dream    </td><td>N50A1</td><td>Yes</td><td>2008-11-10</td><td>33.1</td><td>16.1</td><td>178</td><td>2900</td><td>FEMALE</td><td>9.04218</td><td>-26.15775</td><td>NA                                                                  </td></tr>\n",
              "\t<tr><td>PAL0708</td><td>  7</td><td>Chinstrap penguin</td><td>Pygoscelis antarctica)</td><td>Dream    </td><td>N66A1</td><td>Yes</td><td>2007-11-28</td><td>46.1</td><td>18.2</td><td>178</td><td>3250</td><td>FEMALE</td><td>8.85664</td><td>-24.55644</td><td>NA                                                                  </td></tr>\n",
              "\t<tr><td>PAL0708</td><td> 48</td><td>Adelie Penguin   </td><td>Pygoscelis adeliae)   </td><td>Dream    </td><td>N29A2</td><td>Yes</td><td>2007-11-13</td><td>37.5</td><td>18.9</td><td>179</td><td>2975</td><td>NA    </td><td>     NA</td><td>       NA</td><td>Sexing primers did not amplify. Not enough blood for isotopes.      </td></tr>\n",
              "\t<tr><td>PAL0708</td><td> 12</td><td>Adelie Penguin   </td><td>Pygoscelis adeliae)   </td><td>Torgersen</td><td>N6A2 </td><td>Yes</td><td>2007-11-09</td><td>37.8</td><td>17.3</td><td>180</td><td>3700</td><td>NA    </td><td>     NA</td><td>       NA</td><td>No blood sample obtained.                                           </td></tr>\n",
              "\t<tr><td>PAL0708</td><td> 22</td><td>Adelie Penguin   </td><td>Pygoscelis adeliae)   </td><td>Biscoe   </td><td>N11A2</td><td>Yes</td><td>2007-11-12</td><td>37.7</td><td>18.7</td><td>180</td><td>3600</td><td>MALE  </td><td>8.66271</td><td>-25.06390</td><td>NA                                                                  </td></tr>\n",
              "\t<tr><td>PAL0708</td><td> 25</td><td>Adelie Penguin   </td><td>Pygoscelis adeliae)   </td><td>Biscoe   </td><td>N13A1</td><td>Yes</td><td>2007-11-10</td><td>38.8</td><td>17.2</td><td>180</td><td>3800</td><td>MALE  </td><td>9.63954</td><td>-25.29856</td><td>NA                                                                  </td></tr>\n",
              "\t<tr><td>PAL0708</td><td> 30</td><td>Adelie Penguin   </td><td>Pygoscelis adeliae)   </td><td>Biscoe   </td><td>N18A2</td><td>No </td><td>2007-11-10</td><td>40.5</td><td>18.9</td><td>180</td><td>3950</td><td>MALE  </td><td>8.90027</td><td>-25.11609</td><td>Nest never observed with full clutch.                               </td></tr>\n",
              "\t<tr><td>PAL0708</td><td> 38</td><td>Adelie Penguin   </td><td>Pygoscelis adeliae)   </td><td>Dream    </td><td>N24A2</td><td>Yes</td><td>2007-11-16</td><td>42.2</td><td>18.5</td><td>180</td><td>3550</td><td>FEMALE</td><td>8.04787</td><td>-25.49523</td><td>NA                                                                  </td></tr>\n",
              "\t<tr><td>PAL0708</td><td>  1</td><td>Adelie Penguin   </td><td>Pygoscelis adeliae)   </td><td>Torgersen</td><td>N1A1 </td><td>Yes</td><td>2007-11-11</td><td>39.1</td><td>18.7</td><td>181</td><td>3750</td><td>MALE  </td><td>     NA</td><td>       NA</td><td>Not enough blood for isotopes.                                      </td></tr>\n",
              "\t<tr><td>PAL0708</td><td>  7</td><td>Adelie Penguin   </td><td>Pygoscelis adeliae)   </td><td>Torgersen</td><td>N4A1 </td><td>No </td><td>2007-11-15</td><td>38.9</td><td>17.8</td><td>181</td><td>3625</td><td>FEMALE</td><td>9.18718</td><td>-25.21799</td><td>Nest never observed with full clutch.                               </td></tr>\n",
              "\t<tr><td>PAL0708</td><td> 39</td><td>Adelie Penguin   </td><td>Pygoscelis adeliae)   </td><td>Dream    </td><td>N25A1</td><td>No </td><td>2007-11-13</td><td>37.6</td><td>19.3</td><td>181</td><td>3300</td><td>FEMALE</td><td>9.41131</td><td>-25.04169</td><td>Nest never observed with full clutch.                               </td></tr>\n",
              "\t<tr><td>PAL0809</td><td> 59</td><td>Adelie Penguin   </td><td>Pygoscelis adeliae)   </td><td>Biscoe   </td><td>N25A1</td><td>Yes</td><td>2008-11-15</td><td>36.5</td><td>16.6</td><td>181</td><td>2850</td><td>FEMALE</td><td>9.07878</td><td>-25.88156</td><td>NA                                                                  </td></tr>\n",
              "\t<tr><td>PAL0910</td><td>109</td><td>Adelie Penguin   </td><td>Pygoscelis adeliae)   </td><td>Biscoe   </td><td>N55A1</td><td>Yes</td><td>2009-11-20</td><td>38.1</td><td>17.0</td><td>181</td><td>3175</td><td>FEMALE</td><td>9.79532</td><td>-25.27385</td><td>NA                                                                  </td></tr>\n",
              "\t<tr><td>PAL0708</td><td> 18</td><td>Chinstrap penguin</td><td>Pygoscelis antarctica)</td><td>Dream    </td><td>N71A2</td><td>No </td><td>2007-11-30</td><td>58.0</td><td>17.8</td><td>181</td><td>3700</td><td>FEMALE</td><td>9.14382</td><td>-24.57994</td><td>Nest never observed with full clutch.                               </td></tr>\n",
              "\t<tr><td>PAL0708</td><td> 21</td><td>Chinstrap penguin</td><td>Pygoscelis antarctica)</td><td>Dream    </td><td>N73A1</td><td>Yes</td><td>2007-12-03</td><td>42.4</td><td>17.3</td><td>181</td><td>3600</td><td>FEMALE</td><td>9.35138</td><td>-24.68790</td><td>NA                                                                  </td></tr>\n",
              "\t<tr><td>PAL0708</td><td> 13</td><td>Adelie Penguin   </td><td>Pygoscelis adeliae)   </td><td>Torgersen</td><td>N7A1 </td><td>Yes</td><td>2007-11-15</td><td>41.1</td><td>17.6</td><td>182</td><td>3200</td><td>FEMALE</td><td>     NA</td><td>       NA</td><td>Not enough blood for isotopes.                                      </td></tr>\n",
              "\t<tr><td>PAL0708</td><td> 41</td><td>Adelie Penguin   </td><td>Pygoscelis adeliae)   </td><td>Dream    </td><td>N26A1</td><td>Yes</td><td>2007-11-16</td><td>36.5</td><td>18.0</td><td>182</td><td>3150</td><td>FEMALE</td><td>9.68933</td><td>-24.42280</td><td>NA                                                                  </td></tr>\n",
              "\t<tr><td>PAL0708</td><td> 47</td><td>Adelie Penguin   </td><td>Pygoscelis adeliae)   </td><td>Dream    </td><td>N29A1</td><td>Yes</td><td>2007-11-13</td><td>41.1</td><td>19.0</td><td>182</td><td>3425</td><td>MALE  </td><td>     NA</td><td>       NA</td><td>Not enough blood for isotopes.                                      </td></tr>\n",
              "\t<tr><td>PAL0708</td><td> 27</td><td>Adelie Penguin   </td><td>Pygoscelis adeliae)   </td><td>Biscoe   </td><td>N17A1</td><td>Yes</td><td>2007-11-12</td><td>40.6</td><td>18.6</td><td>183</td><td>3550</td><td>MALE  </td><td>8.93997</td><td>-25.36288</td><td>NA                                                                  </td></tr>\n",
              "\t<tr><td>PAL0910</td><td>103</td><td>Adelie Penguin   </td><td>Pygoscelis adeliae)   </td><td>Biscoe   </td><td>N49A1</td><td>Yes</td><td>2009-11-15</td><td>37.7</td><td>16.0</td><td>183</td><td>3075</td><td>FEMALE</td><td>9.21510</td><td>-26.22530</td><td>NA                                                                  </td></tr>\n",
              "\t<tr><td>PAL0708</td><td> 19</td><td>Adelie Penguin   </td><td>Pygoscelis adeliae)   </td><td>Torgersen</td><td>N10A1</td><td>Yes</td><td>2007-11-16</td><td>34.4</td><td>18.4</td><td>184</td><td>3325</td><td>FEMALE</td><td>8.47827</td><td>-25.23319</td><td>NA                                                                  </td></tr>\n",
              "\t<tr><td>PAL0708</td><td> 34</td><td>Adelie Penguin   </td><td>Pygoscelis adeliae)   </td><td>Dream    </td><td>N22A2</td><td>Yes</td><td>2007-11-09</td><td>40.9</td><td>18.9</td><td>184</td><td>3900</td><td>MALE  </td><td>8.79665</td><td>-25.14591</td><td>NA                                                                  </td></tr>\n",
              "\t<tr><td>PAL0708</td><td> 40</td><td>Adelie Penguin   </td><td>Pygoscelis adeliae)   </td><td>Dream    </td><td>N25A2</td><td>No </td><td>2007-11-13</td><td>39.8</td><td>19.1</td><td>184</td><td>4650</td><td>MALE  </td><td>     NA</td><td>       NA</td><td>Nest never observed with full clutch. Not enough blood for isotopes.</td></tr>\n",
              "\t<tr><td>PAL0809</td><td> 65</td><td>Adelie Penguin   </td><td>Pygoscelis adeliae)   </td><td>Biscoe   </td><td>N29A1</td><td>Yes</td><td>2008-11-13</td><td>36.4</td><td>17.1</td><td>184</td><td>2850</td><td>FEMALE</td><td>8.62623</td><td>-26.11650</td><td>NA                                                                  </td></tr>\n",
              "\t<tr><td>PAL0809</td><td> 78</td><td>Adelie Penguin   </td><td>Pygoscelis adeliae)   </td><td>Torgersen</td><td>N37A2</td><td>Yes</td><td>2008-11-06</td><td>37.2</td><td>19.4</td><td>184</td><td>3900</td><td>MALE  </td><td>8.35540</td><td>-26.44787</td><td>NA                                                                  </td></tr>\n",
              "\t<tr><td>⋮</td><td>⋮</td><td>⋮</td><td>⋮</td><td>⋮</td><td>⋮</td><td>⋮</td><td>⋮</td><td>⋮</td><td>⋮</td><td>⋮</td><td>⋮</td><td>⋮</td><td>⋮</td><td>⋮</td><td>⋮</td></tr>\n",
              "\t<tr><td>PAL0809</td><td> 45</td><td>Gentoo penguin</td><td>Pygoscelis papua)  </td><td>Biscoe   </td><td>N8A1 </td><td>Yes</td><td>2008-11-03</td><td>50.5</td><td>15.9</td><td>222</td><td>5550</td><td>MALE  </td><td>8.46894</td><td>-26.60436</td><td>NA                                                      </td></tr>\n",
              "\t<tr><td>PAL0910</td><td> 98</td><td>Gentoo penguin</td><td>Pygoscelis papua)  </td><td>Biscoe   </td><td>N20A2</td><td>Yes</td><td>2009-11-18</td><td>46.9</td><td>14.6</td><td>222</td><td>4875</td><td>FEMALE</td><td>7.88810</td><td>-26.04726</td><td>NA                                                      </td></tr>\n",
              "\t<tr><td>PAL0910</td><td>118</td><td>Gentoo penguin</td><td>Pygoscelis papua)  </td><td>Biscoe   </td><td>N36A2</td><td>Yes</td><td>2009-12-01</td><td>48.8</td><td>16.2</td><td>222</td><td>6000</td><td>MALE  </td><td>8.33825</td><td>-25.88547</td><td>NA                                                      </td></tr>\n",
              "\t<tr><td>PAL0910</td><td>122</td><td>Gentoo penguin</td><td>Pygoscelis papua)  </td><td>Biscoe   </td><td>N39A2</td><td>Yes</td><td>2009-11-22</td><td>50.4</td><td>15.7</td><td>222</td><td>5750</td><td>MALE  </td><td>8.30166</td><td>-26.04117</td><td>NA                                                      </td></tr>\n",
              "\t<tr><td>PAL0809</td><td> 70</td><td>Gentoo penguin</td><td>Pygoscelis papua)  </td><td>Biscoe   </td><td>N53A2</td><td>Yes</td><td>2008-11-13</td><td>50.7</td><td>15.0</td><td>223</td><td>5550</td><td>MALE  </td><td>8.63551</td><td>-26.74249</td><td>NA                                                      </td></tr>\n",
              "\t<tr><td>PAL0809</td><td> 80</td><td>Gentoo penguin</td><td>Pygoscelis papua)  </td><td>Biscoe   </td><td>N60A2</td><td>Yes</td><td>2008-11-09</td><td>45.2</td><td>16.4</td><td>223</td><td>5950</td><td>MALE  </td><td>8.19749</td><td>-26.65931</td><td>NA                                                      </td></tr>\n",
              "\t<tr><td>PAL0809</td><td> 60</td><td>Gentoo penguin</td><td>Pygoscelis papua)  </td><td>Biscoe   </td><td>N17A2</td><td>Yes</td><td>2008-11-06</td><td>50.4</td><td>15.3</td><td>224</td><td>5550</td><td>MALE  </td><td>8.74647</td><td>-26.79846</td><td>NA                                                      </td></tr>\n",
              "\t<tr><td>PAL0910</td><td> 84</td><td>Gentoo penguin</td><td>Pygoscelis papua)  </td><td>Biscoe   </td><td>N6A2 </td><td>Yes</td><td>2009-11-15</td><td>50.0</td><td>15.9</td><td>224</td><td>5350</td><td>MALE  </td><td>8.20042</td><td>-26.39677</td><td>NA                                                      </td></tr>\n",
              "\t<tr><td>PAL0910</td><td> 94</td><td>Gentoo penguin</td><td>Pygoscelis papua)  </td><td>Biscoe   </td><td>N18A2</td><td>Yes</td><td>2009-12-01</td><td>49.5</td><td>16.1</td><td>224</td><td>5650</td><td>MALE  </td><td>8.83352</td><td>-25.69195</td><td>NA                                                      </td></tr>\n",
              "\t<tr><td>PAL0809</td><td> 42</td><td>Gentoo penguin</td><td>Pygoscelis papua)  </td><td>Biscoe   </td><td>N6A2 </td><td>No </td><td>2008-11-04</td><td>49.6</td><td>16.0</td><td>225</td><td>5700</td><td>MALE  </td><td>8.38324</td><td>-26.84272</td><td>Nest never observed with full clutch.                   </td></tr>\n",
              "\t<tr><td>PAL0809</td><td> 48</td><td>Gentoo penguin</td><td>Pygoscelis papua)  </td><td>Biscoe   </td><td>N11A2</td><td>No </td><td>2008-11-09</td><td>50.5</td><td>15.9</td><td>225</td><td>5400</td><td>MALE  </td><td>8.65803</td><td>-26.57585</td><td>Nest never observed with full clutch.                   </td></tr>\n",
              "\t<tr><td>PAL0809</td><td> 54</td><td>Gentoo penguin</td><td>Pygoscelis papua)  </td><td>Biscoe   </td><td>N14A2</td><td>Yes</td><td>2008-11-04</td><td>50.1</td><td>15.0</td><td>225</td><td>5000</td><td>MALE  </td><td>8.50153</td><td>-26.61414</td><td>NA                                                      </td></tr>\n",
              "\t<tr><td>PAL0910</td><td>100</td><td>Gentoo penguin</td><td>Pygoscelis papua)  </td><td>Biscoe   </td><td>N21A2</td><td>Yes</td><td>2009-11-18</td><td>51.1</td><td>16.5</td><td>225</td><td>5250</td><td>MALE  </td><td>8.20660</td><td>-26.36863</td><td>NA                                                      </td></tr>\n",
              "\t<tr><td>PAL0910</td><td> 96</td><td>Gentoo penguin</td><td>Pygoscelis papua)  </td><td>Biscoe   </td><td>N19A2</td><td>Yes</td><td>2009-11-27</td><td>50.8</td><td>15.7</td><td>226</td><td>5200</td><td>MALE  </td><td>8.27102</td><td>-26.11244</td><td>NA                                                      </td></tr>\n",
              "\t<tr><td>PAL0910</td><td> 86</td><td>Gentoo penguin</td><td>Pygoscelis papua)  </td><td>Biscoe   </td><td>N8A2 </td><td>Yes</td><td>2009-11-22</td><td>50.8</td><td>17.3</td><td>228</td><td>5600</td><td>MALE  </td><td>8.27428</td><td>-26.30019</td><td>NA                                                      </td></tr>\n",
              "\t<tr><td>PAL0910</td><td> 92</td><td>Gentoo penguin</td><td>Pygoscelis papua)  </td><td>Biscoe   </td><td>N15A2</td><td>Yes</td><td>2009-11-25</td><td>52.2</td><td>17.1</td><td>228</td><td>5400</td><td>MALE  </td><td>8.36701</td><td>-25.89834</td><td>NA                                                      </td></tr>\n",
              "\t<tr><td>PAL0910</td><td>102</td><td>Gentoo penguin</td><td>Pygoscelis papua)  </td><td>Biscoe   </td><td>N22A2</td><td>Yes</td><td>2009-11-22</td><td>55.9</td><td>17.0</td><td>228</td><td>5600</td><td>MALE  </td><td>8.31180</td><td>-26.35425</td><td>NA                                                      </td></tr>\n",
              "\t<tr><td>PAL0910</td><td>104</td><td>Gentoo penguin</td><td>Pygoscelis papua)  </td><td>Biscoe   </td><td>N23A2</td><td>Yes</td><td>2009-11-18</td><td>49.1</td><td>15.0</td><td>228</td><td>5500</td><td>MALE  </td><td>8.65914</td><td>-25.79203</td><td>NA                                                      </td></tr>\n",
              "\t<tr><td>PAL0809</td><td> 68</td><td>Gentoo penguin</td><td>Pygoscelis papua)  </td><td>Biscoe   </td><td>N51A2</td><td>Yes</td><td>2008-11-09</td><td>49.5</td><td>16.2</td><td>229</td><td>5800</td><td>MALE  </td><td>8.49854</td><td>-26.74809</td><td>NA                                                      </td></tr>\n",
              "\t<tr><td>PAL0910</td><td>112</td><td>Gentoo penguin</td><td>Pygoscelis papua)  </td><td>Biscoe   </td><td>N32A2</td><td>Yes</td><td>2009-11-20</td><td>49.8</td><td>15.9</td><td>229</td><td>5950</td><td>MALE  </td><td>8.29226</td><td>-26.21019</td><td>NA                                                      </td></tr>\n",
              "\t<tr><td>PAL0708</td><td>  2</td><td>Gentoo penguin</td><td>Pygoscelis papua)  </td><td>Biscoe   </td><td>N31A2</td><td>Yes</td><td>2007-11-27</td><td>50.0</td><td>16.3</td><td>230</td><td>5700</td><td>MALE  </td><td>8.14756</td><td>-25.39369</td><td>NA                                                      </td></tr>\n",
              "\t<tr><td>PAL0708</td><td> 34</td><td>Gentoo penguin</td><td>Pygoscelis papua)  </td><td>Biscoe   </td><td>N56A2</td><td>Yes</td><td>2007-12-03</td><td>59.6</td><td>17.0</td><td>230</td><td>6050</td><td>MALE  </td><td>7.76843</td><td>-25.68210</td><td>NA                                                      </td></tr>\n",
              "\t<tr><td>PAL0809</td><td> 66</td><td>Gentoo penguin</td><td>Pygoscelis papua)  </td><td>Biscoe   </td><td>N20A2</td><td>Yes</td><td>2008-11-04</td><td>49.8</td><td>16.8</td><td>230</td><td>5700</td><td>MALE  </td><td>8.47067</td><td>-26.69166</td><td>NA                                                      </td></tr>\n",
              "\t<tr><td>PAL0809</td><td> 76</td><td>Gentoo penguin</td><td>Pygoscelis papua)  </td><td>Biscoe   </td><td>N56A2</td><td>Yes</td><td>2008-11-06</td><td>48.6</td><td>16.0</td><td>230</td><td>5800</td><td>MALE  </td><td>8.59640</td><td>-26.71199</td><td>NA                                                      </td></tr>\n",
              "\t<tr><td>PAL0910</td><td> 90</td><td>Gentoo penguin</td><td>Pygoscelis papua)  </td><td>Biscoe   </td><td>N14A2</td><td>Yes</td><td>2009-11-25</td><td>52.1</td><td>17.0</td><td>230</td><td>5550</td><td>MALE  </td><td>8.27595</td><td>-26.11657</td><td>NA                                                      </td></tr>\n",
              "\t<tr><td>PAL0910</td><td>114</td><td>Gentoo penguin</td><td>Pygoscelis papua)  </td><td>Biscoe   </td><td>N34A2</td><td>Yes</td><td>2009-11-27</td><td>51.5</td><td>16.3</td><td>230</td><td>5500</td><td>MALE  </td><td>8.78557</td><td>-25.76147</td><td>NA                                                      </td></tr>\n",
              "\t<tr><td>PAL0910</td><td>116</td><td>Gentoo penguin</td><td>Pygoscelis papua)  </td><td>Biscoe   </td><td>N35A2</td><td>Yes</td><td>2009-11-25</td><td>55.1</td><td>16.0</td><td>230</td><td>5850</td><td>MALE  </td><td>8.08354</td><td>-26.18161</td><td>NA                                                      </td></tr>\n",
              "\t<tr><td>PAL0809</td><td> 64</td><td>Gentoo penguin</td><td>Pygoscelis papua)  </td><td>Biscoe   </td><td>N19A2</td><td>Yes</td><td>2008-11-13</td><td>54.3</td><td>15.7</td><td>231</td><td>5650</td><td>MALE  </td><td>8.49662</td><td>-26.84166</td><td>NA                                                      </td></tr>\n",
              "\t<tr><td>PAL0708</td><td>  4</td><td>Adelie Penguin</td><td>Pygoscelis adeliae)</td><td>Torgersen</td><td>N2A2 </td><td>Yes</td><td>2007-11-16</td><td>  NA</td><td>  NA</td><td> NA</td><td>  NA</td><td>NA    </td><td>     NA</td><td>       NA</td><td>Adult not sampled.                                      </td></tr>\n",
              "\t<tr><td>PAL0910</td><td>120</td><td>Gentoo penguin</td><td>Pygoscelis papua)  </td><td>Biscoe   </td><td>N38A2</td><td>No </td><td>2009-12-01</td><td>  NA</td><td>  NA</td><td> NA</td><td>  NA</td><td>NA    </td><td>     NA</td><td>       NA</td><td>Adult not sampled. Nest never observed with full clutch.</td></tr>\n",
              "</tbody>\n",
              "</table>\n"
            ]
          },
          "metadata": {
            "tags": []
          }
        }
      ]
    },
    {
      "cell_type": "markdown",
      "metadata": {
        "id": "Xs9PGmr7X9kZ"
      },
      "source": [
        "\n",
        "Highest first using `desc()` (for descendant):\n"
      ]
    },
    {
      "cell_type": "code",
      "metadata": {
        "id": "cjkAYYbeYA1X",
        "colab": {
          "base_uri": "https://localhost:8080/",
          "height": 1000
        },
        "outputId": "2f28f56d-4eaa-4965-9e76-4757861480b4"
      },
      "source": [
        "arrange(penguins_clean, desc(flipper_length_mm))"
      ],
      "execution_count": null,
      "outputs": [
        {
          "output_type": "display_data",
          "data": {
            "text/plain": [
              "    study_name sample_number species           latin_name             island   \n",
              "1   PAL0809     64           Gentoo penguin    Pygoscelis papua)      Biscoe   \n",
              "2   PAL0708      2           Gentoo penguin    Pygoscelis papua)      Biscoe   \n",
              "3   PAL0708     34           Gentoo penguin    Pygoscelis papua)      Biscoe   \n",
              "4   PAL0809     66           Gentoo penguin    Pygoscelis papua)      Biscoe   \n",
              "5   PAL0809     76           Gentoo penguin    Pygoscelis papua)      Biscoe   \n",
              "6   PAL0910     90           Gentoo penguin    Pygoscelis papua)      Biscoe   \n",
              "7   PAL0910    114           Gentoo penguin    Pygoscelis papua)      Biscoe   \n",
              "8   PAL0910    116           Gentoo penguin    Pygoscelis papua)      Biscoe   \n",
              "9   PAL0809     68           Gentoo penguin    Pygoscelis papua)      Biscoe   \n",
              "10  PAL0910    112           Gentoo penguin    Pygoscelis papua)      Biscoe   \n",
              "11  PAL0910     86           Gentoo penguin    Pygoscelis papua)      Biscoe   \n",
              "12  PAL0910     92           Gentoo penguin    Pygoscelis papua)      Biscoe   \n",
              "13  PAL0910    102           Gentoo penguin    Pygoscelis papua)      Biscoe   \n",
              "14  PAL0910    104           Gentoo penguin    Pygoscelis papua)      Biscoe   \n",
              "15  PAL0910     96           Gentoo penguin    Pygoscelis papua)      Biscoe   \n",
              "16  PAL0809     42           Gentoo penguin    Pygoscelis papua)      Biscoe   \n",
              "17  PAL0809     48           Gentoo penguin    Pygoscelis papua)      Biscoe   \n",
              "18  PAL0809     54           Gentoo penguin    Pygoscelis papua)      Biscoe   \n",
              "19  PAL0910    100           Gentoo penguin    Pygoscelis papua)      Biscoe   \n",
              "20  PAL0809     60           Gentoo penguin    Pygoscelis papua)      Biscoe   \n",
              "21  PAL0910     84           Gentoo penguin    Pygoscelis papua)      Biscoe   \n",
              "22  PAL0910     94           Gentoo penguin    Pygoscelis papua)      Biscoe   \n",
              "23  PAL0809     70           Gentoo penguin    Pygoscelis papua)      Biscoe   \n",
              "24  PAL0809     80           Gentoo penguin    Pygoscelis papua)      Biscoe   \n",
              "25  PAL0708     20           Gentoo penguin    Pygoscelis papua)      Biscoe   \n",
              "26  PAL0708     31           Gentoo penguin    Pygoscelis papua)      Biscoe   \n",
              "27  PAL0809     45           Gentoo penguin    Pygoscelis papua)      Biscoe   \n",
              "28  PAL0910     98           Gentoo penguin    Pygoscelis papua)      Biscoe   \n",
              "29  PAL0910    118           Gentoo penguin    Pygoscelis papua)      Biscoe   \n",
              "30  PAL0910    122           Gentoo penguin    Pygoscelis papua)      Biscoe   \n",
              "⋮   ⋮          ⋮             ⋮                 ⋮                      ⋮        \n",
              "315 PAL0809     78           Adelie Penguin    Pygoscelis adeliae)    Torgersen\n",
              "316 PAL0910    106           Adelie Penguin    Pygoscelis adeliae)    Biscoe   \n",
              "317 PAL0910    148           Adelie Penguin    Pygoscelis adeliae)    Dream    \n",
              "318 PAL0708     27           Adelie Penguin    Pygoscelis adeliae)    Biscoe   \n",
              "319 PAL0910    103           Adelie Penguin    Pygoscelis adeliae)    Biscoe   \n",
              "320 PAL0708     13           Adelie Penguin    Pygoscelis adeliae)    Torgersen\n",
              "321 PAL0708     41           Adelie Penguin    Pygoscelis adeliae)    Dream    \n",
              "322 PAL0708     47           Adelie Penguin    Pygoscelis adeliae)    Dream    \n",
              "323 PAL0708      1           Adelie Penguin    Pygoscelis adeliae)    Torgersen\n",
              "324 PAL0708      7           Adelie Penguin    Pygoscelis adeliae)    Torgersen\n",
              "325 PAL0708     39           Adelie Penguin    Pygoscelis adeliae)    Dream    \n",
              "326 PAL0809     59           Adelie Penguin    Pygoscelis adeliae)    Biscoe   \n",
              "327 PAL0910    109           Adelie Penguin    Pygoscelis adeliae)    Biscoe   \n",
              "328 PAL0708     18           Chinstrap penguin Pygoscelis antarctica) Dream    \n",
              "329 PAL0708     21           Chinstrap penguin Pygoscelis antarctica) Dream    \n",
              "330 PAL0708     12           Adelie Penguin    Pygoscelis adeliae)    Torgersen\n",
              "331 PAL0708     22           Adelie Penguin    Pygoscelis adeliae)    Biscoe   \n",
              "332 PAL0708     25           Adelie Penguin    Pygoscelis adeliae)    Biscoe   \n",
              "333 PAL0708     30           Adelie Penguin    Pygoscelis adeliae)    Biscoe   \n",
              "334 PAL0708     38           Adelie Penguin    Pygoscelis adeliae)    Dream    \n",
              "335 PAL0708     48           Adelie Penguin    Pygoscelis adeliae)    Dream    \n",
              "336 PAL0708     31           Adelie Penguin    Pygoscelis adeliae)    Dream    \n",
              "337 PAL0708     32           Adelie Penguin    Pygoscelis adeliae)    Dream    \n",
              "338 PAL0809     99           Adelie Penguin    Pygoscelis adeliae)    Dream    \n",
              "339 PAL0708      7           Chinstrap penguin Pygoscelis antarctica) Dream    \n",
              "340 PAL0910    123           Adelie Penguin    Pygoscelis adeliae)    Torgersen\n",
              "341 PAL0708     21           Adelie Penguin    Pygoscelis adeliae)    Biscoe   \n",
              "342 PAL0708     29           Adelie Penguin    Pygoscelis adeliae)    Biscoe   \n",
              "343 PAL0708      4           Adelie Penguin    Pygoscelis adeliae)    Torgersen\n",
              "344 PAL0910    120           Gentoo penguin    Pygoscelis papua)      Biscoe   \n",
              "    individual_id clutch_completion date_egg   culmen_length_mm culmen_depth_mm\n",
              "1   N19A2         Yes               2008-11-13 54.3             15.7           \n",
              "2   N31A2         Yes               2007-11-27 50.0             16.3           \n",
              "3   N56A2         Yes               2007-12-03 59.6             17.0           \n",
              "4   N20A2         Yes               2008-11-04 49.8             16.8           \n",
              "5   N56A2         Yes               2008-11-06 48.6             16.0           \n",
              "6   N14A2         Yes               2009-11-25 52.1             17.0           \n",
              "7   N34A2         Yes               2009-11-27 51.5             16.3           \n",
              "8   N35A2         Yes               2009-11-25 55.1             16.0           \n",
              "9   N51A2         Yes               2008-11-09 49.5             16.2           \n",
              "10  N32A2         Yes               2009-11-20 49.8             15.9           \n",
              "11  N8A2          Yes               2009-11-22 50.8             17.3           \n",
              "12  N15A2         Yes               2009-11-25 52.2             17.1           \n",
              "13  N22A2         Yes               2009-11-22 55.9             17.0           \n",
              "14  N23A2         Yes               2009-11-18 49.1             15.0           \n",
              "15  N19A2         Yes               2009-11-27 50.8             15.7           \n",
              "16  N6A2          No                2008-11-04 49.6             16.0           \n",
              "17  N11A2         No                2008-11-09 50.5             15.9           \n",
              "18  N14A2         Yes               2008-11-04 50.1             15.0           \n",
              "19  N21A2         Yes               2009-11-18 51.1             16.5           \n",
              "20  N17A2         Yes               2008-11-06 50.4             15.3           \n",
              "21  N6A2          Yes               2009-11-15 50.0             15.9           \n",
              "22  N18A2         Yes               2009-12-01 49.5             16.1           \n",
              "23  N53A2         Yes               2008-11-13 50.7             15.0           \n",
              "24  N60A2         Yes               2008-11-09 45.2             16.4           \n",
              "25  N40A2         Yes               2007-11-27 48.7             15.1           \n",
              "26  N50A1         Yes               2007-11-29 47.3             15.3           \n",
              "27  N8A1          Yes               2008-11-03 50.5             15.9           \n",
              "28  N20A2         Yes               2009-11-18 46.9             14.6           \n",
              "29  N36A2         Yes               2009-12-01 48.8             16.2           \n",
              "30  N39A2         Yes               2009-11-22 50.4             15.7           \n",
              "⋮   ⋮             ⋮                 ⋮          ⋮                ⋮              \n",
              "315 N37A2         Yes               2008-11-06 37.2             19.4           \n",
              "316 N51A2         Yes               2009-11-15 39.7             18.9           \n",
              "317 N83A2         Yes               2009-11-13 36.6             18.4           \n",
              "318 N17A1         Yes               2007-11-12 40.6             18.6           \n",
              "319 N49A1         Yes               2009-11-15 37.7             16.0           \n",
              "320 N7A1          Yes               2007-11-15 41.1             17.6           \n",
              "321 N26A1         Yes               2007-11-16 36.5             18.0           \n",
              "322 N29A1         Yes               2007-11-13 41.1             19.0           \n",
              "323 N1A1          Yes               2007-11-11 39.1             18.7           \n",
              "324 N4A1          No                2007-11-15 38.9             17.8           \n",
              "325 N25A1         No                2007-11-13 37.6             19.3           \n",
              "326 N25A1         Yes               2008-11-15 36.5             16.6           \n",
              "327 N55A1         Yes               2009-11-20 38.1             17.0           \n",
              "328 N71A2         No                2007-11-30 58.0             17.8           \n",
              "329 N73A1         Yes               2007-12-03 42.4             17.3           \n",
              "330 N6A2          Yes               2007-11-09 37.8             17.3           \n",
              "331 N11A2         Yes               2007-11-12 37.7             18.7           \n",
              "332 N13A1         Yes               2007-11-10 38.8             17.2           \n",
              "333 N18A2         No                2007-11-10 40.5             18.9           \n",
              "334 N24A2         Yes               2007-11-16 42.2             18.5           \n",
              "335 N29A2         Yes               2007-11-13 37.5             18.9           \n",
              "336 N21A1         Yes               2007-11-09 39.5             16.7           \n",
              "337 N21A2         Yes               2007-11-09 37.2             18.1           \n",
              "338 N50A1         Yes               2008-11-10 33.1             16.1           \n",
              "339 N66A1         Yes               2007-11-28 46.1             18.2           \n",
              "340 N67A1         Yes               2009-11-16 40.2             17.0           \n",
              "341 N11A1         Yes               2007-11-12 37.8             18.3           \n",
              "342 N18A1         No                2007-11-10 37.9             18.6           \n",
              "343 N2A2          Yes               2007-11-16   NA               NA           \n",
              "344 N38A2         No                2009-12-01   NA               NA           \n",
              "    flipper_length_mm body_mass_g sex    delta_15_n_o_oo delta_13_c_o_oo\n",
              "1   231               5650        MALE   8.49662         -26.84166      \n",
              "2   230               5700        MALE   8.14756         -25.39369      \n",
              "3   230               6050        MALE   7.76843         -25.68210      \n",
              "4   230               5700        MALE   8.47067         -26.69166      \n",
              "5   230               5800        MALE   8.59640         -26.71199      \n",
              "6   230               5550        MALE   8.27595         -26.11657      \n",
              "7   230               5500        MALE   8.78557         -25.76147      \n",
              "8   230               5850        MALE   8.08354         -26.18161      \n",
              "9   229               5800        MALE   8.49854         -26.74809      \n",
              "10  229               5950        MALE   8.29226         -26.21019      \n",
              "11  228               5600        MALE   8.27428         -26.30019      \n",
              "12  228               5400        MALE   8.36701         -25.89834      \n",
              "13  228               5600        MALE   8.31180         -26.35425      \n",
              "14  228               5500        MALE   8.65914         -25.79203      \n",
              "15  226               5200        MALE   8.27102         -26.11244      \n",
              "16  225               5700        MALE   8.38324         -26.84272      \n",
              "17  225               5400        MALE   8.65803         -26.57585      \n",
              "18  225               5000        MALE   8.50153         -26.61414      \n",
              "19  225               5250        MALE   8.20660         -26.36863      \n",
              "20  224               5550        MALE   8.74647         -26.79846      \n",
              "21  224               5350        MALE   8.20042         -26.39677      \n",
              "22  224               5650        MALE   8.83352         -25.69195      \n",
              "23  223               5550        MALE   8.63551         -26.74249      \n",
              "24  223               5950        MALE   8.19749         -26.65931      \n",
              "25  222               5350        MALE   7.96491         -25.39587      \n",
              "26  222               5250        MALE        NA                NA      \n",
              "27  222               5550        MALE   8.46894         -26.60436      \n",
              "28  222               4875        FEMALE 7.88810         -26.04726      \n",
              "29  222               6000        MALE   8.33825         -25.88547      \n",
              "30  222               5750        MALE   8.30166         -26.04117      \n",
              "⋮   ⋮                 ⋮           ⋮      ⋮               ⋮              \n",
              "315 184               3900        MALE   8.35540         -26.44787      \n",
              "316 184               3550        MALE   8.85699         -25.80208      \n",
              "317 184               3475        FEMALE 8.68744         -25.83060      \n",
              "318 183               3550        MALE   8.93997         -25.36288      \n",
              "319 183               3075        FEMALE 9.21510         -26.22530      \n",
              "320 182               3200        FEMALE      NA                NA      \n",
              "321 182               3150        FEMALE 9.68933         -24.42280      \n",
              "322 182               3425        MALE        NA                NA      \n",
              "323 181               3750        MALE        NA                NA      \n",
              "324 181               3625        FEMALE 9.18718         -25.21799      \n",
              "325 181               3300        FEMALE 9.41131         -25.04169      \n",
              "326 181               2850        FEMALE 9.07878         -25.88156      \n",
              "327 181               3175        FEMALE 9.79532         -25.27385      \n",
              "328 181               3700        FEMALE 9.14382         -24.57994      \n",
              "329 181               3600        FEMALE 9.35138         -24.68790      \n",
              "330 180               3700        NA          NA                NA      \n",
              "331 180               3600        MALE   8.66271         -25.06390      \n",
              "332 180               3800        MALE   9.63954         -25.29856      \n",
              "333 180               3950        MALE   8.90027         -25.11609      \n",
              "334 180               3550        FEMALE 8.04787         -25.49523      \n",
              "335 179               2975        NA          NA                NA      \n",
              "336 178               3250        FEMALE 9.69756         -25.11223      \n",
              "337 178               3900        MALE   9.72764         -25.01020      \n",
              "338 178               2900        FEMALE 9.04218         -26.15775      \n",
              "339 178               3250        FEMALE 8.85664         -24.55644      \n",
              "340 176               3450        FEMALE 9.30722         -25.61039      \n",
              "341 174               3400        FEMALE 8.73762         -25.09383      \n",
              "342 172               3150        FEMALE 8.38404         -25.19837      \n",
              "343  NA                 NA        NA          NA                NA      \n",
              "344  NA                 NA        NA          NA                NA      \n",
              "    comments                                                      \n",
              "1   NA                                                            \n",
              "2   NA                                                            \n",
              "3   NA                                                            \n",
              "4   NA                                                            \n",
              "5   NA                                                            \n",
              "6   NA                                                            \n",
              "7   NA                                                            \n",
              "8   NA                                                            \n",
              "9   NA                                                            \n",
              "10  NA                                                            \n",
              "11  NA                                                            \n",
              "12  NA                                                            \n",
              "13  NA                                                            \n",
              "14  NA                                                            \n",
              "15  NA                                                            \n",
              "16  Nest never observed with full clutch.                         \n",
              "17  Nest never observed with full clutch.                         \n",
              "18  NA                                                            \n",
              "19  NA                                                            \n",
              "20  NA                                                            \n",
              "21  NA                                                            \n",
              "22  NA                                                            \n",
              "23  NA                                                            \n",
              "24  NA                                                            \n",
              "25  NA                                                            \n",
              "26  Not enough blood for isotopes.                                \n",
              "27  NA                                                            \n",
              "28  NA                                                            \n",
              "29  NA                                                            \n",
              "30  NA                                                            \n",
              "⋮   ⋮                                                             \n",
              "315 NA                                                            \n",
              "316 NA                                                            \n",
              "317 NA                                                            \n",
              "318 NA                                                            \n",
              "319 NA                                                            \n",
              "320 Not enough blood for isotopes.                                \n",
              "321 NA                                                            \n",
              "322 Not enough blood for isotopes.                                \n",
              "323 Not enough blood for isotopes.                                \n",
              "324 Nest never observed with full clutch.                         \n",
              "325 Nest never observed with full clutch.                         \n",
              "326 NA                                                            \n",
              "327 NA                                                            \n",
              "328 Nest never observed with full clutch.                         \n",
              "329 NA                                                            \n",
              "330 No blood sample obtained.                                     \n",
              "331 NA                                                            \n",
              "332 NA                                                            \n",
              "333 Nest never observed with full clutch.                         \n",
              "334 NA                                                            \n",
              "335 Sexing primers did not amplify. Not enough blood for isotopes.\n",
              "336 NA                                                            \n",
              "337 NA                                                            \n",
              "338 NA                                                            \n",
              "339 NA                                                            \n",
              "340 NA                                                            \n",
              "341 NA                                                            \n",
              "342 Nest never observed with full clutch.                         \n",
              "343 Adult not sampled.                                            \n",
              "344 Adult not sampled. Nest never observed with full clutch.      "
            ],
            "text/latex": "A tibble: 344 × 16\n\\begin{tabular}{llllllllllllllll}\n study\\_name & sample\\_number & species & latin\\_name & island & individual\\_id & clutch\\_completion & date\\_egg & culmen\\_length\\_mm & culmen\\_depth\\_mm & flipper\\_length\\_mm & body\\_mass\\_g & sex & delta\\_15\\_n\\_o\\_oo & delta\\_13\\_c\\_o\\_oo & comments\\\\\n <chr> & <dbl> & <chr> & <chr> & <chr> & <chr> & <chr> & <date> & <dbl> & <dbl> & <dbl> & <dbl> & <chr> & <dbl> & <dbl> & <chr>\\\\\n\\hline\n\t PAL0809 &  64 & Gentoo penguin & Pygoscelis papua) & Biscoe & N19A2 & Yes & 2008-11-13 & 54.3 & 15.7 & 231 & 5650 & MALE   & 8.49662 & -26.84166 & NA                                   \\\\\n\t PAL0708 &   2 & Gentoo penguin & Pygoscelis papua) & Biscoe & N31A2 & Yes & 2007-11-27 & 50.0 & 16.3 & 230 & 5700 & MALE   & 8.14756 & -25.39369 & NA                                   \\\\\n\t PAL0708 &  34 & Gentoo penguin & Pygoscelis papua) & Biscoe & N56A2 & Yes & 2007-12-03 & 59.6 & 17.0 & 230 & 6050 & MALE   & 7.76843 & -25.68210 & NA                                   \\\\\n\t PAL0809 &  66 & Gentoo penguin & Pygoscelis papua) & Biscoe & N20A2 & Yes & 2008-11-04 & 49.8 & 16.8 & 230 & 5700 & MALE   & 8.47067 & -26.69166 & NA                                   \\\\\n\t PAL0809 &  76 & Gentoo penguin & Pygoscelis papua) & Biscoe & N56A2 & Yes & 2008-11-06 & 48.6 & 16.0 & 230 & 5800 & MALE   & 8.59640 & -26.71199 & NA                                   \\\\\n\t PAL0910 &  90 & Gentoo penguin & Pygoscelis papua) & Biscoe & N14A2 & Yes & 2009-11-25 & 52.1 & 17.0 & 230 & 5550 & MALE   & 8.27595 & -26.11657 & NA                                   \\\\\n\t PAL0910 & 114 & Gentoo penguin & Pygoscelis papua) & Biscoe & N34A2 & Yes & 2009-11-27 & 51.5 & 16.3 & 230 & 5500 & MALE   & 8.78557 & -25.76147 & NA                                   \\\\\n\t PAL0910 & 116 & Gentoo penguin & Pygoscelis papua) & Biscoe & N35A2 & Yes & 2009-11-25 & 55.1 & 16.0 & 230 & 5850 & MALE   & 8.08354 & -26.18161 & NA                                   \\\\\n\t PAL0809 &  68 & Gentoo penguin & Pygoscelis papua) & Biscoe & N51A2 & Yes & 2008-11-09 & 49.5 & 16.2 & 229 & 5800 & MALE   & 8.49854 & -26.74809 & NA                                   \\\\\n\t PAL0910 & 112 & Gentoo penguin & Pygoscelis papua) & Biscoe & N32A2 & Yes & 2009-11-20 & 49.8 & 15.9 & 229 & 5950 & MALE   & 8.29226 & -26.21019 & NA                                   \\\\\n\t PAL0910 &  86 & Gentoo penguin & Pygoscelis papua) & Biscoe & N8A2  & Yes & 2009-11-22 & 50.8 & 17.3 & 228 & 5600 & MALE   & 8.27428 & -26.30019 & NA                                   \\\\\n\t PAL0910 &  92 & Gentoo penguin & Pygoscelis papua) & Biscoe & N15A2 & Yes & 2009-11-25 & 52.2 & 17.1 & 228 & 5400 & MALE   & 8.36701 & -25.89834 & NA                                   \\\\\n\t PAL0910 & 102 & Gentoo penguin & Pygoscelis papua) & Biscoe & N22A2 & Yes & 2009-11-22 & 55.9 & 17.0 & 228 & 5600 & MALE   & 8.31180 & -26.35425 & NA                                   \\\\\n\t PAL0910 & 104 & Gentoo penguin & Pygoscelis papua) & Biscoe & N23A2 & Yes & 2009-11-18 & 49.1 & 15.0 & 228 & 5500 & MALE   & 8.65914 & -25.79203 & NA                                   \\\\\n\t PAL0910 &  96 & Gentoo penguin & Pygoscelis papua) & Biscoe & N19A2 & Yes & 2009-11-27 & 50.8 & 15.7 & 226 & 5200 & MALE   & 8.27102 & -26.11244 & NA                                   \\\\\n\t PAL0809 &  42 & Gentoo penguin & Pygoscelis papua) & Biscoe & N6A2  & No  & 2008-11-04 & 49.6 & 16.0 & 225 & 5700 & MALE   & 8.38324 & -26.84272 & Nest never observed with full clutch.\\\\\n\t PAL0809 &  48 & Gentoo penguin & Pygoscelis papua) & Biscoe & N11A2 & No  & 2008-11-09 & 50.5 & 15.9 & 225 & 5400 & MALE   & 8.65803 & -26.57585 & Nest never observed with full clutch.\\\\\n\t PAL0809 &  54 & Gentoo penguin & Pygoscelis papua) & Biscoe & N14A2 & Yes & 2008-11-04 & 50.1 & 15.0 & 225 & 5000 & MALE   & 8.50153 & -26.61414 & NA                                   \\\\\n\t PAL0910 & 100 & Gentoo penguin & Pygoscelis papua) & Biscoe & N21A2 & Yes & 2009-11-18 & 51.1 & 16.5 & 225 & 5250 & MALE   & 8.20660 & -26.36863 & NA                                   \\\\\n\t PAL0809 &  60 & Gentoo penguin & Pygoscelis papua) & Biscoe & N17A2 & Yes & 2008-11-06 & 50.4 & 15.3 & 224 & 5550 & MALE   & 8.74647 & -26.79846 & NA                                   \\\\\n\t PAL0910 &  84 & Gentoo penguin & Pygoscelis papua) & Biscoe & N6A2  & Yes & 2009-11-15 & 50.0 & 15.9 & 224 & 5350 & MALE   & 8.20042 & -26.39677 & NA                                   \\\\\n\t PAL0910 &  94 & Gentoo penguin & Pygoscelis papua) & Biscoe & N18A2 & Yes & 2009-12-01 & 49.5 & 16.1 & 224 & 5650 & MALE   & 8.83352 & -25.69195 & NA                                   \\\\\n\t PAL0809 &  70 & Gentoo penguin & Pygoscelis papua) & Biscoe & N53A2 & Yes & 2008-11-13 & 50.7 & 15.0 & 223 & 5550 & MALE   & 8.63551 & -26.74249 & NA                                   \\\\\n\t PAL0809 &  80 & Gentoo penguin & Pygoscelis papua) & Biscoe & N60A2 & Yes & 2008-11-09 & 45.2 & 16.4 & 223 & 5950 & MALE   & 8.19749 & -26.65931 & NA                                   \\\\\n\t PAL0708 &  20 & Gentoo penguin & Pygoscelis papua) & Biscoe & N40A2 & Yes & 2007-11-27 & 48.7 & 15.1 & 222 & 5350 & MALE   & 7.96491 & -25.39587 & NA                                   \\\\\n\t PAL0708 &  31 & Gentoo penguin & Pygoscelis papua) & Biscoe & N50A1 & Yes & 2007-11-29 & 47.3 & 15.3 & 222 & 5250 & MALE   &      NA &        NA & Not enough blood for isotopes.       \\\\\n\t PAL0809 &  45 & Gentoo penguin & Pygoscelis papua) & Biscoe & N8A1  & Yes & 2008-11-03 & 50.5 & 15.9 & 222 & 5550 & MALE   & 8.46894 & -26.60436 & NA                                   \\\\\n\t PAL0910 &  98 & Gentoo penguin & Pygoscelis papua) & Biscoe & N20A2 & Yes & 2009-11-18 & 46.9 & 14.6 & 222 & 4875 & FEMALE & 7.88810 & -26.04726 & NA                                   \\\\\n\t PAL0910 & 118 & Gentoo penguin & Pygoscelis papua) & Biscoe & N36A2 & Yes & 2009-12-01 & 48.8 & 16.2 & 222 & 6000 & MALE   & 8.33825 & -25.88547 & NA                                   \\\\\n\t PAL0910 & 122 & Gentoo penguin & Pygoscelis papua) & Biscoe & N39A2 & Yes & 2009-11-22 & 50.4 & 15.7 & 222 & 5750 & MALE   & 8.30166 & -26.04117 & NA                                   \\\\\n\t ⋮ & ⋮ & ⋮ & ⋮ & ⋮ & ⋮ & ⋮ & ⋮ & ⋮ & ⋮ & ⋮ & ⋮ & ⋮ & ⋮ & ⋮ & ⋮\\\\\n\t PAL0809 &  78 & Adelie Penguin    & Pygoscelis adeliae)    & Torgersen & N37A2 & Yes & 2008-11-06 & 37.2 & 19.4 & 184 & 3900 & MALE   & 8.35540 & -26.44787 & NA                                                            \\\\\n\t PAL0910 & 106 & Adelie Penguin    & Pygoscelis adeliae)    & Biscoe    & N51A2 & Yes & 2009-11-15 & 39.7 & 18.9 & 184 & 3550 & MALE   & 8.85699 & -25.80208 & NA                                                            \\\\\n\t PAL0910 & 148 & Adelie Penguin    & Pygoscelis adeliae)    & Dream     & N83A2 & Yes & 2009-11-13 & 36.6 & 18.4 & 184 & 3475 & FEMALE & 8.68744 & -25.83060 & NA                                                            \\\\\n\t PAL0708 &  27 & Adelie Penguin    & Pygoscelis adeliae)    & Biscoe    & N17A1 & Yes & 2007-11-12 & 40.6 & 18.6 & 183 & 3550 & MALE   & 8.93997 & -25.36288 & NA                                                            \\\\\n\t PAL0910 & 103 & Adelie Penguin    & Pygoscelis adeliae)    & Biscoe    & N49A1 & Yes & 2009-11-15 & 37.7 & 16.0 & 183 & 3075 & FEMALE & 9.21510 & -26.22530 & NA                                                            \\\\\n\t PAL0708 &  13 & Adelie Penguin    & Pygoscelis adeliae)    & Torgersen & N7A1  & Yes & 2007-11-15 & 41.1 & 17.6 & 182 & 3200 & FEMALE &      NA &        NA & Not enough blood for isotopes.                                \\\\\n\t PAL0708 &  41 & Adelie Penguin    & Pygoscelis adeliae)    & Dream     & N26A1 & Yes & 2007-11-16 & 36.5 & 18.0 & 182 & 3150 & FEMALE & 9.68933 & -24.42280 & NA                                                            \\\\\n\t PAL0708 &  47 & Adelie Penguin    & Pygoscelis adeliae)    & Dream     & N29A1 & Yes & 2007-11-13 & 41.1 & 19.0 & 182 & 3425 & MALE   &      NA &        NA & Not enough blood for isotopes.                                \\\\\n\t PAL0708 &   1 & Adelie Penguin    & Pygoscelis adeliae)    & Torgersen & N1A1  & Yes & 2007-11-11 & 39.1 & 18.7 & 181 & 3750 & MALE   &      NA &        NA & Not enough blood for isotopes.                                \\\\\n\t PAL0708 &   7 & Adelie Penguin    & Pygoscelis adeliae)    & Torgersen & N4A1  & No  & 2007-11-15 & 38.9 & 17.8 & 181 & 3625 & FEMALE & 9.18718 & -25.21799 & Nest never observed with full clutch.                         \\\\\n\t PAL0708 &  39 & Adelie Penguin    & Pygoscelis adeliae)    & Dream     & N25A1 & No  & 2007-11-13 & 37.6 & 19.3 & 181 & 3300 & FEMALE & 9.41131 & -25.04169 & Nest never observed with full clutch.                         \\\\\n\t PAL0809 &  59 & Adelie Penguin    & Pygoscelis adeliae)    & Biscoe    & N25A1 & Yes & 2008-11-15 & 36.5 & 16.6 & 181 & 2850 & FEMALE & 9.07878 & -25.88156 & NA                                                            \\\\\n\t PAL0910 & 109 & Adelie Penguin    & Pygoscelis adeliae)    & Biscoe    & N55A1 & Yes & 2009-11-20 & 38.1 & 17.0 & 181 & 3175 & FEMALE & 9.79532 & -25.27385 & NA                                                            \\\\\n\t PAL0708 &  18 & Chinstrap penguin & Pygoscelis antarctica) & Dream     & N71A2 & No  & 2007-11-30 & 58.0 & 17.8 & 181 & 3700 & FEMALE & 9.14382 & -24.57994 & Nest never observed with full clutch.                         \\\\\n\t PAL0708 &  21 & Chinstrap penguin & Pygoscelis antarctica) & Dream     & N73A1 & Yes & 2007-12-03 & 42.4 & 17.3 & 181 & 3600 & FEMALE & 9.35138 & -24.68790 & NA                                                            \\\\\n\t PAL0708 &  12 & Adelie Penguin    & Pygoscelis adeliae)    & Torgersen & N6A2  & Yes & 2007-11-09 & 37.8 & 17.3 & 180 & 3700 & NA     &      NA &        NA & No blood sample obtained.                                     \\\\\n\t PAL0708 &  22 & Adelie Penguin    & Pygoscelis adeliae)    & Biscoe    & N11A2 & Yes & 2007-11-12 & 37.7 & 18.7 & 180 & 3600 & MALE   & 8.66271 & -25.06390 & NA                                                            \\\\\n\t PAL0708 &  25 & Adelie Penguin    & Pygoscelis adeliae)    & Biscoe    & N13A1 & Yes & 2007-11-10 & 38.8 & 17.2 & 180 & 3800 & MALE   & 9.63954 & -25.29856 & NA                                                            \\\\\n\t PAL0708 &  30 & Adelie Penguin    & Pygoscelis adeliae)    & Biscoe    & N18A2 & No  & 2007-11-10 & 40.5 & 18.9 & 180 & 3950 & MALE   & 8.90027 & -25.11609 & Nest never observed with full clutch.                         \\\\\n\t PAL0708 &  38 & Adelie Penguin    & Pygoscelis adeliae)    & Dream     & N24A2 & Yes & 2007-11-16 & 42.2 & 18.5 & 180 & 3550 & FEMALE & 8.04787 & -25.49523 & NA                                                            \\\\\n\t PAL0708 &  48 & Adelie Penguin    & Pygoscelis adeliae)    & Dream     & N29A2 & Yes & 2007-11-13 & 37.5 & 18.9 & 179 & 2975 & NA     &      NA &        NA & Sexing primers did not amplify. Not enough blood for isotopes.\\\\\n\t PAL0708 &  31 & Adelie Penguin    & Pygoscelis adeliae)    & Dream     & N21A1 & Yes & 2007-11-09 & 39.5 & 16.7 & 178 & 3250 & FEMALE & 9.69756 & -25.11223 & NA                                                            \\\\\n\t PAL0708 &  32 & Adelie Penguin    & Pygoscelis adeliae)    & Dream     & N21A2 & Yes & 2007-11-09 & 37.2 & 18.1 & 178 & 3900 & MALE   & 9.72764 & -25.01020 & NA                                                            \\\\\n\t PAL0809 &  99 & Adelie Penguin    & Pygoscelis adeliae)    & Dream     & N50A1 & Yes & 2008-11-10 & 33.1 & 16.1 & 178 & 2900 & FEMALE & 9.04218 & -26.15775 & NA                                                            \\\\\n\t PAL0708 &   7 & Chinstrap penguin & Pygoscelis antarctica) & Dream     & N66A1 & Yes & 2007-11-28 & 46.1 & 18.2 & 178 & 3250 & FEMALE & 8.85664 & -24.55644 & NA                                                            \\\\\n\t PAL0910 & 123 & Adelie Penguin    & Pygoscelis adeliae)    & Torgersen & N67A1 & Yes & 2009-11-16 & 40.2 & 17.0 & 176 & 3450 & FEMALE & 9.30722 & -25.61039 & NA                                                            \\\\\n\t PAL0708 &  21 & Adelie Penguin    & Pygoscelis adeliae)    & Biscoe    & N11A1 & Yes & 2007-11-12 & 37.8 & 18.3 & 174 & 3400 & FEMALE & 8.73762 & -25.09383 & NA                                                            \\\\\n\t PAL0708 &  29 & Adelie Penguin    & Pygoscelis adeliae)    & Biscoe    & N18A1 & No  & 2007-11-10 & 37.9 & 18.6 & 172 & 3150 & FEMALE & 8.38404 & -25.19837 & Nest never observed with full clutch.                         \\\\\n\t PAL0708 &   4 & Adelie Penguin    & Pygoscelis adeliae)    & Torgersen & N2A2  & Yes & 2007-11-16 &   NA &   NA &  NA &   NA & NA     &      NA &        NA & Adult not sampled.                                            \\\\\n\t PAL0910 & 120 & Gentoo penguin    & Pygoscelis papua)      & Biscoe    & N38A2 & No  & 2009-12-01 &   NA &   NA &  NA &   NA & NA     &      NA &        NA & Adult not sampled. Nest never observed with full clutch.      \\\\\n\\end{tabular}\n",
            "text/markdown": "\nA tibble: 344 × 16\n\n| study_name &lt;chr&gt; | sample_number &lt;dbl&gt; | species &lt;chr&gt; | latin_name &lt;chr&gt; | island &lt;chr&gt; | individual_id &lt;chr&gt; | clutch_completion &lt;chr&gt; | date_egg &lt;date&gt; | culmen_length_mm &lt;dbl&gt; | culmen_depth_mm &lt;dbl&gt; | flipper_length_mm &lt;dbl&gt; | body_mass_g &lt;dbl&gt; | sex &lt;chr&gt; | delta_15_n_o_oo &lt;dbl&gt; | delta_13_c_o_oo &lt;dbl&gt; | comments &lt;chr&gt; |\n|---|---|---|---|---|---|---|---|---|---|---|---|---|---|---|---|\n| PAL0809 |  64 | Gentoo penguin | Pygoscelis papua) | Biscoe | N19A2 | Yes | 2008-11-13 | 54.3 | 15.7 | 231 | 5650 | MALE   | 8.49662 | -26.84166 | NA                                    |\n| PAL0708 |   2 | Gentoo penguin | Pygoscelis papua) | Biscoe | N31A2 | Yes | 2007-11-27 | 50.0 | 16.3 | 230 | 5700 | MALE   | 8.14756 | -25.39369 | NA                                    |\n| PAL0708 |  34 | Gentoo penguin | Pygoscelis papua) | Biscoe | N56A2 | Yes | 2007-12-03 | 59.6 | 17.0 | 230 | 6050 | MALE   | 7.76843 | -25.68210 | NA                                    |\n| PAL0809 |  66 | Gentoo penguin | Pygoscelis papua) | Biscoe | N20A2 | Yes | 2008-11-04 | 49.8 | 16.8 | 230 | 5700 | MALE   | 8.47067 | -26.69166 | NA                                    |\n| PAL0809 |  76 | Gentoo penguin | Pygoscelis papua) | Biscoe | N56A2 | Yes | 2008-11-06 | 48.6 | 16.0 | 230 | 5800 | MALE   | 8.59640 | -26.71199 | NA                                    |\n| PAL0910 |  90 | Gentoo penguin | Pygoscelis papua) | Biscoe | N14A2 | Yes | 2009-11-25 | 52.1 | 17.0 | 230 | 5550 | MALE   | 8.27595 | -26.11657 | NA                                    |\n| PAL0910 | 114 | Gentoo penguin | Pygoscelis papua) | Biscoe | N34A2 | Yes | 2009-11-27 | 51.5 | 16.3 | 230 | 5500 | MALE   | 8.78557 | -25.76147 | NA                                    |\n| PAL0910 | 116 | Gentoo penguin | Pygoscelis papua) | Biscoe | N35A2 | Yes | 2009-11-25 | 55.1 | 16.0 | 230 | 5850 | MALE   | 8.08354 | -26.18161 | NA                                    |\n| PAL0809 |  68 | Gentoo penguin | Pygoscelis papua) | Biscoe | N51A2 | Yes | 2008-11-09 | 49.5 | 16.2 | 229 | 5800 | MALE   | 8.49854 | -26.74809 | NA                                    |\n| PAL0910 | 112 | Gentoo penguin | Pygoscelis papua) | Biscoe | N32A2 | Yes | 2009-11-20 | 49.8 | 15.9 | 229 | 5950 | MALE   | 8.29226 | -26.21019 | NA                                    |\n| PAL0910 |  86 | Gentoo penguin | Pygoscelis papua) | Biscoe | N8A2  | Yes | 2009-11-22 | 50.8 | 17.3 | 228 | 5600 | MALE   | 8.27428 | -26.30019 | NA                                    |\n| PAL0910 |  92 | Gentoo penguin | Pygoscelis papua) | Biscoe | N15A2 | Yes | 2009-11-25 | 52.2 | 17.1 | 228 | 5400 | MALE   | 8.36701 | -25.89834 | NA                                    |\n| PAL0910 | 102 | Gentoo penguin | Pygoscelis papua) | Biscoe | N22A2 | Yes | 2009-11-22 | 55.9 | 17.0 | 228 | 5600 | MALE   | 8.31180 | -26.35425 | NA                                    |\n| PAL0910 | 104 | Gentoo penguin | Pygoscelis papua) | Biscoe | N23A2 | Yes | 2009-11-18 | 49.1 | 15.0 | 228 | 5500 | MALE   | 8.65914 | -25.79203 | NA                                    |\n| PAL0910 |  96 | Gentoo penguin | Pygoscelis papua) | Biscoe | N19A2 | Yes | 2009-11-27 | 50.8 | 15.7 | 226 | 5200 | MALE   | 8.27102 | -26.11244 | NA                                    |\n| PAL0809 |  42 | Gentoo penguin | Pygoscelis papua) | Biscoe | N6A2  | No  | 2008-11-04 | 49.6 | 16.0 | 225 | 5700 | MALE   | 8.38324 | -26.84272 | Nest never observed with full clutch. |\n| PAL0809 |  48 | Gentoo penguin | Pygoscelis papua) | Biscoe | N11A2 | No  | 2008-11-09 | 50.5 | 15.9 | 225 | 5400 | MALE   | 8.65803 | -26.57585 | Nest never observed with full clutch. |\n| PAL0809 |  54 | Gentoo penguin | Pygoscelis papua) | Biscoe | N14A2 | Yes | 2008-11-04 | 50.1 | 15.0 | 225 | 5000 | MALE   | 8.50153 | -26.61414 | NA                                    |\n| PAL0910 | 100 | Gentoo penguin | Pygoscelis papua) | Biscoe | N21A2 | Yes | 2009-11-18 | 51.1 | 16.5 | 225 | 5250 | MALE   | 8.20660 | -26.36863 | NA                                    |\n| PAL0809 |  60 | Gentoo penguin | Pygoscelis papua) | Biscoe | N17A2 | Yes | 2008-11-06 | 50.4 | 15.3 | 224 | 5550 | MALE   | 8.74647 | -26.79846 | NA                                    |\n| PAL0910 |  84 | Gentoo penguin | Pygoscelis papua) | Biscoe | N6A2  | Yes | 2009-11-15 | 50.0 | 15.9 | 224 | 5350 | MALE   | 8.20042 | -26.39677 | NA                                    |\n| PAL0910 |  94 | Gentoo penguin | Pygoscelis papua) | Biscoe | N18A2 | Yes | 2009-12-01 | 49.5 | 16.1 | 224 | 5650 | MALE   | 8.83352 | -25.69195 | NA                                    |\n| PAL0809 |  70 | Gentoo penguin | Pygoscelis papua) | Biscoe | N53A2 | Yes | 2008-11-13 | 50.7 | 15.0 | 223 | 5550 | MALE   | 8.63551 | -26.74249 | NA                                    |\n| PAL0809 |  80 | Gentoo penguin | Pygoscelis papua) | Biscoe | N60A2 | Yes | 2008-11-09 | 45.2 | 16.4 | 223 | 5950 | MALE   | 8.19749 | -26.65931 | NA                                    |\n| PAL0708 |  20 | Gentoo penguin | Pygoscelis papua) | Biscoe | N40A2 | Yes | 2007-11-27 | 48.7 | 15.1 | 222 | 5350 | MALE   | 7.96491 | -25.39587 | NA                                    |\n| PAL0708 |  31 | Gentoo penguin | Pygoscelis papua) | Biscoe | N50A1 | Yes | 2007-11-29 | 47.3 | 15.3 | 222 | 5250 | MALE   |      NA |        NA | Not enough blood for isotopes.        |\n| PAL0809 |  45 | Gentoo penguin | Pygoscelis papua) | Biscoe | N8A1  | Yes | 2008-11-03 | 50.5 | 15.9 | 222 | 5550 | MALE   | 8.46894 | -26.60436 | NA                                    |\n| PAL0910 |  98 | Gentoo penguin | Pygoscelis papua) | Biscoe | N20A2 | Yes | 2009-11-18 | 46.9 | 14.6 | 222 | 4875 | FEMALE | 7.88810 | -26.04726 | NA                                    |\n| PAL0910 | 118 | Gentoo penguin | Pygoscelis papua) | Biscoe | N36A2 | Yes | 2009-12-01 | 48.8 | 16.2 | 222 | 6000 | MALE   | 8.33825 | -25.88547 | NA                                    |\n| PAL0910 | 122 | Gentoo penguin | Pygoscelis papua) | Biscoe | N39A2 | Yes | 2009-11-22 | 50.4 | 15.7 | 222 | 5750 | MALE   | 8.30166 | -26.04117 | NA                                    |\n| ⋮ | ⋮ | ⋮ | ⋮ | ⋮ | ⋮ | ⋮ | ⋮ | ⋮ | ⋮ | ⋮ | ⋮ | ⋮ | ⋮ | ⋮ | ⋮ |\n| PAL0809 |  78 | Adelie Penguin    | Pygoscelis adeliae)    | Torgersen | N37A2 | Yes | 2008-11-06 | 37.2 | 19.4 | 184 | 3900 | MALE   | 8.35540 | -26.44787 | NA                                                             |\n| PAL0910 | 106 | Adelie Penguin    | Pygoscelis adeliae)    | Biscoe    | N51A2 | Yes | 2009-11-15 | 39.7 | 18.9 | 184 | 3550 | MALE   | 8.85699 | -25.80208 | NA                                                             |\n| PAL0910 | 148 | Adelie Penguin    | Pygoscelis adeliae)    | Dream     | N83A2 | Yes | 2009-11-13 | 36.6 | 18.4 | 184 | 3475 | FEMALE | 8.68744 | -25.83060 | NA                                                             |\n| PAL0708 |  27 | Adelie Penguin    | Pygoscelis adeliae)    | Biscoe    | N17A1 | Yes | 2007-11-12 | 40.6 | 18.6 | 183 | 3550 | MALE   | 8.93997 | -25.36288 | NA                                                             |\n| PAL0910 | 103 | Adelie Penguin    | Pygoscelis adeliae)    | Biscoe    | N49A1 | Yes | 2009-11-15 | 37.7 | 16.0 | 183 | 3075 | FEMALE | 9.21510 | -26.22530 | NA                                                             |\n| PAL0708 |  13 | Adelie Penguin    | Pygoscelis adeliae)    | Torgersen | N7A1  | Yes | 2007-11-15 | 41.1 | 17.6 | 182 | 3200 | FEMALE |      NA |        NA | Not enough blood for isotopes.                                 |\n| PAL0708 |  41 | Adelie Penguin    | Pygoscelis adeliae)    | Dream     | N26A1 | Yes | 2007-11-16 | 36.5 | 18.0 | 182 | 3150 | FEMALE | 9.68933 | -24.42280 | NA                                                             |\n| PAL0708 |  47 | Adelie Penguin    | Pygoscelis adeliae)    | Dream     | N29A1 | Yes | 2007-11-13 | 41.1 | 19.0 | 182 | 3425 | MALE   |      NA |        NA | Not enough blood for isotopes.                                 |\n| PAL0708 |   1 | Adelie Penguin    | Pygoscelis adeliae)    | Torgersen | N1A1  | Yes | 2007-11-11 | 39.1 | 18.7 | 181 | 3750 | MALE   |      NA |        NA | Not enough blood for isotopes.                                 |\n| PAL0708 |   7 | Adelie Penguin    | Pygoscelis adeliae)    | Torgersen | N4A1  | No  | 2007-11-15 | 38.9 | 17.8 | 181 | 3625 | FEMALE | 9.18718 | -25.21799 | Nest never observed with full clutch.                          |\n| PAL0708 |  39 | Adelie Penguin    | Pygoscelis adeliae)    | Dream     | N25A1 | No  | 2007-11-13 | 37.6 | 19.3 | 181 | 3300 | FEMALE | 9.41131 | -25.04169 | Nest never observed with full clutch.                          |\n| PAL0809 |  59 | Adelie Penguin    | Pygoscelis adeliae)    | Biscoe    | N25A1 | Yes | 2008-11-15 | 36.5 | 16.6 | 181 | 2850 | FEMALE | 9.07878 | -25.88156 | NA                                                             |\n| PAL0910 | 109 | Adelie Penguin    | Pygoscelis adeliae)    | Biscoe    | N55A1 | Yes | 2009-11-20 | 38.1 | 17.0 | 181 | 3175 | FEMALE | 9.79532 | -25.27385 | NA                                                             |\n| PAL0708 |  18 | Chinstrap penguin | Pygoscelis antarctica) | Dream     | N71A2 | No  | 2007-11-30 | 58.0 | 17.8 | 181 | 3700 | FEMALE | 9.14382 | -24.57994 | Nest never observed with full clutch.                          |\n| PAL0708 |  21 | Chinstrap penguin | Pygoscelis antarctica) | Dream     | N73A1 | Yes | 2007-12-03 | 42.4 | 17.3 | 181 | 3600 | FEMALE | 9.35138 | -24.68790 | NA                                                             |\n| PAL0708 |  12 | Adelie Penguin    | Pygoscelis adeliae)    | Torgersen | N6A2  | Yes | 2007-11-09 | 37.8 | 17.3 | 180 | 3700 | NA     |      NA |        NA | No blood sample obtained.                                      |\n| PAL0708 |  22 | Adelie Penguin    | Pygoscelis adeliae)    | Biscoe    | N11A2 | Yes | 2007-11-12 | 37.7 | 18.7 | 180 | 3600 | MALE   | 8.66271 | -25.06390 | NA                                                             |\n| PAL0708 |  25 | Adelie Penguin    | Pygoscelis adeliae)    | Biscoe    | N13A1 | Yes | 2007-11-10 | 38.8 | 17.2 | 180 | 3800 | MALE   | 9.63954 | -25.29856 | NA                                                             |\n| PAL0708 |  30 | Adelie Penguin    | Pygoscelis adeliae)    | Biscoe    | N18A2 | No  | 2007-11-10 | 40.5 | 18.9 | 180 | 3950 | MALE   | 8.90027 | -25.11609 | Nest never observed with full clutch.                          |\n| PAL0708 |  38 | Adelie Penguin    | Pygoscelis adeliae)    | Dream     | N24A2 | Yes | 2007-11-16 | 42.2 | 18.5 | 180 | 3550 | FEMALE | 8.04787 | -25.49523 | NA                                                             |\n| PAL0708 |  48 | Adelie Penguin    | Pygoscelis adeliae)    | Dream     | N29A2 | Yes | 2007-11-13 | 37.5 | 18.9 | 179 | 2975 | NA     |      NA |        NA | Sexing primers did not amplify. Not enough blood for isotopes. |\n| PAL0708 |  31 | Adelie Penguin    | Pygoscelis adeliae)    | Dream     | N21A1 | Yes | 2007-11-09 | 39.5 | 16.7 | 178 | 3250 | FEMALE | 9.69756 | -25.11223 | NA                                                             |\n| PAL0708 |  32 | Adelie Penguin    | Pygoscelis adeliae)    | Dream     | N21A2 | Yes | 2007-11-09 | 37.2 | 18.1 | 178 | 3900 | MALE   | 9.72764 | -25.01020 | NA                                                             |\n| PAL0809 |  99 | Adelie Penguin    | Pygoscelis adeliae)    | Dream     | N50A1 | Yes | 2008-11-10 | 33.1 | 16.1 | 178 | 2900 | FEMALE | 9.04218 | -26.15775 | NA                                                             |\n| PAL0708 |   7 | Chinstrap penguin | Pygoscelis antarctica) | Dream     | N66A1 | Yes | 2007-11-28 | 46.1 | 18.2 | 178 | 3250 | FEMALE | 8.85664 | -24.55644 | NA                                                             |\n| PAL0910 | 123 | Adelie Penguin    | Pygoscelis adeliae)    | Torgersen | N67A1 | Yes | 2009-11-16 | 40.2 | 17.0 | 176 | 3450 | FEMALE | 9.30722 | -25.61039 | NA                                                             |\n| PAL0708 |  21 | Adelie Penguin    | Pygoscelis adeliae)    | Biscoe    | N11A1 | Yes | 2007-11-12 | 37.8 | 18.3 | 174 | 3400 | FEMALE | 8.73762 | -25.09383 | NA                                                             |\n| PAL0708 |  29 | Adelie Penguin    | Pygoscelis adeliae)    | Biscoe    | N18A1 | No  | 2007-11-10 | 37.9 | 18.6 | 172 | 3150 | FEMALE | 8.38404 | -25.19837 | Nest never observed with full clutch.                          |\n| PAL0708 |   4 | Adelie Penguin    | Pygoscelis adeliae)    | Torgersen | N2A2  | Yes | 2007-11-16 |   NA |   NA |  NA |   NA | NA     |      NA |        NA | Adult not sampled.                                             |\n| PAL0910 | 120 | Gentoo penguin    | Pygoscelis papua)      | Biscoe    | N38A2 | No  | 2009-12-01 |   NA |   NA |  NA |   NA | NA     |      NA |        NA | Adult not sampled. Nest never observed with full clutch.       |\n\n",
            "text/html": [
              "<table class=\"dataframe\">\n",
              "<caption>A tibble: 344 × 16</caption>\n",
              "<thead>\n",
              "\t<tr><th scope=col>study_name</th><th scope=col>sample_number</th><th scope=col>species</th><th scope=col>latin_name</th><th scope=col>island</th><th scope=col>individual_id</th><th scope=col>clutch_completion</th><th scope=col>date_egg</th><th scope=col>culmen_length_mm</th><th scope=col>culmen_depth_mm</th><th scope=col>flipper_length_mm</th><th scope=col>body_mass_g</th><th scope=col>sex</th><th scope=col>delta_15_n_o_oo</th><th scope=col>delta_13_c_o_oo</th><th scope=col>comments</th></tr>\n",
              "\t<tr><th scope=col>&lt;chr&gt;</th><th scope=col>&lt;dbl&gt;</th><th scope=col>&lt;chr&gt;</th><th scope=col>&lt;chr&gt;</th><th scope=col>&lt;chr&gt;</th><th scope=col>&lt;chr&gt;</th><th scope=col>&lt;chr&gt;</th><th scope=col>&lt;date&gt;</th><th scope=col>&lt;dbl&gt;</th><th scope=col>&lt;dbl&gt;</th><th scope=col>&lt;dbl&gt;</th><th scope=col>&lt;dbl&gt;</th><th scope=col>&lt;chr&gt;</th><th scope=col>&lt;dbl&gt;</th><th scope=col>&lt;dbl&gt;</th><th scope=col>&lt;chr&gt;</th></tr>\n",
              "</thead>\n",
              "<tbody>\n",
              "\t<tr><td>PAL0809</td><td> 64</td><td>Gentoo penguin</td><td>Pygoscelis papua)</td><td>Biscoe</td><td>N19A2</td><td>Yes</td><td>2008-11-13</td><td>54.3</td><td>15.7</td><td>231</td><td>5650</td><td>MALE  </td><td>8.49662</td><td>-26.84166</td><td>NA                                   </td></tr>\n",
              "\t<tr><td>PAL0708</td><td>  2</td><td>Gentoo penguin</td><td>Pygoscelis papua)</td><td>Biscoe</td><td>N31A2</td><td>Yes</td><td>2007-11-27</td><td>50.0</td><td>16.3</td><td>230</td><td>5700</td><td>MALE  </td><td>8.14756</td><td>-25.39369</td><td>NA                                   </td></tr>\n",
              "\t<tr><td>PAL0708</td><td> 34</td><td>Gentoo penguin</td><td>Pygoscelis papua)</td><td>Biscoe</td><td>N56A2</td><td>Yes</td><td>2007-12-03</td><td>59.6</td><td>17.0</td><td>230</td><td>6050</td><td>MALE  </td><td>7.76843</td><td>-25.68210</td><td>NA                                   </td></tr>\n",
              "\t<tr><td>PAL0809</td><td> 66</td><td>Gentoo penguin</td><td>Pygoscelis papua)</td><td>Biscoe</td><td>N20A2</td><td>Yes</td><td>2008-11-04</td><td>49.8</td><td>16.8</td><td>230</td><td>5700</td><td>MALE  </td><td>8.47067</td><td>-26.69166</td><td>NA                                   </td></tr>\n",
              "\t<tr><td>PAL0809</td><td> 76</td><td>Gentoo penguin</td><td>Pygoscelis papua)</td><td>Biscoe</td><td>N56A2</td><td>Yes</td><td>2008-11-06</td><td>48.6</td><td>16.0</td><td>230</td><td>5800</td><td>MALE  </td><td>8.59640</td><td>-26.71199</td><td>NA                                   </td></tr>\n",
              "\t<tr><td>PAL0910</td><td> 90</td><td>Gentoo penguin</td><td>Pygoscelis papua)</td><td>Biscoe</td><td>N14A2</td><td>Yes</td><td>2009-11-25</td><td>52.1</td><td>17.0</td><td>230</td><td>5550</td><td>MALE  </td><td>8.27595</td><td>-26.11657</td><td>NA                                   </td></tr>\n",
              "\t<tr><td>PAL0910</td><td>114</td><td>Gentoo penguin</td><td>Pygoscelis papua)</td><td>Biscoe</td><td>N34A2</td><td>Yes</td><td>2009-11-27</td><td>51.5</td><td>16.3</td><td>230</td><td>5500</td><td>MALE  </td><td>8.78557</td><td>-25.76147</td><td>NA                                   </td></tr>\n",
              "\t<tr><td>PAL0910</td><td>116</td><td>Gentoo penguin</td><td>Pygoscelis papua)</td><td>Biscoe</td><td>N35A2</td><td>Yes</td><td>2009-11-25</td><td>55.1</td><td>16.0</td><td>230</td><td>5850</td><td>MALE  </td><td>8.08354</td><td>-26.18161</td><td>NA                                   </td></tr>\n",
              "\t<tr><td>PAL0809</td><td> 68</td><td>Gentoo penguin</td><td>Pygoscelis papua)</td><td>Biscoe</td><td>N51A2</td><td>Yes</td><td>2008-11-09</td><td>49.5</td><td>16.2</td><td>229</td><td>5800</td><td>MALE  </td><td>8.49854</td><td>-26.74809</td><td>NA                                   </td></tr>\n",
              "\t<tr><td>PAL0910</td><td>112</td><td>Gentoo penguin</td><td>Pygoscelis papua)</td><td>Biscoe</td><td>N32A2</td><td>Yes</td><td>2009-11-20</td><td>49.8</td><td>15.9</td><td>229</td><td>5950</td><td>MALE  </td><td>8.29226</td><td>-26.21019</td><td>NA                                   </td></tr>\n",
              "\t<tr><td>PAL0910</td><td> 86</td><td>Gentoo penguin</td><td>Pygoscelis papua)</td><td>Biscoe</td><td>N8A2 </td><td>Yes</td><td>2009-11-22</td><td>50.8</td><td>17.3</td><td>228</td><td>5600</td><td>MALE  </td><td>8.27428</td><td>-26.30019</td><td>NA                                   </td></tr>\n",
              "\t<tr><td>PAL0910</td><td> 92</td><td>Gentoo penguin</td><td>Pygoscelis papua)</td><td>Biscoe</td><td>N15A2</td><td>Yes</td><td>2009-11-25</td><td>52.2</td><td>17.1</td><td>228</td><td>5400</td><td>MALE  </td><td>8.36701</td><td>-25.89834</td><td>NA                                   </td></tr>\n",
              "\t<tr><td>PAL0910</td><td>102</td><td>Gentoo penguin</td><td>Pygoscelis papua)</td><td>Biscoe</td><td>N22A2</td><td>Yes</td><td>2009-11-22</td><td>55.9</td><td>17.0</td><td>228</td><td>5600</td><td>MALE  </td><td>8.31180</td><td>-26.35425</td><td>NA                                   </td></tr>\n",
              "\t<tr><td>PAL0910</td><td>104</td><td>Gentoo penguin</td><td>Pygoscelis papua)</td><td>Biscoe</td><td>N23A2</td><td>Yes</td><td>2009-11-18</td><td>49.1</td><td>15.0</td><td>228</td><td>5500</td><td>MALE  </td><td>8.65914</td><td>-25.79203</td><td>NA                                   </td></tr>\n",
              "\t<tr><td>PAL0910</td><td> 96</td><td>Gentoo penguin</td><td>Pygoscelis papua)</td><td>Biscoe</td><td>N19A2</td><td>Yes</td><td>2009-11-27</td><td>50.8</td><td>15.7</td><td>226</td><td>5200</td><td>MALE  </td><td>8.27102</td><td>-26.11244</td><td>NA                                   </td></tr>\n",
              "\t<tr><td>PAL0809</td><td> 42</td><td>Gentoo penguin</td><td>Pygoscelis papua)</td><td>Biscoe</td><td>N6A2 </td><td>No </td><td>2008-11-04</td><td>49.6</td><td>16.0</td><td>225</td><td>5700</td><td>MALE  </td><td>8.38324</td><td>-26.84272</td><td>Nest never observed with full clutch.</td></tr>\n",
              "\t<tr><td>PAL0809</td><td> 48</td><td>Gentoo penguin</td><td>Pygoscelis papua)</td><td>Biscoe</td><td>N11A2</td><td>No </td><td>2008-11-09</td><td>50.5</td><td>15.9</td><td>225</td><td>5400</td><td>MALE  </td><td>8.65803</td><td>-26.57585</td><td>Nest never observed with full clutch.</td></tr>\n",
              "\t<tr><td>PAL0809</td><td> 54</td><td>Gentoo penguin</td><td>Pygoscelis papua)</td><td>Biscoe</td><td>N14A2</td><td>Yes</td><td>2008-11-04</td><td>50.1</td><td>15.0</td><td>225</td><td>5000</td><td>MALE  </td><td>8.50153</td><td>-26.61414</td><td>NA                                   </td></tr>\n",
              "\t<tr><td>PAL0910</td><td>100</td><td>Gentoo penguin</td><td>Pygoscelis papua)</td><td>Biscoe</td><td>N21A2</td><td>Yes</td><td>2009-11-18</td><td>51.1</td><td>16.5</td><td>225</td><td>5250</td><td>MALE  </td><td>8.20660</td><td>-26.36863</td><td>NA                                   </td></tr>\n",
              "\t<tr><td>PAL0809</td><td> 60</td><td>Gentoo penguin</td><td>Pygoscelis papua)</td><td>Biscoe</td><td>N17A2</td><td>Yes</td><td>2008-11-06</td><td>50.4</td><td>15.3</td><td>224</td><td>5550</td><td>MALE  </td><td>8.74647</td><td>-26.79846</td><td>NA                                   </td></tr>\n",
              "\t<tr><td>PAL0910</td><td> 84</td><td>Gentoo penguin</td><td>Pygoscelis papua)</td><td>Biscoe</td><td>N6A2 </td><td>Yes</td><td>2009-11-15</td><td>50.0</td><td>15.9</td><td>224</td><td>5350</td><td>MALE  </td><td>8.20042</td><td>-26.39677</td><td>NA                                   </td></tr>\n",
              "\t<tr><td>PAL0910</td><td> 94</td><td>Gentoo penguin</td><td>Pygoscelis papua)</td><td>Biscoe</td><td>N18A2</td><td>Yes</td><td>2009-12-01</td><td>49.5</td><td>16.1</td><td>224</td><td>5650</td><td>MALE  </td><td>8.83352</td><td>-25.69195</td><td>NA                                   </td></tr>\n",
              "\t<tr><td>PAL0809</td><td> 70</td><td>Gentoo penguin</td><td>Pygoscelis papua)</td><td>Biscoe</td><td>N53A2</td><td>Yes</td><td>2008-11-13</td><td>50.7</td><td>15.0</td><td>223</td><td>5550</td><td>MALE  </td><td>8.63551</td><td>-26.74249</td><td>NA                                   </td></tr>\n",
              "\t<tr><td>PAL0809</td><td> 80</td><td>Gentoo penguin</td><td>Pygoscelis papua)</td><td>Biscoe</td><td>N60A2</td><td>Yes</td><td>2008-11-09</td><td>45.2</td><td>16.4</td><td>223</td><td>5950</td><td>MALE  </td><td>8.19749</td><td>-26.65931</td><td>NA                                   </td></tr>\n",
              "\t<tr><td>PAL0708</td><td> 20</td><td>Gentoo penguin</td><td>Pygoscelis papua)</td><td>Biscoe</td><td>N40A2</td><td>Yes</td><td>2007-11-27</td><td>48.7</td><td>15.1</td><td>222</td><td>5350</td><td>MALE  </td><td>7.96491</td><td>-25.39587</td><td>NA                                   </td></tr>\n",
              "\t<tr><td>PAL0708</td><td> 31</td><td>Gentoo penguin</td><td>Pygoscelis papua)</td><td>Biscoe</td><td>N50A1</td><td>Yes</td><td>2007-11-29</td><td>47.3</td><td>15.3</td><td>222</td><td>5250</td><td>MALE  </td><td>     NA</td><td>       NA</td><td>Not enough blood for isotopes.       </td></tr>\n",
              "\t<tr><td>PAL0809</td><td> 45</td><td>Gentoo penguin</td><td>Pygoscelis papua)</td><td>Biscoe</td><td>N8A1 </td><td>Yes</td><td>2008-11-03</td><td>50.5</td><td>15.9</td><td>222</td><td>5550</td><td>MALE  </td><td>8.46894</td><td>-26.60436</td><td>NA                                   </td></tr>\n",
              "\t<tr><td>PAL0910</td><td> 98</td><td>Gentoo penguin</td><td>Pygoscelis papua)</td><td>Biscoe</td><td>N20A2</td><td>Yes</td><td>2009-11-18</td><td>46.9</td><td>14.6</td><td>222</td><td>4875</td><td>FEMALE</td><td>7.88810</td><td>-26.04726</td><td>NA                                   </td></tr>\n",
              "\t<tr><td>PAL0910</td><td>118</td><td>Gentoo penguin</td><td>Pygoscelis papua)</td><td>Biscoe</td><td>N36A2</td><td>Yes</td><td>2009-12-01</td><td>48.8</td><td>16.2</td><td>222</td><td>6000</td><td>MALE  </td><td>8.33825</td><td>-25.88547</td><td>NA                                   </td></tr>\n",
              "\t<tr><td>PAL0910</td><td>122</td><td>Gentoo penguin</td><td>Pygoscelis papua)</td><td>Biscoe</td><td>N39A2</td><td>Yes</td><td>2009-11-22</td><td>50.4</td><td>15.7</td><td>222</td><td>5750</td><td>MALE  </td><td>8.30166</td><td>-26.04117</td><td>NA                                   </td></tr>\n",
              "\t<tr><td>⋮</td><td>⋮</td><td>⋮</td><td>⋮</td><td>⋮</td><td>⋮</td><td>⋮</td><td>⋮</td><td>⋮</td><td>⋮</td><td>⋮</td><td>⋮</td><td>⋮</td><td>⋮</td><td>⋮</td><td>⋮</td></tr>\n",
              "\t<tr><td>PAL0809</td><td> 78</td><td>Adelie Penguin   </td><td>Pygoscelis adeliae)   </td><td>Torgersen</td><td>N37A2</td><td>Yes</td><td>2008-11-06</td><td>37.2</td><td>19.4</td><td>184</td><td>3900</td><td>MALE  </td><td>8.35540</td><td>-26.44787</td><td>NA                                                            </td></tr>\n",
              "\t<tr><td>PAL0910</td><td>106</td><td>Adelie Penguin   </td><td>Pygoscelis adeliae)   </td><td>Biscoe   </td><td>N51A2</td><td>Yes</td><td>2009-11-15</td><td>39.7</td><td>18.9</td><td>184</td><td>3550</td><td>MALE  </td><td>8.85699</td><td>-25.80208</td><td>NA                                                            </td></tr>\n",
              "\t<tr><td>PAL0910</td><td>148</td><td>Adelie Penguin   </td><td>Pygoscelis adeliae)   </td><td>Dream    </td><td>N83A2</td><td>Yes</td><td>2009-11-13</td><td>36.6</td><td>18.4</td><td>184</td><td>3475</td><td>FEMALE</td><td>8.68744</td><td>-25.83060</td><td>NA                                                            </td></tr>\n",
              "\t<tr><td>PAL0708</td><td> 27</td><td>Adelie Penguin   </td><td>Pygoscelis adeliae)   </td><td>Biscoe   </td><td>N17A1</td><td>Yes</td><td>2007-11-12</td><td>40.6</td><td>18.6</td><td>183</td><td>3550</td><td>MALE  </td><td>8.93997</td><td>-25.36288</td><td>NA                                                            </td></tr>\n",
              "\t<tr><td>PAL0910</td><td>103</td><td>Adelie Penguin   </td><td>Pygoscelis adeliae)   </td><td>Biscoe   </td><td>N49A1</td><td>Yes</td><td>2009-11-15</td><td>37.7</td><td>16.0</td><td>183</td><td>3075</td><td>FEMALE</td><td>9.21510</td><td>-26.22530</td><td>NA                                                            </td></tr>\n",
              "\t<tr><td>PAL0708</td><td> 13</td><td>Adelie Penguin   </td><td>Pygoscelis adeliae)   </td><td>Torgersen</td><td>N7A1 </td><td>Yes</td><td>2007-11-15</td><td>41.1</td><td>17.6</td><td>182</td><td>3200</td><td>FEMALE</td><td>     NA</td><td>       NA</td><td>Not enough blood for isotopes.                                </td></tr>\n",
              "\t<tr><td>PAL0708</td><td> 41</td><td>Adelie Penguin   </td><td>Pygoscelis adeliae)   </td><td>Dream    </td><td>N26A1</td><td>Yes</td><td>2007-11-16</td><td>36.5</td><td>18.0</td><td>182</td><td>3150</td><td>FEMALE</td><td>9.68933</td><td>-24.42280</td><td>NA                                                            </td></tr>\n",
              "\t<tr><td>PAL0708</td><td> 47</td><td>Adelie Penguin   </td><td>Pygoscelis adeliae)   </td><td>Dream    </td><td>N29A1</td><td>Yes</td><td>2007-11-13</td><td>41.1</td><td>19.0</td><td>182</td><td>3425</td><td>MALE  </td><td>     NA</td><td>       NA</td><td>Not enough blood for isotopes.                                </td></tr>\n",
              "\t<tr><td>PAL0708</td><td>  1</td><td>Adelie Penguin   </td><td>Pygoscelis adeliae)   </td><td>Torgersen</td><td>N1A1 </td><td>Yes</td><td>2007-11-11</td><td>39.1</td><td>18.7</td><td>181</td><td>3750</td><td>MALE  </td><td>     NA</td><td>       NA</td><td>Not enough blood for isotopes.                                </td></tr>\n",
              "\t<tr><td>PAL0708</td><td>  7</td><td>Adelie Penguin   </td><td>Pygoscelis adeliae)   </td><td>Torgersen</td><td>N4A1 </td><td>No </td><td>2007-11-15</td><td>38.9</td><td>17.8</td><td>181</td><td>3625</td><td>FEMALE</td><td>9.18718</td><td>-25.21799</td><td>Nest never observed with full clutch.                         </td></tr>\n",
              "\t<tr><td>PAL0708</td><td> 39</td><td>Adelie Penguin   </td><td>Pygoscelis adeliae)   </td><td>Dream    </td><td>N25A1</td><td>No </td><td>2007-11-13</td><td>37.6</td><td>19.3</td><td>181</td><td>3300</td><td>FEMALE</td><td>9.41131</td><td>-25.04169</td><td>Nest never observed with full clutch.                         </td></tr>\n",
              "\t<tr><td>PAL0809</td><td> 59</td><td>Adelie Penguin   </td><td>Pygoscelis adeliae)   </td><td>Biscoe   </td><td>N25A1</td><td>Yes</td><td>2008-11-15</td><td>36.5</td><td>16.6</td><td>181</td><td>2850</td><td>FEMALE</td><td>9.07878</td><td>-25.88156</td><td>NA                                                            </td></tr>\n",
              "\t<tr><td>PAL0910</td><td>109</td><td>Adelie Penguin   </td><td>Pygoscelis adeliae)   </td><td>Biscoe   </td><td>N55A1</td><td>Yes</td><td>2009-11-20</td><td>38.1</td><td>17.0</td><td>181</td><td>3175</td><td>FEMALE</td><td>9.79532</td><td>-25.27385</td><td>NA                                                            </td></tr>\n",
              "\t<tr><td>PAL0708</td><td> 18</td><td>Chinstrap penguin</td><td>Pygoscelis antarctica)</td><td>Dream    </td><td>N71A2</td><td>No </td><td>2007-11-30</td><td>58.0</td><td>17.8</td><td>181</td><td>3700</td><td>FEMALE</td><td>9.14382</td><td>-24.57994</td><td>Nest never observed with full clutch.                         </td></tr>\n",
              "\t<tr><td>PAL0708</td><td> 21</td><td>Chinstrap penguin</td><td>Pygoscelis antarctica)</td><td>Dream    </td><td>N73A1</td><td>Yes</td><td>2007-12-03</td><td>42.4</td><td>17.3</td><td>181</td><td>3600</td><td>FEMALE</td><td>9.35138</td><td>-24.68790</td><td>NA                                                            </td></tr>\n",
              "\t<tr><td>PAL0708</td><td> 12</td><td>Adelie Penguin   </td><td>Pygoscelis adeliae)   </td><td>Torgersen</td><td>N6A2 </td><td>Yes</td><td>2007-11-09</td><td>37.8</td><td>17.3</td><td>180</td><td>3700</td><td>NA    </td><td>     NA</td><td>       NA</td><td>No blood sample obtained.                                     </td></tr>\n",
              "\t<tr><td>PAL0708</td><td> 22</td><td>Adelie Penguin   </td><td>Pygoscelis adeliae)   </td><td>Biscoe   </td><td>N11A2</td><td>Yes</td><td>2007-11-12</td><td>37.7</td><td>18.7</td><td>180</td><td>3600</td><td>MALE  </td><td>8.66271</td><td>-25.06390</td><td>NA                                                            </td></tr>\n",
              "\t<tr><td>PAL0708</td><td> 25</td><td>Adelie Penguin   </td><td>Pygoscelis adeliae)   </td><td>Biscoe   </td><td>N13A1</td><td>Yes</td><td>2007-11-10</td><td>38.8</td><td>17.2</td><td>180</td><td>3800</td><td>MALE  </td><td>9.63954</td><td>-25.29856</td><td>NA                                                            </td></tr>\n",
              "\t<tr><td>PAL0708</td><td> 30</td><td>Adelie Penguin   </td><td>Pygoscelis adeliae)   </td><td>Biscoe   </td><td>N18A2</td><td>No </td><td>2007-11-10</td><td>40.5</td><td>18.9</td><td>180</td><td>3950</td><td>MALE  </td><td>8.90027</td><td>-25.11609</td><td>Nest never observed with full clutch.                         </td></tr>\n",
              "\t<tr><td>PAL0708</td><td> 38</td><td>Adelie Penguin   </td><td>Pygoscelis adeliae)   </td><td>Dream    </td><td>N24A2</td><td>Yes</td><td>2007-11-16</td><td>42.2</td><td>18.5</td><td>180</td><td>3550</td><td>FEMALE</td><td>8.04787</td><td>-25.49523</td><td>NA                                                            </td></tr>\n",
              "\t<tr><td>PAL0708</td><td> 48</td><td>Adelie Penguin   </td><td>Pygoscelis adeliae)   </td><td>Dream    </td><td>N29A2</td><td>Yes</td><td>2007-11-13</td><td>37.5</td><td>18.9</td><td>179</td><td>2975</td><td>NA    </td><td>     NA</td><td>       NA</td><td>Sexing primers did not amplify. Not enough blood for isotopes.</td></tr>\n",
              "\t<tr><td>PAL0708</td><td> 31</td><td>Adelie Penguin   </td><td>Pygoscelis adeliae)   </td><td>Dream    </td><td>N21A1</td><td>Yes</td><td>2007-11-09</td><td>39.5</td><td>16.7</td><td>178</td><td>3250</td><td>FEMALE</td><td>9.69756</td><td>-25.11223</td><td>NA                                                            </td></tr>\n",
              "\t<tr><td>PAL0708</td><td> 32</td><td>Adelie Penguin   </td><td>Pygoscelis adeliae)   </td><td>Dream    </td><td>N21A2</td><td>Yes</td><td>2007-11-09</td><td>37.2</td><td>18.1</td><td>178</td><td>3900</td><td>MALE  </td><td>9.72764</td><td>-25.01020</td><td>NA                                                            </td></tr>\n",
              "\t<tr><td>PAL0809</td><td> 99</td><td>Adelie Penguin   </td><td>Pygoscelis adeliae)   </td><td>Dream    </td><td>N50A1</td><td>Yes</td><td>2008-11-10</td><td>33.1</td><td>16.1</td><td>178</td><td>2900</td><td>FEMALE</td><td>9.04218</td><td>-26.15775</td><td>NA                                                            </td></tr>\n",
              "\t<tr><td>PAL0708</td><td>  7</td><td>Chinstrap penguin</td><td>Pygoscelis antarctica)</td><td>Dream    </td><td>N66A1</td><td>Yes</td><td>2007-11-28</td><td>46.1</td><td>18.2</td><td>178</td><td>3250</td><td>FEMALE</td><td>8.85664</td><td>-24.55644</td><td>NA                                                            </td></tr>\n",
              "\t<tr><td>PAL0910</td><td>123</td><td>Adelie Penguin   </td><td>Pygoscelis adeliae)   </td><td>Torgersen</td><td>N67A1</td><td>Yes</td><td>2009-11-16</td><td>40.2</td><td>17.0</td><td>176</td><td>3450</td><td>FEMALE</td><td>9.30722</td><td>-25.61039</td><td>NA                                                            </td></tr>\n",
              "\t<tr><td>PAL0708</td><td> 21</td><td>Adelie Penguin   </td><td>Pygoscelis adeliae)   </td><td>Biscoe   </td><td>N11A1</td><td>Yes</td><td>2007-11-12</td><td>37.8</td><td>18.3</td><td>174</td><td>3400</td><td>FEMALE</td><td>8.73762</td><td>-25.09383</td><td>NA                                                            </td></tr>\n",
              "\t<tr><td>PAL0708</td><td> 29</td><td>Adelie Penguin   </td><td>Pygoscelis adeliae)   </td><td>Biscoe   </td><td>N18A1</td><td>No </td><td>2007-11-10</td><td>37.9</td><td>18.6</td><td>172</td><td>3150</td><td>FEMALE</td><td>8.38404</td><td>-25.19837</td><td>Nest never observed with full clutch.                         </td></tr>\n",
              "\t<tr><td>PAL0708</td><td>  4</td><td>Adelie Penguin   </td><td>Pygoscelis adeliae)   </td><td>Torgersen</td><td>N2A2 </td><td>Yes</td><td>2007-11-16</td><td>  NA</td><td>  NA</td><td> NA</td><td>  NA</td><td>NA    </td><td>     NA</td><td>       NA</td><td>Adult not sampled.                                            </td></tr>\n",
              "\t<tr><td>PAL0910</td><td>120</td><td>Gentoo penguin   </td><td>Pygoscelis papua)     </td><td>Biscoe   </td><td>N38A2</td><td>No </td><td>2009-12-01</td><td>  NA</td><td>  NA</td><td> NA</td><td>  NA</td><td>NA    </td><td>     NA</td><td>       NA</td><td>Adult not sampled. Nest never observed with full clutch.      </td></tr>\n",
              "</tbody>\n",
              "</table>\n"
            ]
          },
          "metadata": {
            "tags": []
          }
        }
      ]
    },
    {
      "cell_type": "markdown",
      "metadata": {
        "id": "f3f21f9c"
      },
      "source": [
        "\n",
        "\n",
        "### `group_by()` and `summarize()`\n",
        "\n",
        "When you want to aggregate your data (by groups)\n",
        "\n",
        "Sometimes we want to calculate **group statistics**.\n",
        "\n",
        "In other languages this is often a pain. \n",
        "\n",
        "With `dplyr` this is fairly easy **and** readable.\n",
        "\n",
        "<img src=\"https://learn.r-journalism.com/wrangling/dplyr/images/groupby.png\" style=\"width: 80%\" />\n",
        "\n",
        "\n",
        "\n"
      ]
    },
    {
      "cell_type": "markdown",
      "metadata": {
        "id": "f34d9209"
      },
      "source": [
        "Let's calculate the average `culmen_length_mm` for each sex.\n",
        "\n",
        "*First* we group `penguins_clean` by `sex`."
      ]
    },
    {
      "cell_type": "code",
      "metadata": {
        "id": "168a902e"
      },
      "source": [
        "grouped_by_sex <- group_by(penguins_clean, sex)"
      ],
      "execution_count": null,
      "outputs": []
    },
    {
      "cell_type": "markdown",
      "metadata": {
        "id": "d406a8f4"
      },
      "source": [
        "`summarize` works in a similar way to `mutate`:\n",
        "\n",
        "`variable_name = some_calculation`"
      ]
    },
    {
      "cell_type": "code",
      "metadata": {
        "lines_to_next_cell": 0,
        "id": "1d5d5e5d",
        "colab": {
          "base_uri": "https://localhost:8080/",
          "height": 189
        },
        "outputId": "e8ef8272-f246-4f5a-8cc6-34f79e774cc8"
      },
      "source": [
        "summarise(grouped_by_sex, avg_culmen_length_mm = mean(culmen_length_mm, na.rm = T))"
      ],
      "execution_count": null,
      "outputs": [
        {
          "output_type": "display_data",
          "data": {
            "text/plain": [
              "  sex    avg_culmen_length_mm\n",
              "1 FEMALE 42.09697            \n",
              "2 MALE   45.85476            \n",
              "3 NA     41.30000            "
            ],
            "text/latex": "A tibble: 3 × 2\n\\begin{tabular}{ll}\n sex & avg\\_culmen\\_length\\_mm\\\\\n <chr> & <dbl>\\\\\n\\hline\n\t FEMALE & 42.09697\\\\\n\t MALE   & 45.85476\\\\\n\t NA     & 41.30000\\\\\n\\end{tabular}\n",
            "text/markdown": "\nA tibble: 3 × 2\n\n| sex &lt;chr&gt; | avg_culmen_length_mm &lt;dbl&gt; |\n|---|---|\n| FEMALE | 42.09697 |\n| MALE   | 45.85476 |\n| NA     | 41.30000 |\n\n",
            "text/html": [
              "<table class=\"dataframe\">\n",
              "<caption>A tibble: 3 × 2</caption>\n",
              "<thead>\n",
              "\t<tr><th scope=col>sex</th><th scope=col>avg_culmen_length_mm</th></tr>\n",
              "\t<tr><th scope=col>&lt;chr&gt;</th><th scope=col>&lt;dbl&gt;</th></tr>\n",
              "</thead>\n",
              "<tbody>\n",
              "\t<tr><td>FEMALE</td><td>42.09697</td></tr>\n",
              "\t<tr><td>MALE  </td><td>45.85476</td></tr>\n",
              "\t<tr><td>NA    </td><td>41.30000</td></tr>\n",
              "</tbody>\n",
              "</table>\n"
            ]
          },
          "metadata": {
            "tags": []
          }
        }
      ]
    },
    {
      "cell_type": "markdown",
      "metadata": {
        "id": "WnLu2_3bcxVP"
      },
      "source": [
        "### `count()`\n",
        "\n",
        "Now this is a function that I use all the time.\n",
        "\n",
        "This function helps you count how often a certain value occur(s) within variables(s).\n",
        "\n",
        "Simply specify which variable you want to count. \n",
        "\n",
        "Let's count how often the species occur.\n"
      ]
    },
    {
      "cell_type": "code",
      "metadata": {
        "colab": {
          "base_uri": "https://localhost:8080/",
          "height": 189
        },
        "id": "poGXtqn1c_g6",
        "outputId": "9c5983d2-a0ec-48a6-a158-91c624a251a9"
      },
      "source": [
        "count(penguins_clean, species, sort = T)"
      ],
      "execution_count": null,
      "outputs": [
        {
          "output_type": "display_data",
          "data": {
            "text/plain": [
              "  species           n  \n",
              "1 Adelie Penguin    152\n",
              "2 Gentoo penguin    124\n",
              "3 Chinstrap penguin  68"
            ],
            "text/latex": "A tibble: 3 × 2\n\\begin{tabular}{ll}\n species & n\\\\\n <chr> & <int>\\\\\n\\hline\n\t Adelie Penguin    & 152\\\\\n\t Gentoo penguin    & 124\\\\\n\t Chinstrap penguin &  68\\\\\n\\end{tabular}\n",
            "text/markdown": "\nA tibble: 3 × 2\n\n| species &lt;chr&gt; | n &lt;int&gt; |\n|---|---|\n| Adelie Penguin    | 152 |\n| Gentoo penguin    | 124 |\n| Chinstrap penguin |  68 |\n\n",
            "text/html": [
              "<table class=\"dataframe\">\n",
              "<caption>A tibble: 3 × 2</caption>\n",
              "<thead>\n",
              "\t<tr><th scope=col>species</th><th scope=col>n</th></tr>\n",
              "\t<tr><th scope=col>&lt;chr&gt;</th><th scope=col>&lt;int&gt;</th></tr>\n",
              "</thead>\n",
              "<tbody>\n",
              "\t<tr><td>Adelie Penguin   </td><td>152</td></tr>\n",
              "\t<tr><td>Gentoo penguin   </td><td>124</td></tr>\n",
              "\t<tr><td>Chinstrap penguin</td><td> 68</td></tr>\n",
              "</tbody>\n",
              "</table>\n"
            ]
          },
          "metadata": {
            "tags": []
          }
        }
      ]
    },
    {
      "cell_type": "markdown",
      "metadata": {
        "id": "yRQgtI0hdAI5"
      },
      "source": [
        "The `sort = T` tells the function to sort by the highest occuring frequency."
      ]
    },
    {
      "cell_type": "markdown",
      "metadata": {
        "id": "c0ef238b"
      },
      "source": [
        "\n",
        "\n",
        "### The `%>%` operator\n",
        "\n",
        "<center>\n",
        "<img src=\"https://rpodcast.github.io/officer-advrmarkdown/img/magrittr.png\" style=\"width: 62%\" />\n",
        "</center>\n",
        "\n"
      ]
    },
    {
      "cell_type": "markdown",
      "metadata": {
        "id": "b2d1ef62"
      },
      "source": [
        "\n",
        "\n",
        "The point of the pipe is to help you write code in a way that is easier to read and understand. \n",
        "\n",
        "Let's consider an example with some data manipulation we have done so far:"
      ]
    },
    {
      "cell_type": "code",
      "metadata": {
        "lines_to_next_cell": 0,
        "id": "b956faa0"
      },
      "source": [
        "## first I select variables\n",
        "pg <- select(penguins_clean, individual_id, island, body_mass_g)\n",
        "\n",
        "## then I filter to only Dream island\n",
        "pg <- filter(pg, island == \"Dream\")\n",
        "\n",
        "## then I convert body_mass_g to kg\n",
        "pg <- mutate(pg, bodymass_kg = body_mass_g/1000)\n",
        "\n",
        "## rename individual id to simply id\n",
        "pg <- rename(pg, id = individual_id)\n"
      ],
      "execution_count": null,
      "outputs": []
    },
    {
      "cell_type": "markdown",
      "metadata": {
        "id": "38b886b9"
      },
      "source": [
        "\n",
        "\n",
        "\n",
        "\n",
        "Now this works but the problem is: we have to write a lot of code that repeats itself!"
      ]
    },
    {
      "cell_type": "code",
      "metadata": {
        "lines_to_next_cell": 0,
        "id": "59e751a2",
        "colab": {
          "base_uri": "https://localhost:8080/",
          "height": 1000
        },
        "outputId": "a40151c8-20dc-49df-8764-a92fc4951936"
      },
      "source": [
        "pg"
      ],
      "execution_count": null,
      "outputs": [
        {
          "output_type": "display_data",
          "data": {
            "text/plain": [
              "    id     island body_mass_g bodymass_kg\n",
              "1   N21A1  Dream  3250        3.250      \n",
              "2   N21A2  Dream  3900        3.900      \n",
              "3   N22A1  Dream  3300        3.300      \n",
              "4   N22A2  Dream  3900        3.900      \n",
              "5   N23A1  Dream  3325        3.325      \n",
              "6   N23A2  Dream  4150        4.150      \n",
              "7   N24A1  Dream  3950        3.950      \n",
              "8   N24A2  Dream  3550        3.550      \n",
              "9   N25A1  Dream  3300        3.300      \n",
              "10  N25A2  Dream  4650        4.650      \n",
              "11  N26A1  Dream  3150        3.150      \n",
              "12  N26A2  Dream  3900        3.900      \n",
              "13  N27A1  Dream  3100        3.100      \n",
              "14  N27A2  Dream  4400        4.400      \n",
              "15  N28A1  Dream  3000        3.000      \n",
              "16  N28A2  Dream  4600        4.600      \n",
              "17  N29A1  Dream  3425        3.425      \n",
              "18  N29A2  Dream  2975        2.975      \n",
              "19  N30A1  Dream  3450        3.450      \n",
              "20  N30A2  Dream  4150        4.150      \n",
              "21  N41A1  Dream  3350        3.350      \n",
              "22  N41A2  Dream  3550        3.550      \n",
              "23  N42A1  Dream  3800        3.800      \n",
              "24  N42A2  Dream  3500        3.500      \n",
              "25  N44A1  Dream  3950        3.950      \n",
              "26  N44A2  Dream  3600        3.600      \n",
              "27  N45A1  Dream  3550        3.550      \n",
              "28  N45A2  Dream  4300        4.300      \n",
              "29  N46A1  Dream  3400        3.400      \n",
              "30  N46A2  Dream  4450        4.450      \n",
              "⋮   ⋮      ⋮      ⋮           ⋮          \n",
              "95  N72A1  Dream  2700        2.700      \n",
              "96  N72A2  Dream  4500        4.500      \n",
              "97  N74A1  Dream  3950        3.950      \n",
              "98  N74A2  Dream  3650        3.650      \n",
              "99  N75A1  Dream  3550        3.550      \n",
              "100 N75A2  Dream  3500        3.500      \n",
              "101 N86A1  Dream  3675        3.675      \n",
              "102 N86A2  Dream  4450        4.450      \n",
              "103 N87A1  Dream  3400        3.400      \n",
              "104 N87A2  Dream  4300        4.300      \n",
              "105 N88A1  Dream  3250        3.250      \n",
              "106 N88A2  Dream  3675        3.675      \n",
              "107 N90A1  Dream  3325        3.325      \n",
              "108 N90A2  Dream  3950        3.950      \n",
              "109 N92A1  Dream  3600        3.600      \n",
              "110 N92A2  Dream  4050        4.050      \n",
              "111 N93A1  Dream  3350        3.350      \n",
              "112 N93A2  Dream  3450        3.450      \n",
              "113 N94A1  Dream  3250        3.250      \n",
              "114 N94A2  Dream  4050        4.050      \n",
              "115 N95A1  Dream  3800        3.800      \n",
              "116 N95A2  Dream  3525        3.525      \n",
              "117 N96A1  Dream  3950        3.950      \n",
              "118 N96A2  Dream  3650        3.650      \n",
              "119 N98A1  Dream  3650        3.650      \n",
              "120 N98A2  Dream  4000        4.000      \n",
              "121 N99A1  Dream  3400        3.400      \n",
              "122 N99A2  Dream  3775        3.775      \n",
              "123 N100A1 Dream  4100        4.100      \n",
              "124 N100A2 Dream  3775        3.775      "
            ],
            "text/latex": "A tibble: 124 × 4\n\\begin{tabular}{llll}\n id & island & body\\_mass\\_g & bodymass\\_kg\\\\\n <chr> & <chr> & <dbl> & <dbl>\\\\\n\\hline\n\t N21A1 & Dream & 3250 & 3.250\\\\\n\t N21A2 & Dream & 3900 & 3.900\\\\\n\t N22A1 & Dream & 3300 & 3.300\\\\\n\t N22A2 & Dream & 3900 & 3.900\\\\\n\t N23A1 & Dream & 3325 & 3.325\\\\\n\t N23A2 & Dream & 4150 & 4.150\\\\\n\t N24A1 & Dream & 3950 & 3.950\\\\\n\t N24A2 & Dream & 3550 & 3.550\\\\\n\t N25A1 & Dream & 3300 & 3.300\\\\\n\t N25A2 & Dream & 4650 & 4.650\\\\\n\t N26A1 & Dream & 3150 & 3.150\\\\\n\t N26A2 & Dream & 3900 & 3.900\\\\\n\t N27A1 & Dream & 3100 & 3.100\\\\\n\t N27A2 & Dream & 4400 & 4.400\\\\\n\t N28A1 & Dream & 3000 & 3.000\\\\\n\t N28A2 & Dream & 4600 & 4.600\\\\\n\t N29A1 & Dream & 3425 & 3.425\\\\\n\t N29A2 & Dream & 2975 & 2.975\\\\\n\t N30A1 & Dream & 3450 & 3.450\\\\\n\t N30A2 & Dream & 4150 & 4.150\\\\\n\t N41A1 & Dream & 3350 & 3.350\\\\\n\t N41A2 & Dream & 3550 & 3.550\\\\\n\t N42A1 & Dream & 3800 & 3.800\\\\\n\t N42A2 & Dream & 3500 & 3.500\\\\\n\t N44A1 & Dream & 3950 & 3.950\\\\\n\t N44A2 & Dream & 3600 & 3.600\\\\\n\t N45A1 & Dream & 3550 & 3.550\\\\\n\t N45A2 & Dream & 4300 & 4.300\\\\\n\t N46A1 & Dream & 3400 & 3.400\\\\\n\t N46A2 & Dream & 4450 & 4.450\\\\\n\t ⋮ & ⋮ & ⋮ & ⋮\\\\\n\t N72A1  & Dream & 2700 & 2.700\\\\\n\t N72A2  & Dream & 4500 & 4.500\\\\\n\t N74A1  & Dream & 3950 & 3.950\\\\\n\t N74A2  & Dream & 3650 & 3.650\\\\\n\t N75A1  & Dream & 3550 & 3.550\\\\\n\t N75A2  & Dream & 3500 & 3.500\\\\\n\t N86A1  & Dream & 3675 & 3.675\\\\\n\t N86A2  & Dream & 4450 & 4.450\\\\\n\t N87A1  & Dream & 3400 & 3.400\\\\\n\t N87A2  & Dream & 4300 & 4.300\\\\\n\t N88A1  & Dream & 3250 & 3.250\\\\\n\t N88A2  & Dream & 3675 & 3.675\\\\\n\t N90A1  & Dream & 3325 & 3.325\\\\\n\t N90A2  & Dream & 3950 & 3.950\\\\\n\t N92A1  & Dream & 3600 & 3.600\\\\\n\t N92A2  & Dream & 4050 & 4.050\\\\\n\t N93A1  & Dream & 3350 & 3.350\\\\\n\t N93A2  & Dream & 3450 & 3.450\\\\\n\t N94A1  & Dream & 3250 & 3.250\\\\\n\t N94A2  & Dream & 4050 & 4.050\\\\\n\t N95A1  & Dream & 3800 & 3.800\\\\\n\t N95A2  & Dream & 3525 & 3.525\\\\\n\t N96A1  & Dream & 3950 & 3.950\\\\\n\t N96A2  & Dream & 3650 & 3.650\\\\\n\t N98A1  & Dream & 3650 & 3.650\\\\\n\t N98A2  & Dream & 4000 & 4.000\\\\\n\t N99A1  & Dream & 3400 & 3.400\\\\\n\t N99A2  & Dream & 3775 & 3.775\\\\\n\t N100A1 & Dream & 4100 & 4.100\\\\\n\t N100A2 & Dream & 3775 & 3.775\\\\\n\\end{tabular}\n",
            "text/markdown": "\nA tibble: 124 × 4\n\n| id &lt;chr&gt; | island &lt;chr&gt; | body_mass_g &lt;dbl&gt; | bodymass_kg &lt;dbl&gt; |\n|---|---|---|---|\n| N21A1 | Dream | 3250 | 3.250 |\n| N21A2 | Dream | 3900 | 3.900 |\n| N22A1 | Dream | 3300 | 3.300 |\n| N22A2 | Dream | 3900 | 3.900 |\n| N23A1 | Dream | 3325 | 3.325 |\n| N23A2 | Dream | 4150 | 4.150 |\n| N24A1 | Dream | 3950 | 3.950 |\n| N24A2 | Dream | 3550 | 3.550 |\n| N25A1 | Dream | 3300 | 3.300 |\n| N25A2 | Dream | 4650 | 4.650 |\n| N26A1 | Dream | 3150 | 3.150 |\n| N26A2 | Dream | 3900 | 3.900 |\n| N27A1 | Dream | 3100 | 3.100 |\n| N27A2 | Dream | 4400 | 4.400 |\n| N28A1 | Dream | 3000 | 3.000 |\n| N28A2 | Dream | 4600 | 4.600 |\n| N29A1 | Dream | 3425 | 3.425 |\n| N29A2 | Dream | 2975 | 2.975 |\n| N30A1 | Dream | 3450 | 3.450 |\n| N30A2 | Dream | 4150 | 4.150 |\n| N41A1 | Dream | 3350 | 3.350 |\n| N41A2 | Dream | 3550 | 3.550 |\n| N42A1 | Dream | 3800 | 3.800 |\n| N42A2 | Dream | 3500 | 3.500 |\n| N44A1 | Dream | 3950 | 3.950 |\n| N44A2 | Dream | 3600 | 3.600 |\n| N45A1 | Dream | 3550 | 3.550 |\n| N45A2 | Dream | 4300 | 4.300 |\n| N46A1 | Dream | 3400 | 3.400 |\n| N46A2 | Dream | 4450 | 4.450 |\n| ⋮ | ⋮ | ⋮ | ⋮ |\n| N72A1  | Dream | 2700 | 2.700 |\n| N72A2  | Dream | 4500 | 4.500 |\n| N74A1  | Dream | 3950 | 3.950 |\n| N74A2  | Dream | 3650 | 3.650 |\n| N75A1  | Dream | 3550 | 3.550 |\n| N75A2  | Dream | 3500 | 3.500 |\n| N86A1  | Dream | 3675 | 3.675 |\n| N86A2  | Dream | 4450 | 4.450 |\n| N87A1  | Dream | 3400 | 3.400 |\n| N87A2  | Dream | 4300 | 4.300 |\n| N88A1  | Dream | 3250 | 3.250 |\n| N88A2  | Dream | 3675 | 3.675 |\n| N90A1  | Dream | 3325 | 3.325 |\n| N90A2  | Dream | 3950 | 3.950 |\n| N92A1  | Dream | 3600 | 3.600 |\n| N92A2  | Dream | 4050 | 4.050 |\n| N93A1  | Dream | 3350 | 3.350 |\n| N93A2  | Dream | 3450 | 3.450 |\n| N94A1  | Dream | 3250 | 3.250 |\n| N94A2  | Dream | 4050 | 4.050 |\n| N95A1  | Dream | 3800 | 3.800 |\n| N95A2  | Dream | 3525 | 3.525 |\n| N96A1  | Dream | 3950 | 3.950 |\n| N96A2  | Dream | 3650 | 3.650 |\n| N98A1  | Dream | 3650 | 3.650 |\n| N98A2  | Dream | 4000 | 4.000 |\n| N99A1  | Dream | 3400 | 3.400 |\n| N99A2  | Dream | 3775 | 3.775 |\n| N100A1 | Dream | 4100 | 4.100 |\n| N100A2 | Dream | 3775 | 3.775 |\n\n",
            "text/html": [
              "<table class=\"dataframe\">\n",
              "<caption>A tibble: 124 × 4</caption>\n",
              "<thead>\n",
              "\t<tr><th scope=col>id</th><th scope=col>island</th><th scope=col>body_mass_g</th><th scope=col>bodymass_kg</th></tr>\n",
              "\t<tr><th scope=col>&lt;chr&gt;</th><th scope=col>&lt;chr&gt;</th><th scope=col>&lt;dbl&gt;</th><th scope=col>&lt;dbl&gt;</th></tr>\n",
              "</thead>\n",
              "<tbody>\n",
              "\t<tr><td>N21A1</td><td>Dream</td><td>3250</td><td>3.250</td></tr>\n",
              "\t<tr><td>N21A2</td><td>Dream</td><td>3900</td><td>3.900</td></tr>\n",
              "\t<tr><td>N22A1</td><td>Dream</td><td>3300</td><td>3.300</td></tr>\n",
              "\t<tr><td>N22A2</td><td>Dream</td><td>3900</td><td>3.900</td></tr>\n",
              "\t<tr><td>N23A1</td><td>Dream</td><td>3325</td><td>3.325</td></tr>\n",
              "\t<tr><td>N23A2</td><td>Dream</td><td>4150</td><td>4.150</td></tr>\n",
              "\t<tr><td>N24A1</td><td>Dream</td><td>3950</td><td>3.950</td></tr>\n",
              "\t<tr><td>N24A2</td><td>Dream</td><td>3550</td><td>3.550</td></tr>\n",
              "\t<tr><td>N25A1</td><td>Dream</td><td>3300</td><td>3.300</td></tr>\n",
              "\t<tr><td>N25A2</td><td>Dream</td><td>4650</td><td>4.650</td></tr>\n",
              "\t<tr><td>N26A1</td><td>Dream</td><td>3150</td><td>3.150</td></tr>\n",
              "\t<tr><td>N26A2</td><td>Dream</td><td>3900</td><td>3.900</td></tr>\n",
              "\t<tr><td>N27A1</td><td>Dream</td><td>3100</td><td>3.100</td></tr>\n",
              "\t<tr><td>N27A2</td><td>Dream</td><td>4400</td><td>4.400</td></tr>\n",
              "\t<tr><td>N28A1</td><td>Dream</td><td>3000</td><td>3.000</td></tr>\n",
              "\t<tr><td>N28A2</td><td>Dream</td><td>4600</td><td>4.600</td></tr>\n",
              "\t<tr><td>N29A1</td><td>Dream</td><td>3425</td><td>3.425</td></tr>\n",
              "\t<tr><td>N29A2</td><td>Dream</td><td>2975</td><td>2.975</td></tr>\n",
              "\t<tr><td>N30A1</td><td>Dream</td><td>3450</td><td>3.450</td></tr>\n",
              "\t<tr><td>N30A2</td><td>Dream</td><td>4150</td><td>4.150</td></tr>\n",
              "\t<tr><td>N41A1</td><td>Dream</td><td>3350</td><td>3.350</td></tr>\n",
              "\t<tr><td>N41A2</td><td>Dream</td><td>3550</td><td>3.550</td></tr>\n",
              "\t<tr><td>N42A1</td><td>Dream</td><td>3800</td><td>3.800</td></tr>\n",
              "\t<tr><td>N42A2</td><td>Dream</td><td>3500</td><td>3.500</td></tr>\n",
              "\t<tr><td>N44A1</td><td>Dream</td><td>3950</td><td>3.950</td></tr>\n",
              "\t<tr><td>N44A2</td><td>Dream</td><td>3600</td><td>3.600</td></tr>\n",
              "\t<tr><td>N45A1</td><td>Dream</td><td>3550</td><td>3.550</td></tr>\n",
              "\t<tr><td>N45A2</td><td>Dream</td><td>4300</td><td>4.300</td></tr>\n",
              "\t<tr><td>N46A1</td><td>Dream</td><td>3400</td><td>3.400</td></tr>\n",
              "\t<tr><td>N46A2</td><td>Dream</td><td>4450</td><td>4.450</td></tr>\n",
              "\t<tr><td>⋮</td><td>⋮</td><td>⋮</td><td>⋮</td></tr>\n",
              "\t<tr><td>N72A1 </td><td>Dream</td><td>2700</td><td>2.700</td></tr>\n",
              "\t<tr><td>N72A2 </td><td>Dream</td><td>4500</td><td>4.500</td></tr>\n",
              "\t<tr><td>N74A1 </td><td>Dream</td><td>3950</td><td>3.950</td></tr>\n",
              "\t<tr><td>N74A2 </td><td>Dream</td><td>3650</td><td>3.650</td></tr>\n",
              "\t<tr><td>N75A1 </td><td>Dream</td><td>3550</td><td>3.550</td></tr>\n",
              "\t<tr><td>N75A2 </td><td>Dream</td><td>3500</td><td>3.500</td></tr>\n",
              "\t<tr><td>N86A1 </td><td>Dream</td><td>3675</td><td>3.675</td></tr>\n",
              "\t<tr><td>N86A2 </td><td>Dream</td><td>4450</td><td>4.450</td></tr>\n",
              "\t<tr><td>N87A1 </td><td>Dream</td><td>3400</td><td>3.400</td></tr>\n",
              "\t<tr><td>N87A2 </td><td>Dream</td><td>4300</td><td>4.300</td></tr>\n",
              "\t<tr><td>N88A1 </td><td>Dream</td><td>3250</td><td>3.250</td></tr>\n",
              "\t<tr><td>N88A2 </td><td>Dream</td><td>3675</td><td>3.675</td></tr>\n",
              "\t<tr><td>N90A1 </td><td>Dream</td><td>3325</td><td>3.325</td></tr>\n",
              "\t<tr><td>N90A2 </td><td>Dream</td><td>3950</td><td>3.950</td></tr>\n",
              "\t<tr><td>N92A1 </td><td>Dream</td><td>3600</td><td>3.600</td></tr>\n",
              "\t<tr><td>N92A2 </td><td>Dream</td><td>4050</td><td>4.050</td></tr>\n",
              "\t<tr><td>N93A1 </td><td>Dream</td><td>3350</td><td>3.350</td></tr>\n",
              "\t<tr><td>N93A2 </td><td>Dream</td><td>3450</td><td>3.450</td></tr>\n",
              "\t<tr><td>N94A1 </td><td>Dream</td><td>3250</td><td>3.250</td></tr>\n",
              "\t<tr><td>N94A2 </td><td>Dream</td><td>4050</td><td>4.050</td></tr>\n",
              "\t<tr><td>N95A1 </td><td>Dream</td><td>3800</td><td>3.800</td></tr>\n",
              "\t<tr><td>N95A2 </td><td>Dream</td><td>3525</td><td>3.525</td></tr>\n",
              "\t<tr><td>N96A1 </td><td>Dream</td><td>3950</td><td>3.950</td></tr>\n",
              "\t<tr><td>N96A2 </td><td>Dream</td><td>3650</td><td>3.650</td></tr>\n",
              "\t<tr><td>N98A1 </td><td>Dream</td><td>3650</td><td>3.650</td></tr>\n",
              "\t<tr><td>N98A2 </td><td>Dream</td><td>4000</td><td>4.000</td></tr>\n",
              "\t<tr><td>N99A1 </td><td>Dream</td><td>3400</td><td>3.400</td></tr>\n",
              "\t<tr><td>N99A2 </td><td>Dream</td><td>3775</td><td>3.775</td></tr>\n",
              "\t<tr><td>N100A1</td><td>Dream</td><td>4100</td><td>4.100</td></tr>\n",
              "\t<tr><td>N100A2</td><td>Dream</td><td>3775</td><td>3.775</td></tr>\n",
              "</tbody>\n",
              "</table>\n"
            ]
          },
          "metadata": {
            "tags": []
          }
        }
      ]
    },
    {
      "cell_type": "markdown",
      "metadata": {
        "id": "13971caf"
      },
      "source": [
        "\n",
        "\n",
        "Another alternative is to *nest all the functions*:"
      ]
    },
    {
      "cell_type": "code",
      "metadata": {
        "lines_to_next_cell": 0,
        "id": "f57c9e8f",
        "colab": {
          "base_uri": "https://localhost:8080/",
          "height": 1000
        },
        "outputId": "34e3aafd-ce9d-4e50-fa80-bc1c6b072da5"
      },
      "source": [
        "rename(mutate(filter(select(penguins_clean, individual_id, island, body_mass_g), island == \"Dream\"), bodymass_kg = body_mass_g/1000), id = individual_id)\n"
      ],
      "execution_count": null,
      "outputs": [
        {
          "output_type": "display_data",
          "data": {
            "text/plain": [
              "    id     island body_mass_g bodymass_kg\n",
              "1   N21A1  Dream  3250        3.250      \n",
              "2   N21A2  Dream  3900        3.900      \n",
              "3   N22A1  Dream  3300        3.300      \n",
              "4   N22A2  Dream  3900        3.900      \n",
              "5   N23A1  Dream  3325        3.325      \n",
              "6   N23A2  Dream  4150        4.150      \n",
              "7   N24A1  Dream  3950        3.950      \n",
              "8   N24A2  Dream  3550        3.550      \n",
              "9   N25A1  Dream  3300        3.300      \n",
              "10  N25A2  Dream  4650        4.650      \n",
              "11  N26A1  Dream  3150        3.150      \n",
              "12  N26A2  Dream  3900        3.900      \n",
              "13  N27A1  Dream  3100        3.100      \n",
              "14  N27A2  Dream  4400        4.400      \n",
              "15  N28A1  Dream  3000        3.000      \n",
              "16  N28A2  Dream  4600        4.600      \n",
              "17  N29A1  Dream  3425        3.425      \n",
              "18  N29A2  Dream  2975        2.975      \n",
              "19  N30A1  Dream  3450        3.450      \n",
              "20  N30A2  Dream  4150        4.150      \n",
              "21  N41A1  Dream  3350        3.350      \n",
              "22  N41A2  Dream  3550        3.550      \n",
              "23  N42A1  Dream  3800        3.800      \n",
              "24  N42A2  Dream  3500        3.500      \n",
              "25  N44A1  Dream  3950        3.950      \n",
              "26  N44A2  Dream  3600        3.600      \n",
              "27  N45A1  Dream  3550        3.550      \n",
              "28  N45A2  Dream  4300        4.300      \n",
              "29  N46A1  Dream  3400        3.400      \n",
              "30  N46A2  Dream  4450        4.450      \n",
              "⋮   ⋮      ⋮      ⋮           ⋮          \n",
              "95  N72A1  Dream  2700        2.700      \n",
              "96  N72A2  Dream  4500        4.500      \n",
              "97  N74A1  Dream  3950        3.950      \n",
              "98  N74A2  Dream  3650        3.650      \n",
              "99  N75A1  Dream  3550        3.550      \n",
              "100 N75A2  Dream  3500        3.500      \n",
              "101 N86A1  Dream  3675        3.675      \n",
              "102 N86A2  Dream  4450        4.450      \n",
              "103 N87A1  Dream  3400        3.400      \n",
              "104 N87A2  Dream  4300        4.300      \n",
              "105 N88A1  Dream  3250        3.250      \n",
              "106 N88A2  Dream  3675        3.675      \n",
              "107 N90A1  Dream  3325        3.325      \n",
              "108 N90A2  Dream  3950        3.950      \n",
              "109 N92A1  Dream  3600        3.600      \n",
              "110 N92A2  Dream  4050        4.050      \n",
              "111 N93A1  Dream  3350        3.350      \n",
              "112 N93A2  Dream  3450        3.450      \n",
              "113 N94A1  Dream  3250        3.250      \n",
              "114 N94A2  Dream  4050        4.050      \n",
              "115 N95A1  Dream  3800        3.800      \n",
              "116 N95A2  Dream  3525        3.525      \n",
              "117 N96A1  Dream  3950        3.950      \n",
              "118 N96A2  Dream  3650        3.650      \n",
              "119 N98A1  Dream  3650        3.650      \n",
              "120 N98A2  Dream  4000        4.000      \n",
              "121 N99A1  Dream  3400        3.400      \n",
              "122 N99A2  Dream  3775        3.775      \n",
              "123 N100A1 Dream  4100        4.100      \n",
              "124 N100A2 Dream  3775        3.775      "
            ],
            "text/latex": "A tibble: 124 × 4\n\\begin{tabular}{llll}\n id & island & body\\_mass\\_g & bodymass\\_kg\\\\\n <chr> & <chr> & <dbl> & <dbl>\\\\\n\\hline\n\t N21A1 & Dream & 3250 & 3.250\\\\\n\t N21A2 & Dream & 3900 & 3.900\\\\\n\t N22A1 & Dream & 3300 & 3.300\\\\\n\t N22A2 & Dream & 3900 & 3.900\\\\\n\t N23A1 & Dream & 3325 & 3.325\\\\\n\t N23A2 & Dream & 4150 & 4.150\\\\\n\t N24A1 & Dream & 3950 & 3.950\\\\\n\t N24A2 & Dream & 3550 & 3.550\\\\\n\t N25A1 & Dream & 3300 & 3.300\\\\\n\t N25A2 & Dream & 4650 & 4.650\\\\\n\t N26A1 & Dream & 3150 & 3.150\\\\\n\t N26A2 & Dream & 3900 & 3.900\\\\\n\t N27A1 & Dream & 3100 & 3.100\\\\\n\t N27A2 & Dream & 4400 & 4.400\\\\\n\t N28A1 & Dream & 3000 & 3.000\\\\\n\t N28A2 & Dream & 4600 & 4.600\\\\\n\t N29A1 & Dream & 3425 & 3.425\\\\\n\t N29A2 & Dream & 2975 & 2.975\\\\\n\t N30A1 & Dream & 3450 & 3.450\\\\\n\t N30A2 & Dream & 4150 & 4.150\\\\\n\t N41A1 & Dream & 3350 & 3.350\\\\\n\t N41A2 & Dream & 3550 & 3.550\\\\\n\t N42A1 & Dream & 3800 & 3.800\\\\\n\t N42A2 & Dream & 3500 & 3.500\\\\\n\t N44A1 & Dream & 3950 & 3.950\\\\\n\t N44A2 & Dream & 3600 & 3.600\\\\\n\t N45A1 & Dream & 3550 & 3.550\\\\\n\t N45A2 & Dream & 4300 & 4.300\\\\\n\t N46A1 & Dream & 3400 & 3.400\\\\\n\t N46A2 & Dream & 4450 & 4.450\\\\\n\t ⋮ & ⋮ & ⋮ & ⋮\\\\\n\t N72A1  & Dream & 2700 & 2.700\\\\\n\t N72A2  & Dream & 4500 & 4.500\\\\\n\t N74A1  & Dream & 3950 & 3.950\\\\\n\t N74A2  & Dream & 3650 & 3.650\\\\\n\t N75A1  & Dream & 3550 & 3.550\\\\\n\t N75A2  & Dream & 3500 & 3.500\\\\\n\t N86A1  & Dream & 3675 & 3.675\\\\\n\t N86A2  & Dream & 4450 & 4.450\\\\\n\t N87A1  & Dream & 3400 & 3.400\\\\\n\t N87A2  & Dream & 4300 & 4.300\\\\\n\t N88A1  & Dream & 3250 & 3.250\\\\\n\t N88A2  & Dream & 3675 & 3.675\\\\\n\t N90A1  & Dream & 3325 & 3.325\\\\\n\t N90A2  & Dream & 3950 & 3.950\\\\\n\t N92A1  & Dream & 3600 & 3.600\\\\\n\t N92A2  & Dream & 4050 & 4.050\\\\\n\t N93A1  & Dream & 3350 & 3.350\\\\\n\t N93A2  & Dream & 3450 & 3.450\\\\\n\t N94A1  & Dream & 3250 & 3.250\\\\\n\t N94A2  & Dream & 4050 & 4.050\\\\\n\t N95A1  & Dream & 3800 & 3.800\\\\\n\t N95A2  & Dream & 3525 & 3.525\\\\\n\t N96A1  & Dream & 3950 & 3.950\\\\\n\t N96A2  & Dream & 3650 & 3.650\\\\\n\t N98A1  & Dream & 3650 & 3.650\\\\\n\t N98A2  & Dream & 4000 & 4.000\\\\\n\t N99A1  & Dream & 3400 & 3.400\\\\\n\t N99A2  & Dream & 3775 & 3.775\\\\\n\t N100A1 & Dream & 4100 & 4.100\\\\\n\t N100A2 & Dream & 3775 & 3.775\\\\\n\\end{tabular}\n",
            "text/markdown": "\nA tibble: 124 × 4\n\n| id &lt;chr&gt; | island &lt;chr&gt; | body_mass_g &lt;dbl&gt; | bodymass_kg &lt;dbl&gt; |\n|---|---|---|---|\n| N21A1 | Dream | 3250 | 3.250 |\n| N21A2 | Dream | 3900 | 3.900 |\n| N22A1 | Dream | 3300 | 3.300 |\n| N22A2 | Dream | 3900 | 3.900 |\n| N23A1 | Dream | 3325 | 3.325 |\n| N23A2 | Dream | 4150 | 4.150 |\n| N24A1 | Dream | 3950 | 3.950 |\n| N24A2 | Dream | 3550 | 3.550 |\n| N25A1 | Dream | 3300 | 3.300 |\n| N25A2 | Dream | 4650 | 4.650 |\n| N26A1 | Dream | 3150 | 3.150 |\n| N26A2 | Dream | 3900 | 3.900 |\n| N27A1 | Dream | 3100 | 3.100 |\n| N27A2 | Dream | 4400 | 4.400 |\n| N28A1 | Dream | 3000 | 3.000 |\n| N28A2 | Dream | 4600 | 4.600 |\n| N29A1 | Dream | 3425 | 3.425 |\n| N29A2 | Dream | 2975 | 2.975 |\n| N30A1 | Dream | 3450 | 3.450 |\n| N30A2 | Dream | 4150 | 4.150 |\n| N41A1 | Dream | 3350 | 3.350 |\n| N41A2 | Dream | 3550 | 3.550 |\n| N42A1 | Dream | 3800 | 3.800 |\n| N42A2 | Dream | 3500 | 3.500 |\n| N44A1 | Dream | 3950 | 3.950 |\n| N44A2 | Dream | 3600 | 3.600 |\n| N45A1 | Dream | 3550 | 3.550 |\n| N45A2 | Dream | 4300 | 4.300 |\n| N46A1 | Dream | 3400 | 3.400 |\n| N46A2 | Dream | 4450 | 4.450 |\n| ⋮ | ⋮ | ⋮ | ⋮ |\n| N72A1  | Dream | 2700 | 2.700 |\n| N72A2  | Dream | 4500 | 4.500 |\n| N74A1  | Dream | 3950 | 3.950 |\n| N74A2  | Dream | 3650 | 3.650 |\n| N75A1  | Dream | 3550 | 3.550 |\n| N75A2  | Dream | 3500 | 3.500 |\n| N86A1  | Dream | 3675 | 3.675 |\n| N86A2  | Dream | 4450 | 4.450 |\n| N87A1  | Dream | 3400 | 3.400 |\n| N87A2  | Dream | 4300 | 4.300 |\n| N88A1  | Dream | 3250 | 3.250 |\n| N88A2  | Dream | 3675 | 3.675 |\n| N90A1  | Dream | 3325 | 3.325 |\n| N90A2  | Dream | 3950 | 3.950 |\n| N92A1  | Dream | 3600 | 3.600 |\n| N92A2  | Dream | 4050 | 4.050 |\n| N93A1  | Dream | 3350 | 3.350 |\n| N93A2  | Dream | 3450 | 3.450 |\n| N94A1  | Dream | 3250 | 3.250 |\n| N94A2  | Dream | 4050 | 4.050 |\n| N95A1  | Dream | 3800 | 3.800 |\n| N95A2  | Dream | 3525 | 3.525 |\n| N96A1  | Dream | 3950 | 3.950 |\n| N96A2  | Dream | 3650 | 3.650 |\n| N98A1  | Dream | 3650 | 3.650 |\n| N98A2  | Dream | 4000 | 4.000 |\n| N99A1  | Dream | 3400 | 3.400 |\n| N99A2  | Dream | 3775 | 3.775 |\n| N100A1 | Dream | 4100 | 4.100 |\n| N100A2 | Dream | 3775 | 3.775 |\n\n",
            "text/html": [
              "<table class=\"dataframe\">\n",
              "<caption>A tibble: 124 × 4</caption>\n",
              "<thead>\n",
              "\t<tr><th scope=col>id</th><th scope=col>island</th><th scope=col>body_mass_g</th><th scope=col>bodymass_kg</th></tr>\n",
              "\t<tr><th scope=col>&lt;chr&gt;</th><th scope=col>&lt;chr&gt;</th><th scope=col>&lt;dbl&gt;</th><th scope=col>&lt;dbl&gt;</th></tr>\n",
              "</thead>\n",
              "<tbody>\n",
              "\t<tr><td>N21A1</td><td>Dream</td><td>3250</td><td>3.250</td></tr>\n",
              "\t<tr><td>N21A2</td><td>Dream</td><td>3900</td><td>3.900</td></tr>\n",
              "\t<tr><td>N22A1</td><td>Dream</td><td>3300</td><td>3.300</td></tr>\n",
              "\t<tr><td>N22A2</td><td>Dream</td><td>3900</td><td>3.900</td></tr>\n",
              "\t<tr><td>N23A1</td><td>Dream</td><td>3325</td><td>3.325</td></tr>\n",
              "\t<tr><td>N23A2</td><td>Dream</td><td>4150</td><td>4.150</td></tr>\n",
              "\t<tr><td>N24A1</td><td>Dream</td><td>3950</td><td>3.950</td></tr>\n",
              "\t<tr><td>N24A2</td><td>Dream</td><td>3550</td><td>3.550</td></tr>\n",
              "\t<tr><td>N25A1</td><td>Dream</td><td>3300</td><td>3.300</td></tr>\n",
              "\t<tr><td>N25A2</td><td>Dream</td><td>4650</td><td>4.650</td></tr>\n",
              "\t<tr><td>N26A1</td><td>Dream</td><td>3150</td><td>3.150</td></tr>\n",
              "\t<tr><td>N26A2</td><td>Dream</td><td>3900</td><td>3.900</td></tr>\n",
              "\t<tr><td>N27A1</td><td>Dream</td><td>3100</td><td>3.100</td></tr>\n",
              "\t<tr><td>N27A2</td><td>Dream</td><td>4400</td><td>4.400</td></tr>\n",
              "\t<tr><td>N28A1</td><td>Dream</td><td>3000</td><td>3.000</td></tr>\n",
              "\t<tr><td>N28A2</td><td>Dream</td><td>4600</td><td>4.600</td></tr>\n",
              "\t<tr><td>N29A1</td><td>Dream</td><td>3425</td><td>3.425</td></tr>\n",
              "\t<tr><td>N29A2</td><td>Dream</td><td>2975</td><td>2.975</td></tr>\n",
              "\t<tr><td>N30A1</td><td>Dream</td><td>3450</td><td>3.450</td></tr>\n",
              "\t<tr><td>N30A2</td><td>Dream</td><td>4150</td><td>4.150</td></tr>\n",
              "\t<tr><td>N41A1</td><td>Dream</td><td>3350</td><td>3.350</td></tr>\n",
              "\t<tr><td>N41A2</td><td>Dream</td><td>3550</td><td>3.550</td></tr>\n",
              "\t<tr><td>N42A1</td><td>Dream</td><td>3800</td><td>3.800</td></tr>\n",
              "\t<tr><td>N42A2</td><td>Dream</td><td>3500</td><td>3.500</td></tr>\n",
              "\t<tr><td>N44A1</td><td>Dream</td><td>3950</td><td>3.950</td></tr>\n",
              "\t<tr><td>N44A2</td><td>Dream</td><td>3600</td><td>3.600</td></tr>\n",
              "\t<tr><td>N45A1</td><td>Dream</td><td>3550</td><td>3.550</td></tr>\n",
              "\t<tr><td>N45A2</td><td>Dream</td><td>4300</td><td>4.300</td></tr>\n",
              "\t<tr><td>N46A1</td><td>Dream</td><td>3400</td><td>3.400</td></tr>\n",
              "\t<tr><td>N46A2</td><td>Dream</td><td>4450</td><td>4.450</td></tr>\n",
              "\t<tr><td>⋮</td><td>⋮</td><td>⋮</td><td>⋮</td></tr>\n",
              "\t<tr><td>N72A1 </td><td>Dream</td><td>2700</td><td>2.700</td></tr>\n",
              "\t<tr><td>N72A2 </td><td>Dream</td><td>4500</td><td>4.500</td></tr>\n",
              "\t<tr><td>N74A1 </td><td>Dream</td><td>3950</td><td>3.950</td></tr>\n",
              "\t<tr><td>N74A2 </td><td>Dream</td><td>3650</td><td>3.650</td></tr>\n",
              "\t<tr><td>N75A1 </td><td>Dream</td><td>3550</td><td>3.550</td></tr>\n",
              "\t<tr><td>N75A2 </td><td>Dream</td><td>3500</td><td>3.500</td></tr>\n",
              "\t<tr><td>N86A1 </td><td>Dream</td><td>3675</td><td>3.675</td></tr>\n",
              "\t<tr><td>N86A2 </td><td>Dream</td><td>4450</td><td>4.450</td></tr>\n",
              "\t<tr><td>N87A1 </td><td>Dream</td><td>3400</td><td>3.400</td></tr>\n",
              "\t<tr><td>N87A2 </td><td>Dream</td><td>4300</td><td>4.300</td></tr>\n",
              "\t<tr><td>N88A1 </td><td>Dream</td><td>3250</td><td>3.250</td></tr>\n",
              "\t<tr><td>N88A2 </td><td>Dream</td><td>3675</td><td>3.675</td></tr>\n",
              "\t<tr><td>N90A1 </td><td>Dream</td><td>3325</td><td>3.325</td></tr>\n",
              "\t<tr><td>N90A2 </td><td>Dream</td><td>3950</td><td>3.950</td></tr>\n",
              "\t<tr><td>N92A1 </td><td>Dream</td><td>3600</td><td>3.600</td></tr>\n",
              "\t<tr><td>N92A2 </td><td>Dream</td><td>4050</td><td>4.050</td></tr>\n",
              "\t<tr><td>N93A1 </td><td>Dream</td><td>3350</td><td>3.350</td></tr>\n",
              "\t<tr><td>N93A2 </td><td>Dream</td><td>3450</td><td>3.450</td></tr>\n",
              "\t<tr><td>N94A1 </td><td>Dream</td><td>3250</td><td>3.250</td></tr>\n",
              "\t<tr><td>N94A2 </td><td>Dream</td><td>4050</td><td>4.050</td></tr>\n",
              "\t<tr><td>N95A1 </td><td>Dream</td><td>3800</td><td>3.800</td></tr>\n",
              "\t<tr><td>N95A2 </td><td>Dream</td><td>3525</td><td>3.525</td></tr>\n",
              "\t<tr><td>N96A1 </td><td>Dream</td><td>3950</td><td>3.950</td></tr>\n",
              "\t<tr><td>N96A2 </td><td>Dream</td><td>3650</td><td>3.650</td></tr>\n",
              "\t<tr><td>N98A1 </td><td>Dream</td><td>3650</td><td>3.650</td></tr>\n",
              "\t<tr><td>N98A2 </td><td>Dream</td><td>4000</td><td>4.000</td></tr>\n",
              "\t<tr><td>N99A1 </td><td>Dream</td><td>3400</td><td>3.400</td></tr>\n",
              "\t<tr><td>N99A2 </td><td>Dream</td><td>3775</td><td>3.775</td></tr>\n",
              "\t<tr><td>N100A1</td><td>Dream</td><td>4100</td><td>4.100</td></tr>\n",
              "\t<tr><td>N100A2</td><td>Dream</td><td>3775</td><td>3.775</td></tr>\n",
              "</tbody>\n",
              "</table>\n"
            ]
          },
          "metadata": {
            "tags": []
          }
        }
      ]
    },
    {
      "cell_type": "markdown",
      "metadata": {
        "id": "942bcc61"
      },
      "source": [
        "\n",
        "*The piping style*: \n",
        "\n",
        "Read from top to bottom and from left to right and the `%>%` as \"and then\".\n",
        "\n",
        "> Data first, data once"
      ]
    },
    {
      "cell_type": "code",
      "metadata": {
        "lines_to_next_cell": 0,
        "id": "caa8701c",
        "colab": {
          "base_uri": "https://localhost:8080/",
          "height": 1000
        },
        "outputId": "64320547-d6f2-4e8c-c04d-86eaca12f18c"
      },
      "source": [
        "penguins_clean %>% \n",
        "  select(individual_id, island, body_mass_g) %>% \n",
        "  filter(island == \"Dream\") %>% \n",
        "  mutate(bodymass_kg = body_mass_g/1000) %>% \n",
        "  rename(id = individual_id)\n"
      ],
      "execution_count": null,
      "outputs": [
        {
          "output_type": "display_data",
          "data": {
            "text/plain": [
              "    id     island body_mass_g bodymass_kg\n",
              "1   N21A1  Dream  3250        3.250      \n",
              "2   N21A2  Dream  3900        3.900      \n",
              "3   N22A1  Dream  3300        3.300      \n",
              "4   N22A2  Dream  3900        3.900      \n",
              "5   N23A1  Dream  3325        3.325      \n",
              "6   N23A2  Dream  4150        4.150      \n",
              "7   N24A1  Dream  3950        3.950      \n",
              "8   N24A2  Dream  3550        3.550      \n",
              "9   N25A1  Dream  3300        3.300      \n",
              "10  N25A2  Dream  4650        4.650      \n",
              "11  N26A1  Dream  3150        3.150      \n",
              "12  N26A2  Dream  3900        3.900      \n",
              "13  N27A1  Dream  3100        3.100      \n",
              "14  N27A2  Dream  4400        4.400      \n",
              "15  N28A1  Dream  3000        3.000      \n",
              "16  N28A2  Dream  4600        4.600      \n",
              "17  N29A1  Dream  3425        3.425      \n",
              "18  N29A2  Dream  2975        2.975      \n",
              "19  N30A1  Dream  3450        3.450      \n",
              "20  N30A2  Dream  4150        4.150      \n",
              "21  N41A1  Dream  3350        3.350      \n",
              "22  N41A2  Dream  3550        3.550      \n",
              "23  N42A1  Dream  3800        3.800      \n",
              "24  N42A2  Dream  3500        3.500      \n",
              "25  N44A1  Dream  3950        3.950      \n",
              "26  N44A2  Dream  3600        3.600      \n",
              "27  N45A1  Dream  3550        3.550      \n",
              "28  N45A2  Dream  4300        4.300      \n",
              "29  N46A1  Dream  3400        3.400      \n",
              "30  N46A2  Dream  4450        4.450      \n",
              "⋮   ⋮      ⋮      ⋮           ⋮          \n",
              "95  N72A1  Dream  2700        2.700      \n",
              "96  N72A2  Dream  4500        4.500      \n",
              "97  N74A1  Dream  3950        3.950      \n",
              "98  N74A2  Dream  3650        3.650      \n",
              "99  N75A1  Dream  3550        3.550      \n",
              "100 N75A2  Dream  3500        3.500      \n",
              "101 N86A1  Dream  3675        3.675      \n",
              "102 N86A2  Dream  4450        4.450      \n",
              "103 N87A1  Dream  3400        3.400      \n",
              "104 N87A2  Dream  4300        4.300      \n",
              "105 N88A1  Dream  3250        3.250      \n",
              "106 N88A2  Dream  3675        3.675      \n",
              "107 N90A1  Dream  3325        3.325      \n",
              "108 N90A2  Dream  3950        3.950      \n",
              "109 N92A1  Dream  3600        3.600      \n",
              "110 N92A2  Dream  4050        4.050      \n",
              "111 N93A1  Dream  3350        3.350      \n",
              "112 N93A2  Dream  3450        3.450      \n",
              "113 N94A1  Dream  3250        3.250      \n",
              "114 N94A2  Dream  4050        4.050      \n",
              "115 N95A1  Dream  3800        3.800      \n",
              "116 N95A2  Dream  3525        3.525      \n",
              "117 N96A1  Dream  3950        3.950      \n",
              "118 N96A2  Dream  3650        3.650      \n",
              "119 N98A1  Dream  3650        3.650      \n",
              "120 N98A2  Dream  4000        4.000      \n",
              "121 N99A1  Dream  3400        3.400      \n",
              "122 N99A2  Dream  3775        3.775      \n",
              "123 N100A1 Dream  4100        4.100      \n",
              "124 N100A2 Dream  3775        3.775      "
            ],
            "text/latex": "A tibble: 124 × 4\n\\begin{tabular}{llll}\n id & island & body\\_mass\\_g & bodymass\\_kg\\\\\n <chr> & <chr> & <dbl> & <dbl>\\\\\n\\hline\n\t N21A1 & Dream & 3250 & 3.250\\\\\n\t N21A2 & Dream & 3900 & 3.900\\\\\n\t N22A1 & Dream & 3300 & 3.300\\\\\n\t N22A2 & Dream & 3900 & 3.900\\\\\n\t N23A1 & Dream & 3325 & 3.325\\\\\n\t N23A2 & Dream & 4150 & 4.150\\\\\n\t N24A1 & Dream & 3950 & 3.950\\\\\n\t N24A2 & Dream & 3550 & 3.550\\\\\n\t N25A1 & Dream & 3300 & 3.300\\\\\n\t N25A2 & Dream & 4650 & 4.650\\\\\n\t N26A1 & Dream & 3150 & 3.150\\\\\n\t N26A2 & Dream & 3900 & 3.900\\\\\n\t N27A1 & Dream & 3100 & 3.100\\\\\n\t N27A2 & Dream & 4400 & 4.400\\\\\n\t N28A1 & Dream & 3000 & 3.000\\\\\n\t N28A2 & Dream & 4600 & 4.600\\\\\n\t N29A1 & Dream & 3425 & 3.425\\\\\n\t N29A2 & Dream & 2975 & 2.975\\\\\n\t N30A1 & Dream & 3450 & 3.450\\\\\n\t N30A2 & Dream & 4150 & 4.150\\\\\n\t N41A1 & Dream & 3350 & 3.350\\\\\n\t N41A2 & Dream & 3550 & 3.550\\\\\n\t N42A1 & Dream & 3800 & 3.800\\\\\n\t N42A2 & Dream & 3500 & 3.500\\\\\n\t N44A1 & Dream & 3950 & 3.950\\\\\n\t N44A2 & Dream & 3600 & 3.600\\\\\n\t N45A1 & Dream & 3550 & 3.550\\\\\n\t N45A2 & Dream & 4300 & 4.300\\\\\n\t N46A1 & Dream & 3400 & 3.400\\\\\n\t N46A2 & Dream & 4450 & 4.450\\\\\n\t ⋮ & ⋮ & ⋮ & ⋮\\\\\n\t N72A1  & Dream & 2700 & 2.700\\\\\n\t N72A2  & Dream & 4500 & 4.500\\\\\n\t N74A1  & Dream & 3950 & 3.950\\\\\n\t N74A2  & Dream & 3650 & 3.650\\\\\n\t N75A1  & Dream & 3550 & 3.550\\\\\n\t N75A2  & Dream & 3500 & 3.500\\\\\n\t N86A1  & Dream & 3675 & 3.675\\\\\n\t N86A2  & Dream & 4450 & 4.450\\\\\n\t N87A1  & Dream & 3400 & 3.400\\\\\n\t N87A2  & Dream & 4300 & 4.300\\\\\n\t N88A1  & Dream & 3250 & 3.250\\\\\n\t N88A2  & Dream & 3675 & 3.675\\\\\n\t N90A1  & Dream & 3325 & 3.325\\\\\n\t N90A2  & Dream & 3950 & 3.950\\\\\n\t N92A1  & Dream & 3600 & 3.600\\\\\n\t N92A2  & Dream & 4050 & 4.050\\\\\n\t N93A1  & Dream & 3350 & 3.350\\\\\n\t N93A2  & Dream & 3450 & 3.450\\\\\n\t N94A1  & Dream & 3250 & 3.250\\\\\n\t N94A2  & Dream & 4050 & 4.050\\\\\n\t N95A1  & Dream & 3800 & 3.800\\\\\n\t N95A2  & Dream & 3525 & 3.525\\\\\n\t N96A1  & Dream & 3950 & 3.950\\\\\n\t N96A2  & Dream & 3650 & 3.650\\\\\n\t N98A1  & Dream & 3650 & 3.650\\\\\n\t N98A2  & Dream & 4000 & 4.000\\\\\n\t N99A1  & Dream & 3400 & 3.400\\\\\n\t N99A2  & Dream & 3775 & 3.775\\\\\n\t N100A1 & Dream & 4100 & 4.100\\\\\n\t N100A2 & Dream & 3775 & 3.775\\\\\n\\end{tabular}\n",
            "text/markdown": "\nA tibble: 124 × 4\n\n| id &lt;chr&gt; | island &lt;chr&gt; | body_mass_g &lt;dbl&gt; | bodymass_kg &lt;dbl&gt; |\n|---|---|---|---|\n| N21A1 | Dream | 3250 | 3.250 |\n| N21A2 | Dream | 3900 | 3.900 |\n| N22A1 | Dream | 3300 | 3.300 |\n| N22A2 | Dream | 3900 | 3.900 |\n| N23A1 | Dream | 3325 | 3.325 |\n| N23A2 | Dream | 4150 | 4.150 |\n| N24A1 | Dream | 3950 | 3.950 |\n| N24A2 | Dream | 3550 | 3.550 |\n| N25A1 | Dream | 3300 | 3.300 |\n| N25A2 | Dream | 4650 | 4.650 |\n| N26A1 | Dream | 3150 | 3.150 |\n| N26A2 | Dream | 3900 | 3.900 |\n| N27A1 | Dream | 3100 | 3.100 |\n| N27A2 | Dream | 4400 | 4.400 |\n| N28A1 | Dream | 3000 | 3.000 |\n| N28A2 | Dream | 4600 | 4.600 |\n| N29A1 | Dream | 3425 | 3.425 |\n| N29A2 | Dream | 2975 | 2.975 |\n| N30A1 | Dream | 3450 | 3.450 |\n| N30A2 | Dream | 4150 | 4.150 |\n| N41A1 | Dream | 3350 | 3.350 |\n| N41A2 | Dream | 3550 | 3.550 |\n| N42A1 | Dream | 3800 | 3.800 |\n| N42A2 | Dream | 3500 | 3.500 |\n| N44A1 | Dream | 3950 | 3.950 |\n| N44A2 | Dream | 3600 | 3.600 |\n| N45A1 | Dream | 3550 | 3.550 |\n| N45A2 | Dream | 4300 | 4.300 |\n| N46A1 | Dream | 3400 | 3.400 |\n| N46A2 | Dream | 4450 | 4.450 |\n| ⋮ | ⋮ | ⋮ | ⋮ |\n| N72A1  | Dream | 2700 | 2.700 |\n| N72A2  | Dream | 4500 | 4.500 |\n| N74A1  | Dream | 3950 | 3.950 |\n| N74A2  | Dream | 3650 | 3.650 |\n| N75A1  | Dream | 3550 | 3.550 |\n| N75A2  | Dream | 3500 | 3.500 |\n| N86A1  | Dream | 3675 | 3.675 |\n| N86A2  | Dream | 4450 | 4.450 |\n| N87A1  | Dream | 3400 | 3.400 |\n| N87A2  | Dream | 4300 | 4.300 |\n| N88A1  | Dream | 3250 | 3.250 |\n| N88A2  | Dream | 3675 | 3.675 |\n| N90A1  | Dream | 3325 | 3.325 |\n| N90A2  | Dream | 3950 | 3.950 |\n| N92A1  | Dream | 3600 | 3.600 |\n| N92A2  | Dream | 4050 | 4.050 |\n| N93A1  | Dream | 3350 | 3.350 |\n| N93A2  | Dream | 3450 | 3.450 |\n| N94A1  | Dream | 3250 | 3.250 |\n| N94A2  | Dream | 4050 | 4.050 |\n| N95A1  | Dream | 3800 | 3.800 |\n| N95A2  | Dream | 3525 | 3.525 |\n| N96A1  | Dream | 3950 | 3.950 |\n| N96A2  | Dream | 3650 | 3.650 |\n| N98A1  | Dream | 3650 | 3.650 |\n| N98A2  | Dream | 4000 | 4.000 |\n| N99A1  | Dream | 3400 | 3.400 |\n| N99A2  | Dream | 3775 | 3.775 |\n| N100A1 | Dream | 4100 | 4.100 |\n| N100A2 | Dream | 3775 | 3.775 |\n\n",
            "text/html": [
              "<table class=\"dataframe\">\n",
              "<caption>A tibble: 124 × 4</caption>\n",
              "<thead>\n",
              "\t<tr><th scope=col>id</th><th scope=col>island</th><th scope=col>body_mass_g</th><th scope=col>bodymass_kg</th></tr>\n",
              "\t<tr><th scope=col>&lt;chr&gt;</th><th scope=col>&lt;chr&gt;</th><th scope=col>&lt;dbl&gt;</th><th scope=col>&lt;dbl&gt;</th></tr>\n",
              "</thead>\n",
              "<tbody>\n",
              "\t<tr><td>N21A1</td><td>Dream</td><td>3250</td><td>3.250</td></tr>\n",
              "\t<tr><td>N21A2</td><td>Dream</td><td>3900</td><td>3.900</td></tr>\n",
              "\t<tr><td>N22A1</td><td>Dream</td><td>3300</td><td>3.300</td></tr>\n",
              "\t<tr><td>N22A2</td><td>Dream</td><td>3900</td><td>3.900</td></tr>\n",
              "\t<tr><td>N23A1</td><td>Dream</td><td>3325</td><td>3.325</td></tr>\n",
              "\t<tr><td>N23A2</td><td>Dream</td><td>4150</td><td>4.150</td></tr>\n",
              "\t<tr><td>N24A1</td><td>Dream</td><td>3950</td><td>3.950</td></tr>\n",
              "\t<tr><td>N24A2</td><td>Dream</td><td>3550</td><td>3.550</td></tr>\n",
              "\t<tr><td>N25A1</td><td>Dream</td><td>3300</td><td>3.300</td></tr>\n",
              "\t<tr><td>N25A2</td><td>Dream</td><td>4650</td><td>4.650</td></tr>\n",
              "\t<tr><td>N26A1</td><td>Dream</td><td>3150</td><td>3.150</td></tr>\n",
              "\t<tr><td>N26A2</td><td>Dream</td><td>3900</td><td>3.900</td></tr>\n",
              "\t<tr><td>N27A1</td><td>Dream</td><td>3100</td><td>3.100</td></tr>\n",
              "\t<tr><td>N27A2</td><td>Dream</td><td>4400</td><td>4.400</td></tr>\n",
              "\t<tr><td>N28A1</td><td>Dream</td><td>3000</td><td>3.000</td></tr>\n",
              "\t<tr><td>N28A2</td><td>Dream</td><td>4600</td><td>4.600</td></tr>\n",
              "\t<tr><td>N29A1</td><td>Dream</td><td>3425</td><td>3.425</td></tr>\n",
              "\t<tr><td>N29A2</td><td>Dream</td><td>2975</td><td>2.975</td></tr>\n",
              "\t<tr><td>N30A1</td><td>Dream</td><td>3450</td><td>3.450</td></tr>\n",
              "\t<tr><td>N30A2</td><td>Dream</td><td>4150</td><td>4.150</td></tr>\n",
              "\t<tr><td>N41A1</td><td>Dream</td><td>3350</td><td>3.350</td></tr>\n",
              "\t<tr><td>N41A2</td><td>Dream</td><td>3550</td><td>3.550</td></tr>\n",
              "\t<tr><td>N42A1</td><td>Dream</td><td>3800</td><td>3.800</td></tr>\n",
              "\t<tr><td>N42A2</td><td>Dream</td><td>3500</td><td>3.500</td></tr>\n",
              "\t<tr><td>N44A1</td><td>Dream</td><td>3950</td><td>3.950</td></tr>\n",
              "\t<tr><td>N44A2</td><td>Dream</td><td>3600</td><td>3.600</td></tr>\n",
              "\t<tr><td>N45A1</td><td>Dream</td><td>3550</td><td>3.550</td></tr>\n",
              "\t<tr><td>N45A2</td><td>Dream</td><td>4300</td><td>4.300</td></tr>\n",
              "\t<tr><td>N46A1</td><td>Dream</td><td>3400</td><td>3.400</td></tr>\n",
              "\t<tr><td>N46A2</td><td>Dream</td><td>4450</td><td>4.450</td></tr>\n",
              "\t<tr><td>⋮</td><td>⋮</td><td>⋮</td><td>⋮</td></tr>\n",
              "\t<tr><td>N72A1 </td><td>Dream</td><td>2700</td><td>2.700</td></tr>\n",
              "\t<tr><td>N72A2 </td><td>Dream</td><td>4500</td><td>4.500</td></tr>\n",
              "\t<tr><td>N74A1 </td><td>Dream</td><td>3950</td><td>3.950</td></tr>\n",
              "\t<tr><td>N74A2 </td><td>Dream</td><td>3650</td><td>3.650</td></tr>\n",
              "\t<tr><td>N75A1 </td><td>Dream</td><td>3550</td><td>3.550</td></tr>\n",
              "\t<tr><td>N75A2 </td><td>Dream</td><td>3500</td><td>3.500</td></tr>\n",
              "\t<tr><td>N86A1 </td><td>Dream</td><td>3675</td><td>3.675</td></tr>\n",
              "\t<tr><td>N86A2 </td><td>Dream</td><td>4450</td><td>4.450</td></tr>\n",
              "\t<tr><td>N87A1 </td><td>Dream</td><td>3400</td><td>3.400</td></tr>\n",
              "\t<tr><td>N87A2 </td><td>Dream</td><td>4300</td><td>4.300</td></tr>\n",
              "\t<tr><td>N88A1 </td><td>Dream</td><td>3250</td><td>3.250</td></tr>\n",
              "\t<tr><td>N88A2 </td><td>Dream</td><td>3675</td><td>3.675</td></tr>\n",
              "\t<tr><td>N90A1 </td><td>Dream</td><td>3325</td><td>3.325</td></tr>\n",
              "\t<tr><td>N90A2 </td><td>Dream</td><td>3950</td><td>3.950</td></tr>\n",
              "\t<tr><td>N92A1 </td><td>Dream</td><td>3600</td><td>3.600</td></tr>\n",
              "\t<tr><td>N92A2 </td><td>Dream</td><td>4050</td><td>4.050</td></tr>\n",
              "\t<tr><td>N93A1 </td><td>Dream</td><td>3350</td><td>3.350</td></tr>\n",
              "\t<tr><td>N93A2 </td><td>Dream</td><td>3450</td><td>3.450</td></tr>\n",
              "\t<tr><td>N94A1 </td><td>Dream</td><td>3250</td><td>3.250</td></tr>\n",
              "\t<tr><td>N94A2 </td><td>Dream</td><td>4050</td><td>4.050</td></tr>\n",
              "\t<tr><td>N95A1 </td><td>Dream</td><td>3800</td><td>3.800</td></tr>\n",
              "\t<tr><td>N95A2 </td><td>Dream</td><td>3525</td><td>3.525</td></tr>\n",
              "\t<tr><td>N96A1 </td><td>Dream</td><td>3950</td><td>3.950</td></tr>\n",
              "\t<tr><td>N96A2 </td><td>Dream</td><td>3650</td><td>3.650</td></tr>\n",
              "\t<tr><td>N98A1 </td><td>Dream</td><td>3650</td><td>3.650</td></tr>\n",
              "\t<tr><td>N98A2 </td><td>Dream</td><td>4000</td><td>4.000</td></tr>\n",
              "\t<tr><td>N99A1 </td><td>Dream</td><td>3400</td><td>3.400</td></tr>\n",
              "\t<tr><td>N99A2 </td><td>Dream</td><td>3775</td><td>3.775</td></tr>\n",
              "\t<tr><td>N100A1</td><td>Dream</td><td>4100</td><td>4.100</td></tr>\n",
              "\t<tr><td>N100A2</td><td>Dream</td><td>3775</td><td>3.775</td></tr>\n",
              "</tbody>\n",
              "</table>\n"
            ]
          },
          "metadata": {
            "tags": []
          }
        }
      ]
    },
    {
      "cell_type": "markdown",
      "metadata": {
        "id": "4MbpT4rTZT_q"
      },
      "source": [
        "#### `group_by()` again\n",
        "\n",
        "Grouping also become easier using pipes.\n",
        "\n",
        "Let's try again to calculate the average `culmen_length_mm` for each sex but this time with pipes.\n"
      ]
    },
    {
      "cell_type": "code",
      "metadata": {
        "colab": {
          "base_uri": "https://localhost:8080/",
          "height": 189
        },
        "id": "cKxo8jvuZZi0",
        "outputId": "106c6b33-caf7-4c41-95a8-bfa8d302b90d"
      },
      "source": [
        "penguins_clean %>% \n",
        "  group_by(sex) %>% \n",
        "  summarise(avg_culmen_length = mean(culmen_length_mm , na.rm = T))"
      ],
      "execution_count": null,
      "outputs": [
        {
          "output_type": "display_data",
          "data": {
            "text/plain": [
              "  sex    avg_culmen_length\n",
              "1 FEMALE 42.09697         \n",
              "2 MALE   45.85476         \n",
              "3 NA     41.30000         "
            ],
            "text/latex": "A tibble: 3 × 2\n\\begin{tabular}{ll}\n sex & avg\\_culmen\\_length\\\\\n <chr> & <dbl>\\\\\n\\hline\n\t FEMALE & 42.09697\\\\\n\t MALE   & 45.85476\\\\\n\t NA     & 41.30000\\\\\n\\end{tabular}\n",
            "text/markdown": "\nA tibble: 3 × 2\n\n| sex &lt;chr&gt; | avg_culmen_length &lt;dbl&gt; |\n|---|---|\n| FEMALE | 42.09697 |\n| MALE   | 45.85476 |\n| NA     | 41.30000 |\n\n",
            "text/html": [
              "<table class=\"dataframe\">\n",
              "<caption>A tibble: 3 × 2</caption>\n",
              "<thead>\n",
              "\t<tr><th scope=col>sex</th><th scope=col>avg_culmen_length</th></tr>\n",
              "\t<tr><th scope=col>&lt;chr&gt;</th><th scope=col>&lt;dbl&gt;</th></tr>\n",
              "</thead>\n",
              "<tbody>\n",
              "\t<tr><td>FEMALE</td><td>42.09697</td></tr>\n",
              "\t<tr><td>MALE  </td><td>45.85476</td></tr>\n",
              "\t<tr><td>NA    </td><td>41.30000</td></tr>\n",
              "</tbody>\n",
              "</table>\n"
            ]
          },
          "metadata": {
            "tags": []
          }
        }
      ]
    },
    {
      "cell_type": "markdown",
      "metadata": {
        "id": "BVOpZHC3Ij_l"
      },
      "source": [
        "#### Small Note on the Pipe\n",
        "\n",
        "Since R Version 4.1.0 Base R also provides a pipe.\n",
        "\n",
        "It looks like this:\n",
        "\n",
        "$$|>$$\n",
        "\n",
        "While it shares many similarities with the `%>%` there are also some differences.\n",
        "\n",
        "It's beyond the scope of this workshop to go over it here but for the sake of simplicity we will stick with the `magrittr` pipe."
      ]
    },
    {
      "cell_type": "markdown",
      "metadata": {
        "id": "EKjl-4MAnXn_"
      },
      "source": [
        "# Exercises II\n",
        "\n",
        "The following includes a list of exercises that you can complete on your own. \n",
        "\n",
        "We are going to use the `palmerpenguins` dataset for the tasks ahead!\n",
        "\n",
        "\n",
        "\n",
        "![](https://github.com/allisonhorst/palmerpenguins/raw/master/man/figures/lter_penguins.png)\n",
        "\n",
        "![](https://github.com/allisonhorst/palmerpenguins/raw/master/man/figures/culmen_depth.png)"
      ]
    },
    {
      "cell_type": "markdown",
      "metadata": {
        "id": "rGzSMParhLNW"
      },
      "source": [
        "## Functions reference list\n",
        "\n",
        "For reference, here is a list of some useful  functions.\n",
        "\n",
        "If you have trouble with any of these functions, try reading the documentation with `?function_name`\n",
        "\n",
        "Remember: all these functions take the **data** first.\n",
        "\n",
        "* `filter()`\n",
        "\n",
        "  * Subset rows using column values\n",
        "\n",
        "* `mutate()`\n",
        "\n",
        "  * Create and modify delete columns\n",
        "\n",
        "* `rename()`\n",
        "\n",
        "  * Rename columns\n",
        "\n",
        "* `select()`\n",
        "\n",
        "  * Subset columns using their names and types\n",
        "\n",
        "* `summarise()`; `summarize()`\n",
        "\n",
        "  * Summarise each group to fewer rows\n",
        "\n",
        "* `group_by()`; `ungroup()`\n",
        "\n",
        "  * Group by one or more variables\n",
        "\n",
        "* `arrange()`\n",
        "\n",
        "  * Arrange rows by column values\n",
        "\n",
        "* `count()`; `tally()` \n",
        "\n",
        "  * Count observations by group\n",
        "\n",
        "* `distinct()`\n",
        "\n",
        "  * Subset distinct/unique rows\n",
        "\n",
        "* `pull()`\n",
        "\n",
        "  * Extract a single column\n",
        "\n",
        "* `ifelse()`\n",
        "\n",
        "  * useful for coding of binary variables\n",
        "\n",
        "* `case_when()`\n",
        "\n",
        "  * useful for recoding (when `ifelse` is not enough)\n",
        "\n",
        "* `separate()`\n",
        "\n",
        "  * separate two variables by some separator\n",
        "\n",
        "* `pivot_wider()`\n",
        "\n",
        "  * turn data into wide format\n",
        "\n",
        "* `pivot_longer()`\n",
        "\n",
        "  * turn data into long format\n"
      ]
    },
    {
      "cell_type": "markdown",
      "metadata": {
        "id": "xsQ4j9ZkfLsS"
      },
      "source": [
        "## Task 1\n",
        "\n",
        "Load the `tidyverse` and `janitor` packages.\n",
        "\n",
        "If `janitor` is not installed yet (it will say `janitor` not found) install it."
      ]
    },
    {
      "cell_type": "code",
      "metadata": {
        "id": "PUSRP4Alo4sq"
      },
      "source": [
        ""
      ],
      "execution_count": null,
      "outputs": []
    },
    {
      "cell_type": "markdown",
      "metadata": {
        "id": "WD82xkkZdwt7"
      },
      "source": [
        "## Task 2\n",
        "\n",
        "Read in the already cleaned `palmerpenguins` dataset using \n",
        "\n",
        "* `read_csv`\n",
        "* the following url: https://raw.githubusercontent.com/allisonhorst/palmerpenguins/master/inst/extdata/penguins.csv\n",
        "\n",
        "Assign the resulting data to `penguins`.\n",
        "\n",
        "Then take a look a look at it using `glimpse`. \n",
        "\n",
        "What kind of variables can you recognize?"
      ]
    },
    {
      "cell_type": "code",
      "metadata": {
        "id": "LKRyx8Ksd-zP"
      },
      "source": [
        ""
      ],
      "execution_count": null,
      "outputs": []
    },
    {
      "cell_type": "code",
      "metadata": {
        "id": "1mKVaNdDQChz"
      },
      "source": [
        ""
      ],
      "execution_count": null,
      "outputs": []
    },
    {
      "cell_type": "markdown",
      "metadata": {
        "id": "c_kdn4B0dSsE"
      },
      "source": [
        "## Task 3\n",
        "\n",
        "Only keep the variables: `species`, `island` and `sex`."
      ]
    },
    {
      "cell_type": "code",
      "metadata": {
        "id": "4wFZSbTUdnXF"
      },
      "source": [
        ""
      ],
      "execution_count": null,
      "outputs": []
    },
    {
      "cell_type": "markdown",
      "metadata": {
        "id": "Xs72GsH_Aqlu"
      },
      "source": [
        "Only keep variables 2 to 4."
      ]
    },
    {
      "cell_type": "code",
      "metadata": {
        "id": "g33Dh-xAAvgA"
      },
      "source": [
        ""
      ],
      "execution_count": null,
      "outputs": []
    },
    {
      "cell_type": "markdown",
      "metadata": {
        "id": "xUxkQpArAwyV"
      },
      "source": [
        "Remove the column year."
      ]
    },
    {
      "cell_type": "code",
      "metadata": {
        "id": "SCnW8mjpA7Wd"
      },
      "source": [
        ""
      ],
      "execution_count": null,
      "outputs": []
    },
    {
      "cell_type": "markdown",
      "metadata": {
        "id": "20BNw5w-A7x-"
      },
      "source": [
        "Only include columns that contain \"mm\" in the variable name."
      ]
    },
    {
      "cell_type": "code",
      "metadata": {
        "id": "goNoPRn4BJJ1"
      },
      "source": [
        ""
      ],
      "execution_count": null,
      "outputs": []
    },
    {
      "cell_type": "markdown",
      "metadata": {
        "id": "6Cmk_J5dkZ5x"
      },
      "source": [
        "## Task 4\n",
        "\n",
        "Rename `island` to `location`."
      ]
    },
    {
      "cell_type": "code",
      "metadata": {
        "id": "9ak3l34hkd6y"
      },
      "source": [
        ""
      ],
      "execution_count": null,
      "outputs": []
    },
    {
      "cell_type": "markdown",
      "metadata": {
        "id": "P_dSD-NOgJQt"
      },
      "source": [
        "## Task 5\n",
        "\n",
        "Filter the data so that `species` only includes `Chinstrap`."
      ]
    },
    {
      "cell_type": "code",
      "metadata": {
        "id": "OiPsTiEMhHjG"
      },
      "source": [
        ""
      ],
      "execution_count": null,
      "outputs": []
    },
    {
      "cell_type": "markdown",
      "metadata": {
        "id": "t5sEFmqljdRg"
      },
      "source": [
        "Filter the data so that `species` only includes `Chinstrap` or `Gentoo`.\n",
        "\n",
        "\n"
      ]
    },
    {
      "cell_type": "code",
      "metadata": {
        "id": "jen42fbqjm7f"
      },
      "source": [
        ""
      ],
      "execution_count": null,
      "outputs": []
    },
    {
      "cell_type": "markdown",
      "metadata": {
        "id": "keuew_VHjntD"
      },
      "source": [
        "Filter the data so it includes only penguins that are `male` *and* of the species `Adelie`."
      ]
    },
    {
      "cell_type": "code",
      "metadata": {
        "id": "XpXNo3Pej6TA"
      },
      "source": [
        ""
      ],
      "execution_count": null,
      "outputs": []
    },
    {
      "cell_type": "markdown",
      "metadata": {
        "id": "dyejLU_ko5GR"
      },
      "source": [
        "## Task 6\n",
        "\n",
        "Create three new variables that calculates `bill_length_mm` and `bill_depth_mm` and `flipper_length_mm` from milimeter to centimeter.\n",
        "  \n",
        "Tip: divide the length value by 10.\n"
      ]
    },
    {
      "cell_type": "code",
      "metadata": {
        "id": "vY9WXa6lo6un"
      },
      "source": [
        ""
      ],
      "execution_count": null,
      "outputs": []
    },
    {
      "cell_type": "code",
      "metadata": {
        "id": "zP2ZlbJgkbSP"
      },
      "source": [
        ""
      ],
      "execution_count": null,
      "outputs": []
    },
    {
      "cell_type": "code",
      "metadata": {
        "id": "hsct36RckbfL"
      },
      "source": [
        ""
      ],
      "execution_count": null,
      "outputs": []
    },
    {
      "cell_type": "markdown",
      "metadata": {
        "id": "DD3EQX33Pmqg"
      },
      "source": [
        "Create a new variable called `bill_depth_cat` which has two values:\n",
        "\n",
        "* Everything above a bill depth of 18mm and 18mm itself is \"high\"\n",
        "* Everything below a bill depth of 18mm is \"low\""
      ]
    },
    {
      "cell_type": "code",
      "metadata": {
        "id": "pR1uMdTnQMAU"
      },
      "source": [
        ""
      ],
      "execution_count": null,
      "outputs": []
    },
    {
      "cell_type": "markdown",
      "metadata": {
        "id": "TVHxG2IqQvxF"
      },
      "source": [
        "Create a new variable called `species_short`.\n",
        "\n",
        "* `Adelie` should become `A`\n",
        "* `Chinstrap` should become `C`\n",
        "* `Gentoo` should become `G`"
      ]
    },
    {
      "cell_type": "code",
      "metadata": {
        "id": "-xtWUJftRMHZ"
      },
      "source": [
        ""
      ],
      "execution_count": null,
      "outputs": []
    },
    {
      "cell_type": "markdown",
      "metadata": {
        "id": "99_BJtkZo7Lg"
      },
      "source": [
        "## Task 7\n",
        "\n",
        "Calculate the average `body_mass_g` per `island`.\n",
        "\n"
      ]
    },
    {
      "cell_type": "code",
      "metadata": {
        "id": "EdG94ovao8Y6"
      },
      "source": [
        ""
      ],
      "execution_count": null,
      "outputs": []
    },
    {
      "cell_type": "markdown",
      "metadata": {
        "id": "VnoU7FuZlMCp"
      },
      "source": [
        "If you haven't done so already, try using the `%>%` operator to do this."
      ]
    },
    {
      "cell_type": "code",
      "metadata": {
        "id": "WKiQUfy1lQex"
      },
      "source": [
        ""
      ],
      "execution_count": null,
      "outputs": []
    },
    {
      "cell_type": "markdown",
      "metadata": {
        "id": "oSm-AStBkwQm"
      },
      "source": [
        "## Task 8\n",
        "\n",
        "Use the pipe operator (`%>%`) to do all the operations below.\n",
        "\n",
        "\n",
        "\n",
        "1. Filter the `penguins` data so that it only includes `Chinstrap` or `Adelie`.\n",
        "2. Rename `sex` to `observed_sex`\n",
        "3. Only keep the variables `species`, `observed_sex`, `bill_length_mm` and `bill_depth_mm`\n",
        "4. Calculate the ratio between `bill_length_mm` and `bill_depth_mm`\n",
        "5. Sort the data by the highest ratio\n",
        "\n",
        "Try to create the pipe step by step and execute code as you go to see if it works.\n",
        "\n",
        "Once you are done, assign the data to `new_penguins`.\n"
      ]
    },
    {
      "cell_type": "code",
      "metadata": {
        "id": "BdIIdH7UmH15"
      },
      "source": [
        ""
      ],
      "execution_count": null,
      "outputs": []
    },
    {
      "cell_type": "markdown",
      "metadata": {
        "id": "0KaXi2pVmIhA"
      },
      "source": [
        "Calculate the average ratio by `species` and `sex`, again using pipes."
      ]
    },
    {
      "cell_type": "code",
      "metadata": {
        "id": "T5Crc7cWmglO"
      },
      "source": [
        ""
      ],
      "execution_count": null,
      "outputs": []
    },
    {
      "cell_type": "markdown",
      "metadata": {
        "id": "OtlIgudJBuDV"
      },
      "source": [
        "## Task 9"
      ]
    },
    {
      "cell_type": "markdown",
      "metadata": {
        "id": "uSjyewRlBx-d"
      },
      "source": [
        "Count the number of penguins by island and species."
      ]
    },
    {
      "cell_type": "code",
      "metadata": {
        "id": "6KtvbYstBw2S"
      },
      "source": [
        ""
      ],
      "execution_count": null,
      "outputs": []
    },
    {
      "cell_type": "markdown",
      "metadata": {
        "id": "M331vffTB3eH"
      },
      "source": [
        "## Task 10\n",
        "\n",
        "Below is a dataset that needs some cleaning.\n",
        "\n",
        "Use the skills that you have learned so far to turn the data into a tidy dataset."
      ]
    },
    {
      "cell_type": "code",
      "metadata": {
        "id": "i44CF-cAB7Ku"
      },
      "source": [
        "my_animals <- table(\n",
        "  Names = c(\"Francis\", \"Catniss\", \"Theodor\", \"Eugenia\"),\n",
        "  TheAnimals = c(\"Dog\", \"Cat\", \"Hamster\", \"Rabbit\"),\n",
        "  Sex = c(\"m\", \"f\", \"m\", \"f\"),\n",
        "  oWnerr = c(\"me\", \"me\", \"me\", \"me\"),\n",
        "  `Age/Adopted/Condition` = c(\"8/2020/Very Good\", \"13/2019/Wild\", \"1/2021/Fair\", \"2/2020/Good\")    \n",
        ") "
      ],
      "execution_count": null,
      "outputs": []
    },
    {
      "cell_type": "markdown",
      "metadata": {
        "id": "-6Pgv5_JZLLp"
      },
      "source": [
        "Start here:"
      ]
    },
    {
      "cell_type": "code",
      "metadata": {
        "id": "Ih11dfMVZKOL"
      },
      "source": [
        ""
      ],
      "execution_count": null,
      "outputs": []
    },
    {
      "cell_type": "markdown",
      "metadata": {
        "id": "Z5CA9GVsGalF"
      },
      "source": [
        "If you are done, turn the final data into long format."
      ]
    },
    {
      "cell_type": "code",
      "metadata": {
        "id": "RXTIX97xFKIQ"
      },
      "source": [
        ""
      ],
      "execution_count": null,
      "outputs": []
    }
  ]
}